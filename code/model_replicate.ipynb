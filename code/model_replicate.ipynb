{
 "cells": [
  {
   "cell_type": "markdown",
   "id": "b18acd2d",
   "metadata": {},
   "source": [
    "## GNN model "
   ]
  },
  {
   "cell_type": "code",
   "execution_count": 1,
   "id": "41792a0b",
   "metadata": {},
   "outputs": [],
   "source": [
    "%load_ext autoreload\n",
    "%autoreload 2"
   ]
  },
  {
   "cell_type": "code",
   "execution_count": 1,
   "id": "663c6732",
   "metadata": {},
   "outputs": [],
   "source": [
    "import os\n",
    "import sys\n",
    "import numpy as np\n",
    "import itertools\n",
    "import pandas as pd\n",
    "import datetime\n",
    "import seaborn as sns\n",
    "import ogb\n",
    "from tqdm import tqdm\n",
    "import hiplot as hip\n",
    "from copy import deepcopy\n",
    "import datetime\n",
    "import json"
   ]
  },
  {
   "cell_type": "code",
   "execution_count": 2,
   "id": "568dc1b4",
   "metadata": {},
   "outputs": [
    {
     "name": "stdout",
     "output_type": "stream",
     "text": [
      "/Users/aliciapliego/Projects/drug_synergy/AI-predict/code\n",
      "/Users/aliciapliego/Projects/drug_synergy/AI-predict\n"
     ]
    }
   ],
   "source": [
    "cwd = os.getcwd()\n",
    "print(cwd)\n",
    "cwd_parent = os.path.abspath(os.path.join(cwd, os.pardir))\n",
    "print(cwd_parent)\n",
    "\n",
    "sys.path.append(cwd_parent)"
   ]
  },
  {
   "cell_type": "code",
   "execution_count": 3,
   "id": "990b5dc0",
   "metadata": {},
   "outputs": [],
   "source": [
    "#Others \n",
    "import pickle\n",
    "import deepadr\n",
    "from deepadr.dataset import *"
   ]
  },
  {
   "cell_type": "code",
   "execution_count": 4,
   "id": "ef5a00b4",
   "metadata": {},
   "outputs": [],
   "source": [
    "import torch\n",
    "import torch.nn as nn\n",
    "from torch_geometric.data import InMemoryDataset\n",
    "from torch_geometric.data import Data\n",
    "from torch_geometric.loader import DataLoader\n",
    "from torch.utils.data import Subset, TensorDataset"
   ]
  },
  {
   "cell_type": "code",
   "execution_count": 5,
   "id": "aec3d1e2",
   "metadata": {
    "scrolled": true
   },
   "outputs": [
    {
     "name": "stdout",
     "output_type": "stream",
     "text": [
      "/Users/aliciapliego/Projects/drug_synergy/AI-predict/code\n",
      "/Users/aliciapliego/Projects/drug_synergy/AI-predict\n"
     ]
    }
   ],
   "source": [
    "cwd = os.getcwd()\n",
    "print(cwd)\n",
    "cwd_parent = os.path.abspath(os.path.join(cwd, os.pardir))\n",
    "print(cwd_parent)\n",
    "\n",
    "sys.path.append(cwd_parent)"
   ]
  },
  {
   "cell_type": "code",
   "execution_count": 6,
   "id": "7d99a928",
   "metadata": {},
   "outputs": [],
   "source": [
    "from rdkit.Chem.Draw import IPythonConsole\n",
    "from rdkit.Chem import Draw"
   ]
  },
  {
   "cell_type": "code",
   "execution_count": 7,
   "id": "8b9e5d34",
   "metadata": {},
   "outputs": [],
   "source": [
    "rawdata_dir = '../data/raw/'\n",
    "processed_dir = '../data/processed/'\n",
    "up_dir = '..'\n",
    "targetdata_dir_raw = '../data/processed/dataset_generation/raw'"
   ]
  },
  {
   "cell_type": "code",
   "execution_count": 8,
   "id": "865f3152",
   "metadata": {},
   "outputs": [],
   "source": [
    "n_gpu = torch.cuda.device_count()\n",
    "n_gpu\n",
    "device = torch.device(\"cuda:0\" if torch.cuda.is_available() else \"cpu\")"
   ]
  },
  {
   "cell_type": "code",
   "execution_count": 9,
   "id": "1fafd47c",
   "metadata": {},
   "outputs": [
    {
     "name": "stdout",
     "output_type": "stream",
     "text": [
      "../data/processed/dataset_generation/experiments\n"
     ]
    }
   ],
   "source": [
    "#targetdata_dir = create_directory(os.path.join(processed_dir, DSdataset_name, data_fname))\n",
    "#targetdata_dir_raw = create_directory(os.path.join(targetdata_dir, \"raw\"))\n",
    "#targetdata_dir_processed = create_directory(os.path.join(targetdata_dir, \"processed\"))\n",
    "targetdata_dir_exp = \"../data/processed/dataset_generation/experiments\"\n",
    "# # ReaderWriter.dump_data(dpartitions, os.path.join(targetdata_dir, 'data_partitions.pkl'))\n",
    "print(targetdata_dir_exp)"
   ]
  },
  {
   "cell_type": "code",
   "execution_count": 10,
   "id": "b95fc5ee",
   "metadata": {},
   "outputs": [
    {
     "data": {
      "text/plain": [
       "0"
      ]
     },
     "execution_count": 10,
     "metadata": {},
     "output_type": "execute_result"
    }
   ],
   "source": [
    "import glob\n",
    "exp_dirs = glob.glob(targetdata_dir_exp+\"/hyp/exp_*\")\n",
    "len(exp_dirs)"
   ]
  },
  {
   "cell_type": "code",
   "execution_count": 11,
   "id": "fe6233c0",
   "metadata": {},
   "outputs": [],
   "source": [
    "targetdata_dir_raw = os.path.abspath( \"/Users/aliciapliego/Projects/drug_synergy/AI-predict/data/processed/dataset_generation/raw\")\n",
    "#targetdata_dir_processed = os.path.abspath(\"/Users/aliciapliego/Projects/drug_synergy/AI-predict/data/processed/dataset_generation/processed\")"
   ]
  },
  {
   "cell_type": "markdown",
   "id": "f95cb1c2",
   "metadata": {},
   "source": [
    "#### Generate Dataset "
   ]
  },
  {
   "cell_type": "code",
   "execution_count": 12,
   "id": "002a1a87",
   "metadata": {},
   "outputs": [],
   "source": [
    "targetdata_dir = \"/Users/aliciapliego/Projects/drug_synergy/AI-predict/data/processed/dataset_generation/\""
   ]
  },
  {
   "cell_type": "code",
   "execution_count": 13,
   "id": "9039b1f4",
   "metadata": {},
   "outputs": [
    {
     "data": {
      "text/plain": [
       "'/Users/aliciapliego/Projects/drug_synergy/AI-predict/data/processed/dataset_generation/'"
      ]
     },
     "execution_count": 13,
     "metadata": {},
     "output_type": "execute_result"
    }
   ],
   "source": [
    "targetdata_dir"
   ]
  },
  {
   "cell_type": "code",
   "execution_count": 14,
   "id": "76959e42",
   "metadata": {},
   "outputs": [],
   "source": [
    "targetdata_dir_processed = os.path.abspath(\"/Users/aliciapliego/Projects/drug_synergy/graphnn_kyriakos/data/processed/DrugComb_zip_thresh_1/data_v1/processed\")"
   ]
  },
  {
   "cell_type": "code",
   "execution_count": 15,
   "id": "c6af92ac",
   "metadata": {},
   "outputs": [],
   "source": [
    "dataset = MoleculeDataset(root=targetdata_dir,  dataset='tdcSynergy')"
   ]
  },
  {
   "cell_type": "code",
   "execution_count": 16,
   "id": "7b07baf5",
   "metadata": {},
   "outputs": [],
   "source": [
    "#dataset = MoleculeDataset(root=targetdata_dir,  dataset='tdcSynergy')"
   ]
  },
  {
   "cell_type": "code",
   "execution_count": 17,
   "id": "7cda381e",
   "metadata": {},
   "outputs": [
    {
     "data": {
      "text/plain": [
       "PairData(edge_index_a=[2, 15305430], x_a=[7069479, 9], edge_attr_a=[15305430, 3], edge_index_b=[2, 13680958], x_b=[6405928, 9], edge_attr_b=[13680958, 3], id=[233326], y=[233326, 4], expression=[233326, 100])"
      ]
     },
     "execution_count": 17,
     "metadata": {},
     "output_type": "execute_result"
    }
   ],
   "source": [
    "dataset.data"
   ]
  },
  {
   "cell_type": "code",
   "execution_count": 18,
   "id": "e93a71fd",
   "metadata": {},
   "outputs": [
    {
     "name": "stdout",
     "output_type": "stream",
     "text": [
      "Dataset: MoleculeDataset(233326):\n",
      "====================\n",
      "Number of graphs: 233326\n",
      "Number of features: 9\n",
      "Number of classes: 4\n"
     ]
    }
   ],
   "source": [
    "print(f'Dataset: {dataset}:')\n",
    "print('====================')\n",
    "print(f'Number of graphs: {len(dataset)}')\n",
    "print(f'Number of features: {dataset.num_features}')\n",
    "print(f'Number of classes: {dataset.num_classes}') # number of synergy scores"
   ]
  },
  {
   "cell_type": "code",
   "execution_count": 19,
   "id": "9f0cba33",
   "metadata": {},
   "outputs": [],
   "source": [
    "# used_dataset = dataset\n",
    "# If you want to use a smaller subset of the dataset for testing\n",
    "\n",
    "smaller_dataset_len = int(len(dataset)/5)\n",
    "used_dataset = dataset[:smaller_dataset_len]"
   ]
  },
  {
   "cell_type": "markdown",
   "id": "c173960b",
   "metadata": {},
   "source": [
    "### Hyperparameters"
   ]
  },
  {
   "cell_type": "code",
   "execution_count": 20,
   "id": "d877a5c7",
   "metadata": {},
   "outputs": [],
   "source": [
    "#Hyperparameters\n",
    "tp = {\n",
    "   # \"batch_size\" : 300,\n",
    "    \"num_epochs\" : 5,\n",
    "    \n",
    "    \"emb_dim\" : 300,\n",
    "    \"gnn_type\" : \"gatv2\",\n",
    "    \"num_layer\" : 5,\n",
    "    \"graph_pooling\" : \"mean\", #attention\n",
    "    \n",
    "    \"input_embed_dim\" : None,\n",
    "    \"gene_embed_dim\": 1,\n",
    "    \"num_attn_heads\" : 2,\n",
    "    \"num_transformer_units\" : 1,\n",
    "    \"p_dropout\" : 0.3,\n",
    "#     \"nonlin_func\" : nn.ReLU(),\n",
    "    \"mlp_embed_factor\" : 2,\n",
    "    \"pooling_mode\" : 'attn',\n",
    "    \"dist_opt\" : 'cosine',\n",
    "\n",
    "    \"base_lr\" : 3e-4, #3e-4\n",
    "    \"max_lr_mul\": 5,\n",
    "    \"l2_reg\" : 1e-5,\n",
    "    \"loss_w\" : 1.,\n",
    "    \"margin_v\" : 1.,\n",
    "\n",
    "    \"expression_dim\" : 64,\n",
    "    \"expression_input_size\" : 908,\n",
    "    \"exp_H1\" : 4096,\n",
    "    \"exp_H2\" : 2048\n",
    "}"
   ]
  },
  {
   "cell_type": "code",
   "execution_count": 21,
   "id": "38209007",
   "metadata": {},
   "outputs": [],
   "source": [
    "# input_embed_dim = [128]\n",
    "# num_attn_heads = [2] # 2,4\n",
    "# num_transformer_units = [1]\n",
    "emb_dim = [100]\n",
    "num_layer = [5]\n",
    "p_dropout = [0.3]\n",
    "# nonlin_func = [nn.ReLU()]\n",
    "# mlp_embed_factor = [2]\n",
    "# pooling_mode = ['attn']\n",
    "# dist_opt = ['cosine']\n",
    "l2_reg = [1e-7] #0\n",
    "# batch_size = [300]\n",
    "# num_epochs = [200]\n",
    "# loss_w = [0.95] # 0.05, \n",
    "base_lr = [3e-4]\n",
    "max_lr_mul = [10]\n",
    "exp_H1 = [512, 1024, 2048, 4096]\n",
    "exp_H2 = [512, 1024]\n"
   ]
  },
  {
   "cell_type": "code",
   "execution_count": 22,
   "id": "6bd07f55",
   "metadata": {},
   "outputs": [],
   "source": [
    "hp_names = [\"num_layer\",\n",
    "            \"p_dropout\",\n",
    "            \"l2_reg\",\n",
    "            \"emb_dim\",\n",
    "#             \"loss_w\",\n",
    "#            \"num_transformer_units\",\n",
    "#            \"batch_size\",\n",
    "           \"base_lr\",\n",
    "           \"max_lr_mul\",\n",
    "           \"exp_H1\",\n",
    "           \"exp_H2\"]"
   ]
  },
  {
   "cell_type": "code",
   "execution_count": 23,
   "id": "f2bbd17d",
   "metadata": {},
   "outputs": [
    {
     "data": {
      "text/plain": [
       "[[5],\n",
       " [0.3],\n",
       " [1e-07],\n",
       " [100],\n",
       " [0.0003],\n",
       " [10],\n",
       " [512, 1024, 2048, 4096],\n",
       " [512, 1024]]"
      ]
     },
     "execution_count": 23,
     "metadata": {},
     "output_type": "execute_result"
    }
   ],
   "source": [
    "[globals()[i] for i in hp_names]"
   ]
  },
  {
   "cell_type": "code",
   "execution_count": 24,
   "id": "54fad92c",
   "metadata": {},
   "outputs": [
    {
     "name": "stdout",
     "output_type": "stream",
     "text": [
      "8\n"
     ]
    }
   ],
   "source": [
    "hyperparam_space = list(itertools.product(*[globals()[i] for i in hp_names]))\n",
    "print(len(hyperparam_space))"
   ]
  },
  {
   "cell_type": "code",
   "execution_count": 25,
   "id": "801335ad",
   "metadata": {},
   "outputs": [
    {
     "data": {
      "text/plain": [
       "(5, 0.3, 1e-07, 100, 0.0003, 10, 512, 512)"
      ]
     },
     "execution_count": 25,
     "metadata": {},
     "output_type": "execute_result"
    }
   ],
   "source": [
    "hyperparam_space[0]"
   ]
  },
  {
   "cell_type": "code",
   "execution_count": 26,
   "id": "daceead5",
   "metadata": {},
   "outputs": [
    {
     "data": {
      "text/plain": [
       "<module 'torch.utils.data' from '/usr/local/lib/python3.9/site-packages/torch/utils/data/__init__.py'>"
      ]
     },
     "execution_count": 26,
     "metadata": {},
     "output_type": "execute_result"
    }
   ],
   "source": [
    "data"
   ]
  },
  {
   "cell_type": "markdown",
   "id": "549e1c27",
   "metadata": {},
   "source": [
    "### write hyperparameters into file"
   ]
  },
  {
   "cell_type": "code",
   "execution_count": 27,
   "id": "e5456272",
   "metadata": {},
   "outputs": [],
   "source": [
    "num_classes = 4"
   ]
  },
  {
   "cell_type": "code",
   "execution_count": 28,
   "id": "73e2d92b",
   "metadata": {},
   "outputs": [],
   "source": [
    "#targetdata_dir_raw = os.path.abspath( \"/Users/aliciapliego/Projects/drug_synergy/AI-predict/data/processed/dataset_generation/raw\")\n",
    "#targetdata_dir_processed = os.path.abspath(\"/Users/aliciapliego/Projects/drug_synergy/AI-predict/data/processed/dataset_generation/processed\")\n",
    "#targetdata_dir_exp = \"/Users/aliciapliego/Projects/drug_synergy/AI-predict/data/processed/dataset_generation/experiments\"\n",
    "\n",
    "exp_dir = os.path.join(targetdata_dir_exp, \"exp_\"+\"try\")\n",
    "state_dict_dir = os.path.join(exp_dir, 'modelstates')\n"
   ]
  },
  {
   "cell_type": "code",
   "execution_count": 29,
   "id": "208c14ab",
   "metadata": {},
   "outputs": [],
   "source": [
    "\n",
    "#device_gpu = get_device(True, index=gpu_num)\n",
    "#print(\"gpu:\", device_gpu)\n",
    "\n",
    "# Serialize data into file:\n",
    "json.dump( tp, open( exp_dir + \"/hyperparameters.json\", 'w' ) )\n",
    "tp['nonlin_func'] = nn.ReLU()\n"
   ]
  },
  {
   "cell_type": "code",
   "execution_count": 30,
   "id": "51b68ec1",
   "metadata": {},
   "outputs": [
    {
     "data": {
      "text/plain": [
       "{'num_epochs': 5,\n",
       " 'emb_dim': 300,\n",
       " 'gnn_type': 'gatv2',\n",
       " 'num_layer': 5,\n",
       " 'graph_pooling': 'mean',\n",
       " 'input_embed_dim': None,\n",
       " 'gene_embed_dim': 1,\n",
       " 'num_attn_heads': 2,\n",
       " 'num_transformer_units': 1,\n",
       " 'p_dropout': 0.3,\n",
       " 'mlp_embed_factor': 2,\n",
       " 'pooling_mode': 'attn',\n",
       " 'dist_opt': 'cosine',\n",
       " 'base_lr': 0.0003,\n",
       " 'max_lr_mul': 5,\n",
       " 'l2_reg': 1e-05,\n",
       " 'loss_w': 1.0,\n",
       " 'margin_v': 1.0,\n",
       " 'expression_dim': 64,\n",
       " 'expression_input_size': 908,\n",
       " 'exp_H1': 4096,\n",
       " 'exp_H2': 2048,\n",
       " 'nonlin_func': ReLU()}"
      ]
     },
     "execution_count": 30,
     "metadata": {},
     "output_type": "execute_result"
    }
   ],
   "source": [
    "tp"
   ]
  },
  {
   "cell_type": "markdown",
   "id": "d704f52f",
   "metadata": {},
   "source": [
    "#### Data partitioning"
   ]
  },
  {
   "cell_type": "code",
   "execution_count": 31,
   "id": "ae4aa63b",
   "metadata": {},
   "outputs": [],
   "source": [
    "from sklearn.model_selection import StratifiedShuffleSplit, ShuffleSplit\n",
    "train_val = ShuffleSplit(n_splits = 2)"
   ]
  },
  {
   "cell_type": "code",
   "execution_count": 32,
   "id": "a21fd1a2",
   "metadata": {
    "scrolled": false
   },
   "outputs": [
    {
     "name": "stdout",
     "output_type": "stream",
     "text": [
      "[   786 126183 115522 ... 122414  94566 209072]\n",
      "[217081   4640 222023 ... 223114 135108 122499]\n"
     ]
    }
   ],
   "source": [
    "for train_index, val_index in train_val.split(dataset):\n",
    "    print(train_index)\n",
    "    "
   ]
  },
  {
   "cell_type": "code",
   "execution_count": 33,
   "id": "774edb0f",
   "metadata": {},
   "outputs": [
    {
     "name": "stdout",
     "output_type": "stream",
     "text": [
      "[138409  61772 156304 ... 170676  90384  92697]\n",
      "[  2382 190731  76957 ... 157722  76911    693]\n"
     ]
    }
   ],
   "source": [
    "for train_index, test_index in train_val.split(dataset):\n",
    "    print(train_index)\n",
    "    "
   ]
  },
  {
   "cell_type": "code",
   "execution_count": 34,
   "id": "673d030f",
   "metadata": {},
   "outputs": [],
   "source": [
    "train_sampler = Subset(dataset, train_index)\n",
    "validation_sampler = Subset(dataset, val_index)"
   ]
  },
  {
   "cell_type": "code",
   "execution_count": 35,
   "id": "bbbfb5f5",
   "metadata": {},
   "outputs": [
    {
     "data": {
      "text/plain": [
       "23333"
      ]
     },
     "execution_count": 35,
     "metadata": {},
     "output_type": "execute_result"
    }
   ],
   "source": [
    "len(validation_sampler)"
   ]
  },
  {
   "cell_type": "code",
   "execution_count": 36,
   "id": "98b7cf57",
   "metadata": {},
   "outputs": [
    {
     "data": {
      "text/plain": [
       "209993"
      ]
     },
     "execution_count": 36,
     "metadata": {},
     "output_type": "execute_result"
    }
   ],
   "source": [
    "len(train_sampler)"
   ]
  },
  {
   "cell_type": "code",
   "execution_count": 37,
   "id": "a6ff4386",
   "metadata": {},
   "outputs": [],
   "source": [
    "batch_size = 16\n",
    "train_loader = DataLoader(train_sampler, batch_size=batch_size, shuffle=True, follow_batch=['x_a', 'x_b'])\n",
    "valid_loader = DataLoader(validation_sampler, batch_size=batch_size, shuffle=False, follow_batch=['x_a', 'x_b'])"
   ]
  },
  {
   "cell_type": "code",
   "execution_count": 38,
   "id": "15b0d8e9",
   "metadata": {},
   "outputs": [
    {
     "data": {
      "text/plain": [
       "13125"
      ]
     },
     "execution_count": 38,
     "metadata": {},
     "output_type": "execute_result"
    }
   ],
   "source": [
    "len(train_loader)"
   ]
  },
  {
   "cell_type": "code",
   "execution_count": 39,
   "id": "50c3b39a",
   "metadata": {},
   "outputs": [
    {
     "data": {
      "text/plain": [
       "1459"
      ]
     },
     "execution_count": 39,
     "metadata": {},
     "output_type": "execute_result"
    }
   ],
   "source": [
    "len(valid_loader)"
   ]
  },
  {
   "cell_type": "code",
   "execution_count": 40,
   "id": "1eb796de",
   "metadata": {},
   "outputs": [],
   "source": [
    "loaders = {\"train\": train_loader, \"valid\": valid_loader}\n"
   ]
  },
  {
   "cell_type": "markdown",
   "id": "60ffb828",
   "metadata": {},
   "source": [
    "### Graph NN"
   ]
  },
  {
   "cell_type": "code",
   "execution_count": 41,
   "id": "c265f47f",
   "metadata": {},
   "outputs": [],
   "source": [
    "from deepadr.model_gnn_ogb import GNN, DeepSynergy\n",
    "gnn_model = GNN(gnn_type = tp[\"gnn_type\"], \n",
    "                num_layer = tp[\"num_layer\"], \n",
    "                emb_dim = tp[\"emb_dim\"], \n",
    "                drop_ratio = 0.5, \n",
    "                JK = \"multilayer\", #last\n",
    "                graph_pooling = tp[\"graph_pooling\"],\n",
    "                virtual_node = False,\n",
    "                with_edge_attr=False)\n",
    "\n"
   ]
  },
  {
   "cell_type": "markdown",
   "id": "545e1583",
   "metadata": {},
   "source": [
    "### Gene expression data model "
   ]
  },
  {
   "cell_type": "code",
   "execution_count": 42,
   "id": "10faaf21",
   "metadata": {},
   "outputs": [],
   "source": [
    "#Expression data is StandardScaled\n",
    "expression_scaler = TorchStandardScaler()\n",
    "expression_scaler.fit(used_dataset.data.expression)"
   ]
  },
  {
   "cell_type": "code",
   "execution_count": 43,
   "id": "2b513fc3",
   "metadata": {},
   "outputs": [
    {
     "name": "stdout",
     "output_type": "stream",
     "text": [
      "Dropout(p=0.3, inplace=False) Dropout(p=0.3, inplace=False)\n"
     ]
    }
   ],
   "source": [
    "expression_model = DeepSynergy(D_in=(2*tp[\"emb_dim\"])+tp[\"expression_input_size\"],\n",
    "                                   H1=tp['exp_H1'], H2=tp['exp_H2'], drop=tp['p_dropout'])\n",
    "model_name = \"ogb\"\n",
    "models = [(gnn_model, f'{model_name}_GNN'),\n",
    "              (expression_model, f'{model_name}_Expression')]\n"
   ]
  },
  {
   "cell_type": "markdown",
   "id": "ac1fc671",
   "metadata": {},
   "source": [
    "### Training"
   ]
  },
  {
   "cell_type": "code",
   "execution_count": 44,
   "id": "de12070f",
   "metadata": {},
   "outputs": [],
   "source": [
    "import torch.nn.functional as F\n",
    "from torch import nn, optim"
   ]
  },
  {
   "cell_type": "code",
   "execution_count": 45,
   "id": "ccb6754f",
   "metadata": {},
   "outputs": [
    {
     "ename": "NameError",
     "evalue": "name 'h_a' is not defined",
     "output_type": "error",
     "traceback": [
      "\u001b[0;31m---------------------------------------------------------------------------\u001b[0m",
      "\u001b[0;31mNameError\u001b[0m                                 Traceback (most recent call last)",
      "Input \u001b[0;32mIn [45]\u001b[0m, in \u001b[0;36m<module>\u001b[0;34m\u001b[0m\n\u001b[1;32m      1\u001b[0m \u001b[38;5;66;03m#print(\"Triple shape:\",triplet.shape)\u001b[39;00m\n\u001b[0;32m----> 2\u001b[0m \u001b[38;5;28mprint\u001b[39m(\u001b[38;5;124m\"\u001b[39m\u001b[38;5;124mh_a shape:\u001b[39m\u001b[38;5;124m\"\u001b[39m,\u001b[43mh_a\u001b[49m\u001b[38;5;241m.\u001b[39mshape)\n\u001b[1;32m      3\u001b[0m \u001b[38;5;28mprint\u001b[39m(\u001b[38;5;124m\"\u001b[39m\u001b[38;5;124mh_b shape:\u001b[39m\u001b[38;5;124m\"\u001b[39m,h_b\u001b[38;5;241m.\u001b[39mshape)\n\u001b[1;32m      4\u001b[0m \u001b[38;5;28mprint\u001b[39m(\u001b[38;5;124m\"\u001b[39m\u001b[38;5;124mh_e shape:\u001b[39m\u001b[38;5;124m\"\u001b[39m,h_e\u001b[38;5;241m.\u001b[39mshape)\n",
      "\u001b[0;31mNameError\u001b[0m: name 'h_a' is not defined"
     ]
    }
   ],
   "source": [
    "#print(\"Triple shape:\",triplet.shape)\n",
    "print(\"h_a shape:\",h_a.shape)\n",
    "print(\"h_b shape:\",h_b.shape)\n",
    "print(\"h_e shape:\",h_e.shape)"
   ]
  },
  {
   "cell_type": "code",
   "execution_count": 46,
   "id": "886fbbeb",
   "metadata": {},
   "outputs": [],
   "source": [
    "#To match to 700-->\n",
    "D_in = (2*tp[\"emb_dim\"])+tp[\"expression_input_size\"]"
   ]
  },
  {
   "cell_type": "code",
   "execution_count": 47,
   "id": "21c715a3",
   "metadata": {},
   "outputs": [
    {
     "name": "stdout",
     "output_type": "stream",
     "text": [
      "tensor([[5, 0, 4,  ..., 2, 0, 1],\n",
      "        [5, 0, 4,  ..., 2, 0, 1],\n",
      "        [5, 0, 3,  ..., 1, 0, 1],\n",
      "        ...,\n",
      "        [5, 0, 4,  ..., 2, 0, 0],\n",
      "        [5, 0, 4,  ..., 2, 0, 0],\n",
      "        [5, 0, 4,  ..., 2, 0, 0]], dtype=torch.int32)\n",
      "tensor([[5, 0, 4,  ..., 2, 0, 1],\n",
      "        [5, 0, 4,  ..., 2, 0, 1],\n",
      "        [5, 0, 4,  ..., 2, 0, 1],\n",
      "        ...,\n",
      "        [5, 0, 3,  ..., 1, 0, 1],\n",
      "        [5, 0, 4,  ..., 2, 0, 1],\n",
      "        [5, 0, 4,  ..., 2, 0, 0]], dtype=torch.int32)\n",
      "tensor([[  0,   1,   1,  ..., 426, 450, 434],\n",
      "        [  1,   0,   2,  ..., 453, 434, 450]], dtype=torch.int32)\n",
      "tensor([[  0,   1,   1,  ..., 484, 500, 494],\n",
      "        [  1,   0,   2,  ..., 500, 494, 500]], dtype=torch.int32)\n",
      "tensor([[0, 0, 0],\n",
      "        [0, 0, 0],\n",
      "        [0, 0, 0],\n",
      "        ...,\n",
      "        [0, 0, 1],\n",
      "        [0, 0, 0],\n",
      "        [0, 0, 0]], dtype=torch.int32)\n",
      "tensor([[0, 0, 0],\n",
      "        [0, 0, 0],\n",
      "        [0, 0, 0],\n",
      "        ...,\n",
      "        [0, 0, 0],\n",
      "        [0, 0, 0],\n",
      "        [0, 0, 0]], dtype=torch.int32)\n",
      "tensor([[5, 0, 4,  ..., 2, 0, 0],\n",
      "        [5, 0, 4,  ..., 2, 0, 0],\n",
      "        [5, 0, 4,  ..., 2, 0, 0],\n",
      "        ...,\n",
      "        [8, 0, 1,  ..., 2, 0, 0],\n",
      "        [8, 0, 1,  ..., 2, 0, 0],\n",
      "        [7, 0, 2,  ..., 2, 0, 0]], dtype=torch.int32)\n",
      "tensor([[5, 0, 4,  ..., 2, 0, 0],\n",
      "        [6, 0, 3,  ..., 1, 1, 1],\n",
      "        [5, 0, 3,  ..., 1, 1, 1],\n",
      "        ...,\n",
      "        [5, 0, 4,  ..., 2, 0, 0],\n",
      "        [7, 0, 2,  ..., 2, 0, 0],\n",
      "        [7, 0, 2,  ..., 2, 0, 0]], dtype=torch.int32)\n",
      "tensor([[  0,   1,   1,  ..., 404, 421, 416],\n",
      "        [  1,   0,   2,  ..., 411, 416, 421]], dtype=torch.int32)\n",
      "tensor([[  0,   1,   1,  ..., 352, 362, 357],\n",
      "        [  1,   0,   2,  ..., 356, 357, 362]], dtype=torch.int32)\n",
      "tensor([[0, 0, 0],\n",
      "        [0, 0, 0],\n",
      "        [0, 0, 0],\n",
      "        ...,\n",
      "        [3, 0, 1],\n",
      "        [0, 0, 0],\n",
      "        [0, 0, 0]], dtype=torch.int32)\n",
      "tensor([[0, 0, 0],\n",
      "        [0, 0, 0],\n",
      "        [3, 0, 1],\n",
      "        ...,\n",
      "        [0, 0, 0],\n",
      "        [3, 0, 1],\n",
      "        [3, 0, 1]], dtype=torch.int32)\n",
      "tensor([[3.1227, 0.0704, 3.1506,  ..., 1.0496, 0.0000, 0.0000],\n",
      "        [4.8222, 0.0000, 2.6392,  ..., 1.1699, 0.0000, 0.0000],\n",
      "        [2.4410, 0.0704, 4.9430,  ..., 0.4114, 0.0000, 0.0000],\n",
      "        ...,\n",
      "        [0.5945, 0.0000, 3.7623,  ..., 1.1243, 0.0841, 0.0000],\n",
      "        [4.1747, 0.0566, 3.9754,  ..., 0.8718, 0.0704, 0.0000],\n",
      "        [5.0751, 0.0000, 3.7126,  ..., 1.9030, 0.5850, 0.0000]])\n",
      "tensor([[4.8222, 0.0000, 2.6392,  ..., 1.1699, 0.0000, 0.0000],\n",
      "        [5.9277, 0.0000, 4.4738,  ..., 0.8400, 0.0000, 0.0000],\n",
      "        [4.6070, 0.0704, 6.1102,  ..., 1.1827, 0.2388, 0.0000],\n",
      "        ...,\n",
      "        [3.8934, 0.1110, 3.5385,  ..., 1.5410, 0.1243, 0.0000],\n",
      "        [4.8222, 0.0000, 2.6392,  ..., 1.1699, 0.0000, 0.0000],\n",
      "        [4.6247, 0.0000, 2.8992,  ..., 0.7398, 0.0000, 0.0000]])\n",
      "tensor([[ -2.0704,  -4.2098,  -2.1426,  -1.3552],\n",
      "        [ -4.1768,  -4.4703,  -2.6888,  -0.5998],\n",
      "        [-10.0252, -43.6157, -19.4455, -18.1973],\n",
      "        [ -2.9122,  -0.8579,  -0.8418,   0.4922],\n",
      "        [ 16.0447,  -7.5286,  18.0170,  16.1746],\n",
      "        [ -0.9504, -20.5222,  -2.8178,  -2.5839],\n",
      "        [ -5.4284, -30.0238,  -3.4696,  -5.7148],\n",
      "        [ -2.6038,  -1.8144, -10.7506,  -1.2357],\n",
      "        [-12.7412, -20.3773, -14.2486, -19.5931],\n",
      "        [  0.1598,  -3.4233,  -3.3762,  -0.8880],\n",
      "        [ -5.4411,  -5.0062,   0.8640,  -1.7313],\n",
      "        [  1.9685,  -1.0230,  -2.3224,   1.0777],\n",
      "        [ -0.9941, -11.9165,   0.9147,  -1.1691],\n",
      "        [ -5.3507,  -4.8929,   2.6480,  -5.5896],\n",
      "        [ -0.5076, -33.9621,  -3.8179,  -3.6841],\n",
      "        [  3.5653,   8.4533,   9.3175,   6.8384]])\n",
      "tensor([[ 6.7615e+00,  6.7066e+00, -2.3786e+01, -1.9827e+01],\n",
      "        [-1.1240e+01,  5.8099e-02, -7.6583e+00, -1.8917e+01],\n",
      "        [-1.6038e+00, -1.8131e+01, -1.4347e+00,  8.7686e-01],\n",
      "        [ 3.1910e+00, -1.3663e+00, -4.3094e+00,  7.2274e+00],\n",
      "        [ 1.4384e-02, -6.5044e+00,  1.6556e+00,  1.6175e+00],\n",
      "        [ 1.7916e+00, -3.0712e+01, -4.2105e+01, -3.1764e+01],\n",
      "        [-5.3425e+00,  8.6506e+00, -1.6812e+01, -2.1526e+01],\n",
      "        [ 1.7110e+01,  3.2749e+00,  1.9197e+01,  1.5804e+01],\n",
      "        [ 1.5152e+01,  1.6597e+01, -4.2505e+00,  1.1952e+01],\n",
      "        [ 1.7005e+01,  7.2563e+00, -7.3740e+00,  3.5264e+00],\n",
      "        [ 1.2279e+01,  3.6588e-01,  3.6598e-01,  1.2279e+01],\n",
      "        [-1.0131e+00, -2.4107e+00, -4.6728e+00,  3.3403e-01],\n",
      "        [-1.0856e+01, -9.3063e+00,  3.3699e+00,  1.3482e+00],\n",
      "        [-4.6664e+00, -1.4028e+01, -5.8584e+00, -5.3130e+00],\n",
      "        [ 3.0535e+01,  1.2463e+01,  1.6648e+01,  4.3115e+01],\n",
      "        [ 9.0585e-01,  1.0013e+00,  1.5939e+00,  8.4481e-01]])\n"
     ]
    }
   ],
   "source": [
    "#Check train loader and valid loader contain different data\n",
    "batch_train = next(iter(train_loader))\n",
    "batch_valid = next(iter(valid_loader))\n",
    "\n",
    "print(batch_train.x_a)\n",
    "print(batch_valid.x_a)\n",
    "\n",
    "print(batch_train.edge_index_a)\n",
    "print(batch_valid.edge_index_a)\n",
    "\n",
    "print(batch_train.edge_attr_a)\n",
    "print(batch_valid.edge_attr_a)\n",
    "\n",
    "print(batch_train.x_b)\n",
    "print(batch_valid.x_b)\n",
    "\n",
    "print(batch_train.edge_index_b)\n",
    "print(batch_valid.edge_index_b)\n",
    "\n",
    "print(batch_train.edge_attr_b)\n",
    "print(batch_valid.edge_attr_b)\n",
    "\n",
    "print(batch_train.expression)\n",
    "print(batch_valid.expression)\n",
    "\n",
    "print(batch_train.y)\n",
    "print(batch_valid.y)"
   ]
  },
  {
   "cell_type": "code",
   "execution_count": null,
   "id": "98b690d9",
   "metadata": {},
   "outputs": [
    {
     "name": "stdout",
     "output_type": "stream",
     "text": [
      "Dropout(p=0.4, inplace=False) Dropout(p=0.4, inplace=False)\n",
      "=====Epoch 0\n",
      "Training...\n"
     ]
    },
    {
     "name": "stderr",
     "output_type": "stream",
     "text": [
      "100%|██████████████████████████████████████████████████████████████████████████████████████████████████████████████████████████████| 13125/13125 [43:43<00:00,  5.00it/s]\n"
     ]
    },
    {
     "name": "stdout",
     "output_type": "stream",
     "text": [
      "epoch 1, loss 2.8502371311187744\n"
     ]
    },
    {
     "name": "stderr",
     "output_type": "stream",
     "text": [
      "  0%|                                                                                                                                   | 1/1459 [00:00<02:26,  9.97it/s]"
     ]
    },
    {
     "name": "stdout",
     "output_type": "stream",
     "text": [
      "batch 0, R-squared: -2.203725694883438, MAE: 20.971290588378906, RMSE: 24.055551528930664\n"
     ]
    },
    {
     "name": "stderr",
     "output_type": "stream",
     "text": [
      "\r",
      "  0%|▏                                                                                                                                  | 2/1459 [00:00<02:49,  8.61it/s]"
     ]
    },
    {
     "name": "stdout",
     "output_type": "stream",
     "text": [
      "batch 1, R-squared: -2.4215975259035645, MAE: 19.541824340820312, RMSE: 22.211387634277344\n"
     ]
    },
    {
     "name": "stderr",
     "output_type": "stream",
     "text": [
      "\r",
      "  0%|▎                                                                                                                                  | 3/1459 [00:00<02:47,  8.70it/s]"
     ]
    },
    {
     "name": "stdout",
     "output_type": "stream",
     "text": [
      "batch 2, R-squared: -2.572871108253533, MAE: 14.615833282470703, RMSE: 18.043312072753906\n"
     ]
    },
    {
     "name": "stderr",
     "output_type": "stream",
     "text": [
      "\r",
      "  0%|▎                                                                                                                                  | 4/1459 [00:00<02:41,  9.03it/s]"
     ]
    },
    {
     "name": "stdout",
     "output_type": "stream",
     "text": [
      "batch 3, R-squared: -1.6782549910783104, MAE: 23.216506958007812, RMSE: 27.228031158447266\n"
     ]
    },
    {
     "name": "stderr",
     "output_type": "stream",
     "text": [
      "\r",
      "  0%|▍                                                                                                                                  | 5/1459 [00:00<02:44,  8.85it/s]"
     ]
    },
    {
     "name": "stdout",
     "output_type": "stream",
     "text": [
      "batch 4, R-squared: -1.8503984717452697, MAE: 18.91634750366211, RMSE: 23.150245666503906\n",
      "batch 5, R-squared: -2.639778003025962, MAE: 26.082225799560547, RMSE: 30.742273330688477\n"
     ]
    },
    {
     "name": "stderr",
     "output_type": "stream",
     "text": [
      "\r",
      "  0%|▋                                                                                                                                  | 7/1459 [00:00<02:29,  9.70it/s]"
     ]
    },
    {
     "name": "stdout",
     "output_type": "stream",
     "text": [
      "batch 6, R-squared: -2.069340401182867, MAE: 9.568307876586914, RMSE: 11.524910926818848\n"
     ]
    },
    {
     "name": "stderr",
     "output_type": "stream",
     "text": [
      "\r",
      "  1%|▋                                                                                                                                  | 8/1459 [00:00<02:49,  8.58it/s]"
     ]
    },
    {
     "name": "stdout",
     "output_type": "stream",
     "text": [
      "batch 7, R-squared: -1.4140930379963972, MAE: 23.157634735107422, RMSE: 29.976478576660156\n"
     ]
    },
    {
     "name": "stderr",
     "output_type": "stream",
     "text": [
      "\r",
      "  1%|▊                                                                                                                                  | 9/1459 [00:01<02:54,  8.33it/s]"
     ]
    },
    {
     "name": "stdout",
     "output_type": "stream",
     "text": [
      "batch 8, R-squared: -1.5539778321223388, MAE: 25.283466339111328, RMSE: 30.987548828125\n"
     ]
    },
    {
     "name": "stderr",
     "output_type": "stream",
     "text": [
      "\r",
      "  1%|▉                                                                                                                                 | 10/1459 [00:01<02:53,  8.35it/s]"
     ]
    },
    {
     "name": "stdout",
     "output_type": "stream",
     "text": [
      "batch 9, R-squared: -3.627030606448254, MAE: 19.280134201049805, RMSE: 21.394302368164062\n"
     ]
    },
    {
     "name": "stderr",
     "output_type": "stream",
     "text": [
      "\r",
      "  1%|▉                                                                                                                                 | 11/1459 [00:01<02:51,  8.46it/s]"
     ]
    },
    {
     "name": "stdout",
     "output_type": "stream",
     "text": [
      "batch 10, R-squared: -2.501381359101268, MAE: 25.162059783935547, RMSE: 27.53521728515625\n"
     ]
    },
    {
     "name": "stderr",
     "output_type": "stream",
     "text": [
      "\r",
      "  1%|█                                                                                                                                 | 12/1459 [00:01<02:51,  8.46it/s]"
     ]
    },
    {
     "name": "stdout",
     "output_type": "stream",
     "text": [
      "batch 11, R-squared: -1.6532643314251616, MAE: 10.414466857910156, RMSE: 12.549354553222656\n"
     ]
    },
    {
     "name": "stderr",
     "output_type": "stream",
     "text": [
      "\r",
      "  1%|█▏                                                                                                                                | 13/1459 [00:01<03:11,  7.57it/s]"
     ]
    },
    {
     "name": "stdout",
     "output_type": "stream",
     "text": [
      "batch 12, R-squared: -2.918846155520069, MAE: 9.380636215209961, RMSE: 11.310208320617676\n"
     ]
    },
    {
     "name": "stderr",
     "output_type": "stream",
     "text": [
      "\r",
      "  1%|█▏                                                                                                                                | 14/1459 [00:01<03:01,  7.95it/s]"
     ]
    },
    {
     "name": "stdout",
     "output_type": "stream",
     "text": [
      "batch 13, R-squared: -3.8234136870019313, MAE: 14.959532737731934, RMSE: 15.921897888183594\n"
     ]
    },
    {
     "name": "stderr",
     "output_type": "stream",
     "text": [
      "\r",
      "  1%|█▎                                                                                                                                | 15/1459 [00:01<02:52,  8.37it/s]"
     ]
    },
    {
     "name": "stdout",
     "output_type": "stream",
     "text": [
      "batch 14, R-squared: -1.9213245377723491, MAE: 18.905839920043945, RMSE: 24.49681854248047\n"
     ]
    },
    {
     "name": "stderr",
     "output_type": "stream",
     "text": [
      "\r",
      "  1%|█▍                                                                                                                                | 16/1459 [00:01<02:54,  8.28it/s]"
     ]
    },
    {
     "name": "stdout",
     "output_type": "stream",
     "text": [
      "batch 15, R-squared: -3.2759808711090166, MAE: 24.369678497314453, RMSE: 27.30320930480957\n"
     ]
    },
    {
     "name": "stderr",
     "output_type": "stream",
     "text": [
      "\r",
      "  1%|█▌                                                                                                                                | 17/1459 [00:02<03:00,  8.01it/s]"
     ]
    },
    {
     "name": "stdout",
     "output_type": "stream",
     "text": [
      "batch 16, R-squared: -2.5453787503107734, MAE: 11.63790512084961, RMSE: 12.834990501403809\n"
     ]
    },
    {
     "name": "stderr",
     "output_type": "stream",
     "text": [
      "\r",
      "  1%|█▌                                                                                                                                | 18/1459 [00:02<03:09,  7.59it/s]"
     ]
    },
    {
     "name": "stdout",
     "output_type": "stream",
     "text": [
      "batch 17, R-squared: -2.3834309106500697, MAE: 17.03352165222168, RMSE: 19.91444206237793\n"
     ]
    },
    {
     "name": "stderr",
     "output_type": "stream",
     "text": [
      "\r",
      "  1%|█▋                                                                                                                                | 19/1459 [00:02<03:07,  7.69it/s]"
     ]
    },
    {
     "name": "stdout",
     "output_type": "stream",
     "text": [
      "batch 18, R-squared: -3.427087609240452, MAE: 9.18514633178711, RMSE: 10.215035438537598\n"
     ]
    },
    {
     "name": "stderr",
     "output_type": "stream",
     "text": [
      "\r",
      "  1%|█▊                                                                                                                                | 20/1459 [00:02<03:00,  7.99it/s]"
     ]
    },
    {
     "name": "stdout",
     "output_type": "stream",
     "text": [
      "batch 19, R-squared: -3.136938330107542, MAE: 36.263824462890625, RMSE: 39.65202331542969\n"
     ]
    },
    {
     "name": "stderr",
     "output_type": "stream",
     "text": [
      "\r",
      "  1%|█▊                                                                                                                                | 21/1459 [00:02<03:07,  7.65it/s]"
     ]
    },
    {
     "name": "stdout",
     "output_type": "stream",
     "text": [
      "batch 20, R-squared: -2.834054088156678, MAE: 25.1207275390625, RMSE: 28.1507568359375\n",
      "batch 21, R-squared: -2.6193535767794063, MAE: 30.56777000427246, RMSE: 34.98772430419922\n"
     ]
    },
    {
     "name": "stderr",
     "output_type": "stream",
     "text": [
      "\r",
      "  2%|██                                                                                                                                | 23/1459 [00:02<03:09,  7.56it/s]"
     ]
    },
    {
     "name": "stdout",
     "output_type": "stream",
     "text": [
      "batch 22, R-squared: -2.576086278728178, MAE: 22.755226135253906, RMSE: 26.329025268554688\n"
     ]
    },
    {
     "name": "stderr",
     "output_type": "stream",
     "text": [
      "\r",
      "  2%|██▏                                                                                                                               | 24/1459 [00:02<03:20,  7.17it/s]"
     ]
    },
    {
     "name": "stdout",
     "output_type": "stream",
     "text": [
      "batch 23, R-squared: -2.3699601971962827, MAE: 25.44873046875, RMSE: 30.20272445678711\n"
     ]
    },
    {
     "name": "stderr",
     "output_type": "stream",
     "text": [
      "\r",
      "  2%|██▏                                                                                                                               | 25/1459 [00:03<03:18,  7.24it/s]"
     ]
    },
    {
     "name": "stdout",
     "output_type": "stream",
     "text": [
      "batch 24, R-squared: -1.8394402467280075, MAE: 17.944814682006836, RMSE: 20.816566467285156\n"
     ]
    },
    {
     "name": "stderr",
     "output_type": "stream",
     "text": [
      "\r",
      "  2%|██▎                                                                                                                               | 26/1459 [00:03<03:13,  7.39it/s]"
     ]
    },
    {
     "name": "stdout",
     "output_type": "stream",
     "text": [
      "batch 25, R-squared: -3.5030055443394406, MAE: 28.282062530517578, RMSE: 29.557506561279297\n"
     ]
    },
    {
     "name": "stderr",
     "output_type": "stream",
     "text": [
      "\r",
      "  2%|██▍                                                                                                                               | 27/1459 [00:03<03:19,  7.16it/s]"
     ]
    },
    {
     "name": "stdout",
     "output_type": "stream",
     "text": [
      "batch 26, R-squared: -2.6741900899668316, MAE: 10.807207107543945, RMSE: 12.092020988464355\n"
     ]
    },
    {
     "name": "stderr",
     "output_type": "stream",
     "text": [
      "\r",
      "  2%|██▍                                                                                                                               | 28/1459 [00:03<03:06,  7.68it/s]"
     ]
    },
    {
     "name": "stdout",
     "output_type": "stream",
     "text": [
      "batch 27, R-squared: -4.497610518438359, MAE: 25.54253387451172, RMSE: 27.816978454589844\n"
     ]
    },
    {
     "name": "stderr",
     "output_type": "stream",
     "text": [
      "\r",
      "  2%|██▌                                                                                                                               | 29/1459 [00:03<03:25,  6.95it/s]"
     ]
    },
    {
     "name": "stdout",
     "output_type": "stream",
     "text": [
      "batch 28, R-squared: -2.5920355704583153, MAE: 17.021831512451172, RMSE: 19.411582946777344\n"
     ]
    },
    {
     "name": "stderr",
     "output_type": "stream",
     "text": [
      "\r",
      "  2%|██▋                                                                                                                               | 30/1459 [00:03<03:07,  7.62it/s]"
     ]
    },
    {
     "name": "stdout",
     "output_type": "stream",
     "text": [
      "batch 29, R-squared: -3.2483375186106658, MAE: 17.624122619628906, RMSE: 19.794504165649414\n"
     ]
    },
    {
     "name": "stderr",
     "output_type": "stream",
     "text": [
      "\r",
      "  2%|██▊                                                                                                                               | 31/1459 [00:03<03:22,  7.05it/s]"
     ]
    },
    {
     "name": "stdout",
     "output_type": "stream",
     "text": [
      "batch 30, R-squared: -2.286500733437027, MAE: 17.803325653076172, RMSE: 20.513044357299805\n"
     ]
    },
    {
     "name": "stderr",
     "output_type": "stream",
     "text": [
      "\r",
      "  2%|██▊                                                                                                                               | 32/1459 [00:04<03:07,  7.61it/s]"
     ]
    },
    {
     "name": "stdout",
     "output_type": "stream",
     "text": [
      "batch 31, R-squared: -2.3195630844506026, MAE: 13.814712524414062, RMSE: 15.225041389465332\n"
     ]
    },
    {
     "name": "stderr",
     "output_type": "stream",
     "text": [
      "\r",
      "  2%|██▉                                                                                                                               | 33/1459 [00:04<02:55,  8.14it/s]"
     ]
    },
    {
     "name": "stdout",
     "output_type": "stream",
     "text": [
      "batch 32, R-squared: -2.7323304461308435, MAE: 16.46755027770996, RMSE: 18.059680938720703\n"
     ]
    },
    {
     "name": "stderr",
     "output_type": "stream",
     "text": [
      "\r",
      "  2%|███                                                                                                                               | 34/1459 [00:04<03:01,  7.86it/s]"
     ]
    },
    {
     "name": "stdout",
     "output_type": "stream",
     "text": [
      "batch 33, R-squared: -2.626490739157077, MAE: 19.77029800415039, RMSE: 23.74913787841797\n"
     ]
    },
    {
     "name": "stderr",
     "output_type": "stream",
     "text": [
      "\r",
      "  2%|███                                                                                                                               | 35/1459 [00:04<03:03,  7.78it/s]"
     ]
    },
    {
     "name": "stdout",
     "output_type": "stream",
     "text": [
      "batch 34, R-squared: -1.8446168149881035, MAE: 23.384124755859375, RMSE: 27.520793914794922\n"
     ]
    },
    {
     "name": "stderr",
     "output_type": "stream",
     "text": [
      "\r",
      "  2%|███▏                                                                                                                              | 36/1459 [00:04<02:54,  8.17it/s]"
     ]
    },
    {
     "name": "stdout",
     "output_type": "stream",
     "text": [
      "batch 35, R-squared: -2.129237462991793, MAE: 20.054288864135742, RMSE: 23.546024322509766\n"
     ]
    },
    {
     "name": "stderr",
     "output_type": "stream",
     "text": [
      "\r",
      "  3%|███▎                                                                                                                              | 37/1459 [00:04<03:01,  7.83it/s]"
     ]
    },
    {
     "name": "stdout",
     "output_type": "stream",
     "text": [
      "batch 36, R-squared: -2.550309117475222, MAE: 23.32046890258789, RMSE: 26.145801544189453\n"
     ]
    },
    {
     "name": "stderr",
     "output_type": "stream",
     "text": [
      "\r",
      "  3%|███▍                                                                                                                              | 38/1459 [00:04<02:53,  8.19it/s]"
     ]
    },
    {
     "name": "stdout",
     "output_type": "stream",
     "text": [
      "batch 37, R-squared: -1.6966354782786333, MAE: 28.014055252075195, RMSE: 35.27083206176758\n"
     ]
    },
    {
     "name": "stderr",
     "output_type": "stream",
     "text": [
      "\r",
      "  3%|███▍                                                                                                                              | 39/1459 [00:04<02:54,  8.13it/s]"
     ]
    },
    {
     "name": "stdout",
     "output_type": "stream",
     "text": [
      "batch 38, R-squared: -2.889591012161981, MAE: 19.191184997558594, RMSE: 21.437461853027344\n"
     ]
    },
    {
     "name": "stderr",
     "output_type": "stream",
     "text": [
      "\r",
      "  3%|███▌                                                                                                                              | 40/1459 [00:05<02:51,  8.28it/s]"
     ]
    },
    {
     "name": "stdout",
     "output_type": "stream",
     "text": [
      "batch 39, R-squared: -1.998943005847601, MAE: 14.681588172912598, RMSE: 18.26304817199707\n"
     ]
    },
    {
     "name": "stderr",
     "output_type": "stream",
     "text": [
      "\r",
      "  3%|███▋                                                                                                                              | 41/1459 [00:05<02:51,  8.25it/s]"
     ]
    },
    {
     "name": "stdout",
     "output_type": "stream",
     "text": [
      "batch 40, R-squared: -4.328419436254895, MAE: 20.23211669921875, RMSE: 21.506519317626953\n"
     ]
    },
    {
     "name": "stderr",
     "output_type": "stream",
     "text": [
      "\r",
      "  3%|███▋                                                                                                                              | 42/1459 [00:05<02:51,  8.27it/s]"
     ]
    },
    {
     "name": "stdout",
     "output_type": "stream",
     "text": [
      "batch 41, R-squared: -1.7554112498021475, MAE: 22.199241638183594, RMSE: 28.336698532104492\n"
     ]
    },
    {
     "name": "stderr",
     "output_type": "stream",
     "text": [
      "\r",
      "  3%|███▊                                                                                                                              | 43/1459 [00:05<02:51,  8.24it/s]"
     ]
    },
    {
     "name": "stdout",
     "output_type": "stream",
     "text": [
      "batch 42, R-squared: -2.8361086631721695, MAE: 32.15511703491211, RMSE: 38.34691619873047\n"
     ]
    },
    {
     "name": "stderr",
     "output_type": "stream",
     "text": [
      "\r",
      "  3%|███▉                                                                                                                              | 44/1459 [00:05<02:50,  8.29it/s]"
     ]
    },
    {
     "name": "stdout",
     "output_type": "stream",
     "text": [
      "batch 43, R-squared: -2.3226442356219046, MAE: 12.901924133300781, RMSE: 14.55143928527832\n"
     ]
    },
    {
     "name": "stderr",
     "output_type": "stream",
     "text": [
      "\r",
      "  3%|████                                                                                                                              | 45/1459 [00:05<02:46,  8.48it/s]"
     ]
    },
    {
     "name": "stdout",
     "output_type": "stream",
     "text": [
      "batch 44, R-squared: -2.853560888520607, MAE: 13.838898658752441, RMSE: 15.347806930541992\n"
     ]
    },
    {
     "name": "stderr",
     "output_type": "stream",
     "text": [
      "\r",
      "  3%|████                                                                                                                              | 46/1459 [00:05<02:50,  8.28it/s]"
     ]
    },
    {
     "name": "stdout",
     "output_type": "stream",
     "text": [
      "batch 45, R-squared: -2.5482847675539873, MAE: 27.22211265563965, RMSE: 31.209272384643555\n",
      "batch 46, R-squared: -3.67359507289057, MAE: 16.784101486206055, RMSE: 18.790599822998047\n"
     ]
    },
    {
     "name": "stderr",
     "output_type": "stream",
     "text": [
      "\r",
      "  3%|████▎                                                                                                                             | 48/1459 [00:05<02:50,  8.26it/s]"
     ]
    },
    {
     "name": "stdout",
     "output_type": "stream",
     "text": [
      "batch 47, R-squared: -2.909391772014165, MAE: 29.320484161376953, RMSE: 32.45427322387695\n"
     ]
    },
    {
     "name": "stderr",
     "output_type": "stream",
     "text": [
      "\r",
      "  3%|████▎                                                                                                                             | 49/1459 [00:06<03:10,  7.41it/s]"
     ]
    },
    {
     "name": "stdout",
     "output_type": "stream",
     "text": [
      "batch 48, R-squared: -1.8163629433215174, MAE: 17.008312225341797, RMSE: 21.522201538085938\n"
     ]
    },
    {
     "name": "stderr",
     "output_type": "stream",
     "text": [
      "\r",
      "  3%|████▍                                                                                                                             | 50/1459 [00:06<02:59,  7.87it/s]"
     ]
    },
    {
     "name": "stdout",
     "output_type": "stream",
     "text": [
      "batch 49, R-squared: -3.3101633099171686, MAE: 25.357513427734375, RMSE: 28.89101791381836\n"
     ]
    },
    {
     "name": "stderr",
     "output_type": "stream",
     "text": [
      "\r",
      "  3%|████▌                                                                                                                             | 51/1459 [00:06<03:02,  7.72it/s]"
     ]
    },
    {
     "name": "stdout",
     "output_type": "stream",
     "text": [
      "batch 50, R-squared: -4.274427325498437, MAE: 23.680648803710938, RMSE: 25.816036224365234\n"
     ]
    },
    {
     "name": "stderr",
     "output_type": "stream",
     "text": [
      "\r",
      "  4%|████▋                                                                                                                             | 52/1459 [00:06<03:00,  7.79it/s]"
     ]
    },
    {
     "name": "stdout",
     "output_type": "stream",
     "text": [
      "batch 51, R-squared: -1.9789957545355144, MAE: 30.185585021972656, RMSE: 38.88547897338867\n"
     ]
    },
    {
     "name": "stderr",
     "output_type": "stream",
     "text": [
      "\r",
      "  4%|████▋                                                                                                                             | 53/1459 [00:06<03:05,  7.59it/s]"
     ]
    },
    {
     "name": "stdout",
     "output_type": "stream",
     "text": [
      "batch 52, R-squared: -1.8846991582811314, MAE: 17.081714630126953, RMSE: 19.074790954589844\n"
     ]
    },
    {
     "name": "stderr",
     "output_type": "stream",
     "text": [
      "\r",
      "  4%|████▊                                                                                                                             | 54/1459 [00:06<03:06,  7.54it/s]"
     ]
    },
    {
     "name": "stdout",
     "output_type": "stream",
     "text": [
      "batch 53, R-squared: -2.4425259141526245, MAE: 27.315767288208008, RMSE: 31.54068374633789\n"
     ]
    },
    {
     "name": "stderr",
     "output_type": "stream",
     "text": [
      "\r",
      "  4%|████▉                                                                                                                             | 55/1459 [00:06<03:01,  7.72it/s]"
     ]
    },
    {
     "name": "stdout",
     "output_type": "stream",
     "text": [
      "batch 54, R-squared: -3.1808373109659565, MAE: 23.17924690246582, RMSE: 25.471696853637695\n"
     ]
    },
    {
     "name": "stderr",
     "output_type": "stream",
     "text": [
      "\r",
      "  4%|████▉                                                                                                                             | 56/1459 [00:07<02:53,  8.07it/s]"
     ]
    },
    {
     "name": "stdout",
     "output_type": "stream",
     "text": [
      "batch 55, R-squared: -2.964046353274873, MAE: 15.501932144165039, RMSE: 16.761014938354492\n"
     ]
    },
    {
     "name": "stderr",
     "output_type": "stream",
     "text": [
      "\r",
      "  4%|█████                                                                                                                             | 57/1459 [00:07<02:45,  8.46it/s]"
     ]
    },
    {
     "name": "stdout",
     "output_type": "stream",
     "text": [
      "batch 56, R-squared: -2.509616043031942, MAE: 22.74738311767578, RMSE: 26.02459716796875\n"
     ]
    },
    {
     "name": "stderr",
     "output_type": "stream",
     "text": [
      "\r",
      "  4%|█████▏                                                                                                                            | 58/1459 [00:07<02:45,  8.44it/s]"
     ]
    },
    {
     "name": "stdout",
     "output_type": "stream",
     "text": [
      "batch 57, R-squared: -2.69642170919974, MAE: 28.904560089111328, RMSE: 33.146854400634766\n"
     ]
    },
    {
     "name": "stderr",
     "output_type": "stream",
     "text": [
      "\r",
      "  4%|█████▎                                                                                                                            | 59/1459 [00:07<02:42,  8.59it/s]"
     ]
    },
    {
     "name": "stdout",
     "output_type": "stream",
     "text": [
      "batch 58, R-squared: -2.653287080000378, MAE: 24.49651336669922, RMSE: 26.910295486450195\n"
     ]
    },
    {
     "name": "stderr",
     "output_type": "stream",
     "text": [
      "\r",
      "  4%|█████▎                                                                                                                            | 60/1459 [00:07<02:45,  8.47it/s]"
     ]
    },
    {
     "name": "stdout",
     "output_type": "stream",
     "text": [
      "batch 59, R-squared: -2.951169959958269, MAE: 19.844541549682617, RMSE: 23.467025756835938\n"
     ]
    },
    {
     "name": "stderr",
     "output_type": "stream",
     "text": [
      "\r",
      "  4%|█████▍                                                                                                                            | 61/1459 [00:07<03:03,  7.64it/s]"
     ]
    },
    {
     "name": "stdout",
     "output_type": "stream",
     "text": [
      "batch 60, R-squared: -3.8871133399106483, MAE: 21.753005981445312, RMSE: 22.92314910888672\n"
     ]
    },
    {
     "name": "stderr",
     "output_type": "stream",
     "text": [
      "\r",
      "  4%|█████▌                                                                                                                            | 62/1459 [00:07<03:00,  7.73it/s]"
     ]
    },
    {
     "name": "stdout",
     "output_type": "stream",
     "text": [
      "batch 61, R-squared: -3.0524685877748374, MAE: 28.37002182006836, RMSE: 30.967918395996094\n"
     ]
    },
    {
     "name": "stderr",
     "output_type": "stream",
     "text": [
      "\r",
      "  4%|█████▌                                                                                                                            | 63/1459 [00:07<02:56,  7.92it/s]"
     ]
    },
    {
     "name": "stdout",
     "output_type": "stream",
     "text": [
      "batch 62, R-squared: -3.0949015624057954, MAE: 24.897321701049805, RMSE: 27.706981658935547\n"
     ]
    },
    {
     "name": "stderr",
     "output_type": "stream",
     "text": [
      "\r",
      "  4%|█████▋                                                                                                                            | 64/1459 [00:08<03:10,  7.33it/s]"
     ]
    },
    {
     "name": "stdout",
     "output_type": "stream",
     "text": [
      "batch 63, R-squared: -2.0029607632217323, MAE: 30.683197021484375, RMSE: 36.99708938598633\n"
     ]
    },
    {
     "name": "stderr",
     "output_type": "stream",
     "text": [
      "\r",
      "  4%|█████▊                                                                                                                            | 65/1459 [00:08<03:02,  7.63it/s]"
     ]
    },
    {
     "name": "stdout",
     "output_type": "stream",
     "text": [
      "batch 64, R-squared: -4.905291784048283, MAE: 17.583860397338867, RMSE: 19.002971649169922\n"
     ]
    },
    {
     "name": "stderr",
     "output_type": "stream",
     "text": [
      "\r",
      "  5%|█████▉                                                                                                                            | 66/1459 [00:08<03:05,  7.49it/s]"
     ]
    },
    {
     "name": "stdout",
     "output_type": "stream",
     "text": [
      "batch 65, R-squared: -2.2945627709341045, MAE: 19.387311935424805, RMSE: 22.019573211669922\n"
     ]
    },
    {
     "name": "stderr",
     "output_type": "stream",
     "text": [
      "\r",
      "  5%|█████▉                                                                                                                            | 67/1459 [00:08<03:00,  7.73it/s]"
     ]
    },
    {
     "name": "stdout",
     "output_type": "stream",
     "text": [
      "batch 66, R-squared: -3.094664353056659, MAE: 18.98743438720703, RMSE: 20.79023551940918\n"
     ]
    },
    {
     "name": "stderr",
     "output_type": "stream",
     "text": [
      "\r",
      "  5%|██████                                                                                                                            | 68/1459 [00:08<02:52,  8.07it/s]"
     ]
    },
    {
     "name": "stdout",
     "output_type": "stream",
     "text": [
      "batch 67, R-squared: -2.7171479506683522, MAE: 21.694156646728516, RMSE: 24.85107421875\n"
     ]
    },
    {
     "name": "stderr",
     "output_type": "stream",
     "text": [
      "\r",
      "  5%|██████▏                                                                                                                           | 69/1459 [00:08<02:59,  7.73it/s]"
     ]
    },
    {
     "name": "stdout",
     "output_type": "stream",
     "text": [
      "batch 68, R-squared: -3.130820267041185, MAE: 20.572771072387695, RMSE: 22.34314727783203\n"
     ]
    },
    {
     "name": "stderr",
     "output_type": "stream",
     "text": [
      "\r",
      "  5%|██████▏                                                                                                                           | 70/1459 [00:08<02:55,  7.92it/s]"
     ]
    },
    {
     "name": "stdout",
     "output_type": "stream",
     "text": [
      "batch 69, R-squared: -2.012027701087487, MAE: 17.3109073638916, RMSE: 20.5869083404541\n"
     ]
    },
    {
     "name": "stderr",
     "output_type": "stream",
     "text": [
      "\r",
      "  5%|██████▎                                                                                                                           | 71/1459 [00:08<02:58,  7.78it/s]"
     ]
    },
    {
     "name": "stdout",
     "output_type": "stream",
     "text": [
      "batch 70, R-squared: -2.8356082573420407, MAE: 27.35489273071289, RMSE: 30.647733688354492\n"
     ]
    },
    {
     "name": "stderr",
     "output_type": "stream",
     "text": [
      "\r",
      "  5%|██████▍                                                                                                                           | 72/1459 [00:09<02:47,  8.27it/s]"
     ]
    },
    {
     "name": "stdout",
     "output_type": "stream",
     "text": [
      "batch 71, R-squared: -2.7570661977574327, MAE: 25.218875885009766, RMSE: 30.39241600036621\n",
      "batch 72, R-squared: -1.6995860006590147, MAE: 21.766544342041016, RMSE: 29.07948875427246\n"
     ]
    },
    {
     "name": "stderr",
     "output_type": "stream",
     "text": [
      "  5%|██████▋                                                                                                                           | 75/1459 [00:09<02:46,  8.30it/s]"
     ]
    },
    {
     "name": "stdout",
     "output_type": "stream",
     "text": [
      "batch 73, R-squared: -2.8489707035250293, MAE: 21.645519256591797, RMSE: 24.574134826660156\n",
      "batch 74, R-squared: -1.9710703560908402, MAE: 32.066062927246094, RMSE: 39.08180236816406\n"
     ]
    },
    {
     "name": "stderr",
     "output_type": "stream",
     "text": [
      "  5%|██████▊                                                                                                                           | 77/1459 [00:09<02:45,  8.36it/s]"
     ]
    },
    {
     "name": "stdout",
     "output_type": "stream",
     "text": [
      "batch 75, R-squared: -3.919278014958784, MAE: 29.857437133789062, RMSE: 32.86871337890625\n",
      "batch 76, R-squared: -2.282821067082158, MAE: 17.62531852722168, RMSE: 22.058692932128906\n"
     ]
    },
    {
     "name": "stderr",
     "output_type": "stream",
     "text": [
      "  5%|███████                                                                                                                           | 79/1459 [00:09<02:52,  7.99it/s]"
     ]
    },
    {
     "name": "stdout",
     "output_type": "stream",
     "text": [
      "batch 77, R-squared: -2.5427267389971564, MAE: 15.952178955078125, RMSE: 18.857877731323242\n",
      "batch 78, R-squared: -3.2210146459448046, MAE: 26.548179626464844, RMSE: 28.279050827026367\n"
     ]
    },
    {
     "name": "stderr",
     "output_type": "stream",
     "text": [
      "\r",
      "  6%|███████▏                                                                                                                          | 81/1459 [00:10<02:52,  7.99it/s]"
     ]
    },
    {
     "name": "stdout",
     "output_type": "stream",
     "text": [
      "batch 79, R-squared: -2.477877095805276, MAE: 21.29273223876953, RMSE: 24.14802360534668\n",
      "batch 80, R-squared: -3.229751442198407, MAE: 21.57114028930664, RMSE: 24.070083618164062\n"
     ]
    },
    {
     "name": "stderr",
     "output_type": "stream",
     "text": [
      "  6%|███████▍                                                                                                                          | 83/1459 [00:10<02:45,  8.33it/s]"
     ]
    },
    {
     "name": "stdout",
     "output_type": "stream",
     "text": [
      "batch 81, R-squared: -3.9828185737501824, MAE: 19.648523330688477, RMSE: 21.271839141845703\n",
      "batch 82, R-squared: -2.1276549239426767, MAE: 14.004751205444336, RMSE: 16.09519386291504\n"
     ]
    },
    {
     "name": "stderr",
     "output_type": "stream",
     "text": [
      "  6%|███████▌                                                                                                                          | 85/1459 [00:10<02:53,  7.90it/s]"
     ]
    },
    {
     "name": "stdout",
     "output_type": "stream",
     "text": [
      "batch 83, R-squared: -3.0395357493959434, MAE: 23.567386627197266, RMSE: 26.88645362854004\n",
      "batch 84, R-squared: -3.109522690072943, MAE: 26.809144973754883, RMSE: 30.317977905273438\n"
     ]
    },
    {
     "name": "stderr",
     "output_type": "stream",
     "text": [
      "  6%|███████▊                                                                                                                          | 87/1459 [00:10<03:00,  7.61it/s]"
     ]
    },
    {
     "name": "stdout",
     "output_type": "stream",
     "text": [
      "batch 85, R-squared: -3.711062121500813, MAE: 15.232065200805664, RMSE: 17.436229705810547\n",
      "batch 86, R-squared: -2.4123537952601453, MAE: 20.983539581298828, RMSE: 22.220272064208984\n"
     ]
    },
    {
     "name": "stderr",
     "output_type": "stream",
     "text": [
      "\r",
      "  6%|███████▊                                                                                                                          | 88/1459 [00:11<02:53,  7.90it/s]"
     ]
    },
    {
     "name": "stdout",
     "output_type": "stream",
     "text": [
      "batch 87, R-squared: -1.9431251073224538, MAE: 20.012948989868164, RMSE: 22.82404899597168\n",
      "batch 88, R-squared: -2.6322107209047623, MAE: 24.10698890686035, RMSE: 25.937227249145508\n"
     ]
    },
    {
     "name": "stderr",
     "output_type": "stream",
     "text": [
      "  6%|████████                                                                                                                          | 91/1459 [00:11<02:35,  8.82it/s]"
     ]
    },
    {
     "name": "stdout",
     "output_type": "stream",
     "text": [
      "batch 89, R-squared: -2.18040448159788, MAE: 16.18056869506836, RMSE: 17.81531524658203\n",
      "batch 90, R-squared: -2.627946652139614, MAE: 26.587718963623047, RMSE: 31.077713012695312\n"
     ]
    },
    {
     "name": "stderr",
     "output_type": "stream",
     "text": [
      "  6%|████████▎                                                                                                                         | 93/1459 [00:11<02:34,  8.87it/s]"
     ]
    },
    {
     "name": "stdout",
     "output_type": "stream",
     "text": [
      "batch 91, R-squared: -1.451042533826259, MAE: 13.402412414550781, RMSE: 16.77775001525879\n",
      "batch 92, R-squared: -2.5629337728865376, MAE: 17.42733383178711, RMSE: 20.062847137451172\n"
     ]
    },
    {
     "name": "stderr",
     "output_type": "stream",
     "text": [
      "  7%|████████▍                                                                                                                         | 95/1459 [00:11<02:32,  8.97it/s]"
     ]
    },
    {
     "name": "stdout",
     "output_type": "stream",
     "text": [
      "batch 93, R-squared: -2.573645677799725, MAE: 16.775781631469727, RMSE: 19.502262115478516\n",
      "batch 94, R-squared: -2.77363475933013, MAE: 26.10748863220215, RMSE: 28.17721176147461\n"
     ]
    },
    {
     "name": "stderr",
     "output_type": "stream",
     "text": [
      "  7%|████████▋                                                                                                                         | 97/1459 [00:12<02:34,  8.82it/s]"
     ]
    },
    {
     "name": "stdout",
     "output_type": "stream",
     "text": [
      "batch 95, R-squared: -1.2022648323607232, MAE: 23.718406677246094, RMSE: 31.897960662841797\n",
      "batch 96, R-squared: -2.798879791254333, MAE: 25.16033363342285, RMSE: 29.16431427001953\n"
     ]
    },
    {
     "name": "stderr",
     "output_type": "stream",
     "text": [
      "\r",
      "  7%|████████▋                                                                                                                         | 98/1459 [00:12<02:46,  8.18it/s]"
     ]
    },
    {
     "name": "stdout",
     "output_type": "stream",
     "text": [
      "batch 97, R-squared: -2.1507080847145246, MAE: 24.328765869140625, RMSE: 26.84414291381836\n",
      "batch 98, R-squared: -3.891314674241371, MAE: 24.478036880493164, RMSE: 27.369752883911133\n"
     ]
    },
    {
     "name": "stderr",
     "output_type": "stream",
     "text": [
      "  7%|████████▉                                                                                                                        | 101/1459 [00:12<02:47,  8.09it/s]"
     ]
    },
    {
     "name": "stdout",
     "output_type": "stream",
     "text": [
      "batch 99, R-squared: -3.1344425472241886, MAE: 25.419254302978516, RMSE: 28.47490692138672\n",
      "batch 100, R-squared: -2.2217194193424223, MAE: 13.894813537597656, RMSE: 16.194887161254883\n"
     ]
    },
    {
     "name": "stderr",
     "output_type": "stream",
     "text": [
      "  7%|█████████                                                                                                                        | 103/1459 [00:12<03:02,  7.44it/s]"
     ]
    },
    {
     "name": "stdout",
     "output_type": "stream",
     "text": [
      "batch 101, R-squared: -3.3286184637002707, MAE: 22.11290740966797, RMSE: 23.195213317871094\n",
      "batch 102, R-squared: -2.544216078160743, MAE: 18.284534454345703, RMSE: 20.694486618041992\n"
     ]
    },
    {
     "name": "stderr",
     "output_type": "stream",
     "text": [
      "  7%|█████████▎                                                                                                                       | 105/1459 [00:13<03:02,  7.42it/s]"
     ]
    },
    {
     "name": "stdout",
     "output_type": "stream",
     "text": [
      "batch 103, R-squared: -3.103193142090035, MAE: 20.41788101196289, RMSE: 21.9608097076416\n",
      "batch 104, R-squared: -3.404666722105763, MAE: 27.363353729248047, RMSE: 28.50482940673828\n"
     ]
    },
    {
     "name": "stderr",
     "output_type": "stream",
     "text": [
      "  7%|█████████▍                                                                                                                       | 107/1459 [00:13<02:52,  7.85it/s]"
     ]
    },
    {
     "name": "stdout",
     "output_type": "stream",
     "text": [
      "batch 105, R-squared: -2.296750473751836, MAE: 14.613911628723145, RMSE: 16.42372703552246\n",
      "batch 106, R-squared: -3.5540865821585355, MAE: 38.718441009521484, RMSE: 41.29351806640625\n"
     ]
    },
    {
     "name": "stderr",
     "output_type": "stream",
     "text": [
      "\r",
      "  7%|█████████▋                                                                                                                       | 109/1459 [00:13<02:39,  8.47it/s]"
     ]
    },
    {
     "name": "stdout",
     "output_type": "stream",
     "text": [
      "batch 107, R-squared: -2.5962072569306285, MAE: 18.5042667388916, RMSE: 20.975053787231445\n",
      "batch 108, R-squared: -2.6806746496540046, MAE: 27.457433700561523, RMSE: 33.12908172607422\n"
     ]
    },
    {
     "name": "stderr",
     "output_type": "stream",
     "text": [
      "  8%|█████████▊                                                                                                                       | 111/1459 [00:13<02:40,  8.37it/s]"
     ]
    },
    {
     "name": "stdout",
     "output_type": "stream",
     "text": [
      "batch 109, R-squared: -2.0263939798521733, MAE: 24.92089080810547, RMSE: 30.29693603515625\n",
      "batch 110, R-squared: -2.4999928927875943, MAE: 19.977893829345703, RMSE: 22.630083084106445\n"
     ]
    },
    {
     "name": "stderr",
     "output_type": "stream",
     "text": [
      "  8%|█████████▉                                                                                                                       | 113/1459 [00:14<02:44,  8.18it/s]"
     ]
    },
    {
     "name": "stdout",
     "output_type": "stream",
     "text": [
      "batch 111, R-squared: -2.7380549406154184, MAE: 26.277008056640625, RMSE: 29.600732803344727\n",
      "batch 112, R-squared: -2.778103012751879, MAE: 24.322219848632812, RMSE: 27.935741424560547\n"
     ]
    },
    {
     "name": "stderr",
     "output_type": "stream",
     "text": [
      "\r",
      "  8%|██████████▏                                                                                                                      | 115/1459 [00:14<02:46,  8.05it/s]"
     ]
    },
    {
     "name": "stdout",
     "output_type": "stream",
     "text": [
      "batch 113, R-squared: -2.686144854871743, MAE: 17.50462532043457, RMSE: 19.227298736572266\n",
      "batch 114, R-squared: -3.155428870493583, MAE: 36.452178955078125, RMSE: 38.1124382019043\n"
     ]
    },
    {
     "name": "stderr",
     "output_type": "stream",
     "text": [
      "  8%|██████████▎                                                                                                                      | 117/1459 [00:14<02:47,  8.01it/s]"
     ]
    },
    {
     "name": "stdout",
     "output_type": "stream",
     "text": [
      "batch 115, R-squared: -2.2249676776649467, MAE: 31.596973419189453, RMSE: 37.09800720214844\n",
      "batch 116, R-squared: -2.344397030426848, MAE: 25.093191146850586, RMSE: 26.78006362915039\n"
     ]
    },
    {
     "name": "stderr",
     "output_type": "stream",
     "text": [
      "  8%|██████████▌                                                                                                                      | 119/1459 [00:14<02:46,  8.07it/s]"
     ]
    },
    {
     "name": "stdout",
     "output_type": "stream",
     "text": [
      "batch 117, R-squared: -3.0874123393178454, MAE: 27.64861297607422, RMSE: 31.074514389038086\n",
      "batch 118, R-squared: -1.0782480528803542, MAE: 20.76361846923828, RMSE: 28.25255584716797\n"
     ]
    },
    {
     "name": "stderr",
     "output_type": "stream",
     "text": [
      "  8%|██████████▋                                                                                                                      | 121/1459 [00:15<02:59,  7.44it/s]"
     ]
    },
    {
     "name": "stdout",
     "output_type": "stream",
     "text": [
      "batch 119, R-squared: -3.43279124817265, MAE: 31.982280731201172, RMSE: 36.619361877441406\n",
      "batch 120, R-squared: -2.0152588888299405, MAE: 24.526508331298828, RMSE: 26.476594924926758\n"
     ]
    },
    {
     "name": "stderr",
     "output_type": "stream",
     "text": [
      "  8%|██████████▉                                                                                                                      | 123/1459 [00:15<02:45,  8.07it/s]"
     ]
    },
    {
     "name": "stdout",
     "output_type": "stream",
     "text": [
      "batch 121, R-squared: -3.112920876127461, MAE: 16.76688575744629, RMSE: 19.503267288208008\n",
      "batch 122, R-squared: -3.5460932112210934, MAE: 33.02832794189453, RMSE: 36.33641052246094\n"
     ]
    },
    {
     "name": "stderr",
     "output_type": "stream",
     "text": [
      "  9%|███████████                                                                                                                      | 125/1459 [00:15<02:47,  7.95it/s]"
     ]
    },
    {
     "name": "stdout",
     "output_type": "stream",
     "text": [
      "batch 123, R-squared: -1.9382365734378932, MAE: 14.794506072998047, RMSE: 17.79126739501953\n",
      "batch 124, R-squared: -2.3466745215460865, MAE: 23.437143325805664, RMSE: 28.095932006835938\n"
     ]
    },
    {
     "name": "stderr",
     "output_type": "stream",
     "text": [
      "  9%|███████████▏                                                                                                                     | 127/1459 [00:15<02:38,  8.39it/s]"
     ]
    },
    {
     "name": "stdout",
     "output_type": "stream",
     "text": [
      "batch 125, R-squared: -2.444329214140956, MAE: 16.58277702331543, RMSE: 19.146434783935547\n",
      "batch 126, R-squared: -2.246507749876082, MAE: 23.563434600830078, RMSE: 27.116092681884766\n"
     ]
    },
    {
     "name": "stderr",
     "output_type": "stream",
     "text": [
      "  9%|███████████▍                                                                                                                     | 129/1459 [00:16<02:57,  7.49it/s]"
     ]
    },
    {
     "name": "stdout",
     "output_type": "stream",
     "text": [
      "batch 127, R-squared: -3.99381445426439, MAE: 17.61585235595703, RMSE: 18.939891815185547\n",
      "batch 128, R-squared: -2.73442381995178, MAE: 18.82958984375, RMSE: 20.714977264404297\n"
     ]
    },
    {
     "name": "stderr",
     "output_type": "stream",
     "text": [
      "  9%|███████████▌                                                                                                                     | 131/1459 [00:16<02:54,  7.62it/s]"
     ]
    },
    {
     "name": "stdout",
     "output_type": "stream",
     "text": [
      "batch 129, R-squared: -2.289386998813572, MAE: 34.5467414855957, RMSE: 42.70419692993164\n",
      "batch 130, R-squared: -3.3652778563115273, MAE: 27.961156845092773, RMSE: 30.32533836364746\n"
     ]
    },
    {
     "name": "stderr",
     "output_type": "stream",
     "text": [
      "  9%|███████████▊                                                                                                                     | 133/1459 [00:16<02:49,  7.83it/s]"
     ]
    },
    {
     "name": "stdout",
     "output_type": "stream",
     "text": [
      "batch 131, R-squared: -1.975212267306763, MAE: 32.217857360839844, RMSE: 38.53021240234375\n",
      "batch 132, R-squared: -2.988953482243485, MAE: 28.173185348510742, RMSE: 30.62407875061035\n"
     ]
    },
    {
     "name": "stderr",
     "output_type": "stream",
     "text": [
      "  9%|███████████▉                                                                                                                     | 135/1459 [00:16<02:42,  8.17it/s]"
     ]
    },
    {
     "name": "stdout",
     "output_type": "stream",
     "text": [
      "batch 133, R-squared: -2.800644299473766, MAE: 14.999122619628906, RMSE: 17.021738052368164\n",
      "batch 134, R-squared: -3.6825923285189566, MAE: 25.767114639282227, RMSE: 29.36995506286621\n"
     ]
    },
    {
     "name": "stderr",
     "output_type": "stream",
     "text": [
      "\r",
      "  9%|████████████                                                                                                                     | 136/1459 [00:16<02:40,  8.25it/s]"
     ]
    },
    {
     "name": "stdout",
     "output_type": "stream",
     "text": [
      "batch 135, R-squared: -3.6206283497581593, MAE: 23.644887924194336, RMSE: 25.912521362304688\n",
      "batch 136, R-squared: -2.951740398470834, MAE: 19.645700454711914, RMSE: 21.560199737548828\n"
     ]
    },
    {
     "name": "stderr",
     "output_type": "stream",
     "text": [
      " 10%|████████████▎                                                                                                                    | 139/1459 [00:17<02:39,  8.27it/s]"
     ]
    },
    {
     "name": "stdout",
     "output_type": "stream",
     "text": [
      "batch 137, R-squared: -4.011619790329147, MAE: 22.742847442626953, RMSE: 24.202125549316406\n",
      "batch 138, R-squared: -2.1256976298251917, MAE: 20.476749420166016, RMSE: 23.973907470703125\n"
     ]
    },
    {
     "name": "stderr",
     "output_type": "stream",
     "text": [
      " 10%|████████████▍                                                                                                                    | 141/1459 [00:17<02:43,  8.08it/s]"
     ]
    },
    {
     "name": "stdout",
     "output_type": "stream",
     "text": [
      "batch 139, R-squared: -3.6054200140030206, MAE: 26.75275993347168, RMSE: 29.01099395751953\n",
      "batch 140, R-squared: -1.9278153771340194, MAE: 15.101903915405273, RMSE: 17.698993682861328\n"
     ]
    },
    {
     "name": "stderr",
     "output_type": "stream",
     "text": [
      " 10%|████████████▋                                                                                                                    | 143/1459 [00:17<02:36,  8.42it/s]"
     ]
    },
    {
     "name": "stdout",
     "output_type": "stream",
     "text": [
      "batch 141, R-squared: -2.2765962791729786, MAE: 15.981538772583008, RMSE: 19.391881942749023\n",
      "batch 142, R-squared: -2.331994186261713, MAE: 19.541015625, RMSE: 23.74148178100586\n"
     ]
    },
    {
     "name": "stderr",
     "output_type": "stream",
     "text": [
      "\r",
      " 10%|████████████▊                                                                                                                    | 145/1459 [00:18<02:24,  9.10it/s]"
     ]
    },
    {
     "name": "stdout",
     "output_type": "stream",
     "text": [
      "batch 143, R-squared: -2.8960177803694087, MAE: 19.4448299407959, RMSE: 21.474939346313477\n",
      "batch 144, R-squared: -2.6885203622698812, MAE: 19.601425170898438, RMSE: 21.665122985839844\n"
     ]
    },
    {
     "name": "stderr",
     "output_type": "stream",
     "text": [
      " 10%|████████████▉                                                                                                                    | 147/1459 [00:18<02:41,  8.11it/s]"
     ]
    },
    {
     "name": "stdout",
     "output_type": "stream",
     "text": [
      "batch 145, R-squared: -2.456718883165445, MAE: 17.504634857177734, RMSE: 20.50103187561035\n",
      "batch 146, R-squared: -2.4976184479782155, MAE: 26.76722526550293, RMSE: 30.598529815673828\n"
     ]
    },
    {
     "name": "stderr",
     "output_type": "stream",
     "text": [
      " 10%|█████████████▏                                                                                                                   | 149/1459 [00:18<02:35,  8.44it/s]"
     ]
    },
    {
     "name": "stdout",
     "output_type": "stream",
     "text": [
      "batch 147, R-squared: -1.876579943407502, MAE: 16.0759334564209, RMSE: 19.358543395996094\n",
      "batch 148, R-squared: -3.7194917643449514, MAE: 52.346168518066406, RMSE: 53.43815231323242\n",
      "batch 149, R-squared: -3.6159894116289273, MAE: 13.711718559265137, RMSE: 14.97598648071289\n"
     ]
    },
    {
     "name": "stderr",
     "output_type": "stream",
     "text": [
      " 10%|█████████████▍                                                                                                                   | 152/1459 [00:18<02:30,  8.70it/s]"
     ]
    },
    {
     "name": "stdout",
     "output_type": "stream",
     "text": [
      "batch 150, R-squared: -2.5490226652478807, MAE: 24.202648162841797, RMSE: 28.272022247314453\n",
      "batch 151, R-squared: -2.194839363108332, MAE: 29.616750717163086, RMSE: 36.227210998535156\n"
     ]
    },
    {
     "name": "stderr",
     "output_type": "stream",
     "text": [
      " 11%|█████████████▌                                                                                                                   | 154/1459 [00:19<02:23,  9.06it/s]"
     ]
    },
    {
     "name": "stdout",
     "output_type": "stream",
     "text": [
      "batch 152, R-squared: -3.0541267134908825, MAE: 22.389514923095703, RMSE: 25.472305297851562\n",
      "batch 153, R-squared: -3.4964827218313754, MAE: 16.19095230102539, RMSE: 17.623340606689453\n"
     ]
    },
    {
     "name": "stderr",
     "output_type": "stream",
     "text": [
      " 11%|█████████████▊                                                                                                                   | 156/1459 [00:19<02:46,  7.81it/s]"
     ]
    },
    {
     "name": "stdout",
     "output_type": "stream",
     "text": [
      "batch 154, R-squared: -2.3302487152067504, MAE: 16.59079933166504, RMSE: 17.908479690551758\n",
      "batch 155, R-squared: -2.519714227676346, MAE: 15.857205390930176, RMSE: 17.737668991088867\n"
     ]
    },
    {
     "name": "stderr",
     "output_type": "stream",
     "text": [
      " 11%|█████████████▉                                                                                                                   | 158/1459 [00:19<03:02,  7.12it/s]"
     ]
    },
    {
     "name": "stdout",
     "output_type": "stream",
     "text": [
      "batch 156, R-squared: -2.903914889955521, MAE: 15.766172409057617, RMSE: 17.46979331970215\n",
      "batch 157, R-squared: -2.338781417845553, MAE: 15.577274322509766, RMSE: 18.947063446044922\n"
     ]
    },
    {
     "name": "stderr",
     "output_type": "stream",
     "text": [
      " 11%|██████████████▏                                                                                                                  | 160/1459 [00:19<02:40,  8.09it/s]"
     ]
    },
    {
     "name": "stdout",
     "output_type": "stream",
     "text": [
      "batch 158, R-squared: -2.4841145387527974, MAE: 19.604272842407227, RMSE: 21.170177459716797\n",
      "batch 159, R-squared: -3.6728377973853865, MAE: 19.2744140625, RMSE: 20.57753562927246\n"
     ]
    },
    {
     "name": "stderr",
     "output_type": "stream",
     "text": [
      "\r",
      " 11%|██████████████▏                                                                                                                  | 161/1459 [00:19<02:39,  8.14it/s]"
     ]
    },
    {
     "name": "stdout",
     "output_type": "stream",
     "text": [
      "batch 160, R-squared: -2.7303002640578815, MAE: 29.059532165527344, RMSE: 32.56133270263672\n",
      "batch 161, R-squared: -2.9124906070309935, MAE: 25.7728214263916, RMSE: 28.467201232910156\n"
     ]
    },
    {
     "name": "stderr",
     "output_type": "stream",
     "text": [
      " 11%|██████████████▌                                                                                                                  | 164/1459 [00:20<02:40,  8.05it/s]"
     ]
    },
    {
     "name": "stdout",
     "output_type": "stream",
     "text": [
      "batch 162, R-squared: -2.315389206370866, MAE: 25.09703826904297, RMSE: 29.556928634643555\n",
      "batch 163, R-squared: -3.5997749492240114, MAE: 21.468738555908203, RMSE: 24.401016235351562\n"
     ]
    },
    {
     "name": "stderr",
     "output_type": "stream",
     "text": [
      " 11%|██████████████▋                                                                                                                  | 166/1459 [00:20<02:42,  7.94it/s]"
     ]
    },
    {
     "name": "stdout",
     "output_type": "stream",
     "text": [
      "batch 164, R-squared: -3.861218280732964, MAE: 32.385284423828125, RMSE: 34.287353515625\n",
      "batch 165, R-squared: -1.660091960620056, MAE: 15.803279876708984, RMSE: 19.451318740844727\n"
     ]
    },
    {
     "name": "stderr",
     "output_type": "stream",
     "text": [
      " 12%|██████████████▊                                                                                                                  | 168/1459 [00:20<02:48,  7.65it/s]"
     ]
    },
    {
     "name": "stdout",
     "output_type": "stream",
     "text": [
      "batch 166, R-squared: -2.7386465806105678, MAE: 21.913007736206055, RMSE: 23.825828552246094\n",
      "batch 167, R-squared: -1.6295431418748363, MAE: 17.208236694335938, RMSE: 21.815792083740234\n"
     ]
    },
    {
     "name": "stderr",
     "output_type": "stream",
     "text": [
      " 12%|███████████████                                                                                                                  | 171/1459 [00:21<02:32,  8.46it/s]"
     ]
    },
    {
     "name": "stdout",
     "output_type": "stream",
     "text": [
      "batch 168, R-squared: -2.706945846910207, MAE: 13.528474807739258, RMSE: 15.451171875\n",
      "batch 169, R-squared: -2.937164744104959, MAE: 26.814363479614258, RMSE: 30.847457885742188\n",
      "batch 170, R-squared: -3.578061543873708, MAE: 13.976749420166016, RMSE: 15.21630859375\n"
     ]
    },
    {
     "name": "stderr",
     "output_type": "stream",
     "text": [
      "\r",
      " 12%|███████████████▎                                                                                                                 | 173/1459 [00:21<02:29,  8.63it/s]"
     ]
    },
    {
     "name": "stdout",
     "output_type": "stream",
     "text": [
      "batch 171, R-squared: -2.8328145618655913, MAE: 15.531497955322266, RMSE: 17.334827423095703\n",
      "batch 172, R-squared: -3.279315273355438, MAE: 24.02452850341797, RMSE: 27.205642700195312\n"
     ]
    },
    {
     "name": "stderr",
     "output_type": "stream",
     "text": [
      " 12%|███████████████▍                                                                                                                 | 175/1459 [00:21<02:37,  8.18it/s]"
     ]
    },
    {
     "name": "stdout",
     "output_type": "stream",
     "text": [
      "batch 173, R-squared: -3.3241723185392726, MAE: 28.725929260253906, RMSE: 30.18374252319336\n",
      "batch 174, R-squared: -3.516636518384056, MAE: 22.546382904052734, RMSE: 25.703887939453125\n"
     ]
    },
    {
     "name": "stderr",
     "output_type": "stream",
     "text": [
      " 12%|███████████████▋                                                                                                                 | 177/1459 [00:21<02:44,  7.81it/s]"
     ]
    },
    {
     "name": "stdout",
     "output_type": "stream",
     "text": [
      "batch 175, R-squared: -2.651151954990395, MAE: 22.56328773498535, RMSE: 28.115741729736328\n",
      "batch 176, R-squared: -3.134902592294317, MAE: 22.953031539916992, RMSE: 25.436983108520508\n"
     ]
    },
    {
     "name": "stderr",
     "output_type": "stream",
     "text": [
      "\r",
      " 12%|███████████████▊                                                                                                                 | 179/1459 [00:22<02:38,  8.07it/s]"
     ]
    },
    {
     "name": "stdout",
     "output_type": "stream",
     "text": [
      "batch 177, R-squared: -2.1340096732420504, MAE: 19.69228744506836, RMSE: 23.660282135009766\n",
      "batch 178, R-squared: -2.854804643030435, MAE: 17.530147552490234, RMSE: 20.21306610107422\n"
     ]
    },
    {
     "name": "stderr",
     "output_type": "stream",
     "text": [
      " 12%|████████████████                                                                                                                 | 181/1459 [00:22<03:02,  6.99it/s]"
     ]
    },
    {
     "name": "stdout",
     "output_type": "stream",
     "text": [
      "batch 179, R-squared: -2.719498382612888, MAE: 28.420963287353516, RMSE: 30.993446350097656\n",
      "batch 180, R-squared: -4.519590909601313, MAE: 18.873188018798828, RMSE: 20.514116287231445\n"
     ]
    },
    {
     "name": "stderr",
     "output_type": "stream",
     "text": [
      " 13%|████████████████▏                                                                                                                | 183/1459 [00:22<03:00,  7.08it/s]"
     ]
    },
    {
     "name": "stdout",
     "output_type": "stream",
     "text": [
      "batch 181, R-squared: -1.3252186597528175, MAE: 17.010133743286133, RMSE: 23.03819465637207\n",
      "batch 182, R-squared: -3.105301497836309, MAE: 15.56407356262207, RMSE: 16.64539337158203\n"
     ]
    },
    {
     "name": "stderr",
     "output_type": "stream",
     "text": [
      "\r",
      " 13%|████████████████▎                                                                                                                | 185/1459 [00:23<02:40,  7.95it/s]"
     ]
    },
    {
     "name": "stdout",
     "output_type": "stream",
     "text": [
      "batch 183, R-squared: -2.6210230226880653, MAE: 16.892013549804688, RMSE: 19.345693588256836\n",
      "batch 184, R-squared: -3.4981936671331377, MAE: 36.576255798339844, RMSE: 40.53961944580078\n",
      "batch 185, R-squared: -2.329800263806518, MAE: 16.846302032470703, RMSE: 18.887313842773438\n"
     ]
    },
    {
     "name": "stderr",
     "output_type": "stream",
     "text": [
      " 13%|████████████████▌                                                                                                                | 188/1459 [00:23<02:25,  8.76it/s]"
     ]
    },
    {
     "name": "stdout",
     "output_type": "stream",
     "text": [
      "batch 186, R-squared: -2.3384508712193983, MAE: 22.8892765045166, RMSE: 26.91888427734375\n",
      "batch 187, R-squared: -3.2369380391793237, MAE: 17.112667083740234, RMSE: 18.58051300048828\n",
      "batch 188, R-squared: -3.0080775403072972, MAE: 20.886920928955078, RMSE: 22.429607391357422\n"
     ]
    },
    {
     "name": "stderr",
     "output_type": "stream",
     "text": [
      " 13%|████████████████▉                                                                                                                | 191/1459 [00:23<02:25,  8.71it/s]"
     ]
    },
    {
     "name": "stdout",
     "output_type": "stream",
     "text": [
      "batch 189, R-squared: -2.6320762555095487, MAE: 26.13129425048828, RMSE: 28.98546028137207\n",
      "batch 190, R-squared: -1.8309615841841342, MAE: 29.096647262573242, RMSE: 37.64771270751953\n"
     ]
    },
    {
     "name": "stderr",
     "output_type": "stream",
     "text": [
      " 13%|█████████████████                                                                                                                | 193/1459 [00:23<02:33,  8.23it/s]"
     ]
    },
    {
     "name": "stdout",
     "output_type": "stream",
     "text": [
      "batch 191, R-squared: -2.876754521028577, MAE: 20.224239349365234, RMSE: 22.386337280273438\n",
      "batch 192, R-squared: -3.1190079032279234, MAE: 15.011100769042969, RMSE: 16.685152053833008\n",
      "batch 193, R-squared: -3.617337721293257, MAE: 19.41803741455078, RMSE: 20.553749084472656\n"
     ]
    },
    {
     "name": "stderr",
     "output_type": "stream",
     "text": [
      " 13%|█████████████████▎                                                                                                               | 196/1459 [00:24<02:24,  8.74it/s]"
     ]
    },
    {
     "name": "stdout",
     "output_type": "stream",
     "text": [
      "batch 194, R-squared: -2.425015686280764, MAE: 18.496612548828125, RMSE: 20.445634841918945\n",
      "batch 195, R-squared: -2.9864870711557217, MAE: 16.909706115722656, RMSE: 18.614158630371094\n"
     ]
    },
    {
     "name": "stderr",
     "output_type": "stream",
     "text": [
      " 14%|█████████████████▌                                                                                                               | 198/1459 [00:24<02:44,  7.67it/s]"
     ]
    },
    {
     "name": "stdout",
     "output_type": "stream",
     "text": [
      "batch 196, R-squared: -2.5328518656520504, MAE: 25.315391540527344, RMSE: 28.51256561279297\n",
      "batch 197, R-squared: -2.5821464604718303, MAE: 31.435550689697266, RMSE: 34.72300338745117\n"
     ]
    },
    {
     "name": "stderr",
     "output_type": "stream",
     "text": [
      " 14%|█████████████████▋                                                                                                               | 200/1459 [00:24<02:58,  7.03it/s]"
     ]
    },
    {
     "name": "stdout",
     "output_type": "stream",
     "text": [
      "batch 198, R-squared: -1.8143281178660091, MAE: 15.160100936889648, RMSE: 18.596969604492188\n",
      "batch 199, R-squared: -1.93928566170288, MAE: 21.392066955566406, RMSE: 26.827503204345703\n"
     ]
    },
    {
     "name": "stderr",
     "output_type": "stream",
     "text": [
      "\r",
      " 14%|█████████████████▊                                                                                                               | 201/1459 [00:25<02:55,  7.15it/s]"
     ]
    },
    {
     "name": "stdout",
     "output_type": "stream",
     "text": [
      "batch 200, R-squared: -2.663245212521199, MAE: 23.899517059326172, RMSE: 27.900188446044922\n",
      "batch 201, R-squared: -2.131219799839041, MAE: 21.382312774658203, RMSE: 24.877010345458984\n"
     ]
    },
    {
     "name": "stderr",
     "output_type": "stream",
     "text": [
      " 14%|██████████████████                                                                                                               | 204/1459 [00:25<02:31,  8.27it/s]"
     ]
    },
    {
     "name": "stdout",
     "output_type": "stream",
     "text": [
      "batch 202, R-squared: -4.110171631695907, MAE: 23.9071102142334, RMSE: 25.54041290283203\n",
      "batch 203, R-squared: -3.847783639969223, MAE: 18.95511245727539, RMSE: 20.461252212524414\n"
     ]
    },
    {
     "name": "stderr",
     "output_type": "stream",
     "text": [
      "\r",
      " 14%|██████████████████▏                                                                                                              | 206/1459 [00:25<02:32,  8.24it/s]"
     ]
    },
    {
     "name": "stdout",
     "output_type": "stream",
     "text": [
      "batch 204, R-squared: -3.7122521462641362, MAE: 30.72052764892578, RMSE: 32.72209930419922\n",
      "batch 205, R-squared: -3.4030916533291524, MAE: 19.725629806518555, RMSE: 21.32829475402832\n"
     ]
    },
    {
     "name": "stderr",
     "output_type": "stream",
     "text": [
      " 14%|██████████████████▍                                                                                                              | 208/1459 [00:25<02:41,  7.75it/s]"
     ]
    },
    {
     "name": "stdout",
     "output_type": "stream",
     "text": [
      "batch 206, R-squared: -3.0779287244848668, MAE: 24.13006591796875, RMSE: 27.210817337036133\n",
      "batch 207, R-squared: -2.9604953544826262, MAE: 22.813905715942383, RMSE: 25.545082092285156\n"
     ]
    },
    {
     "name": "stderr",
     "output_type": "stream",
     "text": [
      " 14%|██████████████████▌                                                                                                              | 210/1459 [00:26<02:44,  7.62it/s]"
     ]
    },
    {
     "name": "stdout",
     "output_type": "stream",
     "text": [
      "batch 208, R-squared: -1.9718223188876414, MAE: 20.778928756713867, RMSE: 25.436431884765625\n",
      "batch 209, R-squared: -2.294333014916936, MAE: 20.757612228393555, RMSE: 24.381107330322266\n"
     ]
    },
    {
     "name": "stderr",
     "output_type": "stream",
     "text": [
      " 15%|██████████████████▋                                                                                                              | 212/1459 [00:26<02:36,  7.97it/s]"
     ]
    },
    {
     "name": "stdout",
     "output_type": "stream",
     "text": [
      "batch 210, R-squared: -2.436201370497557, MAE: 10.069587707519531, RMSE: 11.514768600463867\n",
      "batch 211, R-squared: -3.854172861023433, MAE: 33.44921875, RMSE: 35.97254943847656\n"
     ]
    },
    {
     "name": "stderr",
     "output_type": "stream",
     "text": [
      " 15%|██████████████████▉                                                                                                              | 214/1459 [00:26<02:36,  7.94it/s]"
     ]
    },
    {
     "name": "stdout",
     "output_type": "stream",
     "text": [
      "batch 212, R-squared: -1.7463745954406988, MAE: 15.222663879394531, RMSE: 18.107505798339844\n",
      "batch 213, R-squared: -3.239166406496301, MAE: 27.4606990814209, RMSE: 32.42731475830078\n"
     ]
    },
    {
     "name": "stderr",
     "output_type": "stream",
     "text": [
      " 15%|███████████████████                                                                                                              | 216/1459 [00:26<02:55,  7.06it/s]"
     ]
    },
    {
     "name": "stdout",
     "output_type": "stream",
     "text": [
      "batch 214, R-squared: -3.1800482661477996, MAE: 22.614038467407227, RMSE: 25.270151138305664\n",
      "batch 215, R-squared: -2.544511311202581, MAE: 18.92032241821289, RMSE: 22.569477081298828\n"
     ]
    },
    {
     "name": "stderr",
     "output_type": "stream",
     "text": [
      "\r",
      " 15%|███████████████████▏                                                                                                             | 217/1459 [00:27<02:52,  7.21it/s]"
     ]
    },
    {
     "name": "stdout",
     "output_type": "stream",
     "text": [
      "batch 216, R-squared: -3.4692491768795146, MAE: 24.84674072265625, RMSE: 27.96862030029297\n",
      "batch 217, R-squared: -2.2906873429775265, MAE: 18.813819885253906, RMSE: 21.878726959228516\n"
     ]
    },
    {
     "name": "stderr",
     "output_type": "stream",
     "text": [
      " 15%|███████████████████▍                                                                                                             | 220/1459 [00:27<02:45,  7.49it/s]"
     ]
    },
    {
     "name": "stdout",
     "output_type": "stream",
     "text": [
      "batch 218, R-squared: -2.7898904064223036, MAE: 21.6239070892334, RMSE: 24.598506927490234\n",
      "batch 219, R-squared: -3.2669890848559335, MAE: 25.04758644104004, RMSE: 28.279705047607422\n"
     ]
    },
    {
     "name": "stderr",
     "output_type": "stream",
     "text": [
      " 15%|███████████████████▋                                                                                                             | 222/1459 [00:27<02:39,  7.74it/s]"
     ]
    },
    {
     "name": "stdout",
     "output_type": "stream",
     "text": [
      "batch 220, R-squared: -2.7794731384128006, MAE: 16.353097915649414, RMSE: 18.218780517578125\n",
      "batch 221, R-squared: -2.9055369904391988, MAE: 25.243209838867188, RMSE: 29.03021240234375\n"
     ]
    },
    {
     "name": "stderr",
     "output_type": "stream",
     "text": [
      " 15%|███████████████████▊                                                                                                             | 224/1459 [00:27<02:32,  8.11it/s]"
     ]
    },
    {
     "name": "stdout",
     "output_type": "stream",
     "text": [
      "batch 222, R-squared: -2.1125083528894506, MAE: 20.074100494384766, RMSE: 22.337644577026367\n",
      "batch 223, R-squared: -2.909202404006757, MAE: 19.506454467773438, RMSE: 21.695661544799805\n"
     ]
    },
    {
     "name": "stderr",
     "output_type": "stream",
     "text": [
      " 15%|███████████████████▉                                                                                                             | 226/1459 [00:28<02:25,  8.50it/s]"
     ]
    },
    {
     "name": "stdout",
     "output_type": "stream",
     "text": [
      "batch 224, R-squared: -2.7003159333007747, MAE: 17.631128311157227, RMSE: 19.057546615600586\n",
      "batch 225, R-squared: -2.1175880407258765, MAE: 18.46822166442871, RMSE: 23.22905158996582\n"
     ]
    },
    {
     "name": "stderr",
     "output_type": "stream",
     "text": [
      " 16%|████████████████████▏                                                                                                            | 228/1459 [00:28<02:22,  8.62it/s]"
     ]
    },
    {
     "name": "stdout",
     "output_type": "stream",
     "text": [
      "batch 226, R-squared: -3.290943674816554, MAE: 18.790210723876953, RMSE: 20.398168563842773\n",
      "batch 227, R-squared: -3.1880446595696714, MAE: 25.925830841064453, RMSE: 29.376766204833984\n"
     ]
    },
    {
     "name": "stderr",
     "output_type": "stream",
     "text": [
      " 16%|████████████████████▎                                                                                                            | 230/1459 [00:28<02:34,  7.97it/s]"
     ]
    },
    {
     "name": "stdout",
     "output_type": "stream",
     "text": [
      "batch 228, R-squared: -1.832459552608193, MAE: 29.929153442382812, RMSE: 37.54377746582031\n",
      "batch 229, R-squared: -4.303946343978611, MAE: 30.034561157226562, RMSE: 32.349788665771484\n",
      "batch 230, R-squared: -2.616587711627643, MAE: 19.02005386352539, RMSE: 21.403881072998047\n"
     ]
    },
    {
     "name": "stderr",
     "output_type": "stream",
     "text": [
      " 16%|████████████████████▌                                                                                                            | 233/1459 [00:28<02:21,  8.65it/s]"
     ]
    },
    {
     "name": "stdout",
     "output_type": "stream",
     "text": [
      "batch 231, R-squared: -3.075006883948218, MAE: 20.36955451965332, RMSE: 23.79434585571289\n",
      "batch 232, R-squared: -1.6422537189347666, MAE: 12.75828742980957, RMSE: 15.456744194030762\n"
     ]
    },
    {
     "name": "stderr",
     "output_type": "stream",
     "text": [
      " 16%|████████████████████▊                                                                                                            | 235/1459 [00:29<02:30,  8.11it/s]"
     ]
    },
    {
     "name": "stdout",
     "output_type": "stream",
     "text": [
      "batch 233, R-squared: -1.7481806127705015, MAE: 19.112661361694336, RMSE: 22.38308334350586\n",
      "batch 234, R-squared: -1.7981087429302407, MAE: 19.460941314697266, RMSE: 24.367639541625977\n"
     ]
    },
    {
     "name": "stderr",
     "output_type": "stream",
     "text": [
      " 16%|████████████████████▉                                                                                                            | 237/1459 [00:29<02:33,  7.95it/s]"
     ]
    },
    {
     "name": "stdout",
     "output_type": "stream",
     "text": [
      "batch 235, R-squared: -3.6953858042709777, MAE: 31.692581176757812, RMSE: 36.838584899902344\n",
      "batch 236, R-squared: -1.2123882345199724, MAE: 11.602509498596191, RMSE: 13.672060012817383\n"
     ]
    },
    {
     "name": "stderr",
     "output_type": "stream",
     "text": [
      " 16%|█████████████████████▏                                                                                                           | 239/1459 [00:29<02:36,  7.78it/s]"
     ]
    },
    {
     "name": "stdout",
     "output_type": "stream",
     "text": [
      "batch 237, R-squared: -1.9487570905182336, MAE: 28.07520294189453, RMSE: 34.310218811035156\n",
      "batch 238, R-squared: -3.5143759580181553, MAE: 19.882686614990234, RMSE: 20.915353775024414\n"
     ]
    },
    {
     "name": "stderr",
     "output_type": "stream",
     "text": [
      "\r",
      " 17%|█████████████████████▎                                                                                                           | 241/1459 [00:29<02:22,  8.53it/s]"
     ]
    },
    {
     "name": "stdout",
     "output_type": "stream",
     "text": [
      "batch 239, R-squared: -3.389077135240339, MAE: 30.90000343322754, RMSE: 34.6765022277832\n",
      "batch 240, R-squared: -1.4903992913402635, MAE: 19.409360885620117, RMSE: 22.838214874267578\n"
     ]
    },
    {
     "name": "stderr",
     "output_type": "stream",
     "text": [
      " 17%|█████████████████████▍                                                                                                           | 243/1459 [00:30<02:38,  7.69it/s]"
     ]
    },
    {
     "name": "stdout",
     "output_type": "stream",
     "text": [
      "batch 241, R-squared: -2.6270155738945133, MAE: 13.946282386779785, RMSE: 15.692709922790527\n",
      "batch 242, R-squared: -2.148922321909886, MAE: 15.135921478271484, RMSE: 18.139175415039062\n"
     ]
    },
    {
     "name": "stderr",
     "output_type": "stream",
     "text": [
      " 17%|█████████████████████▋                                                                                                           | 245/1459 [00:30<02:42,  7.48it/s]"
     ]
    },
    {
     "name": "stdout",
     "output_type": "stream",
     "text": [
      "batch 243, R-squared: -3.297303581904712, MAE: 24.243749618530273, RMSE: 27.027254104614258\n",
      "batch 244, R-squared: -2.8984331551372287, MAE: 22.707916259765625, RMSE: 26.491104125976562\n"
     ]
    },
    {
     "name": "stderr",
     "output_type": "stream",
     "text": [
      " 17%|█████████████████████▊                                                                                                           | 247/1459 [00:30<02:28,  8.17it/s]"
     ]
    },
    {
     "name": "stdout",
     "output_type": "stream",
     "text": [
      "batch 245, R-squared: -2.68364246055811, MAE: 15.750267028808594, RMSE: 17.405391693115234\n",
      "batch 246, R-squared: -1.7653326533645015, MAE: 28.42082405090332, RMSE: 35.152137756347656\n"
     ]
    },
    {
     "name": "stderr",
     "output_type": "stream",
     "text": [
      " 17%|██████████████████████                                                                                                           | 249/1459 [00:31<02:27,  8.19it/s]"
     ]
    },
    {
     "name": "stdout",
     "output_type": "stream",
     "text": [
      "batch 247, R-squared: -2.8526738160287355, MAE: 23.97565269470215, RMSE: 25.826093673706055\n",
      "batch 248, R-squared: -2.194239716009099, MAE: 24.5811710357666, RMSE: 27.594661712646484\n"
     ]
    },
    {
     "name": "stderr",
     "output_type": "stream",
     "text": [
      " 17%|██████████████████████▏                                                                                                          | 251/1459 [00:31<02:22,  8.50it/s]"
     ]
    },
    {
     "name": "stdout",
     "output_type": "stream",
     "text": [
      "batch 249, R-squared: -2.4675873401574333, MAE: 34.54081726074219, RMSE: 40.72121047973633\n",
      "batch 250, R-squared: -2.3928626647886544, MAE: 15.180912017822266, RMSE: 17.786231994628906\n"
     ]
    },
    {
     "name": "stderr",
     "output_type": "stream",
     "text": [
      " 17%|██████████████████████▎                                                                                                          | 253/1459 [00:31<02:31,  7.96it/s]"
     ]
    },
    {
     "name": "stdout",
     "output_type": "stream",
     "text": [
      "batch 251, R-squared: -4.1804221845217056, MAE: 21.28070831298828, RMSE: 22.163230895996094\n",
      "batch 252, R-squared: -1.9207293114755353, MAE: 25.068389892578125, RMSE: 31.039215087890625\n"
     ]
    },
    {
     "name": "stderr",
     "output_type": "stream",
     "text": [
      " 17%|██████████████████████▌                                                                                                          | 255/1459 [00:31<02:29,  8.06it/s]"
     ]
    },
    {
     "name": "stdout",
     "output_type": "stream",
     "text": [
      "batch 253, R-squared: -2.837629734460256, MAE: 22.105072021484375, RMSE: 24.80235481262207\n",
      "batch 254, R-squared: -2.6487422380170345, MAE: 23.340967178344727, RMSE: 26.34755516052246\n"
     ]
    },
    {
     "name": "stderr",
     "output_type": "stream",
     "text": [
      " 18%|██████████████████████▋                                                                                                          | 257/1459 [00:32<02:37,  7.62it/s]"
     ]
    },
    {
     "name": "stdout",
     "output_type": "stream",
     "text": [
      "batch 255, R-squared: -3.586276720361966, MAE: 18.788057327270508, RMSE: 20.812429428100586\n",
      "batch 256, R-squared: -2.547094106622578, MAE: 18.108619689941406, RMSE: 20.860485076904297\n"
     ]
    },
    {
     "name": "stderr",
     "output_type": "stream",
     "text": [
      " 18%|██████████████████████▉                                                                                                          | 259/1459 [00:32<02:30,  8.00it/s]"
     ]
    },
    {
     "name": "stdout",
     "output_type": "stream",
     "text": [
      "batch 257, R-squared: -3.2013169347020636, MAE: 20.896846771240234, RMSE: 24.10392951965332\n",
      "batch 258, R-squared: -3.450409293102488, MAE: 27.45611000061035, RMSE: 31.024946212768555\n"
     ]
    },
    {
     "name": "stderr",
     "output_type": "stream",
     "text": [
      " 18%|███████████████████████                                                                                                          | 261/1459 [00:32<02:33,  7.79it/s]"
     ]
    },
    {
     "name": "stdout",
     "output_type": "stream",
     "text": [
      "batch 259, R-squared: -1.552609863907753, MAE: 19.306106567382812, RMSE: 23.801952362060547\n",
      "batch 260, R-squared: -3.1253076663356985, MAE: 14.33519172668457, RMSE: 15.73001480102539\n"
     ]
    },
    {
     "name": "stderr",
     "output_type": "stream",
     "text": [
      " 18%|███████████████████████▎                                                                                                         | 263/1459 [00:32<02:26,  8.19it/s]"
     ]
    },
    {
     "name": "stdout",
     "output_type": "stream",
     "text": [
      "batch 261, R-squared: -3.413777910447998, MAE: 26.288516998291016, RMSE: 29.535934448242188\n",
      "batch 262, R-squared: -2.595276275817814, MAE: 18.053848266601562, RMSE: 20.72896957397461\n"
     ]
    },
    {
     "name": "stderr",
     "output_type": "stream",
     "text": [
      " 18%|███████████████████████▍                                                                                                         | 265/1459 [00:33<02:32,  7.81it/s]"
     ]
    },
    {
     "name": "stdout",
     "output_type": "stream",
     "text": [
      "batch 263, R-squared: -3.7259575127902744, MAE: 18.401403427124023, RMSE: 21.01320457458496\n",
      "batch 264, R-squared: -3.4553884736548417, MAE: 18.232324600219727, RMSE: 18.887712478637695\n"
     ]
    },
    {
     "name": "stderr",
     "output_type": "stream",
     "text": [
      "\r",
      " 18%|███████████████████████▌                                                                                                         | 266/1459 [00:33<02:40,  7.43it/s]"
     ]
    },
    {
     "name": "stdout",
     "output_type": "stream",
     "text": [
      "batch 265, R-squared: -2.733909480046247, MAE: 16.664220809936523, RMSE: 18.01976776123047\n",
      "batch 266, R-squared: -3.382454044284036, MAE: 28.331880569458008, RMSE: 30.51308822631836\n"
     ]
    },
    {
     "name": "stderr",
     "output_type": "stream",
     "text": [
      " 18%|███████████████████████▊                                                                                                         | 269/1459 [00:33<02:25,  8.17it/s]"
     ]
    },
    {
     "name": "stdout",
     "output_type": "stream",
     "text": [
      "batch 267, R-squared: -1.7626657072935101, MAE: 16.207962036132812, RMSE: 21.41277313232422\n",
      "batch 268, R-squared: -1.8763664264569324, MAE: 20.882144927978516, RMSE: 26.26181411743164\n"
     ]
    },
    {
     "name": "stderr",
     "output_type": "stream",
     "text": [
      "\r",
      " 19%|███████████████████████▊                                                                                                         | 270/1459 [00:33<02:26,  8.09it/s]"
     ]
    },
    {
     "name": "stdout",
     "output_type": "stream",
     "text": [
      "batch 269, R-squared: -2.575466224843743, MAE: 15.04144287109375, RMSE: 19.03342056274414\n",
      "batch 270, R-squared: -2.615560094158015, MAE: 22.650436401367188, RMSE: 26.992095947265625\n"
     ]
    },
    {
     "name": "stderr",
     "output_type": "stream",
     "text": [
      " 19%|████████████████████████▏                                                                                                        | 273/1459 [00:33<02:14,  8.84it/s]"
     ]
    },
    {
     "name": "stdout",
     "output_type": "stream",
     "text": [
      "batch 271, R-squared: -1.6730515957173289, MAE: 17.92089080810547, RMSE: 22.65545082092285\n",
      "batch 272, R-squared: -2.2862894652319508, MAE: 16.580860137939453, RMSE: 18.11646842956543\n"
     ]
    },
    {
     "name": "stderr",
     "output_type": "stream",
     "text": [
      " 19%|████████████████████████▎                                                                                                        | 275/1459 [00:34<02:23,  8.26it/s]"
     ]
    },
    {
     "name": "stdout",
     "output_type": "stream",
     "text": [
      "batch 273, R-squared: -2.5093457809084123, MAE: 25.785614013671875, RMSE: 30.00412368774414\n",
      "batch 274, R-squared: -2.7606622165217516, MAE: 18.89866065979004, RMSE: 21.37751007080078\n"
     ]
    },
    {
     "name": "stderr",
     "output_type": "stream",
     "text": [
      "\r",
      " 19%|████████████████████████▍                                                                                                        | 276/1459 [00:34<02:28,  7.96it/s]"
     ]
    },
    {
     "name": "stdout",
     "output_type": "stream",
     "text": [
      "batch 275, R-squared: -3.3435195842991368, MAE: 18.411813735961914, RMSE: 19.936370849609375\n",
      "batch 276, R-squared: -2.4812425776591356, MAE: 18.875545501708984, RMSE: 22.17259979248047\n"
     ]
    },
    {
     "name": "stderr",
     "output_type": "stream",
     "text": [
      " 19%|████████████████████████▋                                                                                                        | 279/1459 [00:34<02:25,  8.09it/s]"
     ]
    },
    {
     "name": "stdout",
     "output_type": "stream",
     "text": [
      "batch 277, R-squared: -2.4775983534441415, MAE: 23.65239906311035, RMSE: 27.479598999023438\n",
      "batch 278, R-squared: -1.7433354557453842, MAE: 17.89397430419922, RMSE: 22.813125610351562\n"
     ]
    },
    {
     "name": "stderr",
     "output_type": "stream",
     "text": [
      "\r",
      " 19%|████████████████████████▊                                                                                                        | 280/1459 [00:34<02:35,  7.60it/s]"
     ]
    },
    {
     "name": "stdout",
     "output_type": "stream",
     "text": [
      "batch 279, R-squared: -2.7389760123718982, MAE: 22.8903865814209, RMSE: 24.551725387573242\n",
      "batch 280, R-squared: -3.09159281163262, MAE: 19.807390213012695, RMSE: 21.830921173095703\n"
     ]
    },
    {
     "name": "stderr",
     "output_type": "stream",
     "text": [
      "\r",
      " 19%|████████████████████████▉                                                                                                        | 282/1459 [00:35<02:33,  7.68it/s]"
     ]
    },
    {
     "name": "stdout",
     "output_type": "stream",
     "text": [
      "batch 281, R-squared: -3.2180211809759136, MAE: 29.692874908447266, RMSE: 31.84222412109375\n",
      "batch 282, R-squared: -3.19690596221945, MAE: 28.551509857177734, RMSE: 31.40928077697754\n"
     ]
    },
    {
     "name": "stderr",
     "output_type": "stream",
     "text": [
      " 20%|█████████████████████████▏                                                                                                       | 285/1459 [00:35<02:25,  8.09it/s]"
     ]
    },
    {
     "name": "stdout",
     "output_type": "stream",
     "text": [
      "batch 283, R-squared: -3.369987530368811, MAE: 23.182706832885742, RMSE: 25.562082290649414\n",
      "batch 284, R-squared: -4.495611936738747, MAE: 19.69190216064453, RMSE: 20.915464401245117\n"
     ]
    },
    {
     "name": "stderr",
     "output_type": "stream",
     "text": [
      " 20%|█████████████████████████▍                                                                                                       | 287/1459 [00:35<02:30,  7.78it/s]"
     ]
    },
    {
     "name": "stdout",
     "output_type": "stream",
     "text": [
      "batch 285, R-squared: -2.494262841831305, MAE: 22.76438331604004, RMSE: 24.15276336669922\n",
      "batch 286, R-squared: -4.686195308125351, MAE: 20.695781707763672, RMSE: 22.202804565429688\n"
     ]
    },
    {
     "name": "stderr",
     "output_type": "stream",
     "text": [
      " 20%|█████████████████████████▌                                                                                                       | 289/1459 [00:36<02:31,  7.74it/s]"
     ]
    },
    {
     "name": "stdout",
     "output_type": "stream",
     "text": [
      "batch 287, R-squared: -2.3167239003103477, MAE: 17.10936737060547, RMSE: 19.15777015686035\n",
      "batch 288, R-squared: -2.1384246592299974, MAE: 21.935504913330078, RMSE: 24.415298461914062\n"
     ]
    },
    {
     "name": "stderr",
     "output_type": "stream",
     "text": [
      " 20%|█████████████████████████▋                                                                                                       | 291/1459 [00:36<02:32,  7.66it/s]"
     ]
    },
    {
     "name": "stdout",
     "output_type": "stream",
     "text": [
      "batch 289, R-squared: -2.213722114980029, MAE: 27.733734130859375, RMSE: 32.27096176147461\n",
      "batch 290, R-squared: -2.247505111624348, MAE: 23.440380096435547, RMSE: 27.99062728881836\n"
     ]
    },
    {
     "name": "stderr",
     "output_type": "stream",
     "text": [
      "\r",
      " 20%|█████████████████████████▊                                                                                                       | 292/1459 [00:36<02:22,  8.20it/s]"
     ]
    },
    {
     "name": "stdout",
     "output_type": "stream",
     "text": [
      "batch 291, R-squared: -3.402569738605732, MAE: 21.19078254699707, RMSE: 21.818702697753906\n",
      "batch 292, R-squared: -3.749902505049502, MAE: 21.195465087890625, RMSE: 22.637428283691406\n"
     ]
    },
    {
     "name": "stderr",
     "output_type": "stream",
     "text": [
      " 20%|██████████████████████████                                                                                                       | 295/1459 [00:36<02:22,  8.19it/s]"
     ]
    },
    {
     "name": "stdout",
     "output_type": "stream",
     "text": [
      "batch 293, R-squared: -2.728081196433686, MAE: 28.051305770874023, RMSE: 33.04293441772461\n",
      "batch 294, R-squared: -3.568850627340975, MAE: 12.745809555053711, RMSE: 14.08665657043457\n"
     ]
    },
    {
     "name": "stderr",
     "output_type": "stream",
     "text": [
      " 20%|██████████████████████████▎                                                                                                      | 297/1459 [00:37<02:32,  7.61it/s]"
     ]
    },
    {
     "name": "stdout",
     "output_type": "stream",
     "text": [
      "batch 295, R-squared: -1.798096223168506, MAE: 13.689404487609863, RMSE: 16.44940185546875\n",
      "batch 296, R-squared: -1.295566790687623, MAE: 22.234024047851562, RMSE: 29.644290924072266\n"
     ]
    },
    {
     "name": "stderr",
     "output_type": "stream",
     "text": [
      " 20%|██████████████████████████▍                                                                                                      | 299/1459 [00:37<02:29,  7.74it/s]"
     ]
    },
    {
     "name": "stdout",
     "output_type": "stream",
     "text": [
      "batch 297, R-squared: -1.746015008061176, MAE: 16.676738739013672, RMSE: 20.93783950805664\n",
      "batch 298, R-squared: -2.714267883444385, MAE: 15.32882022857666, RMSE: 16.83065414428711\n"
     ]
    },
    {
     "name": "stderr",
     "output_type": "stream",
     "text": [
      " 21%|██████████████████████████▌                                                                                                      | 301/1459 [00:37<02:27,  7.83it/s]"
     ]
    },
    {
     "name": "stdout",
     "output_type": "stream",
     "text": [
      "batch 299, R-squared: -3.893385509376179, MAE: 23.323640823364258, RMSE: 25.433807373046875\n",
      "batch 300, R-squared: -2.095860065351952, MAE: 17.51294708251953, RMSE: 19.55201530456543\n"
     ]
    },
    {
     "name": "stderr",
     "output_type": "stream",
     "text": [
      " 21%|██████████████████████████▊                                                                                                      | 303/1459 [00:37<02:29,  7.74it/s]"
     ]
    },
    {
     "name": "stdout",
     "output_type": "stream",
     "text": [
      "batch 301, R-squared: -2.8073025571407033, MAE: 16.485055923461914, RMSE: 18.464214324951172\n",
      "batch 302, R-squared: -3.205524542171871, MAE: 26.261756896972656, RMSE: 30.43759536743164\n"
     ]
    },
    {
     "name": "stderr",
     "output_type": "stream",
     "text": [
      " 21%|██████████████████████████▉                                                                                                      | 305/1459 [00:38<02:38,  7.29it/s]"
     ]
    },
    {
     "name": "stdout",
     "output_type": "stream",
     "text": [
      "batch 303, R-squared: -3.548209779228374, MAE: 29.192371368408203, RMSE: 31.718128204345703\n",
      "batch 304, R-squared: -1.46506199565866, MAE: 16.29648208618164, RMSE: 21.432653427124023\n"
     ]
    },
    {
     "name": "stderr",
     "output_type": "stream",
     "text": [
      " 21%|███████████████████████████▏                                                                                                     | 307/1459 [00:38<02:46,  6.90it/s]"
     ]
    },
    {
     "name": "stdout",
     "output_type": "stream",
     "text": [
      "batch 305, R-squared: -3.2696530794003396, MAE: 20.73824119567871, RMSE: 22.20298194885254\n",
      "batch 306, R-squared: -2.25306968085891, MAE: 21.552568435668945, RMSE: 24.40829086303711\n"
     ]
    },
    {
     "name": "stderr",
     "output_type": "stream",
     "text": [
      " 21%|███████████████████████████▎                                                                                                     | 309/1459 [00:38<02:34,  7.45it/s]"
     ]
    },
    {
     "name": "stdout",
     "output_type": "stream",
     "text": [
      "batch 307, R-squared: -2.8991794248100047, MAE: 22.027755737304688, RMSE: 23.734222412109375\n",
      "batch 308, R-squared: -3.9510771036496433, MAE: 31.79019546508789, RMSE: 32.824302673339844\n"
     ]
    },
    {
     "name": "stderr",
     "output_type": "stream",
     "text": [
      " 21%|███████████████████████████▍                                                                                                     | 311/1459 [00:38<02:35,  7.40it/s]"
     ]
    },
    {
     "name": "stdout",
     "output_type": "stream",
     "text": [
      "batch 309, R-squared: -2.7159872130883516, MAE: 27.461997985839844, RMSE: 31.579608917236328\n",
      "batch 310, R-squared: -2.33940152504745, MAE: 27.300678253173828, RMSE: 30.65985679626465\n"
     ]
    },
    {
     "name": "stderr",
     "output_type": "stream",
     "text": [
      " 21%|███████████████████████████▋                                                                                                     | 313/1459 [00:39<02:34,  7.44it/s]"
     ]
    },
    {
     "name": "stdout",
     "output_type": "stream",
     "text": [
      "batch 311, R-squared: -3.067809096373818, MAE: 22.297325134277344, RMSE: 24.268077850341797\n",
      "batch 312, R-squared: -2.6737787727812132, MAE: 25.74313735961914, RMSE: 31.58779525756836\n"
     ]
    },
    {
     "name": "stderr",
     "output_type": "stream",
     "text": [
      "\r",
      " 22%|███████████████████████████▊                                                                                                     | 314/1459 [00:39<02:29,  7.67it/s]"
     ]
    },
    {
     "name": "stdout",
     "output_type": "stream",
     "text": [
      "batch 313, R-squared: -2.7438187738294695, MAE: 22.232440948486328, RMSE: 24.32750701904297\n",
      "batch 314, R-squared: -2.889614811913712, MAE: 16.39613914489746, RMSE: 17.512571334838867\n"
     ]
    },
    {
     "name": "stderr",
     "output_type": "stream",
     "text": [
      " 22%|████████████████████████████                                                                                                     | 317/1459 [00:39<02:21,  8.07it/s]"
     ]
    },
    {
     "name": "stdout",
     "output_type": "stream",
     "text": [
      "batch 315, R-squared: -3.4780103012570773, MAE: 18.958139419555664, RMSE: 21.433475494384766\n",
      "batch 316, R-squared: -2.694101406090701, MAE: 19.075380325317383, RMSE: 21.370302200317383\n"
     ]
    },
    {
     "name": "stderr",
     "output_type": "stream",
     "text": [
      " 22%|████████████████████████████▏                                                                                                    | 319/1459 [00:39<02:26,  7.79it/s]"
     ]
    },
    {
     "name": "stdout",
     "output_type": "stream",
     "text": [
      "batch 317, R-squared: -1.9552428731471752, MAE: 16.0310001373291, RMSE: 19.167972564697266\n",
      "batch 318, R-squared: -2.2355115963821715, MAE: 21.928529739379883, RMSE: 26.817604064941406\n"
     ]
    },
    {
     "name": "stderr",
     "output_type": "stream",
     "text": [
      "\r",
      " 22%|████████████████████████████▎                                                                                                    | 320/1459 [00:40<02:36,  7.29it/s]"
     ]
    },
    {
     "name": "stdout",
     "output_type": "stream",
     "text": [
      "batch 319, R-squared: -2.971699732177622, MAE: 23.470504760742188, RMSE: 27.45455551147461\n",
      "batch 320, R-squared: -2.657114686248494, MAE: 33.517799377441406, RMSE: 38.385765075683594\n"
     ]
    },
    {
     "name": "stderr",
     "output_type": "stream",
     "text": [
      " 22%|████████████████████████████▌                                                                                                    | 323/1459 [00:40<02:16,  8.35it/s]"
     ]
    },
    {
     "name": "stdout",
     "output_type": "stream",
     "text": [
      "batch 321, R-squared: -3.113681508958163, MAE: 15.656150817871094, RMSE: 17.04135513305664\n",
      "batch 322, R-squared: -3.1286940620688406, MAE: 22.37502098083496, RMSE: 24.161954879760742\n"
     ]
    },
    {
     "name": "stderr",
     "output_type": "stream",
     "text": [
      " 22%|████████████████████████████▋                                                                                                    | 325/1459 [00:40<02:33,  7.36it/s]"
     ]
    },
    {
     "name": "stdout",
     "output_type": "stream",
     "text": [
      "batch 323, R-squared: -3.1953743684811875, MAE: 35.43415069580078, RMSE: 39.10887908935547\n",
      "batch 324, R-squared: -2.910207223935063, MAE: 34.84246063232422, RMSE: 36.833946228027344\n"
     ]
    },
    {
     "name": "stderr",
     "output_type": "stream",
     "text": [
      " 22%|████████████████████████████▉                                                                                                    | 327/1459 [00:40<02:45,  6.86it/s]"
     ]
    },
    {
     "name": "stdout",
     "output_type": "stream",
     "text": [
      "batch 325, R-squared: -2.5704343442005815, MAE: 17.25235366821289, RMSE: 18.556320190429688\n",
      "batch 326, R-squared: -3.4991518453501236, MAE: 17.39846420288086, RMSE: 18.588117599487305\n"
     ]
    },
    {
     "name": "stderr",
     "output_type": "stream",
     "text": [
      " 23%|█████████████████████████████                                                                                                    | 329/1459 [00:41<02:26,  7.73it/s]"
     ]
    },
    {
     "name": "stdout",
     "output_type": "stream",
     "text": [
      "batch 327, R-squared: -2.7311195689192136, MAE: 27.623641967773438, RMSE: 32.4668083190918\n",
      "batch 328, R-squared: -2.893085638037772, MAE: 25.24995994567871, RMSE: 29.01331901550293\n",
      "batch 329, R-squared: -3.0290382080523814, MAE: 22.322551727294922, RMSE: 25.05023956298828\n"
     ]
    },
    {
     "name": "stderr",
     "output_type": "stream",
     "text": [
      " 23%|█████████████████████████████▎                                                                                                   | 332/1459 [00:41<02:20,  7.99it/s]"
     ]
    },
    {
     "name": "stdout",
     "output_type": "stream",
     "text": [
      "batch 330, R-squared: -4.482348549111777, MAE: 22.104164123535156, RMSE: 24.071632385253906\n",
      "batch 331, R-squared: -1.537790409084601, MAE: 21.81191062927246, RMSE: 28.91761016845703\n"
     ]
    },
    {
     "name": "stderr",
     "output_type": "stream",
     "text": [
      "\r",
      " 23%|█████████████████████████████▍                                                                                                   | 333/1459 [00:41<02:28,  7.60it/s]"
     ]
    },
    {
     "name": "stdout",
     "output_type": "stream",
     "text": [
      "batch 332, R-squared: -4.147297177636125, MAE: 21.746410369873047, RMSE: 22.9591064453125\n",
      "batch 333, R-squared: -1.8556881639955445, MAE: 11.350495338439941, RMSE: 13.570194244384766\n"
     ]
    },
    {
     "name": "stderr",
     "output_type": "stream",
     "text": [
      " 23%|█████████████████████████████▋                                                                                                   | 336/1459 [00:42<02:18,  8.13it/s]"
     ]
    },
    {
     "name": "stdout",
     "output_type": "stream",
     "text": [
      "batch 334, R-squared: -2.4456939690611903, MAE: 21.855993270874023, RMSE: 27.358844757080078\n",
      "batch 335, R-squared: -3.070637096414576, MAE: 13.733311653137207, RMSE: 15.778770446777344\n"
     ]
    },
    {
     "name": "stderr",
     "output_type": "stream",
     "text": [
      " 23%|█████████████████████████████▉                                                                                                   | 338/1459 [00:42<02:21,  7.91it/s]"
     ]
    },
    {
     "name": "stdout",
     "output_type": "stream",
     "text": [
      "batch 336, R-squared: -3.7340348923670748, MAE: 27.171405792236328, RMSE: 29.560129165649414\n",
      "batch 337, R-squared: -2.564671728677795, MAE: 20.688968658447266, RMSE: 24.061452865600586\n"
     ]
    },
    {
     "name": "stderr",
     "output_type": "stream",
     "text": [
      " 23%|██████████████████████████████                                                                                                   | 340/1459 [00:42<02:32,  7.33it/s]"
     ]
    },
    {
     "name": "stdout",
     "output_type": "stream",
     "text": [
      "batch 338, R-squared: -2.668446333096107, MAE: 43.8768424987793, RMSE: 46.89570236206055\n",
      "batch 339, R-squared: -1.627241413259827, MAE: 20.847946166992188, RMSE: 27.184520721435547\n"
     ]
    },
    {
     "name": "stderr",
     "output_type": "stream",
     "text": [
      "\r",
      " 23%|██████████████████████████████▏                                                                                                  | 341/1459 [00:42<02:28,  7.53it/s]"
     ]
    },
    {
     "name": "stdout",
     "output_type": "stream",
     "text": [
      "batch 340, R-squared: -3.540144836022289, MAE: 27.026397705078125, RMSE: 29.450904846191406\n",
      "batch 341, R-squared: -2.910625519492674, MAE: 15.48609733581543, RMSE: 17.528627395629883\n"
     ]
    },
    {
     "name": "stderr",
     "output_type": "stream",
     "text": [
      " 24%|██████████████████████████████▍                                                                                                  | 344/1459 [00:43<02:20,  7.91it/s]"
     ]
    },
    {
     "name": "stdout",
     "output_type": "stream",
     "text": [
      "batch 342, R-squared: -1.4000476812568285, MAE: 26.111331939697266, RMSE: 33.630126953125\n",
      "batch 343, R-squared: -2.2518348585195067, MAE: 20.862770080566406, RMSE: 24.456830978393555\n"
     ]
    },
    {
     "name": "stderr",
     "output_type": "stream",
     "text": [
      " 24%|██████████████████████████████▌                                                                                                  | 346/1459 [00:43<02:21,  7.89it/s]"
     ]
    },
    {
     "name": "stdout",
     "output_type": "stream",
     "text": [
      "batch 344, R-squared: -2.948094532543282, MAE: 17.586938858032227, RMSE: 19.554141998291016\n",
      "batch 345, R-squared: -3.072595438797885, MAE: 19.709495544433594, RMSE: 22.138362884521484\n"
     ]
    },
    {
     "name": "stderr",
     "output_type": "stream",
     "text": [
      "\r",
      " 24%|██████████████████████████████▋                                                                                                  | 347/1459 [00:43<02:33,  7.25it/s]"
     ]
    },
    {
     "name": "stdout",
     "output_type": "stream",
     "text": [
      "batch 346, R-squared: -2.343387839686485, MAE: 25.934158325195312, RMSE: 31.042373657226562\n",
      "batch 347, R-squared: -3.0123546456215187, MAE: 17.823373794555664, RMSE: 20.838167190551758\n"
     ]
    },
    {
     "name": "stderr",
     "output_type": "stream",
     "text": [
      " 24%|██████████████████████████████▉                                                                                                  | 350/1459 [00:43<02:18,  8.01it/s]"
     ]
    },
    {
     "name": "stdout",
     "output_type": "stream",
     "text": [
      "batch 348, R-squared: -2.8883886129193073, MAE: 15.304746627807617, RMSE: 17.047679901123047\n",
      "batch 349, R-squared: -3.3443917738138094, MAE: 19.89468765258789, RMSE: 22.27242660522461\n"
     ]
    },
    {
     "name": "stderr",
     "output_type": "stream",
     "text": [
      "\r",
      " 24%|███████████████████████████████                                                                                                  | 351/1459 [00:43<02:18,  7.98it/s]"
     ]
    },
    {
     "name": "stdout",
     "output_type": "stream",
     "text": [
      "batch 350, R-squared: -3.3777444976997573, MAE: 18.11361312866211, RMSE: 19.48919677734375\n",
      "batch 351, R-squared: -1.7341934986909924, MAE: 15.148025512695312, RMSE: 18.91789436340332\n"
     ]
    },
    {
     "name": "stderr",
     "output_type": "stream",
     "text": [
      " 24%|███████████████████████████████▎                                                                                                 | 354/1459 [00:44<02:17,  8.06it/s]"
     ]
    },
    {
     "name": "stdout",
     "output_type": "stream",
     "text": [
      "batch 352, R-squared: -3.62026962512855, MAE: 34.69251251220703, RMSE: 38.39885330200195\n",
      "batch 353, R-squared: -2.401234855673444, MAE: 21.247983932495117, RMSE: 24.519559860229492\n"
     ]
    },
    {
     "name": "stderr",
     "output_type": "stream",
     "text": [
      " 24%|███████████████████████████████▍                                                                                                 | 356/1459 [00:44<02:09,  8.54it/s]"
     ]
    },
    {
     "name": "stdout",
     "output_type": "stream",
     "text": [
      "batch 354, R-squared: -3.0902372084773013, MAE: 26.30828857421875, RMSE: 29.937257766723633\n",
      "batch 355, R-squared: -3.114200527963672, MAE: 25.173601150512695, RMSE: 28.909908294677734\n"
     ]
    },
    {
     "name": "stderr",
     "output_type": "stream",
     "text": [
      " 25%|███████████████████████████████▋                                                                                                 | 358/1459 [00:44<02:08,  8.54it/s]"
     ]
    },
    {
     "name": "stdout",
     "output_type": "stream",
     "text": [
      "batch 356, R-squared: -2.5512282569351408, MAE: 14.892973899841309, RMSE: 17.49361801147461\n",
      "batch 357, R-squared: -2.631067528935298, MAE: 32.2159423828125, RMSE: 35.86161422729492\n"
     ]
    },
    {
     "name": "stderr",
     "output_type": "stream",
     "text": [
      " 25%|███████████████████████████████▊                                                                                                 | 360/1459 [00:45<02:24,  7.58it/s]"
     ]
    },
    {
     "name": "stdout",
     "output_type": "stream",
     "text": [
      "batch 358, R-squared: -3.823656077212904, MAE: 19.694303512573242, RMSE: 21.808746337890625\n",
      "batch 359, R-squared: -2.825983167929537, MAE: 31.393991470336914, RMSE: 36.89895248413086\n"
     ]
    },
    {
     "name": "stderr",
     "output_type": "stream",
     "text": [
      " 25%|████████████████████████████████                                                                                                 | 362/1459 [00:45<02:22,  7.71it/s]"
     ]
    },
    {
     "name": "stdout",
     "output_type": "stream",
     "text": [
      "batch 360, R-squared: -2.024122188877334, MAE: 29.38979148864746, RMSE: 37.500919342041016\n",
      "batch 361, R-squared: -2.568603050188344, MAE: 23.693912506103516, RMSE: 28.07842254638672\n"
     ]
    },
    {
     "name": "stderr",
     "output_type": "stream",
     "text": [
      " 25%|████████████████████████████████▏                                                                                                | 364/1459 [00:45<02:21,  7.76it/s]"
     ]
    },
    {
     "name": "stdout",
     "output_type": "stream",
     "text": [
      "batch 362, R-squared: -2.889758993638484, MAE: 23.07561683654785, RMSE: 25.889162063598633\n",
      "batch 363, R-squared: -3.3528190069921817, MAE: 20.777606964111328, RMSE: 23.263721466064453\n"
     ]
    },
    {
     "name": "stderr",
     "output_type": "stream",
     "text": [
      " 25%|████████████████████████████████▎                                                                                                | 366/1459 [00:45<02:19,  7.85it/s]"
     ]
    },
    {
     "name": "stdout",
     "output_type": "stream",
     "text": [
      "batch 364, R-squared: -2.3799489552753816, MAE: 23.546154022216797, RMSE: 25.91818618774414\n",
      "batch 365, R-squared: -3.5935726811102375, MAE: 14.242203712463379, RMSE: 15.466803550720215\n"
     ]
    },
    {
     "name": "stderr",
     "output_type": "stream",
     "text": [
      " 25%|████████████████████████████████▌                                                                                                | 368/1459 [00:46<02:19,  7.81it/s]"
     ]
    },
    {
     "name": "stdout",
     "output_type": "stream",
     "text": [
      "batch 366, R-squared: -2.883117907824681, MAE: 23.86221694946289, RMSE: 26.4130859375\n",
      "batch 367, R-squared: -2.582024390725314, MAE: 28.467329025268555, RMSE: 33.77467346191406\n"
     ]
    },
    {
     "name": "stderr",
     "output_type": "stream",
     "text": [
      " 25%|████████████████████████████████▋                                                                                                | 370/1459 [00:46<02:16,  7.98it/s]"
     ]
    },
    {
     "name": "stdout",
     "output_type": "stream",
     "text": [
      "batch 368, R-squared: -2.0030473021818147, MAE: 21.359970092773438, RMSE: 25.798171997070312\n",
      "batch 369, R-squared: -2.6284999373451, MAE: 23.2637939453125, RMSE: 25.396942138671875\n"
     ]
    },
    {
     "name": "stderr",
     "output_type": "stream",
     "text": [
      " 25%|████████████████████████████████▉                                                                                                | 372/1459 [00:46<02:19,  7.80it/s]"
     ]
    },
    {
     "name": "stdout",
     "output_type": "stream",
     "text": [
      "batch 370, R-squared: -2.011482870403963, MAE: 22.07660484313965, RMSE: 27.059295654296875\n",
      "batch 371, R-squared: -3.131823829051289, MAE: 24.6099796295166, RMSE: 26.126922607421875\n"
     ]
    },
    {
     "name": "stderr",
     "output_type": "stream",
     "text": [
      " 26%|█████████████████████████████████                                                                                                | 374/1459 [00:46<02:17,  7.90it/s]"
     ]
    },
    {
     "name": "stdout",
     "output_type": "stream",
     "text": [
      "batch 372, R-squared: -1.9265443533300968, MAE: 17.177812576293945, RMSE: 21.637611389160156\n",
      "batch 373, R-squared: -3.36025669422097, MAE: 22.443838119506836, RMSE: 24.165952682495117\n"
     ]
    },
    {
     "name": "stderr",
     "output_type": "stream",
     "text": [
      " 26%|█████████████████████████████████▏                                                                                               | 376/1459 [00:47<02:13,  8.10it/s]"
     ]
    },
    {
     "name": "stdout",
     "output_type": "stream",
     "text": [
      "batch 374, R-squared: -2.73789268254365, MAE: 18.86598014831543, RMSE: 20.031726837158203\n",
      "batch 375, R-squared: -3.569230623061234, MAE: 20.72527313232422, RMSE: 22.957109451293945\n"
     ]
    },
    {
     "name": "stderr",
     "output_type": "stream",
     "text": [
      " 26%|█████████████████████████████████▍                                                                                               | 378/1459 [00:47<02:03,  8.77it/s]"
     ]
    },
    {
     "name": "stdout",
     "output_type": "stream",
     "text": [
      "batch 376, R-squared: -3.7275764352677943, MAE: 29.215755462646484, RMSE: 31.949207305908203\n",
      "batch 377, R-squared: -3.2032291367776096, MAE: 23.751163482666016, RMSE: 25.363983154296875\n"
     ]
    },
    {
     "name": "stderr",
     "output_type": "stream",
     "text": [
      "\r",
      " 26%|█████████████████████████████████▌                                                                                               | 379/1459 [00:47<02:07,  8.45it/s]"
     ]
    },
    {
     "name": "stdout",
     "output_type": "stream",
     "text": [
      "batch 378, R-squared: -2.703302822361117, MAE: 20.85873031616211, RMSE: 22.5725040435791\n",
      "batch 379, R-squared: -3.0315487839753175, MAE: 14.598758697509766, RMSE: 16.04764747619629\n"
     ]
    },
    {
     "name": "stderr",
     "output_type": "stream",
     "text": [
      " 26%|█████████████████████████████████▊                                                                                               | 382/1459 [00:47<02:00,  8.94it/s]"
     ]
    },
    {
     "name": "stdout",
     "output_type": "stream",
     "text": [
      "batch 380, R-squared: -2.997294969154867, MAE: 30.925430297851562, RMSE: 34.53570556640625\n",
      "batch 381, R-squared: -1.9086111304056996, MAE: 25.251602172851562, RMSE: 30.649486541748047\n"
     ]
    },
    {
     "name": "stderr",
     "output_type": "stream",
     "text": [
      " 26%|█████████████████████████████████▉                                                                                               | 384/1459 [00:48<02:03,  8.67it/s]"
     ]
    },
    {
     "name": "stdout",
     "output_type": "stream",
     "text": [
      "batch 382, R-squared: -3.5354171987392453, MAE: 16.11577033996582, RMSE: 16.845699310302734\n",
      "batch 383, R-squared: -2.6571161913311574, MAE: 14.95888900756836, RMSE: 17.102327346801758\n"
     ]
    },
    {
     "name": "stderr",
     "output_type": "stream",
     "text": [
      " 26%|██████████████████████████████████▏                                                                                              | 386/1459 [00:48<02:00,  8.94it/s]"
     ]
    },
    {
     "name": "stdout",
     "output_type": "stream",
     "text": [
      "batch 384, R-squared: -2.4471374685573366, MAE: 24.246572494506836, RMSE: 26.275955200195312\n",
      "batch 385, R-squared: -2.3112357349692, MAE: 20.265745162963867, RMSE: 25.3587646484375\n"
     ]
    },
    {
     "name": "stderr",
     "output_type": "stream",
     "text": [
      "\r",
      " 27%|██████████████████████████████████▏                                                                                              | 387/1459 [00:48<02:07,  8.38it/s]"
     ]
    },
    {
     "name": "stdout",
     "output_type": "stream",
     "text": [
      "batch 386, R-squared: -3.0446218128534395, MAE: 19.504846572875977, RMSE: 22.115198135375977\n",
      "batch 387, R-squared: -3.203640233950379, MAE: 21.935476303100586, RMSE: 24.163658142089844\n"
     ]
    },
    {
     "name": "stderr",
     "output_type": "stream",
     "text": [
      " 27%|██████████████████████████████████▍                                                                                              | 390/1459 [00:48<02:08,  8.34it/s]"
     ]
    },
    {
     "name": "stdout",
     "output_type": "stream",
     "text": [
      "batch 388, R-squared: -5.053421716569418, MAE: 22.2104549407959, RMSE: 23.505191802978516\n",
      "batch 389, R-squared: -2.6574204035248212, MAE: 27.259788513183594, RMSE: 31.861164093017578\n"
     ]
    },
    {
     "name": "stderr",
     "output_type": "stream",
     "text": [
      "\r",
      " 27%|██████████████████████████████████▋                                                                                              | 392/1459 [00:48<02:06,  8.45it/s]"
     ]
    },
    {
     "name": "stdout",
     "output_type": "stream",
     "text": [
      "batch 390, R-squared: -2.6375168838655654, MAE: 15.030073165893555, RMSE: 16.332534790039062\n",
      "batch 391, R-squared: -2.520108407917669, MAE: 13.843738555908203, RMSE: 15.417407035827637\n"
     ]
    },
    {
     "name": "stderr",
     "output_type": "stream",
     "text": [
      " 27%|██████████████████████████████████▊                                                                                              | 394/1459 [00:49<02:16,  7.81it/s]"
     ]
    },
    {
     "name": "stdout",
     "output_type": "stream",
     "text": [
      "batch 392, R-squared: -2.3875155042769336, MAE: 17.776887893676758, RMSE: 21.013349533081055\n",
      "batch 393, R-squared: -2.503349791737258, MAE: 11.938423156738281, RMSE: 13.797134399414062\n"
     ]
    },
    {
     "name": "stderr",
     "output_type": "stream",
     "text": [
      " 27%|███████████████████████████████████                                                                                              | 396/1459 [00:49<02:21,  7.53it/s]"
     ]
    },
    {
     "name": "stdout",
     "output_type": "stream",
     "text": [
      "batch 394, R-squared: -2.809518800468981, MAE: 34.25509262084961, RMSE: 39.56158447265625\n",
      "batch 395, R-squared: -2.014414813117588, MAE: 22.622591018676758, RMSE: 26.20288848876953\n"
     ]
    },
    {
     "name": "stderr",
     "output_type": "stream",
     "text": [
      "\r",
      " 27%|███████████████████████████████████▏                                                                                             | 398/1459 [00:49<02:03,  8.57it/s]"
     ]
    },
    {
     "name": "stdout",
     "output_type": "stream",
     "text": [
      "batch 396, R-squared: -3.014906487449616, MAE: 34.65235137939453, RMSE: 38.41212844848633\n",
      "batch 397, R-squared: -3.6950087527072046, MAE: 36.82311248779297, RMSE: 40.503177642822266\n"
     ]
    },
    {
     "name": "stderr",
     "output_type": "stream",
     "text": [
      " 27%|███████████████████████████████████▎                                                                                             | 400/1459 [00:49<02:04,  8.49it/s]"
     ]
    },
    {
     "name": "stdout",
     "output_type": "stream",
     "text": [
      "batch 398, R-squared: -3.0659631956655473, MAE: 19.60157012939453, RMSE: 21.008405685424805\n",
      "batch 399, R-squared: -2.2471926302139424, MAE: 14.70335865020752, RMSE: 18.462568283081055\n"
     ]
    },
    {
     "name": "stderr",
     "output_type": "stream",
     "text": [
      " 28%|███████████████████████████████████▌                                                                                             | 402/1459 [00:50<02:04,  8.52it/s]"
     ]
    },
    {
     "name": "stdout",
     "output_type": "stream",
     "text": [
      "batch 400, R-squared: -2.794219208907887, MAE: 24.37318992614746, RMSE: 26.762950897216797\n",
      "batch 401, R-squared: -2.0488335868600633, MAE: 17.908720016479492, RMSE: 23.343698501586914\n"
     ]
    },
    {
     "name": "stderr",
     "output_type": "stream",
     "text": [
      " 28%|███████████████████████████████████▋                                                                                             | 404/1459 [00:50<02:15,  7.77it/s]"
     ]
    },
    {
     "name": "stdout",
     "output_type": "stream",
     "text": [
      "batch 402, R-squared: -3.612711249331801, MAE: 25.424034118652344, RMSE: 28.140941619873047\n",
      "batch 403, R-squared: -2.876280435165447, MAE: 25.7521915435791, RMSE: 29.937713623046875\n"
     ]
    },
    {
     "name": "stderr",
     "output_type": "stream",
     "text": [
      " 28%|███████████████████████████████████▉                                                                                             | 406/1459 [00:50<02:18,  7.58it/s]"
     ]
    },
    {
     "name": "stdout",
     "output_type": "stream",
     "text": [
      "batch 404, R-squared: -1.6897207219528978, MAE: 15.262378692626953, RMSE: 19.85062026977539\n",
      "batch 405, R-squared: -2.880794767716589, MAE: 26.543163299560547, RMSE: 30.35641098022461\n"
     ]
    },
    {
     "name": "stderr",
     "output_type": "stream",
     "text": [
      " 28%|████████████████████████████████████                                                                                             | 408/1459 [00:51<02:25,  7.23it/s]"
     ]
    },
    {
     "name": "stdout",
     "output_type": "stream",
     "text": [
      "batch 406, R-squared: -2.492641478366091, MAE: 23.663578033447266, RMSE: 25.721420288085938\n",
      "batch 407, R-squared: -1.8779136776219372, MAE: 14.235359191894531, RMSE: 16.077150344848633\n"
     ]
    },
    {
     "name": "stderr",
     "output_type": "stream",
     "text": [
      "\r",
      " 28%|████████████████████████████████████▎                                                                                            | 410/1459 [00:51<02:01,  8.66it/s]"
     ]
    },
    {
     "name": "stdout",
     "output_type": "stream",
     "text": [
      "batch 408, R-squared: -1.725093480546193, MAE: 14.792400360107422, RMSE: 18.831716537475586\n",
      "batch 409, R-squared: -2.1338002503658213, MAE: 23.666057586669922, RMSE: 28.57537078857422\n"
     ]
    },
    {
     "name": "stderr",
     "output_type": "stream",
     "text": [
      " 28%|████████████████████████████████████▍                                                                                            | 412/1459 [00:51<02:09,  8.07it/s]"
     ]
    },
    {
     "name": "stdout",
     "output_type": "stream",
     "text": [
      "batch 410, R-squared: -4.119545061114663, MAE: 19.043813705444336, RMSE: 20.26095962524414\n",
      "batch 411, R-squared: -3.1145833077008653, MAE: 13.842777252197266, RMSE: 15.572197914123535\n"
     ]
    },
    {
     "name": "stderr",
     "output_type": "stream",
     "text": [
      " 28%|████████████████████████████████████▌                                                                                            | 414/1459 [00:51<02:02,  8.54it/s]"
     ]
    },
    {
     "name": "stdout",
     "output_type": "stream",
     "text": [
      "batch 412, R-squared: -3.491420583597404, MAE: 25.751388549804688, RMSE: 27.51298713684082\n",
      "batch 413, R-squared: -3.401594566815305, MAE: 35.74818420410156, RMSE: 38.28116226196289\n"
     ]
    },
    {
     "name": "stderr",
     "output_type": "stream",
     "text": [
      " 29%|████████████████████████████████████▊                                                                                            | 416/1459 [00:51<02:08,  8.11it/s]"
     ]
    },
    {
     "name": "stdout",
     "output_type": "stream",
     "text": [
      "batch 414, R-squared: -2.7424586450011237, MAE: 32.04566192626953, RMSE: 34.959163665771484\n",
      "batch 415, R-squared: -2.0963987822564425, MAE: 21.366859436035156, RMSE: 24.240497589111328\n"
     ]
    },
    {
     "name": "stderr",
     "output_type": "stream",
     "text": [
      " 29%|████████████████████████████████████▉                                                                                            | 418/1459 [00:52<02:09,  8.06it/s]"
     ]
    },
    {
     "name": "stdout",
     "output_type": "stream",
     "text": [
      "batch 416, R-squared: -3.169639823953244, MAE: 27.158817291259766, RMSE: 30.134681701660156\n",
      "batch 417, R-squared: -2.912403081550528, MAE: 26.302709579467773, RMSE: 29.297147750854492\n"
     ]
    },
    {
     "name": "stderr",
     "output_type": "stream",
     "text": [
      " 29%|█████████████████████████████████████▏                                                                                           | 420/1459 [00:52<02:15,  7.69it/s]"
     ]
    },
    {
     "name": "stdout",
     "output_type": "stream",
     "text": [
      "batch 418, R-squared: -1.2981123385076212, MAE: 24.842533111572266, RMSE: 33.813751220703125\n",
      "batch 419, R-squared: -3.3515075184696954, MAE: 19.090486526489258, RMSE: 20.939090728759766\n"
     ]
    },
    {
     "name": "stderr",
     "output_type": "stream",
     "text": [
      " 29%|█████████████████████████████████████▎                                                                                           | 422/1459 [00:52<02:18,  7.46it/s]"
     ]
    },
    {
     "name": "stdout",
     "output_type": "stream",
     "text": [
      "batch 420, R-squared: -2.6648095720529548, MAE: 28.76311683654785, RMSE: 32.86848831176758\n",
      "batch 421, R-squared: -1.4692719778286392, MAE: 19.862154006958008, RMSE: 24.748226165771484\n"
     ]
    },
    {
     "name": "stderr",
     "output_type": "stream",
     "text": [
      " 29%|█████████████████████████████████████▍                                                                                           | 424/1459 [00:53<02:20,  7.36it/s]"
     ]
    },
    {
     "name": "stdout",
     "output_type": "stream",
     "text": [
      "batch 422, R-squared: -1.6424953282337473, MAE: 12.188995361328125, RMSE: 14.283623695373535\n",
      "batch 423, R-squared: -2.247824651746291, MAE: 14.165020942687988, RMSE: 16.20757293701172\n"
     ]
    },
    {
     "name": "stderr",
     "output_type": "stream",
     "text": [
      " 29%|█████████████████████████████████████▋                                                                                           | 426/1459 [00:53<02:15,  7.64it/s]"
     ]
    },
    {
     "name": "stdout",
     "output_type": "stream",
     "text": [
      "batch 424, R-squared: -1.3818350027167412, MAE: 26.279003143310547, RMSE: 35.33283615112305\n",
      "batch 425, R-squared: -2.6605836628982713, MAE: 17.80633544921875, RMSE: 19.823034286499023\n"
     ]
    },
    {
     "name": "stderr",
     "output_type": "stream",
     "text": [
      " 29%|█████████████████████████████████████▊                                                                                           | 428/1459 [00:53<02:15,  7.59it/s]"
     ]
    },
    {
     "name": "stdout",
     "output_type": "stream",
     "text": [
      "batch 426, R-squared: -2.041133062208579, MAE: 17.411300659179688, RMSE: 20.58415412902832\n",
      "batch 427, R-squared: -2.550770277048712, MAE: 18.843271255493164, RMSE: 21.812646865844727\n"
     ]
    },
    {
     "name": "stderr",
     "output_type": "stream",
     "text": [
      " 29%|██████████████████████████████████████                                                                                           | 430/1459 [00:53<02:20,  7.31it/s]"
     ]
    },
    {
     "name": "stdout",
     "output_type": "stream",
     "text": [
      "batch 428, R-squared: -3.313894714490975, MAE: 29.291269302368164, RMSE: 32.92002487182617\n",
      "batch 429, R-squared: -3.1954971087227877, MAE: 21.130813598632812, RMSE: 22.938926696777344\n"
     ]
    },
    {
     "name": "stderr",
     "output_type": "stream",
     "text": [
      "\r",
      " 30%|██████████████████████████████████████                                                                                           | 431/1459 [00:54<02:25,  7.08it/s]"
     ]
    },
    {
     "name": "stdout",
     "output_type": "stream",
     "text": [
      "batch 430, R-squared: -2.404150039175975, MAE: 20.664386749267578, RMSE: 23.632036209106445\n",
      "batch 431, R-squared: -2.846305246817103, MAE: 26.700992584228516, RMSE: 30.65453338623047\n"
     ]
    },
    {
     "name": "stderr",
     "output_type": "stream",
     "text": [
      " 30%|██████████████████████████████████████▎                                                                                          | 434/1459 [00:54<02:14,  7.59it/s]"
     ]
    },
    {
     "name": "stdout",
     "output_type": "stream",
     "text": [
      "batch 432, R-squared: -2.626729148596552, MAE: 24.00238037109375, RMSE: 26.839065551757812\n",
      "batch 433, R-squared: -2.8069649395975995, MAE: 23.635711669921875, RMSE: 26.571338653564453\n"
     ]
    },
    {
     "name": "stderr",
     "output_type": "stream",
     "text": [
      " 30%|██████████████████████████████████████▌                                                                                          | 436/1459 [00:54<02:12,  7.71it/s]"
     ]
    },
    {
     "name": "stdout",
     "output_type": "stream",
     "text": [
      "batch 434, R-squared: -3.341464244208622, MAE: 24.762720108032227, RMSE: 26.51183319091797\n",
      "batch 435, R-squared: -3.6849337631104335, MAE: 22.375484466552734, RMSE: 24.71639633178711\n"
     ]
    },
    {
     "name": "stderr",
     "output_type": "stream",
     "text": [
      " 30%|██████████████████████████████████████▋                                                                                          | 438/1459 [00:54<02:10,  7.80it/s]"
     ]
    },
    {
     "name": "stdout",
     "output_type": "stream",
     "text": [
      "batch 436, R-squared: -2.4595530014827416, MAE: 31.696361541748047, RMSE: 39.014556884765625\n",
      "batch 437, R-squared: -1.5828964397919039, MAE: 21.047931671142578, RMSE: 25.50152587890625\n"
     ]
    },
    {
     "name": "stderr",
     "output_type": "stream",
     "text": [
      "\r",
      " 30%|██████████████████████████████████████▊                                                                                          | 439/1459 [00:55<02:10,  7.80it/s]"
     ]
    },
    {
     "name": "stdout",
     "output_type": "stream",
     "text": [
      "batch 438, R-squared: -2.472638924450506, MAE: 24.823596954345703, RMSE: 27.229101181030273\n",
      "batch 439, R-squared: -2.2730570140139035, MAE: 32.28302001953125, RMSE: 39.46546173095703\n"
     ]
    },
    {
     "name": "stderr",
     "output_type": "stream",
     "text": [
      " 30%|███████████████████████████████████████                                                                                          | 442/1459 [00:55<02:02,  8.33it/s]"
     ]
    },
    {
     "name": "stdout",
     "output_type": "stream",
     "text": [
      "batch 440, R-squared: -2.890351676211071, MAE: 15.76379680633545, RMSE: 17.25386619567871\n",
      "batch 441, R-squared: -3.200231533727243, MAE: 20.42240333557129, RMSE: 24.032501220703125\n"
     ]
    },
    {
     "name": "stderr",
     "output_type": "stream",
     "text": [
      " 30%|███████████████████████████████████████▎                                                                                         | 444/1459 [00:55<02:19,  7.25it/s]"
     ]
    },
    {
     "name": "stdout",
     "output_type": "stream",
     "text": [
      "batch 442, R-squared: -2.4834586983115545, MAE: 19.021440505981445, RMSE: 21.38263511657715\n",
      "batch 443, R-squared: -2.6837315740452796, MAE: 18.983400344848633, RMSE: 20.959346771240234\n"
     ]
    },
    {
     "name": "stderr",
     "output_type": "stream",
     "text": [
      " 31%|███████████████████████████████████████▍                                                                                         | 446/1459 [00:55<02:21,  7.15it/s]"
     ]
    },
    {
     "name": "stdout",
     "output_type": "stream",
     "text": [
      "batch 444, R-squared: -1.7779718239282336, MAE: 15.157623291015625, RMSE: 18.865612030029297\n",
      "batch 445, R-squared: -1.901307900714797, MAE: 16.122711181640625, RMSE: 20.098186492919922\n"
     ]
    },
    {
     "name": "stderr",
     "output_type": "stream",
     "text": [
      " 31%|███████████████████████████████████████▌                                                                                         | 448/1459 [00:56<02:33,  6.59it/s]"
     ]
    },
    {
     "name": "stdout",
     "output_type": "stream",
     "text": [
      "batch 446, R-squared: -3.268791276854121, MAE: 34.56934356689453, RMSE: 38.199886322021484\n",
      "batch 447, R-squared: -2.0203241438956123, MAE: 16.326786041259766, RMSE: 19.5129337310791\n"
     ]
    },
    {
     "name": "stderr",
     "output_type": "stream",
     "text": [
      " 31%|███████████████████████████████████████▊                                                                                         | 450/1459 [00:56<02:21,  7.13it/s]"
     ]
    },
    {
     "name": "stdout",
     "output_type": "stream",
     "text": [
      "batch 448, R-squared: -3.8427663865516584, MAE: 27.970138549804688, RMSE: 30.086650848388672\n",
      "batch 449, R-squared: -3.5455085409883984, MAE: 24.8961238861084, RMSE: 26.933135986328125\n"
     ]
    },
    {
     "name": "stderr",
     "output_type": "stream",
     "text": [
      " 31%|███████████████████████████████████████▉                                                                                         | 452/1459 [00:56<02:24,  6.98it/s]"
     ]
    },
    {
     "name": "stdout",
     "output_type": "stream",
     "text": [
      "batch 450, R-squared: -2.4385195457622606, MAE: 33.94710159301758, RMSE: 36.98455810546875\n",
      "batch 451, R-squared: -3.88722634996585, MAE: 27.864700317382812, RMSE: 31.068952560424805\n"
     ]
    },
    {
     "name": "stderr",
     "output_type": "stream",
     "text": [
      " 31%|████████████████████████████████████████▏                                                                                        | 454/1459 [00:57<02:13,  7.53it/s]"
     ]
    },
    {
     "name": "stdout",
     "output_type": "stream",
     "text": [
      "batch 452, R-squared: -4.176352557705595, MAE: 25.360393524169922, RMSE: 27.903522491455078\n",
      "batch 453, R-squared: -1.9406413530114681, MAE: 17.76642608642578, RMSE: 22.748653411865234\n"
     ]
    },
    {
     "name": "stderr",
     "output_type": "stream",
     "text": [
      " 31%|████████████████████████████████████████▍                                                                                        | 457/1459 [00:57<02:00,  8.32it/s]"
     ]
    },
    {
     "name": "stdout",
     "output_type": "stream",
     "text": [
      "batch 454, R-squared: -1.52768758981759, MAE: 14.343017578125, RMSE: 16.647632598876953\n",
      "batch 455, R-squared: -2.3286744036850586, MAE: 25.166757583618164, RMSE: 29.783466339111328\n",
      "batch 456, R-squared: -2.050248125409606, MAE: 18.39368438720703, RMSE: 21.042030334472656\n"
     ]
    },
    {
     "name": "stderr",
     "output_type": "stream",
     "text": [
      " 32%|████████████████████████████████████████▋                                                                                        | 460/1459 [00:57<01:51,  8.96it/s]"
     ]
    },
    {
     "name": "stdout",
     "output_type": "stream",
     "text": [
      "batch 457, R-squared: -4.761571493781421, MAE: 23.25945281982422, RMSE: 26.480396270751953\n",
      "batch 458, R-squared: -4.573033849651873, MAE: 19.278745651245117, RMSE: 20.619232177734375\n",
      "batch 459, R-squared: -1.998592524552077, MAE: 31.95037078857422, RMSE: 40.6602897644043\n"
     ]
    },
    {
     "name": "stderr",
     "output_type": "stream",
     "text": [
      " 32%|████████████████████████████████████████▊                                                                                        | 462/1459 [00:57<01:58,  8.39it/s]"
     ]
    },
    {
     "name": "stdout",
     "output_type": "stream",
     "text": [
      "batch 460, R-squared: -2.9631049187123706, MAE: 29.329322814941406, RMSE: 32.331626892089844\n",
      "batch 461, R-squared: -3.9661709278711443, MAE: 17.313034057617188, RMSE: 18.93887710571289\n"
     ]
    },
    {
     "name": "stderr",
     "output_type": "stream",
     "text": [
      " 32%|█████████████████████████████████████████                                                                                        | 464/1459 [00:58<02:04,  8.00it/s]"
     ]
    },
    {
     "name": "stdout",
     "output_type": "stream",
     "text": [
      "batch 462, R-squared: -3.932987685774449, MAE: 27.03253936767578, RMSE: 28.795032501220703\n",
      "batch 463, R-squared: -2.975776922608997, MAE: 20.528749465942383, RMSE: 22.91228485107422\n"
     ]
    },
    {
     "name": "stderr",
     "output_type": "stream",
     "text": [
      " 32%|█████████████████████████████████████████▏                                                                                       | 466/1459 [00:58<01:57,  8.43it/s]"
     ]
    },
    {
     "name": "stdout",
     "output_type": "stream",
     "text": [
      "batch 464, R-squared: -2.785387170075984, MAE: 20.20810890197754, RMSE: 22.45357894897461\n",
      "batch 465, R-squared: -1.8170237675045195, MAE: 12.659464836120605, RMSE: 15.770118713378906\n"
     ]
    },
    {
     "name": "stderr",
     "output_type": "stream",
     "text": [
      " 32%|█████████████████████████████████████████▍                                                                                       | 468/1459 [00:58<02:08,  7.72it/s]"
     ]
    },
    {
     "name": "stdout",
     "output_type": "stream",
     "text": [
      "batch 466, R-squared: -3.24148858237721, MAE: 22.120235443115234, RMSE: 25.164752960205078\n",
      "batch 467, R-squared: -3.154502840821005, MAE: 22.210552215576172, RMSE: 23.81731414794922\n"
     ]
    },
    {
     "name": "stderr",
     "output_type": "stream",
     "text": [
      " 32%|█████████████████████████████████████████▌                                                                                       | 470/1459 [00:59<02:13,  7.41it/s]"
     ]
    },
    {
     "name": "stdout",
     "output_type": "stream",
     "text": [
      "batch 468, R-squared: -2.4346655280586496, MAE: 23.361328125, RMSE: 26.19081687927246\n",
      "batch 469, R-squared: -1.747761084277148, MAE: 22.59321403503418, RMSE: 28.94961929321289\n"
     ]
    },
    {
     "name": "stderr",
     "output_type": "stream",
     "text": [
      " 32%|█████████████████████████████████████████▋                                                                                       | 472/1459 [00:59<02:04,  7.94it/s]"
     ]
    },
    {
     "name": "stdout",
     "output_type": "stream",
     "text": [
      "batch 470, R-squared: -3.2359765228160193, MAE: 29.090377807617188, RMSE: 32.18658447265625\n",
      "batch 471, R-squared: -4.260709549242337, MAE: 40.48497772216797, RMSE: 42.853023529052734\n"
     ]
    },
    {
     "name": "stderr",
     "output_type": "stream",
     "text": [
      " 32%|█████████████████████████████████████████▉                                                                                       | 474/1459 [00:59<02:00,  8.17it/s]"
     ]
    },
    {
     "name": "stdout",
     "output_type": "stream",
     "text": [
      "batch 472, R-squared: -2.073126584422379, MAE: 15.200874328613281, RMSE: 18.018592834472656\n",
      "batch 473, R-squared: -2.6028972587159056, MAE: 20.271446228027344, RMSE: 24.467327117919922\n"
     ]
    },
    {
     "name": "stderr",
     "output_type": "stream",
     "text": [
      " 33%|██████████████████████████████████████████▏                                                                                      | 477/1459 [00:59<01:49,  8.96it/s]"
     ]
    },
    {
     "name": "stdout",
     "output_type": "stream",
     "text": [
      "batch 474, R-squared: -2.332440642142713, MAE: 38.678077697753906, RMSE: 41.81989288330078\n",
      "batch 475, R-squared: -2.228553125508294, MAE: 21.545618057250977, RMSE: 25.271053314208984\n",
      "batch 476, R-squared: -3.691580159244353, MAE: 14.330168724060059, RMSE: 15.434805870056152\n"
     ]
    },
    {
     "name": "stderr",
     "output_type": "stream",
     "text": [
      " 33%|██████████████████████████████████████████▎                                                                                      | 479/1459 [01:00<01:55,  8.46it/s]"
     ]
    },
    {
     "name": "stdout",
     "output_type": "stream",
     "text": [
      "batch 477, R-squared: -2.4346311007011194, MAE: 20.68255043029785, RMSE: 23.275489807128906\n",
      "batch 478, R-squared: -1.9505938806922831, MAE: 12.94593620300293, RMSE: 14.782382011413574\n"
     ]
    },
    {
     "name": "stderr",
     "output_type": "stream",
     "text": [
      " 33%|██████████████████████████████████████████▌                                                                                      | 481/1459 [01:00<02:06,  7.75it/s]"
     ]
    },
    {
     "name": "stdout",
     "output_type": "stream",
     "text": [
      "batch 479, R-squared: -2.722652414630239, MAE: 31.48175048828125, RMSE: 33.82307815551758\n",
      "batch 480, R-squared: -3.594874068931727, MAE: 17.883176803588867, RMSE: 19.533388137817383\n"
     ]
    },
    {
     "name": "stderr",
     "output_type": "stream",
     "text": [
      "\r",
      " 33%|██████████████████████████████████████████▋                                                                                      | 483/1459 [01:00<01:56,  8.36it/s]"
     ]
    },
    {
     "name": "stdout",
     "output_type": "stream",
     "text": [
      "batch 481, R-squared: -2.2716601784075436, MAE: 19.87173843383789, RMSE: 24.499225616455078\n",
      "batch 482, R-squared: -2.510175671124332, MAE: 27.73577308654785, RMSE: 31.790376663208008\n"
     ]
    },
    {
     "name": "stderr",
     "output_type": "stream",
     "text": [
      " 33%|██████████████████████████████████████████▉                                                                                      | 485/1459 [01:00<02:07,  7.64it/s]"
     ]
    },
    {
     "name": "stdout",
     "output_type": "stream",
     "text": [
      "batch 483, R-squared: -3.355531178023684, MAE: 27.099933624267578, RMSE: 29.59922981262207\n",
      "batch 484, R-squared: -2.475750544833197, MAE: 19.627973556518555, RMSE: 22.42641830444336\n"
     ]
    },
    {
     "name": "stderr",
     "output_type": "stream",
     "text": [
      " 33%|███████████████████████████████████████████                                                                                      | 487/1459 [01:01<02:02,  7.93it/s]"
     ]
    },
    {
     "name": "stdout",
     "output_type": "stream",
     "text": [
      "batch 485, R-squared: -2.8949610499550493, MAE: 20.63521957397461, RMSE: 24.026897430419922\n",
      "batch 486, R-squared: -3.66594771163389, MAE: 16.19182014465332, RMSE: 18.103857040405273\n"
     ]
    },
    {
     "name": "stderr",
     "output_type": "stream",
     "text": [
      "\r",
      " 34%|███████████████████████████████████████████▏                                                                                     | 489/1459 [01:01<01:54,  8.50it/s]"
     ]
    },
    {
     "name": "stdout",
     "output_type": "stream",
     "text": [
      "batch 487, R-squared: -3.85792776596183, MAE: 17.469837188720703, RMSE: 18.501405715942383\n",
      "batch 488, R-squared: -3.6259156158284873, MAE: 25.897884368896484, RMSE: 27.792818069458008\n"
     ]
    },
    {
     "name": "stderr",
     "output_type": "stream",
     "text": [
      " 34%|███████████████████████████████████████████▍                                                                                     | 491/1459 [01:01<01:59,  8.12it/s]"
     ]
    },
    {
     "name": "stdout",
     "output_type": "stream",
     "text": [
      "batch 489, R-squared: -2.710931760013808, MAE: 16.996400833129883, RMSE: 19.335182189941406\n",
      "batch 490, R-squared: -3.084950321747642, MAE: 24.870267868041992, RMSE: 26.327045440673828\n"
     ]
    },
    {
     "name": "stderr",
     "output_type": "stream",
     "text": [
      "\r",
      " 34%|███████████████████████████████████████████▌                                                                                     | 493/1459 [01:01<01:46,  9.10it/s]"
     ]
    },
    {
     "name": "stdout",
     "output_type": "stream",
     "text": [
      "batch 491, R-squared: -2.595655853005571, MAE: 36.30448532104492, RMSE: 43.96094512939453\n",
      "batch 492, R-squared: -1.967571186307342, MAE: 33.220245361328125, RMSE: 40.487037658691406\n"
     ]
    },
    {
     "name": "stderr",
     "output_type": "stream",
     "text": [
      " 34%|███████████████████████████████████████████▊                                                                                     | 495/1459 [01:02<01:51,  8.64it/s]"
     ]
    },
    {
     "name": "stdout",
     "output_type": "stream",
     "text": [
      "batch 493, R-squared: -2.907874005576379, MAE: 22.215545654296875, RMSE: 24.848556518554688\n",
      "batch 494, R-squared: -3.2568350898606306, MAE: 28.262680053710938, RMSE: 32.251251220703125\n"
     ]
    },
    {
     "name": "stderr",
     "output_type": "stream",
     "text": [
      " 34%|███████████████████████████████████████████▉                                                                                     | 497/1459 [01:02<01:53,  8.51it/s]"
     ]
    },
    {
     "name": "stdout",
     "output_type": "stream",
     "text": [
      "batch 495, R-squared: -2.3966165228793335, MAE: 25.643903732299805, RMSE: 30.704021453857422\n",
      "batch 496, R-squared: -2.663591372019506, MAE: 29.74290657043457, RMSE: 35.945960998535156\n"
     ]
    },
    {
     "name": "stderr",
     "output_type": "stream",
     "text": [
      " 34%|████████████████████████████████████████████                                                                                     | 499/1459 [01:02<01:52,  8.54it/s]"
     ]
    },
    {
     "name": "stdout",
     "output_type": "stream",
     "text": [
      "batch 497, R-squared: -2.6075186991732013, MAE: 21.16010284423828, RMSE: 23.05292320251465\n",
      "batch 498, R-squared: -1.7571782466284325, MAE: 16.48105812072754, RMSE: 19.82052230834961\n"
     ]
    },
    {
     "name": "stderr",
     "output_type": "stream",
     "text": [
      " 34%|████████████████████████████████████████████▎                                                                                    | 501/1459 [01:02<01:45,  9.05it/s]"
     ]
    },
    {
     "name": "stdout",
     "output_type": "stream",
     "text": [
      "batch 499, R-squared: -3.076355863087244, MAE: 25.28245735168457, RMSE: 29.427845001220703\n",
      "batch 500, R-squared: -2.6641568333108983, MAE: 25.058568954467773, RMSE: 30.62472915649414\n"
     ]
    },
    {
     "name": "stderr",
     "output_type": "stream",
     "text": [
      " 34%|████████████████████████████████████████████▍                                                                                    | 503/1459 [01:02<01:55,  8.30it/s]"
     ]
    },
    {
     "name": "stdout",
     "output_type": "stream",
     "text": [
      "batch 501, R-squared: -2.1547656381099767, MAE: 21.328834533691406, RMSE: 25.989944458007812\n",
      "batch 502, R-squared: -3.138663744740887, MAE: 13.510343551635742, RMSE: 15.286972045898438\n"
     ]
    },
    {
     "name": "stderr",
     "output_type": "stream",
     "text": [
      " 35%|████████████████████████████████████████████▋                                                                                    | 505/1459 [01:03<02:02,  7.76it/s]"
     ]
    },
    {
     "name": "stdout",
     "output_type": "stream",
     "text": [
      "batch 503, R-squared: -2.7220483184923427, MAE: 24.90999412536621, RMSE: 28.423812866210938\n",
      "batch 504, R-squared: -2.3760700784789437, MAE: 26.825199127197266, RMSE: 30.554889678955078\n"
     ]
    },
    {
     "name": "stderr",
     "output_type": "stream",
     "text": [
      "\r",
      " 35%|████████████████████████████████████████████▊                                                                                    | 507/1459 [01:03<01:57,  8.10it/s]"
     ]
    },
    {
     "name": "stdout",
     "output_type": "stream",
     "text": [
      "batch 505, R-squared: -2.8727794949708274, MAE: 21.973554611206055, RMSE: 23.136632919311523\n",
      "batch 506, R-squared: -0.9583364099795528, MAE: 20.359760284423828, RMSE: 27.25572967529297\n"
     ]
    },
    {
     "name": "stderr",
     "output_type": "stream",
     "text": [
      " 35%|█████████████████████████████████████████████                                                                                    | 509/1459 [01:03<01:52,  8.42it/s]"
     ]
    },
    {
     "name": "stdout",
     "output_type": "stream",
     "text": [
      "batch 507, R-squared: -2.383472531338353, MAE: 22.642398834228516, RMSE: 24.333515167236328\n",
      "batch 508, R-squared: -2.3759184906710265, MAE: 32.9012336730957, RMSE: 39.63014221191406\n"
     ]
    },
    {
     "name": "stderr",
     "output_type": "stream",
     "text": [
      " 35%|█████████████████████████████████████████████▏                                                                                   | 511/1459 [01:03<01:53,  8.39it/s]"
     ]
    },
    {
     "name": "stdout",
     "output_type": "stream",
     "text": [
      "batch 509, R-squared: -2.3711916896229748, MAE: 16.23872947692871, RMSE: 19.600791931152344\n",
      "batch 510, R-squared: -3.091589712690414, MAE: 25.610950469970703, RMSE: 28.905357360839844\n"
     ]
    },
    {
     "name": "stderr",
     "output_type": "stream",
     "text": [
      " 35%|█████████████████████████████████████████████▍                                                                                   | 514/1459 [01:04<01:44,  9.08it/s]"
     ]
    },
    {
     "name": "stdout",
     "output_type": "stream",
     "text": [
      "batch 511, R-squared: -3.140843798478823, MAE: 14.182341575622559, RMSE: 15.57798957824707\n",
      "batch 512, R-squared: -3.9117137307699483, MAE: 17.788793563842773, RMSE: 19.37385368347168\n",
      "batch 513, R-squared: -3.9750340907896593, MAE: 22.972919464111328, RMSE: 24.34308624267578\n"
     ]
    },
    {
     "name": "stderr",
     "output_type": "stream",
     "text": [
      " 35%|█████████████████████████████████████████████▌                                                                                   | 516/1459 [01:04<01:50,  8.55it/s]"
     ]
    },
    {
     "name": "stdout",
     "output_type": "stream",
     "text": [
      "batch 514, R-squared: -3.4522836519083233, MAE: 19.892162322998047, RMSE: 22.02309799194336\n",
      "batch 515, R-squared: -2.87399296273981, MAE: 47.666038513183594, RMSE: 50.02130126953125\n"
     ]
    },
    {
     "name": "stderr",
     "output_type": "stream",
     "text": [
      "\r",
      " 36%|█████████████████████████████████████████████▊                                                                                   | 518/1459 [01:04<01:43,  9.07it/s]"
     ]
    },
    {
     "name": "stdout",
     "output_type": "stream",
     "text": [
      "batch 516, R-squared: -2.6538161601059214, MAE: 20.226253509521484, RMSE: 24.207660675048828\n",
      "batch 517, R-squared: -2.6526413083830014, MAE: 19.87933921813965, RMSE: 23.031478881835938\n"
     ]
    },
    {
     "name": "stderr",
     "output_type": "stream",
     "text": [
      " 36%|█████████████████████████████████████████████▉                                                                                   | 520/1459 [01:04<01:49,  8.60it/s]"
     ]
    },
    {
     "name": "stdout",
     "output_type": "stream",
     "text": [
      "batch 518, R-squared: -3.38453654893535, MAE: 22.562458038330078, RMSE: 25.088542938232422\n",
      "batch 519, R-squared: -2.5503007078335624, MAE: 13.007943153381348, RMSE: 14.219310760498047\n"
     ]
    },
    {
     "name": "stderr",
     "output_type": "stream",
     "text": [
      " 36%|██████████████████████████████████████████████▏                                                                                  | 522/1459 [01:05<01:49,  8.54it/s]"
     ]
    },
    {
     "name": "stdout",
     "output_type": "stream",
     "text": [
      "batch 520, R-squared: -2.7536125618293283, MAE: 20.284238815307617, RMSE: 22.360004425048828\n",
      "batch 521, R-squared: -3.5355037752447123, MAE: 24.772216796875, RMSE: 26.745420455932617\n"
     ]
    },
    {
     "name": "stderr",
     "output_type": "stream",
     "text": [
      " 36%|██████████████████████████████████████████████▎                                                                                  | 524/1459 [01:05<01:49,  8.58it/s]"
     ]
    },
    {
     "name": "stdout",
     "output_type": "stream",
     "text": [
      "batch 522, R-squared: -2.8473598676790726, MAE: 17.038379669189453, RMSE: 19.597286224365234\n",
      "batch 523, R-squared: -2.472399368644614, MAE: 25.424489974975586, RMSE: 28.616086959838867\n"
     ]
    },
    {
     "name": "stderr",
     "output_type": "stream",
     "text": [
      " 36%|██████████████████████████████████████████████▌                                                                                  | 526/1459 [01:05<02:01,  7.69it/s]"
     ]
    },
    {
     "name": "stdout",
     "output_type": "stream",
     "text": [
      "batch 524, R-squared: -3.3259635834721974, MAE: 22.625865936279297, RMSE: 24.53034210205078\n",
      "batch 525, R-squared: -3.0295791875869007, MAE: 10.91089153289795, RMSE: 11.793514251708984\n"
     ]
    },
    {
     "name": "stderr",
     "output_type": "stream",
     "text": [
      " 36%|██████████████████████████████████████████████▋                                                                                  | 528/1459 [01:06<02:13,  6.99it/s]"
     ]
    },
    {
     "name": "stdout",
     "output_type": "stream",
     "text": [
      "batch 526, R-squared: -3.2822269494549063, MAE: 25.947404861450195, RMSE: 29.717514038085938\n",
      "batch 527, R-squared: -3.3609367377792316, MAE: 26.145999908447266, RMSE: 28.136194229125977\n"
     ]
    },
    {
     "name": "stderr",
     "output_type": "stream",
     "text": [
      " 36%|██████████████████████████████████████████████▊                                                                                  | 530/1459 [01:06<01:59,  7.75it/s]"
     ]
    },
    {
     "name": "stdout",
     "output_type": "stream",
     "text": [
      "batch 528, R-squared: -3.0522711835268703, MAE: 22.947248458862305, RMSE: 24.825035095214844\n",
      "batch 529, R-squared: -3.77251289843296, MAE: 27.859392166137695, RMSE: 29.854097366333008\n"
     ]
    },
    {
     "name": "stderr",
     "output_type": "stream",
     "text": [
      " 36%|███████████████████████████████████████████████                                                                                  | 532/1459 [01:06<01:59,  7.74it/s]"
     ]
    },
    {
     "name": "stdout",
     "output_type": "stream",
     "text": [
      "batch 530, R-squared: -3.4439881703113833, MAE: 25.089853286743164, RMSE: 27.272417068481445\n",
      "batch 531, R-squared: -2.7631544387439266, MAE: 19.95763397216797, RMSE: 22.270191192626953\n"
     ]
    },
    {
     "name": "stderr",
     "output_type": "stream",
     "text": [
      " 37%|███████████████████████████████████████████████▏                                                                                 | 534/1459 [01:06<01:50,  8.39it/s]"
     ]
    },
    {
     "name": "stdout",
     "output_type": "stream",
     "text": [
      "batch 532, R-squared: -3.4791912844924355, MAE: 25.6697940826416, RMSE: 28.774011611938477\n",
      "batch 533, R-squared: -1.9222894975436058, MAE: 28.611061096191406, RMSE: 35.694129943847656\n"
     ]
    },
    {
     "name": "stderr",
     "output_type": "stream",
     "text": [
      " 37%|███████████████████████████████████████████████▍                                                                                 | 536/1459 [01:06<01:53,  8.12it/s]"
     ]
    },
    {
     "name": "stdout",
     "output_type": "stream",
     "text": [
      "batch 534, R-squared: -2.859416654998875, MAE: 28.871883392333984, RMSE: 32.839942932128906\n",
      "batch 535, R-squared: -2.642803770533211, MAE: 22.221981048583984, RMSE: 24.603261947631836\n"
     ]
    },
    {
     "name": "stderr",
     "output_type": "stream",
     "text": [
      " 37%|███████████████████████████████████████████████▌                                                                                 | 538/1459 [01:07<01:47,  8.60it/s]"
     ]
    },
    {
     "name": "stdout",
     "output_type": "stream",
     "text": [
      "batch 536, R-squared: -2.4506091856878434, MAE: 19.683752059936523, RMSE: 22.079601287841797\n",
      "batch 537, R-squared: -2.337238366546674, MAE: 18.54609489440918, RMSE: 20.18488883972168\n"
     ]
    },
    {
     "name": "stderr",
     "output_type": "stream",
     "text": [
      " 37%|███████████████████████████████████████████████▋                                                                                 | 540/1459 [01:07<01:49,  8.41it/s]"
     ]
    },
    {
     "name": "stdout",
     "output_type": "stream",
     "text": [
      "batch 538, R-squared: -2.4173115740919764, MAE: 23.65312957763672, RMSE: 27.106611251831055\n",
      "batch 539, R-squared: -3.4916495346301772, MAE: 19.545434951782227, RMSE: 21.05603790283203\n"
     ]
    },
    {
     "name": "stderr",
     "output_type": "stream",
     "text": [
      " 37%|███████████████████████████████████████████████▉                                                                                 | 542/1459 [01:07<01:51,  8.25it/s]"
     ]
    },
    {
     "name": "stdout",
     "output_type": "stream",
     "text": [
      "batch 540, R-squared: -3.3232772996814575, MAE: 19.619609832763672, RMSE: 21.47443962097168\n",
      "batch 541, R-squared: -3.00545374592639, MAE: 24.77191734313965, RMSE: 28.796138763427734\n"
     ]
    },
    {
     "name": "stderr",
     "output_type": "stream",
     "text": [
      " 37%|████████████████████████████████████████████████                                                                                 | 544/1459 [01:07<01:53,  8.04it/s]"
     ]
    },
    {
     "name": "stdout",
     "output_type": "stream",
     "text": [
      "batch 542, R-squared: -2.6323756939923375, MAE: 22.426799774169922, RMSE: 25.57320785522461\n",
      "batch 543, R-squared: -2.1415094955965897, MAE: 32.714683532714844, RMSE: 38.691368103027344\n"
     ]
    },
    {
     "name": "stderr",
     "output_type": "stream",
     "text": [
      " 37%|████████████████████████████████████████████████▎                                                                                | 547/1459 [01:08<01:41,  8.97it/s]"
     ]
    },
    {
     "name": "stdout",
     "output_type": "stream",
     "text": [
      "batch 544, R-squared: -3.039653713552476, MAE: 15.73658561706543, RMSE: 17.120281219482422\n",
      "batch 545, R-squared: -2.2453914272556457, MAE: 14.644257545471191, RMSE: 16.7629337310791\n",
      "batch 546, R-squared: -4.332676967490887, MAE: 41.04807662963867, RMSE: 44.94523620605469\n"
     ]
    },
    {
     "name": "stderr",
     "output_type": "stream",
     "text": [
      " 38%|████████████████████████████████████████████████▌                                                                                | 549/1459 [01:08<01:53,  8.05it/s]"
     ]
    },
    {
     "name": "stdout",
     "output_type": "stream",
     "text": [
      "batch 547, R-squared: -1.997468921347791, MAE: 29.7144775390625, RMSE: 34.855506896972656\n",
      "batch 548, R-squared: -3.2941947279948165, MAE: 27.939361572265625, RMSE: 28.999855041503906\n"
     ]
    },
    {
     "name": "stderr",
     "output_type": "stream",
     "text": [
      " 38%|████████████████████████████████████████████████▋                                                                                | 551/1459 [01:08<01:53,  7.98it/s]"
     ]
    },
    {
     "name": "stdout",
     "output_type": "stream",
     "text": [
      "batch 549, R-squared: -2.4013003026256134, MAE: 18.210315704345703, RMSE: 22.17412757873535\n",
      "batch 550, R-squared: -4.237900994131767, MAE: 14.038965225219727, RMSE: 15.158804893493652\n"
     ]
    },
    {
     "name": "stderr",
     "output_type": "stream",
     "text": [
      " 38%|████████████████████████████████████████████████▉                                                                                | 553/1459 [01:09<01:59,  7.58it/s]"
     ]
    },
    {
     "name": "stdout",
     "output_type": "stream",
     "text": [
      "batch 551, R-squared: -2.2261616624724314, MAE: 15.863397598266602, RMSE: 18.031339645385742\n",
      "batch 552, R-squared: -2.7775623945114107, MAE: 23.828598022460938, RMSE: 26.197420120239258\n"
     ]
    },
    {
     "name": "stderr",
     "output_type": "stream",
     "text": [
      " 38%|█████████████████████████████████████████████████                                                                                | 555/1459 [01:09<01:59,  7.60it/s]"
     ]
    },
    {
     "name": "stdout",
     "output_type": "stream",
     "text": [
      "batch 553, R-squared: -2.977071135742014, MAE: 23.238300323486328, RMSE: 24.52615737915039\n",
      "batch 554, R-squared: -2.417620757496363, MAE: 21.27164649963379, RMSE: 25.108434677124023\n"
     ]
    },
    {
     "name": "stderr",
     "output_type": "stream",
     "text": [
      " 38%|█████████████████████████████████████████████████▏                                                                               | 557/1459 [01:09<01:57,  7.70it/s]"
     ]
    },
    {
     "name": "stdout",
     "output_type": "stream",
     "text": [
      "batch 555, R-squared: -4.263799694880746, MAE: 28.12457847595215, RMSE: 31.166744232177734\n",
      "batch 556, R-squared: -1.7086930429750096, MAE: 14.626779556274414, RMSE: 18.897201538085938\n"
     ]
    },
    {
     "name": "stderr",
     "output_type": "stream",
     "text": [
      " 38%|█████████████████████████████████████████████████▍                                                                               | 559/1459 [01:09<02:03,  7.28it/s]"
     ]
    },
    {
     "name": "stdout",
     "output_type": "stream",
     "text": [
      "batch 557, R-squared: -1.8144366223296058, MAE: 17.08460235595703, RMSE: 20.53729820251465\n",
      "batch 558, R-squared: -3.9572227806160702, MAE: 23.448575973510742, RMSE: 26.076419830322266\n"
     ]
    },
    {
     "name": "stderr",
     "output_type": "stream",
     "text": [
      " 38%|█████████████████████████████████████████████████▌                                                                               | 561/1459 [01:10<01:58,  7.57it/s]"
     ]
    },
    {
     "name": "stdout",
     "output_type": "stream",
     "text": [
      "batch 559, R-squared: -3.277488889154502, MAE: 30.98196792602539, RMSE: 34.779396057128906\n",
      "batch 560, R-squared: -3.4876744217783284, MAE: 13.084664344787598, RMSE: 14.319019317626953\n"
     ]
    },
    {
     "name": "stderr",
     "output_type": "stream",
     "text": [
      " 39%|█████████████████████████████████████████████████▊                                                                               | 563/1459 [01:10<01:49,  8.20it/s]"
     ]
    },
    {
     "name": "stdout",
     "output_type": "stream",
     "text": [
      "batch 561, R-squared: -2.2321518286564164, MAE: 25.14988899230957, RMSE: 31.79672622680664\n",
      "batch 562, R-squared: -2.0944177314226167, MAE: 26.052734375, RMSE: 32.30553436279297\n"
     ]
    },
    {
     "name": "stderr",
     "output_type": "stream",
     "text": [
      "\r",
      " 39%|█████████████████████████████████████████████████▊                                                                               | 564/1459 [01:10<01:47,  8.35it/s]"
     ]
    },
    {
     "name": "stdout",
     "output_type": "stream",
     "text": [
      "batch 563, R-squared: -4.11339924903004, MAE: 26.58612823486328, RMSE: 29.498003005981445\n",
      "batch 564, R-squared: -2.042540373491062, MAE: 17.021854400634766, RMSE: 20.786592483520508\n"
     ]
    },
    {
     "name": "stderr",
     "output_type": "stream",
     "text": [
      "\r",
      " 39%|██████████████████████████████████████████████████                                                                               | 566/1459 [01:10<01:43,  8.63it/s]"
     ]
    },
    {
     "name": "stdout",
     "output_type": "stream",
     "text": [
      "batch 565, R-squared: -2.303739731242517, MAE: 25.029296875, RMSE: 27.38633155822754\n",
      "batch 566, R-squared: -2.7305924063129257, MAE: 15.163628578186035, RMSE: 16.354434967041016\n"
     ]
    },
    {
     "name": "stderr",
     "output_type": "stream",
     "text": [
      " 39%|██████████████████████████████████████████████████▎                                                                              | 569/1459 [01:11<01:46,  8.32it/s]"
     ]
    },
    {
     "name": "stdout",
     "output_type": "stream",
     "text": [
      "batch 567, R-squared: -2.2731312161755257, MAE: 22.108491897583008, RMSE: 26.69920539855957\n",
      "batch 568, R-squared: -3.080837807397761, MAE: 31.386507034301758, RMSE: 35.33323287963867\n"
     ]
    },
    {
     "name": "stderr",
     "output_type": "stream",
     "text": [
      "\r",
      " 39%|██████████████████████████████████████████████████▍                                                                              | 571/1459 [01:11<01:37,  9.11it/s]"
     ]
    },
    {
     "name": "stdout",
     "output_type": "stream",
     "text": [
      "batch 569, R-squared: -1.6203900378169847, MAE: 16.713878631591797, RMSE: 21.702014923095703\n",
      "batch 570, R-squared: -3.3632485655169955, MAE: 15.464315414428711, RMSE: 17.12457275390625\n",
      "batch 571, R-squared: -2.1765881648049477, MAE: 22.417903900146484, RMSE: 27.737655639648438\n"
     ]
    },
    {
     "name": "stderr",
     "output_type": "stream",
     "text": [
      " 39%|██████████████████████████████████████████████████▊                                                                              | 574/1459 [01:11<01:39,  8.86it/s]"
     ]
    },
    {
     "name": "stdout",
     "output_type": "stream",
     "text": [
      "batch 572, R-squared: -3.51982302189315, MAE: 26.8173828125, RMSE: 30.276920318603516\n",
      "batch 573, R-squared: -3.2503197149256984, MAE: 23.030067443847656, RMSE: 24.72502899169922\n"
     ]
    },
    {
     "name": "stderr",
     "output_type": "stream",
     "text": [
      " 39%|██████████████████████████████████████████████████▉                                                                              | 576/1459 [01:11<01:46,  8.28it/s]"
     ]
    },
    {
     "name": "stdout",
     "output_type": "stream",
     "text": [
      "batch 574, R-squared: -2.1901210693199813, MAE: 24.308847427368164, RMSE: 27.074703216552734\n",
      "batch 575, R-squared: -2.493117858963691, MAE: 22.970624923706055, RMSE: 26.43589210510254\n"
     ]
    },
    {
     "name": "stderr",
     "output_type": "stream",
     "text": [
      " 40%|███████████████████████████████████████████████████                                                                              | 578/1459 [01:12<01:55,  7.60it/s]"
     ]
    },
    {
     "name": "stdout",
     "output_type": "stream",
     "text": [
      "batch 576, R-squared: -4.010695590787163, MAE: 18.64777374267578, RMSE: 20.125743865966797\n",
      "batch 577, R-squared: -2.427838638672809, MAE: 18.530691146850586, RMSE: 20.705791473388672\n"
     ]
    },
    {
     "name": "stderr",
     "output_type": "stream",
     "text": [
      " 40%|███████████████████████████████████████████████████▎                                                                             | 580/1459 [01:12<01:58,  7.39it/s]"
     ]
    },
    {
     "name": "stdout",
     "output_type": "stream",
     "text": [
      "batch 578, R-squared: -2.943997337021248, MAE: 26.668127059936523, RMSE: 30.14594268798828\n",
      "batch 579, R-squared: -3.050675156665913, MAE: 27.56305503845215, RMSE: 30.245519638061523\n",
      "batch 580, R-squared: -2.689670923488186, MAE: 23.0203914642334, RMSE: 27.853139877319336\n"
     ]
    },
    {
     "name": "stderr",
     "output_type": "stream",
     "text": [
      " 40%|███████████████████████████████████████████████████▌                                                                             | 583/1459 [01:12<01:55,  7.58it/s]"
     ]
    },
    {
     "name": "stdout",
     "output_type": "stream",
     "text": [
      "batch 581, R-squared: -3.5691689552326933, MAE: 22.959333419799805, RMSE: 24.80402374267578\n",
      "batch 582, R-squared: -1.410814587074585, MAE: 18.47187042236328, RMSE: 23.936729431152344\n"
     ]
    },
    {
     "name": "stderr",
     "output_type": "stream",
     "text": [
      " 40%|███████████████████████████████████████████████████▋                                                                             | 585/1459 [01:13<01:50,  7.89it/s]"
     ]
    },
    {
     "name": "stdout",
     "output_type": "stream",
     "text": [
      "batch 583, R-squared: -2.6335187949048025, MAE: 20.425987243652344, RMSE: 22.06009292602539\n",
      "batch 584, R-squared: -2.756869563102038, MAE: 16.717803955078125, RMSE: 18.149459838867188\n"
     ]
    },
    {
     "name": "stderr",
     "output_type": "stream",
     "text": [
      " 40%|███████████████████████████████████████████████████▉                                                                             | 587/1459 [01:13<01:53,  7.67it/s]"
     ]
    },
    {
     "name": "stdout",
     "output_type": "stream",
     "text": [
      "batch 585, R-squared: -1.6790487274246209, MAE: 13.543062210083008, RMSE: 16.969484329223633\n",
      "batch 586, R-squared: -3.1368039783489436, MAE: 19.9656925201416, RMSE: 21.85232925415039\n"
     ]
    },
    {
     "name": "stderr",
     "output_type": "stream",
     "text": [
      " 40%|████████████████████████████████████████████████████                                                                             | 589/1459 [01:13<01:55,  7.56it/s]"
     ]
    },
    {
     "name": "stdout",
     "output_type": "stream",
     "text": [
      "batch 587, R-squared: -2.800238129846637, MAE: 26.04189682006836, RMSE: 28.842884063720703\n",
      "batch 588, R-squared: -2.5297996642033898, MAE: 17.70292091369629, RMSE: 19.725284576416016\n"
     ]
    },
    {
     "name": "stderr",
     "output_type": "stream",
     "text": [
      " 41%|████████████████████████████████████████████████████▎                                                                            | 591/1459 [01:13<01:52,  7.73it/s]"
     ]
    },
    {
     "name": "stdout",
     "output_type": "stream",
     "text": [
      "batch 589, R-squared: -3.4610104824124774, MAE: 21.29230499267578, RMSE: 23.366682052612305\n",
      "batch 590, R-squared: -2.377430049026998, MAE: 19.47181510925293, RMSE: 22.015369415283203\n"
     ]
    },
    {
     "name": "stderr",
     "output_type": "stream",
     "text": [
      " 41%|████████████████████████████████████████████████████▍                                                                            | 593/1459 [01:14<01:53,  7.62it/s]"
     ]
    },
    {
     "name": "stdout",
     "output_type": "stream",
     "text": [
      "batch 591, R-squared: -2.0890206551228387, MAE: 21.086109161376953, RMSE: 25.820520401000977\n",
      "batch 592, R-squared: -1.7269556258163918, MAE: 22.054454803466797, RMSE: 26.49054527282715\n"
     ]
    },
    {
     "name": "stderr",
     "output_type": "stream",
     "text": [
      " 41%|████████████████████████████████████████████████████▌                                                                            | 595/1459 [01:14<01:46,  8.09it/s]"
     ]
    },
    {
     "name": "stdout",
     "output_type": "stream",
     "text": [
      "batch 593, R-squared: -3.0643736449535726, MAE: 8.481895446777344, RMSE: 9.812918663024902\n",
      "batch 594, R-squared: -2.9919074157933094, MAE: 13.850143432617188, RMSE: 15.362911224365234\n",
      "batch 595, R-squared: -2.2503292262646686, MAE: 17.59206771850586, RMSE: 19.97917938232422\n"
     ]
    },
    {
     "name": "stderr",
     "output_type": "stream",
     "text": [
      " 41%|████████████████████████████████████████████████████▊                                                                            | 598/1459 [01:14<01:40,  8.56it/s]"
     ]
    },
    {
     "name": "stdout",
     "output_type": "stream",
     "text": [
      "batch 596, R-squared: -2.7395004309677837, MAE: 9.940756797790527, RMSE: 11.212291717529297\n",
      "batch 597, R-squared: -2.536682289517012, MAE: 41.12638854980469, RMSE: 44.26262664794922\n"
     ]
    },
    {
     "name": "stderr",
     "output_type": "stream",
     "text": [
      " 41%|█████████████████████████████████████████████████████                                                                            | 600/1459 [01:14<01:46,  8.07it/s]"
     ]
    },
    {
     "name": "stdout",
     "output_type": "stream",
     "text": [
      "batch 598, R-squared: -3.4081628319427115, MAE: 25.18985366821289, RMSE: 27.023056030273438\n",
      "batch 599, R-squared: -3.042073437386755, MAE: 26.342891693115234, RMSE: 28.323766708374023\n"
     ]
    },
    {
     "name": "stderr",
     "output_type": "stream",
     "text": [
      "\r",
      " 41%|█████████████████████████████████████████████████████▏                                                                           | 601/1459 [01:15<01:43,  8.27it/s]"
     ]
    },
    {
     "name": "stdout",
     "output_type": "stream",
     "text": [
      "batch 600, R-squared: -1.9664042674798328, MAE: 17.194801330566406, RMSE: 21.05353546142578\n",
      "batch 601, R-squared: -3.1792005389462363, MAE: 26.33028793334961, RMSE: 29.849388122558594\n"
     ]
    },
    {
     "name": "stderr",
     "output_type": "stream",
     "text": [
      " 41%|█████████████████████████████████████████████████████▍                                                                           | 604/1459 [01:15<01:40,  8.50it/s]"
     ]
    },
    {
     "name": "stdout",
     "output_type": "stream",
     "text": [
      "batch 602, R-squared: -4.124272394470034, MAE: 19.330875396728516, RMSE: 20.875158309936523\n",
      "batch 603, R-squared: -4.4117131364222715, MAE: 23.281932830810547, RMSE: 25.76512336730957\n"
     ]
    },
    {
     "name": "stderr",
     "output_type": "stream",
     "text": [
      " 42%|█████████████████████████████████████████████████████▌                                                                           | 606/1459 [01:15<01:48,  7.88it/s]"
     ]
    },
    {
     "name": "stdout",
     "output_type": "stream",
     "text": [
      "batch 604, R-squared: -2.4607753250408653, MAE: 23.619192123413086, RMSE: 25.22360610961914\n",
      "batch 605, R-squared: -3.194056426593793, MAE: 19.293235778808594, RMSE: 22.17241668701172\n"
     ]
    },
    {
     "name": "stderr",
     "output_type": "stream",
     "text": [
      " 42%|█████████████████████████████████████████████████████▊                                                                           | 608/1459 [01:15<01:43,  8.25it/s]"
     ]
    },
    {
     "name": "stdout",
     "output_type": "stream",
     "text": [
      "batch 606, R-squared: -1.3693607723549566, MAE: 26.295902252197266, RMSE: 33.076812744140625\n",
      "batch 607, R-squared: -2.2729349326632957, MAE: 39.66136169433594, RMSE: 47.83250427246094\n"
     ]
    },
    {
     "name": "stderr",
     "output_type": "stream",
     "text": [
      " 42%|█████████████████████████████████████████████████████▉                                                                           | 610/1459 [01:16<01:57,  7.24it/s]"
     ]
    },
    {
     "name": "stdout",
     "output_type": "stream",
     "text": [
      "batch 608, R-squared: -1.7301448530795263, MAE: 12.374879837036133, RMSE: 14.877962112426758\n",
      "batch 609, R-squared: -1.915707605563405, MAE: 18.989501953125, RMSE: 24.391239166259766\n"
     ]
    },
    {
     "name": "stderr",
     "output_type": "stream",
     "text": [
      " 42%|██████████████████████████████████████████████████████                                                                           | 612/1459 [01:16<01:53,  7.46it/s]"
     ]
    },
    {
     "name": "stdout",
     "output_type": "stream",
     "text": [
      "batch 610, R-squared: -3.494690419884574, MAE: 26.936975479125977, RMSE: 29.689144134521484\n",
      "batch 611, R-squared: -2.77950261331424, MAE: 28.059797286987305, RMSE: 30.896263122558594\n"
     ]
    },
    {
     "name": "stderr",
     "output_type": "stream",
     "text": [
      "\r",
      " 42%|██████████████████████████████████████████████████████▎                                                                          | 614/1459 [01:16<01:39,  8.48it/s]"
     ]
    },
    {
     "name": "stdout",
     "output_type": "stream",
     "text": [
      "batch 612, R-squared: -2.2193435581220053, MAE: 30.85857391357422, RMSE: 36.477088928222656\n",
      "batch 613, R-squared: -2.6929556528448426, MAE: 14.67944622039795, RMSE: 16.568790435791016\n"
     ]
    },
    {
     "name": "stderr",
     "output_type": "stream",
     "text": [
      " 42%|██████████████████████████████████████████████████████▍                                                                          | 616/1459 [01:16<01:48,  7.76it/s]"
     ]
    },
    {
     "name": "stdout",
     "output_type": "stream",
     "text": [
      "batch 614, R-squared: -2.860900714249073, MAE: 18.827194213867188, RMSE: 20.623844146728516\n",
      "batch 615, R-squared: -2.0506560473056683, MAE: 19.030879974365234, RMSE: 23.489120483398438\n"
     ]
    },
    {
     "name": "stderr",
     "output_type": "stream",
     "text": [
      " 42%|██████████████████████████████████████████████████████▋                                                                          | 618/1459 [01:17<01:41,  8.32it/s]"
     ]
    },
    {
     "name": "stdout",
     "output_type": "stream",
     "text": [
      "batch 616, R-squared: -2.5333326698126584, MAE: 10.455270767211914, RMSE: 12.106348037719727\n",
      "batch 617, R-squared: -3.8168839702283286, MAE: 17.428693771362305, RMSE: 18.6326961517334\n"
     ]
    },
    {
     "name": "stderr",
     "output_type": "stream",
     "text": [
      " 42%|██████████████████████████████████████████████████████▊                                                                          | 620/1459 [01:17<01:35,  8.81it/s]"
     ]
    },
    {
     "name": "stdout",
     "output_type": "stream",
     "text": [
      "batch 618, R-squared: -2.9045759573445995, MAE: 28.92357635498047, RMSE: 32.57426834106445\n",
      "batch 619, R-squared: -3.006861923960983, MAE: 20.18109130859375, RMSE: 21.420263290405273\n"
     ]
    },
    {
     "name": "stderr",
     "output_type": "stream",
     "text": [
      "\r",
      " 43%|██████████████████████████████████████████████████████▉                                                                          | 621/1459 [01:17<01:46,  7.86it/s]"
     ]
    },
    {
     "name": "stdout",
     "output_type": "stream",
     "text": [
      "batch 620, R-squared: -2.6465529677963713, MAE: 16.521129608154297, RMSE: 17.938657760620117\n",
      "batch 621, R-squared: -2.123565021591477, MAE: 19.943435668945312, RMSE: 24.766921997070312\n"
     ]
    },
    {
     "name": "stderr",
     "output_type": "stream",
     "text": [
      " 43%|███████████████████████████████████████████████████████▏                                                                         | 624/1459 [01:17<01:39,  8.43it/s]"
     ]
    },
    {
     "name": "stdout",
     "output_type": "stream",
     "text": [
      "batch 622, R-squared: -2.183752676860681, MAE: 32.31432342529297, RMSE: 36.25245666503906\n",
      "batch 623, R-squared: -2.453191246037174, MAE: 18.19562339782715, RMSE: 21.326435089111328\n"
     ]
    },
    {
     "name": "stderr",
     "output_type": "stream",
     "text": [
      " 43%|███████████████████████████████████████████████████████▎                                                                         | 626/1459 [01:18<01:53,  7.32it/s]"
     ]
    },
    {
     "name": "stdout",
     "output_type": "stream",
     "text": [
      "batch 624, R-squared: -3.255635752630826, MAE: 19.653369903564453, RMSE: 21.568950653076172\n",
      "batch 625, R-squared: -2.6299808580522557, MAE: 17.282793045043945, RMSE: 19.305004119873047\n"
     ]
    },
    {
     "name": "stderr",
     "output_type": "stream",
     "text": [
      " 43%|███████████████████████████████████████████████████████▌                                                                         | 628/1459 [01:18<01:56,  7.14it/s]"
     ]
    },
    {
     "name": "stdout",
     "output_type": "stream",
     "text": [
      "batch 626, R-squared: -2.5994069193510425, MAE: 18.28765106201172, RMSE: 21.188867568969727\n",
      "batch 627, R-squared: -4.168851542708124, MAE: 17.31560516357422, RMSE: 18.319833755493164\n"
     ]
    },
    {
     "name": "stderr",
     "output_type": "stream",
     "text": [
      "\r",
      " 43%|███████████████████████████████████████████████████████▌                                                                         | 629/1459 [01:18<01:46,  7.76it/s]"
     ]
    },
    {
     "name": "stdout",
     "output_type": "stream",
     "text": [
      "batch 628, R-squared: -2.5989314602524347, MAE: 25.766189575195312, RMSE: 29.256324768066406\n",
      "batch 629, R-squared: -3.2260733308713405, MAE: 19.225317001342773, RMSE: 21.432703018188477\n"
     ]
    },
    {
     "name": "stderr",
     "output_type": "stream",
     "text": [
      " 43%|███████████████████████████████████████████████████████▉                                                                         | 632/1459 [01:18<01:38,  8.35it/s]"
     ]
    },
    {
     "name": "stdout",
     "output_type": "stream",
     "text": [
      "batch 630, R-squared: -3.7699633049581864, MAE: 32.095829010009766, RMSE: 35.475948333740234\n",
      "batch 631, R-squared: -2.605024782143679, MAE: 19.672943115234375, RMSE: 22.18486785888672\n"
     ]
    },
    {
     "name": "stderr",
     "output_type": "stream",
     "text": [
      " 43%|████████████████████████████████████████████████████████                                                                         | 634/1459 [01:19<01:44,  7.88it/s]"
     ]
    },
    {
     "name": "stdout",
     "output_type": "stream",
     "text": [
      "batch 632, R-squared: -2.860757461981713, MAE: 14.973512649536133, RMSE: 17.413619995117188\n",
      "batch 633, R-squared: -1.8286813521337502, MAE: 12.609402656555176, RMSE: 15.942047119140625\n"
     ]
    },
    {
     "name": "stderr",
     "output_type": "stream",
     "text": [
      " 44%|████████████████████████████████████████████████████████▏                                                                        | 636/1459 [01:19<01:48,  7.60it/s]"
     ]
    },
    {
     "name": "stdout",
     "output_type": "stream",
     "text": [
      "batch 634, R-squared: -2.7468124284785134, MAE: 17.876083374023438, RMSE: 20.78350067138672\n",
      "batch 635, R-squared: -3.1601167481687438, MAE: 18.542327880859375, RMSE: 20.938657760620117\n"
     ]
    },
    {
     "name": "stderr",
     "output_type": "stream",
     "text": [
      " 44%|████████████████████████████████████████████████████████▍                                                                        | 638/1459 [01:19<01:45,  7.78it/s]"
     ]
    },
    {
     "name": "stdout",
     "output_type": "stream",
     "text": [
      "batch 636, R-squared: -4.277108881344068, MAE: 21.106393814086914, RMSE: 23.082273483276367\n",
      "batch 637, R-squared: -3.0511629244709373, MAE: 20.38759422302246, RMSE: 22.727487564086914\n"
     ]
    },
    {
     "name": "stderr",
     "output_type": "stream",
     "text": [
      " 44%|████████████████████████████████████████████████████████▌                                                                        | 640/1459 [01:20<01:47,  7.61it/s]"
     ]
    },
    {
     "name": "stdout",
     "output_type": "stream",
     "text": [
      "batch 638, R-squared: -2.4938576874147613, MAE: 20.213638305664062, RMSE: 22.327787399291992\n",
      "batch 639, R-squared: -3.2096723074590767, MAE: 23.050830841064453, RMSE: 25.449718475341797\n"
     ]
    },
    {
     "name": "stderr",
     "output_type": "stream",
     "text": [
      " 44%|████████████████████████████████████████████████████████▊                                                                        | 642/1459 [01:20<01:49,  7.43it/s]"
     ]
    },
    {
     "name": "stdout",
     "output_type": "stream",
     "text": [
      "batch 640, R-squared: -4.0368523240667304, MAE: 19.328550338745117, RMSE: 23.416887283325195\n",
      "batch 641, R-squared: -2.5633350019162386, MAE: 20.676963806152344, RMSE: 23.12696647644043\n"
     ]
    },
    {
     "name": "stderr",
     "output_type": "stream",
     "text": [
      " 44%|████████████████████████████████████████████████████████▉                                                                        | 644/1459 [01:20<02:00,  6.78it/s]"
     ]
    },
    {
     "name": "stdout",
     "output_type": "stream",
     "text": [
      "batch 642, R-squared: -3.655537488298233, MAE: 19.93977928161621, RMSE: 21.252010345458984\n",
      "batch 643, R-squared: -3.2414560404876926, MAE: 18.7467098236084, RMSE: 19.863433837890625\n"
     ]
    },
    {
     "name": "stderr",
     "output_type": "stream",
     "text": [
      " 44%|█████████████████████████████████████████████████████████                                                                        | 646/1459 [01:20<01:56,  7.01it/s]"
     ]
    },
    {
     "name": "stdout",
     "output_type": "stream",
     "text": [
      "batch 644, R-squared: -2.2386080882769273, MAE: 19.9277286529541, RMSE: 22.381837844848633\n",
      "batch 645, R-squared: -2.3372097039657747, MAE: 21.90703010559082, RMSE: 24.7374267578125\n"
     ]
    },
    {
     "name": "stderr",
     "output_type": "stream",
     "text": [
      " 44%|█████████████████████████████████████████████████████████▎                                                                       | 648/1459 [01:21<01:42,  7.90it/s]"
     ]
    },
    {
     "name": "stdout",
     "output_type": "stream",
     "text": [
      "batch 646, R-squared: -5.348486430032221, MAE: 35.221588134765625, RMSE: 38.28605651855469\n",
      "batch 647, R-squared: -3.484803308002729, MAE: 17.3742733001709, RMSE: 18.88158416748047\n"
     ]
    },
    {
     "name": "stderr",
     "output_type": "stream",
     "text": [
      " 45%|█████████████████████████████████████████████████████████▍                                                                       | 650/1459 [01:21<01:48,  7.49it/s]"
     ]
    },
    {
     "name": "stdout",
     "output_type": "stream",
     "text": [
      "batch 648, R-squared: -2.95081139262254, MAE: 21.658245086669922, RMSE: 24.19057273864746\n",
      "batch 649, R-squared: -3.430287865905442, MAE: 27.564910888671875, RMSE: 30.54314422607422\n"
     ]
    },
    {
     "name": "stderr",
     "output_type": "stream",
     "text": [
      "\r",
      " 45%|█████████████████████████████████████████████████████████▋                                                                       | 652/1459 [01:21<01:36,  8.36it/s]"
     ]
    },
    {
     "name": "stdout",
     "output_type": "stream",
     "text": [
      "batch 650, R-squared: -2.182853504472141, MAE: 22.825626373291016, RMSE: 26.079057693481445\n",
      "batch 651, R-squared: -2.3752522691346662, MAE: 26.112842559814453, RMSE: 28.322460174560547\n"
     ]
    },
    {
     "name": "stderr",
     "output_type": "stream",
     "text": [
      " 45%|█████████████████████████████████████████████████████████▊                                                                       | 654/1459 [01:21<01:34,  8.48it/s]"
     ]
    },
    {
     "name": "stdout",
     "output_type": "stream",
     "text": [
      "batch 652, R-squared: -2.6428821248210097, MAE: 29.92546844482422, RMSE: 35.419944763183594\n",
      "batch 653, R-squared: -2.3451297599901744, MAE: 21.138893127441406, RMSE: 23.54912757873535\n"
     ]
    },
    {
     "name": "stderr",
     "output_type": "stream",
     "text": [
      " 45%|██████████████████████████████████████████████████████████                                                                       | 656/1459 [01:22<01:44,  7.72it/s]"
     ]
    },
    {
     "name": "stdout",
     "output_type": "stream",
     "text": [
      "batch 654, R-squared: -2.2537163564911196, MAE: 28.559524536132812, RMSE: 34.225555419921875\n",
      "batch 655, R-squared: -3.2626507775083047, MAE: 16.112375259399414, RMSE: 17.597156524658203\n"
     ]
    },
    {
     "name": "stderr",
     "output_type": "stream",
     "text": [
      " 45%|██████████████████████████████████████████████████████████▏                                                                      | 658/1459 [01:22<01:42,  7.81it/s]"
     ]
    },
    {
     "name": "stdout",
     "output_type": "stream",
     "text": [
      "batch 656, R-squared: -3.4153893627120806, MAE: 25.500349044799805, RMSE: 28.445926666259766\n",
      "batch 657, R-squared: -2.17812932296055, MAE: 37.245635986328125, RMSE: 44.47137451171875\n"
     ]
    },
    {
     "name": "stderr",
     "output_type": "stream",
     "text": [
      " 45%|██████████████████████████████████████████████████████████▎                                                                      | 660/1459 [01:22<01:56,  6.84it/s]"
     ]
    },
    {
     "name": "stdout",
     "output_type": "stream",
     "text": [
      "batch 658, R-squared: -2.102202472877699, MAE: 15.866189002990723, RMSE: 19.605833053588867\n",
      "batch 659, R-squared: -2.757214864666361, MAE: 23.475921630859375, RMSE: 25.336563110351562\n"
     ]
    },
    {
     "name": "stderr",
     "output_type": "stream",
     "text": [
      "\r",
      " 45%|██████████████████████████████████████████████████████████▌                                                                      | 662/1459 [01:22<01:42,  7.78it/s]"
     ]
    },
    {
     "name": "stdout",
     "output_type": "stream",
     "text": [
      "batch 660, R-squared: -3.2345414255648084, MAE: 32.029945373535156, RMSE: 36.49345397949219\n",
      "batch 661, R-squared: -2.3059951508472274, MAE: 23.229745864868164, RMSE: 26.906431198120117\n"
     ]
    },
    {
     "name": "stderr",
     "output_type": "stream",
     "text": [
      " 46%|██████████████████████████████████████████████████████████▋                                                                      | 664/1459 [01:23<01:42,  7.78it/s]"
     ]
    },
    {
     "name": "stdout",
     "output_type": "stream",
     "text": [
      "batch 662, R-squared: -2.3178845032815762, MAE: 31.447694778442383, RMSE: 37.20463180541992\n",
      "batch 663, R-squared: -2.256927093883591, MAE: 34.250633239746094, RMSE: 39.09650802612305\n"
     ]
    },
    {
     "name": "stderr",
     "output_type": "stream",
     "text": [
      "\r",
      " 46%|██████████████████████████████████████████████████████████▉                                                                      | 666/1459 [01:23<01:36,  8.24it/s]"
     ]
    },
    {
     "name": "stdout",
     "output_type": "stream",
     "text": [
      "batch 664, R-squared: -1.9524054323930327, MAE: 21.048324584960938, RMSE: 23.846019744873047\n",
      "batch 665, R-squared: -2.218830632321753, MAE: 32.807579040527344, RMSE: 39.38084030151367\n"
     ]
    },
    {
     "name": "stderr",
     "output_type": "stream",
     "text": [
      "\r",
      " 46%|███████████████████████████████████████████████████████████                                                                      | 668/1459 [01:23<01:32,  8.54it/s]"
     ]
    },
    {
     "name": "stdout",
     "output_type": "stream",
     "text": [
      "batch 666, R-squared: -2.4062616456908272, MAE: 23.48374366760254, RMSE: 28.066532135009766\n",
      "batch 667, R-squared: -1.8130982046697892, MAE: 13.204411506652832, RMSE: 17.468154907226562\n",
      "batch 668, R-squared: -1.93824471015282, MAE: 12.017565727233887, RMSE: 13.63538646697998\n"
     ]
    },
    {
     "name": "stderr",
     "output_type": "stream",
     "text": [
      " 46%|███████████████████████████████████████████████████████████▎                                                                     | 671/1459 [01:23<01:25,  9.22it/s]"
     ]
    },
    {
     "name": "stdout",
     "output_type": "stream",
     "text": [
      "batch 669, R-squared: -2.6866576818425885, MAE: 16.966711044311523, RMSE: 18.264497756958008\n",
      "batch 670, R-squared: -2.0388859444873186, MAE: 25.232990264892578, RMSE: 29.87102508544922\n"
     ]
    },
    {
     "name": "stderr",
     "output_type": "stream",
     "text": [
      " 46%|███████████████████████████████████████████████████████████▌                                                                     | 673/1459 [01:24<01:34,  8.29it/s]"
     ]
    },
    {
     "name": "stdout",
     "output_type": "stream",
     "text": [
      "batch 671, R-squared: -2.2062369608969163, MAE: 15.905943870544434, RMSE: 18.405181884765625\n",
      "batch 672, R-squared: -3.698563051049388, MAE: 17.440183639526367, RMSE: 18.6546573638916\n"
     ]
    },
    {
     "name": "stderr",
     "output_type": "stream",
     "text": [
      "\r",
      " 46%|███████████████████████████████████████████████████████████▌                                                                     | 674/1459 [01:24<01:37,  8.04it/s]"
     ]
    },
    {
     "name": "stdout",
     "output_type": "stream",
     "text": [
      "batch 673, R-squared: -3.834194953387648, MAE: 23.95594024658203, RMSE: 26.24318504333496\n",
      "batch 674, R-squared: -2.877670526175323, MAE: 20.093975067138672, RMSE: 23.130046844482422\n"
     ]
    },
    {
     "name": "stderr",
     "output_type": "stream",
     "text": [
      " 46%|███████████████████████████████████████████████████████████▊                                                                     | 677/1459 [01:24<01:32,  8.44it/s]"
     ]
    },
    {
     "name": "stdout",
     "output_type": "stream",
     "text": [
      "batch 675, R-squared: -1.6673068033697964, MAE: 26.25495147705078, RMSE: 34.560699462890625\n",
      "batch 676, R-squared: -2.6170184751458176, MAE: 26.80239486694336, RMSE: 30.947216033935547\n"
     ]
    },
    {
     "name": "stderr",
     "output_type": "stream",
     "text": [
      " 47%|████████████████████████████████████████████████████████████                                                                     | 679/1459 [01:24<01:37,  8.04it/s]"
     ]
    },
    {
     "name": "stdout",
     "output_type": "stream",
     "text": [
      "batch 677, R-squared: -2.5918608313894587, MAE: 30.034282684326172, RMSE: 35.549556732177734\n",
      "batch 678, R-squared: -3.1046891609560365, MAE: 25.835002899169922, RMSE: 29.221473693847656\n"
     ]
    },
    {
     "name": "stderr",
     "output_type": "stream",
     "text": [
      " 47%|████████████████████████████████████████████████████████████▎                                                                    | 682/1459 [01:25<01:24,  9.15it/s]"
     ]
    },
    {
     "name": "stdout",
     "output_type": "stream",
     "text": [
      "batch 679, R-squared: -3.188254938292501, MAE: 28.45707893371582, RMSE: 31.85369110107422\n",
      "batch 680, R-squared: -3.2067312538977735, MAE: 28.860137939453125, RMSE: 30.790924072265625\n",
      "batch 681, R-squared: -3.175059011287709, MAE: 18.525785446166992, RMSE: 19.972457885742188\n"
     ]
    },
    {
     "name": "stderr",
     "output_type": "stream",
     "text": [
      " 47%|████████████████████████████████████████████████████████████▍                                                                    | 684/1459 [01:25<01:25,  9.04it/s]"
     ]
    },
    {
     "name": "stdout",
     "output_type": "stream",
     "text": [
      "batch 682, R-squared: -2.49220827120711, MAE: 31.92336654663086, RMSE: 35.981536865234375\n",
      "batch 683, R-squared: -3.0966587653614983, MAE: 25.951492309570312, RMSE: 28.287288665771484\n"
     ]
    },
    {
     "name": "stderr",
     "output_type": "stream",
     "text": [
      " 47%|████████████████████████████████████████████████████████████▋                                                                    | 686/1459 [01:25<01:35,  8.11it/s]"
     ]
    },
    {
     "name": "stdout",
     "output_type": "stream",
     "text": [
      "batch 684, R-squared: -3.9523909975387146, MAE: 25.269664764404297, RMSE: 27.915691375732422\n",
      "batch 685, R-squared: -2.6802098601657196, MAE: 16.782024383544922, RMSE: 19.280216217041016\n"
     ]
    },
    {
     "name": "stderr",
     "output_type": "stream",
     "text": [
      "\r",
      " 47%|████████████████████████████████████████████████████████████▋                                                                    | 687/1459 [01:25<01:39,  7.75it/s]"
     ]
    },
    {
     "name": "stdout",
     "output_type": "stream",
     "text": [
      "batch 686, R-squared: -2.215082351597679, MAE: 25.065732955932617, RMSE: 27.742942810058594\n",
      "batch 687, R-squared: -2.693644566188607, MAE: 34.93800354003906, RMSE: 40.66337585449219\n"
     ]
    },
    {
     "name": "stderr",
     "output_type": "stream",
     "text": [
      " 47%|█████████████████████████████████████████████████████████████                                                                    | 690/1459 [01:26<01:38,  7.80it/s]"
     ]
    },
    {
     "name": "stdout",
     "output_type": "stream",
     "text": [
      "batch 688, R-squared: -3.124007314545141, MAE: 21.685468673706055, RMSE: 23.140670776367188\n",
      "batch 689, R-squared: -2.714487421705262, MAE: 17.266019821166992, RMSE: 19.616954803466797\n"
     ]
    },
    {
     "name": "stderr",
     "output_type": "stream",
     "text": [
      " 47%|█████████████████████████████████████████████████████████████▏                                                                   | 692/1459 [01:26<01:35,  8.00it/s]"
     ]
    },
    {
     "name": "stdout",
     "output_type": "stream",
     "text": [
      "batch 690, R-squared: -2.9659490299432854, MAE: 35.86689758300781, RMSE: 38.77846145629883\n",
      "batch 691, R-squared: -2.8560437354325807, MAE: 27.221324920654297, RMSE: 29.583641052246094\n"
     ]
    },
    {
     "name": "stderr",
     "output_type": "stream",
     "text": [
      " 48%|█████████████████████████████████████████████████████████████▎                                                                   | 694/1459 [01:26<01:43,  7.38it/s]"
     ]
    },
    {
     "name": "stdout",
     "output_type": "stream",
     "text": [
      "batch 692, R-squared: -2.855990756280199, MAE: 23.58075714111328, RMSE: 25.23232650756836\n",
      "batch 693, R-squared: -2.984655678846514, MAE: 26.744140625, RMSE: 29.152667999267578\n"
     ]
    },
    {
     "name": "stderr",
     "output_type": "stream",
     "text": [
      " 48%|█████████████████████████████████████████████████████████████▌                                                                   | 696/1459 [01:27<01:48,  7.03it/s]"
     ]
    },
    {
     "name": "stdout",
     "output_type": "stream",
     "text": [
      "batch 694, R-squared: -2.852567209437996, MAE: 22.078716278076172, RMSE: 24.787874221801758\n",
      "batch 695, R-squared: -2.492038954649193, MAE: 18.41769790649414, RMSE: 21.541799545288086\n"
     ]
    },
    {
     "name": "stderr",
     "output_type": "stream",
     "text": [
      " 48%|█████████████████████████████████████████████████████████████▋                                                                   | 698/1459 [01:27<01:47,  7.08it/s]"
     ]
    },
    {
     "name": "stdout",
     "output_type": "stream",
     "text": [
      "batch 696, R-squared: -2.7771139538093044, MAE: 16.196575164794922, RMSE: 17.878454208374023\n",
      "batch 697, R-squared: -2.641171152149414, MAE: 21.379501342773438, RMSE: 24.324710845947266\n"
     ]
    },
    {
     "name": "stderr",
     "output_type": "stream",
     "text": [
      " 48%|█████████████████████████████████████████████████████████████▉                                                                   | 700/1459 [01:27<01:44,  7.29it/s]"
     ]
    },
    {
     "name": "stdout",
     "output_type": "stream",
     "text": [
      "batch 698, R-squared: -2.646161746418155, MAE: 24.69542694091797, RMSE: 28.629615783691406\n",
      "batch 699, R-squared: -2.4051706084723974, MAE: 22.862743377685547, RMSE: 25.70023536682129\n"
     ]
    },
    {
     "name": "stderr",
     "output_type": "stream",
     "text": [
      " 48%|██████████████████████████████████████████████████████████████                                                                   | 702/1459 [01:27<01:42,  7.39it/s]"
     ]
    },
    {
     "name": "stdout",
     "output_type": "stream",
     "text": [
      "batch 700, R-squared: -4.6915702194557225, MAE: 25.734344482421875, RMSE: 28.01692771911621\n",
      "batch 701, R-squared: -2.8446392641575633, MAE: 14.809638023376465, RMSE: 15.931917190551758\n"
     ]
    },
    {
     "name": "stderr",
     "output_type": "stream",
     "text": [
      "\r",
      " 48%|██████████████████████████████████████████████████████████████▏                                                                  | 704/1459 [01:28<01:36,  7.79it/s]"
     ]
    },
    {
     "name": "stdout",
     "output_type": "stream",
     "text": [
      "batch 702, R-squared: -2.416566167775725, MAE: 15.766785621643066, RMSE: 17.72553253173828\n",
      "batch 703, R-squared: -2.4570255614453718, MAE: 12.689471244812012, RMSE: 14.095076560974121\n"
     ]
    },
    {
     "name": "stderr",
     "output_type": "stream",
     "text": [
      "\r",
      " 48%|██████████████████████████████████████████████████████████████▎                                                                  | 705/1459 [01:28<01:32,  8.14it/s]"
     ]
    },
    {
     "name": "stdout",
     "output_type": "stream",
     "text": [
      "batch 704, R-squared: -2.583788155866266, MAE: 16.48383140563965, RMSE: 18.341815948486328\n",
      "batch 705, R-squared: -3.747412156278481, MAE: 15.843802452087402, RMSE: 16.480213165283203\n"
     ]
    },
    {
     "name": "stderr",
     "output_type": "stream",
     "text": [
      " 49%|██████████████████████████████████████████████████████████████▌                                                                  | 708/1459 [01:28<01:27,  8.59it/s]"
     ]
    },
    {
     "name": "stdout",
     "output_type": "stream",
     "text": [
      "batch 706, R-squared: -2.4306076220228623, MAE: 25.00041389465332, RMSE: 28.41864013671875\n",
      "batch 707, R-squared: -3.7622192578271556, MAE: 18.295848846435547, RMSE: 20.464630126953125\n"
     ]
    },
    {
     "name": "stderr",
     "output_type": "stream",
     "text": [
      " 49%|██████████████████████████████████████████████████████████████▊                                                                  | 710/1459 [01:28<01:31,  8.23it/s]"
     ]
    },
    {
     "name": "stdout",
     "output_type": "stream",
     "text": [
      "batch 708, R-squared: -2.98125344789261, MAE: 22.33859634399414, RMSE: 25.612882614135742\n",
      "batch 709, R-squared: -2.7369541800993584, MAE: 26.12230110168457, RMSE: 29.265018463134766\n"
     ]
    },
    {
     "name": "stderr",
     "output_type": "stream",
     "text": [
      " 49%|██████████████████████████████████████████████████████████████▉                                                                  | 712/1459 [01:29<01:40,  7.44it/s]"
     ]
    },
    {
     "name": "stdout",
     "output_type": "stream",
     "text": [
      "batch 710, R-squared: -2.749244705039687, MAE: 14.069857597351074, RMSE: 16.131181716918945\n",
      "batch 711, R-squared: -1.7495861049799204, MAE: 20.66205406188965, RMSE: 24.770658493041992\n"
     ]
    },
    {
     "name": "stderr",
     "output_type": "stream",
     "text": [
      "\r",
      " 49%|███████████████████████████████████████████████████████████████▏                                                                 | 714/1459 [01:29<01:32,  8.06it/s]"
     ]
    },
    {
     "name": "stdout",
     "output_type": "stream",
     "text": [
      "batch 712, R-squared: -2.51197675787931, MAE: 23.99064064025879, RMSE: 25.905559539794922\n",
      "batch 713, R-squared: -1.974412024435257, MAE: 15.4276123046875, RMSE: 17.609535217285156\n"
     ]
    },
    {
     "name": "stderr",
     "output_type": "stream",
     "text": [
      " 49%|███████████████████████████████████████████████████████████████▎                                                                 | 716/1459 [01:29<01:38,  7.53it/s]"
     ]
    },
    {
     "name": "stdout",
     "output_type": "stream",
     "text": [
      "batch 714, R-squared: -3.4602814445490884, MAE: 20.44547462463379, RMSE: 22.165002822875977\n",
      "batch 715, R-squared: -2.353037184142682, MAE: 12.142772674560547, RMSE: 14.55424690246582\n"
     ]
    },
    {
     "name": "stderr",
     "output_type": "stream",
     "text": [
      " 49%|███████████████████████████████████████████████████████████████▍                                                                 | 718/1459 [01:29<01:34,  7.81it/s]"
     ]
    },
    {
     "name": "stdout",
     "output_type": "stream",
     "text": [
      "batch 716, R-squared: -1.35787412607573, MAE: 26.41979217529297, RMSE: 33.17268371582031\n",
      "batch 717, R-squared: -1.8738369119088842, MAE: 14.809014320373535, RMSE: 16.609403610229492\n"
     ]
    },
    {
     "name": "stderr",
     "output_type": "stream",
     "text": [
      " 49%|███████████████████████████████████████████████████████████████▋                                                                 | 720/1459 [01:30<01:36,  7.65it/s]"
     ]
    },
    {
     "name": "stdout",
     "output_type": "stream",
     "text": [
      "batch 718, R-squared: -1.868346788219091, MAE: 19.19925880432129, RMSE: 23.38431739807129\n",
      "batch 719, R-squared: -1.8164362906654699, MAE: 28.00440216064453, RMSE: 35.34040832519531\n"
     ]
    },
    {
     "name": "stderr",
     "output_type": "stream",
     "text": [
      " 49%|███████████████████████████████████████████████████████████████▊                                                                 | 722/1459 [01:30<01:31,  8.04it/s]"
     ]
    },
    {
     "name": "stdout",
     "output_type": "stream",
     "text": [
      "batch 720, R-squared: -1.9222988135465502, MAE: 25.459293365478516, RMSE: 33.1005973815918\n",
      "batch 721, R-squared: -2.038365980121424, MAE: 21.54404067993164, RMSE: 25.8887882232666\n"
     ]
    },
    {
     "name": "stderr",
     "output_type": "stream",
     "text": [
      " 50%|████████████████████████████████████████████████████████████████                                                                 | 724/1459 [01:30<01:30,  8.12it/s]"
     ]
    },
    {
     "name": "stdout",
     "output_type": "stream",
     "text": [
      "batch 722, R-squared: -2.9881929948890606, MAE: 21.55903434753418, RMSE: 24.660127639770508\n",
      "batch 723, R-squared: -3.1103122066172224, MAE: 23.980741500854492, RMSE: 27.60460662841797\n"
     ]
    },
    {
     "name": "stderr",
     "output_type": "stream",
     "text": [
      "\r",
      " 50%|████████████████████████████████████████████████████████████████▏                                                                | 726/1459 [01:30<01:24,  8.64it/s]"
     ]
    },
    {
     "name": "stdout",
     "output_type": "stream",
     "text": [
      "batch 724, R-squared: -1.8752996922127658, MAE: 22.282934188842773, RMSE: 25.400806427001953\n",
      "batch 725, R-squared: -2.063929516033374, MAE: 21.699569702148438, RMSE: 26.631940841674805\n"
     ]
    },
    {
     "name": "stderr",
     "output_type": "stream",
     "text": [
      " 50%|████████████████████████████████████████████████████████████████▎                                                                | 728/1459 [01:31<01:27,  8.36it/s]"
     ]
    },
    {
     "name": "stdout",
     "output_type": "stream",
     "text": [
      "batch 726, R-squared: -3.274786679190027, MAE: 18.45506477355957, RMSE: 20.36264991760254\n",
      "batch 727, R-squared: -2.4692672044192134, MAE: 16.177581787109375, RMSE: 17.80097198486328\n"
     ]
    },
    {
     "name": "stderr",
     "output_type": "stream",
     "text": [
      "\r",
      " 50%|████████████████████████████████████████████████████████████████▌                                                                | 730/1459 [01:31<01:21,  8.96it/s]"
     ]
    },
    {
     "name": "stdout",
     "output_type": "stream",
     "text": [
      "batch 728, R-squared: -4.083868056137115, MAE: 24.849773406982422, RMSE: 27.172508239746094\n",
      "batch 729, R-squared: -3.9643676749116095, MAE: 23.183330535888672, RMSE: 25.53723907470703\n"
     ]
    },
    {
     "name": "stderr",
     "output_type": "stream",
     "text": [
      " 50%|████████████████████████████████████████████████████████████████▋                                                                | 732/1459 [01:31<01:26,  8.43it/s]"
     ]
    },
    {
     "name": "stdout",
     "output_type": "stream",
     "text": [
      "batch 730, R-squared: -1.622339767900947, MAE: 18.076892852783203, RMSE: 22.53554916381836\n",
      "batch 731, R-squared: -2.9675412008315094, MAE: 26.50442886352539, RMSE: 29.560142517089844\n"
     ]
    },
    {
     "name": "stderr",
     "output_type": "stream",
     "text": [
      " 50%|████████████████████████████████████████████████████████████████▉                                                                | 734/1459 [01:31<01:38,  7.39it/s]"
     ]
    },
    {
     "name": "stdout",
     "output_type": "stream",
     "text": [
      "batch 732, R-squared: -3.3304225704290022, MAE: 21.011232376098633, RMSE: 23.164409637451172\n",
      "batch 733, R-squared: -2.3319697523818936, MAE: 11.595280647277832, RMSE: 12.6124849319458\n"
     ]
    },
    {
     "name": "stderr",
     "output_type": "stream",
     "text": [
      " 50%|█████████████████████████████████████████████████████████████████                                                                | 736/1459 [01:32<01:38,  7.34it/s]"
     ]
    },
    {
     "name": "stdout",
     "output_type": "stream",
     "text": [
      "batch 734, R-squared: -3.108885411551524, MAE: 24.84958267211914, RMSE: 27.280344009399414\n",
      "batch 735, R-squared: -3.696768434170922, MAE: 19.49999237060547, RMSE: 21.305919647216797\n"
     ]
    },
    {
     "name": "stderr",
     "output_type": "stream",
     "text": [
      " 51%|█████████████████████████████████████████████████████████████████▎                                                               | 738/1459 [01:32<01:30,  7.98it/s]"
     ]
    },
    {
     "name": "stdout",
     "output_type": "stream",
     "text": [
      "batch 736, R-squared: -2.511886412173035, MAE: 32.42920684814453, RMSE: 35.74370574951172\n",
      "batch 737, R-squared: -2.2749679157552336, MAE: 25.598834991455078, RMSE: 27.69852638244629\n"
     ]
    },
    {
     "name": "stderr",
     "output_type": "stream",
     "text": [
      " 51%|█████████████████████████████████████████████████████████████████▍                                                               | 740/1459 [01:32<01:29,  8.02it/s]"
     ]
    },
    {
     "name": "stdout",
     "output_type": "stream",
     "text": [
      "batch 738, R-squared: -1.8403374116961273, MAE: 28.915037155151367, RMSE: 37.3548583984375\n",
      "batch 739, R-squared: -1.9462609976184604, MAE: 23.448200225830078, RMSE: 26.972843170166016\n"
     ]
    },
    {
     "name": "stderr",
     "output_type": "stream",
     "text": [
      " 51%|█████████████████████████████████████████████████████████████████▌                                                               | 742/1459 [01:32<01:35,  7.55it/s]"
     ]
    },
    {
     "name": "stdout",
     "output_type": "stream",
     "text": [
      "batch 740, R-squared: -3.233113973532463, MAE: 15.833370208740234, RMSE: 17.638124465942383\n",
      "batch 741, R-squared: -1.9136590818542665, MAE: 13.267743110656738, RMSE: 16.475116729736328\n"
     ]
    },
    {
     "name": "stderr",
     "output_type": "stream",
     "text": [
      " 51%|█████████████████████████████████████████████████████████████████▊                                                               | 744/1459 [01:33<01:28,  8.07it/s]"
     ]
    },
    {
     "name": "stdout",
     "output_type": "stream",
     "text": [
      "batch 742, R-squared: -3.123253527103117, MAE: 22.631574630737305, RMSE: 24.44826889038086\n",
      "batch 743, R-squared: -2.2175520960744817, MAE: 25.863059997558594, RMSE: 30.771575927734375\n"
     ]
    },
    {
     "name": "stderr",
     "output_type": "stream",
     "text": [
      " 51%|█████████████████████████████████████████████████████████████████▉                                                               | 746/1459 [01:33<01:34,  7.54it/s]"
     ]
    },
    {
     "name": "stdout",
     "output_type": "stream",
     "text": [
      "batch 744, R-squared: -2.133024551768971, MAE: 23.59370231628418, RMSE: 28.568166732788086\n",
      "batch 745, R-squared: -3.1007120590828747, MAE: 25.197845458984375, RMSE: 27.190706253051758\n"
     ]
    },
    {
     "name": "stderr",
     "output_type": "stream",
     "text": [
      " 51%|██████████████████████████████████████████████████████████████████▏                                                              | 748/1459 [01:33<01:35,  7.48it/s]"
     ]
    },
    {
     "name": "stdout",
     "output_type": "stream",
     "text": [
      "batch 746, R-squared: -2.3036452276382406, MAE: 23.53329849243164, RMSE: 27.150999069213867\n",
      "batch 747, R-squared: -2.955978041406241, MAE: 30.885406494140625, RMSE: 35.138057708740234\n"
     ]
    },
    {
     "name": "stderr",
     "output_type": "stream",
     "text": [
      " 51%|██████████████████████████████████████████████████████████████████▎                                                              | 750/1459 [01:33<01:27,  8.09it/s]"
     ]
    },
    {
     "name": "stdout",
     "output_type": "stream",
     "text": [
      "batch 748, R-squared: -2.38991930129617, MAE: 23.560739517211914, RMSE: 28.415756225585938\n",
      "batch 749, R-squared: -2.3042284240652267, MAE: 26.812896728515625, RMSE: 32.76426696777344\n"
     ]
    },
    {
     "name": "stderr",
     "output_type": "stream",
     "text": [
      " 52%|██████████████████████████████████████████████████████████████████▍                                                              | 752/1459 [01:34<01:36,  7.36it/s]"
     ]
    },
    {
     "name": "stdout",
     "output_type": "stream",
     "text": [
      "batch 750, R-squared: -1.9950124415278836, MAE: 32.1741943359375, RMSE: 39.12476348876953\n",
      "batch 751, R-squared: -2.5616829634908878, MAE: 20.881141662597656, RMSE: 24.80445098876953\n"
     ]
    },
    {
     "name": "stderr",
     "output_type": "stream",
     "text": [
      " 52%|██████████████████████████████████████████████████████████████████▋                                                              | 754/1459 [01:34<01:34,  7.46it/s]"
     ]
    },
    {
     "name": "stdout",
     "output_type": "stream",
     "text": [
      "batch 752, R-squared: -4.221142993994549, MAE: 25.610204696655273, RMSE: 27.8107852935791\n",
      "batch 753, R-squared: -1.5873555232962686, MAE: 29.329914093017578, RMSE: 37.886817932128906\n"
     ]
    },
    {
     "name": "stderr",
     "output_type": "stream",
     "text": [
      " 52%|██████████████████████████████████████████████████████████████████▊                                                              | 756/1459 [01:34<01:32,  7.64it/s]"
     ]
    },
    {
     "name": "stdout",
     "output_type": "stream",
     "text": [
      "batch 754, R-squared: -2.567525461255317, MAE: 24.872886657714844, RMSE: 28.757217407226562\n",
      "batch 755, R-squared: -3.5004951780499876, MAE: 22.66973304748535, RMSE: 26.699254989624023\n"
     ]
    },
    {
     "name": "stderr",
     "output_type": "stream",
     "text": [
      " 52%|███████████████████████████████████████████████████████████████████                                                              | 758/1459 [01:34<01:26,  8.14it/s]"
     ]
    },
    {
     "name": "stdout",
     "output_type": "stream",
     "text": [
      "batch 756, R-squared: -2.854028618342957, MAE: 19.899906158447266, RMSE: 21.666044235229492\n",
      "batch 757, R-squared: -3.097962494743016, MAE: 23.084369659423828, RMSE: 25.756757736206055\n"
     ]
    },
    {
     "name": "stderr",
     "output_type": "stream",
     "text": [
      "\r",
      " 52%|███████████████████████████████████████████████████████████████████                                                              | 759/1459 [01:35<01:24,  8.24it/s]"
     ]
    },
    {
     "name": "stdout",
     "output_type": "stream",
     "text": [
      "batch 758, R-squared: -3.2964605104697156, MAE: 20.169130325317383, RMSE: 23.008501052856445\n",
      "batch 759, R-squared: -2.840012723360368, MAE: 14.841192245483398, RMSE: 16.21544647216797\n"
     ]
    },
    {
     "name": "stderr",
     "output_type": "stream",
     "text": [
      "\r",
      " 52%|███████████████████████████████████████████████████████████████████▎                                                             | 761/1459 [01:35<01:20,  8.63it/s]"
     ]
    },
    {
     "name": "stdout",
     "output_type": "stream",
     "text": [
      "batch 760, R-squared: -2.1582894486298754, MAE: 16.758188247680664, RMSE: 20.434642791748047\n",
      "batch 761, R-squared: -1.692246922540868, MAE: 19.95752716064453, RMSE: 25.69083023071289\n"
     ]
    },
    {
     "name": "stderr",
     "output_type": "stream",
     "text": [
      " 52%|███████████████████████████████████████████████████████████████████▌                                                             | 764/1459 [01:35<01:24,  8.26it/s]"
     ]
    },
    {
     "name": "stdout",
     "output_type": "stream",
     "text": [
      "batch 762, R-squared: -3.278068676322575, MAE: 22.46945571899414, RMSE: 24.538040161132812\n",
      "batch 763, R-squared: -2.2054447540202795, MAE: 29.11880111694336, RMSE: 31.938615798950195\n"
     ]
    },
    {
     "name": "stderr",
     "output_type": "stream",
     "text": [
      "\r",
      " 52%|███████████████████████████████████████████████████████████████████▋                                                             | 765/1459 [01:35<01:27,  7.96it/s]"
     ]
    },
    {
     "name": "stdout",
     "output_type": "stream",
     "text": [
      "batch 764, R-squared: -3.7319021200041065, MAE: 17.720348358154297, RMSE: 19.228866577148438\n",
      "batch 765, R-squared: -2.902340691776655, MAE: 35.968536376953125, RMSE: 40.62323760986328\n"
     ]
    },
    {
     "name": "stderr",
     "output_type": "stream",
     "text": [
      " 53%|███████████████████████████████████████████████████████████████████▉                                                             | 768/1459 [01:36<01:29,  7.72it/s]"
     ]
    },
    {
     "name": "stdout",
     "output_type": "stream",
     "text": [
      "batch 766, R-squared: -2.37759591114796, MAE: 28.622344970703125, RMSE: 31.193740844726562\n",
      "batch 767, R-squared: -1.8103526594604968, MAE: 10.85643196105957, RMSE: 12.761886596679688\n"
     ]
    },
    {
     "name": "stderr",
     "output_type": "stream",
     "text": [
      " 53%|████████████████████████████████████████████████████████████████████                                                             | 770/1459 [01:36<01:32,  7.46it/s]"
     ]
    },
    {
     "name": "stdout",
     "output_type": "stream",
     "text": [
      "batch 768, R-squared: -2.4424182847314815, MAE: 21.869140625, RMSE: 24.930057525634766\n",
      "batch 769, R-squared: -3.460847685862331, MAE: 22.50700569152832, RMSE: 24.32180404663086\n"
     ]
    },
    {
     "name": "stderr",
     "output_type": "stream",
     "text": [
      " 53%|████████████████████████████████████████████████████████████████████▎                                                            | 772/1459 [01:36<01:25,  7.99it/s]"
     ]
    },
    {
     "name": "stdout",
     "output_type": "stream",
     "text": [
      "batch 770, R-squared: -1.1606647890899304, MAE: 24.765981674194336, RMSE: 32.563636779785156\n",
      "batch 771, R-squared: -1.6978909737750372, MAE: 37.39451599121094, RMSE: 46.91609191894531\n"
     ]
    },
    {
     "name": "stderr",
     "output_type": "stream",
     "text": [
      " 53%|████████████████████████████████████████████████████████████████████▍                                                            | 774/1459 [01:36<01:23,  8.23it/s]"
     ]
    },
    {
     "name": "stdout",
     "output_type": "stream",
     "text": [
      "batch 772, R-squared: -4.67685816819172, MAE: 19.929428100585938, RMSE: 21.922544479370117\n",
      "batch 773, R-squared: -4.5182577179487655, MAE: 29.219284057617188, RMSE: 31.666011810302734\n"
     ]
    },
    {
     "name": "stderr",
     "output_type": "stream",
     "text": [
      " 53%|████████████████████████████████████████████████████████████████████▌                                                            | 776/1459 [01:37<01:21,  8.42it/s]"
     ]
    },
    {
     "name": "stdout",
     "output_type": "stream",
     "text": [
      "batch 774, R-squared: -1.6051419441856298, MAE: 9.870575904846191, RMSE: 11.829191207885742\n",
      "batch 775, R-squared: -1.8514869029108691, MAE: 19.8837947845459, RMSE: 24.086563110351562\n"
     ]
    },
    {
     "name": "stderr",
     "output_type": "stream",
     "text": [
      " 53%|████████████████████████████████████████████████████████████████████▊                                                            | 778/1459 [01:37<01:21,  8.35it/s]"
     ]
    },
    {
     "name": "stdout",
     "output_type": "stream",
     "text": [
      "batch 776, R-squared: -3.122718100883778, MAE: 17.090274810791016, RMSE: 19.245431900024414\n",
      "batch 777, R-squared: -2.10850162056726, MAE: 20.815837860107422, RMSE: 24.641571044921875\n"
     ]
    },
    {
     "name": "stderr",
     "output_type": "stream",
     "text": [
      "\r",
      " 53%|████████████████████████████████████████████████████████████████████▉                                                            | 780/1459 [01:37<01:14,  9.12it/s]"
     ]
    },
    {
     "name": "stdout",
     "output_type": "stream",
     "text": [
      "batch 778, R-squared: -3.3300775409078285, MAE: 18.14962387084961, RMSE: 20.113536834716797\n",
      "batch 779, R-squared: -2.3070092223827925, MAE: 22.221572875976562, RMSE: 24.748477935791016\n"
     ]
    },
    {
     "name": "stderr",
     "output_type": "stream",
     "text": [
      " 54%|█████████████████████████████████████████████████████████████████████▏                                                           | 782/1459 [01:37<01:13,  9.22it/s]"
     ]
    },
    {
     "name": "stdout",
     "output_type": "stream",
     "text": [
      "batch 780, R-squared: -3.2199968296395793, MAE: 15.407922744750977, RMSE: 16.44686508178711\n",
      "batch 781, R-squared: -2.5121885022049204, MAE: 14.079545021057129, RMSE: 15.744600296020508\n"
     ]
    },
    {
     "name": "stderr",
     "output_type": "stream",
     "text": [
      " 54%|█████████████████████████████████████████████████████████████████████▎                                                           | 784/1459 [01:38<01:17,  8.76it/s]"
     ]
    },
    {
     "name": "stdout",
     "output_type": "stream",
     "text": [
      "batch 782, R-squared: -3.107051644860584, MAE: 24.488788604736328, RMSE: 26.91988754272461\n",
      "batch 783, R-squared: -3.0486900310248535, MAE: 15.801025390625, RMSE: 17.375782012939453\n"
     ]
    },
    {
     "name": "stderr",
     "output_type": "stream",
     "text": [
      "\r",
      " 54%|█████████████████████████████████████████████████████████████████████▍                                                           | 786/1459 [01:38<01:14,  9.00it/s]"
     ]
    },
    {
     "name": "stdout",
     "output_type": "stream",
     "text": [
      "batch 784, R-squared: -2.332358126404836, MAE: 24.86296844482422, RMSE: 29.403125762939453\n",
      "batch 785, R-squared: -1.814618697333751, MAE: 14.404925346374512, RMSE: 16.356420516967773\n"
     ]
    },
    {
     "name": "stderr",
     "output_type": "stream",
     "text": [
      " 54%|█████████████████████████████████████████████████████████████████████▋                                                           | 788/1459 [01:38<01:20,  8.29it/s]"
     ]
    },
    {
     "name": "stdout",
     "output_type": "stream",
     "text": [
      "batch 786, R-squared: -2.376756584650086, MAE: 17.4064884185791, RMSE: 19.281641006469727\n",
      "batch 787, R-squared: -2.603015091852086, MAE: 23.179447174072266, RMSE: 26.969778060913086\n"
     ]
    },
    {
     "name": "stderr",
     "output_type": "stream",
     "text": [
      " 54%|█████████████████████████████████████████████████████████████████████▊                                                           | 790/1459 [01:38<01:33,  7.16it/s]"
     ]
    },
    {
     "name": "stdout",
     "output_type": "stream",
     "text": [
      "batch 788, R-squared: -3.5699559521470063, MAE: 20.1727237701416, RMSE: 21.837905883789062\n",
      "batch 789, R-squared: -2.078621974065992, MAE: 20.923904418945312, RMSE: 24.219465255737305\n"
     ]
    },
    {
     "name": "stderr",
     "output_type": "stream",
     "text": [
      " 54%|██████████████████████████████████████████████████████████████████████                                                           | 792/1459 [01:39<01:30,  7.35it/s]"
     ]
    },
    {
     "name": "stdout",
     "output_type": "stream",
     "text": [
      "batch 790, R-squared: -2.323188684905616, MAE: 21.565549850463867, RMSE: 25.493066787719727\n",
      "batch 791, R-squared: -3.4199800254202835, MAE: 26.913131713867188, RMSE: 29.737407684326172\n"
     ]
    },
    {
     "name": "stderr",
     "output_type": "stream",
     "text": [
      " 54%|██████████████████████████████████████████████████████████████████████▏                                                          | 794/1459 [01:39<01:26,  7.72it/s]"
     ]
    },
    {
     "name": "stdout",
     "output_type": "stream",
     "text": [
      "batch 792, R-squared: -3.4605702366841977, MAE: 18.644229888916016, RMSE: 19.99590301513672\n",
      "batch 793, R-squared: -1.5280253452321046, MAE: 20.42136573791504, RMSE: 25.381893157958984\n"
     ]
    },
    {
     "name": "stderr",
     "output_type": "stream",
     "text": [
      " 55%|██████████████████████████████████████████████████████████████████████▍                                                          | 796/1459 [01:39<01:23,  7.98it/s]"
     ]
    },
    {
     "name": "stdout",
     "output_type": "stream",
     "text": [
      "batch 794, R-squared: -2.12798216414714, MAE: 20.966094970703125, RMSE: 23.156967163085938\n",
      "batch 795, R-squared: -3.101756208353975, MAE: 13.777002334594727, RMSE: 14.735869407653809\n"
     ]
    },
    {
     "name": "stderr",
     "output_type": "stream",
     "text": [
      "\r",
      " 55%|██████████████████████████████████████████████████████████████████████▍                                                          | 797/1459 [01:39<01:25,  7.75it/s]"
     ]
    },
    {
     "name": "stdout",
     "output_type": "stream",
     "text": [
      "batch 796, R-squared: -2.1797115352552683, MAE: 25.987720489501953, RMSE: 29.935867309570312\n",
      "batch 797, R-squared: -2.6102783459659524, MAE: 22.369121551513672, RMSE: 23.97168731689453\n"
     ]
    },
    {
     "name": "stderr",
     "output_type": "stream",
     "text": [
      " 55%|██████████████████████████████████████████████████████████████████████▋                                                          | 800/1459 [01:40<01:22,  7.95it/s]"
     ]
    },
    {
     "name": "stdout",
     "output_type": "stream",
     "text": [
      "batch 798, R-squared: -3.5838087137180787, MAE: 28.030359268188477, RMSE: 30.293588638305664\n",
      "batch 799, R-squared: -2.1795547706157934, MAE: 20.342851638793945, RMSE: 22.649505615234375\n"
     ]
    },
    {
     "name": "stderr",
     "output_type": "stream",
     "text": [
      " 55%|██████████████████████████████████████████████████████████████████████▉                                                          | 802/1459 [01:40<01:23,  7.89it/s]"
     ]
    },
    {
     "name": "stdout",
     "output_type": "stream",
     "text": [
      "batch 800, R-squared: -2.9634086671966813, MAE: 13.424857139587402, RMSE: 14.614219665527344\n",
      "batch 801, R-squared: -3.970322498050369, MAE: 15.297571182250977, RMSE: 16.451370239257812\n"
     ]
    },
    {
     "name": "stderr",
     "output_type": "stream",
     "text": [
      " 55%|███████████████████████████████████████████████████████████████████████▏                                                         | 805/1459 [01:40<01:14,  8.77it/s]"
     ]
    },
    {
     "name": "stdout",
     "output_type": "stream",
     "text": [
      "batch 802, R-squared: -2.961180652656487, MAE: 27.96019744873047, RMSE: 31.45871925354004\n",
      "batch 803, R-squared: -3.329598916637228, MAE: 29.380094528198242, RMSE: 33.18278884887695\n",
      "batch 804, R-squared: -3.0037878417040593, MAE: 15.023508071899414, RMSE: 17.971092224121094\n"
     ]
    },
    {
     "name": "stderr",
     "output_type": "stream",
     "text": [
      "\r",
      " 55%|███████████████████████████████████████████████████████████████████████▎                                                         | 806/1459 [01:40<01:23,  7.87it/s]"
     ]
    },
    {
     "name": "stdout",
     "output_type": "stream",
     "text": [
      "batch 805, R-squared: -3.032076708301348, MAE: 28.506271362304688, RMSE: 33.67416000366211\n",
      "batch 806, R-squared: -3.263498094120082, MAE: 17.811359405517578, RMSE: 19.444244384765625\n"
     ]
    },
    {
     "name": "stderr",
     "output_type": "stream",
     "text": [
      "\r",
      " 55%|███████████████████████████████████████████████████████████████████████▍                                                         | 808/1459 [01:41<01:17,  8.35it/s]"
     ]
    },
    {
     "name": "stdout",
     "output_type": "stream",
     "text": [
      "batch 807, R-squared: -1.9675070805877104, MAE: 23.2087345123291, RMSE: 26.310089111328125\n",
      "batch 808, R-squared: -2.3681043841349196, MAE: 11.612892150878906, RMSE: 13.749935150146484\n"
     ]
    },
    {
     "name": "stderr",
     "output_type": "stream",
     "text": [
      " 56%|███████████████████████████████████████████████████████████████████████▋                                                         | 811/1459 [01:41<01:18,  8.23it/s]"
     ]
    },
    {
     "name": "stdout",
     "output_type": "stream",
     "text": [
      "batch 809, R-squared: -2.6341653418748976, MAE: 24.377042770385742, RMSE: 28.740779876708984\n",
      "batch 810, R-squared: -3.216378906024357, MAE: 29.386524200439453, RMSE: 31.694446563720703\n"
     ]
    },
    {
     "name": "stderr",
     "output_type": "stream",
     "text": [
      "\r",
      " 56%|███████████████████████████████████████████████████████████████████████▉                                                         | 813/1459 [01:41<01:11,  9.07it/s]"
     ]
    },
    {
     "name": "stdout",
     "output_type": "stream",
     "text": [
      "batch 811, R-squared: -2.509390615295393, MAE: 26.62895965576172, RMSE: 29.836387634277344\n",
      "batch 812, R-squared: -3.242938060022567, MAE: 20.84119987487793, RMSE: 22.292680740356445\n"
     ]
    },
    {
     "name": "stderr",
     "output_type": "stream",
     "text": [
      "\r",
      " 56%|███████████████████████████████████████████████████████████████████████▉                                                         | 814/1459 [01:41<01:10,  9.21it/s]"
     ]
    },
    {
     "name": "stdout",
     "output_type": "stream",
     "text": [
      "batch 813, R-squared: -2.1716649359993325, MAE: 22.734756469726562, RMSE: 25.036880493164062\n",
      "batch 814, R-squared: -3.543490689748097, MAE: 33.42085647583008, RMSE: 37.60022735595703\n"
     ]
    },
    {
     "name": "stderr",
     "output_type": "stream",
     "text": [
      " 56%|████████████████████████████████████████████████████████████████████████▏                                                        | 817/1459 [01:42<01:12,  8.84it/s]"
     ]
    },
    {
     "name": "stdout",
     "output_type": "stream",
     "text": [
      "batch 815, R-squared: -3.842031075918545, MAE: 12.339607238769531, RMSE: 13.478972434997559\n",
      "batch 816, R-squared: -3.59288521877791, MAE: 18.391084671020508, RMSE: 21.027009963989258\n"
     ]
    },
    {
     "name": "stderr",
     "output_type": "stream",
     "text": [
      "\r",
      " 56%|████████████████████████████████████████████████████████████████████████▎                                                        | 818/1459 [01:42<01:15,  8.44it/s]"
     ]
    },
    {
     "name": "stdout",
     "output_type": "stream",
     "text": [
      "batch 817, R-squared: -2.8626200313982646, MAE: 19.989486694335938, RMSE: 22.817642211914062\n",
      "batch 818, R-squared: -3.4878492695916465, MAE: 21.208505630493164, RMSE: 23.455421447753906\n"
     ]
    },
    {
     "name": "stderr",
     "output_type": "stream",
     "text": [
      " 56%|████████████████████████████████████████████████████████████████████████▌                                                        | 821/1459 [01:42<01:17,  8.27it/s]"
     ]
    },
    {
     "name": "stdout",
     "output_type": "stream",
     "text": [
      "batch 819, R-squared: -3.15198795068791, MAE: 15.76998519897461, RMSE: 18.057626724243164\n",
      "batch 820, R-squared: -2.3469741973606406, MAE: 15.258443832397461, RMSE: 19.190570831298828\n"
     ]
    },
    {
     "name": "stderr",
     "output_type": "stream",
     "text": [
      " 56%|████████████████████████████████████████████████████████████████████████▊                                                        | 823/1459 [01:42<01:16,  8.29it/s]"
     ]
    },
    {
     "name": "stdout",
     "output_type": "stream",
     "text": [
      "batch 821, R-squared: -2.2280956887374606, MAE: 21.67937469482422, RMSE: 25.881980895996094\n",
      "batch 822, R-squared: -2.7342913785061542, MAE: 16.61591339111328, RMSE: 18.355159759521484\n"
     ]
    },
    {
     "name": "stderr",
     "output_type": "stream",
     "text": [
      " 57%|█████████████████████████████████████████████████████████████████████████                                                        | 826/1459 [01:43<01:10,  9.00it/s]"
     ]
    },
    {
     "name": "stdout",
     "output_type": "stream",
     "text": [
      "batch 823, R-squared: -2.1716777475576343, MAE: 16.001657485961914, RMSE: 18.003639221191406\n",
      "batch 824, R-squared: -2.9595671718434153, MAE: 22.05182647705078, RMSE: 24.540794372558594\n",
      "batch 825, R-squared: -3.1683008615295356, MAE: 17.1065616607666, RMSE: 19.43010711669922\n"
     ]
    },
    {
     "name": "stderr",
     "output_type": "stream",
     "text": [
      " 57%|█████████████████████████████████████████████████████████████████████████▏                                                       | 828/1459 [01:43<01:16,  8.26it/s]"
     ]
    },
    {
     "name": "stdout",
     "output_type": "stream",
     "text": [
      "batch 826, R-squared: -3.0920753671802017, MAE: 18.017629623413086, RMSE: 19.620662689208984\n",
      "batch 827, R-squared: -3.4131524803705884, MAE: 16.04376220703125, RMSE: 17.201488494873047\n"
     ]
    },
    {
     "name": "stderr",
     "output_type": "stream",
     "text": [
      " 57%|█████████████████████████████████████████████████████████████████████████▍                                                       | 830/1459 [01:43<01:24,  7.48it/s]"
     ]
    },
    {
     "name": "stdout",
     "output_type": "stream",
     "text": [
      "batch 828, R-squared: -3.446704796223572, MAE: 14.911820411682129, RMSE: 16.04315948486328\n",
      "batch 829, R-squared: -2.7987274376805846, MAE: 31.814096450805664, RMSE: 37.65035629272461\n"
     ]
    },
    {
     "name": "stderr",
     "output_type": "stream",
     "text": [
      " 57%|█████████████████████████████████████████████████████████████████████████▌                                                       | 832/1459 [01:43<01:25,  7.35it/s]"
     ]
    },
    {
     "name": "stdout",
     "output_type": "stream",
     "text": [
      "batch 830, R-squared: -2.9626139105969593, MAE: 28.467449188232422, RMSE: 30.886924743652344\n",
      "batch 831, R-squared: -1.9573647433176575, MAE: 15.497753143310547, RMSE: 18.272851943969727\n"
     ]
    },
    {
     "name": "stderr",
     "output_type": "stream",
     "text": [
      "\r",
      " 57%|█████████████████████████████████████████████████████████████████████████▋                                                       | 833/1459 [01:44<01:26,  7.27it/s]"
     ]
    },
    {
     "name": "stdout",
     "output_type": "stream",
     "text": [
      "batch 832, R-squared: -2.032609828526132, MAE: 33.66574478149414, RMSE: 38.478599548339844\n",
      "batch 833, R-squared: -3.0352671737050168, MAE: 17.491762161254883, RMSE: 19.778114318847656\n"
     ]
    },
    {
     "name": "stderr",
     "output_type": "stream",
     "text": [
      " 57%|█████████████████████████████████████████████████████████████████████████▉                                                       | 836/1459 [01:44<01:20,  7.76it/s]"
     ]
    },
    {
     "name": "stdout",
     "output_type": "stream",
     "text": [
      "batch 834, R-squared: -2.306854444656926, MAE: 21.703227996826172, RMSE: 26.145748138427734\n",
      "batch 835, R-squared: -2.645222698386656, MAE: 26.764156341552734, RMSE: 33.36511993408203\n"
     ]
    },
    {
     "name": "stderr",
     "output_type": "stream",
     "text": [
      " 57%|██████████████████████████████████████████████████████████████████████████                                                       | 838/1459 [01:44<01:14,  8.36it/s]"
     ]
    },
    {
     "name": "stdout",
     "output_type": "stream",
     "text": [
      "batch 836, R-squared: -1.773725432831303, MAE: 16.577777862548828, RMSE: 20.926929473876953\n",
      "batch 837, R-squared: -2.9190439308876894, MAE: 14.123205184936523, RMSE: 16.217317581176758\n"
     ]
    },
    {
     "name": "stderr",
     "output_type": "stream",
     "text": [
      " 58%|██████████████████████████████████████████████████████████████████████████▎                                                      | 840/1459 [01:44<01:09,  8.92it/s]"
     ]
    },
    {
     "name": "stdout",
     "output_type": "stream",
     "text": [
      "batch 838, R-squared: -4.786137483132063, MAE: 27.246578216552734, RMSE: 29.00429916381836\n",
      "batch 839, R-squared: -3.7599500572885787, MAE: 27.144956588745117, RMSE: 28.68668556213379\n"
     ]
    },
    {
     "name": "stderr",
     "output_type": "stream",
     "text": [
      " 58%|██████████████████████████████████████████████████████████████████████████▍                                                      | 842/1459 [01:45<01:22,  7.47it/s]"
     ]
    },
    {
     "name": "stdout",
     "output_type": "stream",
     "text": [
      "batch 840, R-squared: -2.1820116859077996, MAE: 29.67888641357422, RMSE: 34.6909065246582\n",
      "batch 841, R-squared: -3.0883434007335837, MAE: 26.151859283447266, RMSE: 29.44001007080078\n"
     ]
    },
    {
     "name": "stderr",
     "output_type": "stream",
     "text": [
      " 58%|██████████████████████████████████████████████████████████████████████████▌                                                      | 844/1459 [01:45<01:24,  7.25it/s]"
     ]
    },
    {
     "name": "stdout",
     "output_type": "stream",
     "text": [
      "batch 842, R-squared: -3.5737802575677757, MAE: 20.451826095581055, RMSE: 22.90212631225586\n",
      "batch 843, R-squared: -1.8913507705373422, MAE: 27.088533401489258, RMSE: 34.091636657714844\n"
     ]
    },
    {
     "name": "stderr",
     "output_type": "stream",
     "text": [
      "\r",
      " 58%|██████████████████████████████████████████████████████████████████████████▋                                                      | 845/1459 [01:45<01:23,  7.32it/s]"
     ]
    },
    {
     "name": "stdout",
     "output_type": "stream",
     "text": [
      "batch 844, R-squared: -3.0639284511431364, MAE: 30.126399993896484, RMSE: 33.63543701171875\n",
      "batch 845, R-squared: -2.4046390863404956, MAE: 21.713716506958008, RMSE: 24.93313217163086\n"
     ]
    },
    {
     "name": "stderr",
     "output_type": "stream",
     "text": [
      " 58%|██████████████████████████████████████████████████████████████████████████▉                                                      | 848/1459 [01:46<01:17,  7.91it/s]"
     ]
    },
    {
     "name": "stdout",
     "output_type": "stream",
     "text": [
      "batch 846, R-squared: -2.071650490092871, MAE: 13.786853790283203, RMSE: 16.596250534057617\n",
      "batch 847, R-squared: -3.030616009960704, MAE: 18.023616790771484, RMSE: 19.791934967041016\n"
     ]
    },
    {
     "name": "stderr",
     "output_type": "stream",
     "text": [
      " 58%|███████████████████████████████████████████████████████████████████████████▏                                                     | 850/1459 [01:46<01:19,  7.69it/s]"
     ]
    },
    {
     "name": "stdout",
     "output_type": "stream",
     "text": [
      "batch 848, R-squared: -1.8502676247858783, MAE: 14.616459846496582, RMSE: 17.904312133789062\n",
      "batch 849, R-squared: -5.100308734402556, MAE: 21.322628021240234, RMSE: 22.80104637145996\n"
     ]
    },
    {
     "name": "stderr",
     "output_type": "stream",
     "text": [
      " 58%|███████████████████████████████████████████████████████████████████████████▎                                                     | 852/1459 [01:46<01:17,  7.81it/s]"
     ]
    },
    {
     "name": "stdout",
     "output_type": "stream",
     "text": [
      "batch 850, R-squared: -3.547122365657968, MAE: 17.716773986816406, RMSE: 19.42116355895996\n",
      "batch 851, R-squared: -2.674502294757489, MAE: 22.115793228149414, RMSE: 24.087984085083008\n"
     ]
    },
    {
     "name": "stderr",
     "output_type": "stream",
     "text": [
      "\r",
      " 58%|███████████████████████████████████████████████████████████████████████████▍                                                     | 853/1459 [01:46<01:50,  5.47it/s]"
     ]
    },
    {
     "name": "stdout",
     "output_type": "stream",
     "text": [
      "batch 852, R-squared: -3.595862170035448, MAE: 29.158214569091797, RMSE: 32.493709564208984\n"
     ]
    },
    {
     "name": "stderr",
     "output_type": "stream",
     "text": [
      " 59%|███████████████████████████████████████████████████████████████████████████▌                                                     | 855/1459 [01:47<01:59,  5.07it/s]"
     ]
    },
    {
     "name": "stdout",
     "output_type": "stream",
     "text": [
      "batch 853, R-squared: -3.233178513469013, MAE: 13.435401916503906, RMSE: 15.112282752990723\n",
      "batch 854, R-squared: -3.3618740553271618, MAE: 20.283180236816406, RMSE: 21.660783767700195\n"
     ]
    },
    {
     "name": "stderr",
     "output_type": "stream",
     "text": [
      " 59%|███████████████████████████████████████████████████████████████████████████▊                                                     | 857/1459 [01:47<01:44,  5.77it/s]"
     ]
    },
    {
     "name": "stdout",
     "output_type": "stream",
     "text": [
      "batch 855, R-squared: -2.222411196655087, MAE: 24.986984252929688, RMSE: 28.673818588256836\n",
      "batch 856, R-squared: -2.881811702997773, MAE: 21.00737953186035, RMSE: 23.509122848510742\n"
     ]
    },
    {
     "name": "stderr",
     "output_type": "stream",
     "text": [
      "\r",
      " 59%|███████████████████████████████████████████████████████████████████████████▊                                                     | 858/1459 [01:47<01:35,  6.30it/s]"
     ]
    },
    {
     "name": "stdout",
     "output_type": "stream",
     "text": [
      "batch 857, R-squared: -1.452650228113534, MAE: 19.60983657836914, RMSE: 26.848491668701172\n"
     ]
    },
    {
     "name": "stderr",
     "output_type": "stream",
     "text": [
      "\r",
      " 59%|███████████████████████████████████████████████████████████████████████████▉                                                     | 859/1459 [01:47<01:52,  5.31it/s]"
     ]
    },
    {
     "name": "stdout",
     "output_type": "stream",
     "text": [
      "batch 858, R-squared: -1.8663821299846584, MAE: 16.619844436645508, RMSE: 19.94632911682129\n"
     ]
    },
    {
     "name": "stderr",
     "output_type": "stream",
     "text": [
      " 59%|████████████████████████████████████████████████████████████████████████████▏                                                    | 861/1459 [01:48<01:51,  5.39it/s]"
     ]
    },
    {
     "name": "stdout",
     "output_type": "stream",
     "text": [
      "batch 859, R-squared: -3.0481530328451685, MAE: 18.867456436157227, RMSE: 21.24582862854004\n",
      "batch 860, R-squared: -3.0201915633404264, MAE: 25.52277374267578, RMSE: 28.679168701171875\n"
     ]
    },
    {
     "name": "stderr",
     "output_type": "stream",
     "text": [
      " 59%|████████████████████████████████████████████████████████████████████████████▎                                                    | 863/1459 [01:48<01:38,  6.05it/s]"
     ]
    },
    {
     "name": "stdout",
     "output_type": "stream",
     "text": [
      "batch 861, R-squared: -2.4503498515574087, MAE: 22.162363052368164, RMSE: 24.644245147705078\n",
      "batch 862, R-squared: -2.0469446823325885, MAE: 20.22137451171875, RMSE: 23.111543655395508\n"
     ]
    },
    {
     "name": "stderr",
     "output_type": "stream",
     "text": [
      "\r",
      " 59%|████████████████████████████████████████████████████████████████████████████▍                                                    | 864/1459 [01:48<01:38,  6.05it/s]"
     ]
    },
    {
     "name": "stdout",
     "output_type": "stream",
     "text": [
      "batch 863, R-squared: -3.4990849380850664, MAE: 16.70274543762207, RMSE: 18.483200073242188\n"
     ]
    },
    {
     "name": "stderr",
     "output_type": "stream",
     "text": [
      " 59%|████████████████████████████████████████████████████████████████████████████▌                                                    | 866/1459 [01:49<01:46,  5.56it/s]"
     ]
    },
    {
     "name": "stdout",
     "output_type": "stream",
     "text": [
      "batch 864, R-squared: -2.5020401613756578, MAE: 28.157413482666016, RMSE: 35.41216278076172\n",
      "batch 865, R-squared: -2.866375576548971, MAE: 18.95216178894043, RMSE: 20.122541427612305\n"
     ]
    },
    {
     "name": "stderr",
     "output_type": "stream",
     "text": [
      " 59%|████████████████████████████████████████████████████████████████████████████▋                                                    | 868/1459 [01:49<01:38,  5.98it/s]"
     ]
    },
    {
     "name": "stdout",
     "output_type": "stream",
     "text": [
      "batch 866, R-squared: -3.2406028184172038, MAE: 22.241750717163086, RMSE: 25.159915924072266\n",
      "batch 867, R-squared: -3.064659787901611, MAE: 13.746928215026855, RMSE: 15.0352783203125\n"
     ]
    },
    {
     "name": "stderr",
     "output_type": "stream",
     "text": [
      " 60%|████████████████████████████████████████████████████████████████████████████▉                                                    | 870/1459 [01:49<01:42,  5.72it/s]"
     ]
    },
    {
     "name": "stdout",
     "output_type": "stream",
     "text": [
      "batch 868, R-squared: -2.7197748281642617, MAE: 20.840038299560547, RMSE: 23.340763092041016\n",
      "batch 869, R-squared: -2.409385630522509, MAE: 20.274879455566406, RMSE: 23.121170043945312\n"
     ]
    },
    {
     "name": "stderr",
     "output_type": "stream",
     "text": [
      "\r",
      " 60%|█████████████████████████████████████████████████████████████████████████████                                                    | 871/1459 [01:50<01:51,  5.29it/s]"
     ]
    },
    {
     "name": "stdout",
     "output_type": "stream",
     "text": [
      "batch 870, R-squared: -2.944501862953884, MAE: 29.16106414794922, RMSE: 31.39565658569336\n"
     ]
    },
    {
     "name": "stderr",
     "output_type": "stream",
     "text": [
      " 60%|█████████████████████████████████████████████████████████████████████████████▏                                                   | 873/1459 [01:50<01:54,  5.11it/s]"
     ]
    },
    {
     "name": "stdout",
     "output_type": "stream",
     "text": [
      "batch 871, R-squared: -3.283895707864428, MAE: 17.47726821899414, RMSE: 18.734811782836914\n",
      "batch 872, R-squared: -3.6642149779162168, MAE: 34.87717819213867, RMSE: 38.29041290283203\n"
     ]
    },
    {
     "name": "stderr",
     "output_type": "stream",
     "text": [
      " 60%|█████████████████████████████████████████████████████████████████████████████▎                                                   | 875/1459 [01:50<01:50,  5.28it/s]"
     ]
    },
    {
     "name": "stdout",
     "output_type": "stream",
     "text": [
      "batch 873, R-squared: -2.5133145639607517, MAE: 20.683414459228516, RMSE: 24.082927703857422\n",
      "batch 874, R-squared: -3.825303740043637, MAE: 18.131567001342773, RMSE: 19.762601852416992\n"
     ]
    },
    {
     "name": "stderr",
     "output_type": "stream",
     "text": [
      "\r",
      " 60%|█████████████████████████████████████████████████████████████████████████████▍                                                   | 876/1459 [01:51<01:58,  4.91it/s]"
     ]
    },
    {
     "name": "stdout",
     "output_type": "stream",
     "text": [
      "batch 875, R-squared: -3.7023008106223876, MAE: 25.983896255493164, RMSE: 28.331253051757812\n"
     ]
    },
    {
     "name": "stderr",
     "output_type": "stream",
     "text": [
      "\r",
      " 60%|█████████████████████████████████████████████████████████████████████████████▌                                                   | 877/1459 [01:51<02:18,  4.20it/s]"
     ]
    },
    {
     "name": "stdout",
     "output_type": "stream",
     "text": [
      "batch 876, R-squared: -2.3154500457209433, MAE: 24.093303680419922, RMSE: 28.018295288085938\n"
     ]
    },
    {
     "name": "stderr",
     "output_type": "stream",
     "text": [
      "\r",
      " 60%|█████████████████████████████████████████████████████████████████████████████▋                                                   | 878/1459 [01:51<02:40,  3.62it/s]"
     ]
    },
    {
     "name": "stdout",
     "output_type": "stream",
     "text": [
      "batch 877, R-squared: -2.545830741141005, MAE: 31.319664001464844, RMSE: 36.7216682434082\n"
     ]
    },
    {
     "name": "stderr",
     "output_type": "stream",
     "text": [
      "\r",
      " 60%|█████████████████████████████████████████████████████████████████████████████▋                                                   | 879/1459 [01:52<02:30,  3.84it/s]"
     ]
    },
    {
     "name": "stdout",
     "output_type": "stream",
     "text": [
      "batch 878, R-squared: -3.2714124803145648, MAE: 21.32561683654785, RMSE: 23.600269317626953\n"
     ]
    },
    {
     "name": "stderr",
     "output_type": "stream",
     "text": [
      "\r",
      " 60%|█████████████████████████████████████████████████████████████████████████████▊                                                   | 880/1459 [01:52<02:32,  3.81it/s]"
     ]
    },
    {
     "name": "stdout",
     "output_type": "stream",
     "text": [
      "batch 879, R-squared: -2.811421413566128, MAE: 21.88312530517578, RMSE: 25.07804298400879\n"
     ]
    },
    {
     "name": "stderr",
     "output_type": "stream",
     "text": [
      "\r",
      " 60%|█████████████████████████████████████████████████████████████████████████████▉                                                   | 881/1459 [01:52<02:26,  3.93it/s]"
     ]
    },
    {
     "name": "stdout",
     "output_type": "stream",
     "text": [
      "batch 880, R-squared: -2.5365884561493615, MAE: 17.82745933532715, RMSE: 19.901002883911133\n"
     ]
    },
    {
     "name": "stderr",
     "output_type": "stream",
     "text": [
      " 61%|██████████████████████████████████████████████████████████████████████████████                                                   | 883/1459 [01:52<02:07,  4.53it/s]"
     ]
    },
    {
     "name": "stdout",
     "output_type": "stream",
     "text": [
      "batch 881, R-squared: -2.025739261855561, MAE: 13.906111717224121, RMSE: 16.622608184814453\n",
      "batch 882, R-squared: -4.062639384659635, MAE: 26.023693084716797, RMSE: 28.849294662475586\n"
     ]
    },
    {
     "name": "stderr",
     "output_type": "stream",
     "text": [
      "\r",
      " 61%|██████████████████████████████████████████████████████████████████████████████▏                                                  | 884/1459 [01:53<01:54,  5.04it/s]"
     ]
    },
    {
     "name": "stdout",
     "output_type": "stream",
     "text": [
      "batch 883, R-squared: -3.4957506388488504, MAE: 33.79460144042969, RMSE: 37.35877227783203\n",
      "batch 884, R-squared: -2.7946988574176124, MAE: 21.66933250427246, RMSE: 25.655590057373047\n"
     ]
    },
    {
     "name": "stderr",
     "output_type": "stream",
     "text": [
      " 61%|██████████████████████████████████████████████████████████████████████████████▍                                                  | 887/1459 [01:53<01:35,  5.97it/s]"
     ]
    },
    {
     "name": "stdout",
     "output_type": "stream",
     "text": [
      "batch 885, R-squared: -2.9963582200628855, MAE: 15.7703218460083, RMSE: 17.17587661743164\n",
      "batch 886, R-squared: -2.8361863757135852, MAE: 30.000259399414062, RMSE: 31.500896453857422\n"
     ]
    },
    {
     "name": "stderr",
     "output_type": "stream",
     "text": [
      "\r",
      " 61%|██████████████████████████████████████████████████████████████████████████████▌                                                  | 888/1459 [01:53<01:35,  6.00it/s]"
     ]
    },
    {
     "name": "stdout",
     "output_type": "stream",
     "text": [
      "batch 887, R-squared: -2.798971099439633, MAE: 15.075491905212402, RMSE: 18.202821731567383\n"
     ]
    },
    {
     "name": "stderr",
     "output_type": "stream",
     "text": [
      " 61%|██████████████████████████████████████████████████████████████████████████████▋                                                  | 890/1459 [01:54<01:44,  5.42it/s]"
     ]
    },
    {
     "name": "stdout",
     "output_type": "stream",
     "text": [
      "batch 888, R-squared: -1.9768226225671928, MAE: 22.273399353027344, RMSE: 25.085052490234375\n",
      "batch 889, R-squared: -4.338207637685102, MAE: 23.90243911743164, RMSE: 25.51293182373047\n"
     ]
    },
    {
     "name": "stderr",
     "output_type": "stream",
     "text": [
      " 61%|██████████████████████████████████████████████████████████████████████████████▊                                                  | 892/1459 [01:54<01:43,  5.50it/s]"
     ]
    },
    {
     "name": "stdout",
     "output_type": "stream",
     "text": [
      "batch 890, R-squared: -3.347859748463689, MAE: 32.16337966918945, RMSE: 34.477420806884766\n",
      "batch 891, R-squared: -3.1186586237599907, MAE: 25.81770133972168, RMSE: 29.815202713012695\n"
     ]
    },
    {
     "name": "stderr",
     "output_type": "stream",
     "text": [
      "\r",
      " 61%|██████████████████████████████████████████████████████████████████████████████▉                                                  | 893/1459 [01:54<01:45,  5.36it/s]"
     ]
    },
    {
     "name": "stdout",
     "output_type": "stream",
     "text": [
      "batch 892, R-squared: -2.7712757623361886, MAE: 29.129100799560547, RMSE: 32.887451171875\n"
     ]
    },
    {
     "name": "stderr",
     "output_type": "stream",
     "text": [
      " 61%|███████████████████████████████████████████████████████████████████████████████▏                                                 | 895/1459 [01:55<01:43,  5.46it/s]"
     ]
    },
    {
     "name": "stdout",
     "output_type": "stream",
     "text": [
      "batch 893, R-squared: -1.588457516651689, MAE: 15.4432954788208, RMSE: 19.994384765625\n",
      "batch 894, R-squared: -3.478449217372107, MAE: 21.742956161499023, RMSE: 24.56653594970703\n"
     ]
    },
    {
     "name": "stderr",
     "output_type": "stream",
     "text": [
      " 61%|███████████████████████████████████████████████████████████████████████████████▎                                                 | 897/1459 [01:55<01:34,  5.93it/s]"
     ]
    },
    {
     "name": "stdout",
     "output_type": "stream",
     "text": [
      "batch 895, R-squared: -2.098835113763232, MAE: 16.80864715576172, RMSE: 19.89468002319336\n",
      "batch 896, R-squared: -3.7096941379648047, MAE: 27.055763244628906, RMSE: 30.397247314453125\n"
     ]
    },
    {
     "name": "stderr",
     "output_type": "stream",
     "text": [
      " 62%|███████████████████████████████████████████████████████████████████████████████▍                                                 | 899/1459 [01:55<01:39,  5.65it/s]"
     ]
    },
    {
     "name": "stdout",
     "output_type": "stream",
     "text": [
      "batch 897, R-squared: -2.2200327862591314, MAE: 21.865467071533203, RMSE: 25.7205810546875\n",
      "batch 898, R-squared: -2.7255302410087063, MAE: 27.762279510498047, RMSE: 30.870107650756836\n"
     ]
    },
    {
     "name": "stderr",
     "output_type": "stream",
     "text": [
      " 62%|███████████████████████████████████████████████████████████████████████████████▋                                                 | 901/1459 [01:56<01:31,  6.13it/s]"
     ]
    },
    {
     "name": "stdout",
     "output_type": "stream",
     "text": [
      "batch 899, R-squared: -3.5567148530279207, MAE: 31.091609954833984, RMSE: 35.18929672241211\n",
      "batch 900, R-squared: -2.3589392140502623, MAE: 15.275993347167969, RMSE: 17.18792724609375\n"
     ]
    },
    {
     "name": "stderr",
     "output_type": "stream",
     "text": [
      " 62%|███████████████████████████████████████████████████████████████████████████████▊                                                 | 903/1459 [01:56<01:21,  6.85it/s]"
     ]
    },
    {
     "name": "stdout",
     "output_type": "stream",
     "text": [
      "batch 901, R-squared: -1.9344293154162902, MAE: 16.72500991821289, RMSE: 18.913860321044922\n",
      "batch 902, R-squared: -2.2114677814990147, MAE: 15.500664710998535, RMSE: 17.61117172241211\n"
     ]
    },
    {
     "name": "stderr",
     "output_type": "stream",
     "text": [
      " 62%|████████████████████████████████████████████████████████████████████████████████                                                 | 905/1459 [01:56<01:22,  6.69it/s]"
     ]
    },
    {
     "name": "stdout",
     "output_type": "stream",
     "text": [
      "batch 903, R-squared: -2.824317416323336, MAE: 17.640735626220703, RMSE: 19.749723434448242\n",
      "batch 904, R-squared: -1.464230611876927, MAE: 24.31371307373047, RMSE: 31.742849349975586\n"
     ]
    },
    {
     "name": "stderr",
     "output_type": "stream",
     "text": [
      " 62%|████████████████████████████████████████████████████████████████████████████████▏                                                | 907/1459 [01:56<01:22,  6.70it/s]"
     ]
    },
    {
     "name": "stdout",
     "output_type": "stream",
     "text": [
      "batch 905, R-squared: -2.0345826628685715, MAE: 10.729388236999512, RMSE: 12.422004699707031\n",
      "batch 906, R-squared: -3.2426416196887526, MAE: 22.351505279541016, RMSE: 25.136016845703125\n"
     ]
    },
    {
     "name": "stderr",
     "output_type": "stream",
     "text": [
      "\r",
      " 62%|████████████████████████████████████████████████████████████████████████████████▎                                                | 908/1459 [01:57<01:22,  6.67it/s]"
     ]
    },
    {
     "name": "stdout",
     "output_type": "stream",
     "text": [
      "batch 907, R-squared: -1.8315829336535934, MAE: 25.45477294921875, RMSE: 31.51811981201172\n"
     ]
    },
    {
     "name": "stderr",
     "output_type": "stream",
     "text": [
      " 62%|████████████████████████████████████████████████████████████████████████████████▍                                                | 910/1459 [01:57<01:31,  6.02it/s]"
     ]
    },
    {
     "name": "stdout",
     "output_type": "stream",
     "text": [
      "batch 908, R-squared: -3.31750107360944, MAE: 16.02627944946289, RMSE: 17.063268661499023\n",
      "batch 909, R-squared: -1.671441845176364, MAE: 20.705322265625, RMSE: 24.34112548828125\n"
     ]
    },
    {
     "name": "stderr",
     "output_type": "stream",
     "text": [
      " 63%|████████████████████████████████████████████████████████████████████████████████▋                                                | 912/1459 [01:57<01:23,  6.55it/s]"
     ]
    },
    {
     "name": "stdout",
     "output_type": "stream",
     "text": [
      "batch 910, R-squared: -3.1423982099400494, MAE: 18.184099197387695, RMSE: 20.410446166992188\n",
      "batch 911, R-squared: -2.327951944547962, MAE: 19.356613159179688, RMSE: 23.007871627807617\n"
     ]
    },
    {
     "name": "stderr",
     "output_type": "stream",
     "text": [
      " 63%|████████████████████████████████████████████████████████████████████████████████▊                                                | 914/1459 [01:57<01:16,  7.08it/s]"
     ]
    },
    {
     "name": "stdout",
     "output_type": "stream",
     "text": [
      "batch 912, R-squared: -2.152163924132529, MAE: 17.183792114257812, RMSE: 21.081317901611328\n",
      "batch 913, R-squared: -2.8447428801443624, MAE: 24.119876861572266, RMSE: 26.062572479248047\n"
     ]
    },
    {
     "name": "stderr",
     "output_type": "stream",
     "text": [
      " 63%|████████████████████████████████████████████████████████████████████████████████▉                                                | 916/1459 [01:58<01:13,  7.43it/s]"
     ]
    },
    {
     "name": "stdout",
     "output_type": "stream",
     "text": [
      "batch 914, R-squared: -3.457490797305288, MAE: 18.390520095825195, RMSE: 20.329017639160156\n",
      "batch 915, R-squared: -4.1422178044301114, MAE: 26.056636810302734, RMSE: 28.764440536499023\n"
     ]
    },
    {
     "name": "stderr",
     "output_type": "stream",
     "text": [
      " 63%|█████████████████████████████████████████████████████████████████████████████████▏                                               | 918/1459 [01:58<01:16,  7.10it/s]"
     ]
    },
    {
     "name": "stdout",
     "output_type": "stream",
     "text": [
      "batch 916, R-squared: -2.622153648490381, MAE: 50.96653366088867, RMSE: 54.06488800048828\n",
      "batch 917, R-squared: -2.802355994996087, MAE: 28.552032470703125, RMSE: 31.027965545654297\n"
     ]
    },
    {
     "name": "stderr",
     "output_type": "stream",
     "text": [
      " 63%|█████████████████████████████████████████████████████████████████████████████████▎                                               | 920/1459 [01:58<01:16,  7.04it/s]"
     ]
    },
    {
     "name": "stdout",
     "output_type": "stream",
     "text": [
      "batch 918, R-squared: -2.5817451218073524, MAE: 20.20494842529297, RMSE: 22.970867156982422\n",
      "batch 919, R-squared: -4.081126809848474, MAE: 28.982574462890625, RMSE: 31.9227294921875\n"
     ]
    },
    {
     "name": "stderr",
     "output_type": "stream",
     "text": [
      " 63%|█████████████████████████████████████████████████████████████████████████████████▌                                               | 922/1459 [01:59<01:15,  7.16it/s]"
     ]
    },
    {
     "name": "stdout",
     "output_type": "stream",
     "text": [
      "batch 920, R-squared: -2.5204296279659104, MAE: 23.69711685180664, RMSE: 25.877182006835938\n",
      "batch 921, R-squared: -2.493291608129838, MAE: 41.68940734863281, RMSE: 50.678775787353516\n"
     ]
    },
    {
     "name": "stderr",
     "output_type": "stream",
     "text": [
      " 63%|█████████████████████████████████████████████████████████████████████████████████▋                                               | 924/1459 [01:59<01:16,  6.99it/s]"
     ]
    },
    {
     "name": "stdout",
     "output_type": "stream",
     "text": [
      "batch 922, R-squared: -2.8401329005532876, MAE: 22.354812622070312, RMSE: 25.912809371948242\n",
      "batch 923, R-squared: -2.175197544978952, MAE: 15.98876667022705, RMSE: 18.55348014831543\n"
     ]
    },
    {
     "name": "stderr",
     "output_type": "stream",
     "text": [
      " 63%|█████████████████████████████████████████████████████████████████████████████████▊                                               | 926/1459 [01:59<01:13,  7.21it/s]"
     ]
    },
    {
     "name": "stdout",
     "output_type": "stream",
     "text": [
      "batch 924, R-squared: -2.342044328513798, MAE: 22.505535125732422, RMSE: 25.00933074951172\n",
      "batch 925, R-squared: -3.062068154700068, MAE: 31.68074607849121, RMSE: 34.091705322265625\n"
     ]
    },
    {
     "name": "stderr",
     "output_type": "stream",
     "text": [
      "\r",
      " 64%|██████████████████████████████████████████████████████████████████████████████████                                               | 928/1459 [01:59<01:10,  7.48it/s]"
     ]
    },
    {
     "name": "stdout",
     "output_type": "stream",
     "text": [
      "batch 926, R-squared: -2.112168575328938, MAE: 21.397951126098633, RMSE: 25.435312271118164\n",
      "batch 927, R-squared: -1.7530999317955152, MAE: 13.360315322875977, RMSE: 16.775625228881836\n"
     ]
    },
    {
     "name": "stderr",
     "output_type": "stream",
     "text": [
      " 64%|██████████████████████████████████████████████████████████████████████████████████▏                                              | 930/1459 [02:00<01:08,  7.72it/s]"
     ]
    },
    {
     "name": "stdout",
     "output_type": "stream",
     "text": [
      "batch 928, R-squared: -2.4573388784663504, MAE: 15.369647979736328, RMSE: 18.363765716552734\n",
      "batch 929, R-squared: -4.765771991931963, MAE: 34.64118194580078, RMSE: 38.05766296386719\n"
     ]
    },
    {
     "name": "stderr",
     "output_type": "stream",
     "text": [
      " 64%|██████████████████████████████████████████████████████████████████████████████████▍                                              | 932/1459 [02:00<01:06,  7.91it/s]"
     ]
    },
    {
     "name": "stdout",
     "output_type": "stream",
     "text": [
      "batch 930, R-squared: -2.9631041329301273, MAE: 15.911430358886719, RMSE: 17.53078269958496\n",
      "batch 931, R-squared: -2.6423296711368742, MAE: 18.131153106689453, RMSE: 20.581214904785156\n"
     ]
    },
    {
     "name": "stderr",
     "output_type": "stream",
     "text": [
      "\r",
      " 64%|██████████████████████████████████████████████████████████████████████████████████▌                                              | 934/1459 [02:00<01:01,  8.50it/s]"
     ]
    },
    {
     "name": "stdout",
     "output_type": "stream",
     "text": [
      "batch 932, R-squared: -2.9715157931175327, MAE: 20.893741607666016, RMSE: 23.630817413330078\n",
      "batch 933, R-squared: -2.389327770039604, MAE: 18.48253631591797, RMSE: 20.83077049255371\n"
     ]
    },
    {
     "name": "stderr",
     "output_type": "stream",
     "text": [
      " 64%|██████████████████████████████████████████████████████████████████████████████████▊                                              | 936/1459 [02:00<01:11,  7.27it/s]"
     ]
    },
    {
     "name": "stdout",
     "output_type": "stream",
     "text": [
      "batch 934, R-squared: -1.7260447159960055, MAE: 21.060415267944336, RMSE: 25.080005645751953\n",
      "batch 935, R-squared: -2.908755424212821, MAE: 13.6435546875, RMSE: 14.867195129394531\n"
     ]
    },
    {
     "name": "stderr",
     "output_type": "stream",
     "text": [
      " 64%|██████████████████████████████████████████████████████████████████████████████████▉                                              | 938/1459 [02:01<01:10,  7.40it/s]"
     ]
    },
    {
     "name": "stdout",
     "output_type": "stream",
     "text": [
      "batch 936, R-squared: -1.7279295246950281, MAE: 21.579631805419922, RMSE: 25.66351890563965\n",
      "batch 937, R-squared: -3.101458623675522, MAE: 30.92935562133789, RMSE: 36.30866241455078\n"
     ]
    },
    {
     "name": "stderr",
     "output_type": "stream",
     "text": [
      " 64%|███████████████████████████████████████████████████████████████████████████████████                                              | 940/1459 [02:01<01:09,  7.47it/s]"
     ]
    },
    {
     "name": "stdout",
     "output_type": "stream",
     "text": [
      "batch 938, R-squared: -2.8460405613392985, MAE: 28.458637237548828, RMSE: 32.65148162841797\n",
      "batch 939, R-squared: -2.655349437691985, MAE: 21.605754852294922, RMSE: 24.26582145690918\n"
     ]
    },
    {
     "name": "stderr",
     "output_type": "stream",
     "text": [
      " 65%|███████████████████████████████████████████████████████████████████████████████████▎                                             | 942/1459 [02:01<01:13,  7.05it/s]"
     ]
    },
    {
     "name": "stdout",
     "output_type": "stream",
     "text": [
      "batch 940, R-squared: -3.0525556166583545, MAE: 23.40635108947754, RMSE: 26.050891876220703\n",
      "batch 941, R-squared: -2.0430637229782658, MAE: 29.05693817138672, RMSE: 34.030052185058594\n"
     ]
    },
    {
     "name": "stderr",
     "output_type": "stream",
     "text": [
      " 65%|███████████████████████████████████████████████████████████████████████████████████▍                                             | 944/1459 [02:02<01:14,  6.94it/s]"
     ]
    },
    {
     "name": "stdout",
     "output_type": "stream",
     "text": [
      "batch 942, R-squared: -2.4836158427325676, MAE: 23.935205459594727, RMSE: 27.400453567504883\n",
      "batch 943, R-squared: -2.467856842201811, MAE: 23.310100555419922, RMSE: 26.349849700927734\n"
     ]
    },
    {
     "name": "stderr",
     "output_type": "stream",
     "text": [
      " 65%|███████████████████████████████████████████████████████████████████████████████████▋                                             | 946/1459 [02:02<01:10,  7.25it/s]"
     ]
    },
    {
     "name": "stdout",
     "output_type": "stream",
     "text": [
      "batch 944, R-squared: -4.103117026354889, MAE: 24.80113983154297, RMSE: 26.3494815826416\n",
      "batch 945, R-squared: -2.818410359018073, MAE: 24.797222137451172, RMSE: 28.07175064086914\n"
     ]
    },
    {
     "name": "stderr",
     "output_type": "stream",
     "text": [
      " 65%|███████████████████████████████████████████████████████████████████████████████████▊                                             | 948/1459 [02:02<01:09,  7.32it/s]"
     ]
    },
    {
     "name": "stdout",
     "output_type": "stream",
     "text": [
      "batch 946, R-squared: -2.559453804338319, MAE: 12.452811241149902, RMSE: 13.905747413635254\n",
      "batch 947, R-squared: -2.4090761284431785, MAE: 33.70515441894531, RMSE: 39.9804573059082\n"
     ]
    },
    {
     "name": "stderr",
     "output_type": "stream",
     "text": [
      " 65%|███████████████████████████████████████████████████████████████████████████████████▉                                             | 950/1459 [02:02<01:07,  7.49it/s]"
     ]
    },
    {
     "name": "stdout",
     "output_type": "stream",
     "text": [
      "batch 948, R-squared: -3.877248273320068, MAE: 26.868906021118164, RMSE: 28.56362533569336\n",
      "batch 949, R-squared: -3.7128959538951, MAE: 20.141010284423828, RMSE: 22.773780822753906\n"
     ]
    },
    {
     "name": "stderr",
     "output_type": "stream",
     "text": [
      " 65%|████████████████████████████████████████████████████████████████████████████████████▏                                            | 952/1459 [02:03<01:07,  7.51it/s]"
     ]
    },
    {
     "name": "stdout",
     "output_type": "stream",
     "text": [
      "batch 950, R-squared: -3.0970344733901687, MAE: 18.68065643310547, RMSE: 21.00927734375\n",
      "batch 951, R-squared: -2.258201852643109, MAE: 19.648284912109375, RMSE: 23.91630744934082\n"
     ]
    },
    {
     "name": "stderr",
     "output_type": "stream",
     "text": [
      " 65%|████████████████████████████████████████████████████████████████████████████████████▎                                            | 954/1459 [02:03<01:07,  7.48it/s]"
     ]
    },
    {
     "name": "stdout",
     "output_type": "stream",
     "text": [
      "batch 952, R-squared: -3.0651323947501563, MAE: 18.49274444580078, RMSE: 21.15327262878418\n",
      "batch 953, R-squared: -2.821013635348463, MAE: 23.573822021484375, RMSE: 26.546178817749023\n"
     ]
    },
    {
     "name": "stderr",
     "output_type": "stream",
     "text": [
      " 66%|████████████████████████████████████████████████████████████████████████████████████▌                                            | 956/1459 [02:03<01:14,  6.72it/s]"
     ]
    },
    {
     "name": "stdout",
     "output_type": "stream",
     "text": [
      "batch 954, R-squared: -2.0014711377138497, MAE: 24.4116153717041, RMSE: 27.19295310974121\n",
      "batch 955, R-squared: -3.2102379777182137, MAE: 26.453590393066406, RMSE: 29.988487243652344\n"
     ]
    },
    {
     "name": "stderr",
     "output_type": "stream",
     "text": [
      " 66%|████████████████████████████████████████████████████████████████████████████████████▊                                            | 959/1459 [02:04<01:00,  8.33it/s]"
     ]
    },
    {
     "name": "stdout",
     "output_type": "stream",
     "text": [
      "batch 956, R-squared: -2.7113798192431267, MAE: 10.827354431152344, RMSE: 12.13790225982666\n",
      "batch 957, R-squared: -2.0201183817166246, MAE: 25.943660736083984, RMSE: 31.90728759765625\n",
      "batch 958, R-squared: -1.9845395112047775, MAE: 23.24267578125, RMSE: 27.124744415283203\n"
     ]
    },
    {
     "name": "stderr",
     "output_type": "stream",
     "text": [
      " 66%|████████████████████████████████████████████████████████████████████████████████████▉                                            | 961/1459 [02:04<01:00,  8.29it/s]"
     ]
    },
    {
     "name": "stdout",
     "output_type": "stream",
     "text": [
      "batch 959, R-squared: -2.2895202547886595, MAE: 14.449692726135254, RMSE: 16.586566925048828\n",
      "batch 960, R-squared: -2.859643991319944, MAE: 26.342361450195312, RMSE: 28.621736526489258\n",
      "batch 961, R-squared: -2.882386773240634, MAE: 17.478084564208984, RMSE: 19.43387222290039\n"
     ]
    },
    {
     "name": "stderr",
     "output_type": "stream",
     "text": [
      " 66%|█████████████████████████████████████████████████████████████████████████████████████▏                                           | 964/1459 [02:04<00:56,  8.80it/s]"
     ]
    },
    {
     "name": "stdout",
     "output_type": "stream",
     "text": [
      "batch 962, R-squared: -2.7410092804165105, MAE: 26.512699127197266, RMSE: 28.447772979736328\n",
      "batch 963, R-squared: -2.472826225995247, MAE: 23.41221046447754, RMSE: 25.767620086669922\n"
     ]
    },
    {
     "name": "stderr",
     "output_type": "stream",
     "text": [
      " 66%|█████████████████████████████████████████████████████████████████████████████████████▍                                           | 966/1459 [02:04<01:02,  7.92it/s]"
     ]
    },
    {
     "name": "stdout",
     "output_type": "stream",
     "text": [
      "batch 964, R-squared: -2.619127610000982, MAE: 23.78868293762207, RMSE: 25.883514404296875\n",
      "batch 965, R-squared: -3.1585192636051347, MAE: 25.21303939819336, RMSE: 27.204227447509766\n"
     ]
    },
    {
     "name": "stderr",
     "output_type": "stream",
     "text": [
      "\r",
      " 66%|█████████████████████████████████████████████████████████████████████████████████████▌                                           | 968/1459 [02:05<00:56,  8.74it/s]"
     ]
    },
    {
     "name": "stdout",
     "output_type": "stream",
     "text": [
      "batch 966, R-squared: -4.126812468609691, MAE: 19.29452133178711, RMSE: 20.8564395904541\n",
      "batch 967, R-squared: -3.3804185697785734, MAE: 22.77338218688965, RMSE: 23.760509490966797\n"
     ]
    },
    {
     "name": "stderr",
     "output_type": "stream",
     "text": [
      " 67%|█████████████████████████████████████████████████████████████████████████████████████▊                                           | 971/1459 [02:05<00:53,  9.06it/s]"
     ]
    },
    {
     "name": "stdout",
     "output_type": "stream",
     "text": [
      "batch 968, R-squared: -2.338178969340596, MAE: 21.644590377807617, RMSE: 25.192481994628906\n",
      "batch 969, R-squared: -4.175448448979267, MAE: 25.151710510253906, RMSE: 27.777576446533203\n",
      "batch 970, R-squared: -2.052918229731584, MAE: 14.553027153015137, RMSE: 16.808597564697266\n"
     ]
    },
    {
     "name": "stderr",
     "output_type": "stream",
     "text": [
      " 67%|██████████████████████████████████████████████████████████████████████████████████████                                           | 973/1459 [02:05<00:53,  9.08it/s]"
     ]
    },
    {
     "name": "stdout",
     "output_type": "stream",
     "text": [
      "batch 971, R-squared: -2.320480539399939, MAE: 18.168907165527344, RMSE: 21.37555694580078\n",
      "batch 972, R-squared: -1.677980609081731, MAE: 14.56612491607666, RMSE: 18.72096061706543\n"
     ]
    },
    {
     "name": "stderr",
     "output_type": "stream",
     "text": [
      " 67%|██████████████████████████████████████████████████████████████████████████████████████▏                                          | 975/1459 [02:05<00:53,  9.04it/s]"
     ]
    },
    {
     "name": "stdout",
     "output_type": "stream",
     "text": [
      "batch 973, R-squared: -2.1831787428884297, MAE: 20.623462677001953, RMSE: 24.37558364868164\n",
      "batch 974, R-squared: -2.612125265683718, MAE: 20.544414520263672, RMSE: 23.789348602294922\n"
     ]
    },
    {
     "name": "stderr",
     "output_type": "stream",
     "text": [
      "\r",
      " 67%|██████████████████████████████████████████████████████████████████████████████████████▎                                          | 976/1459 [02:06<00:54,  8.79it/s]"
     ]
    },
    {
     "name": "stdout",
     "output_type": "stream",
     "text": [
      "batch 975, R-squared: -2.971598633344632, MAE: 27.740297317504883, RMSE: 31.274715423583984\n",
      "batch 976, R-squared: -3.6142134168274946, MAE: 23.665279388427734, RMSE: 25.105308532714844\n"
     ]
    },
    {
     "name": "stderr",
     "output_type": "stream",
     "text": [
      " 67%|██████████████████████████████████████████████████████████████████████████████████████▌                                          | 979/1459 [02:06<00:51,  9.24it/s]"
     ]
    },
    {
     "name": "stdout",
     "output_type": "stream",
     "text": [
      "batch 977, R-squared: -2.045459593058957, MAE: 37.011714935302734, RMSE: 44.921966552734375\n",
      "batch 978, R-squared: -2.62717704437615, MAE: 27.670948028564453, RMSE: 32.1104850769043\n"
     ]
    },
    {
     "name": "stderr",
     "output_type": "stream",
     "text": [
      " 67%|██████████████████████████████████████████████████████████████████████████████████████▋                                          | 981/1459 [02:06<00:54,  8.70it/s]"
     ]
    },
    {
     "name": "stdout",
     "output_type": "stream",
     "text": [
      "batch 979, R-squared: -2.8894420344047305, MAE: 16.615215301513672, RMSE: 18.20499038696289\n",
      "batch 980, R-squared: -2.5778017872468535, MAE: 20.324016571044922, RMSE: 23.073448181152344\n"
     ]
    },
    {
     "name": "stderr",
     "output_type": "stream",
     "text": [
      "\r",
      " 67%|██████████████████████████████████████████████████████████████████████████████████████▊                                          | 982/1459 [02:06<00:55,  8.62it/s]"
     ]
    },
    {
     "name": "stdout",
     "output_type": "stream",
     "text": [
      "batch 981, R-squared: -3.6763752575426194, MAE: 21.084136962890625, RMSE: 22.58232307434082\n",
      "batch 982, R-squared: -3.1800572249228276, MAE: 23.56900978088379, RMSE: 26.829818725585938\n"
     ]
    },
    {
     "name": "stderr",
     "output_type": "stream",
     "text": [
      " 68%|███████████████████████████████████████████████████████████████████████████████████████                                          | 985/1459 [02:07<00:57,  8.27it/s]"
     ]
    },
    {
     "name": "stdout",
     "output_type": "stream",
     "text": [
      "batch 983, R-squared: -3.7040894508067685, MAE: 19.485061645507812, RMSE: 20.30790901184082\n",
      "batch 984, R-squared: -1.9819807443230564, MAE: 21.008935928344727, RMSE: 24.442630767822266\n"
     ]
    },
    {
     "name": "stderr",
     "output_type": "stream",
     "text": [
      " 68%|███████████████████████████████████████████████████████████████████████████████████████▎                                         | 987/1459 [02:07<01:02,  7.56it/s]"
     ]
    },
    {
     "name": "stdout",
     "output_type": "stream",
     "text": [
      "batch 985, R-squared: -2.070039295760911, MAE: 21.60402488708496, RMSE: 25.91754913330078\n",
      "batch 986, R-squared: -1.47179511605936, MAE: 17.99373435974121, RMSE: 23.251367568969727\n"
     ]
    },
    {
     "name": "stderr",
     "output_type": "stream",
     "text": [
      " 68%|███████████████████████████████████████████████████████████████████████████████████████▍                                         | 989/1459 [02:07<01:01,  7.61it/s]"
     ]
    },
    {
     "name": "stdout",
     "output_type": "stream",
     "text": [
      "batch 987, R-squared: -2.851022202240828, MAE: 27.27765655517578, RMSE: 29.92534637451172\n",
      "batch 988, R-squared: -2.6205368698461817, MAE: 24.072513580322266, RMSE: 28.043556213378906\n"
     ]
    },
    {
     "name": "stderr",
     "output_type": "stream",
     "text": [
      "\r",
      " 68%|███████████████████████████████████████████████████████████████████████████████████████▌                                         | 990/1459 [02:07<00:59,  7.85it/s]"
     ]
    },
    {
     "name": "stdout",
     "output_type": "stream",
     "text": [
      "batch 989, R-squared: -2.7956075861870944, MAE: 28.283105850219727, RMSE: 31.885112762451172\n",
      "batch 990, R-squared: -2.747637934523717, MAE: 18.62076759338379, RMSE: 22.016130447387695\n"
     ]
    },
    {
     "name": "stderr",
     "output_type": "stream",
     "text": [
      "\r",
      " 68%|███████████████████████████████████████████████████████████████████████████████████████▋                                         | 992/1459 [02:07<00:55,  8.40it/s]"
     ]
    },
    {
     "name": "stdout",
     "output_type": "stream",
     "text": [
      "batch 991, R-squared: -3.6730112572215434, MAE: 19.047800064086914, RMSE: 20.378385543823242\n",
      "batch 992, R-squared: -3.368704071428599, MAE: 27.738372802734375, RMSE: 32.00652313232422\n"
     ]
    },
    {
     "name": "stderr",
     "output_type": "stream",
     "text": [
      " 68%|███████████████████████████████████████████████████████████████████████████████████████▉                                         | 995/1459 [02:08<00:54,  8.58it/s]"
     ]
    },
    {
     "name": "stdout",
     "output_type": "stream",
     "text": [
      "batch 993, R-squared: -2.7060867819373193, MAE: 23.481691360473633, RMSE: 24.569129943847656\n",
      "batch 994, R-squared: -2.559216594470939, MAE: 21.049419403076172, RMSE: 23.398014068603516\n"
     ]
    },
    {
     "name": "stderr",
     "output_type": "stream",
     "text": [
      " 68%|████████████████████████████████████████████████████████████████████████████████████████▏                                        | 997/1459 [02:08<00:52,  8.87it/s]"
     ]
    },
    {
     "name": "stdout",
     "output_type": "stream",
     "text": [
      "batch 995, R-squared: -2.0108995932902154, MAE: 27.795867919921875, RMSE: 34.654197692871094\n",
      "batch 996, R-squared: -3.003626825912876, MAE: 20.27198600769043, RMSE: 22.082687377929688\n",
      "batch 997, R-squared: -1.8600682079008535, MAE: 18.70050811767578, RMSE: 22.31354331970215\n"
     ]
    },
    {
     "name": "stderr",
     "output_type": "stream",
     "text": [
      " 69%|███████████████████████████████████████████████████████████████████████████████████████▋                                        | 1000/1459 [02:08<00:53,  8.57it/s]"
     ]
    },
    {
     "name": "stdout",
     "output_type": "stream",
     "text": [
      "batch 998, R-squared: -2.9959439405749553, MAE: 30.32503890991211, RMSE: 32.786094665527344\n",
      "batch 999, R-squared: -2.8811396375372906, MAE: 19.399322509765625, RMSE: 20.76778221130371\n"
     ]
    },
    {
     "name": "stderr",
     "output_type": "stream",
     "text": [
      " 69%|███████████████████████████████████████████████████████████████████████████████████████▉                                        | 1002/1459 [02:09<00:51,  8.85it/s]"
     ]
    },
    {
     "name": "stdout",
     "output_type": "stream",
     "text": [
      "batch 1000, R-squared: -3.1660040207801856, MAE: 23.355937957763672, RMSE: 26.793289184570312\n",
      "batch 1001, R-squared: -3.6770520324000686, MAE: 28.02065086364746, RMSE: 30.163297653198242\n"
     ]
    },
    {
     "name": "stderr",
     "output_type": "stream",
     "text": [
      " 69%|████████████████████████████████████████████████████████████████████████████████████████                                        | 1004/1459 [02:09<00:53,  8.51it/s]"
     ]
    },
    {
     "name": "stdout",
     "output_type": "stream",
     "text": [
      "batch 1002, R-squared: -1.6629637877884447, MAE: 14.78554916381836, RMSE: 17.630496978759766\n",
      "batch 1003, R-squared: -2.6429265969122966, MAE: 25.389724731445312, RMSE: 30.13945770263672\n"
     ]
    },
    {
     "name": "stderr",
     "output_type": "stream",
     "text": [
      " 69%|████████████████████████████████████████████████████████████████████████████████████████▎                                       | 1006/1459 [02:09<00:56,  8.06it/s]"
     ]
    },
    {
     "name": "stdout",
     "output_type": "stream",
     "text": [
      "batch 1004, R-squared: -3.4580828294796904, MAE: 23.006343841552734, RMSE: 25.14557647705078\n",
      "batch 1005, R-squared: -2.2468975518621885, MAE: 21.2069091796875, RMSE: 24.703205108642578\n"
     ]
    },
    {
     "name": "stderr",
     "output_type": "stream",
     "text": [
      " 69%|████████████████████████████████████████████████████████████████████████████████████████▍                                       | 1008/1459 [02:09<00:57,  7.80it/s]"
     ]
    },
    {
     "name": "stdout",
     "output_type": "stream",
     "text": [
      "batch 1006, R-squared: -2.6284071069438175, MAE: 23.373048782348633, RMSE: 26.709632873535156\n",
      "batch 1007, R-squared: -4.101880255141452, MAE: 29.49010467529297, RMSE: 31.508522033691406\n"
     ]
    },
    {
     "name": "stderr",
     "output_type": "stream",
     "text": [
      " 69%|████████████████████████████████████████████████████████████████████████████████████████▌                                       | 1010/1459 [02:10<00:57,  7.76it/s]"
     ]
    },
    {
     "name": "stdout",
     "output_type": "stream",
     "text": [
      "batch 1008, R-squared: -3.0198899023833494, MAE: 18.10675048828125, RMSE: 22.53326988220215\n",
      "batch 1009, R-squared: -3.014953170151982, MAE: 20.936899185180664, RMSE: 23.14707374572754\n"
     ]
    },
    {
     "name": "stderr",
     "output_type": "stream",
     "text": [
      " 69%|████████████████████████████████████████████████████████████████████████████████████████▊                                       | 1012/1459 [02:10<01:00,  7.34it/s]"
     ]
    },
    {
     "name": "stdout",
     "output_type": "stream",
     "text": [
      "batch 1010, R-squared: -1.9166496144747427, MAE: 25.563495635986328, RMSE: 31.245868682861328\n",
      "batch 1011, R-squared: -4.033209974067199, MAE: 26.732038497924805, RMSE: 28.887723922729492\n"
     ]
    },
    {
     "name": "stderr",
     "output_type": "stream",
     "text": [
      "\r",
      " 69%|████████████████████████████████████████████████████████████████████████████████████████▉                                       | 1014/1459 [02:10<00:52,  8.47it/s]"
     ]
    },
    {
     "name": "stdout",
     "output_type": "stream",
     "text": [
      "batch 1012, R-squared: -2.0762736029731492, MAE: 19.6181640625, RMSE: 23.133243560791016\n",
      "batch 1013, R-squared: -2.0187161078292144, MAE: 14.009885787963867, RMSE: 16.475154876708984\n"
     ]
    },
    {
     "name": "stderr",
     "output_type": "stream",
     "text": [
      " 70%|█████████████████████████████████████████████████████████████████████████████████████████▏                                      | 1016/1459 [02:10<00:55,  8.04it/s]"
     ]
    },
    {
     "name": "stdout",
     "output_type": "stream",
     "text": [
      "batch 1014, R-squared: -1.8948326681880734, MAE: 15.982885360717773, RMSE: 19.97525405883789\n",
      "batch 1015, R-squared: -1.8666584130214556, MAE: 26.062355041503906, RMSE: 31.804668426513672\n"
     ]
    },
    {
     "name": "stderr",
     "output_type": "stream",
     "text": [
      " 70%|█████████████████████████████████████████████████████████████████████████████████████████▎                                      | 1018/1459 [02:11<00:53,  8.26it/s]"
     ]
    },
    {
     "name": "stdout",
     "output_type": "stream",
     "text": [
      "batch 1016, R-squared: -3.0098464275586303, MAE: 17.20922088623047, RMSE: 19.354015350341797\n",
      "batch 1017, R-squared: -2.410600490351621, MAE: 16.912460327148438, RMSE: 19.083498001098633\n"
     ]
    },
    {
     "name": "stderr",
     "output_type": "stream",
     "text": [
      " 70%|█████████████████████████████████████████████████████████████████████████████████████████▍                                      | 1020/1459 [02:11<00:56,  7.74it/s]"
     ]
    },
    {
     "name": "stdout",
     "output_type": "stream",
     "text": [
      "batch 1018, R-squared: -2.9727869049252225, MAE: 19.947853088378906, RMSE: 21.315837860107422\n",
      "batch 1019, R-squared: -1.8295224331044573, MAE: 22.418914794921875, RMSE: 27.15269660949707\n"
     ]
    },
    {
     "name": "stderr",
     "output_type": "stream",
     "text": [
      " 70%|█████████████████████████████████████████████████████████████████████████████████████████▋                                      | 1022/1459 [02:11<00:55,  7.92it/s]"
     ]
    },
    {
     "name": "stdout",
     "output_type": "stream",
     "text": [
      "batch 1020, R-squared: -2.175652289318932, MAE: 16.06346893310547, RMSE: 18.11109733581543\n",
      "batch 1021, R-squared: -2.2734261819907573, MAE: 22.386802673339844, RMSE: 26.505661010742188\n"
     ]
    },
    {
     "name": "stderr",
     "output_type": "stream",
     "text": [
      " 70%|█████████████████████████████████████████████████████████████████████████████████████████▊                                      | 1024/1459 [02:11<00:57,  7.57it/s]"
     ]
    },
    {
     "name": "stdout",
     "output_type": "stream",
     "text": [
      "batch 1022, R-squared: -2.534186498145305, MAE: 18.650379180908203, RMSE: 19.604293823242188\n",
      "batch 1023, R-squared: -3.259715009132594, MAE: 26.62687110900879, RMSE: 29.065773010253906\n"
     ]
    },
    {
     "name": "stderr",
     "output_type": "stream",
     "text": [
      " 70%|██████████████████████████████████████████████████████████████████████████████████████████                                      | 1026/1459 [02:12<00:53,  8.08it/s]"
     ]
    },
    {
     "name": "stdout",
     "output_type": "stream",
     "text": [
      "batch 1024, R-squared: -2.4395542105518353, MAE: 13.143257141113281, RMSE: 15.090229034423828\n",
      "batch 1025, R-squared: -2.6687129450565235, MAE: 28.829286575317383, RMSE: 32.172874450683594\n"
     ]
    },
    {
     "name": "stderr",
     "output_type": "stream",
     "text": [
      " 70%|██████████████████████████████████████████████████████████████████████████████████████████▏                                     | 1028/1459 [02:12<00:54,  7.84it/s]"
     ]
    },
    {
     "name": "stdout",
     "output_type": "stream",
     "text": [
      "batch 1026, R-squared: -2.035355088117606, MAE: 30.725666046142578, RMSE: 38.597267150878906\n",
      "batch 1027, R-squared: -2.946456482279271, MAE: 23.511240005493164, RMSE: 25.745208740234375\n"
     ]
    },
    {
     "name": "stderr",
     "output_type": "stream",
     "text": [
      "\r",
      " 71%|██████████████████████████████████████████████████████████████████████████████████████████▎                                     | 1030/1459 [02:12<00:47,  9.02it/s]"
     ]
    },
    {
     "name": "stdout",
     "output_type": "stream",
     "text": [
      "batch 1028, R-squared: -3.6351762105310956, MAE: 22.990625381469727, RMSE: 24.277816772460938\n",
      "batch 1029, R-squared: -3.54291990332714, MAE: 21.102054595947266, RMSE: 22.97183609008789\n"
     ]
    },
    {
     "name": "stderr",
     "output_type": "stream",
     "text": [
      " 71%|██████████████████████████████████████████████████████████████████████████████████████████▌                                     | 1032/1459 [02:12<00:50,  8.53it/s]"
     ]
    },
    {
     "name": "stdout",
     "output_type": "stream",
     "text": [
      "batch 1030, R-squared: -2.68597551248861, MAE: 22.07470703125, RMSE: 24.8455810546875\n",
      "batch 1031, R-squared: -4.1465663997067415, MAE: 29.905963897705078, RMSE: 33.148258209228516\n"
     ]
    },
    {
     "name": "stderr",
     "output_type": "stream",
     "text": [
      " 71%|██████████████████████████████████████████████████████████████████████████████████████████▋                                     | 1034/1459 [02:13<00:53,  7.96it/s]"
     ]
    },
    {
     "name": "stdout",
     "output_type": "stream",
     "text": [
      "batch 1032, R-squared: -2.6890184958107404, MAE: 21.423917770385742, RMSE: 23.914710998535156\n",
      "batch 1033, R-squared: -2.847694272937712, MAE: 29.459707260131836, RMSE: 31.937137603759766\n"
     ]
    },
    {
     "name": "stderr",
     "output_type": "stream",
     "text": [
      " 71%|██████████████████████████████████████████████████████████████████████████████████████████▉                                     | 1036/1459 [02:13<00:51,  8.19it/s]"
     ]
    },
    {
     "name": "stdout",
     "output_type": "stream",
     "text": [
      "batch 1034, R-squared: -3.241610761489413, MAE: 22.545459747314453, RMSE: 24.884302139282227\n",
      "batch 1035, R-squared: -3.3610845318579248, MAE: 18.66948699951172, RMSE: 20.971532821655273\n"
     ]
    },
    {
     "name": "stderr",
     "output_type": "stream",
     "text": [
      " 71%|███████████████████████████████████████████████████████████████████████████████████████████                                     | 1038/1459 [02:13<00:54,  7.69it/s]"
     ]
    },
    {
     "name": "stdout",
     "output_type": "stream",
     "text": [
      "batch 1036, R-squared: -1.6112840906974362, MAE: 11.77247428894043, RMSE: 13.397387504577637\n",
      "batch 1037, R-squared: -2.678864445249393, MAE: 15.610504150390625, RMSE: 18.41583251953125\n"
     ]
    },
    {
     "name": "stderr",
     "output_type": "stream",
     "text": [
      " 71%|███████████████████████████████████████████████████████████████████████████████████████████▏                                    | 1040/1459 [02:13<00:59,  7.05it/s]"
     ]
    },
    {
     "name": "stdout",
     "output_type": "stream",
     "text": [
      "batch 1038, R-squared: -2.7658220959786384, MAE: 19.379560470581055, RMSE: 21.991323471069336\n",
      "batch 1039, R-squared: -3.260308643963035, MAE: 28.60198974609375, RMSE: 31.17432403564453\n"
     ]
    },
    {
     "name": "stderr",
     "output_type": "stream",
     "text": [
      " 71%|███████████████████████████████████████████████████████████████████████████████████████████▍                                    | 1042/1459 [02:14<00:52,  7.90it/s]"
     ]
    },
    {
     "name": "stdout",
     "output_type": "stream",
     "text": [
      "batch 1040, R-squared: -3.7742088594693035, MAE: 35.77397537231445, RMSE: 39.858150482177734\n",
      "batch 1041, R-squared: -3.51521429709331, MAE: 22.33736228942871, RMSE: 24.494747161865234\n"
     ]
    },
    {
     "name": "stderr",
     "output_type": "stream",
     "text": [
      " 72%|███████████████████████████████████████████████████████████████████████████████████████████▌                                    | 1044/1459 [02:14<00:52,  7.85it/s]"
     ]
    },
    {
     "name": "stdout",
     "output_type": "stream",
     "text": [
      "batch 1042, R-squared: -2.660531768263043, MAE: 23.97203254699707, RMSE: 25.84945297241211\n",
      "batch 1043, R-squared: -4.913150989612117, MAE: 14.36490535736084, RMSE: 15.732934951782227\n"
     ]
    },
    {
     "name": "stderr",
     "output_type": "stream",
     "text": [
      " 72%|███████████████████████████████████████████████████████████████████████████████████████████▊                                    | 1047/1459 [02:14<00:44,  9.20it/s]"
     ]
    },
    {
     "name": "stdout",
     "output_type": "stream",
     "text": [
      "batch 1044, R-squared: -2.797336947616313, MAE: 28.746749877929688, RMSE: 33.666404724121094\n",
      "batch 1045, R-squared: -2.300134537823653, MAE: 32.47383499145508, RMSE: 38.26765060424805\n",
      "batch 1046, R-squared: -2.320183460229742, MAE: 22.79637336730957, RMSE: 24.896896362304688\n"
     ]
    },
    {
     "name": "stderr",
     "output_type": "stream",
     "text": [
      " 72%|████████████████████████████████████████████████████████████████████████████████████████████                                    | 1049/1459 [02:14<00:50,  8.16it/s]"
     ]
    },
    {
     "name": "stdout",
     "output_type": "stream",
     "text": [
      "batch 1047, R-squared: -2.256457680409109, MAE: 27.096500396728516, RMSE: 33.35416793823242\n",
      "batch 1048, R-squared: -3.412386138311958, MAE: 22.2491455078125, RMSE: 24.986976623535156\n"
     ]
    },
    {
     "name": "stderr",
     "output_type": "stream",
     "text": [
      " 72%|████████████████████████████████████████████████████████████████████████████████████████████▏                                   | 1051/1459 [02:15<00:56,  7.22it/s]"
     ]
    },
    {
     "name": "stdout",
     "output_type": "stream",
     "text": [
      "batch 1049, R-squared: -2.908112454677112, MAE: 21.765850067138672, RMSE: 26.606502532958984\n",
      "batch 1050, R-squared: -3.186460565757024, MAE: 27.26768684387207, RMSE: 29.374574661254883\n"
     ]
    },
    {
     "name": "stderr",
     "output_type": "stream",
     "text": [
      " 72%|████████████████████████████████████████████████████████████████████████████████████████████▍                                   | 1053/1459 [02:15<00:54,  7.43it/s]"
     ]
    },
    {
     "name": "stdout",
     "output_type": "stream",
     "text": [
      "batch 1051, R-squared: -3.142501712275702, MAE: 13.965874671936035, RMSE: 14.966255187988281\n",
      "batch 1052, R-squared: -2.2396333023104837, MAE: 23.366127014160156, RMSE: 28.03792953491211\n"
     ]
    },
    {
     "name": "stderr",
     "output_type": "stream",
     "text": [
      " 72%|████████████████████████████████████████████████████████████████████████████████████████████▌                                   | 1055/1459 [02:15<00:58,  6.88it/s]"
     ]
    },
    {
     "name": "stdout",
     "output_type": "stream",
     "text": [
      "batch 1053, R-squared: -2.0873857296244416, MAE: 20.922075271606445, RMSE: 25.676944732666016\n",
      "batch 1054, R-squared: -1.7651955279298839, MAE: 20.659971237182617, RMSE: 24.78780746459961\n"
     ]
    },
    {
     "name": "stderr",
     "output_type": "stream",
     "text": [
      " 72%|████████████████████████████████████████████████████████████████████████████████████████████▋                                   | 1057/1459 [02:16<00:54,  7.32it/s]"
     ]
    },
    {
     "name": "stdout",
     "output_type": "stream",
     "text": [
      "batch 1055, R-squared: -2.522561671915252, MAE: 23.582876205444336, RMSE: 26.203731536865234\n",
      "batch 1056, R-squared: -3.355216192507379, MAE: 34.592594146728516, RMSE: 37.71503448486328\n"
     ]
    },
    {
     "name": "stderr",
     "output_type": "stream",
     "text": [
      " 73%|████████████████████████████████████████████████████████████████████████████████████████████▉                                   | 1059/1459 [02:16<00:52,  7.62it/s]"
     ]
    },
    {
     "name": "stdout",
     "output_type": "stream",
     "text": [
      "batch 1057, R-squared: -3.660158831423921, MAE: 19.688125610351562, RMSE: 23.69832992553711\n",
      "batch 1058, R-squared: -2.521254446448181, MAE: 15.219751358032227, RMSE: 17.937747955322266\n",
      "batch 1059, R-squared: -3.8000656577669742, MAE: 14.648118019104004, RMSE: 16.109214782714844\n"
     ]
    },
    {
     "name": "stderr",
     "output_type": "stream",
     "text": [
      " 73%|█████████████████████████████████████████████████████████████████████████████████████████████▏                                  | 1062/1459 [02:16<00:49,  8.00it/s]"
     ]
    },
    {
     "name": "stdout",
     "output_type": "stream",
     "text": [
      "batch 1060, R-squared: -1.8090125615741948, MAE: 10.34182071685791, RMSE: 12.8799409866333\n",
      "batch 1061, R-squared: -2.9709682754578135, MAE: 26.181989669799805, RMSE: 29.887001037597656\n"
     ]
    },
    {
     "name": "stderr",
     "output_type": "stream",
     "text": [
      " 73%|█████████████████████████████████████████████████████████████████████████████████████████████▎                                  | 1064/1459 [02:16<00:48,  8.11it/s]"
     ]
    },
    {
     "name": "stdout",
     "output_type": "stream",
     "text": [
      "batch 1062, R-squared: -2.592433265440296, MAE: 15.776891708374023, RMSE: 18.79591178894043\n",
      "batch 1063, R-squared: -2.9491032184617074, MAE: 38.22149658203125, RMSE: 45.32040786743164\n"
     ]
    },
    {
     "name": "stderr",
     "output_type": "stream",
     "text": [
      " 73%|█████████████████████████████████████████████████████████████████████████████████████████████▌                                  | 1066/1459 [02:17<00:48,  8.04it/s]"
     ]
    },
    {
     "name": "stdout",
     "output_type": "stream",
     "text": [
      "batch 1064, R-squared: -2.041208972017846, MAE: 29.17061996459961, RMSE: 33.44603729248047\n",
      "batch 1065, R-squared: -2.160915623189883, MAE: 15.567911148071289, RMSE: 18.332382202148438\n"
     ]
    },
    {
     "name": "stderr",
     "output_type": "stream",
     "text": [
      " 73%|█████████████████████████████████████████████████████████████████████████████████████████████▋                                  | 1068/1459 [02:17<00:53,  7.27it/s]"
     ]
    },
    {
     "name": "stdout",
     "output_type": "stream",
     "text": [
      "batch 1066, R-squared: -2.9992568579672163, MAE: 29.311359405517578, RMSE: 31.92587661743164\n",
      "batch 1067, R-squared: -3.1661861581303423, MAE: 35.383609771728516, RMSE: 40.396583557128906\n"
     ]
    },
    {
     "name": "stderr",
     "output_type": "stream",
     "text": [
      "\r",
      " 73%|█████████████████████████████████████████████████████████████████████████████████████████████▊                                  | 1070/1459 [02:17<00:47,  8.22it/s]"
     ]
    },
    {
     "name": "stdout",
     "output_type": "stream",
     "text": [
      "batch 1068, R-squared: -2.3868171222323507, MAE: 19.623397827148438, RMSE: 22.800840377807617\n",
      "batch 1069, R-squared: -2.434381926072425, MAE: 34.452415466308594, RMSE: 39.819580078125\n",
      "batch 1070, R-squared: -3.2099620523321586, MAE: 17.015804290771484, RMSE: 18.475360870361328\n"
     ]
    },
    {
     "name": "stderr",
     "output_type": "stream",
     "text": [
      " 74%|██████████████████████████████████████████████████████████████████████████████████████████████▏                                 | 1073/1459 [02:18<00:47,  8.21it/s]"
     ]
    },
    {
     "name": "stdout",
     "output_type": "stream",
     "text": [
      "batch 1071, R-squared: -2.71933546519034, MAE: 31.949052810668945, RMSE: 38.291748046875\n",
      "batch 1072, R-squared: -2.898160197602132, MAE: 20.833026885986328, RMSE: 24.00882911682129\n"
     ]
    },
    {
     "name": "stderr",
     "output_type": "stream",
     "text": [
      " 74%|██████████████████████████████████████████████████████████████████████████████████████████████▎                                 | 1075/1459 [02:18<00:45,  8.42it/s]"
     ]
    },
    {
     "name": "stdout",
     "output_type": "stream",
     "text": [
      "batch 1073, R-squared: -3.965668610519578, MAE: 14.731327056884766, RMSE: 16.909475326538086\n",
      "batch 1074, R-squared: -3.334784295472482, MAE: 16.255008697509766, RMSE: 18.573894500732422\n"
     ]
    },
    {
     "name": "stderr",
     "output_type": "stream",
     "text": [
      " 74%|██████████████████████████████████████████████████████████████████████████████████████████████▍                                 | 1077/1459 [02:18<00:46,  8.29it/s]"
     ]
    },
    {
     "name": "stdout",
     "output_type": "stream",
     "text": [
      "batch 1075, R-squared: -3.163082544735526, MAE: 21.131572723388672, RMSE: 22.851173400878906\n",
      "batch 1076, R-squared: -2.2449463052200596, MAE: 30.44243621826172, RMSE: 37.405723571777344\n"
     ]
    },
    {
     "name": "stderr",
     "output_type": "stream",
     "text": [
      " 74%|██████████████████████████████████████████████████████████████████████████████████████████████▋                                 | 1079/1459 [02:18<00:43,  8.67it/s]"
     ]
    },
    {
     "name": "stdout",
     "output_type": "stream",
     "text": [
      "batch 1077, R-squared: -1.5941452709903248, MAE: 24.78825569152832, RMSE: 32.01976013183594\n",
      "batch 1078, R-squared: -3.085733899003286, MAE: 25.232696533203125, RMSE: 27.059864044189453\n"
     ]
    },
    {
     "name": "stderr",
     "output_type": "stream",
     "text": [
      " 74%|██████████████████████████████████████████████████████████████████████████████████████████████▊                                 | 1081/1459 [02:19<00:45,  8.32it/s]"
     ]
    },
    {
     "name": "stdout",
     "output_type": "stream",
     "text": [
      "batch 1079, R-squared: -1.5607571605284443, MAE: 18.055118560791016, RMSE: 23.860485076904297\n",
      "batch 1080, R-squared: -4.8097524410694685, MAE: 27.39318084716797, RMSE: 29.121307373046875\n"
     ]
    },
    {
     "name": "stderr",
     "output_type": "stream",
     "text": [
      " 74%|███████████████████████████████████████████████████████████████████████████████████████████████                                 | 1083/1459 [02:19<00:42,  8.75it/s]"
     ]
    },
    {
     "name": "stdout",
     "output_type": "stream",
     "text": [
      "batch 1081, R-squared: -3.6430997512587164, MAE: 21.03390121459961, RMSE: 22.094524383544922\n",
      "batch 1082, R-squared: -3.0112559735905844, MAE: 21.723934173583984, RMSE: 22.590816497802734\n"
     ]
    },
    {
     "name": "stderr",
     "output_type": "stream",
     "text": [
      " 74%|███████████████████████████████████████████████████████████████████████████████████████████████▏                                | 1085/1459 [02:19<00:44,  8.41it/s]"
     ]
    },
    {
     "name": "stdout",
     "output_type": "stream",
     "text": [
      "batch 1083, R-squared: -2.8105780723770772, MAE: 17.650405883789062, RMSE: 20.937458038330078\n",
      "batch 1084, R-squared: -3.715163949584923, MAE: 18.927963256835938, RMSE: 20.476451873779297\n"
     ]
    },
    {
     "name": "stderr",
     "output_type": "stream",
     "text": [
      " 75%|███████████████████████████████████████████████████████████████████████████████████████████████▎                                | 1087/1459 [02:19<00:49,  7.54it/s]"
     ]
    },
    {
     "name": "stdout",
     "output_type": "stream",
     "text": [
      "batch 1085, R-squared: -2.5417718309880772, MAE: 15.185304641723633, RMSE: 17.321491241455078\n",
      "batch 1086, R-squared: -2.7823291775670898, MAE: 30.83404541015625, RMSE: 33.587806701660156\n"
     ]
    },
    {
     "name": "stderr",
     "output_type": "stream",
     "text": [
      " 75%|███████████████████████████████████████████████████████████████████████████████████████████████▋                                | 1090/1459 [02:20<00:42,  8.63it/s]"
     ]
    },
    {
     "name": "stdout",
     "output_type": "stream",
     "text": [
      "batch 1087, R-squared: -2.6599684509675607, MAE: 18.862716674804688, RMSE: 21.215625762939453\n",
      "batch 1088, R-squared: -3.3621856440432896, MAE: 18.134075164794922, RMSE: 19.749448776245117\n",
      "batch 1089, R-squared: -1.7814593089432451, MAE: 13.352380752563477, RMSE: 16.227094650268555\n"
     ]
    },
    {
     "name": "stderr",
     "output_type": "stream",
     "text": [
      "\r",
      " 75%|███████████████████████████████████████████████████████████████████████████████████████████████▊                                | 1092/1459 [02:20<00:37,  9.76it/s]"
     ]
    },
    {
     "name": "stdout",
     "output_type": "stream",
     "text": [
      "batch 1090, R-squared: -2.3964006436399234, MAE: 13.336505889892578, RMSE: 15.919612884521484\n",
      "batch 1091, R-squared: -3.104924886524563, MAE: 25.139503479003906, RMSE: 27.144760131835938\n"
     ]
    },
    {
     "name": "stderr",
     "output_type": "stream",
     "text": [
      " 75%|███████████████████████████████████████████████████████████████████████████████████████████████▉                                | 1094/1459 [02:20<00:43,  8.31it/s]"
     ]
    },
    {
     "name": "stdout",
     "output_type": "stream",
     "text": [
      "batch 1092, R-squared: -2.5970478917396203, MAE: 24.85101318359375, RMSE: 28.764328002929688\n",
      "batch 1093, R-squared: -4.340355199219862, MAE: 23.92405891418457, RMSE: 25.820480346679688\n"
     ]
    },
    {
     "name": "stderr",
     "output_type": "stream",
     "text": [
      " 75%|████████████████████████████████████████████████████████████████████████████████████████████████▏                               | 1096/1459 [02:20<00:42,  8.57it/s]"
     ]
    },
    {
     "name": "stdout",
     "output_type": "stream",
     "text": [
      "batch 1094, R-squared: -2.9617345339657417, MAE: 23.105581283569336, RMSE: 24.63392448425293\n",
      "batch 1095, R-squared: -3.4501651273022844, MAE: 25.824504852294922, RMSE: 27.896682739257812\n"
     ]
    },
    {
     "name": "stderr",
     "output_type": "stream",
     "text": [
      " 75%|████████████████████████████████████████████████████████████████████████████████████████████████▎                               | 1098/1459 [02:21<00:48,  7.45it/s]"
     ]
    },
    {
     "name": "stdout",
     "output_type": "stream",
     "text": [
      "batch 1096, R-squared: -3.0927978406632946, MAE: 24.271547317504883, RMSE: 27.036407470703125\n",
      "batch 1097, R-squared: -3.130627886563863, MAE: 29.079940795898438, RMSE: 31.955978393554688\n"
     ]
    },
    {
     "name": "stderr",
     "output_type": "stream",
     "text": [
      " 75%|████████████████████████████████████████████████████████████████████████████████████████████████▌                               | 1100/1459 [02:21<00:44,  8.12it/s]"
     ]
    },
    {
     "name": "stdout",
     "output_type": "stream",
     "text": [
      "batch 1098, R-squared: -2.5948032498108677, MAE: 20.41836166381836, RMSE: 24.031938552856445\n",
      "batch 1099, R-squared: -3.105030563199494, MAE: 21.935985565185547, RMSE: 23.514501571655273\n"
     ]
    },
    {
     "name": "stderr",
     "output_type": "stream",
     "text": [
      " 76%|████████████████████████████████████████████████████████████████████████████████████████████████▋                               | 1102/1459 [02:21<00:43,  8.20it/s]"
     ]
    },
    {
     "name": "stdout",
     "output_type": "stream",
     "text": [
      "batch 1100, R-squared: -4.05076854328789, MAE: 26.027986526489258, RMSE: 28.5928955078125\n",
      "batch 1101, R-squared: -2.752517873359861, MAE: 31.587087631225586, RMSE: 35.349822998046875\n"
     ]
    },
    {
     "name": "stderr",
     "output_type": "stream",
     "text": [
      " 76%|████████████████████████████████████████████████████████████████████████████████████████████████▊                               | 1104/1459 [02:21<00:42,  8.42it/s]"
     ]
    },
    {
     "name": "stdout",
     "output_type": "stream",
     "text": [
      "batch 1102, R-squared: -1.683301129882375, MAE: 20.175701141357422, RMSE: 23.48835563659668\n",
      "batch 1103, R-squared: -1.9799116664887086, MAE: 32.36170196533203, RMSE: 40.36405563354492\n"
     ]
    },
    {
     "name": "stderr",
     "output_type": "stream",
     "text": [
      " 76%|█████████████████████████████████████████████████████████████████████████████████████████████████                               | 1106/1459 [02:22<00:44,  7.92it/s]"
     ]
    },
    {
     "name": "stdout",
     "output_type": "stream",
     "text": [
      "batch 1104, R-squared: -3.212557307948826, MAE: 21.254180908203125, RMSE: 24.048023223876953\n",
      "batch 1105, R-squared: -3.381080893810376, MAE: 25.44069480895996, RMSE: 27.208255767822266\n"
     ]
    },
    {
     "name": "stderr",
     "output_type": "stream",
     "text": [
      "\r",
      " 76%|█████████████████████████████████████████████████████████████████████████████████████████████████▏                              | 1108/1459 [02:22<00:42,  8.22it/s]"
     ]
    },
    {
     "name": "stdout",
     "output_type": "stream",
     "text": [
      "batch 1106, R-squared: -2.5473749861965858, MAE: 20.06317138671875, RMSE: 22.692285537719727\n",
      "batch 1107, R-squared: -2.7491708778627224, MAE: 20.61345672607422, RMSE: 23.051626205444336\n"
     ]
    },
    {
     "name": "stderr",
     "output_type": "stream",
     "text": [
      " 76%|█████████████████████████████████████████████████████████████████████████████████████████████████▍                              | 1110/1459 [02:22<00:45,  7.70it/s]"
     ]
    },
    {
     "name": "stdout",
     "output_type": "stream",
     "text": [
      "batch 1108, R-squared: -2.2228882434297734, MAE: 19.20205307006836, RMSE: 24.16931915283203\n",
      "batch 1109, R-squared: -3.2294869622204425, MAE: 26.003604888916016, RMSE: 28.84563636779785\n"
     ]
    },
    {
     "name": "stderr",
     "output_type": "stream",
     "text": [
      " 76%|█████████████████████████████████████████████████████████████████████████████████████████████████▌                              | 1112/1459 [02:22<00:45,  7.61it/s]"
     ]
    },
    {
     "name": "stdout",
     "output_type": "stream",
     "text": [
      "batch 1110, R-squared: -3.471399251302202, MAE: 21.099218368530273, RMSE: 23.2120361328125\n",
      "batch 1111, R-squared: -2.2316328654981437, MAE: 25.911998748779297, RMSE: 31.9129581451416\n"
     ]
    },
    {
     "name": "stderr",
     "output_type": "stream",
     "text": [
      " 76%|█████████████████████████████████████████████████████████████████████████████████████████████████▋                              | 1114/1459 [02:23<00:44,  7.80it/s]"
     ]
    },
    {
     "name": "stdout",
     "output_type": "stream",
     "text": [
      "batch 1112, R-squared: -2.292331624841239, MAE: 29.228580474853516, RMSE: 31.44058609008789\n",
      "batch 1113, R-squared: -1.9920336997014485, MAE: 13.062749862670898, RMSE: 15.4718656539917\n"
     ]
    },
    {
     "name": "stderr",
     "output_type": "stream",
     "text": [
      "\r",
      " 76%|█████████████████████████████████████████████████████████████████████████████████████████████████▊                              | 1115/1459 [02:23<00:44,  7.72it/s]"
     ]
    },
    {
     "name": "stdout",
     "output_type": "stream",
     "text": [
      "batch 1114, R-squared: -2.1641539043453966, MAE: 14.773431777954102, RMSE: 18.3309326171875\n",
      "batch 1115, R-squared: -2.254965227513461, MAE: 26.737728118896484, RMSE: 31.261085510253906\n"
     ]
    },
    {
     "name": "stderr",
     "output_type": "stream",
     "text": [
      " 77%|██████████████████████████████████████████████████████████████████████████████████████████████████                              | 1118/1459 [02:23<00:45,  7.53it/s]"
     ]
    },
    {
     "name": "stdout",
     "output_type": "stream",
     "text": [
      "batch 1116, R-squared: -2.5337409274177434, MAE: 16.841873168945312, RMSE: 18.971298217773438\n",
      "batch 1117, R-squared: -2.53455646305744, MAE: 18.476009368896484, RMSE: 20.0903263092041\n"
     ]
    },
    {
     "name": "stderr",
     "output_type": "stream",
     "text": [
      " 77%|██████████████████████████████████████████████████████████████████████████████████████████████████▎                             | 1120/1459 [02:23<00:45,  7.40it/s]"
     ]
    },
    {
     "name": "stdout",
     "output_type": "stream",
     "text": [
      "batch 1118, R-squared: -2.203309124928558, MAE: 30.27326202392578, RMSE: 33.71467590332031\n",
      "batch 1119, R-squared: -2.396608923226779, MAE: 10.329018592834473, RMSE: 12.31662654876709\n"
     ]
    },
    {
     "name": "stderr",
     "output_type": "stream",
     "text": [
      " 77%|██████████████████████████████████████████████████████████████████████████████████████████████████▌                             | 1123/1459 [02:24<00:37,  8.89it/s]"
     ]
    },
    {
     "name": "stdout",
     "output_type": "stream",
     "text": [
      "batch 1120, R-squared: -2.5159268829443566, MAE: 16.69754409790039, RMSE: 19.19710350036621\n",
      "batch 1121, R-squared: -3.1696896395428182, MAE: 18.630640029907227, RMSE: 22.015552520751953\n",
      "batch 1122, R-squared: -3.4498750333600676, MAE: 26.38134765625, RMSE: 29.177860260009766\n"
     ]
    },
    {
     "name": "stderr",
     "output_type": "stream",
     "text": [
      " 77%|██████████████████████████████████████████████████████████████████████████████████████████████████▋                             | 1125/1459 [02:24<00:40,  8.33it/s]"
     ]
    },
    {
     "name": "stdout",
     "output_type": "stream",
     "text": [
      "batch 1123, R-squared: -2.200278175668757, MAE: 19.48680877685547, RMSE: 23.702396392822266\n",
      "batch 1124, R-squared: -3.0381125689378274, MAE: 24.789276123046875, RMSE: 28.24432373046875\n"
     ]
    },
    {
     "name": "stderr",
     "output_type": "stream",
     "text": [
      " 77%|██████████████████████████████████████████████████████████████████████████████████████████████████▉                             | 1128/1459 [02:24<00:34,  9.58it/s]"
     ]
    },
    {
     "name": "stdout",
     "output_type": "stream",
     "text": [
      "batch 1125, R-squared: -1.1583353512370997, MAE: 9.444467544555664, RMSE: 11.224691390991211\n",
      "batch 1126, R-squared: -3.6317187091218694, MAE: 26.65903091430664, RMSE: 29.048351287841797\n",
      "batch 1127, R-squared: -2.5288250524718725, MAE: 20.863147735595703, RMSE: 23.92510986328125\n"
     ]
    },
    {
     "name": "stderr",
     "output_type": "stream",
     "text": [
      " 78%|███████████████████████████████████████████████████████████████████████████████████████████████████▏                            | 1131/1459 [02:25<00:34,  9.61it/s]"
     ]
    },
    {
     "name": "stdout",
     "output_type": "stream",
     "text": [
      "batch 1128, R-squared: -3.022441631021871, MAE: 35.68505859375, RMSE: 40.093421936035156\n",
      "batch 1129, R-squared: -1.7020727885404159, MAE: 14.70551872253418, RMSE: 18.678077697753906\n",
      "batch 1130, R-squared: -2.5163665795190076, MAE: 28.142925262451172, RMSE: 31.052234649658203\n"
     ]
    },
    {
     "name": "stderr",
     "output_type": "stream",
     "text": [
      "\r",
      " 78%|███████████████████████████████████████████████████████████████████████████████████████████████████▎                            | 1132/1459 [02:25<00:34,  9.52it/s]"
     ]
    },
    {
     "name": "stdout",
     "output_type": "stream",
     "text": [
      "batch 1131, R-squared: -3.343802611265468, MAE: 25.247892379760742, RMSE: 28.459476470947266\n",
      "batch 1132, R-squared: -3.026981332769126, MAE: 34.80502700805664, RMSE: 39.79538345336914\n"
     ]
    },
    {
     "name": "stderr",
     "output_type": "stream",
     "text": [
      " 78%|███████████████████████████████████████████████████████████████████████████████████████████████████▌                            | 1135/1459 [02:25<00:36,  8.99it/s]"
     ]
    },
    {
     "name": "stdout",
     "output_type": "stream",
     "text": [
      "batch 1133, R-squared: -1.7031179265436027, MAE: 18.72234535217285, RMSE: 24.215618133544922\n",
      "batch 1134, R-squared: -2.3272009182902402, MAE: 25.218780517578125, RMSE: 29.35392189025879\n"
     ]
    },
    {
     "name": "stderr",
     "output_type": "stream",
     "text": [
      "\r",
      " 78%|███████████████████████████████████████████████████████████████████████████████████████████████████▊                            | 1137/1459 [02:25<00:34,  9.47it/s]"
     ]
    },
    {
     "name": "stdout",
     "output_type": "stream",
     "text": [
      "batch 1135, R-squared: -1.9596758716832852, MAE: 11.415168762207031, RMSE: 14.003402709960938\n",
      "batch 1136, R-squared: -1.907856894991013, MAE: 18.583415985107422, RMSE: 22.3339900970459\n"
     ]
    },
    {
     "name": "stderr",
     "output_type": "stream",
     "text": [
      "\r",
      " 78%|███████████████████████████████████████████████████████████████████████████████████████████████████▊                            | 1138/1459 [02:25<00:34,  9.35it/s]"
     ]
    },
    {
     "name": "stdout",
     "output_type": "stream",
     "text": [
      "batch 1137, R-squared: -1.7010438735913538, MAE: 25.405271530151367, RMSE: 32.82320785522461\n",
      "batch 1138, R-squared: -3.3347638114031097, MAE: 27.48917007446289, RMSE: 31.513004302978516\n"
     ]
    },
    {
     "name": "stderr",
     "output_type": "stream",
     "text": [
      " 78%|████████████████████████████████████████████████████████████████████████████████████████████████████                            | 1141/1459 [02:26<00:35,  9.04it/s]"
     ]
    },
    {
     "name": "stdout",
     "output_type": "stream",
     "text": [
      "batch 1139, R-squared: -2.403024410170718, MAE: 40.44837188720703, RMSE: 47.97388458251953\n",
      "batch 1140, R-squared: -3.3680787999909416, MAE: 28.75680923461914, RMSE: 31.143211364746094\n"
     ]
    },
    {
     "name": "stderr",
     "output_type": "stream",
     "text": [
      " 78%|████████████████████████████████████████████████████████████████████████████████████████████████████▎                           | 1143/1459 [02:26<00:39,  8.01it/s]"
     ]
    },
    {
     "name": "stdout",
     "output_type": "stream",
     "text": [
      "batch 1141, R-squared: -3.3214203841774372, MAE: 24.01953125, RMSE: 27.073789596557617\n",
      "batch 1142, R-squared: -1.7165444893633148, MAE: 24.86799430847168, RMSE: 31.814712524414062\n"
     ]
    },
    {
     "name": "stderr",
     "output_type": "stream",
     "text": [
      " 78%|████████████████████████████████████████████████████████████████████████████████████████████████████▍                           | 1145/1459 [02:26<00:42,  7.46it/s]"
     ]
    },
    {
     "name": "stdout",
     "output_type": "stream",
     "text": [
      "batch 1143, R-squared: -1.9463626398768423, MAE: 23.478513717651367, RMSE: 27.978313446044922\n",
      "batch 1144, R-squared: -3.0479779883900076, MAE: 16.223377227783203, RMSE: 18.327728271484375\n"
     ]
    },
    {
     "name": "stderr",
     "output_type": "stream",
     "text": [
      " 79%|████████████████████████████████████████████████████████████████████████████████████████████████████▋                           | 1147/1459 [02:26<00:39,  8.00it/s]"
     ]
    },
    {
     "name": "stdout",
     "output_type": "stream",
     "text": [
      "batch 1145, R-squared: -2.7698811785385615, MAE: 18.830867767333984, RMSE: 21.83258819580078\n",
      "batch 1146, R-squared: -2.519310372226524, MAE: 17.483978271484375, RMSE: 20.96329116821289\n"
     ]
    },
    {
     "name": "stderr",
     "output_type": "stream",
     "text": [
      " 79%|████████████████████████████████████████████████████████████████████████████████████████████████████▉                           | 1150/1459 [02:27<00:35,  8.64it/s]"
     ]
    },
    {
     "name": "stdout",
     "output_type": "stream",
     "text": [
      "batch 1147, R-squared: -2.7649627679332207, MAE: 17.21950340270996, RMSE: 19.74126434326172\n",
      "batch 1148, R-squared: -2.4878665058512177, MAE: 14.270960807800293, RMSE: 16.863048553466797\n",
      "batch 1149, R-squared: -1.9943850452015024, MAE: 17.624881744384766, RMSE: 20.265892028808594\n"
     ]
    },
    {
     "name": "stderr",
     "output_type": "stream",
     "text": [
      " 79%|█████████████████████████████████████████████████████████████████████████████████████████████████████                           | 1152/1459 [02:27<00:34,  8.90it/s]"
     ]
    },
    {
     "name": "stdout",
     "output_type": "stream",
     "text": [
      "batch 1150, R-squared: -3.294278818414536, MAE: 26.13358497619629, RMSE: 28.205074310302734\n",
      "batch 1151, R-squared: -2.814422586561504, MAE: 36.917503356933594, RMSE: 42.3934211730957\n"
     ]
    },
    {
     "name": "stderr",
     "output_type": "stream",
     "text": [
      " 79%|█████████████████████████████████████████████████████████████████████████████████████████████████████▏                          | 1154/1459 [02:27<00:35,  8.53it/s]"
     ]
    },
    {
     "name": "stdout",
     "output_type": "stream",
     "text": [
      "batch 1152, R-squared: -2.78330570758266, MAE: 25.262516021728516, RMSE: 28.43691062927246\n",
      "batch 1153, R-squared: -2.1789539497245145, MAE: 13.760835647583008, RMSE: 15.858088493347168\n"
     ]
    },
    {
     "name": "stderr",
     "output_type": "stream",
     "text": [
      " 79%|█████████████████████████████████████████████████████████████████████████████████████████████████████▍                          | 1156/1459 [02:28<00:38,  7.84it/s]"
     ]
    },
    {
     "name": "stdout",
     "output_type": "stream",
     "text": [
      "batch 1154, R-squared: -4.726263456487862, MAE: 21.23379135131836, RMSE: 22.558134078979492\n",
      "batch 1155, R-squared: -2.914508084031497, MAE: 13.360727310180664, RMSE: 14.010893821716309\n"
     ]
    },
    {
     "name": "stderr",
     "output_type": "stream",
     "text": [
      " 79%|█████████████████████████████████████████████████████████████████████████████████████████████████████▌                          | 1158/1459 [02:28<00:40,  7.44it/s]"
     ]
    },
    {
     "name": "stdout",
     "output_type": "stream",
     "text": [
      "batch 1156, R-squared: -2.6884059218507517, MAE: 19.168378829956055, RMSE: 20.839866638183594\n",
      "batch 1157, R-squared: -3.6986690302070087, MAE: 28.44527816772461, RMSE: 30.527603149414062\n"
     ]
    },
    {
     "name": "stderr",
     "output_type": "stream",
     "text": [
      " 80%|█████████████████████████████████████████████████████████████████████████████████████████████████████▊                          | 1160/1459 [02:28<00:45,  6.52it/s]"
     ]
    },
    {
     "name": "stdout",
     "output_type": "stream",
     "text": [
      "batch 1158, R-squared: -2.8138301031578887, MAE: 22.836166381835938, RMSE: 27.303482055664062\n",
      "batch 1159, R-squared: -1.9227134654287783, MAE: 19.117136001586914, RMSE: 21.81291961669922\n"
     ]
    },
    {
     "name": "stderr",
     "output_type": "stream",
     "text": [
      " 80%|█████████████████████████████████████████████████████████████████████████████████████████████████████▉                          | 1162/1459 [02:28<00:39,  7.49it/s]"
     ]
    },
    {
     "name": "stdout",
     "output_type": "stream",
     "text": [
      "batch 1160, R-squared: -3.4775025107665374, MAE: 21.56174087524414, RMSE: 23.09857177734375\n",
      "batch 1161, R-squared: -3.2295991406891886, MAE: 18.466331481933594, RMSE: 21.810171127319336\n",
      "batch 1162, R-squared: -3.496496106429808, MAE: 17.939924240112305, RMSE: 19.84862518310547\n"
     ]
    },
    {
     "name": "stderr",
     "output_type": "stream",
     "text": [
      " 80%|██████████████████████████████████████████████████████████████████████████████████████████████████████▏                         | 1165/1459 [02:29<00:37,  7.90it/s]"
     ]
    },
    {
     "name": "stdout",
     "output_type": "stream",
     "text": [
      "batch 1163, R-squared: -2.864809427199727, MAE: 21.171443939208984, RMSE: 23.6361026763916\n",
      "batch 1164, R-squared: -2.548582231335933, MAE: 14.984810829162598, RMSE: 16.375089645385742\n"
     ]
    },
    {
     "name": "stderr",
     "output_type": "stream",
     "text": [
      " 80%|██████████████████████████████████████████████████████████████████████████████████████████████████████▍                         | 1167/1459 [02:29<00:36,  7.94it/s]"
     ]
    },
    {
     "name": "stdout",
     "output_type": "stream",
     "text": [
      "batch 1165, R-squared: -3.248752961792869, MAE: 30.309967041015625, RMSE: 36.71529006958008\n",
      "batch 1166, R-squared: -1.7614461836084039, MAE: 23.64649772644043, RMSE: 30.746810913085938\n"
     ]
    },
    {
     "name": "stderr",
     "output_type": "stream",
     "text": [
      "\r",
      " 80%|██████████████████████████████████████████████████████████████████████████████████████████████████████▌                         | 1169/1459 [02:29<00:34,  8.37it/s]"
     ]
    },
    {
     "name": "stdout",
     "output_type": "stream",
     "text": [
      "batch 1167, R-squared: -3.979463517144597, MAE: 25.415374755859375, RMSE: 27.462467193603516\n",
      "batch 1168, R-squared: -2.0496566720398297, MAE: 14.904644012451172, RMSE: 17.393741607666016\n"
     ]
    },
    {
     "name": "stderr",
     "output_type": "stream",
     "text": [
      " 80%|██████████████████████████████████████████████████████████████████████████████████████████████████████▋                         | 1171/1459 [02:29<00:34,  8.42it/s]"
     ]
    },
    {
     "name": "stdout",
     "output_type": "stream",
     "text": [
      "batch 1169, R-squared: -2.4299941840130863, MAE: 27.293106079101562, RMSE: 32.98855972290039\n",
      "batch 1170, R-squared: -2.5831162927122158, MAE: 32.38799285888672, RMSE: 38.61988067626953\n"
     ]
    },
    {
     "name": "stderr",
     "output_type": "stream",
     "text": [
      " 80%|██████████████████████████████████████████████████████████████████████████████████████████████████████▉                         | 1174/1459 [02:30<00:31,  9.16it/s]"
     ]
    },
    {
     "name": "stdout",
     "output_type": "stream",
     "text": [
      "batch 1171, R-squared: -3.2291050329495814, MAE: 21.88473892211914, RMSE: 24.072420120239258\n",
      "batch 1172, R-squared: -3.366608002350416, MAE: 27.63983917236328, RMSE: 30.669544219970703\n",
      "batch 1173, R-squared: -1.0730556368606126, MAE: 16.25583267211914, RMSE: 20.336807250976562\n"
     ]
    },
    {
     "name": "stderr",
     "output_type": "stream",
     "text": [
      " 81%|███████████████████████████████████████████████████████████████████████████████████████████████████████▏                        | 1176/1459 [02:30<00:32,  8.77it/s]"
     ]
    },
    {
     "name": "stdout",
     "output_type": "stream",
     "text": [
      "batch 1174, R-squared: -2.410780292318442, MAE: 31.145702362060547, RMSE: 35.03321838378906\n",
      "batch 1175, R-squared: -2.2289143319180913, MAE: 21.05875015258789, RMSE: 24.813779830932617\n"
     ]
    },
    {
     "name": "stderr",
     "output_type": "stream",
     "text": [
      " 81%|███████████████████████████████████████████████████████████████████████████████████████████████████████▎                        | 1178/1459 [02:30<00:34,  8.03it/s]"
     ]
    },
    {
     "name": "stdout",
     "output_type": "stream",
     "text": [
      "batch 1176, R-squared: -4.114047590430692, MAE: 18.507579803466797, RMSE: 20.05983543395996\n",
      "batch 1177, R-squared: -3.8675876323457423, MAE: 26.17780113220215, RMSE: 28.65640640258789\n"
     ]
    },
    {
     "name": "stderr",
     "output_type": "stream",
     "text": [
      "\r",
      " 81%|███████████████████████████████████████████████████████████████████████████████████████████████████████▌                        | 1180/1459 [02:30<00:33,  8.36it/s]"
     ]
    },
    {
     "name": "stdout",
     "output_type": "stream",
     "text": [
      "batch 1178, R-squared: -3.1256978829870308, MAE: 18.943557739257812, RMSE: 22.03891944885254\n",
      "batch 1179, R-squared: -2.626441976011499, MAE: 9.721968650817871, RMSE: 11.448588371276855\n"
     ]
    },
    {
     "name": "stderr",
     "output_type": "stream",
     "text": [
      " 81%|███████████████████████████████████████████████████████████████████████████████████████████████████████▋                        | 1182/1459 [02:31<00:34,  7.97it/s]"
     ]
    },
    {
     "name": "stdout",
     "output_type": "stream",
     "text": [
      "batch 1180, R-squared: -3.8985527383179166, MAE: 20.21500587463379, RMSE: 22.592727661132812\n",
      "batch 1181, R-squared: -2.158513991991544, MAE: 17.600805282592773, RMSE: 20.372419357299805\n"
     ]
    },
    {
     "name": "stderr",
     "output_type": "stream",
     "text": [
      " 81%|███████████████████████████████████████████████████████████████████████████████████████████████████████▊                        | 1184/1459 [02:31<00:34,  8.07it/s]"
     ]
    },
    {
     "name": "stdout",
     "output_type": "stream",
     "text": [
      "batch 1182, R-squared: -2.3792530095161246, MAE: 20.045421600341797, RMSE: 22.40533447265625\n",
      "batch 1183, R-squared: -4.234085059380332, MAE: 25.319700241088867, RMSE: 28.135665893554688\n"
     ]
    },
    {
     "name": "stderr",
     "output_type": "stream",
     "text": [
      " 81%|████████████████████████████████████████████████████████████████████████████████████████████████████████                        | 1186/1459 [02:31<00:36,  7.44it/s]"
     ]
    },
    {
     "name": "stdout",
     "output_type": "stream",
     "text": [
      "batch 1184, R-squared: -1.635559962553724, MAE: 16.059677124023438, RMSE: 20.95551872253418\n",
      "batch 1185, R-squared: -1.6981318815331572, MAE: 28.568248748779297, RMSE: 36.85132598876953\n"
     ]
    },
    {
     "name": "stderr",
     "output_type": "stream",
     "text": [
      "\r",
      " 81%|████████████████████████████████████████████████████████████████████████████████████████████████████████▏                       | 1188/1459 [02:31<00:33,  8.11it/s]"
     ]
    },
    {
     "name": "stdout",
     "output_type": "stream",
     "text": [
      "batch 1186, R-squared: -2.0236962688772513, MAE: 15.803794860839844, RMSE: 19.027050018310547\n",
      "batch 1187, R-squared: -2.4012756688840993, MAE: 31.340946197509766, RMSE: 36.727725982666016\n"
     ]
    },
    {
     "name": "stderr",
     "output_type": "stream",
     "text": [
      " 82%|████████████████████████████████████████████████████████████████████████████████████████████████████████▍                       | 1190/1459 [02:32<00:32,  8.27it/s]"
     ]
    },
    {
     "name": "stdout",
     "output_type": "stream",
     "text": [
      "batch 1188, R-squared: -3.2765601972839073, MAE: 31.23179054260254, RMSE: 33.188026428222656\n",
      "batch 1189, R-squared: -2.7049400587025314, MAE: 20.72109603881836, RMSE: 23.786243438720703\n"
     ]
    },
    {
     "name": "stderr",
     "output_type": "stream",
     "text": [
      " 82%|████████████████████████████████████████████████████████████████████████████████████████████████████████▌                       | 1192/1459 [02:32<00:32,  8.28it/s]"
     ]
    },
    {
     "name": "stdout",
     "output_type": "stream",
     "text": [
      "batch 1190, R-squared: -2.0403976173139533, MAE: 18.307878494262695, RMSE: 21.655597686767578\n",
      "batch 1191, R-squared: -3.5184786130692705, MAE: 31.131942749023438, RMSE: 34.9307975769043\n"
     ]
    },
    {
     "name": "stderr",
     "output_type": "stream",
     "text": [
      " 82%|████████████████████████████████████████████████████████████████████████████████████████████████████████▊                       | 1194/1459 [02:32<00:33,  7.88it/s]"
     ]
    },
    {
     "name": "stdout",
     "output_type": "stream",
     "text": [
      "batch 1192, R-squared: -3.7964671089945785, MAE: 23.685916900634766, RMSE: 25.75545883178711\n",
      "batch 1193, R-squared: -3.2521618863548225, MAE: 27.693706512451172, RMSE: 29.65756607055664\n"
     ]
    },
    {
     "name": "stderr",
     "output_type": "stream",
     "text": [
      " 82%|█████████████████████████████████████████████████████████████████████████████████████████████████████████                       | 1197/1459 [02:33<00:29,  8.97it/s]"
     ]
    },
    {
     "name": "stdout",
     "output_type": "stream",
     "text": [
      "batch 1194, R-squared: -2.5817181553532373, MAE: 12.704413414001465, RMSE: 14.13168716430664\n",
      "batch 1195, R-squared: -3.0384133315782487, MAE: 26.87063980102539, RMSE: 28.956960678100586\n",
      "batch 1196, R-squared: -3.0847949386553872, MAE: 27.67349624633789, RMSE: 29.946388244628906\n"
     ]
    },
    {
     "name": "stderr",
     "output_type": "stream",
     "text": [
      " 82%|█████████████████████████████████████████████████████████████████████████████████████████████████████████▏                      | 1199/1459 [02:33<00:31,  8.14it/s]"
     ]
    },
    {
     "name": "stdout",
     "output_type": "stream",
     "text": [
      "batch 1197, R-squared: -3.3130361421629573, MAE: 27.67007064819336, RMSE: 30.556358337402344\n",
      "batch 1198, R-squared: -3.4232600784843417, MAE: 16.78695297241211, RMSE: 18.12181282043457\n"
     ]
    },
    {
     "name": "stderr",
     "output_type": "stream",
     "text": [
      " 82%|█████████████████████████████████████████████████████████████████████████████████████████████████████████▎                      | 1201/1459 [02:33<00:33,  7.68it/s]"
     ]
    },
    {
     "name": "stdout",
     "output_type": "stream",
     "text": [
      "batch 1199, R-squared: -2.7227366202885617, MAE: 16.222698211669922, RMSE: 19.122005462646484\n",
      "batch 1200, R-squared: -3.882366118858201, MAE: 20.188934326171875, RMSE: 22.468839645385742\n"
     ]
    },
    {
     "name": "stderr",
     "output_type": "stream",
     "text": [
      " 82%|█████████████████████████████████████████████████████████████████████████████████████████████████████████▌                      | 1203/1459 [02:33<00:37,  6.92it/s]"
     ]
    },
    {
     "name": "stdout",
     "output_type": "stream",
     "text": [
      "batch 1201, R-squared: -2.5522828472390717, MAE: 22.680009841918945, RMSE: 26.328601837158203\n",
      "batch 1202, R-squared: -2.8436465159502737, MAE: 14.949357032775879, RMSE: 16.197303771972656\n"
     ]
    },
    {
     "name": "stderr",
     "output_type": "stream",
     "text": [
      " 83%|█████████████████████████████████████████████████████████████████████████████████████████████████████████▋                      | 1205/1459 [02:34<00:33,  7.67it/s]"
     ]
    },
    {
     "name": "stdout",
     "output_type": "stream",
     "text": [
      "batch 1203, R-squared: -1.4481105052884462, MAE: 23.183006286621094, RMSE: 30.950870513916016\n",
      "batch 1204, R-squared: -4.23873611246176, MAE: 25.921960830688477, RMSE: 28.601295471191406\n"
     ]
    },
    {
     "name": "stderr",
     "output_type": "stream",
     "text": [
      " 83%|█████████████████████████████████████████████████████████████████████████████████████████████████████████▉                      | 1207/1459 [02:34<00:32,  7.68it/s]"
     ]
    },
    {
     "name": "stdout",
     "output_type": "stream",
     "text": [
      "batch 1205, R-squared: -2.620676061875781, MAE: 18.41700553894043, RMSE: 20.585548400878906\n",
      "batch 1206, R-squared: -2.5828859285285084, MAE: 23.60145378112793, RMSE: 26.149497985839844\n"
     ]
    },
    {
     "name": "stderr",
     "output_type": "stream",
     "text": [
      "\r",
      " 83%|█████████████████████████████████████████████████████████████████████████████████████████████████████████▉                      | 1208/1459 [02:34<00:32,  7.68it/s]"
     ]
    },
    {
     "name": "stdout",
     "output_type": "stream",
     "text": [
      "batch 1207, R-squared: -2.4925829204281174, MAE: 21.095619201660156, RMSE: 23.97107696533203\n",
      "batch 1208, R-squared: -2.417506231663376, MAE: 12.07921314239502, RMSE: 14.31989574432373\n"
     ]
    },
    {
     "name": "stderr",
     "output_type": "stream",
     "text": [
      " 83%|██████████████████████████████████████████████████████████████████████████████████████████████████████████▏                     | 1211/1459 [02:34<00:30,  8.20it/s]"
     ]
    },
    {
     "name": "stdout",
     "output_type": "stream",
     "text": [
      "batch 1209, R-squared: -2.9015280855362815, MAE: 33.45252227783203, RMSE: 35.53260040283203\n",
      "batch 1210, R-squared: -3.041384105751832, MAE: 22.3002872467041, RMSE: 23.934961318969727\n"
     ]
    },
    {
     "name": "stderr",
     "output_type": "stream",
     "text": [
      " 83%|██████████████████████████████████████████████████████████████████████████████████████████████████████████▍                     | 1213/1459 [02:35<00:30,  7.99it/s]"
     ]
    },
    {
     "name": "stdout",
     "output_type": "stream",
     "text": [
      "batch 1211, R-squared: -2.95249655427371, MAE: 33.24898910522461, RMSE: 35.682464599609375\n",
      "batch 1212, R-squared: -2.9384897133441896, MAE: 21.215944290161133, RMSE: 23.330917358398438\n"
     ]
    },
    {
     "name": "stderr",
     "output_type": "stream",
     "text": [
      " 83%|██████████████████████████████████████████████████████████████████████████████████████████████████████████▌                     | 1215/1459 [02:35<00:31,  7.70it/s]"
     ]
    },
    {
     "name": "stdout",
     "output_type": "stream",
     "text": [
      "batch 1213, R-squared: -2.766868373924699, MAE: 12.57442855834961, RMSE: 13.837706565856934\n",
      "batch 1214, R-squared: -2.614338532674515, MAE: 19.69207191467285, RMSE: 23.509933471679688\n"
     ]
    },
    {
     "name": "stderr",
     "output_type": "stream",
     "text": [
      "\r",
      " 83%|██████████████████████████████████████████████████████████████████████████████████████████████████████████▊                     | 1217/1459 [02:35<00:27,  8.75it/s]"
     ]
    },
    {
     "name": "stdout",
     "output_type": "stream",
     "text": [
      "batch 1215, R-squared: -3.408628955802785, MAE: 19.715370178222656, RMSE: 20.818984985351562\n",
      "batch 1216, R-squared: -1.9626598401673636, MAE: 24.12518310546875, RMSE: 28.01483917236328\n",
      "batch 1217, R-squared: -2.9387528007142185, MAE: 22.759153366088867, RMSE: 26.349071502685547\n"
     ]
    },
    {
     "name": "stderr",
     "output_type": "stream",
     "text": [
      " 84%|███████████████████████████████████████████████████████████████████████████████████████████████████████████                     | 1220/1459 [02:35<00:28,  8.27it/s]"
     ]
    },
    {
     "name": "stdout",
     "output_type": "stream",
     "text": [
      "batch 1218, R-squared: -2.227963530738082, MAE: 28.74571418762207, RMSE: 33.89002990722656\n",
      "batch 1219, R-squared: -4.035399784846516, MAE: 23.637306213378906, RMSE: 25.58279037475586\n"
     ]
    },
    {
     "name": "stderr",
     "output_type": "stream",
     "text": [
      " 84%|███████████████████████████████████████████████████████████████████████████████████████████████████████████▏                    | 1222/1459 [02:36<00:29,  8.10it/s]"
     ]
    },
    {
     "name": "stdout",
     "output_type": "stream",
     "text": [
      "batch 1220, R-squared: -2.4077304159507644, MAE: 17.839126586914062, RMSE: 20.751415252685547\n",
      "batch 1221, R-squared: -1.9812238340918207, MAE: 22.75353240966797, RMSE: 28.490503311157227\n"
     ]
    },
    {
     "name": "stderr",
     "output_type": "stream",
     "text": [
      " 84%|███████████████████████████████████████████████████████████████████████████████████████████████████████████▍                    | 1224/1459 [02:36<00:27,  8.56it/s]"
     ]
    },
    {
     "name": "stdout",
     "output_type": "stream",
     "text": [
      "batch 1222, R-squared: -3.6807223009985135, MAE: 24.403156280517578, RMSE: 26.366252899169922\n",
      "batch 1223, R-squared: -3.3139061454948946, MAE: 13.827751159667969, RMSE: 15.530962944030762\n"
     ]
    },
    {
     "name": "stderr",
     "output_type": "stream",
     "text": [
      " 84%|███████████████████████████████████████████████████████████████████████████████████████████████████████████▌                    | 1226/1459 [02:36<00:27,  8.49it/s]"
     ]
    },
    {
     "name": "stdout",
     "output_type": "stream",
     "text": [
      "batch 1224, R-squared: -3.791868067624237, MAE: 19.897808074951172, RMSE: 21.97907257080078\n",
      "batch 1225, R-squared: -3.2345411097752708, MAE: 25.39679718017578, RMSE: 28.05984115600586\n"
     ]
    },
    {
     "name": "stderr",
     "output_type": "stream",
     "text": [
      " 84%|███████████████████████████████████████████████████████████████████████████████████████████████████████████▋                    | 1228/1459 [02:36<00:27,  8.28it/s]"
     ]
    },
    {
     "name": "stdout",
     "output_type": "stream",
     "text": [
      "batch 1226, R-squared: -1.4198239762201808, MAE: 15.688396453857422, RMSE: 20.008941650390625\n",
      "batch 1227, R-squared: -2.9034830299412353, MAE: 20.220027923583984, RMSE: 22.06150245666504\n"
     ]
    },
    {
     "name": "stderr",
     "output_type": "stream",
     "text": [
      " 84%|███████████████████████████████████████████████████████████████████████████████████████████████████████████▉                    | 1230/1459 [02:37<00:27,  8.30it/s]"
     ]
    },
    {
     "name": "stdout",
     "output_type": "stream",
     "text": [
      "batch 1228, R-squared: -3.355104741765439, MAE: 21.334796905517578, RMSE: 23.664382934570312\n",
      "batch 1229, R-squared: -2.0503725117950182, MAE: 17.128982543945312, RMSE: 19.71272087097168\n"
     ]
    },
    {
     "name": "stderr",
     "output_type": "stream",
     "text": [
      " 84%|████████████████████████████████████████████████████████████████████████████████████████████████████████████                    | 1232/1459 [02:37<00:26,  8.65it/s]"
     ]
    },
    {
     "name": "stdout",
     "output_type": "stream",
     "text": [
      "batch 1230, R-squared: -3.2298706639114063, MAE: 25.794015884399414, RMSE: 28.970378875732422\n",
      "batch 1231, R-squared: -4.634351050070746, MAE: 17.385873794555664, RMSE: 18.88735580444336\n"
     ]
    },
    {
     "name": "stderr",
     "output_type": "stream",
     "text": [
      " 85%|████████████████████████████████████████████████████████████████████████████████████████████████████████████▎                   | 1234/1459 [02:37<00:27,  8.17it/s]"
     ]
    },
    {
     "name": "stdout",
     "output_type": "stream",
     "text": [
      "batch 1232, R-squared: -2.682547994277134, MAE: 20.791906356811523, RMSE: 23.57074737548828\n",
      "batch 1233, R-squared: -2.0318635483769425, MAE: 16.718521118164062, RMSE: 21.556909561157227\n"
     ]
    },
    {
     "name": "stderr",
     "output_type": "stream",
     "text": [
      "\r",
      " 85%|████████████████████████████████████████████████████████████████████████████████████████████████████████████▍                   | 1236/1459 [02:37<00:26,  8.36it/s]"
     ]
    },
    {
     "name": "stdout",
     "output_type": "stream",
     "text": [
      "batch 1234, R-squared: -2.8602745570375276, MAE: 29.48385238647461, RMSE: 32.802772521972656\n",
      "batch 1235, R-squared: -1.9274201467476288, MAE: 33.87607955932617, RMSE: 38.70294952392578\n"
     ]
    },
    {
     "name": "stderr",
     "output_type": "stream",
     "text": [
      "\r",
      " 85%|████████████████████████████████████████████████████████████████████████████████████████████████████████████▌                   | 1238/1459 [02:38<00:25,  8.67it/s]"
     ]
    },
    {
     "name": "stdout",
     "output_type": "stream",
     "text": [
      "batch 1236, R-squared: -2.9001903815233763, MAE: 19.71099853515625, RMSE: 21.880882263183594\n",
      "batch 1237, R-squared: -2.7615020173934024, MAE: 22.082643508911133, RMSE: 25.686542510986328\n"
     ]
    },
    {
     "name": "stderr",
     "output_type": "stream",
     "text": [
      " 85%|████████████████████████████████████████████████████████████████████████████████████████████████████████████▊                   | 1240/1459 [02:38<00:25,  8.42it/s]"
     ]
    },
    {
     "name": "stdout",
     "output_type": "stream",
     "text": [
      "batch 1238, R-squared: -2.8095254885536898, MAE: 36.69603729248047, RMSE: 40.94975280761719\n",
      "batch 1239, R-squared: -2.021026205814764, MAE: 26.109928131103516, RMSE: 32.16544723510742\n"
     ]
    },
    {
     "name": "stderr",
     "output_type": "stream",
     "text": [
      " 85%|████████████████████████████████████████████████████████████████████████████████████████████████████████████▉                   | 1242/1459 [02:38<00:26,  8.31it/s]"
     ]
    },
    {
     "name": "stdout",
     "output_type": "stream",
     "text": [
      "batch 1240, R-squared: -3.603272828627369, MAE: 26.315332412719727, RMSE: 28.56162452697754\n",
      "batch 1241, R-squared: -2.0257265464491905, MAE: 16.597158432006836, RMSE: 20.383310317993164\n"
     ]
    },
    {
     "name": "stderr",
     "output_type": "stream",
     "text": [
      "\r",
      " 85%|█████████████████████████████████████████████████████████████████████████████████████████████████████████████                   | 1243/1459 [02:38<00:25,  8.32it/s]"
     ]
    },
    {
     "name": "stdout",
     "output_type": "stream",
     "text": [
      "batch 1242, R-squared: -1.564392891335812, MAE: 20.21552848815918, RMSE: 26.06635284423828\n",
      "batch 1243, R-squared: -2.279757792946956, MAE: 21.863624572753906, RMSE: 26.580455780029297\n"
     ]
    },
    {
     "name": "stderr",
     "output_type": "stream",
     "text": [
      " 85%|█████████████████████████████████████████████████████████████████████████████████████████████████████████████▎                  | 1246/1459 [02:39<00:24,  8.52it/s]"
     ]
    },
    {
     "name": "stdout",
     "output_type": "stream",
     "text": [
      "batch 1244, R-squared: -2.7843854181659595, MAE: 18.687498092651367, RMSE: 20.514951705932617\n",
      "batch 1245, R-squared: -1.720692250487732, MAE: 25.71307373046875, RMSE: 30.612747192382812\n"
     ]
    },
    {
     "name": "stderr",
     "output_type": "stream",
     "text": [
      " 86%|█████████████████████████████████████████████████████████████████████████████████████████████████████████████▍                  | 1248/1459 [02:39<00:26,  7.90it/s]"
     ]
    },
    {
     "name": "stdout",
     "output_type": "stream",
     "text": [
      "batch 1246, R-squared: -2.0829236273022, MAE: 15.419771194458008, RMSE: 17.712902069091797\n",
      "batch 1247, R-squared: -3.5443826312837423, MAE: 21.352890014648438, RMSE: 23.18901824951172\n"
     ]
    },
    {
     "name": "stderr",
     "output_type": "stream",
     "text": [
      " 86%|█████████████████████████████████████████████████████████████████████████████████████████████████████████████▋                  | 1250/1459 [02:39<00:26,  7.89it/s]"
     ]
    },
    {
     "name": "stdout",
     "output_type": "stream",
     "text": [
      "batch 1248, R-squared: -2.135702398858461, MAE: 23.626983642578125, RMSE: 29.071292877197266\n",
      "batch 1249, R-squared: -2.3823908148493778, MAE: 22.247745513916016, RMSE: 26.993528366088867\n"
     ]
    },
    {
     "name": "stderr",
     "output_type": "stream",
     "text": [
      " 86%|█████████████████████████████████████████████████████████████████████████████████████████████████████████████▊                  | 1252/1459 [02:39<00:28,  7.15it/s]"
     ]
    },
    {
     "name": "stdout",
     "output_type": "stream",
     "text": [
      "batch 1250, R-squared: -2.9345991221436423, MAE: 19.67266082763672, RMSE: 22.160259246826172\n",
      "batch 1251, R-squared: -2.3751100628940285, MAE: 32.740943908691406, RMSE: 38.75434494018555\n"
     ]
    },
    {
     "name": "stderr",
     "output_type": "stream",
     "text": [
      "\r",
      " 86%|██████████████████████████████████████████████████████████████████████████████████████████████████████████████                  | 1254/1459 [02:40<00:26,  7.71it/s]"
     ]
    },
    {
     "name": "stdout",
     "output_type": "stream",
     "text": [
      "batch 1252, R-squared: -3.6124103425816614, MAE: 13.53335952758789, RMSE: 14.298773765563965\n",
      "batch 1253, R-squared: -2.392057167289433, MAE: 20.28382110595703, RMSE: 23.521766662597656\n"
     ]
    },
    {
     "name": "stderr",
     "output_type": "stream",
     "text": [
      " 86%|██████████████████████████████████████████████████████████████████████████████████████████████████████████████▏                 | 1256/1459 [02:40<00:27,  7.31it/s]"
     ]
    },
    {
     "name": "stdout",
     "output_type": "stream",
     "text": [
      "batch 1254, R-squared: -2.771594668018065, MAE: 28.258590698242188, RMSE: 31.668302536010742\n",
      "batch 1255, R-squared: -2.7036590805706755, MAE: 29.34538459777832, RMSE: 34.31063461303711\n"
     ]
    },
    {
     "name": "stderr",
     "output_type": "stream",
     "text": [
      "\r",
      " 86%|██████████████████████████████████████████████████████████████████████████████████████████████████████████████▎                 | 1257/1459 [02:40<00:27,  7.35it/s]"
     ]
    },
    {
     "name": "stdout",
     "output_type": "stream",
     "text": [
      "batch 1256, R-squared: -2.0229951890095683, MAE: 20.392057418823242, RMSE: 22.752628326416016\n",
      "batch 1257, R-squared: -3.0124914241087137, MAE: 18.640785217285156, RMSE: 20.75718879699707\n"
     ]
    },
    {
     "name": "stderr",
     "output_type": "stream",
     "text": [
      " 86%|██████████████████████████████████████████████████████████████████████████████████████████████████████████████▌                 | 1260/1459 [02:40<00:24,  8.26it/s]"
     ]
    },
    {
     "name": "stdout",
     "output_type": "stream",
     "text": [
      "batch 1258, R-squared: -4.0114222787394205, MAE: 26.691417694091797, RMSE: 29.2436580657959\n",
      "batch 1259, R-squared: -2.826577671748275, MAE: 16.50450897216797, RMSE: 18.70521354675293\n"
     ]
    },
    {
     "name": "stderr",
     "output_type": "stream",
     "text": [
      " 86%|██████████████████████████████████████████████████████████████████████████████████████████████████████████████▋                 | 1262/1459 [02:41<00:25,  7.66it/s]"
     ]
    },
    {
     "name": "stdout",
     "output_type": "stream",
     "text": [
      "batch 1260, R-squared: -2.6587090695124442, MAE: 31.46792984008789, RMSE: 36.437522888183594\n",
      "batch 1261, R-squared: -1.7180525465578582, MAE: 15.429620742797852, RMSE: 18.997621536254883\n"
     ]
    },
    {
     "name": "stderr",
     "output_type": "stream",
     "text": [
      " 87%|██████████████████████████████████████████████████████████████████████████████████████████████████████████████▉                 | 1264/1459 [02:41<00:25,  7.75it/s]"
     ]
    },
    {
     "name": "stdout",
     "output_type": "stream",
     "text": [
      "batch 1262, R-squared: -1.8255709783352356, MAE: 16.308303833007812, RMSE: 21.61956214904785\n",
      "batch 1263, R-squared: -2.737077336239061, MAE: 13.143716812133789, RMSE: 15.142663955688477\n"
     ]
    },
    {
     "name": "stderr",
     "output_type": "stream",
     "text": [
      " 87%|███████████████████████████████████████████████████████████████████████████████████████████████████████████████                 | 1266/1459 [02:41<00:24,  7.76it/s]"
     ]
    },
    {
     "name": "stdout",
     "output_type": "stream",
     "text": [
      "batch 1264, R-squared: -1.9838720196917545, MAE: 12.785416603088379, RMSE: 15.705062866210938\n",
      "batch 1265, R-squared: -3.6443443809733225, MAE: 30.127822875976562, RMSE: 34.55458450317383\n"
     ]
    },
    {
     "name": "stderr",
     "output_type": "stream",
     "text": [
      " 87%|███████████████████████████████████████████████████████████████████████████████████████████████████████████████▏                | 1268/1459 [02:42<00:27,  6.91it/s]"
     ]
    },
    {
     "name": "stdout",
     "output_type": "stream",
     "text": [
      "batch 1266, R-squared: -2.6500253361807093, MAE: 23.413578033447266, RMSE: 29.747291564941406\n",
      "batch 1267, R-squared: -4.087789678027743, MAE: 16.35504150390625, RMSE: 17.915653228759766\n"
     ]
    },
    {
     "name": "stderr",
     "output_type": "stream",
     "text": [
      " 87%|███████████████████████████████████████████████████████████████████████████████████████████████████████████████▍                | 1270/1459 [02:42<00:25,  7.52it/s]"
     ]
    },
    {
     "name": "stdout",
     "output_type": "stream",
     "text": [
      "batch 1268, R-squared: -4.589195262883402, MAE: 27.74646759033203, RMSE: 29.34990119934082\n",
      "batch 1269, R-squared: -1.8829310905185588, MAE: 16.2945499420166, RMSE: 20.470279693603516\n"
     ]
    },
    {
     "name": "stderr",
     "output_type": "stream",
     "text": [
      " 87%|███████████████████████████████████████████████████████████████████████████████████████████████████████████████▌                | 1272/1459 [02:42<00:25,  7.47it/s]"
     ]
    },
    {
     "name": "stdout",
     "output_type": "stream",
     "text": [
      "batch 1270, R-squared: -3.5077992521103303, MAE: 18.02589225769043, RMSE: 19.151519775390625\n",
      "batch 1271, R-squared: -3.7011644892910445, MAE: 19.59821128845215, RMSE: 21.271799087524414\n"
     ]
    },
    {
     "name": "stderr",
     "output_type": "stream",
     "text": [
      " 87%|███████████████████████████████████████████████████████████████████████████████████████████████████████████████▊                | 1274/1459 [02:42<00:22,  8.19it/s]"
     ]
    },
    {
     "name": "stdout",
     "output_type": "stream",
     "text": [
      "batch 1272, R-squared: -3.3078127439091114, MAE: 20.355636596679688, RMSE: 21.744342803955078\n",
      "batch 1273, R-squared: -2.5761023582077107, MAE: 27.176111221313477, RMSE: 28.82534408569336\n"
     ]
    },
    {
     "name": "stderr",
     "output_type": "stream",
     "text": [
      " 87%|███████████████████████████████████████████████████████████████████████████████████████████████████████████████▉                | 1276/1459 [02:43<00:24,  7.61it/s]"
     ]
    },
    {
     "name": "stdout",
     "output_type": "stream",
     "text": [
      "batch 1274, R-squared: -3.3831846464158764, MAE: 20.91619873046875, RMSE: 23.176868438720703\n",
      "batch 1275, R-squared: -2.386663091090851, MAE: 32.25718688964844, RMSE: 39.65195083618164\n"
     ]
    },
    {
     "name": "stderr",
     "output_type": "stream",
     "text": [
      " 88%|████████████████████████████████████████████████████████████████████████████████████████████████████████████████                | 1278/1459 [02:43<00:23,  7.63it/s]"
     ]
    },
    {
     "name": "stdout",
     "output_type": "stream",
     "text": [
      "batch 1276, R-squared: -2.6683769173776835, MAE: 23.26534652709961, RMSE: 27.17881202697754\n",
      "batch 1277, R-squared: -2.453246995871122, MAE: 12.685770034790039, RMSE: 14.766571998596191\n"
     ]
    },
    {
     "name": "stderr",
     "output_type": "stream",
     "text": [
      " 88%|████████████████████████████████████████████████████████████████████████████████████████████████████████████████▎               | 1280/1459 [02:43<00:23,  7.46it/s]"
     ]
    },
    {
     "name": "stdout",
     "output_type": "stream",
     "text": [
      "batch 1278, R-squared: -2.1486357748229006, MAE: 17.859338760375977, RMSE: 20.838228225708008\n",
      "batch 1279, R-squared: -3.097248945113609, MAE: 23.520862579345703, RMSE: 24.920164108276367\n"
     ]
    },
    {
     "name": "stderr",
     "output_type": "stream",
     "text": [
      " 88%|████████████████████████████████████████████████████████████████████████████████████████████████████████████████▍               | 1282/1459 [02:43<00:24,  7.22it/s]"
     ]
    },
    {
     "name": "stdout",
     "output_type": "stream",
     "text": [
      "batch 1280, R-squared: -2.8910923203100913, MAE: 17.20830726623535, RMSE: 19.4459285736084\n",
      "batch 1281, R-squared: -1.9967866817833535, MAE: 22.652875900268555, RMSE: 27.762231826782227\n"
     ]
    },
    {
     "name": "stderr",
     "output_type": "stream",
     "text": [
      "\r",
      " 88%|████████████████████████████████████████████████████████████████████████████████████████████████████████████████▌               | 1283/1459 [02:43<00:22,  7.80it/s]"
     ]
    },
    {
     "name": "stdout",
     "output_type": "stream",
     "text": [
      "batch 1282, R-squared: -2.7126918733984224, MAE: 21.611852645874023, RMSE: 25.342302322387695\n",
      "batch 1283, R-squared: -2.8185863870569183, MAE: 18.42203140258789, RMSE: 19.946975708007812\n"
     ]
    },
    {
     "name": "stderr",
     "output_type": "stream",
     "text": [
      " 88%|████████████████████████████████████████████████████████████████████████████████████████████████████████████████▊               | 1286/1459 [02:44<00:21,  8.12it/s]"
     ]
    },
    {
     "name": "stdout",
     "output_type": "stream",
     "text": [
      "batch 1284, R-squared: -2.2816218243379747, MAE: 19.804807662963867, RMSE: 21.78130531311035\n",
      "batch 1285, R-squared: -1.9921353610173371, MAE: 18.851177215576172, RMSE: 23.472246170043945\n"
     ]
    },
    {
     "name": "stderr",
     "output_type": "stream",
     "text": [
      " 88%|████████████████████████████████████████████████████████████████████████████████████████████████████████████████▉               | 1288/1459 [02:44<00:23,  7.18it/s]"
     ]
    },
    {
     "name": "stdout",
     "output_type": "stream",
     "text": [
      "batch 1286, R-squared: -2.45859643076495, MAE: 27.04554557800293, RMSE: 30.32913589477539\n",
      "batch 1287, R-squared: -3.610509680651039, MAE: 15.851266860961914, RMSE: 16.64628791809082\n"
     ]
    },
    {
     "name": "stderr",
     "output_type": "stream",
     "text": [
      " 88%|█████████████████████████████████████████████████████████████████████████████████████████████████████████████████▏              | 1290/1459 [02:44<00:21,  7.69it/s]"
     ]
    },
    {
     "name": "stdout",
     "output_type": "stream",
     "text": [
      "batch 1288, R-squared: -2.1826974176191842, MAE: 30.841270446777344, RMSE: 36.74404525756836\n",
      "batch 1289, R-squared: -3.4480218119832657, MAE: 23.71912956237793, RMSE: 26.08740234375\n"
     ]
    },
    {
     "name": "stderr",
     "output_type": "stream",
     "text": [
      " 89%|█████████████████████████████████████████████████████████████████████████████████████████████████████████████████▎              | 1292/1459 [02:45<00:21,  7.74it/s]"
     ]
    },
    {
     "name": "stdout",
     "output_type": "stream",
     "text": [
      "batch 1290, R-squared: -2.2780332225089444, MAE: 17.933765411376953, RMSE: 20.482213973999023\n",
      "batch 1291, R-squared: -1.864393550764245, MAE: 16.38347816467285, RMSE: 19.976037979125977\n"
     ]
    },
    {
     "name": "stderr",
     "output_type": "stream",
     "text": [
      " 89%|█████████████████████████████████████████████████████████████████████████████████████████████████████████████████▌              | 1294/1459 [02:45<00:22,  7.27it/s]"
     ]
    },
    {
     "name": "stdout",
     "output_type": "stream",
     "text": [
      "batch 1292, R-squared: -2.2740442235481924, MAE: 12.499466896057129, RMSE: 14.244401931762695\n",
      "batch 1293, R-squared: -2.7584488136706247, MAE: 24.46837615966797, RMSE: 28.363643646240234\n"
     ]
    },
    {
     "name": "stderr",
     "output_type": "stream",
     "text": [
      " 89%|█████████████████████████████████████████████████████████████████████████████████████████████████████████████████▋              | 1296/1459 [02:45<00:22,  7.29it/s]"
     ]
    },
    {
     "name": "stdout",
     "output_type": "stream",
     "text": [
      "batch 1294, R-squared: -1.7229283475792216, MAE: 15.535796165466309, RMSE: 20.094226837158203\n",
      "batch 1295, R-squared: -2.28030289625282, MAE: 31.276172637939453, RMSE: 37.05365753173828\n"
     ]
    },
    {
     "name": "stderr",
     "output_type": "stream",
     "text": [
      " 89%|█████████████████████████████████████████████████████████████████████████████████████████████████████████████████▉              | 1298/1459 [02:45<00:22,  7.29it/s]"
     ]
    },
    {
     "name": "stdout",
     "output_type": "stream",
     "text": [
      "batch 1296, R-squared: -2.5417112977804863, MAE: 21.456933975219727, RMSE: 24.26319122314453\n",
      "batch 1297, R-squared: -2.1411901351425886, MAE: 27.208087921142578, RMSE: 34.3405876159668\n"
     ]
    },
    {
     "name": "stderr",
     "output_type": "stream",
     "text": [
      " 89%|██████████████████████████████████████████████████████████████████████████████████████████████████████████████████              | 1300/1459 [02:46<00:22,  7.22it/s]"
     ]
    },
    {
     "name": "stdout",
     "output_type": "stream",
     "text": [
      "batch 1298, R-squared: -2.5537569607597783, MAE: 41.36082458496094, RMSE: 48.71912384033203\n",
      "batch 1299, R-squared: -3.6692882281637744, MAE: 24.092514038085938, RMSE: 26.045791625976562\n"
     ]
    },
    {
     "name": "stderr",
     "output_type": "stream",
     "text": [
      " 89%|██████████████████████████████████████████████████████████████████████████████████████████████████████████████████▏             | 1302/1459 [02:46<00:22,  7.11it/s]"
     ]
    },
    {
     "name": "stdout",
     "output_type": "stream",
     "text": [
      "batch 1300, R-squared: -2.0246002356426906, MAE: 21.40330696105957, RMSE: 25.424575805664062\n",
      "batch 1301, R-squared: -2.3001164248808643, MAE: 27.67163848876953, RMSE: 29.906261444091797\n"
     ]
    },
    {
     "name": "stderr",
     "output_type": "stream",
     "text": [
      " 89%|██████████████████████████████████████████████████████████████████████████████████████████████████████████████████▍             | 1304/1459 [02:46<00:22,  6.96it/s]"
     ]
    },
    {
     "name": "stdout",
     "output_type": "stream",
     "text": [
      "batch 1302, R-squared: -2.631363925919872, MAE: 33.23157501220703, RMSE: 37.70754623413086\n",
      "batch 1303, R-squared: -2.905180248642317, MAE: 13.91128158569336, RMSE: 15.37319564819336\n"
     ]
    },
    {
     "name": "stderr",
     "output_type": "stream",
     "text": [
      " 90%|██████████████████████████████████████████████████████████████████████████████████████████████████████████████████▌             | 1306/1459 [02:47<00:21,  7.25it/s]"
     ]
    },
    {
     "name": "stdout",
     "output_type": "stream",
     "text": [
      "batch 1304, R-squared: -1.0912608871785139, MAE: 16.95227813720703, RMSE: 21.19105339050293\n",
      "batch 1305, R-squared: -2.4177182624674827, MAE: 24.855438232421875, RMSE: 27.70818328857422\n"
     ]
    },
    {
     "name": "stderr",
     "output_type": "stream",
     "text": [
      " 90%|██████████████████████████████████████████████████████████████████████████████████████████████████████████████████▊             | 1308/1459 [02:47<00:19,  7.79it/s]"
     ]
    },
    {
     "name": "stdout",
     "output_type": "stream",
     "text": [
      "batch 1306, R-squared: -3.8978992294804002, MAE: 27.7495174407959, RMSE: 29.096027374267578\n",
      "batch 1307, R-squared: -2.1483077769298538, MAE: 21.888513565063477, RMSE: 27.617149353027344\n"
     ]
    },
    {
     "name": "stderr",
     "output_type": "stream",
     "text": [
      " 90%|███████████████████████████████████████████████████████████████████████████████████████████████████████████████████             | 1311/1459 [02:47<00:16,  8.85it/s]"
     ]
    },
    {
     "name": "stdout",
     "output_type": "stream",
     "text": [
      "batch 1308, R-squared: -4.0096056359966425, MAE: 18.3476505279541, RMSE: 19.603694915771484\n",
      "batch 1309, R-squared: -2.8190440714404, MAE: 21.02254867553711, RMSE: 22.635751724243164\n",
      "batch 1310, R-squared: -2.28388101001506, MAE: 26.867462158203125, RMSE: 34.97132873535156\n"
     ]
    },
    {
     "name": "stderr",
     "output_type": "stream",
     "text": [
      "\r",
      " 90%|███████████████████████████████████████████████████████████████████████████████████████████████████████████████████             | 1312/1459 [02:47<00:16,  8.76it/s]"
     ]
    },
    {
     "name": "stdout",
     "output_type": "stream",
     "text": [
      "batch 1311, R-squared: -2.565058236168756, MAE: 20.187482833862305, RMSE: 22.293312072753906\n",
      "batch 1312, R-squared: -3.6303630904971316, MAE: 17.532577514648438, RMSE: 19.319114685058594\n"
     ]
    },
    {
     "name": "stderr",
     "output_type": "stream",
     "text": [
      " 90%|███████████████████████████████████████████████████████████████████████████████████████████████████████████████████▎            | 1315/1459 [02:48<00:17,  8.26it/s]"
     ]
    },
    {
     "name": "stdout",
     "output_type": "stream",
     "text": [
      "batch 1313, R-squared: -2.813881045684368, MAE: 33.005401611328125, RMSE: 36.25749969482422\n",
      "batch 1314, R-squared: -1.9789785245029705, MAE: 16.911752700805664, RMSE: 21.33785629272461\n"
     ]
    },
    {
     "name": "stderr",
     "output_type": "stream",
     "text": [
      " 90%|███████████████████████████████████████████████████████████████████████████████████████████████████████████████████▌            | 1317/1459 [02:48<00:18,  7.66it/s]"
     ]
    },
    {
     "name": "stdout",
     "output_type": "stream",
     "text": [
      "batch 1315, R-squared: -2.5951237938036473, MAE: 17.9617862701416, RMSE: 19.9252872467041\n",
      "batch 1316, R-squared: -2.472796909241047, MAE: 22.20203399658203, RMSE: 25.64356803894043\n"
     ]
    },
    {
     "name": "stderr",
     "output_type": "stream",
     "text": [
      "\r",
      " 90%|███████████████████████████████████████████████████████████████████████████████████████████████████████████████████▋            | 1318/1459 [02:48<00:19,  7.41it/s]"
     ]
    },
    {
     "name": "stdout",
     "output_type": "stream",
     "text": [
      "batch 1317, R-squared: -3.2026904905039197, MAE: 29.153438568115234, RMSE: 32.66096878051758\n",
      "batch 1318, R-squared: -2.4069480696815875, MAE: 19.209266662597656, RMSE: 20.589406967163086\n"
     ]
    },
    {
     "name": "stderr",
     "output_type": "stream",
     "text": [
      " 91%|███████████████████████████████████████████████████████████████████████████████████████████████████████████████████▉            | 1321/1459 [02:48<00:17,  7.77it/s]"
     ]
    },
    {
     "name": "stdout",
     "output_type": "stream",
     "text": [
      "batch 1319, R-squared: -2.793142706328399, MAE: 18.399538040161133, RMSE: 21.739364624023438\n",
      "batch 1320, R-squared: -2.067536178612553, MAE: 20.543594360351562, RMSE: 23.348583221435547\n"
     ]
    },
    {
     "name": "stderr",
     "output_type": "stream",
     "text": [
      " 91%|████████████████████████████████████████████████████████████████████████████████████████████████████████████████████            | 1323/1459 [02:49<00:18,  7.41it/s]"
     ]
    },
    {
     "name": "stdout",
     "output_type": "stream",
     "text": [
      "batch 1321, R-squared: -3.0666351717077522, MAE: 14.059833526611328, RMSE: 15.354863166809082\n",
      "batch 1322, R-squared: -3.258626620976716, MAE: 18.892919540405273, RMSE: 21.01178550720215\n"
     ]
    },
    {
     "name": "stderr",
     "output_type": "stream",
     "text": [
      " 91%|████████████████████████████████████████████████████████████████████████████████████████████████████████████████████▏           | 1325/1459 [02:49<00:18,  7.34it/s]"
     ]
    },
    {
     "name": "stdout",
     "output_type": "stream",
     "text": [
      "batch 1323, R-squared: -3.1764174092043294, MAE: 25.574647903442383, RMSE: 28.165910720825195\n",
      "batch 1324, R-squared: -4.436220002072947, MAE: 27.058956146240234, RMSE: 29.006019592285156\n"
     ]
    },
    {
     "name": "stderr",
     "output_type": "stream",
     "text": [
      " 91%|████████████████████████████████████████████████████████████████████████████████████████████████████████████████████▍           | 1327/1459 [02:49<00:17,  7.57it/s]"
     ]
    },
    {
     "name": "stdout",
     "output_type": "stream",
     "text": [
      "batch 1325, R-squared: -2.817806554266745, MAE: 19.714454650878906, RMSE: 23.127670288085938\n",
      "batch 1326, R-squared: -1.87810901843886, MAE: 21.019916534423828, RMSE: 23.65302848815918\n"
     ]
    },
    {
     "name": "stderr",
     "output_type": "stream",
     "text": [
      " 91%|████████████████████████████████████████████████████████████████████████████████████████████████████████████████████▌           | 1329/1459 [02:50<00:16,  7.81it/s]"
     ]
    },
    {
     "name": "stdout",
     "output_type": "stream",
     "text": [
      "batch 1327, R-squared: -2.821800215953556, MAE: 22.234413146972656, RMSE: 26.05419921875\n",
      "batch 1328, R-squared: -2.379530927417563, MAE: 23.172847747802734, RMSE: 24.48341941833496\n"
     ]
    },
    {
     "name": "stderr",
     "output_type": "stream",
     "text": [
      " 91%|████████████████████████████████████████████████████████████████████████████████████████████████████████████████████▊           | 1331/1459 [02:50<00:15,  8.22it/s]"
     ]
    },
    {
     "name": "stdout",
     "output_type": "stream",
     "text": [
      "batch 1329, R-squared: -3.5200167762542858, MAE: 23.630434036254883, RMSE: 25.941326141357422\n",
      "batch 1330, R-squared: -1.8665657535028901, MAE: 28.679428100585938, RMSE: 35.75227737426758\n"
     ]
    },
    {
     "name": "stderr",
     "output_type": "stream",
     "text": [
      " 91%|████████████████████████████████████████████████████████████████████████████████████████████████████████████████████▉           | 1333/1459 [02:50<00:14,  8.44it/s]"
     ]
    },
    {
     "name": "stdout",
     "output_type": "stream",
     "text": [
      "batch 1331, R-squared: -3.0967992638990895, MAE: 20.171586990356445, RMSE: 23.452224731445312\n",
      "batch 1332, R-squared: -2.5041023597897274, MAE: 34.39854049682617, RMSE: 41.998077392578125\n"
     ]
    },
    {
     "name": "stderr",
     "output_type": "stream",
     "text": [
      " 92%|█████████████████████████████████████████████████████████████████████████████████████████████████████████████████████           | 1335/1459 [02:50<00:13,  8.87it/s]"
     ]
    },
    {
     "name": "stdout",
     "output_type": "stream",
     "text": [
      "batch 1333, R-squared: -2.5099590707150687, MAE: 24.91295051574707, RMSE: 27.4804630279541\n",
      "batch 1334, R-squared: -2.099059635660141, MAE: 22.28251838684082, RMSE: 25.73439598083496\n"
     ]
    },
    {
     "name": "stderr",
     "output_type": "stream",
     "text": [
      " 92%|█████████████████████████████████████████████████████████████████████████████████████████████████████████████████████▎          | 1337/1459 [02:50<00:14,  8.26it/s]"
     ]
    },
    {
     "name": "stdout",
     "output_type": "stream",
     "text": [
      "batch 1335, R-squared: -3.4571943323590792, MAE: 17.894676208496094, RMSE: 19.806447982788086\n",
      "batch 1336, R-squared: -3.0280122935871465, MAE: 27.929527282714844, RMSE: 30.629531860351562\n"
     ]
    },
    {
     "name": "stderr",
     "output_type": "stream",
     "text": [
      " 92%|█████████████████████████████████████████████████████████████████████████████████████████████████████████████████████▍          | 1339/1459 [02:51<00:16,  7.49it/s]"
     ]
    },
    {
     "name": "stdout",
     "output_type": "stream",
     "text": [
      "batch 1337, R-squared: -2.1231516147742235, MAE: 26.010311126708984, RMSE: 31.24114227294922\n",
      "batch 1338, R-squared: -1.7527038107315511, MAE: 24.930261611938477, RMSE: 28.612777709960938\n"
     ]
    },
    {
     "name": "stderr",
     "output_type": "stream",
     "text": [
      " 92%|█████████████████████████████████████████████████████████████████████████████████████████████████████████████████████▋          | 1341/1459 [02:51<00:14,  7.88it/s]"
     ]
    },
    {
     "name": "stdout",
     "output_type": "stream",
     "text": [
      "batch 1339, R-squared: -2.4290620908393428, MAE: 30.153064727783203, RMSE: 32.9365234375\n",
      "batch 1340, R-squared: -2.2352791335721367, MAE: 19.064739227294922, RMSE: 24.567787170410156\n"
     ]
    },
    {
     "name": "stderr",
     "output_type": "stream",
     "text": [
      " 92%|█████████████████████████████████████████████████████████████████████████████████████████████████████████████████████▊          | 1343/1459 [02:51<00:15,  7.69it/s]"
     ]
    },
    {
     "name": "stdout",
     "output_type": "stream",
     "text": [
      "batch 1341, R-squared: -2.8565524275522423, MAE: 28.378360748291016, RMSE: 30.957069396972656\n",
      "batch 1342, R-squared: -3.0669520863593043, MAE: 20.65361213684082, RMSE: 22.817821502685547\n"
     ]
    },
    {
     "name": "stderr",
     "output_type": "stream",
     "text": [
      "\r",
      " 92%|█████████████████████████████████████████████████████████████████████████████████████████████████████████████████████▉          | 1345/1459 [02:51<00:13,  8.38it/s]"
     ]
    },
    {
     "name": "stdout",
     "output_type": "stream",
     "text": [
      "batch 1343, R-squared: -2.0151206117450107, MAE: 21.944278717041016, RMSE: 25.770307540893555\n",
      "batch 1344, R-squared: -4.6748327089853525, MAE: 19.290454864501953, RMSE: 21.022525787353516\n"
     ]
    },
    {
     "name": "stderr",
     "output_type": "stream",
     "text": [
      "\r",
      " 92%|██████████████████████████████████████████████████████████████████████████████████████████████████████████████████████          | 1346/1459 [02:52<00:14,  7.68it/s]"
     ]
    },
    {
     "name": "stdout",
     "output_type": "stream",
     "text": [
      "batch 1345, R-squared: -2.770943001233985, MAE: 17.12195587158203, RMSE: 18.684913635253906\n",
      "batch 1346, R-squared: -3.2011860029056702, MAE: 17.541584014892578, RMSE: 19.552433013916016\n"
     ]
    },
    {
     "name": "stderr",
     "output_type": "stream",
     "text": [
      " 92%|██████████████████████████████████████████████████████████████████████████████████████████████████████████████████████▎         | 1349/1459 [02:52<00:13,  8.45it/s]"
     ]
    },
    {
     "name": "stdout",
     "output_type": "stream",
     "text": [
      "batch 1347, R-squared: -3.1797521178984485, MAE: 28.011451721191406, RMSE: 30.550920486450195\n",
      "batch 1348, R-squared: -3.950166184704144, MAE: 28.1204833984375, RMSE: 29.562488555908203\n"
     ]
    },
    {
     "name": "stderr",
     "output_type": "stream",
     "text": [
      " 93%|██████████████████████████████████████████████████████████████████████████████████████████████████████████████████████▌         | 1351/1459 [02:52<00:13,  7.75it/s]"
     ]
    },
    {
     "name": "stdout",
     "output_type": "stream",
     "text": [
      "batch 1349, R-squared: -2.4708359075969653, MAE: 26.647016525268555, RMSE: 31.326629638671875\n",
      "batch 1350, R-squared: -2.228433019807694, MAE: 19.836265563964844, RMSE: 23.145092010498047\n"
     ]
    },
    {
     "name": "stderr",
     "output_type": "stream",
     "text": [
      " 93%|██████████████████████████████████████████████████████████████████████████████████████████████████████████████████████▋         | 1353/1459 [02:52<00:13,  7.77it/s]"
     ]
    },
    {
     "name": "stdout",
     "output_type": "stream",
     "text": [
      "batch 1351, R-squared: -3.366605943568481, MAE: 20.580211639404297, RMSE: 21.550758361816406\n",
      "batch 1352, R-squared: -3.762440484127148, MAE: 17.57261848449707, RMSE: 19.110971450805664\n"
     ]
    },
    {
     "name": "stderr",
     "output_type": "stream",
     "text": [
      " 93%|██████████████████████████████████████████████████████████████████████████████████████████████████████████████████████▉         | 1355/1459 [02:53<00:14,  7.25it/s]"
     ]
    },
    {
     "name": "stdout",
     "output_type": "stream",
     "text": [
      "batch 1353, R-squared: -2.6499695992644483, MAE: 21.017866134643555, RMSE: 22.818756103515625\n",
      "batch 1354, R-squared: -3.0884657008629883, MAE: 20.34929656982422, RMSE: 22.264366149902344\n"
     ]
    },
    {
     "name": "stderr",
     "output_type": "stream",
     "text": [
      "\r",
      " 93%|███████████████████████████████████████████████████████████████████████████████████████████████████████████████████████         | 1357/1459 [02:53<00:12,  8.00it/s]"
     ]
    },
    {
     "name": "stdout",
     "output_type": "stream",
     "text": [
      "batch 1355, R-squared: -1.8164141604761919, MAE: 24.008617401123047, RMSE: 30.58962059020996\n",
      "batch 1356, R-squared: -2.231343952001499, MAE: 17.117103576660156, RMSE: 19.43682289123535\n"
     ]
    },
    {
     "name": "stderr",
     "output_type": "stream",
     "text": [
      " 93%|███████████████████████████████████████████████████████████████████████████████████████████████████████████████████████▏        | 1359/1459 [02:53<00:12,  7.94it/s]"
     ]
    },
    {
     "name": "stdout",
     "output_type": "stream",
     "text": [
      "batch 1357, R-squared: -2.556127751773786, MAE: 16.086271286010742, RMSE: 18.07498550415039\n",
      "batch 1358, R-squared: -1.783906371961365, MAE: 23.371726989746094, RMSE: 28.860538482666016\n"
     ]
    },
    {
     "name": "stderr",
     "output_type": "stream",
     "text": [
      " 93%|███████████████████████████████████████████████████████████████████████████████████████████████████████████████████████▍        | 1361/1459 [02:54<00:12,  7.71it/s]"
     ]
    },
    {
     "name": "stdout",
     "output_type": "stream",
     "text": [
      "batch 1359, R-squared: -3.6480556224521354, MAE: 23.007368087768555, RMSE: 25.298885345458984\n",
      "batch 1360, R-squared: -2.035913802870893, MAE: 24.38169288635254, RMSE: 28.43716812133789\n"
     ]
    },
    {
     "name": "stderr",
     "output_type": "stream",
     "text": [
      " 93%|███████████████████████████████████████████████████████████████████████████████████████████████████████████████████████▌        | 1363/1459 [02:54<00:12,  7.76it/s]"
     ]
    },
    {
     "name": "stdout",
     "output_type": "stream",
     "text": [
      "batch 1361, R-squared: -2.187916427353911, MAE: 21.825557708740234, RMSE: 26.468448638916016\n",
      "batch 1362, R-squared: -1.9794171628396433, MAE: 19.201725006103516, RMSE: 20.9110107421875\n"
     ]
    },
    {
     "name": "stderr",
     "output_type": "stream",
     "text": [
      " 94%|███████████████████████████████████████████████████████████████████████████████████████████████████████████████████████▊        | 1365/1459 [02:54<00:12,  7.55it/s]"
     ]
    },
    {
     "name": "stdout",
     "output_type": "stream",
     "text": [
      "batch 1363, R-squared: -3.969100557027957, MAE: 28.38142204284668, RMSE: 30.732465744018555\n",
      "batch 1364, R-squared: -2.364379712487374, MAE: 18.245338439941406, RMSE: 20.790700912475586\n"
     ]
    },
    {
     "name": "stderr",
     "output_type": "stream",
     "text": [
      " 94%|███████████████████████████████████████████████████████████████████████████████████████████████████████████████████████▉        | 1367/1459 [02:54<00:11,  8.04it/s]"
     ]
    },
    {
     "name": "stdout",
     "output_type": "stream",
     "text": [
      "batch 1365, R-squared: -2.1324325373497506, MAE: 23.508207321166992, RMSE: 27.504772186279297\n",
      "batch 1366, R-squared: -2.9421930133712615, MAE: 18.233400344848633, RMSE: 20.248275756835938\n"
     ]
    },
    {
     "name": "stderr",
     "output_type": "stream",
     "text": [
      "\r",
      " 94%|████████████████████████████████████████████████████████████████████████████████████████████████████████████████████████        | 1368/1459 [02:54<00:11,  7.84it/s]"
     ]
    },
    {
     "name": "stdout",
     "output_type": "stream",
     "text": [
      "batch 1367, R-squared: -2.614888856838506, MAE: 37.13356018066406, RMSE: 39.75672912597656\n",
      "batch 1368, R-squared: -1.9921059607490483, MAE: 26.12126922607422, RMSE: 30.718976974487305\n"
     ]
    },
    {
     "name": "stderr",
     "output_type": "stream",
     "text": [
      " 94%|████████████████████████████████████████████████████████████████████████████████████████████████████████████████████████▎       | 1371/1459 [02:55<00:11,  7.87it/s]"
     ]
    },
    {
     "name": "stdout",
     "output_type": "stream",
     "text": [
      "batch 1369, R-squared: -2.757277486904887, MAE: 27.24177360534668, RMSE: 29.36441421508789\n",
      "batch 1370, R-squared: -3.1512181428537462, MAE: 28.721227645874023, RMSE: 31.73720359802246\n"
     ]
    },
    {
     "name": "stderr",
     "output_type": "stream",
     "text": [
      " 94%|████████████████████████████████████████████████████████████████████████████████████████████████████████████████████████▍       | 1373/1459 [02:55<00:11,  7.73it/s]"
     ]
    },
    {
     "name": "stdout",
     "output_type": "stream",
     "text": [
      "batch 1371, R-squared: -3.860686890930297, MAE: 29.789901733398438, RMSE: 31.96522331237793\n",
      "batch 1372, R-squared: -3.066935948652543, MAE: 16.602405548095703, RMSE: 17.90948486328125\n"
     ]
    },
    {
     "name": "stderr",
     "output_type": "stream",
     "text": [
      " 94%|████████████████████████████████████████████████████████████████████████████████████████████████████████████████████████▋       | 1375/1459 [02:55<00:10,  7.84it/s]"
     ]
    },
    {
     "name": "stdout",
     "output_type": "stream",
     "text": [
      "batch 1373, R-squared: -2.070527558747095, MAE: 24.422285079956055, RMSE: 28.994577407836914\n",
      "batch 1374, R-squared: -1.622233244859014, MAE: 15.833369255065918, RMSE: 20.35082244873047\n"
     ]
    },
    {
     "name": "stderr",
     "output_type": "stream",
     "text": [
      " 94%|████████████████████████████████████████████████████████████████████████████████████████████████████████████████████████▊       | 1377/1459 [02:56<00:10,  7.89it/s]"
     ]
    },
    {
     "name": "stdout",
     "output_type": "stream",
     "text": [
      "batch 1375, R-squared: -3.384789518149786, MAE: 28.629566192626953, RMSE: 31.34568977355957\n",
      "batch 1376, R-squared: -2.1913354890463257, MAE: 23.40622329711914, RMSE: 28.385604858398438\n"
     ]
    },
    {
     "name": "stderr",
     "output_type": "stream",
     "text": [
      "\r",
      " 95%|████████████████████████████████████████████████████████████████████████████████████████████████████████████████████████▉       | 1379/1459 [02:56<00:09,  8.42it/s]"
     ]
    },
    {
     "name": "stdout",
     "output_type": "stream",
     "text": [
      "batch 1377, R-squared: -2.0952139728873203, MAE: 17.928544998168945, RMSE: 20.416561126708984\n",
      "batch 1378, R-squared: -2.338314992979039, MAE: 30.01108741760254, RMSE: 35.7404899597168\n"
     ]
    },
    {
     "name": "stderr",
     "output_type": "stream",
     "text": [
      " 95%|█████████████████████████████████████████████████████████████████████████████████████████████████████████████████████████▏      | 1381/1459 [02:56<00:09,  8.46it/s]"
     ]
    },
    {
     "name": "stdout",
     "output_type": "stream",
     "text": [
      "batch 1379, R-squared: -2.7111201136014342, MAE: 24.61632537841797, RMSE: 29.290245056152344\n",
      "batch 1380, R-squared: -2.2854393937056185, MAE: 16.21292495727539, RMSE: 18.989334106445312\n"
     ]
    },
    {
     "name": "stderr",
     "output_type": "stream",
     "text": [
      " 95%|█████████████████████████████████████████████████████████████████████████████████████████████████████████████████████████▎      | 1383/1459 [02:56<00:09,  7.98it/s]"
     ]
    },
    {
     "name": "stdout",
     "output_type": "stream",
     "text": [
      "batch 1381, R-squared: -1.8378111219726434, MAE: 34.01759338378906, RMSE: 42.53788757324219\n",
      "batch 1382, R-squared: -3.0098411790460493, MAE: 18.825828552246094, RMSE: 21.11402130126953\n"
     ]
    },
    {
     "name": "stderr",
     "output_type": "stream",
     "text": [
      " 95%|█████████████████████████████████████████████████████████████████████████████████████████████████████████████████████████▌      | 1385/1459 [02:57<00:08,  8.31it/s]"
     ]
    },
    {
     "name": "stdout",
     "output_type": "stream",
     "text": [
      "batch 1383, R-squared: -3.161259278129982, MAE: 25.47407341003418, RMSE: 27.096729278564453\n",
      "batch 1384, R-squared: -1.4854363579206535, MAE: 28.352577209472656, RMSE: 35.51229476928711\n"
     ]
    },
    {
     "name": "stderr",
     "output_type": "stream",
     "text": [
      " 95%|█████████████████████████████████████████████████████████████████████████████████████████████████████████████████████████▋      | 1387/1459 [02:57<00:08,  8.56it/s]"
     ]
    },
    {
     "name": "stdout",
     "output_type": "stream",
     "text": [
      "batch 1385, R-squared: -1.915781420650235, MAE: 16.148103713989258, RMSE: 20.55352020263672\n",
      "batch 1386, R-squared: -2.0811504967821035, MAE: 33.985660552978516, RMSE: 40.25190734863281\n"
     ]
    },
    {
     "name": "stderr",
     "output_type": "stream",
     "text": [
      " 95%|█████████████████████████████████████████████████████████████████████████████████████████████████████████████████████████▊      | 1389/1459 [02:57<00:09,  7.73it/s]"
     ]
    },
    {
     "name": "stdout",
     "output_type": "stream",
     "text": [
      "batch 1387, R-squared: -2.3824751731950173, MAE: 23.162525177001953, RMSE: 27.389110565185547\n",
      "batch 1388, R-squared: -2.6496439952251873, MAE: 21.806312561035156, RMSE: 26.120542526245117\n"
     ]
    },
    {
     "name": "stderr",
     "output_type": "stream",
     "text": [
      " 95%|██████████████████████████████████████████████████████████████████████████████████████████████████████████████████████████      | 1391/1459 [02:57<00:08,  7.64it/s]"
     ]
    },
    {
     "name": "stdout",
     "output_type": "stream",
     "text": [
      "batch 1389, R-squared: -2.4614994433460597, MAE: 18.682228088378906, RMSE: 22.389652252197266\n",
      "batch 1390, R-squared: -2.6615962439359975, MAE: 18.065895080566406, RMSE: 20.56557273864746\n"
     ]
    },
    {
     "name": "stderr",
     "output_type": "stream",
     "text": [
      " 95%|██████████████████████████████████████████████████████████████████████████████████████████████████████████████████████████▏     | 1393/1459 [02:58<00:08,  8.06it/s]"
     ]
    },
    {
     "name": "stdout",
     "output_type": "stream",
     "text": [
      "batch 1391, R-squared: -1.9665539557633758, MAE: 23.596797943115234, RMSE: 30.27063751220703\n",
      "batch 1392, R-squared: -2.5115460480470357, MAE: 25.4848575592041, RMSE: 29.41229248046875\n"
     ]
    },
    {
     "name": "stderr",
     "output_type": "stream",
     "text": [
      " 96%|██████████████████████████████████████████████████████████████████████████████████████████████████████████████████████████▍     | 1395/1459 [02:58<00:07,  8.33it/s]"
     ]
    },
    {
     "name": "stdout",
     "output_type": "stream",
     "text": [
      "batch 1393, R-squared: -2.126124224661039, MAE: 37.143009185791016, RMSE: 39.551544189453125\n",
      "batch 1394, R-squared: -3.2052495140409083, MAE: 18.424274444580078, RMSE: 20.43099594116211\n",
      "batch 1395, R-squared: -2.7455558772900446, MAE: 12.921183586120605, RMSE: 14.900158882141113\n"
     ]
    },
    {
     "name": "stderr",
     "output_type": "stream",
     "text": [
      " 96%|██████████████████████████████████████████████████████████████████████████████████████████████████████████████████████████▋     | 1398/1459 [02:58<00:06,  8.78it/s]"
     ]
    },
    {
     "name": "stdout",
     "output_type": "stream",
     "text": [
      "batch 1396, R-squared: -4.117311169584985, MAE: 23.802339553833008, RMSE: 25.78881072998047\n",
      "batch 1397, R-squared: -2.6425411603113846, MAE: 21.47317123413086, RMSE: 22.95102882385254\n"
     ]
    },
    {
     "name": "stderr",
     "output_type": "stream",
     "text": [
      " 96%|██████████████████████████████████████████████████████████████████████████████████████████████████████████████████████████▊     | 1400/1459 [02:58<00:07,  8.02it/s]"
     ]
    },
    {
     "name": "stdout",
     "output_type": "stream",
     "text": [
      "batch 1398, R-squared: -3.3665455987984343, MAE: 31.71569061279297, RMSE: 34.280372619628906\n",
      "batch 1399, R-squared: -2.865362104472359, MAE: 24.895954132080078, RMSE: 28.275619506835938\n"
     ]
    },
    {
     "name": "stderr",
     "output_type": "stream",
     "text": [
      "\r",
      " 96%|██████████████████████████████████████████████████████████████████████████████████████████████████████████████████████████▉     | 1401/1459 [02:59<00:07,  7.69it/s]"
     ]
    },
    {
     "name": "stdout",
     "output_type": "stream",
     "text": [
      "batch 1400, R-squared: -2.6504924115535866, MAE: 24.01616096496582, RMSE: 28.15677261352539\n",
      "batch 1401, R-squared: -2.7892325657903076, MAE: 30.861902236938477, RMSE: 36.899169921875\n"
     ]
    },
    {
     "name": "stderr",
     "output_type": "stream",
     "text": [
      " 96%|███████████████████████████████████████████████████████████████████████████████████████████████████████████████████████████▏    | 1404/1459 [02:59<00:07,  7.60it/s]"
     ]
    },
    {
     "name": "stdout",
     "output_type": "stream",
     "text": [
      "batch 1402, R-squared: -2.574629647487945, MAE: 11.978452682495117, RMSE: 14.785667419433594\n",
      "batch 1403, R-squared: -3.099926351040847, MAE: 29.550724029541016, RMSE: 33.2906494140625\n"
     ]
    },
    {
     "name": "stderr",
     "output_type": "stream",
     "text": [
      " 96%|███████████████████████████████████████████████████████████████████████████████████████████████████████████████████████████▎    | 1406/1459 [02:59<00:06,  7.59it/s]"
     ]
    },
    {
     "name": "stdout",
     "output_type": "stream",
     "text": [
      "batch 1404, R-squared: -2.4389047246328093, MAE: 20.765949249267578, RMSE: 23.8091983795166\n",
      "batch 1405, R-squared: -1.766762211879324, MAE: 16.792163848876953, RMSE: 20.043670654296875\n"
     ]
    },
    {
     "name": "stderr",
     "output_type": "stream",
     "text": [
      "\r",
      " 96%|███████████████████████████████████████████████████████████████████████████████████████████████████████████████████████████▍    | 1407/1459 [02:59<00:06,  7.44it/s]"
     ]
    },
    {
     "name": "stdout",
     "output_type": "stream",
     "text": [
      "batch 1406, R-squared: -2.033727662133534, MAE: 26.41498565673828, RMSE: 30.958629608154297\n",
      "batch 1407, R-squared: -2.9478380003825047, MAE: 19.9580135345459, RMSE: 21.998249053955078\n"
     ]
    },
    {
     "name": "stderr",
     "output_type": "stream",
     "text": [
      " 97%|███████████████████████████████████████████████████████████████████████████████████████████████████████████████████████████▋    | 1410/1459 [03:00<00:06,  7.96it/s]"
     ]
    },
    {
     "name": "stdout",
     "output_type": "stream",
     "text": [
      "batch 1408, R-squared: -2.1883603889259624, MAE: 19.712602615356445, RMSE: 22.62720489501953\n",
      "batch 1409, R-squared: -2.220229963305788, MAE: 21.51451873779297, RMSE: 24.890960693359375\n"
     ]
    },
    {
     "name": "stderr",
     "output_type": "stream",
     "text": [
      " 97%|███████████████████████████████████████████████████████████████████████████████████████████████████████████████████████████▉    | 1412/1459 [03:00<00:06,  7.81it/s]"
     ]
    },
    {
     "name": "stdout",
     "output_type": "stream",
     "text": [
      "batch 1410, R-squared: -3.140733720894544, MAE: 25.291400909423828, RMSE: 28.937156677246094\n",
      "batch 1411, R-squared: -2.762481628792235, MAE: 17.31247901916504, RMSE: 19.795536041259766\n"
     ]
    },
    {
     "name": "stderr",
     "output_type": "stream",
     "text": [
      "\r",
      " 97%|███████████████████████████████████████████████████████████████████████████████████████████████████████████████████████████▉    | 1413/1459 [03:00<00:05,  7.99it/s]"
     ]
    },
    {
     "name": "stdout",
     "output_type": "stream",
     "text": [
      "batch 1412, R-squared: -2.524309482790136, MAE: 13.168481826782227, RMSE: 15.614632606506348\n",
      "batch 1413, R-squared: -2.0753265783546953, MAE: 22.85940170288086, RMSE: 26.209386825561523\n"
     ]
    },
    {
     "name": "stderr",
     "output_type": "stream",
     "text": [
      " 97%|████████████████████████████████████████████████████████████████████████████████████████████████████████████████████████████▏   | 1416/1459 [03:00<00:05,  7.50it/s]"
     ]
    },
    {
     "name": "stdout",
     "output_type": "stream",
     "text": [
      "batch 1414, R-squared: -3.274175003023267, MAE: 25.21563720703125, RMSE: 27.799362182617188\n",
      "batch 1415, R-squared: -3.01805105201779, MAE: 18.491838455200195, RMSE: 20.030723571777344\n"
     ]
    },
    {
     "name": "stderr",
     "output_type": "stream",
     "text": [
      " 97%|████████████████████████████████████████████████████████████████████████████████████████████████████████████████████████████▍   | 1418/1459 [03:01<00:05,  8.05it/s]"
     ]
    },
    {
     "name": "stdout",
     "output_type": "stream",
     "text": [
      "batch 1416, R-squared: -3.067396311852326, MAE: 16.357114791870117, RMSE: 18.167373657226562\n",
      "batch 1417, R-squared: -3.52415766880876, MAE: 22.75535774230957, RMSE: 25.136470794677734\n"
     ]
    },
    {
     "name": "stderr",
     "output_type": "stream",
     "text": [
      " 97%|████████████████████████████████████████████████████████████████████████████████████████████████████████████████████████████▌   | 1420/1459 [03:01<00:04,  7.94it/s]"
     ]
    },
    {
     "name": "stdout",
     "output_type": "stream",
     "text": [
      "batch 1418, R-squared: -3.623372021128561, MAE: 15.741127014160156, RMSE: 17.25440788269043\n",
      "batch 1419, R-squared: -3.0573210891126124, MAE: 19.192773818969727, RMSE: 21.645462036132812\n"
     ]
    },
    {
     "name": "stderr",
     "output_type": "stream",
     "text": [
      " 97%|████████████████████████████████████████████████████████████████████████████████████████████████████████████████████████████▊   | 1422/1459 [03:01<00:05,  7.26it/s]"
     ]
    },
    {
     "name": "stdout",
     "output_type": "stream",
     "text": [
      "batch 1420, R-squared: -3.541997858050444, MAE: 28.349586486816406, RMSE: 31.166399002075195\n",
      "batch 1421, R-squared: -2.6590798201461694, MAE: 22.381053924560547, RMSE: 26.288856506347656\n"
     ]
    },
    {
     "name": "stderr",
     "output_type": "stream",
     "text": [
      "\r",
      " 98%|████████████████████████████████████████████████████████████████████████████████████████████████████████████████████████████▉   | 1424/1459 [03:01<00:04,  8.21it/s]"
     ]
    },
    {
     "name": "stdout",
     "output_type": "stream",
     "text": [
      "batch 1422, R-squared: -2.4553686314440966, MAE: 34.383323669433594, RMSE: 41.404075622558594\n",
      "batch 1423, R-squared: -1.793914625428794, MAE: 14.464747428894043, RMSE: 17.62755584716797\n"
     ]
    },
    {
     "name": "stderr",
     "output_type": "stream",
     "text": [
      " 98%|█████████████████████████████████████████████████████████████████████████████████████████████████████████████████████████████   | 1426/1459 [03:02<00:04,  7.85it/s]"
     ]
    },
    {
     "name": "stdout",
     "output_type": "stream",
     "text": [
      "batch 1424, R-squared: -1.7251894986808625, MAE: 15.805648803710938, RMSE: 19.586702346801758\n",
      "batch 1425, R-squared: -1.8571000313314716, MAE: 15.014840126037598, RMSE: 17.71999740600586\n"
     ]
    },
    {
     "name": "stderr",
     "output_type": "stream",
     "text": [
      " 98%|█████████████████████████████████████████████████████████████████████████████████████████████████████████████████████████████▎  | 1428/1459 [03:02<00:03,  8.26it/s]"
     ]
    },
    {
     "name": "stdout",
     "output_type": "stream",
     "text": [
      "batch 1426, R-squared: -1.2199586953137942, MAE: 17.70302963256836, RMSE: 23.185882568359375\n",
      "batch 1427, R-squared: -3.931860274134245, MAE: 16.038986206054688, RMSE: 17.862716674804688\n"
     ]
    },
    {
     "name": "stderr",
     "output_type": "stream",
     "text": [
      " 98%|█████████████████████████████████████████████████████████████████████████████████████████████████████████████████████████████▍  | 1430/1459 [03:02<00:03,  8.08it/s]"
     ]
    },
    {
     "name": "stdout",
     "output_type": "stream",
     "text": [
      "batch 1428, R-squared: -2.645737024398068, MAE: 24.382831573486328, RMSE: 27.258285522460938\n",
      "batch 1429, R-squared: -3.399755790408964, MAE: 24.936851501464844, RMSE: 27.27526092529297\n"
     ]
    },
    {
     "name": "stderr",
     "output_type": "stream",
     "text": [
      " 98%|█████████████████████████████████████████████████████████████████████████████████████████████████████████████████████████████▋  | 1432/1459 [03:02<00:03,  8.72it/s]"
     ]
    },
    {
     "name": "stdout",
     "output_type": "stream",
     "text": [
      "batch 1430, R-squared: -2.920858777765394, MAE: 27.220224380493164, RMSE: 29.704059600830078\n",
      "batch 1431, R-squared: -3.357923824919239, MAE: 22.691078186035156, RMSE: 25.21767807006836\n"
     ]
    },
    {
     "name": "stderr",
     "output_type": "stream",
     "text": [
      " 98%|█████████████████████████████████████████████████████████████████████████████████████████████████████████████████████████████▊  | 1434/1459 [03:03<00:02,  8.65it/s]"
     ]
    },
    {
     "name": "stdout",
     "output_type": "stream",
     "text": [
      "batch 1432, R-squared: -2.649338062047193, MAE: 12.983052253723145, RMSE: 15.027780532836914\n",
      "batch 1433, R-squared: -2.5951553083892254, MAE: 24.829069137573242, RMSE: 30.060392379760742\n"
     ]
    },
    {
     "name": "stderr",
     "output_type": "stream",
     "text": [
      " 98%|██████████████████████████████████████████████████████████████████████████████████████████████████████████████████████████████  | 1437/1459 [03:03<00:02,  9.34it/s]"
     ]
    },
    {
     "name": "stdout",
     "output_type": "stream",
     "text": [
      "batch 1434, R-squared: -2.4248294330506837, MAE: 9.678791046142578, RMSE: 11.291009902954102\n",
      "batch 1435, R-squared: -2.9480997090098775, MAE: 22.34337615966797, RMSE: 24.835216522216797\n",
      "batch 1436, R-squared: -2.8584018959123503, MAE: 24.844364166259766, RMSE: 27.225940704345703\n"
     ]
    },
    {
     "name": "stderr",
     "output_type": "stream",
     "text": [
      " 99%|██████████████████████████████████████████████████████████████████████████████████████████████████████████████████████████████▏ | 1439/1459 [03:03<00:02,  8.33it/s]"
     ]
    },
    {
     "name": "stdout",
     "output_type": "stream",
     "text": [
      "batch 1437, R-squared: -2.231226838159553, MAE: 21.096847534179688, RMSE: 22.397878646850586\n",
      "batch 1438, R-squared: -2.4577192616046224, MAE: 22.6905574798584, RMSE: 25.623458862304688\n"
     ]
    },
    {
     "name": "stderr",
     "output_type": "stream",
     "text": [
      " 99%|██████████████████████████████████████████████████████████████████████████████████████████████████████████████████████████████▍ | 1441/1459 [03:04<00:02,  7.63it/s]"
     ]
    },
    {
     "name": "stdout",
     "output_type": "stream",
     "text": [
      "batch 1439, R-squared: -1.8171323415263942, MAE: 25.872055053710938, RMSE: 30.433536529541016\n",
      "batch 1440, R-squared: -2.316772750387781, MAE: 13.654622077941895, RMSE: 16.82456398010254\n"
     ]
    },
    {
     "name": "stderr",
     "output_type": "stream",
     "text": [
      " 99%|██████████████████████████████████████████████████████████████████████████████████████████████████████████████████████████████▌ | 1443/1459 [03:04<00:02,  7.47it/s]"
     ]
    },
    {
     "name": "stdout",
     "output_type": "stream",
     "text": [
      "batch 1441, R-squared: -3.0621519887593034, MAE: 23.078636169433594, RMSE: 25.230955123901367\n",
      "batch 1442, R-squared: -2.1721613908270063, MAE: 27.765213012695312, RMSE: 33.73552322387695\n"
     ]
    },
    {
     "name": "stderr",
     "output_type": "stream",
     "text": [
      " 99%|██████████████████████████████████████████████████████████████████████████████████████████████████████████████████████████████▊ | 1445/1459 [03:04<00:01,  7.31it/s]"
     ]
    },
    {
     "name": "stdout",
     "output_type": "stream",
     "text": [
      "batch 1443, R-squared: -2.200834727359942, MAE: 18.235082626342773, RMSE: 22.229604721069336\n",
      "batch 1444, R-squared: -2.11434952027768, MAE: 18.672565460205078, RMSE: 22.051054000854492\n"
     ]
    },
    {
     "name": "stderr",
     "output_type": "stream",
     "text": [
      " 99%|██████████████████████████████████████████████████████████████████████████████████████████████████████████████████████████████▉ | 1447/1459 [03:04<00:01,  7.37it/s]"
     ]
    },
    {
     "name": "stdout",
     "output_type": "stream",
     "text": [
      "batch 1445, R-squared: -1.343448230984003, MAE: 26.323585510253906, RMSE: 33.54256057739258\n",
      "batch 1446, R-squared: -1.851346750028009, MAE: 15.703397750854492, RMSE: 19.712791442871094\n"
     ]
    },
    {
     "name": "stderr",
     "output_type": "stream",
     "text": [
      " 99%|███████████████████████████████████████████████████████████████████████████████████████████████████████████████████████████████ | 1449/1459 [03:05<00:01,  7.15it/s]"
     ]
    },
    {
     "name": "stdout",
     "output_type": "stream",
     "text": [
      "batch 1447, R-squared: -2.9750205802823024, MAE: 12.690193176269531, RMSE: 14.132143020629883\n",
      "batch 1448, R-squared: -4.04899672841003, MAE: 21.923297882080078, RMSE: 23.23583984375\n"
     ]
    },
    {
     "name": "stderr",
     "output_type": "stream",
     "text": [
      " 99%|███████████████████████████████████████████████████████████████████████████████████████████████████████████████████████████████▎| 1451/1459 [03:05<00:01,  7.85it/s]"
     ]
    },
    {
     "name": "stdout",
     "output_type": "stream",
     "text": [
      "batch 1449, R-squared: -2.2902597694643196, MAE: 20.1776065826416, RMSE: 23.9736328125\n",
      "batch 1450, R-squared: -2.729398148477983, MAE: 35.73712921142578, RMSE: 39.75419235229492\n"
     ]
    },
    {
     "name": "stderr",
     "output_type": "stream",
     "text": [
      "\r",
      "100%|███████████████████████████████████████████████████████████████████████████████████████████████████████████████████████████████▍| 1452/1459 [03:05<00:00,  8.05it/s]"
     ]
    },
    {
     "name": "stdout",
     "output_type": "stream",
     "text": [
      "batch 1451, R-squared: -3.2890324112577733, MAE: 19.60662841796875, RMSE: 21.92485809326172\n",
      "batch 1452, R-squared: -2.3294381740759174, MAE: 19.4300479888916, RMSE: 23.12737464904785\n"
     ]
    },
    {
     "name": "stderr",
     "output_type": "stream",
     "text": [
      "100%|███████████████████████████████████████████████████████████████████████████████████████████████████████████████████████████████▋| 1455/1459 [03:05<00:00,  7.67it/s]"
     ]
    },
    {
     "name": "stdout",
     "output_type": "stream",
     "text": [
      "batch 1453, R-squared: -2.6079928142281226, MAE: 26.240612030029297, RMSE: 28.422428131103516\n",
      "batch 1454, R-squared: -2.698715041158073, MAE: 18.914846420288086, RMSE: 21.572866439819336\n"
     ]
    },
    {
     "name": "stderr",
     "output_type": "stream",
     "text": [
      "\r",
      "100%|███████████████████████████████████████████████████████████████████████████████████████████████████████████████████████████████▊| 1457/1459 [03:06<00:00,  8.36it/s]"
     ]
    },
    {
     "name": "stdout",
     "output_type": "stream",
     "text": [
      "batch 1455, R-squared: -3.0576788819682204, MAE: 24.82203483581543, RMSE: 27.141481399536133\n",
      "batch 1456, R-squared: -3.0636826868915166, MAE: 26.767431259155273, RMSE: 29.54538917541504\n"
     ]
    },
    {
     "name": "stderr",
     "output_type": "stream",
     "text": [
      "100%|████████████████████████████████████████████████████████████████████████████████████████████████████████████████████████████████| 1459/1459 [03:06<00:00,  7.83it/s]\n"
     ]
    },
    {
     "name": "stdout",
     "output_type": "stream",
     "text": [
      "batch 1457, R-squared: -2.782712586220046, MAE: 23.79265594482422, RMSE: 27.477069854736328\n",
      "batch 1458, R-squared: -3.8617220710731655, MAE: 25.830175399780273, RMSE: 28.795026779174805\n",
      "validation loss: 2.893626339718281, R-squared: -2.7570466846967197, MAE: 22.21283531188965, RMSE: 25.330663681030273\n",
      "=====Epoch 1\n",
      "Training...\n"
     ]
    },
    {
     "name": "stderr",
     "output_type": "stream",
     "text": [
      "100%|██████████████████████████████████████████████████████████████████████████████████████████████████████████████████████████████| 13125/13125 [44:58<00:00,  4.86it/s]\n"
     ]
    },
    {
     "name": "stdout",
     "output_type": "stream",
     "text": [
      "epoch 2, loss 2.8459558486938477\n"
     ]
    },
    {
     "name": "stderr",
     "output_type": "stream",
     "text": [
      "  0%|                                                                                                                                   | 1/1459 [00:00<02:31,  9.60it/s]"
     ]
    },
    {
     "name": "stdout",
     "output_type": "stream",
     "text": [
      "batch 0, R-squared: -2.1845471260241203, MAE: 20.955638885498047, RMSE: 23.99907684326172\n"
     ]
    },
    {
     "name": "stderr",
     "output_type": "stream",
     "text": [
      "\r",
      "  0%|▏                                                                                                                                  | 2/1459 [00:00<02:51,  8.49it/s]"
     ]
    },
    {
     "name": "stdout",
     "output_type": "stream",
     "text": [
      "batch 1, R-squared: -2.412346193492957, MAE: 19.554040908813477, RMSE: 22.216781616210938\n"
     ]
    },
    {
     "name": "stderr",
     "output_type": "stream",
     "text": [
      "\r",
      "  0%|▎                                                                                                                                  | 3/1459 [00:00<02:57,  8.20it/s]"
     ]
    },
    {
     "name": "stdout",
     "output_type": "stream",
     "text": [
      "batch 2, R-squared: -2.575016661157034, MAE: 14.625130653381348, RMSE: 18.039039611816406\n"
     ]
    },
    {
     "name": "stderr",
     "output_type": "stream",
     "text": [
      "\r",
      "  0%|▎                                                                                                                                  | 4/1459 [00:00<02:59,  8.10it/s]"
     ]
    },
    {
     "name": "stdout",
     "output_type": "stream",
     "text": [
      "batch 3, R-squared: -1.6607925134262298, MAE: 23.182781219482422, RMSE: 27.13591766357422\n"
     ]
    },
    {
     "name": "stderr",
     "output_type": "stream",
     "text": [
      "\r",
      "  0%|▍                                                                                                                                  | 5/1459 [00:00<02:55,  8.31it/s]"
     ]
    },
    {
     "name": "stdout",
     "output_type": "stream",
     "text": [
      "batch 4, R-squared: -1.841620709694055, MAE: 18.78643035888672, RMSE: 23.120014190673828\n"
     ]
    },
    {
     "name": "stderr",
     "output_type": "stream",
     "text": [
      "\r",
      "  0%|▌                                                                                                                                  | 6/1459 [00:00<02:56,  8.23it/s]"
     ]
    },
    {
     "name": "stdout",
     "output_type": "stream",
     "text": [
      "batch 5, R-squared: -2.6355446380938554, MAE: 26.048616409301758, RMSE: 30.74062728881836\n"
     ]
    },
    {
     "name": "stderr",
     "output_type": "stream",
     "text": [
      "\r",
      "  0%|▋                                                                                                                                  | 7/1459 [00:00<02:49,  8.57it/s]"
     ]
    },
    {
     "name": "stdout",
     "output_type": "stream",
     "text": [
      "batch 6, R-squared: -2.0645689468329653, MAE: 9.591861724853516, RMSE: 11.547030448913574\n"
     ]
    },
    {
     "name": "stderr",
     "output_type": "stream",
     "text": [
      "\r",
      "  1%|▋                                                                                                                                  | 8/1459 [00:00<03:07,  7.74it/s]"
     ]
    },
    {
     "name": "stdout",
     "output_type": "stream",
     "text": [
      "batch 7, R-squared: -1.4140661494541527, MAE: 23.25713348388672, RMSE: 30.01630973815918\n"
     ]
    },
    {
     "name": "stderr",
     "output_type": "stream",
     "text": [
      "\r",
      "  1%|▊                                                                                                                                  | 9/1459 [00:01<03:03,  7.88it/s]"
     ]
    },
    {
     "name": "stdout",
     "output_type": "stream",
     "text": [
      "batch 8, R-squared: -1.5513757662463779, MAE: 25.370349884033203, RMSE: 31.05869483947754\n"
     ]
    },
    {
     "name": "stderr",
     "output_type": "stream",
     "text": [
      "\r",
      "  1%|▉                                                                                                                                 | 10/1459 [00:01<02:59,  8.06it/s]"
     ]
    },
    {
     "name": "stdout",
     "output_type": "stream",
     "text": [
      "batch 9, R-squared: -3.6181869284537655, MAE: 19.30537223815918, RMSE: 21.413414001464844\n"
     ]
    },
    {
     "name": "stderr",
     "output_type": "stream",
     "text": [
      "\r",
      "  1%|▉                                                                                                                                 | 11/1459 [00:01<02:56,  8.20it/s]"
     ]
    },
    {
     "name": "stdout",
     "output_type": "stream",
     "text": [
      "batch 10, R-squared: -2.4945224545857485, MAE: 25.117637634277344, RMSE: 27.488698959350586\n"
     ]
    },
    {
     "name": "stderr",
     "output_type": "stream",
     "text": [
      "\r",
      "  1%|█                                                                                                                                 | 12/1459 [00:01<02:55,  8.27it/s]"
     ]
    },
    {
     "name": "stdout",
     "output_type": "stream",
     "text": [
      "batch 11, R-squared: -1.6470819554363099, MAE: 10.431285858154297, RMSE: 12.559514999389648\n"
     ]
    },
    {
     "name": "stderr",
     "output_type": "stream",
     "text": [
      "\r",
      "  1%|█▏                                                                                                                                | 13/1459 [00:01<03:28,  6.93it/s]"
     ]
    },
    {
     "name": "stdout",
     "output_type": "stream",
     "text": [
      "batch 12, R-squared: -2.6910787294371525, MAE: 9.24803638458252, RMSE: 10.975979804992676\n"
     ]
    },
    {
     "name": "stderr",
     "output_type": "stream",
     "text": [
      "\r",
      "  1%|█▏                                                                                                                                | 14/1459 [00:01<03:27,  6.95it/s]"
     ]
    },
    {
     "name": "stdout",
     "output_type": "stream",
     "text": [
      "batch 13, R-squared: -3.8180812624823712, MAE: 14.978224754333496, RMSE: 15.929428100585938\n"
     ]
    },
    {
     "name": "stderr",
     "output_type": "stream",
     "text": [
      "\r",
      "  1%|█▎                                                                                                                                | 15/1459 [00:01<03:14,  7.43it/s]"
     ]
    },
    {
     "name": "stdout",
     "output_type": "stream",
     "text": [
      "batch 14, R-squared: -1.9189448126807112, MAE: 18.8707332611084, RMSE: 24.447189331054688\n"
     ]
    },
    {
     "name": "stderr",
     "output_type": "stream",
     "text": [
      "\r",
      "  1%|█▍                                                                                                                                | 16/1459 [00:02<03:16,  7.33it/s]"
     ]
    },
    {
     "name": "stdout",
     "output_type": "stream",
     "text": [
      "batch 15, R-squared: -3.27288516919771, MAE: 24.427532196044922, RMSE: 27.34823989868164\n"
     ]
    },
    {
     "name": "stderr",
     "output_type": "stream",
     "text": [
      "\r",
      "  1%|█▌                                                                                                                                | 17/1459 [00:02<03:05,  7.76it/s]"
     ]
    },
    {
     "name": "stdout",
     "output_type": "stream",
     "text": [
      "batch 16, R-squared: -2.5400408671451835, MAE: 11.620893478393555, RMSE: 12.823590278625488\n"
     ]
    },
    {
     "name": "stderr",
     "output_type": "stream",
     "text": [
      "\r",
      "  1%|█▌                                                                                                                                | 18/1459 [00:02<03:05,  7.77it/s]"
     ]
    },
    {
     "name": "stdout",
     "output_type": "stream",
     "text": [
      "batch 17, R-squared: -2.371242598207444, MAE: 16.994022369384766, RMSE: 19.88899803161621\n"
     ]
    },
    {
     "name": "stderr",
     "output_type": "stream",
     "text": [
      "\r",
      "  1%|█▋                                                                                                                                | 19/1459 [00:02<03:07,  7.68it/s]"
     ]
    },
    {
     "name": "stdout",
     "output_type": "stream",
     "text": [
      "batch 18, R-squared: -3.4117477625757715, MAE: 9.197230339050293, RMSE: 10.230788230895996\n"
     ]
    },
    {
     "name": "stderr",
     "output_type": "stream",
     "text": [
      "\r",
      "  1%|█▊                                                                                                                                | 20/1459 [00:02<03:13,  7.45it/s]"
     ]
    },
    {
     "name": "stdout",
     "output_type": "stream",
     "text": [
      "batch 19, R-squared: -3.1326898281404567, MAE: 36.330322265625, RMSE: 39.7567138671875\n"
     ]
    },
    {
     "name": "stderr",
     "output_type": "stream",
     "text": [
      "\r",
      "  1%|█▊                                                                                                                                | 21/1459 [00:02<03:29,  6.86it/s]"
     ]
    },
    {
     "name": "stdout",
     "output_type": "stream",
     "text": [
      "batch 20, R-squared: -2.8337019233681033, MAE: 25.095476150512695, RMSE: 28.124492645263672\n"
     ]
    },
    {
     "name": "stderr",
     "output_type": "stream",
     "text": [
      "\r",
      "  2%|█▉                                                                                                                                | 22/1459 [00:02<03:19,  7.19it/s]"
     ]
    },
    {
     "name": "stdout",
     "output_type": "stream",
     "text": [
      "batch 21, R-squared: -2.6120961084947067, MAE: 30.56993293762207, RMSE: 35.022621154785156\n"
     ]
    },
    {
     "name": "stderr",
     "output_type": "stream",
     "text": [
      "\r",
      "  2%|██                                                                                                                                | 23/1459 [00:03<03:26,  6.95it/s]"
     ]
    },
    {
     "name": "stdout",
     "output_type": "stream",
     "text": [
      "batch 22, R-squared: -2.56741130224443, MAE: 22.730636596679688, RMSE: 26.288118362426758\n"
     ]
    },
    {
     "name": "stderr",
     "output_type": "stream",
     "text": [
      "\r",
      "  2%|██▏                                                                                                                               | 24/1459 [00:03<03:15,  7.35it/s]"
     ]
    },
    {
     "name": "stdout",
     "output_type": "stream",
     "text": [
      "batch 23, R-squared: -2.3457891696229476, MAE: 25.40991973876953, RMSE: 30.135868072509766\n"
     ]
    },
    {
     "name": "stderr",
     "output_type": "stream",
     "text": [
      "\r",
      "  2%|██▏                                                                                                                               | 25/1459 [00:03<03:05,  7.71it/s]"
     ]
    },
    {
     "name": "stdout",
     "output_type": "stream",
     "text": [
      "batch 24, R-squared: -1.8319235381406282, MAE: 17.925167083740234, RMSE: 20.795663833618164\n"
     ]
    },
    {
     "name": "stderr",
     "output_type": "stream",
     "text": [
      "\r",
      "  2%|██▎                                                                                                                               | 26/1459 [00:03<02:53,  8.25it/s]"
     ]
    },
    {
     "name": "stdout",
     "output_type": "stream",
     "text": [
      "batch 25, R-squared: -3.491478597657697, MAE: 28.306411743164062, RMSE: 29.58100128173828\n"
     ]
    },
    {
     "name": "stderr",
     "output_type": "stream",
     "text": [
      "\r",
      "  2%|██▍                                                                                                                               | 27/1459 [00:03<02:51,  8.36it/s]"
     ]
    },
    {
     "name": "stdout",
     "output_type": "stream",
     "text": [
      "batch 26, R-squared: -2.68389315858889, MAE: 10.850910186767578, RMSE: 12.13729476928711\n"
     ]
    },
    {
     "name": "stderr",
     "output_type": "stream",
     "text": [
      "\r",
      "  2%|██▍                                                                                                                               | 28/1459 [00:03<02:48,  8.50it/s]"
     ]
    },
    {
     "name": "stdout",
     "output_type": "stream",
     "text": [
      "batch 27, R-squared: -4.486368557892882, MAE: 25.570314407348633, RMSE: 27.83965301513672\n"
     ]
    },
    {
     "name": "stderr",
     "output_type": "stream",
     "text": [
      "\r",
      "  2%|██▌                                                                                                                               | 29/1459 [00:03<03:15,  7.31it/s]"
     ]
    },
    {
     "name": "stdout",
     "output_type": "stream",
     "text": [
      "batch 28, R-squared: -2.5835720064886463, MAE: 17.008819580078125, RMSE: 19.38691520690918\n"
     ]
    },
    {
     "name": "stderr",
     "output_type": "stream",
     "text": [
      "\r",
      "  2%|██▋                                                                                                                               | 30/1459 [00:03<03:00,  7.90it/s]"
     ]
    },
    {
     "name": "stdout",
     "output_type": "stream",
     "text": [
      "batch 29, R-squared: -3.2245504113263004, MAE: 17.654094696044922, RMSE: 19.80614471435547\n"
     ]
    },
    {
     "name": "stderr",
     "output_type": "stream",
     "text": [
      "\r",
      "  2%|██▊                                                                                                                               | 31/1459 [00:04<03:17,  7.23it/s]"
     ]
    },
    {
     "name": "stdout",
     "output_type": "stream",
     "text": [
      "batch 30, R-squared: -2.274006656302392, MAE: 17.76781463623047, RMSE: 20.475370407104492\n"
     ]
    },
    {
     "name": "stderr",
     "output_type": "stream",
     "text": [
      "\r",
      "  2%|██▊                                                                                                                               | 32/1459 [00:04<03:08,  7.59it/s]"
     ]
    },
    {
     "name": "stdout",
     "output_type": "stream",
     "text": [
      "batch 31, R-squared: -2.3177652156827095, MAE: 13.837503433227539, RMSE: 15.257996559143066\n"
     ]
    },
    {
     "name": "stderr",
     "output_type": "stream",
     "text": [
      "\r",
      "  2%|██▉                                                                                                                               | 33/1459 [00:04<02:59,  7.93it/s]"
     ]
    },
    {
     "name": "stdout",
     "output_type": "stream",
     "text": [
      "batch 32, R-squared: -2.7329950186555974, MAE: 16.4754581451416, RMSE: 18.07688331604004\n"
     ]
    },
    {
     "name": "stderr",
     "output_type": "stream",
     "text": [
      "\r",
      "  2%|███                                                                                                                               | 34/1459 [00:04<02:51,  8.32it/s]"
     ]
    },
    {
     "name": "stdout",
     "output_type": "stream",
     "text": [
      "batch 33, R-squared: -2.6206612272265057, MAE: 19.751880645751953, RMSE: 23.745189666748047\n"
     ]
    },
    {
     "name": "stderr",
     "output_type": "stream",
     "text": [
      "\r",
      "  2%|███                                                                                                                               | 35/1459 [00:04<02:43,  8.71it/s]"
     ]
    },
    {
     "name": "stdout",
     "output_type": "stream",
     "text": [
      "batch 34, R-squared: -1.8308485635810914, MAE: 23.30286979675293, RMSE: 27.502513885498047\n"
     ]
    },
    {
     "name": "stderr",
     "output_type": "stream",
     "text": [
      "\r",
      "  2%|███▏                                                                                                                              | 36/1459 [00:04<02:50,  8.36it/s]"
     ]
    },
    {
     "name": "stdout",
     "output_type": "stream",
     "text": [
      "batch 35, R-squared: -2.1199818522097735, MAE: 20.09996795654297, RMSE: 23.573001861572266\n"
     ]
    },
    {
     "name": "stderr",
     "output_type": "stream",
     "text": [
      "\r",
      "  3%|███▎                                                                                                                              | 37/1459 [00:04<02:58,  7.99it/s]"
     ]
    },
    {
     "name": "stdout",
     "output_type": "stream",
     "text": [
      "batch 36, R-squared: -2.549715404966783, MAE: 23.301464080810547, RMSE: 26.129587173461914\n"
     ]
    },
    {
     "name": "stderr",
     "output_type": "stream",
     "text": [
      "\r",
      "  3%|███▍                                                                                                                              | 38/1459 [00:04<03:09,  7.52it/s]"
     ]
    },
    {
     "name": "stdout",
     "output_type": "stream",
     "text": [
      "batch 37, R-squared: -1.6890306629359289, MAE: 27.920886993408203, RMSE: 35.237709045410156\n"
     ]
    },
    {
     "name": "stderr",
     "output_type": "stream",
     "text": [
      "\r",
      "  3%|███▍                                                                                                                              | 39/1459 [00:05<03:17,  7.20it/s]"
     ]
    },
    {
     "name": "stdout",
     "output_type": "stream",
     "text": [
      "batch 38, R-squared: -2.883330245201585, MAE: 19.19658660888672, RMSE: 21.430307388305664\n"
     ]
    },
    {
     "name": "stderr",
     "output_type": "stream",
     "text": [
      "\r",
      "  3%|███▌                                                                                                                              | 40/1459 [00:05<03:01,  7.83it/s]"
     ]
    },
    {
     "name": "stdout",
     "output_type": "stream",
     "text": [
      "batch 39, R-squared: -2.0015694843339937, MAE: 14.683712005615234, RMSE: 18.28497886657715\n"
     ]
    },
    {
     "name": "stderr",
     "output_type": "stream",
     "text": [
      "\r",
      "  3%|███▋                                                                                                                              | 41/1459 [00:05<03:03,  7.74it/s]"
     ]
    },
    {
     "name": "stdout",
     "output_type": "stream",
     "text": [
      "batch 40, R-squared: -4.326514634322839, MAE: 20.19875144958496, RMSE: 21.473339080810547\n"
     ]
    },
    {
     "name": "stderr",
     "output_type": "stream",
     "text": [
      "\r",
      "  3%|███▋                                                                                                                              | 42/1459 [00:05<03:15,  7.25it/s]"
     ]
    },
    {
     "name": "stdout",
     "output_type": "stream",
     "text": [
      "batch 41, R-squared: -1.751586738680071, MAE: 22.136350631713867, RMSE: 28.252161026000977\n"
     ]
    },
    {
     "name": "stderr",
     "output_type": "stream",
     "text": [
      "\r",
      "  3%|███▊                                                                                                                              | 43/1459 [00:05<03:01,  7.79it/s]"
     ]
    },
    {
     "name": "stdout",
     "output_type": "stream",
     "text": [
      "batch 42, R-squared: -2.829032803956867, MAE: 32.11656188964844, RMSE: 38.28314971923828\n",
      "batch 43, R-squared: -2.314536894048591, MAE: 12.889677047729492, RMSE: 14.542484283447266\n"
     ]
    },
    {
     "name": "stderr",
     "output_type": "stream",
     "text": [
      "  3%|████                                                                                                                              | 46/1459 [00:05<02:50,  8.27it/s]"
     ]
    },
    {
     "name": "stdout",
     "output_type": "stream",
     "text": [
      "batch 44, R-squared: -2.846394824214477, MAE: 13.79604721069336, RMSE: 15.311984062194824\n",
      "batch 45, R-squared: -2.5341625815394444, MAE: 27.209121704101562, RMSE: 31.220535278320312\n"
     ]
    },
    {
     "name": "stderr",
     "output_type": "stream",
     "text": [
      "  3%|████▎                                                                                                                             | 48/1459 [00:06<03:05,  7.61it/s]"
     ]
    },
    {
     "name": "stdout",
     "output_type": "stream",
     "text": [
      "batch 46, R-squared: -3.6683613893708027, MAE: 16.7935791015625, RMSE: 18.796789169311523\n",
      "batch 47, R-squared: -2.90193544953569, MAE: 29.312824249267578, RMSE: 32.44647216796875\n"
     ]
    },
    {
     "name": "stderr",
     "output_type": "stream",
     "text": [
      "  3%|████▍                                                                                                                             | 50/1459 [00:06<03:16,  7.16it/s]"
     ]
    },
    {
     "name": "stdout",
     "output_type": "stream",
     "text": [
      "batch 48, R-squared: -1.809385611080624, MAE: 17.011747360229492, RMSE: 21.49178695678711\n",
      "batch 49, R-squared: -3.3055162893003964, MAE: 25.287046432495117, RMSE: 28.844589233398438\n"
     ]
    },
    {
     "name": "stderr",
     "output_type": "stream",
     "text": [
      "  4%|████▋                                                                                                                             | 52/1459 [00:06<02:58,  7.89it/s]"
     ]
    },
    {
     "name": "stdout",
     "output_type": "stream",
     "text": [
      "batch 50, R-squared: -4.327736103431116, MAE: 23.657638549804688, RMSE: 25.82302474975586\n",
      "batch 51, R-squared: -1.9767565184059919, MAE: 30.26517105102539, RMSE: 38.97205352783203\n"
     ]
    },
    {
     "name": "stderr",
     "output_type": "stream",
     "text": [
      "  4%|████▊                                                                                                                             | 54/1459 [00:06<02:55,  8.02it/s]"
     ]
    },
    {
     "name": "stdout",
     "output_type": "stream",
     "text": [
      "batch 52, R-squared: -1.8758405087857752, MAE: 17.06096649169922, RMSE: 19.057188034057617\n",
      "batch 53, R-squared: -2.439112576994186, MAE: 27.26418685913086, RMSE: 31.502164840698242\n"
     ]
    },
    {
     "name": "stderr",
     "output_type": "stream",
     "text": [
      "  4%|████▉                                                                                                                             | 56/1459 [00:07<02:59,  7.82it/s]"
     ]
    },
    {
     "name": "stdout",
     "output_type": "stream",
     "text": [
      "batch 54, R-squared: -3.1741017333577806, MAE: 23.21474266052246, RMSE: 25.49922752380371\n",
      "batch 55, R-squared: -2.9569444632832473, MAE: 15.541831970214844, RMSE: 16.80429458618164\n"
     ]
    },
    {
     "name": "stderr",
     "output_type": "stream",
     "text": [
      "  4%|█████▏                                                                                                                            | 58/1459 [00:07<03:12,  7.29it/s]"
     ]
    },
    {
     "name": "stdout",
     "output_type": "stream",
     "text": [
      "batch 56, R-squared: -2.514541809603978, MAE: 22.81442642211914, RMSE: 26.08359718322754\n",
      "batch 57, R-squared: -2.6858885101775862, MAE: 28.85433578491211, RMSE: 33.1180534362793\n",
      "batch 58, R-squared: -2.647724843219283, MAE: 24.48126220703125, RMSE: 26.910213470458984\n"
     ]
    },
    {
     "name": "stderr",
     "output_type": "stream",
     "text": [
      "  4%|█████▍                                                                                                                            | 61/1459 [00:07<02:55,  7.98it/s]"
     ]
    },
    {
     "name": "stdout",
     "output_type": "stream",
     "text": [
      "batch 59, R-squared: -2.9372497800225843, MAE: 19.871402740478516, RMSE: 23.448970794677734\n",
      "batch 60, R-squared: -3.8665908037990846, MAE: 21.72900390625, RMSE: 22.87514305114746\n"
     ]
    },
    {
     "name": "stderr",
     "output_type": "stream",
     "text": [
      "  4%|█████▌                                                                                                                            | 63/1459 [00:08<03:17,  7.06it/s]"
     ]
    },
    {
     "name": "stdout",
     "output_type": "stream",
     "text": [
      "batch 61, R-squared: -3.052717427477939, MAE: 28.40239715576172, RMSE: 31.000499725341797\n",
      "batch 62, R-squared: -3.093432938534331, MAE: 24.96765899658203, RMSE: 27.721084594726562\n"
     ]
    },
    {
     "name": "stderr",
     "output_type": "stream",
     "text": [
      "  4%|█████▊                                                                                                                            | 65/1459 [00:08<03:13,  7.22it/s]"
     ]
    },
    {
     "name": "stdout",
     "output_type": "stream",
     "text": [
      "batch 63, R-squared: -1.9926858075069522, MAE: 30.72321891784668, RMSE: 37.01754379272461\n",
      "batch 64, R-squared: -4.888872168740766, MAE: 17.64862823486328, RMSE: 19.020198822021484\n"
     ]
    },
    {
     "name": "stderr",
     "output_type": "stream",
     "text": [
      "  5%|█████▉                                                                                                                            | 67/1459 [00:08<03:07,  7.42it/s]"
     ]
    },
    {
     "name": "stdout",
     "output_type": "stream",
     "text": [
      "batch 65, R-squared: -2.2893677034502122, MAE: 19.390817642211914, RMSE: 22.030044555664062\n",
      "batch 66, R-squared: -3.0661187131260332, MAE: 18.943634033203125, RMSE: 20.73355484008789\n"
     ]
    },
    {
     "name": "stderr",
     "output_type": "stream",
     "text": [
      "  5%|██████▏                                                                                                                           | 69/1459 [00:09<03:09,  7.34it/s]"
     ]
    },
    {
     "name": "stdout",
     "output_type": "stream",
     "text": [
      "batch 67, R-squared: -2.704126489735544, MAE: 21.793521881103516, RMSE: 24.84292984008789\n",
      "batch 68, R-squared: -3.1369572711732845, MAE: 20.566740036010742, RMSE: 22.347679138183594\n"
     ]
    },
    {
     "name": "stderr",
     "output_type": "stream",
     "text": [
      "\r",
      "  5%|██████▎                                                                                                                           | 71/1459 [00:09<02:53,  7.99it/s]"
     ]
    },
    {
     "name": "stdout",
     "output_type": "stream",
     "text": [
      "batch 69, R-squared: -2.008321886526633, MAE: 17.333284378051758, RMSE: 20.61636734008789\n",
      "batch 70, R-squared: -2.834039741669802, MAE: 27.358726501464844, RMSE: 30.655811309814453\n"
     ]
    },
    {
     "name": "stderr",
     "output_type": "stream",
     "text": [
      "  5%|██████▌                                                                                                                           | 74/1459 [00:09<02:30,  9.20it/s]"
     ]
    },
    {
     "name": "stdout",
     "output_type": "stream",
     "text": [
      "batch 71, R-squared: -2.751086729634959, MAE: 25.20513343811035, RMSE: 30.381126403808594\n",
      "batch 72, R-squared: -1.699908184724717, MAE: 21.72275733947754, RMSE: 29.064868927001953\n",
      "batch 73, R-squared: -2.8479282532289227, MAE: 21.647682189941406, RMSE: 24.591466903686523\n"
     ]
    },
    {
     "name": "stderr",
     "output_type": "stream",
     "text": [
      "  5%|██████▊                                                                                                                           | 76/1459 [00:09<02:40,  8.60it/s]"
     ]
    },
    {
     "name": "stdout",
     "output_type": "stream",
     "text": [
      "batch 74, R-squared: -1.9663127896344395, MAE: 32.04866409301758, RMSE: 39.09762191772461\n",
      "batch 75, R-squared: -3.9131611532182786, MAE: 29.857694625854492, RMSE: 32.86262130737305\n"
     ]
    },
    {
     "name": "stderr",
     "output_type": "stream",
     "text": [
      "  5%|██████▉                                                                                                                           | 78/1459 [00:10<03:07,  7.38it/s]"
     ]
    },
    {
     "name": "stdout",
     "output_type": "stream",
     "text": [
      "batch 76, R-squared: -2.2886998950665722, MAE: 17.617576599121094, RMSE: 22.05343246459961\n",
      "batch 77, R-squared: -2.466735332494877, MAE: 15.875388145446777, RMSE: 18.6654052734375\n"
     ]
    },
    {
     "name": "stderr",
     "output_type": "stream",
     "text": [
      "  6%|███████▏                                                                                                                          | 81/1459 [00:10<02:47,  8.21it/s]"
     ]
    },
    {
     "name": "stdout",
     "output_type": "stream",
     "text": [
      "batch 78, R-squared: -3.2140302951241617, MAE: 26.51508903503418, RMSE: 28.250694274902344\n",
      "batch 79, R-squared: -2.460722681150041, MAE: 21.293437957763672, RMSE: 24.129131317138672\n",
      "batch 80, R-squared: -3.2367119987730963, MAE: 21.60730743408203, RMSE: 24.113994598388672\n"
     ]
    },
    {
     "name": "stderr",
     "output_type": "stream",
     "text": [
      "  6%|███████▍                                                                                                                          | 83/1459 [00:10<02:56,  7.78it/s]"
     ]
    },
    {
     "name": "stdout",
     "output_type": "stream",
     "text": [
      "batch 81, R-squared: -3.969709144533053, MAE: 19.605518341064453, RMSE: 21.227853775024414\n",
      "batch 82, R-squared: -2.120716138426295, MAE: 14.021291732788086, RMSE: 16.113319396972656\n"
     ]
    },
    {
     "name": "stderr",
     "output_type": "stream",
     "text": [
      "  6%|███████▌                                                                                                                          | 85/1459 [00:10<02:49,  8.12it/s]"
     ]
    },
    {
     "name": "stdout",
     "output_type": "stream",
     "text": [
      "batch 83, R-squared: -3.029881708189827, MAE: 23.552175521850586, RMSE: 26.873823165893555\n",
      "batch 84, R-squared: -3.132834573411385, MAE: 26.86514663696289, RMSE: 30.39065933227539\n"
     ]
    },
    {
     "name": "stderr",
     "output_type": "stream",
     "text": [
      "  6%|███████▊                                                                                                                          | 87/1459 [00:11<02:47,  8.21it/s]"
     ]
    },
    {
     "name": "stdout",
     "output_type": "stream",
     "text": [
      "batch 85, R-squared: -3.6958305173090515, MAE: 15.223159790039062, RMSE: 17.441648483276367\n",
      "batch 86, R-squared: -2.4011586593189387, MAE: 20.97708511352539, RMSE: 22.216617584228516\n"
     ]
    },
    {
     "name": "stderr",
     "output_type": "stream",
     "text": [
      "  6%|███████▉                                                                                                                          | 89/1459 [00:11<02:38,  8.65it/s]"
     ]
    },
    {
     "name": "stdout",
     "output_type": "stream",
     "text": [
      "batch 87, R-squared: -1.9418198681143937, MAE: 20.00111198425293, RMSE: 22.82143783569336\n",
      "batch 88, R-squared: -2.616970152011558, MAE: 24.142656326293945, RMSE: 25.967731475830078\n"
     ]
    },
    {
     "name": "stderr",
     "output_type": "stream",
     "text": [
      "  6%|████████                                                                                                                          | 91/1459 [00:11<02:48,  8.13it/s]"
     ]
    },
    {
     "name": "stdout",
     "output_type": "stream",
     "text": [
      "batch 89, R-squared: -2.1779633884503995, MAE: 16.220094680786133, RMSE: 17.853500366210938\n",
      "batch 90, R-squared: -2.609604182248226, MAE: 26.470108032226562, RMSE: 31.0186767578125\n"
     ]
    },
    {
     "name": "stderr",
     "output_type": "stream",
     "text": [
      "  6%|████████▎                                                                                                                         | 93/1459 [00:11<02:41,  8.44it/s]"
     ]
    },
    {
     "name": "stdout",
     "output_type": "stream",
     "text": [
      "batch 91, R-squared: -1.4465513616073098, MAE: 13.387594223022461, RMSE: 16.777341842651367\n",
      "batch 92, R-squared: -2.554222414434253, MAE: 17.433673858642578, RMSE: 20.060531616210938\n"
     ]
    },
    {
     "name": "stderr",
     "output_type": "stream",
     "text": [
      "  7%|████████▍                                                                                                                         | 95/1459 [00:12<02:42,  8.38it/s]"
     ]
    },
    {
     "name": "stdout",
     "output_type": "stream",
     "text": [
      "batch 93, R-squared: -2.55868065978418, MAE: 16.80928611755371, RMSE: 19.50851058959961\n",
      "batch 94, R-squared: -2.7692815689047046, MAE: 26.10320281982422, RMSE: 28.183910369873047\n"
     ]
    },
    {
     "name": "stderr",
     "output_type": "stream",
     "text": [
      "  7%|████████▋                                                                                                                         | 97/1459 [00:12<02:39,  8.56it/s]"
     ]
    },
    {
     "name": "stdout",
     "output_type": "stream",
     "text": [
      "batch 95, R-squared: -1.1900314499009372, MAE: 23.379671096801758, RMSE: 31.841129302978516\n",
      "batch 96, R-squared: -2.7972111657198986, MAE: 25.191938400268555, RMSE: 29.190940856933594\n"
     ]
    },
    {
     "name": "stderr",
     "output_type": "stream",
     "text": [
      "  7%|████████▊                                                                                                                         | 99/1459 [00:12<02:35,  8.72it/s]"
     ]
    },
    {
     "name": "stdout",
     "output_type": "stream",
     "text": [
      "batch 97, R-squared: -2.1495822685301205, MAE: 24.332653045654297, RMSE: 26.843929290771484\n",
      "batch 98, R-squared: -3.8909455982513137, MAE: 24.47136688232422, RMSE: 27.367706298828125\n"
     ]
    },
    {
     "name": "stderr",
     "output_type": "stream",
     "text": [
      "  7%|████████▉                                                                                                                        | 101/1459 [00:12<02:53,  7.83it/s]"
     ]
    },
    {
     "name": "stdout",
     "output_type": "stream",
     "text": [
      "batch 99, R-squared: -3.1367582053205325, MAE: 25.495380401611328, RMSE: 28.579757690429688\n",
      "batch 100, R-squared: -2.227694344198965, MAE: 13.894845008850098, RMSE: 16.20170783996582\n"
     ]
    },
    {
     "name": "stderr",
     "output_type": "stream",
     "text": [
      "  7%|█████████                                                                                                                        | 103/1459 [00:13<03:02,  7.44it/s]"
     ]
    },
    {
     "name": "stdout",
     "output_type": "stream",
     "text": [
      "batch 101, R-squared: -3.3142827644419226, MAE: 22.104156494140625, RMSE: 23.171916961669922\n",
      "batch 102, R-squared: -2.5451425052758143, MAE: 18.263994216918945, RMSE: 20.682891845703125\n"
     ]
    },
    {
     "name": "stderr",
     "output_type": "stream",
     "text": [
      "  7%|█████████▎                                                                                                                       | 106/1459 [00:13<02:40,  8.44it/s]"
     ]
    },
    {
     "name": "stdout",
     "output_type": "stream",
     "text": [
      "batch 103, R-squared: -3.0957127278143246, MAE: 20.438865661621094, RMSE: 21.986337661743164\n",
      "batch 104, R-squared: -3.382707497866443, MAE: 27.353933334350586, RMSE: 28.480255126953125\n",
      "batch 105, R-squared: -2.2840320430489154, MAE: 14.630189895629883, RMSE: 16.409433364868164\n"
     ]
    },
    {
     "name": "stderr",
     "output_type": "stream",
     "text": [
      "\r",
      "  7%|█████████▌                                                                                                                       | 108/1459 [00:13<02:33,  8.83it/s]"
     ]
    },
    {
     "name": "stdout",
     "output_type": "stream",
     "text": [
      "batch 106, R-squared: -3.5500555352786805, MAE: 38.706275939941406, RMSE: 41.2733154296875\n",
      "batch 107, R-squared: -2.587277260616459, MAE: 18.539358139038086, RMSE: 20.997241973876953\n"
     ]
    },
    {
     "name": "stderr",
     "output_type": "stream",
     "text": [
      "  8%|█████████▊                                                                                                                       | 111/1459 [00:14<02:22,  9.46it/s]"
     ]
    },
    {
     "name": "stdout",
     "output_type": "stream",
     "text": [
      "batch 108, R-squared: -2.6780755111700874, MAE: 27.409948348999023, RMSE: 33.124053955078125\n",
      "batch 109, R-squared: -2.0218150461140145, MAE: 24.908689498901367, RMSE: 30.26214027404785\n",
      "batch 110, R-squared: -2.483163812259856, MAE: 20.008710861206055, RMSE: 22.661897659301758\n"
     ]
    },
    {
     "name": "stderr",
     "output_type": "stream",
     "text": [
      "  8%|█████████▉                                                                                                                       | 113/1459 [00:14<02:27,  9.10it/s]"
     ]
    },
    {
     "name": "stdout",
     "output_type": "stream",
     "text": [
      "batch 111, R-squared: -2.7465107418956896, MAE: 26.328590393066406, RMSE: 29.69001007080078\n",
      "batch 112, R-squared: -2.771033600763671, MAE: 24.340312957763672, RMSE: 27.963237762451172\n"
     ]
    },
    {
     "name": "stderr",
     "output_type": "stream",
     "text": [
      "  8%|██████████▏                                                                                                                      | 115/1459 [00:14<02:39,  8.44it/s]"
     ]
    },
    {
     "name": "stdout",
     "output_type": "stream",
     "text": [
      "batch 113, R-squared: -2.690481804010458, MAE: 17.51138687133789, RMSE: 19.259143829345703\n",
      "batch 114, R-squared: -3.1512015633270707, MAE: 36.464107513427734, RMSE: 38.12040710449219\n"
     ]
    },
    {
     "name": "stderr",
     "output_type": "stream",
     "text": [
      "  8%|██████████▎                                                                                                                      | 117/1459 [00:14<02:43,  8.19it/s]"
     ]
    },
    {
     "name": "stdout",
     "output_type": "stream",
     "text": [
      "batch 115, R-squared: -2.223060453269854, MAE: 31.645519256591797, RMSE: 37.11139678955078\n",
      "batch 116, R-squared: -2.337643480639544, MAE: 25.216251373291016, RMSE: 26.898923873901367\n"
     ]
    },
    {
     "name": "stderr",
     "output_type": "stream",
     "text": [
      "\r",
      "  8%|██████████▍                                                                                                                      | 118/1459 [00:14<02:40,  8.35it/s]"
     ]
    },
    {
     "name": "stdout",
     "output_type": "stream",
     "text": [
      "batch 117, R-squared: -3.0802076058846315, MAE: 27.692058563232422, RMSE: 31.064659118652344\n",
      "batch 118, R-squared: -1.0712190630321934, MAE: 20.759639739990234, RMSE: 28.20587158203125\n"
     ]
    },
    {
     "name": "stderr",
     "output_type": "stream",
     "text": [
      "  8%|██████████▋                                                                                                                      | 121/1459 [00:15<02:34,  8.65it/s]"
     ]
    },
    {
     "name": "stdout",
     "output_type": "stream",
     "text": [
      "batch 119, R-squared: -3.4242339505244415, MAE: 31.866477966308594, RMSE: 36.538475036621094\n",
      "batch 120, R-squared: -2.01263299338258, MAE: 24.508689880371094, RMSE: 26.470104217529297\n"
     ]
    },
    {
     "name": "stderr",
     "output_type": "stream",
     "text": [
      "  8%|██████████▉                                                                                                                      | 123/1459 [00:15<02:43,  8.16it/s]"
     ]
    },
    {
     "name": "stdout",
     "output_type": "stream",
     "text": [
      "batch 121, R-squared: -3.0957365565035433, MAE: 16.76340675354004, RMSE: 19.48993492126465\n",
      "batch 122, R-squared: -3.5322921868167474, MAE: 33.02205276489258, RMSE: 36.346012115478516\n"
     ]
    },
    {
     "name": "stderr",
     "output_type": "stream",
     "text": [
      "  9%|███████████                                                                                                                      | 125/1459 [00:15<02:59,  7.42it/s]"
     ]
    },
    {
     "name": "stdout",
     "output_type": "stream",
     "text": [
      "batch 123, R-squared: -1.934840365365462, MAE: 14.819690704345703, RMSE: 17.801462173461914\n",
      "batch 124, R-squared: -2.344229353925546, MAE: 23.419212341308594, RMSE: 28.08402442932129\n"
     ]
    },
    {
     "name": "stderr",
     "output_type": "stream",
     "text": [
      "  9%|███████████▎                                                                                                                     | 128/1459 [00:16<02:32,  8.75it/s]"
     ]
    },
    {
     "name": "stdout",
     "output_type": "stream",
     "text": [
      "batch 125, R-squared: -2.4377244819151134, MAE: 16.609949111938477, RMSE: 19.151643753051758\n",
      "batch 126, R-squared: -2.2343079706632634, MAE: 23.5919189453125, RMSE: 27.10517120361328\n",
      "batch 127, R-squared: -3.9782529720574127, MAE: 17.621360778808594, RMSE: 18.95108413696289\n"
     ]
    },
    {
     "name": "stderr",
     "output_type": "stream",
     "text": [
      "\r",
      "  9%|███████████▍                                                                                                                     | 129/1459 [00:16<02:43,  8.13it/s]"
     ]
    },
    {
     "name": "stdout",
     "output_type": "stream",
     "text": [
      "batch 128, R-squared: -2.7279074195327935, MAE: 18.891124725341797, RMSE: 20.752979278564453\n",
      "batch 129, R-squared: -2.2996539545733468, MAE: 34.522605895996094, RMSE: 42.7513542175293\n"
     ]
    },
    {
     "name": "stderr",
     "output_type": "stream",
     "text": [
      "  9%|███████████▋                                                                                                                     | 132/1459 [00:16<02:56,  7.54it/s]"
     ]
    },
    {
     "name": "stdout",
     "output_type": "stream",
     "text": [
      "batch 130, R-squared: -3.3241427063870868, MAE: 27.901119232177734, RMSE: 30.2224063873291\n",
      "batch 131, R-squared: -1.9654312788362538, MAE: 32.27185821533203, RMSE: 38.546470642089844\n"
     ]
    },
    {
     "name": "stderr",
     "output_type": "stream",
     "text": [
      "  9%|███████████▊                                                                                                                     | 134/1459 [00:16<02:52,  7.69it/s]"
     ]
    },
    {
     "name": "stdout",
     "output_type": "stream",
     "text": [
      "batch 132, R-squared: -2.992167663384688, MAE: 28.344032287597656, RMSE: 30.750171661376953\n",
      "batch 133, R-squared: -2.8102808591143473, MAE: 15.03089427947998, RMSE: 17.060752868652344\n"
     ]
    },
    {
     "name": "stderr",
     "output_type": "stream",
     "text": [
      "  9%|████████████                                                                                                                     | 137/1459 [00:17<02:18,  9.52it/s]"
     ]
    },
    {
     "name": "stdout",
     "output_type": "stream",
     "text": [
      "batch 134, R-squared: -3.6898481965174295, MAE: 25.83338165283203, RMSE: 29.429025650024414\n",
      "batch 135, R-squared: -3.617789388016122, MAE: 23.670740127563477, RMSE: 25.9469051361084\n",
      "batch 136, R-squared: -2.9440992608056247, MAE: 19.64327621459961, RMSE: 21.5478515625\n"
     ]
    },
    {
     "name": "stderr",
     "output_type": "stream",
     "text": [
      " 10%|████████████▎                                                                                                                    | 139/1459 [00:17<02:24,  9.11it/s]"
     ]
    },
    {
     "name": "stdout",
     "output_type": "stream",
     "text": [
      "batch 137, R-squared: -3.999158230322424, MAE: 22.774444580078125, RMSE: 24.22822380065918\n",
      "batch 138, R-squared: -2.1225445785084047, MAE: 20.506420135498047, RMSE: 23.998682022094727\n"
     ]
    },
    {
     "name": "stderr",
     "output_type": "stream",
     "text": [
      " 10%|████████████▍                                                                                                                    | 141/1459 [00:17<02:35,  8.46it/s]"
     ]
    },
    {
     "name": "stdout",
     "output_type": "stream",
     "text": [
      "batch 139, R-squared: -3.594207511883072, MAE: 26.753055572509766, RMSE: 28.9949893951416\n",
      "batch 140, R-squared: -1.9227803259470089, MAE: 15.130630493164062, RMSE: 17.70427703857422\n"
     ]
    },
    {
     "name": "stderr",
     "output_type": "stream",
     "text": [
      " 10%|████████████▋                                                                                                                    | 143/1459 [00:17<02:39,  8.25it/s]"
     ]
    },
    {
     "name": "stdout",
     "output_type": "stream",
     "text": [
      "batch 141, R-squared: -2.2668408680502607, MAE: 15.981256484985352, RMSE: 19.38804054260254\n",
      "batch 142, R-squared: -2.263650615946264, MAE: 19.450754165649414, RMSE: 23.575927734375\n"
     ]
    },
    {
     "name": "stderr",
     "output_type": "stream",
     "text": [
      " 10%|████████████▊                                                                                                                    | 145/1459 [00:18<02:47,  7.83it/s]"
     ]
    },
    {
     "name": "stdout",
     "output_type": "stream",
     "text": [
      "batch 143, R-squared: -2.9153452073588193, MAE: 19.41485595703125, RMSE: 21.470081329345703\n",
      "batch 144, R-squared: -2.6779415863360216, MAE: 19.600847244262695, RMSE: 21.657901763916016\n"
     ]
    },
    {
     "name": "stderr",
     "output_type": "stream",
     "text": [
      " 10%|████████████▉                                                                                                                    | 147/1459 [00:18<03:11,  6.86it/s]"
     ]
    },
    {
     "name": "stdout",
     "output_type": "stream",
     "text": [
      "batch 145, R-squared: -2.452445752885556, MAE: 17.5383358001709, RMSE: 20.526010513305664\n",
      "batch 146, R-squared: -2.488946523815745, MAE: 26.75172233581543, RMSE: 30.56546974182129\n"
     ]
    },
    {
     "name": "stderr",
     "output_type": "stream",
     "text": [
      " 10%|█████████████▎                                                                                                                   | 150/1459 [00:18<02:37,  8.31it/s]"
     ]
    },
    {
     "name": "stdout",
     "output_type": "stream",
     "text": [
      "batch 147, R-squared: -1.8756833253344913, MAE: 16.11392593383789, RMSE: 19.410022735595703\n",
      "batch 148, R-squared: -3.7045768887499166, MAE: 52.34290313720703, RMSE: 53.43424987792969\n",
      "batch 149, R-squared: -3.610970054016045, MAE: 13.766231536865234, RMSE: 15.026416778564453\n"
     ]
    },
    {
     "name": "stderr",
     "output_type": "stream",
     "text": [
      " 10%|█████████████▍                                                                                                                   | 152/1459 [00:19<02:47,  7.81it/s]"
     ]
    },
    {
     "name": "stdout",
     "output_type": "stream",
     "text": [
      "batch 150, R-squared: -2.5397507154240566, MAE: 24.224246978759766, RMSE: 28.284605026245117\n",
      "batch 151, R-squared: -2.187655208202952, MAE: 29.637147903442383, RMSE: 36.22946548461914\n"
     ]
    },
    {
     "name": "stderr",
     "output_type": "stream",
     "text": [
      " 11%|█████████████▌                                                                                                                   | 154/1459 [00:19<02:39,  8.18it/s]"
     ]
    },
    {
     "name": "stdout",
     "output_type": "stream",
     "text": [
      "batch 152, R-squared: -3.059731509968769, MAE: 22.438846588134766, RMSE: 25.548934936523438\n",
      "batch 153, R-squared: -3.480872007644464, MAE: 16.18378257751465, RMSE: 17.62383460998535\n"
     ]
    },
    {
     "name": "stderr",
     "output_type": "stream",
     "text": [
      " 11%|█████████████▊                                                                                                                   | 156/1459 [00:19<02:36,  8.35it/s]"
     ]
    },
    {
     "name": "stdout",
     "output_type": "stream",
     "text": [
      "batch 154, R-squared: -2.3229753332626313, MAE: 16.63867950439453, RMSE: 17.95740509033203\n",
      "batch 155, R-squared: -2.518313441824545, MAE: 15.864860534667969, RMSE: 17.74979591369629\n"
     ]
    },
    {
     "name": "stderr",
     "output_type": "stream",
     "text": [
      "\r",
      " 11%|█████████████▉                                                                                                                   | 157/1459 [00:19<03:13,  6.74it/s]"
     ]
    },
    {
     "name": "stdout",
     "output_type": "stream",
     "text": [
      "batch 156, R-squared: -2.8908711188635543, MAE: 15.785511016845703, RMSE: 17.495098114013672\n"
     ]
    },
    {
     "name": "stderr",
     "output_type": "stream",
     "text": [
      " 11%|██████████████                                                                                                                   | 159/1459 [00:20<03:28,  6.25it/s]"
     ]
    },
    {
     "name": "stdout",
     "output_type": "stream",
     "text": [
      "batch 157, R-squared: -2.348086256855531, MAE: 15.5755033493042, RMSE: 18.95261001586914\n",
      "batch 158, R-squared: -2.4662863993449173, MAE: 19.58389663696289, RMSE: 21.12114143371582\n"
     ]
    },
    {
     "name": "stderr",
     "output_type": "stream",
     "text": [
      "\r",
      " 11%|██████████████▏                                                                                                                  | 160/1459 [00:20<03:17,  6.57it/s]"
     ]
    },
    {
     "name": "stdout",
     "output_type": "stream",
     "text": [
      "batch 159, R-squared: -3.6659261492665496, MAE: 19.27518653869629, RMSE: 20.588918685913086\n",
      "batch 160, R-squared: -2.71715433088822, MAE: 28.98975372314453, RMSE: 32.474388122558594\n"
     ]
    },
    {
     "name": "stderr",
     "output_type": "stream",
     "text": [
      " 11%|██████████████▍                                                                                                                  | 163/1459 [00:20<02:45,  7.83it/s]"
     ]
    },
    {
     "name": "stdout",
     "output_type": "stream",
     "text": [
      "batch 161, R-squared: -2.9014210596243983, MAE: 25.799589157104492, RMSE: 28.478105545043945\n",
      "batch 162, R-squared: -2.3058409893555356, MAE: 25.04754638671875, RMSE: 29.555200576782227\n"
     ]
    },
    {
     "name": "stderr",
     "output_type": "stream",
     "text": [
      " 11%|██████████████▌                                                                                                                  | 165/1459 [00:20<02:33,  8.42it/s]"
     ]
    },
    {
     "name": "stdout",
     "output_type": "stream",
     "text": [
      "batch 163, R-squared: -3.588155851749563, MAE: 21.47047233581543, RMSE: 24.392518997192383\n",
      "batch 164, R-squared: -3.8500540601131195, MAE: 32.25843811035156, RMSE: 34.17168045043945\n"
     ]
    },
    {
     "name": "stderr",
     "output_type": "stream",
     "text": [
      " 11%|██████████████▊                                                                                                                  | 167/1459 [00:21<02:36,  8.27it/s]"
     ]
    },
    {
     "name": "stdout",
     "output_type": "stream",
     "text": [
      "batch 165, R-squared: -1.6605868386531004, MAE: 15.842315673828125, RMSE: 19.45944595336914\n",
      "batch 166, R-squared: -2.729459942810058, MAE: 21.892845153808594, RMSE: 23.808330535888672\n"
     ]
    },
    {
     "name": "stderr",
     "output_type": "stream",
     "text": [
      " 12%|██████████████▉                                                                                                                  | 169/1459 [00:21<02:54,  7.40it/s]"
     ]
    },
    {
     "name": "stdout",
     "output_type": "stream",
     "text": [
      "batch 167, R-squared: -1.6308364976562175, MAE: 17.227916717529297, RMSE: 21.845260620117188\n",
      "batch 168, R-squared: -2.688299445935165, MAE: 13.507746696472168, RMSE: 15.413765907287598\n"
     ]
    },
    {
     "name": "stderr",
     "output_type": "stream",
     "text": [
      " 12%|███████████████                                                                                                                  | 171/1459 [00:21<02:44,  7.82it/s]"
     ]
    },
    {
     "name": "stdout",
     "output_type": "stream",
     "text": [
      "batch 169, R-squared: -2.926286571795244, MAE: 26.81127166748047, RMSE: 30.846782684326172\n",
      "batch 170, R-squared: -3.5742985585619356, MAE: 13.97271728515625, RMSE: 15.221050262451172\n"
     ]
    },
    {
     "name": "stderr",
     "output_type": "stream",
     "text": [
      " 12%|███████████████▎                                                                                                                 | 173/1459 [00:21<02:43,  7.87it/s]"
     ]
    },
    {
     "name": "stdout",
     "output_type": "stream",
     "text": [
      "batch 171, R-squared: -2.8210465613327598, MAE: 15.510049819946289, RMSE: 17.32573127746582\n",
      "batch 172, R-squared: -3.281765561379359, MAE: 24.01062774658203, RMSE: 27.2177791595459\n"
     ]
    },
    {
     "name": "stderr",
     "output_type": "stream",
     "text": [
      " 12%|███████████████▌                                                                                                                 | 176/1459 [00:22<02:22,  9.01it/s]"
     ]
    },
    {
     "name": "stdout",
     "output_type": "stream",
     "text": [
      "batch 173, R-squared: -3.318020339611951, MAE: 28.685821533203125, RMSE: 30.149181365966797\n",
      "batch 174, R-squared: -3.511317351384576, MAE: 22.498626708984375, RMSE: 25.669572830200195\n",
      "batch 175, R-squared: -2.6578007528346594, MAE: 22.628955841064453, RMSE: 28.162988662719727\n"
     ]
    },
    {
     "name": "stderr",
     "output_type": "stream",
     "text": [
      " 12%|███████████████▊                                                                                                                 | 179/1459 [00:22<02:12,  9.63it/s]"
     ]
    },
    {
     "name": "stdout",
     "output_type": "stream",
     "text": [
      "batch 176, R-squared: -3.128858035205595, MAE: 22.98711585998535, RMSE: 25.47063636779785\n",
      "batch 177, R-squared: -2.1215719233112726, MAE: 19.695037841796875, RMSE: 23.655977249145508\n",
      "batch 178, R-squared: -2.8481311362519888, MAE: 17.526308059692383, RMSE: 20.206478118896484\n"
     ]
    },
    {
     "name": "stderr",
     "output_type": "stream",
     "text": [
      " 12%|████████████████                                                                                                                 | 181/1459 [00:22<02:30,  8.49it/s]"
     ]
    },
    {
     "name": "stdout",
     "output_type": "stream",
     "text": [
      "batch 179, R-squared: -2.7115051075913437, MAE: 28.46863555908203, RMSE: 31.01578140258789\n",
      "batch 180, R-squared: -4.506337261389372, MAE: 18.84457015991211, RMSE: 20.445724487304688\n"
     ]
    },
    {
     "name": "stderr",
     "output_type": "stream",
     "text": [
      " 13%|████████████████▏                                                                                                                | 183/1459 [00:23<02:31,  8.40it/s]"
     ]
    },
    {
     "name": "stdout",
     "output_type": "stream",
     "text": [
      "batch 181, R-squared: -1.3209807842956418, MAE: 17.049144744873047, RMSE: 23.050844192504883\n",
      "batch 182, R-squared: -3.099290681256695, MAE: 15.580533027648926, RMSE: 16.66179656982422\n"
     ]
    },
    {
     "name": "stderr",
     "output_type": "stream",
     "text": [
      "\r",
      " 13%|████████████████▎                                                                                                                | 185/1459 [00:23<02:19,  9.14it/s]"
     ]
    },
    {
     "name": "stdout",
     "output_type": "stream",
     "text": [
      "batch 183, R-squared: -2.5964999207297197, MAE: 16.929105758666992, RMSE: 19.3454647064209\n",
      "batch 184, R-squared: -3.4745228395710184, MAE: 36.55671310424805, RMSE: 40.51569366455078\n",
      "batch 185, R-squared: -2.341773046489364, MAE: 16.88779640197754, RMSE: 18.941184997558594\n"
     ]
    },
    {
     "name": "stderr",
     "output_type": "stream",
     "text": [
      " 13%|████████████████▌                                                                                                                | 188/1459 [00:23<02:12,  9.61it/s]"
     ]
    },
    {
     "name": "stdout",
     "output_type": "stream",
     "text": [
      "batch 186, R-squared: -2.3330240710342514, MAE: 22.97611427307129, RMSE: 26.979496002197266\n",
      "batch 187, R-squared: -3.227262687054238, MAE: 17.12417221069336, RMSE: 18.582895278930664\n"
     ]
    },
    {
     "name": "stderr",
     "output_type": "stream",
     "text": [
      " 13%|████████████████▊                                                                                                                | 190/1459 [00:23<02:13,  9.54it/s]"
     ]
    },
    {
     "name": "stdout",
     "output_type": "stream",
     "text": [
      "batch 188, R-squared: -2.99323576892282, MAE: 20.879039764404297, RMSE: 22.406904220581055\n",
      "batch 189, R-squared: -2.6276464762296055, MAE: 26.215993881225586, RMSE: 29.062705993652344\n"
     ]
    },
    {
     "name": "stderr",
     "output_type": "stream",
     "text": [
      " 13%|████████████████▉                                                                                                                | 192/1459 [00:23<02:25,  8.71it/s]"
     ]
    },
    {
     "name": "stdout",
     "output_type": "stream",
     "text": [
      "batch 190, R-squared: -1.8215790121510236, MAE: 29.271839141845703, RMSE: 37.73863983154297\n",
      "batch 191, R-squared: -2.8719235838132127, MAE: 20.222002029418945, RMSE: 22.411632537841797\n"
     ]
    },
    {
     "name": "stderr",
     "output_type": "stream",
     "text": [
      " 13%|█████████████████▏                                                                                                               | 195/1459 [00:24<02:11,  9.60it/s]"
     ]
    },
    {
     "name": "stdout",
     "output_type": "stream",
     "text": [
      "batch 192, R-squared: -3.1048654223309953, MAE: 15.035152435302734, RMSE: 16.68203353881836\n",
      "batch 193, R-squared: -3.604412605858893, MAE: 19.394691467285156, RMSE: 20.518474578857422\n",
      "batch 194, R-squared: -2.4201749355113233, MAE: 18.564483642578125, RMSE: 20.50515365600586\n"
     ]
    },
    {
     "name": "stderr",
     "output_type": "stream",
     "text": [
      "\r",
      " 14%|█████████████████▍                                                                                                               | 197/1459 [00:24<02:11,  9.62it/s]"
     ]
    },
    {
     "name": "stdout",
     "output_type": "stream",
     "text": [
      "batch 195, R-squared: -2.9797727366805553, MAE: 16.90704917907715, RMSE: 18.618545532226562\n",
      "batch 196, R-squared: -2.5294437388516524, MAE: 25.274974822998047, RMSE: 28.485565185546875\n"
     ]
    },
    {
     "name": "stderr",
     "output_type": "stream",
     "text": [
      " 14%|█████████████████▌                                                                                                               | 199/1459 [00:24<02:28,  8.50it/s]"
     ]
    },
    {
     "name": "stdout",
     "output_type": "stream",
     "text": [
      "batch 197, R-squared: -2.566378351597522, MAE: 31.39822769165039, RMSE: 34.64022445678711\n",
      "batch 198, R-squared: -1.8019137769978046, MAE: 15.162175178527832, RMSE: 18.588504791259766\n"
     ]
    },
    {
     "name": "stderr",
     "output_type": "stream",
     "text": [
      " 14%|█████████████████▊                                                                                                               | 201/1459 [00:24<02:32,  8.26it/s]"
     ]
    },
    {
     "name": "stdout",
     "output_type": "stream",
     "text": [
      "batch 199, R-squared: -1.9148254416689765, MAE: 21.36786651611328, RMSE: 26.743913650512695\n",
      "batch 200, R-squared: -2.645160654238215, MAE: 23.827301025390625, RMSE: 27.832490921020508\n"
     ]
    },
    {
     "name": "stderr",
     "output_type": "stream",
     "text": [
      " 14%|██████████████████                                                                                                               | 204/1459 [00:25<02:13,  9.42it/s]"
     ]
    },
    {
     "name": "stdout",
     "output_type": "stream",
     "text": [
      "batch 201, R-squared: -2.133032036977609, MAE: 21.386890411376953, RMSE: 24.915058135986328\n",
      "batch 202, R-squared: -4.094845527891457, MAE: 23.931053161621094, RMSE: 25.52037811279297\n",
      "batch 203, R-squared: -3.837537285049737, MAE: 18.931427001953125, RMSE: 20.456539154052734\n"
     ]
    },
    {
     "name": "stderr",
     "output_type": "stream",
     "text": [
      "\r",
      " 14%|██████████████████▏                                                                                                              | 206/1459 [00:25<02:14,  9.34it/s]"
     ]
    },
    {
     "name": "stdout",
     "output_type": "stream",
     "text": [
      "batch 204, R-squared: -3.7023787193522586, MAE: 30.66365623474121, RMSE: 32.686683654785156\n",
      "batch 205, R-squared: -3.3916861555255853, MAE: 19.700117111206055, RMSE: 21.30703353881836\n"
     ]
    },
    {
     "name": "stderr",
     "output_type": "stream",
     "text": [
      " 14%|██████████████████▍                                                                                                              | 208/1459 [00:25<02:31,  8.24it/s]"
     ]
    },
    {
     "name": "stdout",
     "output_type": "stream",
     "text": [
      "batch 206, R-squared: -3.074838326095164, MAE: 24.150714874267578, RMSE: 27.200925827026367\n",
      "batch 207, R-squared: -2.96248103301523, MAE: 22.769906997680664, RMSE: 25.51690101623535\n"
     ]
    },
    {
     "name": "stderr",
     "output_type": "stream",
     "text": [
      " 14%|██████████████████▋                                                                                                              | 211/1459 [00:26<02:18,  9.04it/s]"
     ]
    },
    {
     "name": "stdout",
     "output_type": "stream",
     "text": [
      "batch 208, R-squared: -1.9737934654234575, MAE: 20.81885528564453, RMSE: 25.500228881835938\n",
      "batch 209, R-squared: -2.2882935531746758, MAE: 20.776226043701172, RMSE: 24.40208625793457\n",
      "batch 210, R-squared: -2.4373417844015486, MAE: 10.05098819732666, RMSE: 11.492117881774902\n"
     ]
    },
    {
     "name": "stderr",
     "output_type": "stream",
     "text": [
      " 15%|██████████████████▊                                                                                                              | 213/1459 [00:26<02:17,  9.04it/s]"
     ]
    },
    {
     "name": "stdout",
     "output_type": "stream",
     "text": [
      "batch 211, R-squared: -3.8485479248148557, MAE: 33.49098205566406, RMSE: 36.001853942871094\n",
      "batch 212, R-squared: -1.7416122756260086, MAE: 15.220380783081055, RMSE: 18.100162506103516\n"
     ]
    },
    {
     "name": "stderr",
     "output_type": "stream",
     "text": [
      " 15%|███████████████████                                                                                                              | 215/1459 [00:26<02:39,  7.81it/s]"
     ]
    },
    {
     "name": "stdout",
     "output_type": "stream",
     "text": [
      "batch 213, R-squared: -3.226510436199627, MAE: 27.483585357666016, RMSE: 32.40800857543945\n",
      "batch 214, R-squared: -3.174460757330996, MAE: 22.616832733154297, RMSE: 25.26288604736328\n"
     ]
    },
    {
     "name": "stderr",
     "output_type": "stream",
     "text": [
      " 15%|███████████████████▏                                                                                                             | 217/1459 [00:26<02:47,  7.40it/s]"
     ]
    },
    {
     "name": "stdout",
     "output_type": "stream",
     "text": [
      "batch 215, R-squared: -2.543593742368465, MAE: 18.920494079589844, RMSE: 22.578227996826172\n",
      "batch 216, R-squared: -3.4573946080679514, MAE: 24.76382064819336, RMSE: 27.872314453125\n"
     ]
    },
    {
     "name": "stderr",
     "output_type": "stream",
     "text": [
      " 15%|███████████████████▎                                                                                                             | 219/1459 [00:27<02:39,  7.80it/s]"
     ]
    },
    {
     "name": "stdout",
     "output_type": "stream",
     "text": [
      "batch 217, R-squared: -2.2799141216793846, MAE: 18.822532653808594, RMSE: 21.862363815307617\n",
      "batch 218, R-squared: -2.778160354857695, MAE: 21.63996124267578, RMSE: 24.60057830810547\n"
     ]
    },
    {
     "name": "stderr",
     "output_type": "stream",
     "text": [
      " 15%|███████████████████▌                                                                                                             | 221/1459 [00:27<02:52,  7.19it/s]"
     ]
    },
    {
     "name": "stdout",
     "output_type": "stream",
     "text": [
      "batch 219, R-squared: -3.239303526996739, MAE: 25.04093360900879, RMSE: 28.20388412475586\n",
      "batch 220, R-squared: -2.7807022104926684, MAE: 16.348743438720703, RMSE: 18.215782165527344\n"
     ]
    },
    {
     "name": "stderr",
     "output_type": "stream",
     "text": [
      "\r",
      " 15%|███████████████████▋                                                                                                             | 223/1459 [00:27<02:31,  8.16it/s]"
     ]
    },
    {
     "name": "stdout",
     "output_type": "stream",
     "text": [
      "batch 221, R-squared: -2.8899708161947464, MAE: 25.315141677856445, RMSE: 29.090229034423828\n",
      "batch 222, R-squared: -2.1094071902841884, MAE: 20.072837829589844, RMSE: 22.350791931152344\n"
     ]
    },
    {
     "name": "stderr",
     "output_type": "stream",
     "text": [
      " 15%|███████████████████▉                                                                                                             | 225/1459 [00:27<02:29,  8.25it/s]"
     ]
    },
    {
     "name": "stdout",
     "output_type": "stream",
     "text": [
      "batch 223, R-squared: -2.942624717980169, MAE: 19.734148025512695, RMSE: 21.921985626220703\n",
      "batch 224, R-squared: -2.6860055863330996, MAE: 17.597774505615234, RMSE: 19.009368896484375\n"
     ]
    },
    {
     "name": "stderr",
     "output_type": "stream",
     "text": [
      " 16%|████████████████████                                                                                                             | 227/1459 [00:28<02:23,  8.59it/s]"
     ]
    },
    {
     "name": "stdout",
     "output_type": "stream",
     "text": [
      "batch 225, R-squared: -2.1063453991667234, MAE: 18.469572067260742, RMSE: 23.214431762695312\n",
      "batch 226, R-squared: -3.281685797407857, MAE: 18.77231216430664, RMSE: 20.391695022583008\n",
      "batch 227, R-squared: -3.16662423302643, MAE: 25.924949645996094, RMSE: 29.347885131835938\n"
     ]
    },
    {
     "name": "stderr",
     "output_type": "stream",
     "text": [
      " 16%|████████████████████▍                                                                                                            | 231/1459 [00:28<02:10,  9.43it/s]"
     ]
    },
    {
     "name": "stdout",
     "output_type": "stream",
     "text": [
      "batch 228, R-squared: -1.816072754462672, MAE: 29.921619415283203, RMSE: 37.51250076293945\n",
      "batch 229, R-squared: -4.299526215893538, MAE: 29.985965728759766, RMSE: 32.338584899902344\n",
      "batch 230, R-squared: -2.5984812787854734, MAE: 19.022268295288086, RMSE: 21.38302230834961\n"
     ]
    },
    {
     "name": "stderr",
     "output_type": "stream",
     "text": [
      " 16%|████████████████████▌                                                                                                            | 233/1459 [00:28<02:13,  9.17it/s]"
     ]
    },
    {
     "name": "stdout",
     "output_type": "stream",
     "text": [
      "batch 231, R-squared: -3.0773349962254715, MAE: 20.339920043945312, RMSE: 23.773651123046875\n",
      "batch 232, R-squared: -1.6338356835440564, MAE: 12.750432014465332, RMSE: 15.457841873168945\n"
     ]
    },
    {
     "name": "stderr",
     "output_type": "stream",
     "text": [
      " 16%|████████████████████▊                                                                                                            | 235/1459 [00:28<02:18,  8.86it/s]"
     ]
    },
    {
     "name": "stdout",
     "output_type": "stream",
     "text": [
      "batch 233, R-squared: -1.7496546818350927, MAE: 19.13828468322754, RMSE: 22.403034210205078\n",
      "batch 234, R-squared: -1.7949484865461842, MAE: 19.44059944152832, RMSE: 24.377586364746094\n"
     ]
    },
    {
     "name": "stderr",
     "output_type": "stream",
     "text": [
      " 16%|████████████████████▉                                                                                                            | 237/1459 [00:29<02:27,  8.26it/s]"
     ]
    },
    {
     "name": "stdout",
     "output_type": "stream",
     "text": [
      "batch 235, R-squared: -3.6856952756593384, MAE: 31.700803756713867, RMSE: 36.798553466796875\n",
      "batch 236, R-squared: -1.213240154006703, MAE: 11.630264282226562, RMSE: 13.685125350952148\n"
     ]
    },
    {
     "name": "stderr",
     "output_type": "stream",
     "text": [
      " 16%|█████████████████████▏                                                                                                           | 239/1459 [00:29<02:36,  7.82it/s]"
     ]
    },
    {
     "name": "stdout",
     "output_type": "stream",
     "text": [
      "batch 237, R-squared: -1.936809788814312, MAE: 28.088905334472656, RMSE: 34.313411712646484\n",
      "batch 238, R-squared: -3.511759955387162, MAE: 19.90133285522461, RMSE: 20.914669036865234\n"
     ]
    },
    {
     "name": "stderr",
     "output_type": "stream",
     "text": [
      "\r",
      " 17%|█████████████████████▎                                                                                                           | 241/1459 [00:29<02:22,  8.52it/s]"
     ]
    },
    {
     "name": "stdout",
     "output_type": "stream",
     "text": [
      "batch 239, R-squared: -3.3961728879765003, MAE: 30.805095672607422, RMSE: 34.632171630859375\n",
      "batch 240, R-squared: -1.4910616396531955, MAE: 19.411670684814453, RMSE: 22.854778289794922\n"
     ]
    },
    {
     "name": "stderr",
     "output_type": "stream",
     "text": [
      " 17%|█████████████████████▍                                                                                                           | 243/1459 [00:29<02:37,  7.72it/s]"
     ]
    },
    {
     "name": "stdout",
     "output_type": "stream",
     "text": [
      "batch 241, R-squared: -2.626446700550209, MAE: 13.936574935913086, RMSE: 15.702383041381836\n",
      "batch 242, R-squared: -2.145265424583835, MAE: 15.142834663391113, RMSE: 18.151260375976562\n"
     ]
    },
    {
     "name": "stderr",
     "output_type": "stream",
     "text": [
      " 17%|█████████████████████▋                                                                                                           | 245/1459 [00:30<02:24,  8.39it/s]"
     ]
    },
    {
     "name": "stdout",
     "output_type": "stream",
     "text": [
      "batch 243, R-squared: -3.2861698523527623, MAE: 24.21908950805664, RMSE: 27.028823852539062\n",
      "batch 244, R-squared: -2.8895772474952417, MAE: 22.73662567138672, RMSE: 26.53162384033203\n",
      "batch 245, R-squared: -2.6683139519753514, MAE: 15.765106201171875, RMSE: 17.408363342285156\n"
     ]
    },
    {
     "name": "stderr",
     "output_type": "stream",
     "text": [
      " 17%|█████████████████████▉                                                                                                           | 248/1459 [00:30<02:24,  8.40it/s]"
     ]
    },
    {
     "name": "stdout",
     "output_type": "stream",
     "text": [
      "batch 246, R-squared: -1.7560836577217378, MAE: 28.416141510009766, RMSE: 35.11139678955078\n",
      "batch 247, R-squared: -2.84572345327849, MAE: 23.963191986083984, RMSE: 25.80730438232422\n"
     ]
    },
    {
     "name": "stderr",
     "output_type": "stream",
     "text": [
      " 17%|██████████████████████                                                                                                           | 250/1459 [00:30<02:20,  8.62it/s]"
     ]
    },
    {
     "name": "stdout",
     "output_type": "stream",
     "text": [
      "batch 248, R-squared: -2.1887149180345804, MAE: 24.617328643798828, RMSE: 27.63428497314453\n",
      "batch 249, R-squared: -2.4608357398215777, MAE: 34.521602630615234, RMSE: 40.740474700927734\n"
     ]
    },
    {
     "name": "stderr",
     "output_type": "stream",
     "text": [
      " 17%|██████████████████████▎                                                                                                          | 252/1459 [00:31<02:22,  8.45it/s]"
     ]
    },
    {
     "name": "stdout",
     "output_type": "stream",
     "text": [
      "batch 250, R-squared: -2.3901756268541923, MAE: 15.221393585205078, RMSE: 17.834991455078125\n",
      "batch 251, R-squared: -4.187227610089499, MAE: 21.20771598815918, RMSE: 22.094526290893555\n"
     ]
    },
    {
     "name": "stderr",
     "output_type": "stream",
     "text": [
      " 17%|██████████████████████▍                                                                                                          | 254/1459 [00:31<02:22,  8.43it/s]"
     ]
    },
    {
     "name": "stdout",
     "output_type": "stream",
     "text": [
      "batch 252, R-squared: -1.918187021539393, MAE: 25.11772918701172, RMSE: 31.070178985595703\n",
      "batch 253, R-squared: -2.8315572112265546, MAE: 22.07373809814453, RMSE: 24.786396026611328\n"
     ]
    },
    {
     "name": "stderr",
     "output_type": "stream",
     "text": [
      " 18%|██████████████████████▋                                                                                                          | 256/1459 [00:31<02:37,  7.62it/s]"
     ]
    },
    {
     "name": "stdout",
     "output_type": "stream",
     "text": [
      "batch 254, R-squared: -2.6393610847441877, MAE: 23.35820770263672, RMSE: 26.361129760742188\n",
      "batch 255, R-squared: -3.5833032713601423, MAE: 18.79060173034668, RMSE: 20.831584930419922\n"
     ]
    },
    {
     "name": "stderr",
     "output_type": "stream",
     "text": [
      " 18%|██████████████████████▊                                                                                                          | 258/1459 [00:31<02:33,  7.82it/s]"
     ]
    },
    {
     "name": "stdout",
     "output_type": "stream",
     "text": [
      "batch 256, R-squared: -2.5498767808746603, MAE: 18.121891021728516, RMSE: 20.87213134765625\n",
      "batch 257, R-squared: -3.1930319983574904, MAE: 20.906599044799805, RMSE: 24.103355407714844\n"
     ]
    },
    {
     "name": "stderr",
     "output_type": "stream",
     "text": [
      " 18%|██████████████████████▉                                                                                                          | 260/1459 [00:32<02:48,  7.11it/s]"
     ]
    },
    {
     "name": "stdout",
     "output_type": "stream",
     "text": [
      "batch 258, R-squared: -3.4487938086126513, MAE: 27.478181838989258, RMSE: 31.041488647460938\n",
      "batch 259, R-squared: -1.5474130320072232, MAE: 19.361736297607422, RMSE: 23.846267700195312\n"
     ]
    },
    {
     "name": "stderr",
     "output_type": "stream",
     "text": [
      " 18%|███████████████████████▎                                                                                                         | 263/1459 [00:32<02:29,  8.02it/s]"
     ]
    },
    {
     "name": "stdout",
     "output_type": "stream",
     "text": [
      "batch 260, R-squared: -3.1139206467366, MAE: 14.376264572143555, RMSE: 15.766515731811523\n",
      "batch 261, R-squared: -3.4056567169556544, MAE: 26.311363220214844, RMSE: 29.541500091552734\n",
      "batch 262, R-squared: -2.5943385400461048, MAE: 18.054180145263672, RMSE: 20.73916244506836\n"
     ]
    },
    {
     "name": "stderr",
     "output_type": "stream",
     "text": [
      "\r",
      " 18%|███████████████████████▍                                                                                                         | 265/1459 [00:32<02:19,  8.53it/s]"
     ]
    },
    {
     "name": "stdout",
     "output_type": "stream",
     "text": [
      "batch 263, R-squared: -3.429071860672229, MAE: 18.08184051513672, RMSE: 20.335636138916016\n",
      "batch 264, R-squared: -3.4420516687038107, MAE: 18.244800567626953, RMSE: 18.886688232421875\n"
     ]
    },
    {
     "name": "stderr",
     "output_type": "stream",
     "text": [
      " 18%|███████████████████████▌                                                                                                         | 267/1459 [00:32<02:23,  8.28it/s]"
     ]
    },
    {
     "name": "stdout",
     "output_type": "stream",
     "text": [
      "batch 265, R-squared: -2.7310755668231934, MAE: 16.67716407775879, RMSE: 18.040164947509766\n",
      "batch 266, R-squared: -3.372246915849607, MAE: 28.29769515991211, RMSE: 30.467933654785156\n"
     ]
    },
    {
     "name": "stderr",
     "output_type": "stream",
     "text": [
      " 18%|███████████████████████▊                                                                                                         | 269/1459 [00:33<02:22,  8.33it/s]"
     ]
    },
    {
     "name": "stdout",
     "output_type": "stream",
     "text": [
      "batch 267, R-squared: -1.7553746367676357, MAE: 16.1871337890625, RMSE: 21.35101318359375\n",
      "batch 268, R-squared: -1.8916216983400227, MAE: 20.913768768310547, RMSE: 26.36214828491211\n"
     ]
    },
    {
     "name": "stderr",
     "output_type": "stream",
     "text": [
      " 19%|███████████████████████▉                                                                                                         | 271/1459 [00:33<02:31,  7.87it/s]"
     ]
    },
    {
     "name": "stdout",
     "output_type": "stream",
     "text": [
      "batch 269, R-squared: -2.518992361155221, MAE: 15.070167541503906, RMSE: 18.967390060424805\n",
      "batch 270, R-squared: -2.611213271643637, MAE: 22.693634033203125, RMSE: 26.9849853515625\n"
     ]
    },
    {
     "name": "stderr",
     "output_type": "stream",
     "text": [
      " 19%|████████████████████████▏                                                                                                        | 274/1459 [00:33<02:15,  8.73it/s]"
     ]
    },
    {
     "name": "stdout",
     "output_type": "stream",
     "text": [
      "batch 271, R-squared: -1.6789345326497847, MAE: 18.020957946777344, RMSE: 22.7313232421875\n",
      "batch 272, R-squared: -2.2678546462402753, MAE: 16.550689697265625, RMSE: 18.0714111328125\n",
      "batch 273, R-squared: -2.49641573147036, MAE: 25.797832489013672, RMSE: 29.947265625\n"
     ]
    },
    {
     "name": "stderr",
     "output_type": "stream",
     "text": [
      " 19%|████████████████████████▍                                                                                                        | 276/1459 [00:34<02:23,  8.27it/s]"
     ]
    },
    {
     "name": "stdout",
     "output_type": "stream",
     "text": [
      "batch 274, R-squared: -2.759652959660639, MAE: 18.881088256835938, RMSE: 21.369396209716797\n",
      "batch 275, R-squared: -3.323465500586763, MAE: 18.41025161743164, RMSE: 19.950828552246094\n"
     ]
    },
    {
     "name": "stderr",
     "output_type": "stream",
     "text": [
      "\r",
      " 19%|████████████████████████▌                                                                                                        | 278/1459 [00:34<02:18,  8.54it/s]"
     ]
    },
    {
     "name": "stdout",
     "output_type": "stream",
     "text": [
      "batch 276, R-squared: -2.463899901473829, MAE: 18.9249324798584, RMSE: 22.173675537109375\n",
      "batch 277, R-squared: -2.464219913893647, MAE: 23.687252044677734, RMSE: 27.524747848510742\n"
     ]
    },
    {
     "name": "stderr",
     "output_type": "stream",
     "text": [
      " 19%|████████████████████████▊                                                                                                        | 280/1459 [00:34<02:34,  7.61it/s]"
     ]
    },
    {
     "name": "stdout",
     "output_type": "stream",
     "text": [
      "batch 278, R-squared: -1.7423870658086007, MAE: 17.91068458557129, RMSE: 22.82904624938965\n",
      "batch 279, R-squared: -2.7365501662829823, MAE: 22.83133888244629, RMSE: 24.5028076171875\n"
     ]
    },
    {
     "name": "stderr",
     "output_type": "stream",
     "text": [
      "\r",
      " 19%|████████████████████████▉                                                                                                        | 282/1459 [00:34<02:25,  8.11it/s]"
     ]
    },
    {
     "name": "stdout",
     "output_type": "stream",
     "text": [
      "batch 280, R-squared: -3.0897528329623842, MAE: 19.791690826416016, RMSE: 21.829383850097656\n",
      "batch 281, R-squared: -3.205677738701059, MAE: 29.636154174804688, RMSE: 31.791873931884766\n"
     ]
    },
    {
     "name": "stderr",
     "output_type": "stream",
     "text": [
      " 19%|█████████████████████████                                                                                                        | 284/1459 [00:34<02:23,  8.19it/s]"
     ]
    },
    {
     "name": "stdout",
     "output_type": "stream",
     "text": [
      "batch 282, R-squared: -3.1866843413820565, MAE: 28.534992218017578, RMSE: 31.377918243408203\n",
      "batch 283, R-squared: -3.3568014496282705, MAE: 23.167028427124023, RMSE: 25.541269302368164\n"
     ]
    },
    {
     "name": "stderr",
     "output_type": "stream",
     "text": [
      " 20%|█████████████████████████▎                                                                                                       | 286/1459 [00:35<02:39,  7.37it/s]"
     ]
    },
    {
     "name": "stdout",
     "output_type": "stream",
     "text": [
      "batch 284, R-squared: -4.477187458845004, MAE: 19.70625114440918, RMSE: 20.9345645904541\n",
      "batch 285, R-squared: -2.4906480663810977, MAE: 22.75182342529297, RMSE: 24.12755584716797\n"
     ]
    },
    {
     "name": "stderr",
     "output_type": "stream",
     "text": [
      " 20%|█████████████████████████▍                                                                                                       | 288/1459 [00:35<02:29,  7.86it/s]"
     ]
    },
    {
     "name": "stdout",
     "output_type": "stream",
     "text": [
      "batch 286, R-squared: -4.6768033839089815, MAE: 20.692214965820312, RMSE: 22.191909790039062\n",
      "batch 287, R-squared: -2.2992610155752615, MAE: 17.064119338989258, RMSE: 19.12848663330078\n"
     ]
    },
    {
     "name": "stderr",
     "output_type": "stream",
     "text": [
      " 20%|█████████████████████████▋                                                                                                       | 290/1459 [00:35<02:30,  7.78it/s]"
     ]
    },
    {
     "name": "stdout",
     "output_type": "stream",
     "text": [
      "batch 288, R-squared: -2.1361077094369874, MAE: 21.952638626098633, RMSE: 24.43149185180664\n",
      "batch 289, R-squared: -2.2086223615866345, MAE: 27.736141204833984, RMSE: 32.28247833251953\n"
     ]
    },
    {
     "name": "stderr",
     "output_type": "stream",
     "text": [
      " 20%|█████████████████████████▊                                                                                                       | 292/1459 [00:36<02:23,  8.14it/s]"
     ]
    },
    {
     "name": "stdout",
     "output_type": "stream",
     "text": [
      "batch 290, R-squared: -2.2415749720821445, MAE: 23.440185546875, RMSE: 27.98883056640625\n",
      "batch 291, R-squared: -3.405157192167974, MAE: 21.14766502380371, RMSE: 21.776504516601562\n"
     ]
    },
    {
     "name": "stderr",
     "output_type": "stream",
     "text": [
      " 20%|█████████████████████████▉                                                                                                       | 294/1459 [00:36<02:33,  7.61it/s]"
     ]
    },
    {
     "name": "stdout",
     "output_type": "stream",
     "text": [
      "batch 292, R-squared: -3.7416517685562773, MAE: 21.16911506652832, RMSE: 22.587556838989258\n",
      "batch 293, R-squared: -2.7203621356331973, MAE: 28.000572204589844, RMSE: 32.986846923828125\n"
     ]
    },
    {
     "name": "stderr",
     "output_type": "stream",
     "text": [
      " 20%|██████████████████████████▏                                                                                                      | 296/1459 [00:36<02:29,  7.78it/s]"
     ]
    },
    {
     "name": "stdout",
     "output_type": "stream",
     "text": [
      "batch 294, R-squared: -3.568735114637589, MAE: 12.787102699279785, RMSE: 14.122854232788086\n",
      "batch 295, R-squared: -1.7886450507083556, MAE: 13.680340766906738, RMSE: 16.457292556762695\n"
     ]
    },
    {
     "name": "stderr",
     "output_type": "stream",
     "text": [
      " 20%|██████████████████████████▎                                                                                                      | 298/1459 [00:36<02:46,  6.97it/s]"
     ]
    },
    {
     "name": "stdout",
     "output_type": "stream",
     "text": [
      "batch 296, R-squared: -1.29451648682634, MAE: 22.16783905029297, RMSE: 29.626747131347656\n",
      "batch 297, R-squared: -1.7482229171438768, MAE: 16.76376724243164, RMSE: 20.992238998413086\n"
     ]
    },
    {
     "name": "stderr",
     "output_type": "stream",
     "text": [
      " 21%|██████████████████████████▌                                                                                                      | 300/1459 [00:37<02:41,  7.18it/s]"
     ]
    },
    {
     "name": "stdout",
     "output_type": "stream",
     "text": [
      "batch 298, R-squared: -2.699751833220735, MAE: 15.296045303344727, RMSE: 16.794313430786133\n",
      "batch 299, R-squared: -3.862859523783107, MAE: 23.301645278930664, RMSE: 25.391576766967773\n"
     ]
    },
    {
     "name": "stderr",
     "output_type": "stream",
     "text": [
      " 21%|██████████████████████████▋                                                                                                      | 302/1459 [00:37<02:27,  7.87it/s]"
     ]
    },
    {
     "name": "stdout",
     "output_type": "stream",
     "text": [
      "batch 300, R-squared: -2.086566300697731, MAE: 17.481082916259766, RMSE: 19.525829315185547\n",
      "batch 301, R-squared: -2.795541526378266, MAE: 16.490478515625, RMSE: 18.43941307067871\n"
     ]
    },
    {
     "name": "stderr",
     "output_type": "stream",
     "text": [
      "\r",
      " 21%|██████████████████████████▊                                                                                                      | 303/1459 [00:37<02:31,  7.65it/s]"
     ]
    },
    {
     "name": "stdout",
     "output_type": "stream",
     "text": [
      "batch 302, R-squared: -3.2026710031904333, MAE: 26.240493774414062, RMSE: 30.41524314880371\n",
      "batch 303, R-squared: -3.567270347442539, MAE: 29.119548797607422, RMSE: 31.684234619140625\n"
     ]
    },
    {
     "name": "stderr",
     "output_type": "stream",
     "text": [
      " 21%|███████████████████████████                                                                                                      | 306/1459 [00:37<02:20,  8.23it/s]"
     ]
    },
    {
     "name": "stdout",
     "output_type": "stream",
     "text": [
      "batch 304, R-squared: -1.4486157638852537, MAE: 16.35869598388672, RMSE: 21.463993072509766\n",
      "batch 305, R-squared: -3.263626901181044, MAE: 20.718902587890625, RMSE: 22.182086944580078\n"
     ]
    },
    {
     "name": "stderr",
     "output_type": "stream",
     "text": [
      " 21%|███████████████████████████▏                                                                                                     | 308/1459 [00:38<02:29,  7.70it/s]"
     ]
    },
    {
     "name": "stdout",
     "output_type": "stream",
     "text": [
      "batch 306, R-squared: -2.2368383548065616, MAE: 21.503252029418945, RMSE: 24.35603904724121\n",
      "batch 307, R-squared: -2.8921905990125607, MAE: 22.04796600341797, RMSE: 23.7467041015625\n"
     ]
    },
    {
     "name": "stderr",
     "output_type": "stream",
     "text": [
      " 21%|███████████████████████████▍                                                                                                     | 310/1459 [00:38<02:33,  7.50it/s]"
     ]
    },
    {
     "name": "stdout",
     "output_type": "stream",
     "text": [
      "batch 308, R-squared: -3.942179072185094, MAE: 31.726966857910156, RMSE: 32.7552604675293\n",
      "batch 309, R-squared: -2.715089353367046, MAE: 27.48672103881836, RMSE: 31.578123092651367\n"
     ]
    },
    {
     "name": "stderr",
     "output_type": "stream",
     "text": [
      " 21%|███████████████████████████▌                                                                                                     | 312/1459 [00:38<02:26,  7.83it/s]"
     ]
    },
    {
     "name": "stdout",
     "output_type": "stream",
     "text": [
      "batch 310, R-squared: -2.3274992380749824, MAE: 27.277143478393555, RMSE: 30.60116958618164\n",
      "batch 311, R-squared: -3.0594813726834458, MAE: 22.265968322753906, RMSE: 24.225980758666992\n"
     ]
    },
    {
     "name": "stderr",
     "output_type": "stream",
     "text": [
      " 22%|███████████████████████████▊                                                                                                     | 314/1459 [00:38<02:21,  8.08it/s]"
     ]
    },
    {
     "name": "stdout",
     "output_type": "stream",
     "text": [
      "batch 312, R-squared: -2.6704745192984456, MAE: 25.74701690673828, RMSE: 31.585607528686523\n",
      "batch 313, R-squared: -2.733759171028556, MAE: 22.198360443115234, RMSE: 24.282407760620117\n"
     ]
    },
    {
     "name": "stderr",
     "output_type": "stream",
     "text": [
      " 22%|███████████████████████████▉                                                                                                     | 316/1459 [00:39<02:22,  8.03it/s]"
     ]
    },
    {
     "name": "stdout",
     "output_type": "stream",
     "text": [
      "batch 314, R-squared: -2.865982749927744, MAE: 16.351560592651367, RMSE: 17.474565505981445\n",
      "batch 315, R-squared: -3.492782054032596, MAE: 18.973316192626953, RMSE: 21.476774215698242\n"
     ]
    },
    {
     "name": "stderr",
     "output_type": "stream",
     "text": [
      " 22%|████████████████████████████                                                                                                     | 318/1459 [00:39<02:37,  7.24it/s]"
     ]
    },
    {
     "name": "stdout",
     "output_type": "stream",
     "text": [
      "batch 316, R-squared: -2.693108671289274, MAE: 19.052383422851562, RMSE: 21.35134506225586\n",
      "batch 317, R-squared: -1.9462678654551597, MAE: 16.09089469909668, RMSE: 19.173320770263672\n"
     ]
    },
    {
     "name": "stderr",
     "output_type": "stream",
     "text": [
      " 22%|████████████████████████████▎                                                                                                    | 320/1459 [00:39<02:27,  7.70it/s]"
     ]
    },
    {
     "name": "stdout",
     "output_type": "stream",
     "text": [
      "batch 318, R-squared: -2.2295506546078423, MAE: 21.929689407348633, RMSE: 26.813209533691406\n",
      "batch 319, R-squared: -2.9697916418450045, MAE: 23.478126525878906, RMSE: 27.4735107421875\n"
     ]
    },
    {
     "name": "stderr",
     "output_type": "stream",
     "text": [
      " 22%|████████████████████████████▍                                                                                                    | 322/1459 [00:39<02:22,  7.96it/s]"
     ]
    },
    {
     "name": "stdout",
     "output_type": "stream",
     "text": [
      "batch 320, R-squared: -2.6364783173918855, MAE: 33.54526901245117, RMSE: 38.35907745361328\n",
      "batch 321, R-squared: -3.1006229632936284, MAE: 15.684267044067383, RMSE: 17.07014274597168\n",
      "batch 322, R-squared: -3.117213912649746, MAE: 22.349260330200195, RMSE: 24.100597381591797\n"
     ]
    },
    {
     "name": "stderr",
     "output_type": "stream",
     "text": [
      " 22%|████████████████████████████▋                                                                                                    | 325/1459 [00:40<02:13,  8.49it/s]"
     ]
    },
    {
     "name": "stdout",
     "output_type": "stream",
     "text": [
      "batch 323, R-squared: -3.188451340031955, MAE: 35.38700866699219, RMSE: 39.05585479736328\n",
      "batch 324, R-squared: -2.9023368917299806, MAE: 34.83335876464844, RMSE: 36.813453674316406\n"
     ]
    },
    {
     "name": "stderr",
     "output_type": "stream",
     "text": [
      " 22%|████████████████████████████▉                                                                                                    | 327/1459 [00:40<02:31,  7.47it/s]"
     ]
    },
    {
     "name": "stdout",
     "output_type": "stream",
     "text": [
      "batch 325, R-squared: -2.568204327748347, MAE: 17.243955612182617, RMSE: 18.55953025817871\n",
      "batch 326, R-squared: -3.500941148027639, MAE: 17.387332916259766, RMSE: 18.568578720092773\n"
     ]
    },
    {
     "name": "stderr",
     "output_type": "stream",
     "text": [
      " 23%|█████████████████████████████▏                                                                                                   | 330/1459 [00:40<02:04,  9.10it/s]"
     ]
    },
    {
     "name": "stdout",
     "output_type": "stream",
     "text": [
      "batch 327, R-squared: -2.7090982477507524, MAE: 27.577232360839844, RMSE: 32.396331787109375\n",
      "batch 328, R-squared: -2.897856919173966, MAE: 25.250789642333984, RMSE: 29.009506225585938\n",
      "batch 329, R-squared: -3.0088070024918916, MAE: 22.303813934326172, RMSE: 25.026439666748047\n"
     ]
    },
    {
     "name": "stderr",
     "output_type": "stream",
     "text": [
      " 23%|█████████████████████████████▎                                                                                                   | 332/1459 [00:41<02:07,  8.81it/s]"
     ]
    },
    {
     "name": "stdout",
     "output_type": "stream",
     "text": [
      "batch 330, R-squared: -4.469925130696393, MAE: 22.107080459594727, RMSE: 24.0589599609375\n",
      "batch 331, R-squared: -1.5397473563483988, MAE: 21.87316131591797, RMSE: 28.988563537597656\n"
     ]
    },
    {
     "name": "stderr",
     "output_type": "stream",
     "text": [
      " 23%|█████████████████████████████▌                                                                                                   | 334/1459 [00:41<02:22,  7.89it/s]"
     ]
    },
    {
     "name": "stdout",
     "output_type": "stream",
     "text": [
      "batch 332, R-squared: -4.138327808355462, MAE: 21.680133819580078, RMSE: 22.90359115600586\n",
      "batch 333, R-squared: -1.8549921299138732, MAE: 11.341635704040527, RMSE: 13.578044891357422\n"
     ]
    },
    {
     "name": "stderr",
     "output_type": "stream",
     "text": [
      " 23%|█████████████████████████████▋                                                                                                   | 336/1459 [00:41<02:10,  8.62it/s]"
     ]
    },
    {
     "name": "stdout",
     "output_type": "stream",
     "text": [
      "batch 334, R-squared: -2.4489996661471327, MAE: 21.893381118774414, RMSE: 27.367389678955078\n",
      "batch 335, R-squared: -3.051253775552424, MAE: 13.722052574157715, RMSE: 15.763628005981445\n"
     ]
    },
    {
     "name": "stderr",
     "output_type": "stream",
     "text": [
      " 23%|█████████████████████████████▉                                                                                                   | 338/1459 [00:41<02:18,  8.12it/s]"
     ]
    },
    {
     "name": "stdout",
     "output_type": "stream",
     "text": [
      "batch 336, R-squared: -3.7238146728601587, MAE: 27.15721893310547, RMSE: 29.52576446533203\n",
      "batch 337, R-squared: -2.555004598833631, MAE: 20.72168731689453, RMSE: 24.09694480895996\n"
     ]
    },
    {
     "name": "stderr",
     "output_type": "stream",
     "text": [
      " 23%|██████████████████████████████                                                                                                   | 340/1459 [00:42<02:26,  7.65it/s]"
     ]
    },
    {
     "name": "stdout",
     "output_type": "stream",
     "text": [
      "batch 338, R-squared: -2.6660282240658435, MAE: 43.87312316894531, RMSE: 46.898380279541016\n",
      "batch 339, R-squared: -1.6315576796167068, MAE: 20.82680892944336, RMSE: 27.202373504638672\n"
     ]
    },
    {
     "name": "stderr",
     "output_type": "stream",
     "text": [
      "\r",
      " 23%|██████████████████████████████▏                                                                                                  | 341/1459 [00:42<02:19,  8.04it/s]"
     ]
    },
    {
     "name": "stdout",
     "output_type": "stream",
     "text": [
      "batch 340, R-squared: -3.541744840824243, MAE: 27.101367950439453, RMSE: 29.517032623291016\n",
      "batch 341, R-squared: -2.8964291963942106, MAE: 15.488346099853516, RMSE: 17.528390884399414\n"
     ]
    },
    {
     "name": "stderr",
     "output_type": "stream",
     "text": [
      "\r",
      " 24%|██████████████████████████████▎                                                                                                  | 343/1459 [00:42<02:21,  7.89it/s]"
     ]
    },
    {
     "name": "stdout",
     "output_type": "stream",
     "text": [
      "batch 342, R-squared: -1.3844540199438407, MAE: 26.01044464111328, RMSE: 33.54072189331055\n",
      "batch 343, R-squared: -2.2514586317538763, MAE: 20.8896484375, RMSE: 24.521018981933594\n"
     ]
    },
    {
     "name": "stderr",
     "output_type": "stream",
     "text": [
      " 24%|██████████████████████████████▌                                                                                                  | 346/1459 [00:42<02:17,  8.07it/s]"
     ]
    },
    {
     "name": "stdout",
     "output_type": "stream",
     "text": [
      "batch 344, R-squared: -2.9396461432965104, MAE: 17.602073669433594, RMSE: 19.58407974243164\n",
      "batch 345, R-squared: -3.075797839127313, MAE: 19.76596450805664, RMSE: 22.22112464904785\n"
     ]
    },
    {
     "name": "stderr",
     "output_type": "stream",
     "text": [
      "\r",
      " 24%|██████████████████████████████▋                                                                                                  | 347/1459 [00:42<02:18,  8.02it/s]"
     ]
    },
    {
     "name": "stdout",
     "output_type": "stream",
     "text": [
      "batch 346, R-squared: -2.344450025859506, MAE: 25.945728302001953, RMSE: 31.090452194213867\n",
      "batch 347, R-squared: -3.0112811401576542, MAE: 17.859540939331055, RMSE: 20.872587203979492\n"
     ]
    },
    {
     "name": "stderr",
     "output_type": "stream",
     "text": [
      " 24%|██████████████████████████████▉                                                                                                  | 350/1459 [00:43<02:13,  8.33it/s]"
     ]
    },
    {
     "name": "stdout",
     "output_type": "stream",
     "text": [
      "batch 348, R-squared: -2.8902606627878367, MAE: 15.347187995910645, RMSE: 17.10502815246582\n",
      "batch 349, R-squared: -3.3432425270735746, MAE: 19.97176170349121, RMSE: 22.32390785217285\n"
     ]
    },
    {
     "name": "stderr",
     "output_type": "stream",
     "text": [
      "\r",
      " 24%|███████████████████████████████                                                                                                  | 352/1459 [00:43<02:04,  8.91it/s]"
     ]
    },
    {
     "name": "stdout",
     "output_type": "stream",
     "text": [
      "batch 350, R-squared: -3.3604113350672655, MAE: 18.090930938720703, RMSE: 19.4469051361084\n",
      "batch 351, R-squared: -1.7425477539041418, MAE: 15.187338829040527, RMSE: 18.974544525146484\n"
     ]
    },
    {
     "name": "stderr",
     "output_type": "stream",
     "text": [
      " 24%|███████████████████████████████▎                                                                                                 | 354/1459 [00:43<02:23,  7.69it/s]"
     ]
    },
    {
     "name": "stdout",
     "output_type": "stream",
     "text": [
      "batch 352, R-squared: -3.616314202275607, MAE: 34.66419219970703, RMSE: 38.36172103881836\n",
      "batch 353, R-squared: -2.398630666429701, MAE: 21.308950424194336, RMSE: 24.60608673095703\n"
     ]
    },
    {
     "name": "stderr",
     "output_type": "stream",
     "text": [
      "\r",
      " 24%|███████████████████████████████▍                                                                                                 | 356/1459 [00:44<02:11,  8.41it/s]"
     ]
    },
    {
     "name": "stdout",
     "output_type": "stream",
     "text": [
      "batch 354, R-squared: -3.1152091461352893, MAE: 26.4915828704834, RMSE: 30.065227508544922\n",
      "batch 355, R-squared: -3.1041520929767388, MAE: 25.181669235229492, RMSE: 28.922868728637695\n"
     ]
    },
    {
     "name": "stderr",
     "output_type": "stream",
     "text": [
      " 25%|███████████████████████████████▋                                                                                                 | 358/1459 [00:44<02:07,  8.66it/s]"
     ]
    },
    {
     "name": "stdout",
     "output_type": "stream",
     "text": [
      "batch 356, R-squared: -2.5503679078629005, MAE: 14.928375244140625, RMSE: 17.517255783081055\n",
      "batch 357, R-squared: -2.627147460038863, MAE: 32.198143005371094, RMSE: 35.80632019042969\n"
     ]
    },
    {
     "name": "stderr",
     "output_type": "stream",
     "text": [
      "\r",
      " 25%|███████████████████████████████▊                                                                                                 | 360/1459 [00:44<02:08,  8.57it/s]"
     ]
    },
    {
     "name": "stdout",
     "output_type": "stream",
     "text": [
      "batch 358, R-squared: -3.820939690993763, MAE: 19.6629638671875, RMSE: 21.780479431152344\n",
      "batch 359, R-squared: -2.828115400002959, MAE: 31.342815399169922, RMSE: 36.86429214477539\n"
     ]
    },
    {
     "name": "stderr",
     "output_type": "stream",
     "text": [
      " 25%|████████████████████████████████                                                                                                 | 362/1459 [00:44<02:13,  8.21it/s]"
     ]
    },
    {
     "name": "stdout",
     "output_type": "stream",
     "text": [
      "batch 360, R-squared: -2.0242777875547597, MAE: 29.41221809387207, RMSE: 37.49705505371094\n",
      "batch 361, R-squared: -2.569836076639106, MAE: 23.751264572143555, RMSE: 28.141305923461914\n"
     ]
    },
    {
     "name": "stderr",
     "output_type": "stream",
     "text": [
      " 25%|████████████████████████████████▏                                                                                                | 364/1459 [00:45<02:26,  7.49it/s]"
     ]
    },
    {
     "name": "stdout",
     "output_type": "stream",
     "text": [
      "batch 362, R-squared: -2.8883328698555113, MAE: 23.054595947265625, RMSE: 25.874813079833984\n",
      "batch 363, R-squared: -3.347106220654042, MAE: 20.884597778320312, RMSE: 23.322811126708984\n"
     ]
    },
    {
     "name": "stderr",
     "output_type": "stream",
     "text": [
      " 25%|████████████████████████████████▎                                                                                                | 366/1459 [00:45<02:14,  8.14it/s]"
     ]
    },
    {
     "name": "stdout",
     "output_type": "stream",
     "text": [
      "batch 364, R-squared: -2.3973807382908907, MAE: 23.612512588500977, RMSE: 25.992631912231445\n",
      "batch 365, R-squared: -3.5789820680429734, MAE: 14.241976737976074, RMSE: 15.478878021240234\n"
     ]
    },
    {
     "name": "stderr",
     "output_type": "stream",
     "text": [
      " 25%|████████████████████████████████▌                                                                                                | 368/1459 [00:45<02:27,  7.42it/s]"
     ]
    },
    {
     "name": "stdout",
     "output_type": "stream",
     "text": [
      "batch 366, R-squared: -2.8519437126811193, MAE: 23.713153839111328, RMSE: 26.300724029541016\n",
      "batch 367, R-squared: -2.579124108731426, MAE: 28.466346740722656, RMSE: 33.795169830322266\n"
     ]
    },
    {
     "name": "stderr",
     "output_type": "stream",
     "text": [
      " 25%|████████████████████████████████▊                                                                                                | 371/1459 [00:45<02:03,  8.79it/s]"
     ]
    },
    {
     "name": "stdout",
     "output_type": "stream",
     "text": [
      "batch 368, R-squared: -1.9944449652331393, MAE: 21.431880950927734, RMSE: 25.837635040283203\n",
      "batch 369, R-squared: -2.6277522793570713, MAE: 23.224929809570312, RMSE: 25.350006103515625\n",
      "batch 370, R-squared: -2.0038328915212538, MAE: 21.96616554260254, RMSE: 27.00110626220703\n"
     ]
    },
    {
     "name": "stderr",
     "output_type": "stream",
     "text": [
      " 26%|█████████████████████████████████                                                                                                | 374/1459 [00:46<02:03,  8.82it/s]"
     ]
    },
    {
     "name": "stdout",
     "output_type": "stream",
     "text": [
      "batch 371, R-squared: -3.1296845258593935, MAE: 24.673158645629883, RMSE: 26.195180892944336\n",
      "batch 372, R-squared: -1.9218797696940557, MAE: 17.21269416809082, RMSE: 21.642108917236328\n",
      "batch 373, R-squared: -3.3450861492962582, MAE: 22.44873046875, RMSE: 24.147415161132812\n"
     ]
    },
    {
     "name": "stderr",
     "output_type": "stream",
     "text": [
      " 26%|█████████████████████████████████▏                                                                                               | 376/1459 [00:46<02:04,  8.69it/s]"
     ]
    },
    {
     "name": "stdout",
     "output_type": "stream",
     "text": [
      "batch 374, R-squared: -2.7331253588578175, MAE: 18.895273208618164, RMSE: 20.051456451416016\n",
      "batch 375, R-squared: -3.563708303769138, MAE: 20.75095558166504, RMSE: 22.96257209777832\n"
     ]
    },
    {
     "name": "stderr",
     "output_type": "stream",
     "text": [
      " 26%|█████████████████████████████████▍                                                                                               | 378/1459 [00:46<02:03,  8.72it/s]"
     ]
    },
    {
     "name": "stdout",
     "output_type": "stream",
     "text": [
      "batch 376, R-squared: -3.7223857345724074, MAE: 29.245254516601562, RMSE: 31.981645584106445\n",
      "batch 377, R-squared: -3.2029575536493984, MAE: 23.735584259033203, RMSE: 25.367393493652344\n"
     ]
    },
    {
     "name": "stderr",
     "output_type": "stream",
     "text": [
      " 26%|█████████████████████████████████▌                                                                                               | 380/1459 [00:46<02:11,  8.20it/s]"
     ]
    },
    {
     "name": "stdout",
     "output_type": "stream",
     "text": [
      "batch 378, R-squared: -2.6942975477161997, MAE: 20.828060150146484, RMSE: 22.560327529907227\n",
      "batch 379, R-squared: -3.018880903451401, MAE: 14.534770965576172, RMSE: 16.00442886352539\n",
      "batch 380, R-squared: -2.9889181120766013, MAE: 30.897537231445312, RMSE: 34.524898529052734\n"
     ]
    },
    {
     "name": "stderr",
     "output_type": "stream",
     "text": [
      " 26%|█████████████████████████████████▊                                                                                               | 383/1459 [00:47<02:02,  8.80it/s]"
     ]
    },
    {
     "name": "stdout",
     "output_type": "stream",
     "text": [
      "batch 381, R-squared: -1.9047720147008338, MAE: 25.24179458618164, RMSE: 30.610137939453125\n",
      "batch 382, R-squared: -3.5342281642453086, MAE: 16.092851638793945, RMSE: 16.821678161621094\n",
      "batch 383, R-squared: -2.6416387666277874, MAE: 14.929098129272461, RMSE: 17.062599182128906\n"
     ]
    },
    {
     "name": "stderr",
     "output_type": "stream",
     "text": [
      " 26%|██████████████████████████████████▏                                                                                              | 386/1459 [00:47<01:54,  9.36it/s]"
     ]
    },
    {
     "name": "stdout",
     "output_type": "stream",
     "text": [
      "batch 384, R-squared: -2.4388229219544826, MAE: 24.275657653808594, RMSE: 26.290998458862305\n",
      "batch 385, R-squared: -2.3124535813814053, MAE: 20.26229476928711, RMSE: 25.378082275390625\n"
     ]
    },
    {
     "name": "stderr",
     "output_type": "stream",
     "text": [
      " 27%|██████████████████████████████████▎                                                                                              | 388/1459 [00:47<02:02,  8.72it/s]"
     ]
    },
    {
     "name": "stdout",
     "output_type": "stream",
     "text": [
      "batch 386, R-squared: -3.0323860404889036, MAE: 19.510038375854492, RMSE: 22.110130310058594\n",
      "batch 387, R-squared: -3.189972780250669, MAE: 21.903446197509766, RMSE: 24.114164352416992\n"
     ]
    },
    {
     "name": "stderr",
     "output_type": "stream",
     "text": [
      " 27%|██████████████████████████████████▍                                                                                              | 390/1459 [00:48<02:07,  8.36it/s]"
     ]
    },
    {
     "name": "stdout",
     "output_type": "stream",
     "text": [
      "batch 388, R-squared: -5.038900786528533, MAE: 22.305912017822266, RMSE: 23.596965789794922\n",
      "batch 389, R-squared: -2.638863977385455, MAE: 27.166120529174805, RMSE: 31.781139373779297\n"
     ]
    },
    {
     "name": "stderr",
     "output_type": "stream",
     "text": [
      " 27%|██████████████████████████████████▋                                                                                              | 392/1459 [00:48<02:05,  8.48it/s]"
     ]
    },
    {
     "name": "stdout",
     "output_type": "stream",
     "text": [
      "batch 390, R-squared: -2.634032803842353, MAE: 15.0355224609375, RMSE: 16.33275604248047\n",
      "batch 391, R-squared: -2.5080630287749317, MAE: 13.850150108337402, RMSE: 15.415353775024414\n"
     ]
    },
    {
     "name": "stderr",
     "output_type": "stream",
     "text": [
      " 27%|██████████████████████████████████▊                                                                                              | 394/1459 [00:48<02:07,  8.33it/s]"
     ]
    },
    {
     "name": "stdout",
     "output_type": "stream",
     "text": [
      "batch 392, R-squared: -2.3841435584801944, MAE: 17.818359375, RMSE: 21.050966262817383\n",
      "batch 393, R-squared: -2.4917635030521885, MAE: 11.926547050476074, RMSE: 13.78097915649414\n"
     ]
    },
    {
     "name": "stderr",
     "output_type": "stream",
     "text": [
      " 27%|███████████████████████████████████                                                                                              | 396/1459 [00:48<02:11,  8.06it/s]"
     ]
    },
    {
     "name": "stdout",
     "output_type": "stream",
     "text": [
      "batch 394, R-squared: -2.805593577709198, MAE: 34.20711898803711, RMSE: 39.52490997314453\n",
      "batch 395, R-squared: -1.9997674033532937, MAE: 22.578554153442383, RMSE: 26.148792266845703\n"
     ]
    },
    {
     "name": "stderr",
     "output_type": "stream",
     "text": [
      "\r",
      " 27%|███████████████████████████████████▏                                                                                             | 398/1459 [00:48<01:55,  9.18it/s]"
     ]
    },
    {
     "name": "stdout",
     "output_type": "stream",
     "text": [
      "batch 396, R-squared: -3.0132428477202016, MAE: 34.68267059326172, RMSE: 38.46725082397461\n",
      "batch 397, R-squared: -3.6788648596819193, MAE: 36.75916290283203, RMSE: 40.48600387573242\n",
      "batch 398, R-squared: -3.0719064282870656, MAE: 19.621849060058594, RMSE: 21.043170928955078\n"
     ]
    },
    {
     "name": "stderr",
     "output_type": "stream",
     "text": [
      " 28%|███████████████████████████████████▌                                                                                             | 402/1459 [00:49<01:49,  9.67it/s]"
     ]
    },
    {
     "name": "stdout",
     "output_type": "stream",
     "text": [
      "batch 399, R-squared: -2.2236042039134243, MAE: 14.712789535522461, RMSE: 18.46342658996582\n",
      "batch 400, R-squared: -2.781153310631039, MAE: 24.398441314697266, RMSE: 26.769569396972656\n",
      "batch 401, R-squared: -2.0331354195075444, MAE: 17.87604331970215, RMSE: 23.326011657714844\n"
     ]
    },
    {
     "name": "stderr",
     "output_type": "stream",
     "text": [
      " 28%|███████████████████████████████████▋                                                                                             | 404/1459 [00:49<01:54,  9.23it/s]"
     ]
    },
    {
     "name": "stdout",
     "output_type": "stream",
     "text": [
      "batch 402, R-squared: -3.5984050671027275, MAE: 25.46030044555664, RMSE: 28.10740089416504\n",
      "batch 403, R-squared: -2.885310723691759, MAE: 25.722583770751953, RMSE: 29.955795288085938\n"
     ]
    },
    {
     "name": "stderr",
     "output_type": "stream",
     "text": [
      " 28%|███████████████████████████████████▉                                                                                             | 406/1459 [00:49<02:00,  8.76it/s]"
     ]
    },
    {
     "name": "stdout",
     "output_type": "stream",
     "text": [
      "batch 404, R-squared: -1.681100435166052, MAE: 15.285913467407227, RMSE: 19.848621368408203\n",
      "batch 405, R-squared: -2.8741838234959007, MAE: 26.5826473236084, RMSE: 30.429168701171875\n"
     ]
    },
    {
     "name": "stderr",
     "output_type": "stream",
     "text": [
      " 28%|████████████████████████████████████                                                                                             | 408/1459 [00:50<02:14,  7.82it/s]"
     ]
    },
    {
     "name": "stdout",
     "output_type": "stream",
     "text": [
      "batch 406, R-squared: -2.475355736213698, MAE: 23.672666549682617, RMSE: 25.680511474609375\n",
      "batch 407, R-squared: -1.8722521468988438, MAE: 14.237386703491211, RMSE: 16.072124481201172\n"
     ]
    },
    {
     "name": "stderr",
     "output_type": "stream",
     "text": [
      " 28%|████████████████████████████████████▎                                                                                            | 410/1459 [00:50<02:07,  8.23it/s]"
     ]
    },
    {
     "name": "stdout",
     "output_type": "stream",
     "text": [
      "batch 408, R-squared: -1.7253355881705952, MAE: 14.82737922668457, RMSE: 18.871112823486328\n",
      "batch 409, R-squared: -2.121601701764032, MAE: 23.69784164428711, RMSE: 28.590755462646484\n"
     ]
    },
    {
     "name": "stderr",
     "output_type": "stream",
     "text": [
      " 28%|████████████████████████████████████▌                                                                                            | 413/1459 [00:50<02:03,  8.49it/s]"
     ]
    },
    {
     "name": "stdout",
     "output_type": "stream",
     "text": [
      "batch 410, R-squared: -4.110929672652387, MAE: 19.05208969116211, RMSE: 20.286895751953125\n",
      "batch 411, R-squared: -3.0959342347160494, MAE: 13.861504554748535, RMSE: 15.56405258178711\n",
      "batch 412, R-squared: -3.4859671555395315, MAE: 25.758455276489258, RMSE: 27.523569107055664\n"
     ]
    },
    {
     "name": "stderr",
     "output_type": "stream",
     "text": [
      "\r",
      " 28%|████████████████████████████████████▋                                                                                            | 415/1459 [00:50<01:58,  8.79it/s]"
     ]
    },
    {
     "name": "stdout",
     "output_type": "stream",
     "text": [
      "batch 413, R-squared: -3.3959980591129435, MAE: 35.73469543457031, RMSE: 38.25836944580078\n",
      "batch 414, R-squared: -2.732401768273987, MAE: 32.061302185058594, RMSE: 34.95799255371094\n"
     ]
    },
    {
     "name": "stderr",
     "output_type": "stream",
     "text": [
      " 29%|████████████████████████████████████▊                                                                                            | 417/1459 [00:51<02:01,  8.59it/s]"
     ]
    },
    {
     "name": "stdout",
     "output_type": "stream",
     "text": [
      "batch 415, R-squared: -2.0822516046227393, MAE: 21.34193229675293, RMSE: 24.19593048095703\n",
      "batch 416, R-squared: -3.1641421447498503, MAE: 27.145339965820312, RMSE: 30.120861053466797\n"
     ]
    },
    {
     "name": "stderr",
     "output_type": "stream",
     "text": [
      " 29%|█████████████████████████████████████                                                                                            | 419/1459 [00:51<02:03,  8.41it/s]"
     ]
    },
    {
     "name": "stdout",
     "output_type": "stream",
     "text": [
      "batch 417, R-squared: -2.893222864291303, MAE: 26.352718353271484, RMSE: 29.33472442626953\n",
      "batch 418, R-squared: -1.299901533050841, MAE: 24.891462326049805, RMSE: 33.890663146972656\n",
      "batch 419, R-squared: -3.3459381517296296, MAE: 19.10189437866211, RMSE: 20.93659210205078\n"
     ]
    },
    {
     "name": "stderr",
     "output_type": "stream",
     "text": [
      " 29%|█████████████████████████████████████▎                                                                                           | 422/1459 [00:51<02:09,  8.02it/s]"
     ]
    },
    {
     "name": "stdout",
     "output_type": "stream",
     "text": [
      "batch 420, R-squared: -2.668566308081177, MAE: 28.74848747253418, RMSE: 32.888736724853516\n",
      "batch 421, R-squared: -1.468683938985977, MAE: 19.9034481048584, RMSE: 24.77337646484375\n"
     ]
    },
    {
     "name": "stderr",
     "output_type": "stream",
     "text": [
      " 29%|█████████████████████████████████████▍                                                                                           | 424/1459 [00:52<02:24,  7.15it/s]"
     ]
    },
    {
     "name": "stdout",
     "output_type": "stream",
     "text": [
      "batch 422, R-squared: -1.6457310502072664, MAE: 12.242998123168945, RMSE: 14.325565338134766\n",
      "batch 423, R-squared: -2.247303466790587, MAE: 14.2080078125, RMSE: 16.2429141998291\n"
     ]
    },
    {
     "name": "stderr",
     "output_type": "stream",
     "text": [
      " 29%|█████████████████████████████████████▋                                                                                           | 426/1459 [00:52<02:22,  7.24it/s]"
     ]
    },
    {
     "name": "stdout",
     "output_type": "stream",
     "text": [
      "batch 424, R-squared: -1.3750323362995687, MAE: 26.280847549438477, RMSE: 35.321861267089844\n",
      "batch 425, R-squared: -2.644069264656817, MAE: 17.814502716064453, RMSE: 19.80803680419922\n"
     ]
    },
    {
     "name": "stderr",
     "output_type": "stream",
     "text": [
      " 29%|█████████████████████████████████████▊                                                                                           | 428/1459 [00:52<02:23,  7.20it/s]"
     ]
    },
    {
     "name": "stdout",
     "output_type": "stream",
     "text": [
      "batch 426, R-squared: -2.0321082778378123, MAE: 17.387731552124023, RMSE: 20.58379364013672\n",
      "batch 427, R-squared: -2.455471647962735, MAE: 18.776090621948242, RMSE: 21.652263641357422\n"
     ]
    },
    {
     "name": "stderr",
     "output_type": "stream",
     "text": [
      " 29%|██████████████████████████████████████                                                                                           | 430/1459 [00:52<02:29,  6.88it/s]"
     ]
    },
    {
     "name": "stdout",
     "output_type": "stream",
     "text": [
      "batch 428, R-squared: -3.2965257620136423, MAE: 29.267070770263672, RMSE: 32.86248016357422\n",
      "batch 429, R-squared: -3.189819590914197, MAE: 21.17634391784668, RMSE: 22.981159210205078\n"
     ]
    },
    {
     "name": "stderr",
     "output_type": "stream",
     "text": [
      " 30%|██████████████████████████████████████▎                                                                                          | 433/1459 [00:53<02:05,  8.21it/s]"
     ]
    },
    {
     "name": "stdout",
     "output_type": "stream",
     "text": [
      "batch 430, R-squared: -2.398406944837859, MAE: 20.68384552001953, RMSE: 23.642332077026367\n",
      "batch 431, R-squared: -2.8389639673660634, MAE: 26.845277786254883, RMSE: 30.81564712524414\n",
      "batch 432, R-squared: -2.6202570396681093, MAE: 24.007049560546875, RMSE: 26.837072372436523\n"
     ]
    },
    {
     "name": "stderr",
     "output_type": "stream",
     "text": [
      " 30%|██████████████████████████████████████▍                                                                                          | 435/1459 [00:53<02:18,  7.40it/s]"
     ]
    },
    {
     "name": "stdout",
     "output_type": "stream",
     "text": [
      "batch 433, R-squared: -2.8033408567339455, MAE: 23.648387908935547, RMSE: 26.56715965270996\n",
      "batch 434, R-squared: -3.3305699404536093, MAE: 24.774044036865234, RMSE: 26.537796020507812\n"
     ]
    },
    {
     "name": "stderr",
     "output_type": "stream",
     "text": [
      " 30%|██████████████████████████████████████▋                                                                                          | 437/1459 [00:53<02:09,  7.89it/s]"
     ]
    },
    {
     "name": "stdout",
     "output_type": "stream",
     "text": [
      "batch 435, R-squared: -3.675052236323186, MAE: 22.338518142700195, RMSE: 24.695524215698242\n",
      "batch 436, R-squared: -2.4616703743097603, MAE: 31.65694236755371, RMSE: 38.97642517089844\n",
      "batch 437, R-squared: -1.56764247383882, MAE: 20.991859436035156, RMSE: 25.428508758544922\n"
     ]
    },
    {
     "name": "stderr",
     "output_type": "stream",
     "text": [
      " 30%|██████████████████████████████████████▉                                                                                          | 440/1459 [00:54<01:59,  8.54it/s]"
     ]
    },
    {
     "name": "stdout",
     "output_type": "stream",
     "text": [
      "batch 438, R-squared: -2.4592937636488723, MAE: 24.817684173583984, RMSE: 27.19923973083496\n",
      "batch 439, R-squared: -2.2568844348693693, MAE: 32.246246337890625, RMSE: 39.41571807861328\n"
     ]
    },
    {
     "name": "stderr",
     "output_type": "stream",
     "text": [
      " 30%|███████████████████████████████████████                                                                                          | 442/1459 [00:54<02:02,  8.33it/s]"
     ]
    },
    {
     "name": "stdout",
     "output_type": "stream",
     "text": [
      "batch 440, R-squared: -2.8961870081446595, MAE: 15.853315353393555, RMSE: 17.34217643737793\n",
      "batch 441, R-squared: -3.19249377147921, MAE: 20.383602142333984, RMSE: 24.043426513671875\n"
     ]
    },
    {
     "name": "stderr",
     "output_type": "stream",
     "text": [
      " 30%|███████████████████████████████████████▎                                                                                         | 444/1459 [00:54<02:29,  6.80it/s]"
     ]
    },
    {
     "name": "stdout",
     "output_type": "stream",
     "text": [
      "batch 442, R-squared: -2.4670035201595955, MAE: 19.004167556762695, RMSE: 21.348278045654297\n",
      "batch 443, R-squared: -2.673466110818318, MAE: 18.96128273010254, RMSE: 20.92751693725586\n"
     ]
    },
    {
     "name": "stderr",
     "output_type": "stream",
     "text": [
      " 31%|███████████████████████████████████████▍                                                                                         | 446/1459 [00:55<02:13,  7.56it/s]"
     ]
    },
    {
     "name": "stdout",
     "output_type": "stream",
     "text": [
      "batch 444, R-squared: -1.772978453858837, MAE: 15.173343658447266, RMSE: 18.8905029296875\n",
      "batch 445, R-squared: -1.9007747489431497, MAE: 16.160064697265625, RMSE: 20.16375732421875\n"
     ]
    },
    {
     "name": "stderr",
     "output_type": "stream",
     "text": [
      " 31%|███████████████████████████████████████▌                                                                                         | 448/1459 [00:55<02:14,  7.51it/s]"
     ]
    },
    {
     "name": "stdout",
     "output_type": "stream",
     "text": [
      "batch 446, R-squared: -3.263824416241543, MAE: 34.567413330078125, RMSE: 38.20470428466797\n",
      "batch 447, R-squared: -2.0176407677015917, MAE: 16.355209350585938, RMSE: 19.545791625976562\n"
     ]
    },
    {
     "name": "stderr",
     "output_type": "stream",
     "text": [
      " 31%|███████████████████████████████████████▊                                                                                         | 450/1459 [00:55<02:13,  7.54it/s]"
     ]
    },
    {
     "name": "stdout",
     "output_type": "stream",
     "text": [
      "batch 448, R-squared: -3.829231106502366, MAE: 27.96280860900879, RMSE: 30.104875564575195\n",
      "batch 449, R-squared: -3.5378932670965137, MAE: 24.966463088989258, RMSE: 26.995891571044922\n"
     ]
    },
    {
     "name": "stderr",
     "output_type": "stream",
     "text": [
      " 31%|███████████████████████████████████████▉                                                                                         | 452/1459 [00:55<02:22,  7.04it/s]"
     ]
    },
    {
     "name": "stdout",
     "output_type": "stream",
     "text": [
      "batch 450, R-squared: -2.4365323159859127, MAE: 34.02945327758789, RMSE: 37.06454849243164\n",
      "batch 451, R-squared: -3.876001267673515, MAE: 27.857131958007812, RMSE: 31.052705764770508\n"
     ]
    },
    {
     "name": "stderr",
     "output_type": "stream",
     "text": [
      " 31%|████████████████████████████████████████▏                                                                                        | 455/1459 [00:56<02:02,  8.21it/s]"
     ]
    },
    {
     "name": "stdout",
     "output_type": "stream",
     "text": [
      "batch 452, R-squared: -4.166493633676772, MAE: 25.27538299560547, RMSE: 27.83489990234375\n",
      "batch 453, R-squared: -1.9420236672921476, MAE: 17.781036376953125, RMSE: 22.773290634155273\n",
      "batch 454, R-squared: -1.5224809561479888, MAE: 14.322649002075195, RMSE: 16.65997314453125\n"
     ]
    },
    {
     "name": "stderr",
     "output_type": "stream",
     "text": [
      "\r",
      " 31%|████████████████████████████████████████▍                                                                                        | 457/1459 [00:56<01:48,  9.23it/s]"
     ]
    },
    {
     "name": "stdout",
     "output_type": "stream",
     "text": [
      "batch 455, R-squared: -2.310255122711481, MAE: 25.20855140686035, RMSE: 29.793712615966797\n",
      "batch 456, R-squared: -2.049389655462445, MAE: 18.404491424560547, RMSE: 21.059749603271484\n"
     ]
    },
    {
     "name": "stderr",
     "output_type": "stream",
     "text": [
      " 32%|████████████████████████████████████████▋                                                                                        | 460/1459 [00:56<01:47,  9.27it/s]"
     ]
    },
    {
     "name": "stdout",
     "output_type": "stream",
     "text": [
      "batch 457, R-squared: -4.462152721708397, MAE: 22.859600067138672, RMSE: 25.759166717529297\n",
      "batch 458, R-squared: -4.562863548322245, MAE: 19.282821655273438, RMSE: 20.629358291625977\n",
      "batch 459, R-squared: -1.9959924693358109, MAE: 32.05276870727539, RMSE: 40.71800994873047\n"
     ]
    },
    {
     "name": "stderr",
     "output_type": "stream",
     "text": [
      " 32%|████████████████████████████████████████▊                                                                                        | 462/1459 [00:56<01:48,  9.18it/s]"
     ]
    },
    {
     "name": "stdout",
     "output_type": "stream",
     "text": [
      "batch 460, R-squared: -2.9556933204765405, MAE: 29.344881057739258, RMSE: 32.34366989135742\n",
      "batch 461, R-squared: -3.9660175544398437, MAE: 17.31749725341797, RMSE: 18.94538116455078\n"
     ]
    },
    {
     "name": "stderr",
     "output_type": "stream",
     "text": [
      " 32%|█████████████████████████████████████████                                                                                        | 464/1459 [00:57<01:58,  8.39it/s]"
     ]
    },
    {
     "name": "stdout",
     "output_type": "stream",
     "text": [
      "batch 462, R-squared: -3.927385632642536, MAE: 27.012731552124023, RMSE: 28.762977600097656\n",
      "batch 463, R-squared: -2.9765037611604592, MAE: 20.578224182128906, RMSE: 23.03888511657715\n"
     ]
    },
    {
     "name": "stderr",
     "output_type": "stream",
     "text": [
      "\r",
      " 32%|█████████████████████████████████████████                                                                                        | 465/1459 [00:57<01:57,  8.47it/s]"
     ]
    },
    {
     "name": "stdout",
     "output_type": "stream",
     "text": [
      "batch 464, R-squared: -2.7968209169226412, MAE: 20.268062591552734, RMSE: 22.5333194732666\n",
      "batch 465, R-squared: -1.8263697438190416, MAE: 12.666765213012695, RMSE: 15.804631233215332\n"
     ]
    },
    {
     "name": "stderr",
     "output_type": "stream",
     "text": [
      " 32%|█████████████████████████████████████████▍                                                                                       | 468/1459 [00:57<01:55,  8.57it/s]"
     ]
    },
    {
     "name": "stdout",
     "output_type": "stream",
     "text": [
      "batch 466, R-squared: -3.2135102687591957, MAE: 22.149059295654297, RMSE: 25.160812377929688\n",
      "batch 467, R-squared: -3.1471787749760116, MAE: 22.209247589111328, RMSE: 23.816959381103516\n"
     ]
    },
    {
     "name": "stderr",
     "output_type": "stream",
     "text": [
      " 32%|█████████████████████████████████████████▌                                                                                       | 470/1459 [00:57<02:09,  7.66it/s]"
     ]
    },
    {
     "name": "stdout",
     "output_type": "stream",
     "text": [
      "batch 468, R-squared: -2.4288673196292065, MAE: 23.389114379882812, RMSE: 26.205646514892578\n",
      "batch 469, R-squared: -1.744533977345342, MAE: 22.62773323059082, RMSE: 28.97625160217285\n"
     ]
    },
    {
     "name": "stderr",
     "output_type": "stream",
     "text": [
      " 32%|█████████████████████████████████████████▋                                                                                       | 472/1459 [00:58<01:59,  8.26it/s]"
     ]
    },
    {
     "name": "stdout",
     "output_type": "stream",
     "text": [
      "batch 470, R-squared: -3.236664670487246, MAE: 29.053571701049805, RMSE: 32.162052154541016\n",
      "batch 471, R-squared: -4.248078337086404, MAE: 40.46726989746094, RMSE: 42.82197570800781\n"
     ]
    },
    {
     "name": "stderr",
     "output_type": "stream",
     "text": [
      " 32%|█████████████████████████████████████████▉                                                                                       | 474/1459 [00:58<02:12,  7.41it/s]"
     ]
    },
    {
     "name": "stdout",
     "output_type": "stream",
     "text": [
      "batch 472, R-squared: -2.0730101290389986, MAE: 15.216196060180664, RMSE: 18.030241012573242\n",
      "batch 473, R-squared: -2.5916664494471497, MAE: 20.289405822753906, RMSE: 24.453937530517578\n"
     ]
    },
    {
     "name": "stderr",
     "output_type": "stream",
     "text": [
      " 33%|██████████████████████████████████████████▏                                                                                      | 477/1459 [00:58<01:55,  8.48it/s]"
     ]
    },
    {
     "name": "stdout",
     "output_type": "stream",
     "text": [
      "batch 474, R-squared: -2.3301790868328274, MAE: 38.69466018676758, RMSE: 41.8383674621582\n",
      "batch 475, R-squared: -2.2277054181634983, MAE: 21.623687744140625, RMSE: 25.34083366394043\n",
      "batch 476, R-squared: -3.67733883845567, MAE: 14.32670783996582, RMSE: 15.4346923828125\n"
     ]
    },
    {
     "name": "stderr",
     "output_type": "stream",
     "text": [
      " 33%|██████████████████████████████████████████▎                                                                                      | 479/1459 [00:59<01:55,  8.47it/s]"
     ]
    },
    {
     "name": "stdout",
     "output_type": "stream",
     "text": [
      "batch 477, R-squared: -2.433740605009662, MAE: 20.669910430908203, RMSE: 23.274707794189453\n",
      "batch 478, R-squared: -1.9490896418830923, MAE: 13.003613471984863, RMSE: 14.830484390258789\n"
     ]
    },
    {
     "name": "stderr",
     "output_type": "stream",
     "text": [
      " 33%|██████████████████████████████████████████▌                                                                                      | 481/1459 [00:59<01:55,  8.47it/s]"
     ]
    },
    {
     "name": "stdout",
     "output_type": "stream",
     "text": [
      "batch 479, R-squared: -2.719983394852849, MAE: 31.486326217651367, RMSE: 33.80827713012695\n",
      "batch 480, R-squared: -3.584380589237441, MAE: 17.864547729492188, RMSE: 19.523576736450195\n"
     ]
    },
    {
     "name": "stderr",
     "output_type": "stream",
     "text": [
      " 33%|██████████████████████████████████████████▋                                                                                      | 483/1459 [00:59<01:56,  8.39it/s]"
     ]
    },
    {
     "name": "stdout",
     "output_type": "stream",
     "text": [
      "batch 481, R-squared: -2.269380351214812, MAE: 19.8316650390625, RMSE: 24.471572875976562\n",
      "batch 482, R-squared: -2.5037715647748158, MAE: 27.778623580932617, RMSE: 31.842933654785156\n"
     ]
    },
    {
     "name": "stderr",
     "output_type": "stream",
     "text": [
      " 33%|██████████████████████████████████████████▉                                                                                      | 485/1459 [00:59<02:05,  7.73it/s]"
     ]
    },
    {
     "name": "stdout",
     "output_type": "stream",
     "text": [
      "batch 483, R-squared: -3.344984474910712, MAE: 27.06525421142578, RMSE: 29.597579956054688\n",
      "batch 484, R-squared: -2.4673433845593955, MAE: 19.631908416748047, RMSE: 22.436723709106445\n"
     ]
    },
    {
     "name": "stderr",
     "output_type": "stream",
     "text": [
      " 33%|███████████████████████████████████████████                                                                                      | 487/1459 [01:00<01:58,  8.20it/s]"
     ]
    },
    {
     "name": "stdout",
     "output_type": "stream",
     "text": [
      "batch 485, R-squared: -2.8785083508215203, MAE: 20.646102905273438, RMSE: 23.995803833007812\n",
      "batch 486, R-squared: -3.6509122532631966, MAE: 16.198211669921875, RMSE: 18.11101531982422\n"
     ]
    },
    {
     "name": "stderr",
     "output_type": "stream",
     "text": [
      "\r",
      " 34%|███████████████████████████████████████████▏                                                                                     | 489/1459 [01:00<01:46,  9.11it/s]"
     ]
    },
    {
     "name": "stdout",
     "output_type": "stream",
     "text": [
      "batch 487, R-squared: -3.860024592007292, MAE: 17.60856819152832, RMSE: 18.59174346923828\n",
      "batch 488, R-squared: -3.6226683730442772, MAE: 25.835174560546875, RMSE: 27.728168487548828\n",
      "batch 489, R-squared: -2.707043851772024, MAE: 17.059263229370117, RMSE: 19.36688804626465\n"
     ]
    },
    {
     "name": "stderr",
     "output_type": "stream",
     "text": [
      " 34%|███████████████████████████████████████████▌                                                                                     | 493/1459 [01:00<01:42,  9.46it/s]"
     ]
    },
    {
     "name": "stdout",
     "output_type": "stream",
     "text": [
      "batch 490, R-squared: -3.079170540801677, MAE: 24.84562110900879, RMSE: 26.31203842163086\n",
      "batch 491, R-squared: -2.582300678887051, MAE: 36.39020538330078, RMSE: 43.977508544921875\n",
      "batch 492, R-squared: -1.9626232028650665, MAE: 33.25214767456055, RMSE: 40.5139045715332\n"
     ]
    },
    {
     "name": "stderr",
     "output_type": "stream",
     "text": [
      " 34%|███████████████████████████████████████████▊                                                                                     | 496/1459 [01:00<01:31, 10.54it/s]"
     ]
    },
    {
     "name": "stdout",
     "output_type": "stream",
     "text": [
      "batch 493, R-squared: -2.8306091838442224, MAE: 22.021902084350586, RMSE: 24.613807678222656\n",
      "batch 494, R-squared: -3.277986252996751, MAE: 28.414939880371094, RMSE: 32.3362922668457\n",
      "batch 495, R-squared: -2.3985049384799817, MAE: 25.680635452270508, RMSE: 30.744304656982422\n"
     ]
    },
    {
     "name": "stderr",
     "output_type": "stream",
     "text": [
      "\r",
      " 34%|████████████████████████████████████████████                                                                                     | 498/1459 [01:01<01:37,  9.84it/s]"
     ]
    },
    {
     "name": "stdout",
     "output_type": "stream",
     "text": [
      "batch 496, R-squared: -2.6621838273876595, MAE: 29.759119033813477, RMSE: 35.876495361328125\n",
      "batch 497, R-squared: -2.604935215836872, MAE: 21.13802146911621, RMSE: 23.055068969726562\n"
     ]
    },
    {
     "name": "stderr",
     "output_type": "stream",
     "text": [
      " 34%|████████████████████████████████████████████▎                                                                                    | 501/1459 [01:01<01:37,  9.78it/s]"
     ]
    },
    {
     "name": "stdout",
     "output_type": "stream",
     "text": [
      "batch 498, R-squared: -1.7511793644157196, MAE: 16.44754981994629, RMSE: 19.788990020751953\n",
      "batch 499, R-squared: -3.0585583941635894, MAE: 25.274578094482422, RMSE: 29.41602325439453\n",
      "batch 500, R-squared: -2.656754137115043, MAE: 25.097469329833984, RMSE: 30.615718841552734\n"
     ]
    },
    {
     "name": "stderr",
     "output_type": "stream",
     "text": [
      " 34%|████████████████████████████████████████████▍                                                                                    | 503/1459 [01:01<01:45,  9.07it/s]"
     ]
    },
    {
     "name": "stdout",
     "output_type": "stream",
     "text": [
      "batch 501, R-squared: -2.14632011636649, MAE: 21.309701919555664, RMSE: 25.973175048828125\n",
      "batch 502, R-squared: -3.1240789928425587, MAE: 13.517206192016602, RMSE: 15.271955490112305\n"
     ]
    },
    {
     "name": "stderr",
     "output_type": "stream",
     "text": [
      " 35%|████████████████████████████████████████████▋                                                                                    | 505/1459 [01:01<01:59,  7.97it/s]"
     ]
    },
    {
     "name": "stdout",
     "output_type": "stream",
     "text": [
      "batch 503, R-squared: -2.7182761384261664, MAE: 24.899534225463867, RMSE: 28.433059692382812\n",
      "batch 504, R-squared: -2.3670776509173077, MAE: 26.836624145507812, RMSE: 30.575843811035156\n"
     ]
    },
    {
     "name": "stderr",
     "output_type": "stream",
     "text": [
      " 35%|████████████████████████████████████████████▊                                                                                    | 507/1459 [01:02<01:56,  8.20it/s]"
     ]
    },
    {
     "name": "stdout",
     "output_type": "stream",
     "text": [
      "batch 505, R-squared: -2.865668838229256, MAE: 21.92467498779297, RMSE: 23.107879638671875\n",
      "batch 506, R-squared: -0.9564667731173248, MAE: 20.342838287353516, RMSE: 27.232765197753906\n"
     ]
    },
    {
     "name": "stderr",
     "output_type": "stream",
     "text": [
      " 35%|█████████████████████████████████████████████                                                                                    | 509/1459 [01:02<02:00,  7.91it/s]"
     ]
    },
    {
     "name": "stdout",
     "output_type": "stream",
     "text": [
      "batch 507, R-squared: -2.3786655856074166, MAE: 22.626283645629883, RMSE: 24.32979965209961\n",
      "batch 508, R-squared: -2.3806999215375484, MAE: 32.92821502685547, RMSE: 39.67101287841797\n"
     ]
    },
    {
     "name": "stderr",
     "output_type": "stream",
     "text": [
      "\r",
      " 35%|█████████████████████████████████████████████▏                                                                                   | 511/1459 [01:02<01:48,  8.74it/s]"
     ]
    },
    {
     "name": "stdout",
     "output_type": "stream",
     "text": [
      "batch 509, R-squared: -2.366209494289273, MAE: 16.23626708984375, RMSE: 19.609867095947266\n",
      "batch 510, R-squared: -3.0856906163675615, MAE: 25.616426467895508, RMSE: 28.889785766601562\n"
     ]
    },
    {
     "name": "stderr",
     "output_type": "stream",
     "text": [
      " 35%|█████████████████████████████████████████████▎                                                                                   | 513/1459 [01:02<01:49,  8.61it/s]"
     ]
    },
    {
     "name": "stdout",
     "output_type": "stream",
     "text": [
      "batch 511, R-squared: -3.1358142212397913, MAE: 14.177738189697266, RMSE: 15.575394630432129\n",
      "batch 512, R-squared: -3.8900798639990635, MAE: 17.735031127929688, RMSE: 19.3465518951416\n",
      "batch 513, R-squared: -3.9516151477039942, MAE: 22.936908721923828, RMSE: 24.286956787109375\n"
     ]
    },
    {
     "name": "stderr",
     "output_type": "stream",
     "text": [
      " 35%|█████████████████████████████████████████████▌                                                                                   | 516/1459 [01:03<01:42,  9.18it/s]"
     ]
    },
    {
     "name": "stdout",
     "output_type": "stream",
     "text": [
      "batch 514, R-squared: -3.446629546883811, MAE: 19.90416717529297, RMSE: 22.02924156188965\n",
      "batch 515, R-squared: -2.8662163804337686, MAE: 47.66191482543945, RMSE: 50.01133346557617\n",
      "batch 516, R-squared: -2.6447911074823955, MAE: 20.269441604614258, RMSE: 24.241649627685547\n"
     ]
    },
    {
     "name": "stderr",
     "output_type": "stream",
     "text": [
      " 36%|█████████████████████████████████████████████▉                                                                                   | 519/1459 [01:03<01:42,  9.19it/s]"
     ]
    },
    {
     "name": "stdout",
     "output_type": "stream",
     "text": [
      "batch 517, R-squared: -2.6424403152893534, MAE: 19.890518188476562, RMSE: 23.037199020385742\n",
      "batch 518, R-squared: -3.366863315049142, MAE: 22.54026985168457, RMSE: 25.058364868164062\n"
     ]
    },
    {
     "name": "stderr",
     "output_type": "stream",
     "text": [
      " 36%|██████████████████████████████████████████████                                                                                   | 521/1459 [01:03<01:45,  8.91it/s]"
     ]
    },
    {
     "name": "stdout",
     "output_type": "stream",
     "text": [
      "batch 519, R-squared: -2.5481736868209297, MAE: 13.016301155090332, RMSE: 14.228623390197754\n",
      "batch 520, R-squared: -2.7444888289014093, MAE: 20.330127716064453, RMSE: 22.417497634887695\n"
     ]
    },
    {
     "name": "stderr",
     "output_type": "stream",
     "text": [
      " 36%|██████████████████████████████████████████████▏                                                                                  | 523/1459 [01:04<01:42,  9.11it/s]"
     ]
    },
    {
     "name": "stdout",
     "output_type": "stream",
     "text": [
      "batch 521, R-squared: -3.5341748427675306, MAE: 24.767616271972656, RMSE: 26.761180877685547\n",
      "batch 522, R-squared: -2.8364726368305724, MAE: 17.034259796142578, RMSE: 19.62957000732422\n"
     ]
    },
    {
     "name": "stderr",
     "output_type": "stream",
     "text": [
      " 36%|██████████████████████████████████████████████▌                                                                                  | 526/1459 [01:04<01:44,  8.94it/s]"
     ]
    },
    {
     "name": "stdout",
     "output_type": "stream",
     "text": [
      "batch 523, R-squared: -2.4574089173798184, MAE: 25.276174545288086, RMSE: 28.524816513061523\n",
      "batch 524, R-squared: -3.324341506715182, MAE: 22.664445877075195, RMSE: 24.565631866455078\n",
      "batch 525, R-squared: -3.0258374441403766, MAE: 10.918322563171387, RMSE: 11.796249389648438\n"
     ]
    },
    {
     "name": "stderr",
     "output_type": "stream",
     "text": [
      " 36%|██████████████████████████████████████████████▋                                                                                  | 528/1459 [01:04<02:00,  7.74it/s]"
     ]
    },
    {
     "name": "stdout",
     "output_type": "stream",
     "text": [
      "batch 526, R-squared: -3.2931682409408536, MAE: 25.962772369384766, RMSE: 29.776649475097656\n",
      "batch 527, R-squared: -3.3530374793123707, MAE: 26.129648208618164, RMSE: 28.111469268798828\n"
     ]
    },
    {
     "name": "stderr",
     "output_type": "stream",
     "text": [
      " 36%|██████████████████████████████████████████████▊                                                                                  | 530/1459 [01:04<01:52,  8.28it/s]"
     ]
    },
    {
     "name": "stdout",
     "output_type": "stream",
     "text": [
      "batch 528, R-squared: -3.040971889420609, MAE: 22.9361629486084, RMSE: 24.798648834228516\n",
      "batch 529, R-squared: -3.76366732960686, MAE: 27.90163803100586, RMSE: 29.913482666015625\n"
     ]
    },
    {
     "name": "stderr",
     "output_type": "stream",
     "text": [
      " 36%|███████████████████████████████████████████████                                                                                  | 532/1459 [01:05<01:51,  8.29it/s]"
     ]
    },
    {
     "name": "stdout",
     "output_type": "stream",
     "text": [
      "batch 530, R-squared: -3.4423548403528867, MAE: 25.108596801757812, RMSE: 27.288896560668945\n",
      "batch 531, R-squared: -2.7558185369193664, MAE: 20.002239227294922, RMSE: 22.30910873413086\n"
     ]
    },
    {
     "name": "stderr",
     "output_type": "stream",
     "text": [
      " 37%|███████████████████████████████████████████████▏                                                                                 | 534/1459 [01:05<01:53,  8.12it/s]"
     ]
    },
    {
     "name": "stdout",
     "output_type": "stream",
     "text": [
      "batch 532, R-squared: -3.4299834423042292, MAE: 25.564016342163086, RMSE: 28.610748291015625\n",
      "batch 533, R-squared: -1.8722183806388402, MAE: 28.524681091308594, RMSE: 35.50090026855469\n"
     ]
    },
    {
     "name": "stderr",
     "output_type": "stream",
     "text": [
      " 37%|███████████████████████████████████████████████▍                                                                                 | 536/1459 [01:05<01:47,  8.56it/s]"
     ]
    },
    {
     "name": "stdout",
     "output_type": "stream",
     "text": [
      "batch 534, R-squared: -2.8565955866165016, MAE: 28.861560821533203, RMSE: 32.85425567626953\n",
      "batch 535, R-squared: -2.6279905290570182, MAE: 22.22027015686035, RMSE: 24.62656593322754\n",
      "batch 536, R-squared: -2.447837926285075, MAE: 19.69611167907715, RMSE: 22.09366226196289\n"
     ]
    },
    {
     "name": "stderr",
     "output_type": "stream",
     "text": [
      " 37%|███████████████████████████████████████████████▋                                                                                 | 539/1459 [01:05<01:49,  8.37it/s]"
     ]
    },
    {
     "name": "stdout",
     "output_type": "stream",
     "text": [
      "batch 537, R-squared: -2.3200329879856714, MAE: 18.507396697998047, RMSE: 20.14031410217285\n",
      "batch 538, R-squared: -2.4113326254241527, MAE: 23.647659301757812, RMSE: 27.09050941467285\n"
     ]
    },
    {
     "name": "stderr",
     "output_type": "stream",
     "text": [
      " 37%|███████████████████████████████████████████████▊                                                                                 | 541/1459 [01:06<01:54,  8.00it/s]"
     ]
    },
    {
     "name": "stdout",
     "output_type": "stream",
     "text": [
      "batch 539, R-squared: -3.4679334087467852, MAE: 19.528671264648438, RMSE: 21.01222038269043\n",
      "batch 540, R-squared: -3.3213210134899542, MAE: 19.6416015625, RMSE: 21.498104095458984\n"
     ]
    },
    {
     "name": "stderr",
     "output_type": "stream",
     "text": [
      " 37%|████████████████████████████████████████████████                                                                                 | 543/1459 [01:06<02:02,  7.47it/s]"
     ]
    },
    {
     "name": "stdout",
     "output_type": "stream",
     "text": [
      "batch 541, R-squared: -2.9895323524363695, MAE: 24.77300262451172, RMSE: 28.76284408569336\n",
      "batch 542, R-squared: -2.625608842592735, MAE: 22.39382553100586, RMSE: 25.525129318237305\n"
     ]
    },
    {
     "name": "stderr",
     "output_type": "stream",
     "text": [
      " 37%|████████████████████████████████████████████████▏                                                                                | 545/1459 [01:06<01:55,  7.92it/s]"
     ]
    },
    {
     "name": "stdout",
     "output_type": "stream",
     "text": [
      "batch 543, R-squared: -2.128959117630924, MAE: 32.733070373535156, RMSE: 38.643619537353516\n",
      "batch 544, R-squared: -3.040070076053088, MAE: 15.747465133666992, RMSE: 17.14512062072754\n"
     ]
    },
    {
     "name": "stderr",
     "output_type": "stream",
     "text": [
      "\r",
      " 37%|████████████████████████████████████████████████▎                                                                                | 546/1459 [01:06<01:57,  7.75it/s]"
     ]
    },
    {
     "name": "stdout",
     "output_type": "stream",
     "text": [
      "batch 545, R-squared: -2.247284537305867, MAE: 14.710775375366211, RMSE: 16.818279266357422\n",
      "batch 546, R-squared: -4.326634863708472, MAE: 41.021568298339844, RMSE: 44.90850067138672\n"
     ]
    },
    {
     "name": "stderr",
     "output_type": "stream",
     "text": [
      " 38%|████████████████████████████████████████████████▌                                                                                | 549/1459 [01:07<01:51,  8.19it/s]"
     ]
    },
    {
     "name": "stdout",
     "output_type": "stream",
     "text": [
      "batch 547, R-squared: -1.9876225069195204, MAE: 29.639556884765625, RMSE: 34.815711975097656\n",
      "batch 548, R-squared: -3.287230096448918, MAE: 27.931472778320312, RMSE: 28.996185302734375\n"
     ]
    },
    {
     "name": "stderr",
     "output_type": "stream",
     "text": [
      " 38%|████████████████████████████████████████████████▋                                                                                | 551/1459 [01:07<01:46,  8.56it/s]"
     ]
    },
    {
     "name": "stdout",
     "output_type": "stream",
     "text": [
      "batch 549, R-squared: -2.3874418117353007, MAE: 18.241432189941406, RMSE: 22.18927001953125\n",
      "batch 550, R-squared: -4.2185475660402165, MAE: 13.98001480102539, RMSE: 15.08330249786377\n"
     ]
    },
    {
     "name": "stderr",
     "output_type": "stream",
     "text": [
      " 38%|████████████████████████████████████████████████▉                                                                                | 553/1459 [01:07<01:50,  8.22it/s]"
     ]
    },
    {
     "name": "stdout",
     "output_type": "stream",
     "text": [
      "batch 551, R-squared: -2.2196287138220074, MAE: 15.856380462646484, RMSE: 18.028013229370117\n",
      "batch 552, R-squared: -2.775190416297275, MAE: 23.86106300354004, RMSE: 26.21748924255371\n"
     ]
    },
    {
     "name": "stderr",
     "output_type": "stream",
     "text": [
      " 38%|█████████████████████████████████████████████████                                                                                | 555/1459 [01:07<01:54,  7.92it/s]"
     ]
    },
    {
     "name": "stdout",
     "output_type": "stream",
     "text": [
      "batch 553, R-squared: -2.976862816209602, MAE: 23.233896255493164, RMSE: 24.52633285522461\n",
      "batch 554, R-squared: -2.392226125975317, MAE: 21.241962432861328, RMSE: 25.04318618774414\n"
     ]
    },
    {
     "name": "stderr",
     "output_type": "stream",
     "text": [
      " 38%|█████████████████████████████████████████████████▏                                                                               | 557/1459 [01:08<01:57,  7.66it/s]"
     ]
    },
    {
     "name": "stdout",
     "output_type": "stream",
     "text": [
      "batch 555, R-squared: -4.234121028703772, MAE: 28.070114135742188, RMSE: 31.060121536254883\n",
      "batch 556, R-squared: -1.681950361596074, MAE: 14.582714080810547, RMSE: 18.820531845092773\n"
     ]
    },
    {
     "name": "stderr",
     "output_type": "stream",
     "text": [
      " 38%|█████████████████████████████████████████████████▍                                                                               | 559/1459 [01:08<02:01,  7.41it/s]"
     ]
    },
    {
     "name": "stdout",
     "output_type": "stream",
     "text": [
      "batch 557, R-squared: -1.8102146352002948, MAE: 17.129594802856445, RMSE: 20.5662784576416\n",
      "batch 558, R-squared: -3.9449103291672136, MAE: 23.357337951660156, RMSE: 26.025484085083008\n"
     ]
    },
    {
     "name": "stderr",
     "output_type": "stream",
     "text": [
      " 38%|█████████████████████████████████████████████████▌                                                                               | 561/1459 [01:08<02:17,  6.55it/s]"
     ]
    },
    {
     "name": "stdout",
     "output_type": "stream",
     "text": [
      "batch 559, R-squared: -3.273372208306081, MAE: 30.99937629699707, RMSE: 34.777976989746094\n",
      "batch 560, R-squared: -3.4904399226400162, MAE: 13.095294952392578, RMSE: 14.329957962036133\n"
     ]
    },
    {
     "name": "stderr",
     "output_type": "stream",
     "text": [
      " 39%|█████████████████████████████████████████████████▊                                                                               | 563/1459 [01:09<02:17,  6.53it/s]"
     ]
    },
    {
     "name": "stdout",
     "output_type": "stream",
     "text": [
      "batch 561, R-squared: -2.2265685740820773, MAE: 25.16469955444336, RMSE: 31.820049285888672\n",
      "batch 562, R-squared: -2.0806658135397598, MAE: 26.091501235961914, RMSE: 32.30766296386719\n"
     ]
    },
    {
     "name": "stderr",
     "output_type": "stream",
     "text": [
      "\r",
      " 39%|█████████████████████████████████████████████████▉                                                                               | 565/1459 [01:09<01:52,  7.94it/s]"
     ]
    },
    {
     "name": "stdout",
     "output_type": "stream",
     "text": [
      "batch 563, R-squared: -4.102519186036781, MAE: 26.52423858642578, RMSE: 29.44506072998047\n",
      "batch 564, R-squared: -2.0632223765242066, MAE: 17.0634765625, RMSE: 20.849411010742188\n"
     ]
    },
    {
     "name": "stderr",
     "output_type": "stream",
     "text": [
      " 39%|██████████████████████████████████████████████████▏                                                                              | 568/1459 [01:09<01:41,  8.77it/s]"
     ]
    },
    {
     "name": "stdout",
     "output_type": "stream",
     "text": [
      "batch 565, R-squared: -2.2957146278212868, MAE: 25.013830184936523, RMSE: 27.341434478759766\n",
      "batch 566, R-squared: -2.725752234991466, MAE: 15.20744514465332, RMSE: 16.369186401367188\n",
      "batch 567, R-squared: -2.270556177626578, MAE: 22.13973045349121, RMSE: 26.697235107421875\n"
     ]
    },
    {
     "name": "stderr",
     "output_type": "stream",
     "text": [
      " 39%|██████████████████████████████████████████████████▍                                                                              | 570/1459 [01:09<01:39,  8.95it/s]"
     ]
    },
    {
     "name": "stdout",
     "output_type": "stream",
     "text": [
      "batch 568, R-squared: -3.072177214059198, MAE: 31.359596252441406, RMSE: 35.271156311035156\n",
      "batch 569, R-squared: -1.6189114277248158, MAE: 16.73038101196289, RMSE: 21.708559036254883\n"
     ]
    },
    {
     "name": "stderr",
     "output_type": "stream",
     "text": [
      "\r",
      " 39%|██████████████████████████████████████████████████▌                                                                              | 572/1459 [01:10<01:38,  8.98it/s]"
     ]
    },
    {
     "name": "stdout",
     "output_type": "stream",
     "text": [
      "batch 570, R-squared: -3.360438709839136, MAE: 15.48193359375, RMSE: 17.153690338134766\n",
      "batch 571, R-squared: -2.1596332146887836, MAE: 22.468647003173828, RMSE: 27.735721588134766\n"
     ]
    },
    {
     "name": "stderr",
     "output_type": "stream",
     "text": [
      " 39%|██████████████████████████████████████████████████▊                                                                              | 574/1459 [01:10<01:47,  8.27it/s]"
     ]
    },
    {
     "name": "stdout",
     "output_type": "stream",
     "text": [
      "batch 572, R-squared: -3.5131599778702927, MAE: 26.790977478027344, RMSE: 30.250186920166016\n",
      "batch 573, R-squared: -3.242422531539173, MAE: 23.047815322875977, RMSE: 24.727272033691406\n"
     ]
    },
    {
     "name": "stderr",
     "output_type": "stream",
     "text": [
      " 39%|██████████████████████████████████████████████████▉                                                                              | 576/1459 [01:10<01:48,  8.12it/s]"
     ]
    },
    {
     "name": "stdout",
     "output_type": "stream",
     "text": [
      "batch 574, R-squared: -2.182118437677261, MAE: 24.294357299804688, RMSE: 27.061464309692383\n",
      "batch 575, R-squared: -2.489561746846142, MAE: 23.047080993652344, RMSE: 26.526350021362305\n"
     ]
    },
    {
     "name": "stderr",
     "output_type": "stream",
     "text": [
      " 40%|███████████████████████████████████████████████████                                                                              | 578/1459 [01:10<01:55,  7.62it/s]"
     ]
    },
    {
     "name": "stdout",
     "output_type": "stream",
     "text": [
      "batch 576, R-squared: -4.000885411212712, MAE: 18.628734588623047, RMSE: 20.110576629638672\n",
      "batch 577, R-squared: -2.423393289552817, MAE: 18.571897506713867, RMSE: 20.743976593017578\n"
     ]
    },
    {
     "name": "stderr",
     "output_type": "stream",
     "text": [
      " 40%|███████████████████████████████████████████████████▎                                                                             | 580/1459 [01:11<01:54,  7.67it/s]"
     ]
    },
    {
     "name": "stdout",
     "output_type": "stream",
     "text": [
      "batch 578, R-squared: -2.931491286590654, MAE: 26.7332706451416, RMSE: 30.198471069335938\n",
      "batch 579, R-squared: -3.037690561952518, MAE: 27.545066833496094, RMSE: 30.24471664428711\n"
     ]
    },
    {
     "name": "stderr",
     "output_type": "stream",
     "text": [
      "\r",
      " 40%|███████████████████████████████████████████████████▍                                                                             | 582/1459 [01:11<01:40,  8.71it/s]"
     ]
    },
    {
     "name": "stdout",
     "output_type": "stream",
     "text": [
      "batch 580, R-squared: -2.6960960476162152, MAE: 22.974393844604492, RMSE: 27.87006187438965\n",
      "batch 581, R-squared: -3.5115175582985136, MAE: 22.83431625366211, RMSE: 24.692848205566406\n"
     ]
    },
    {
     "name": "stderr",
     "output_type": "stream",
     "text": [
      " 40%|███████████████████████████████████████████████████▋                                                                             | 585/1459 [01:11<01:36,  9.06it/s]"
     ]
    },
    {
     "name": "stdout",
     "output_type": "stream",
     "text": [
      "batch 582, R-squared: -1.4015125739895482, MAE: 18.475418090820312, RMSE: 23.929121017456055\n",
      "batch 583, R-squared: -2.625050783299729, MAE: 20.464344024658203, RMSE: 22.09478187561035\n",
      "batch 584, R-squared: -2.737748051722998, MAE: 16.73087501525879, RMSE: 18.156618118286133\n"
     ]
    },
    {
     "name": "stderr",
     "output_type": "stream",
     "text": [
      " 40%|███████████████████████████████████████████████████▉                                                                             | 587/1459 [01:11<01:48,  8.00it/s]"
     ]
    },
    {
     "name": "stdout",
     "output_type": "stream",
     "text": [
      "batch 585, R-squared: -1.66828020877329, MAE: 13.517801284790039, RMSE: 16.937763214111328\n",
      "batch 586, R-squared: -3.1294072517782334, MAE: 19.95071029663086, RMSE: 21.848785400390625\n"
     ]
    },
    {
     "name": "stderr",
     "output_type": "stream",
     "text": [
      " 40%|████████████████████████████████████████████████████                                                                             | 589/1459 [01:12<01:58,  7.36it/s]"
     ]
    },
    {
     "name": "stdout",
     "output_type": "stream",
     "text": [
      "batch 587, R-squared: -2.787250815522338, MAE: 26.026521682739258, RMSE: 28.796894073486328\n",
      "batch 588, R-squared: -2.507941957941754, MAE: 17.71114158630371, RMSE: 19.68138313293457\n"
     ]
    },
    {
     "name": "stderr",
     "output_type": "stream",
     "text": [
      " 41%|████████████████████████████████████████████████████▎                                                                            | 591/1459 [01:12<01:56,  7.45it/s]"
     ]
    },
    {
     "name": "stdout",
     "output_type": "stream",
     "text": [
      "batch 589, R-squared: -3.440514881441639, MAE: 21.284408569335938, RMSE: 23.369722366333008\n",
      "batch 590, R-squared: -2.3749454738071023, MAE: 19.4881591796875, RMSE: 22.01522445678711\n"
     ]
    },
    {
     "name": "stderr",
     "output_type": "stream",
     "text": [
      " 41%|████████████████████████████████████████████████████▍                                                                            | 593/1459 [01:12<01:49,  7.90it/s]"
     ]
    },
    {
     "name": "stdout",
     "output_type": "stream",
     "text": [
      "batch 591, R-squared: -2.068312026426929, MAE: 21.073604583740234, RMSE: 25.815105438232422\n",
      "batch 592, R-squared: -1.7287580441524963, MAE: 22.02189064025879, RMSE: 26.498788833618164\n"
     ]
    },
    {
     "name": "stderr",
     "output_type": "stream",
     "text": [
      " 41%|████████████████████████████████████████████████████▋                                                                            | 596/1459 [01:13<01:38,  8.72it/s]"
     ]
    },
    {
     "name": "stdout",
     "output_type": "stream",
     "text": [
      "batch 593, R-squared: -3.0631395147826117, MAE: 8.493165016174316, RMSE: 9.812056541442871\n",
      "batch 594, R-squared: -2.980371826002868, MAE: 13.845830917358398, RMSE: 15.356400489807129\n",
      "batch 595, R-squared: -2.2447523690921476, MAE: 17.631025314331055, RMSE: 20.017486572265625\n"
     ]
    },
    {
     "name": "stderr",
     "output_type": "stream",
     "text": [
      " 41%|████████████████████████████████████████████████████▉                                                                            | 599/1459 [01:13<01:33,  9.15it/s]"
     ]
    },
    {
     "name": "stdout",
     "output_type": "stream",
     "text": [
      "batch 596, R-squared: -2.739101040202241, MAE: 9.980298042297363, RMSE: 11.249931335449219\n",
      "batch 597, R-squared: -2.5283865589798373, MAE: 41.12468719482422, RMSE: 44.24955749511719\n",
      "batch 598, R-squared: -3.4094054338978834, MAE: 25.25722885131836, RMSE: 27.108978271484375\n"
     ]
    },
    {
     "name": "stderr",
     "output_type": "stream",
     "text": [
      " 41%|█████████████████████████████████████████████████████▏                                                                           | 601/1459 [01:13<01:37,  8.83it/s]"
     ]
    },
    {
     "name": "stdout",
     "output_type": "stream",
     "text": [
      "batch 599, R-squared: -3.038041743462956, MAE: 26.38948631286621, RMSE: 28.378284454345703\n",
      "batch 600, R-squared: -1.9630643057429529, MAE: 17.220722198486328, RMSE: 21.06392478942871\n"
     ]
    },
    {
     "name": "stderr",
     "output_type": "stream",
     "text": [
      " 41%|█████████████████████████████████████████████████████▍                                                                           | 604/1459 [01:13<01:30,  9.41it/s]"
     ]
    },
    {
     "name": "stdout",
     "output_type": "stream",
     "text": [
      "batch 601, R-squared: -3.1861245097848823, MAE: 26.302120208740234, RMSE: 29.81647300720215\n",
      "batch 602, R-squared: -4.112793911513425, MAE: 19.32742691040039, RMSE: 20.871360778808594\n",
      "batch 603, R-squared: -4.397681566432423, MAE: 23.289358139038086, RMSE: 25.756858825683594\n"
     ]
    },
    {
     "name": "stderr",
     "output_type": "stream",
     "text": [
      " 42%|█████████████████████████████████████████████████████▌                                                                           | 606/1459 [01:14<01:45,  8.06it/s]"
     ]
    },
    {
     "name": "stdout",
     "output_type": "stream",
     "text": [
      "batch 604, R-squared: -2.4494668093567915, MAE: 23.634769439697266, RMSE: 25.22735023498535\n",
      "batch 605, R-squared: -3.1785941687361015, MAE: 19.266122817993164, RMSE: 22.1357421875\n"
     ]
    },
    {
     "name": "stderr",
     "output_type": "stream",
     "text": [
      " 42%|█████████████████████████████████████████████████████▊                                                                           | 608/1459 [01:14<01:39,  8.58it/s]"
     ]
    },
    {
     "name": "stdout",
     "output_type": "stream",
     "text": [
      "batch 606, R-squared: -1.3599181008938253, MAE: 26.219377517700195, RMSE: 32.97901916503906\n",
      "batch 607, R-squared: -2.2605651977162906, MAE: 39.64442825317383, RMSE: 47.77690124511719\n"
     ]
    },
    {
     "name": "stderr",
     "output_type": "stream",
     "text": [
      " 42%|█████████████████████████████████████████████████████▉                                                                           | 610/1459 [01:14<01:43,  8.17it/s]"
     ]
    },
    {
     "name": "stdout",
     "output_type": "stream",
     "text": [
      "batch 608, R-squared: -1.7287327713124412, MAE: 12.355051040649414, RMSE: 14.881452560424805\n",
      "batch 609, R-squared: -1.9187229196264117, MAE: 19.031848907470703, RMSE: 24.421833038330078\n"
     ]
    },
    {
     "name": "stderr",
     "output_type": "stream",
     "text": [
      " 42%|██████████████████████████████████████████████████████                                                                           | 612/1459 [01:14<01:38,  8.63it/s]"
     ]
    },
    {
     "name": "stdout",
     "output_type": "stream",
     "text": [
      "batch 610, R-squared: -3.4849803925972713, MAE: 26.962562561035156, RMSE: 29.701499938964844\n",
      "batch 611, R-squared: -2.773698687422301, MAE: 28.056804656982422, RMSE: 30.92082977294922\n"
     ]
    },
    {
     "name": "stderr",
     "output_type": "stream",
     "text": [
      " 42%|██████████████████████████████████████████████████████▎                                                                          | 614/1459 [01:15<01:35,  8.86it/s]"
     ]
    },
    {
     "name": "stdout",
     "output_type": "stream",
     "text": [
      "batch 612, R-squared: -2.184782432991346, MAE: 30.870895385742188, RMSE: 36.38689041137695\n",
      "batch 613, R-squared: -2.707809439041065, MAE: 14.717083930969238, RMSE: 16.641857147216797\n"
     ]
    },
    {
     "name": "stderr",
     "output_type": "stream",
     "text": [
      " 42%|██████████████████████████████████████████████████████▍                                                                          | 616/1459 [01:15<01:43,  8.11it/s]"
     ]
    },
    {
     "name": "stdout",
     "output_type": "stream",
     "text": [
      "batch 614, R-squared: -2.853812868017363, MAE: 18.80614471435547, RMSE: 20.598186492919922\n",
      "batch 615, R-squared: -2.048936528768723, MAE: 19.01837158203125, RMSE: 23.44063377380371\n"
     ]
    },
    {
     "name": "stderr",
     "output_type": "stream",
     "text": [
      " 42%|██████████████████████████████████████████████████████▋                                                                          | 618/1459 [01:15<01:42,  8.24it/s]"
     ]
    },
    {
     "name": "stdout",
     "output_type": "stream",
     "text": [
      "batch 616, R-squared: -2.528380402049735, MAE: 10.470682144165039, RMSE: 12.124337196350098\n",
      "batch 617, R-squared: -3.814484962036777, MAE: 17.46748161315918, RMSE: 18.66547203063965\n"
     ]
    },
    {
     "name": "stderr",
     "output_type": "stream",
     "text": [
      " 42%|██████████████████████████████████████████████████████▊                                                                          | 620/1459 [01:15<01:34,  8.92it/s]"
     ]
    },
    {
     "name": "stdout",
     "output_type": "stream",
     "text": [
      "batch 618, R-squared: -2.8773082990289938, MAE: 28.896053314208984, RMSE: 32.519920349121094\n",
      "batch 619, R-squared: -2.9975651248268864, MAE: 20.20050811767578, RMSE: 21.43543815612793\n"
     ]
    },
    {
     "name": "stderr",
     "output_type": "stream",
     "text": [
      " 43%|██████████████████████████████████████████████████████▉                                                                          | 622/1459 [01:16<01:37,  8.59it/s]"
     ]
    },
    {
     "name": "stdout",
     "output_type": "stream",
     "text": [
      "batch 620, R-squared: -2.646996347618467, MAE: 16.550745010375977, RMSE: 17.978328704833984\n",
      "batch 621, R-squared: -2.0998051370027815, MAE: 20.08116912841797, RMSE: 24.823047637939453\n"
     ]
    },
    {
     "name": "stderr",
     "output_type": "stream",
     "text": [
      " 43%|███████████████████████████████████████████████████████▏                                                                         | 624/1459 [01:16<01:38,  8.51it/s]"
     ]
    },
    {
     "name": "stdout",
     "output_type": "stream",
     "text": [
      "batch 622, R-squared: -2.186119220432597, MAE: 32.365882873535156, RMSE: 36.29850387573242\n",
      "batch 623, R-squared: -2.417545707355843, MAE: 18.208274841308594, RMSE: 21.262205123901367\n"
     ]
    },
    {
     "name": "stderr",
     "output_type": "stream",
     "text": [
      " 43%|███████████████████████████████████████████████████████▎                                                                         | 626/1459 [01:16<01:38,  8.45it/s]"
     ]
    },
    {
     "name": "stdout",
     "output_type": "stream",
     "text": [
      "batch 624, R-squared: -3.242191065022343, MAE: 19.638954162597656, RMSE: 21.556909561157227\n",
      "batch 625, R-squared: -2.615303017136038, MAE: 17.326316833496094, RMSE: 19.321319580078125\n"
     ]
    },
    {
     "name": "stderr",
     "output_type": "stream",
     "text": [
      " 43%|███████████████████████████████████████████████████████▌                                                                         | 628/1459 [01:16<01:34,  8.77it/s]"
     ]
    },
    {
     "name": "stdout",
     "output_type": "stream",
     "text": [
      "batch 626, R-squared: -2.5714859822384257, MAE: 18.222503662109375, RMSE: 21.13690185546875\n",
      "batch 627, R-squared: -4.155777326129876, MAE: 17.3314208984375, RMSE: 18.333086013793945\n"
     ]
    },
    {
     "name": "stderr",
     "output_type": "stream",
     "text": [
      "\r",
      " 43%|███████████████████████████████████████████████████████▌                                                                         | 629/1459 [01:16<01:35,  8.67it/s]"
     ]
    },
    {
     "name": "stdout",
     "output_type": "stream",
     "text": [
      "batch 628, R-squared: -2.6001147290503868, MAE: 25.739635467529297, RMSE: 29.266460418701172\n",
      "batch 629, R-squared: -3.2308998988537616, MAE: 19.265668869018555, RMSE: 21.478252410888672\n"
     ]
    },
    {
     "name": "stderr",
     "output_type": "stream",
     "text": [
      " 43%|███████████████████████████████████████████████████████▉                                                                         | 632/1459 [01:17<01:34,  8.79it/s]"
     ]
    },
    {
     "name": "stdout",
     "output_type": "stream",
     "text": [
      "batch 630, R-squared: -3.7650565928476274, MAE: 32.04310607910156, RMSE: 35.43366241455078\n",
      "batch 631, R-squared: -2.589917185985389, MAE: 19.655101776123047, RMSE: 22.155384063720703\n",
      "batch 632, R-squared: -2.84112802075628, MAE: 15.023666381835938, RMSE: 17.444538116455078\n"
     ]
    },
    {
     "name": "stderr",
     "output_type": "stream",
     "text": [
      " 44%|████████████████████████████████████████████████████████▏                                                                        | 635/1459 [01:17<01:37,  8.43it/s]"
     ]
    },
    {
     "name": "stdout",
     "output_type": "stream",
     "text": [
      "batch 633, R-squared: -1.8126126321883955, MAE: 12.635040283203125, RMSE: 15.945352554321289\n",
      "batch 634, R-squared: -2.7440112609239744, MAE: 17.909147262573242, RMSE: 20.821178436279297\n"
     ]
    },
    {
     "name": "stderr",
     "output_type": "stream",
     "text": [
      " 44%|████████████████████████████████████████████████████████▎                                                                        | 637/1459 [01:17<01:34,  8.69it/s]"
     ]
    },
    {
     "name": "stdout",
     "output_type": "stream",
     "text": [
      "batch 635, R-squared: -3.148931200084597, MAE: 18.529582977294922, RMSE: 20.929224014282227\n",
      "batch 636, R-squared: -4.2737119438327715, MAE: 21.116302490234375, RMSE: 23.1243953704834\n"
     ]
    },
    {
     "name": "stderr",
     "output_type": "stream",
     "text": [
      " 44%|████████████████████████████████████████████████████████▍                                                                        | 639/1459 [01:18<01:39,  8.23it/s]"
     ]
    },
    {
     "name": "stdout",
     "output_type": "stream",
     "text": [
      "batch 637, R-squared: -3.0451584936685787, MAE: 20.401161193847656, RMSE: 22.734874725341797\n",
      "batch 638, R-squared: -2.4886488655838352, MAE: 20.23549461364746, RMSE: 22.339765548706055\n"
     ]
    },
    {
     "name": "stderr",
     "output_type": "stream",
     "text": [
      " 44%|████████████████████████████████████████████████████████▋                                                                        | 641/1459 [01:18<01:48,  7.53it/s]"
     ]
    },
    {
     "name": "stdout",
     "output_type": "stream",
     "text": [
      "batch 639, R-squared: -3.212023184310005, MAE: 23.09459686279297, RMSE: 25.5161190032959\n",
      "batch 640, R-squared: -3.62630715118381, MAE: 18.91012191772461, RMSE: 22.34906005859375\n"
     ]
    },
    {
     "name": "stderr",
     "output_type": "stream",
     "text": [
      "\r",
      " 44%|████████████████████████████████████████████████████████▊                                                                        | 642/1459 [01:18<01:46,  7.64it/s]"
     ]
    },
    {
     "name": "stdout",
     "output_type": "stream",
     "text": [
      "batch 641, R-squared: -2.537120151127774, MAE: 20.62982940673828, RMSE: 23.039718627929688\n",
      "batch 642, R-squared: -3.6420534429465983, MAE: 19.892414093017578, RMSE: 21.204164505004883\n"
     ]
    },
    {
     "name": "stderr",
     "output_type": "stream",
     "text": [
      " 44%|█████████████████████████████████████████████████████████                                                                        | 645/1459 [01:18<01:44,  7.76it/s]"
     ]
    },
    {
     "name": "stdout",
     "output_type": "stream",
     "text": [
      "batch 643, R-squared: -3.2412733335934023, MAE: 18.800207138061523, RMSE: 19.914419174194336\n",
      "batch 644, R-squared: -2.233354846572328, MAE: 19.953134536743164, RMSE: 22.40274429321289\n"
     ]
    },
    {
     "name": "stderr",
     "output_type": "stream",
     "text": [
      " 44%|█████████████████████████████████████████████████████████▏                                                                       | 647/1459 [01:19<01:41,  8.01it/s]"
     ]
    },
    {
     "name": "stdout",
     "output_type": "stream",
     "text": [
      "batch 645, R-squared: -2.3254288404273695, MAE: 21.91718292236328, RMSE: 24.70998764038086\n",
      "batch 646, R-squared: -5.032035276086702, MAE: 34.6287841796875, RMSE: 37.12497329711914\n"
     ]
    },
    {
     "name": "stderr",
     "output_type": "stream",
     "text": [
      " 44%|█████████████████████████████████████████████████████████▍                                                                       | 649/1459 [01:19<01:48,  7.44it/s]"
     ]
    },
    {
     "name": "stdout",
     "output_type": "stream",
     "text": [
      "batch 647, R-squared: -3.4640752770706893, MAE: 17.275543212890625, RMSE: 18.824613571166992\n",
      "batch 648, R-squared: -2.943349032895182, MAE: 21.656936645507812, RMSE: 24.189067840576172\n"
     ]
    },
    {
     "name": "stderr",
     "output_type": "stream",
     "text": [
      " 45%|█████████████████████████████████████████████████████████▌                                                                       | 651/1459 [01:19<01:47,  7.51it/s]"
     ]
    },
    {
     "name": "stdout",
     "output_type": "stream",
     "text": [
      "batch 649, R-squared: -3.4075395356301867, MAE: 27.512020111083984, RMSE: 30.452850341796875\n",
      "batch 650, R-squared: -2.164223593409805, MAE: 22.834232330322266, RMSE: 26.088037490844727\n"
     ]
    },
    {
     "name": "stderr",
     "output_type": "stream",
     "text": [
      " 45%|█████████████████████████████████████████████████████████▋                                                                       | 653/1459 [01:19<01:38,  8.19it/s]"
     ]
    },
    {
     "name": "stdout",
     "output_type": "stream",
     "text": [
      "batch 651, R-squared: -2.358846511452066, MAE: 26.110595703125, RMSE: 28.285526275634766\n",
      "batch 652, R-squared: -2.6474841721415467, MAE: 29.960500717163086, RMSE: 35.433921813964844\n"
     ]
    },
    {
     "name": "stderr",
     "output_type": "stream",
     "text": [
      " 45%|█████████████████████████████████████████████████████████▉                                                                       | 655/1459 [01:20<01:34,  8.51it/s]"
     ]
    },
    {
     "name": "stdout",
     "output_type": "stream",
     "text": [
      "batch 653, R-squared: -2.344883520550613, MAE: 21.145320892333984, RMSE: 23.557514190673828\n",
      "batch 654, R-squared: -2.2538719359332164, MAE: 28.548824310302734, RMSE: 34.225101470947266\n"
     ]
    },
    {
     "name": "stderr",
     "output_type": "stream",
     "text": [
      " 45%|██████████████████████████████████████████████████████████                                                                       | 657/1459 [01:20<01:37,  8.19it/s]"
     ]
    },
    {
     "name": "stdout",
     "output_type": "stream",
     "text": [
      "batch 655, R-squared: -3.252964421959033, MAE: 16.143163681030273, RMSE: 17.625675201416016\n",
      "batch 656, R-squared: -3.404362732196322, MAE: 25.49590492248535, RMSE: 28.430641174316406\n"
     ]
    },
    {
     "name": "stderr",
     "output_type": "stream",
     "text": [
      " 45%|██████████████████████████████████████████████████████████▎                                                                      | 659/1459 [01:20<01:31,  8.75it/s]"
     ]
    },
    {
     "name": "stdout",
     "output_type": "stream",
     "text": [
      "batch 657, R-squared: -2.1731414170687366, MAE: 37.236083984375, RMSE: 44.49015426635742\n",
      "batch 658, R-squared: -2.109203347079859, MAE: 15.859538078308105, RMSE: 19.64303970336914\n"
     ]
    },
    {
     "name": "stderr",
     "output_type": "stream",
     "text": [
      " 45%|██████████████████████████████████████████████████████████▍                                                                      | 661/1459 [01:20<01:37,  8.22it/s]"
     ]
    },
    {
     "name": "stdout",
     "output_type": "stream",
     "text": [
      "batch 659, R-squared: -2.7359860190499696, MAE: 23.462875366210938, RMSE: 25.306812286376953\n",
      "batch 660, R-squared: -3.2213677294949767, MAE: 31.98589515686035, RMSE: 36.45093536376953\n"
     ]
    },
    {
     "name": "stderr",
     "output_type": "stream",
     "text": [
      " 45%|██████████████████████████████████████████████████████████▌                                                                      | 663/1459 [01:21<01:28,  8.97it/s]"
     ]
    },
    {
     "name": "stdout",
     "output_type": "stream",
     "text": [
      "batch 661, R-squared: -2.293966452068917, MAE: 23.258960723876953, RMSE: 26.925941467285156\n",
      "batch 662, R-squared: -2.3147309354601346, MAE: 31.467819213867188, RMSE: 37.214385986328125\n"
     ]
    },
    {
     "name": "stderr",
     "output_type": "stream",
     "text": [
      " 46%|██████████████████████████████████████████████████████████▊                                                                      | 665/1459 [01:21<01:36,  8.26it/s]"
     ]
    },
    {
     "name": "stdout",
     "output_type": "stream",
     "text": [
      "batch 663, R-squared: -2.259065938185374, MAE: 34.22071075439453, RMSE: 39.07066345214844\n",
      "batch 664, R-squared: -1.9520027102103745, MAE: 21.05431365966797, RMSE: 23.884109497070312\n"
     ]
    },
    {
     "name": "stderr",
     "output_type": "stream",
     "text": [
      " 46%|██████████████████████████████████████████████████████████▉                                                                      | 667/1459 [01:21<01:36,  8.18it/s]"
     ]
    },
    {
     "name": "stdout",
     "output_type": "stream",
     "text": [
      "batch 665, R-squared: -2.215411885657363, MAE: 32.86821365356445, RMSE: 39.416221618652344\n",
      "batch 666, R-squared: -2.3890963743595113, MAE: 23.42873764038086, RMSE: 27.985265731811523\n"
     ]
    },
    {
     "name": "stderr",
     "output_type": "stream",
     "text": [
      " 46%|███████████████████████████████████████████████████████████▏                                                                     | 669/1459 [01:21<01:36,  8.22it/s]"
     ]
    },
    {
     "name": "stdout",
     "output_type": "stream",
     "text": [
      "batch 667, R-squared: -1.8031514089454097, MAE: 13.206915855407715, RMSE: 17.438852310180664\n",
      "batch 668, R-squared: -1.946823865190542, MAE: 12.01874828338623, RMSE: 13.649068832397461\n"
     ]
    },
    {
     "name": "stderr",
     "output_type": "stream",
     "text": [
      "\r",
      " 46%|███████████████████████████████████████████████████████████▎                                                                     | 671/1459 [01:22<01:30,  8.74it/s]"
     ]
    },
    {
     "name": "stdout",
     "output_type": "stream",
     "text": [
      "batch 669, R-squared: -2.6823476546218146, MAE: 16.993051528930664, RMSE: 18.280014038085938\n",
      "batch 670, R-squared: -2.0380781876545346, MAE: 25.288673400878906, RMSE: 29.914766311645508\n"
     ]
    },
    {
     "name": "stderr",
     "output_type": "stream",
     "text": [
      " 46%|███████████████████████████████████████████████████████████▌                                                                     | 673/1459 [01:22<01:35,  8.19it/s]"
     ]
    },
    {
     "name": "stdout",
     "output_type": "stream",
     "text": [
      "batch 671, R-squared: -2.2094797480393047, MAE: 15.946123123168945, RMSE: 18.47346305847168\n",
      "batch 672, R-squared: -3.6958404890744756, MAE: 17.464380264282227, RMSE: 18.69005584716797\n"
     ]
    },
    {
     "name": "stderr",
     "output_type": "stream",
     "text": [
      " 46%|███████████████████████████████████████████████████████████▋                                                                     | 675/1459 [01:22<01:31,  8.52it/s]"
     ]
    },
    {
     "name": "stdout",
     "output_type": "stream",
     "text": [
      "batch 673, R-squared: -3.825868653999409, MAE: 23.96990394592285, RMSE: 26.259496688842773\n",
      "batch 674, R-squared: -2.875049495293748, MAE: 20.145004272460938, RMSE: 23.201772689819336\n"
     ]
    },
    {
     "name": "stderr",
     "output_type": "stream",
     "text": [
      " 46%|███████████████████████████████████████████████████████████▊                                                                     | 677/1459 [01:22<01:32,  8.49it/s]"
     ]
    },
    {
     "name": "stdout",
     "output_type": "stream",
     "text": [
      "batch 675, R-squared: -1.6630137444339872, MAE: 26.268142700195312, RMSE: 34.53356170654297\n",
      "batch 676, R-squared: -2.60683642333421, MAE: 26.852737426757812, RMSE: 30.983749389648438\n"
     ]
    },
    {
     "name": "stderr",
     "output_type": "stream",
     "text": [
      " 47%|████████████████████████████████████████████████████████████                                                                     | 679/1459 [01:23<01:39,  7.85it/s]"
     ]
    },
    {
     "name": "stdout",
     "output_type": "stream",
     "text": [
      "batch 677, R-squared: -2.591626671748208, MAE: 30.000526428222656, RMSE: 35.52593231201172\n",
      "batch 678, R-squared: -3.0946646235249964, MAE: 25.839458465576172, RMSE: 29.208057403564453\n"
     ]
    },
    {
     "name": "stderr",
     "output_type": "stream",
     "text": [
      "\r",
      " 47%|████████████████████████████████████████████████████████████                                                                     | 680/1459 [01:23<01:47,  7.27it/s]"
     ]
    },
    {
     "name": "stdout",
     "output_type": "stream",
     "text": [
      "batch 679, R-squared: -3.1685409885769507, MAE: 28.405033111572266, RMSE: 31.796194076538086\n",
      "batch 680, R-squared: -3.1940855057301794, MAE: 28.814668655395508, RMSE: 30.739259719848633\n"
     ]
    },
    {
     "name": "stderr",
     "output_type": "stream",
     "text": [
      " 47%|████████████████████████████████████████████████████████████▍                                                                    | 683/1459 [01:23<01:40,  7.72it/s]"
     ]
    },
    {
     "name": "stdout",
     "output_type": "stream",
     "text": [
      "batch 681, R-squared: -3.1744825324692316, MAE: 18.534557342529297, RMSE: 19.98651695251465\n",
      "batch 682, R-squared: -2.4696370893614787, MAE: 31.907913208007812, RMSE: 35.90597152709961\n"
     ]
    },
    {
     "name": "stderr",
     "output_type": "stream",
     "text": [
      "\r",
      " 47%|████████████████████████████████████████████████████████████▌                                                                    | 685/1459 [01:23<01:32,  8.34it/s]"
     ]
    },
    {
     "name": "stdout",
     "output_type": "stream",
     "text": [
      "batch 683, R-squared: -3.087404861148043, MAE: 25.9872989654541, RMSE: 28.308368682861328\n",
      "batch 684, R-squared: -3.9414217527792914, MAE: 25.19097900390625, RMSE: 27.858524322509766\n"
     ]
    },
    {
     "name": "stderr",
     "output_type": "stream",
     "text": [
      " 47%|████████████████████████████████████████████████████████████▋                                                                    | 687/1459 [01:24<01:36,  7.97it/s]"
     ]
    },
    {
     "name": "stdout",
     "output_type": "stream",
     "text": [
      "batch 685, R-squared: -2.6810827801722628, MAE: 16.800657272338867, RMSE: 19.320220947265625\n",
      "batch 686, R-squared: -2.202845328604224, MAE: 25.037328720092773, RMSE: 27.707901000976562\n"
     ]
    },
    {
     "name": "stderr",
     "output_type": "stream",
     "text": [
      " 47%|████████████████████████████████████████████████████████████▉                                                                    | 689/1459 [01:24<01:37,  7.92it/s]"
     ]
    },
    {
     "name": "stdout",
     "output_type": "stream",
     "text": [
      "batch 687, R-squared: -2.682644699655666, MAE: 34.97114562988281, RMSE: 40.66227722167969\n",
      "batch 688, R-squared: -3.1119245837324288, MAE: 21.707477569580078, RMSE: 23.160541534423828\n"
     ]
    },
    {
     "name": "stderr",
     "output_type": "stream",
     "text": [
      " 47%|█████████████████████████████████████████████████████████████                                                                    | 691/1459 [01:24<01:33,  8.20it/s]"
     ]
    },
    {
     "name": "stdout",
     "output_type": "stream",
     "text": [
      "batch 689, R-squared: -2.702034748161944, MAE: 17.27782440185547, RMSE: 19.644649505615234\n",
      "batch 690, R-squared: -2.954092517288698, MAE: 35.87272644042969, RMSE: 38.791107177734375\n"
     ]
    },
    {
     "name": "stderr",
     "output_type": "stream",
     "text": [
      " 47%|█████████████████████████████████████████████████████████████▎                                                                   | 693/1459 [01:24<01:41,  7.56it/s]"
     ]
    },
    {
     "name": "stdout",
     "output_type": "stream",
     "text": [
      "batch 691, R-squared: -2.849459126464753, MAE: 27.21036148071289, RMSE: 29.547225952148438\n",
      "batch 692, R-squared: -2.8503021156556825, MAE: 23.591035842895508, RMSE: 25.238264083862305\n"
     ]
    },
    {
     "name": "stderr",
     "output_type": "stream",
     "text": [
      " 48%|█████████████████████████████████████████████████████████████▍                                                                   | 695/1459 [01:25<01:41,  7.55it/s]"
     ]
    },
    {
     "name": "stdout",
     "output_type": "stream",
     "text": [
      "batch 693, R-squared: -2.978379034249982, MAE: 26.704465866088867, RMSE: 29.11841583251953\n",
      "batch 694, R-squared: -2.8460097421439747, MAE: 22.110992431640625, RMSE: 24.815101623535156\n"
     ]
    },
    {
     "name": "stderr",
     "output_type": "stream",
     "text": [
      "\r",
      " 48%|█████████████████████████████████████████████████████████████▌                                                                   | 696/1459 [01:25<01:45,  7.21it/s]"
     ]
    },
    {
     "name": "stdout",
     "output_type": "stream",
     "text": [
      "batch 695, R-squared: -2.4857788908848377, MAE: 18.405670166015625, RMSE: 21.545278549194336\n",
      "batch 696, R-squared: -2.776932818266518, MAE: 16.27077865600586, RMSE: 17.950626373291016\n"
     ]
    },
    {
     "name": "stderr",
     "output_type": "stream",
     "text": [
      " 48%|█████████████████████████████████████████████████████████████▊                                                                   | 699/1459 [01:25<01:35,  7.99it/s]"
     ]
    },
    {
     "name": "stdout",
     "output_type": "stream",
     "text": [
      "batch 697, R-squared: -2.637012703594592, MAE: 21.385852813720703, RMSE: 24.34429168701172\n",
      "batch 698, R-squared: -2.63456134148787, MAE: 24.642724990844727, RMSE: 28.599361419677734\n"
     ]
    },
    {
     "name": "stderr",
     "output_type": "stream",
     "text": [
      " 48%|█████████████████████████████████████████████████████████████▉                                                                   | 701/1459 [01:25<01:39,  7.65it/s]"
     ]
    },
    {
     "name": "stdout",
     "output_type": "stream",
     "text": [
      "batch 699, R-squared: -2.402921758848986, MAE: 22.865772247314453, RMSE: 25.712890625\n",
      "batch 700, R-squared: -4.678669826896961, MAE: 25.68596076965332, RMSE: 27.958953857421875\n"
     ]
    },
    {
     "name": "stderr",
     "output_type": "stream",
     "text": [
      " 48%|██████████████████████████████████████████████████████████████▏                                                                  | 704/1459 [01:26<01:23,  9.07it/s]"
     ]
    },
    {
     "name": "stdout",
     "output_type": "stream",
     "text": [
      "batch 701, R-squared: -2.8376639133740293, MAE: 14.794164657592773, RMSE: 15.91067886352539\n",
      "batch 702, R-squared: -2.4105370598953133, MAE: 15.753047943115234, RMSE: 17.71548080444336\n",
      "batch 703, R-squared: -2.4439196129080845, MAE: 12.70314884185791, RMSE: 14.094931602478027\n"
     ]
    },
    {
     "name": "stderr",
     "output_type": "stream",
     "text": [
      "\r",
      " 48%|██████████████████████████████████████████████████████████████▍                                                                  | 706/1459 [01:26<01:16,  9.88it/s]"
     ]
    },
    {
     "name": "stdout",
     "output_type": "stream",
     "text": [
      "batch 704, R-squared: -2.564934213841166, MAE: 16.52669906616211, RMSE: 18.377361297607422\n",
      "batch 705, R-squared: -3.7422179074317543, MAE: 15.834778785705566, RMSE: 16.472017288208008\n"
     ]
    },
    {
     "name": "stderr",
     "output_type": "stream",
     "text": [
      " 49%|██████████████████████████████████████████████████████████████▌                                                                  | 708/1459 [01:26<01:26,  8.71it/s]"
     ]
    },
    {
     "name": "stdout",
     "output_type": "stream",
     "text": [
      "batch 706, R-squared: -2.41708265301495, MAE: 25.097946166992188, RMSE: 28.466367721557617\n",
      "batch 707, R-squared: -3.763823452922967, MAE: 18.316730499267578, RMSE: 20.486072540283203\n"
     ]
    },
    {
     "name": "stderr",
     "output_type": "stream",
     "text": [
      " 49%|██████████████████████████████████████████████████████████████▊                                                                  | 710/1459 [01:26<01:33,  7.98it/s]"
     ]
    },
    {
     "name": "stdout",
     "output_type": "stream",
     "text": [
      "batch 708, R-squared: -2.9761227866433946, MAE: 22.334096908569336, RMSE: 25.62372589111328\n",
      "batch 709, R-squared: -2.730585337435843, MAE: 26.152780532836914, RMSE: 29.28282928466797\n"
     ]
    },
    {
     "name": "stderr",
     "output_type": "stream",
     "text": [
      " 49%|██████████████████████████████████████████████████████████████▉                                                                  | 712/1459 [01:27<01:38,  7.61it/s]"
     ]
    },
    {
     "name": "stdout",
     "output_type": "stream",
     "text": [
      "batch 710, R-squared: -2.745309041561423, MAE: 14.086517333984375, RMSE: 16.15485382080078\n",
      "batch 711, R-squared: -1.7385592650259312, MAE: 20.632484436035156, RMSE: 24.752527236938477\n"
     ]
    },
    {
     "name": "stderr",
     "output_type": "stream",
     "text": [
      "\r",
      " 49%|███████████████████████████████████████████████████████████████▏                                                                 | 714/1459 [01:27<01:26,  8.58it/s]"
     ]
    },
    {
     "name": "stdout",
     "output_type": "stream",
     "text": [
      "batch 712, R-squared: -2.510086621850738, MAE: 24.072547912597656, RMSE: 25.98577880859375\n",
      "batch 713, R-squared: -1.9649718820800135, MAE: 15.415115356445312, RMSE: 17.592119216918945\n"
     ]
    },
    {
     "name": "stderr",
     "output_type": "stream",
     "text": [
      " 49%|███████████████████████████████████████████████████████████████▎                                                                 | 716/1459 [01:27<01:32,  8.05it/s]"
     ]
    },
    {
     "name": "stdout",
     "output_type": "stream",
     "text": [
      "batch 714, R-squared: -3.463886844109109, MAE: 20.459150314331055, RMSE: 22.201007843017578\n",
      "batch 715, R-squared: -2.3602896320361673, MAE: 12.177906036376953, RMSE: 14.595300674438477\n"
     ]
    },
    {
     "name": "stderr",
     "output_type": "stream",
     "text": [
      "\r",
      " 49%|███████████████████████████████████████████████████████████████▍                                                                 | 718/1459 [01:27<01:23,  8.86it/s]"
     ]
    },
    {
     "name": "stdout",
     "output_type": "stream",
     "text": [
      "batch 716, R-squared: -1.3539933401749675, MAE: 26.42112159729004, RMSE: 33.15978240966797\n",
      "batch 717, R-squared: -1.8772974461967586, MAE: 14.834553718566895, RMSE: 16.652196884155273\n"
     ]
    },
    {
     "name": "stderr",
     "output_type": "stream",
     "text": [
      " 49%|███████████████████████████████████████████████████████████████▋                                                                 | 720/1459 [01:28<01:33,  7.94it/s]"
     ]
    },
    {
     "name": "stdout",
     "output_type": "stream",
     "text": [
      "batch 718, R-squared: -1.865729121116016, MAE: 19.20201873779297, RMSE: 23.388896942138672\n",
      "batch 719, R-squared: -1.8059131171810558, MAE: 27.943227767944336, RMSE: 35.29540252685547\n"
     ]
    },
    {
     "name": "stderr",
     "output_type": "stream",
     "text": [
      " 49%|███████████████████████████████████████████████████████████████▊                                                                 | 722/1459 [01:28<01:43,  7.13it/s]"
     ]
    },
    {
     "name": "stdout",
     "output_type": "stream",
     "text": [
      "batch 720, R-squared: -1.9157393500685413, MAE: 25.492996215820312, RMSE: 33.09785842895508\n",
      "batch 721, R-squared: -2.032629212715432, MAE: 21.585105895996094, RMSE: 25.91283416748047\n"
     ]
    },
    {
     "name": "stderr",
     "output_type": "stream",
     "text": [
      " 50%|████████████████████████████████████████████████████████████████                                                                 | 724/1459 [01:28<01:38,  7.46it/s]"
     ]
    },
    {
     "name": "stdout",
     "output_type": "stream",
     "text": [
      "batch 722, R-squared: -3.012659866819237, MAE: 21.47869300842285, RMSE: 24.633623123168945\n",
      "batch 723, R-squared: -3.110742080305485, MAE: 23.987550735473633, RMSE: 27.620235443115234\n"
     ]
    },
    {
     "name": "stderr",
     "output_type": "stream",
     "text": [
      " 50%|████████████████████████████████████████████████████████████████▎                                                                | 727/1459 [01:29<01:21,  8.96it/s]"
     ]
    },
    {
     "name": "stdout",
     "output_type": "stream",
     "text": [
      "batch 724, R-squared: -1.8735704885938729, MAE: 22.265743255615234, RMSE: 25.399425506591797\n",
      "batch 725, R-squared: -2.0632041790865046, MAE: 21.719562530517578, RMSE: 26.661422729492188\n",
      "batch 726, R-squared: -3.3001003168179066, MAE: 18.5148868560791, RMSE: 20.493610382080078\n"
     ]
    },
    {
     "name": "stderr",
     "output_type": "stream",
     "text": [
      " 50%|████████████████████████████████████████████████████████████████▌                                                                | 730/1459 [01:29<01:17,  9.46it/s]"
     ]
    },
    {
     "name": "stdout",
     "output_type": "stream",
     "text": [
      "batch 727, R-squared: -2.4534129830217024, MAE: 16.180770874023438, RMSE: 17.787885665893555\n",
      "batch 728, R-squared: -4.069533317892895, MAE: 24.917850494384766, RMSE: 27.1822509765625\n",
      "batch 729, R-squared: -3.963172880566831, MAE: 23.2597713470459, RMSE: 25.57339859008789\n"
     ]
    },
    {
     "name": "stderr",
     "output_type": "stream",
     "text": [
      " 50%|████████████████████████████████████████████████████████████████▋                                                                | 732/1459 [01:29<01:28,  8.26it/s]"
     ]
    },
    {
     "name": "stdout",
     "output_type": "stream",
     "text": [
      "batch 730, R-squared: -1.626404154125729, MAE: 18.166227340698242, RMSE: 22.680126190185547\n",
      "batch 731, R-squared: -2.9483252229276475, MAE: 26.586084365844727, RMSE: 29.626041412353516\n"
     ]
    },
    {
     "name": "stderr",
     "output_type": "stream",
     "text": [
      " 50%|████████████████████████████████████████████████████████████████▉                                                                | 734/1459 [01:29<01:44,  6.91it/s]"
     ]
    },
    {
     "name": "stdout",
     "output_type": "stream",
     "text": [
      "batch 732, R-squared: -3.3216831639680175, MAE: 21.005952835083008, RMSE: 23.15383529663086\n",
      "batch 733, R-squared: -2.3238906884461734, MAE: 11.561737060546875, RMSE: 12.582901000976562\n"
     ]
    },
    {
     "name": "stderr",
     "output_type": "stream",
     "text": [
      " 50%|█████████████████████████████████████████████████████████████████                                                                | 736/1459 [01:30<01:43,  7.01it/s]"
     ]
    },
    {
     "name": "stdout",
     "output_type": "stream",
     "text": [
      "batch 734, R-squared: -3.099642189212314, MAE: 24.856172561645508, RMSE: 27.290843963623047\n",
      "batch 735, R-squared: -3.6698658192749454, MAE: 19.46984100341797, RMSE: 21.271543502807617\n"
     ]
    },
    {
     "name": "stderr",
     "output_type": "stream",
     "text": [
      " 51%|█████████████████████████████████████████████████████████████████▎                                                               | 738/1459 [01:30<01:32,  7.76it/s]"
     ]
    },
    {
     "name": "stdout",
     "output_type": "stream",
     "text": [
      "batch 736, R-squared: -2.4943043134270644, MAE: 32.414466857910156, RMSE: 35.697471618652344\n",
      "batch 737, R-squared: -2.260851646108675, MAE: 25.68337059020996, RMSE: 27.75960922241211\n"
     ]
    },
    {
     "name": "stderr",
     "output_type": "stream",
     "text": [
      " 51%|█████████████████████████████████████████████████████████████████▍                                                               | 740/1459 [01:30<01:27,  8.20it/s]"
     ]
    },
    {
     "name": "stdout",
     "output_type": "stream",
     "text": [
      "batch 738, R-squared: -1.8382442928785265, MAE: 28.916919708251953, RMSE: 37.33226776123047\n",
      "batch 739, R-squared: -1.941471591609592, MAE: 23.474315643310547, RMSE: 27.009931564331055\n"
     ]
    },
    {
     "name": "stderr",
     "output_type": "stream",
     "text": [
      " 51%|█████████████████████████████████████████████████████████████████▋                                                               | 743/1459 [01:31<01:20,  8.87it/s]"
     ]
    },
    {
     "name": "stdout",
     "output_type": "stream",
     "text": [
      "batch 740, R-squared: -3.174888862941935, MAE: 15.796727180480957, RMSE: 17.540870666503906\n",
      "batch 741, R-squared: -1.9044321444880614, MAE: 13.237241744995117, RMSE: 16.445465087890625\n",
      "batch 742, R-squared: -3.119222216475822, MAE: 22.607900619506836, RMSE: 24.43572235107422\n"
     ]
    },
    {
     "name": "stderr",
     "output_type": "stream",
     "text": [
      " 51%|█████████████████████████████████████████████████████████████████▊                                                               | 745/1459 [01:31<01:23,  8.59it/s]"
     ]
    },
    {
     "name": "stdout",
     "output_type": "stream",
     "text": [
      "batch 743, R-squared: -2.2087964450514725, MAE: 25.85791015625, RMSE: 30.772533416748047\n",
      "batch 744, R-squared: -2.112921539683467, MAE: 23.566770553588867, RMSE: 28.519344329833984\n"
     ]
    },
    {
     "name": "stderr",
     "output_type": "stream",
     "text": [
      " 51%|██████████████████████████████████████████████████████████████████                                                               | 747/1459 [01:31<01:35,  7.45it/s]"
     ]
    },
    {
     "name": "stdout",
     "output_type": "stream",
     "text": [
      "batch 745, R-squared: -3.0883858686892083, MAE: 25.194551467895508, RMSE: 27.176359176635742\n",
      "batch 746, R-squared: -2.297636035664426, MAE: 23.51243782043457, RMSE: 27.159189224243164\n"
     ]
    },
    {
     "name": "stderr",
     "output_type": "stream",
     "text": [
      " 51%|██████████████████████████████████████████████████████████████████▏                                                              | 749/1459 [01:31<01:34,  7.50it/s]"
     ]
    },
    {
     "name": "stdout",
     "output_type": "stream",
     "text": [
      "batch 747, R-squared: -2.9445344328289846, MAE: 30.855533599853516, RMSE: 35.13031768798828\n",
      "batch 748, R-squared: -2.3796691508359027, MAE: 23.539907455444336, RMSE: 28.4049072265625\n"
     ]
    },
    {
     "name": "stderr",
     "output_type": "stream",
     "text": [
      " 51%|██████████████████████████████████████████████████████████████████▍                                                              | 751/1459 [01:32<01:34,  7.47it/s]"
     ]
    },
    {
     "name": "stdout",
     "output_type": "stream",
     "text": [
      "batch 749, R-squared: -2.300755595749969, MAE: 26.853591918945312, RMSE: 32.79826354980469\n",
      "batch 750, R-squared: -1.990653484913393, MAE: 32.16775894165039, RMSE: 39.118377685546875\n"
     ]
    },
    {
     "name": "stderr",
     "output_type": "stream",
     "text": [
      " 52%|██████████████████████████████████████████████████████████████████▌                                                              | 753/1459 [01:32<01:33,  7.58it/s]"
     ]
    },
    {
     "name": "stdout",
     "output_type": "stream",
     "text": [
      "batch 751, R-squared: -2.580643400849606, MAE: 20.854167938232422, RMSE: 24.82713508605957\n",
      "batch 752, R-squared: -4.21467140545054, MAE: 25.576824188232422, RMSE: 27.779888153076172\n"
     ]
    },
    {
     "name": "stderr",
     "output_type": "stream",
     "text": [
      " 52%|██████████████████████████████████████████████████████████████████▊                                                              | 755/1459 [01:32<01:31,  7.70it/s]"
     ]
    },
    {
     "name": "stdout",
     "output_type": "stream",
     "text": [
      "batch 753, R-squared: -1.5795790620702153, MAE: 29.333038330078125, RMSE: 37.85273361206055\n",
      "batch 754, R-squared: -2.5649327281457643, MAE: 24.928831100463867, RMSE: 28.862823486328125\n"
     ]
    },
    {
     "name": "stderr",
     "output_type": "stream",
     "text": [
      "\r",
      " 52%|██████████████████████████████████████████████████████████████████▊                                                              | 756/1459 [01:32<01:26,  8.15it/s]"
     ]
    },
    {
     "name": "stdout",
     "output_type": "stream",
     "text": [
      "batch 755, R-squared: -3.4832379017881507, MAE: 22.608875274658203, RMSE: 26.61420440673828\n",
      "batch 756, R-squared: -2.8399463889412018, MAE: 19.904685974121094, RMSE: 21.65694808959961\n"
     ]
    },
    {
     "name": "stderr",
     "output_type": "stream",
     "text": [
      " 52%|███████████████████████████████████████████████████████████████████                                                              | 759/1459 [01:33<01:18,  8.88it/s]"
     ]
    },
    {
     "name": "stdout",
     "output_type": "stream",
     "text": [
      "batch 757, R-squared: -3.0914770071531, MAE: 23.11028289794922, RMSE: 25.753662109375\n",
      "batch 758, R-squared: -3.2999149041316125, MAE: 20.103302001953125, RMSE: 22.999462127685547\n"
     ]
    },
    {
     "name": "stderr",
     "output_type": "stream",
     "text": [
      " 52%|███████████████████████████████████████████████████████████████████▎                                                             | 761/1459 [01:33<01:21,  8.58it/s]"
     ]
    },
    {
     "name": "stdout",
     "output_type": "stream",
     "text": [
      "batch 759, R-squared: -2.8344115563712386, MAE: 14.807585716247559, RMSE: 16.19666862487793\n",
      "batch 760, R-squared: -2.164413738304459, MAE: 16.79035186767578, RMSE: 20.479249954223633\n"
     ]
    },
    {
     "name": "stderr",
     "output_type": "stream",
     "text": [
      " 52%|███████████████████████████████████████████████████████████████████▍                                                             | 763/1459 [01:33<01:25,  8.13it/s]"
     ]
    },
    {
     "name": "stdout",
     "output_type": "stream",
     "text": [
      "batch 761, R-squared: -1.6998437684987868, MAE: 19.975971221923828, RMSE: 25.725162506103516\n",
      "batch 762, R-squared: -3.258083519910296, MAE: 22.443124771118164, RMSE: 24.49123191833496\n"
     ]
    },
    {
     "name": "stderr",
     "output_type": "stream",
     "text": [
      "\r",
      " 52%|███████████████████████████████████████████████████████████████████▋                                                             | 765/1459 [01:33<01:21,  8.50it/s]"
     ]
    },
    {
     "name": "stdout",
     "output_type": "stream",
     "text": [
      "batch 763, R-squared: -2.205461751052764, MAE: 29.103580474853516, RMSE: 31.938243865966797\n",
      "batch 764, R-squared: -3.7198171307898944, MAE: 17.766517639160156, RMSE: 19.264432907104492\n"
     ]
    },
    {
     "name": "stderr",
     "output_type": "stream",
     "text": [
      " 53%|███████████████████████████████████████████████████████████████████▊                                                             | 767/1459 [01:34<01:25,  8.07it/s]"
     ]
    },
    {
     "name": "stdout",
     "output_type": "stream",
     "text": [
      "batch 765, R-squared: -2.885734531918356, MAE: 35.88662338256836, RMSE: 40.567203521728516\n",
      "batch 766, R-squared: -2.366545703111774, MAE: 28.655818939208984, RMSE: 31.20499610900879\n"
     ]
    },
    {
     "name": "stderr",
     "output_type": "stream",
     "text": [
      " 53%|███████████████████████████████████████████████████████████████████▉                                                             | 769/1459 [01:34<01:36,  7.15it/s]"
     ]
    },
    {
     "name": "stdout",
     "output_type": "stream",
     "text": [
      "batch 767, R-squared: -1.8065877778211745, MAE: 10.852717399597168, RMSE: 12.768799781799316\n",
      "batch 768, R-squared: -2.432171380583365, MAE: 21.86823844909668, RMSE: 24.928382873535156\n"
     ]
    },
    {
     "name": "stderr",
     "output_type": "stream",
     "text": [
      " 53%|████████████████████████████████████████████████████████████████████▏                                                            | 771/1459 [01:34<01:31,  7.53it/s]"
     ]
    },
    {
     "name": "stdout",
     "output_type": "stream",
     "text": [
      "batch 769, R-squared: -3.464233086438981, MAE: 22.5496826171875, RMSE: 24.357192993164062\n",
      "batch 770, R-squared: -1.1507352771830932, MAE: 24.858383178710938, RMSE: 32.5969352722168\n"
     ]
    },
    {
     "name": "stderr",
     "output_type": "stream",
     "text": [
      " 53%|████████████████████████████████████████████████████████████████████▎                                                            | 773/1459 [01:34<01:24,  8.11it/s]"
     ]
    },
    {
     "name": "stdout",
     "output_type": "stream",
     "text": [
      "batch 771, R-squared: -1.7015081202558693, MAE: 37.435787200927734, RMSE: 46.946044921875\n",
      "batch 772, R-squared: -4.664262208471523, MAE: 19.88591766357422, RMSE: 21.867393493652344\n"
     ]
    },
    {
     "name": "stderr",
     "output_type": "stream",
     "text": [
      " 53%|████████████████████████████████████████████████████████████████████▌                                                            | 775/1459 [01:35<01:23,  8.22it/s]"
     ]
    },
    {
     "name": "stdout",
     "output_type": "stream",
     "text": [
      "batch 773, R-squared: -4.514468035636368, MAE: 29.208887100219727, RMSE: 31.68341636657715\n",
      "batch 774, R-squared: -1.602363518717803, MAE: 9.874177932739258, RMSE: 11.836082458496094\n"
     ]
    },
    {
     "name": "stderr",
     "output_type": "stream",
     "text": [
      " 53%|████████████████████████████████████████████████████████████████████▋                                                            | 777/1459 [01:35<01:19,  8.59it/s]"
     ]
    },
    {
     "name": "stdout",
     "output_type": "stream",
     "text": [
      "batch 775, R-squared: -1.8489436828143477, MAE: 19.90591812133789, RMSE: 24.06879997253418\n",
      "batch 776, R-squared: -3.1086706311707624, MAE: 17.11043930053711, RMSE: 19.247570037841797\n"
     ]
    },
    {
     "name": "stderr",
     "output_type": "stream",
     "text": [
      " 53%|████████████████████████████████████████████████████████████████████▉                                                            | 779/1459 [01:35<01:20,  8.48it/s]"
     ]
    },
    {
     "name": "stdout",
     "output_type": "stream",
     "text": [
      "batch 777, R-squared: -2.1070675757627075, MAE: 20.81258773803711, RMSE: 24.643535614013672\n",
      "batch 778, R-squared: -3.331631869559007, MAE: 18.1674747467041, RMSE: 20.137073516845703\n"
     ]
    },
    {
     "name": "stderr",
     "output_type": "stream",
     "text": [
      " 54%|█████████████████████████████████████████████████████████████████████                                                            | 781/1459 [01:35<01:21,  8.30it/s]"
     ]
    },
    {
     "name": "stdout",
     "output_type": "stream",
     "text": [
      "batch 779, R-squared: -2.292062012996648, MAE: 22.27899169921875, RMSE: 24.747060775756836\n",
      "batch 780, R-squared: -3.2132248767093192, MAE: 15.448872566223145, RMSE: 16.482667922973633\n"
     ]
    },
    {
     "name": "stderr",
     "output_type": "stream",
     "text": [
      " 54%|█████████████████████████████████████████████████████████████████████▏                                                           | 783/1459 [01:35<01:20,  8.37it/s]"
     ]
    },
    {
     "name": "stdout",
     "output_type": "stream",
     "text": [
      "batch 781, R-squared: -2.5034065029351233, MAE: 14.070076942443848, RMSE: 15.755683898925781\n",
      "batch 782, R-squared: -3.095039057115631, MAE: 24.48162078857422, RMSE: 26.893436431884766\n"
     ]
    },
    {
     "name": "stderr",
     "output_type": "stream",
     "text": [
      " 54%|█████████████████████████████████████████████████████████████████████▍                                                           | 785/1459 [01:36<01:17,  8.67it/s]"
     ]
    },
    {
     "name": "stdout",
     "output_type": "stream",
     "text": [
      "batch 783, R-squared: -3.043274245441451, MAE: 15.819659233093262, RMSE: 17.378812789916992\n",
      "batch 784, R-squared: -2.2762813879309705, MAE: 24.867034912109375, RMSE: 29.314319610595703\n"
     ]
    },
    {
     "name": "stderr",
     "output_type": "stream",
     "text": [
      " 54%|█████████████████████████████████████████████████████████████████████▌                                                           | 787/1459 [01:36<01:19,  8.48it/s]"
     ]
    },
    {
     "name": "stdout",
     "output_type": "stream",
     "text": [
      "batch 785, R-squared: -1.8197124358488372, MAE: 14.442987442016602, RMSE: 16.400081634521484\n",
      "batch 786, R-squared: -2.366034002483903, MAE: 17.443336486816406, RMSE: 19.29538345336914\n"
     ]
    },
    {
     "name": "stderr",
     "output_type": "stream",
     "text": [
      " 54%|█████████████████████████████████████████████████████████████████████▊                                                           | 789/1459 [01:36<01:20,  8.37it/s]"
     ]
    },
    {
     "name": "stdout",
     "output_type": "stream",
     "text": [
      "batch 787, R-squared: -2.600612570730136, MAE: 23.18220329284668, RMSE: 27.005199432373047\n",
      "batch 788, R-squared: -3.5554390462712844, MAE: 20.135892868041992, RMSE: 21.806171417236328\n"
     ]
    },
    {
     "name": "stderr",
     "output_type": "stream",
     "text": [
      " 54%|██████████████████████████████████████████████████████████████████████                                                           | 792/1459 [01:37<01:13,  9.02it/s]"
     ]
    },
    {
     "name": "stdout",
     "output_type": "stream",
     "text": [
      "batch 789, R-squared: -2.062959322722186, MAE: 20.904685974121094, RMSE: 24.188880920410156\n",
      "batch 790, R-squared: -2.3109136448384127, MAE: 21.57428741455078, RMSE: 25.467838287353516\n",
      "batch 791, R-squared: -3.4160147692857152, MAE: 26.86358070373535, RMSE: 29.713937759399414\n"
     ]
    },
    {
     "name": "stderr",
     "output_type": "stream",
     "text": [
      "\r",
      " 54%|██████████████████████████████████████████████████████████████████████▏                                                          | 794/1459 [01:37<01:17,  8.63it/s]"
     ]
    },
    {
     "name": "stdout",
     "output_type": "stream",
     "text": [
      "batch 792, R-squared: -3.4589542086895237, MAE: 18.691482543945312, RMSE: 20.050975799560547\n",
      "batch 793, R-squared: -1.5253687134846317, MAE: 20.463977813720703, RMSE: 25.400127410888672\n"
     ]
    },
    {
     "name": "stderr",
     "output_type": "stream",
     "text": [
      "\r",
      " 55%|██████████████████████████████████████████████████████████████████████▍                                                          | 796/1459 [01:37<01:16,  8.71it/s]"
     ]
    },
    {
     "name": "stdout",
     "output_type": "stream",
     "text": [
      "batch 794, R-squared: -2.1239101208290414, MAE: 20.948265075683594, RMSE: 23.143342971801758\n",
      "batch 795, R-squared: -3.0774393824243638, MAE: 13.703432083129883, RMSE: 14.671727180480957\n"
     ]
    },
    {
     "name": "stderr",
     "output_type": "stream",
     "text": [
      "\r",
      " 55%|██████████████████████████████████████████████████████████████████████▍                                                          | 797/1459 [01:37<01:20,  8.22it/s]"
     ]
    },
    {
     "name": "stdout",
     "output_type": "stream",
     "text": [
      "batch 796, R-squared: -2.171898207495504, MAE: 25.98810577392578, RMSE: 29.92428970336914\n",
      "batch 797, R-squared: -2.6020906739463365, MAE: 22.312646865844727, RMSE: 23.915000915527344\n"
     ]
    },
    {
     "name": "stderr",
     "output_type": "stream",
     "text": [
      "\r",
      " 55%|██████████████████████████████████████████████████████████████████████▋                                                          | 799/1459 [01:37<01:15,  8.73it/s]"
     ]
    },
    {
     "name": "stdout",
     "output_type": "stream",
     "text": [
      "batch 798, R-squared: -3.5758304278367574, MAE: 28.006349563598633, RMSE: 30.253562927246094\n",
      "batch 799, R-squared: -2.1695285022644764, MAE: 20.362201690673828, RMSE: 22.655210494995117\n"
     ]
    },
    {
     "name": "stderr",
     "output_type": "stream",
     "text": [
      " 55%|██████████████████████████████████████████████████████████████████████▉                                                          | 802/1459 [01:38<01:11,  9.17it/s]"
     ]
    },
    {
     "name": "stdout",
     "output_type": "stream",
     "text": [
      "batch 800, R-squared: -2.9583340593163694, MAE: 13.419740676879883, RMSE: 14.629267692565918\n",
      "batch 801, R-squared: -3.9602495488347844, MAE: 15.304381370544434, RMSE: 16.45892906188965\n"
     ]
    },
    {
     "name": "stderr",
     "output_type": "stream",
     "text": [
      " 55%|███████████████████████████████████████████████████████████████████████                                                          | 804/1459 [01:38<01:16,  8.61it/s]"
     ]
    },
    {
     "name": "stdout",
     "output_type": "stream",
     "text": [
      "batch 802, R-squared: -2.937085093403166, MAE: 27.96788787841797, RMSE: 31.44945526123047\n",
      "batch 803, R-squared: -3.326039343847815, MAE: 29.41944122314453, RMSE: 33.197505950927734\n"
     ]
    },
    {
     "name": "stderr",
     "output_type": "stream",
     "text": [
      "\r",
      " 55%|███████████████████████████████████████████████████████████████████████▎                                                         | 806/1459 [01:38<01:15,  8.65it/s]"
     ]
    },
    {
     "name": "stdout",
     "output_type": "stream",
     "text": [
      "batch 804, R-squared: -3.00376491859295, MAE: 15.040352821350098, RMSE: 17.979751586914062\n",
      "batch 805, R-squared: -2.8638301069364127, MAE: 28.139461517333984, RMSE: 32.97856903076172\n"
     ]
    },
    {
     "name": "stderr",
     "output_type": "stream",
     "text": [
      " 55%|███████████████████████████████████████████████████████████████████████▍                                                         | 808/1459 [01:38<01:12,  8.99it/s]"
     ]
    },
    {
     "name": "stdout",
     "output_type": "stream",
     "text": [
      "batch 806, R-squared: -3.262930916655412, MAE: 17.811378479003906, RMSE: 19.47652816772461\n",
      "batch 807, R-squared: -1.9609245867373788, MAE: 23.289779663085938, RMSE: 26.39311408996582\n"
     ]
    },
    {
     "name": "stderr",
     "output_type": "stream",
     "text": [
      " 56%|███████████████████████████████████████████████████████████████████████▌                                                         | 810/1459 [01:39<01:12,  8.89it/s]"
     ]
    },
    {
     "name": "stdout",
     "output_type": "stream",
     "text": [
      "batch 808, R-squared: -2.370191641519961, MAE: 11.593740463256836, RMSE: 13.738773345947266\n",
      "batch 809, R-squared: -2.627404444773172, MAE: 24.451000213623047, RMSE: 28.812129974365234\n"
     ]
    },
    {
     "name": "stderr",
     "output_type": "stream",
     "text": [
      "\r",
      " 56%|███████████████████████████████████████████████████████████████████████▋                                                         | 811/1459 [01:39<01:14,  8.72it/s]"
     ]
    },
    {
     "name": "stdout",
     "output_type": "stream",
     "text": [
      "batch 810, R-squared: -3.202689340316822, MAE: 29.387920379638672, RMSE: 31.720417022705078\n",
      "batch 811, R-squared: -2.4977519916782187, MAE: 26.597854614257812, RMSE: 29.796722412109375\n"
     ]
    },
    {
     "name": "stderr",
     "output_type": "stream",
     "text": [
      " 56%|███████████████████████████████████████████████████████████████████████▉                                                         | 814/1459 [01:39<01:14,  8.61it/s]"
     ]
    },
    {
     "name": "stdout",
     "output_type": "stream",
     "text": [
      "batch 812, R-squared: -3.2402042758006377, MAE: 20.89189338684082, RMSE: 22.322404861450195\n",
      "batch 813, R-squared: -2.16989329952918, MAE: 22.740692138671875, RMSE: 25.04085350036621\n"
     ]
    },
    {
     "name": "stderr",
     "output_type": "stream",
     "text": [
      " 56%|████████████████████████████████████████████████████████████████████████▏                                                        | 816/1459 [01:39<01:20,  8.04it/s]"
     ]
    },
    {
     "name": "stdout",
     "output_type": "stream",
     "text": [
      "batch 814, R-squared: -3.532440350058979, MAE: 33.386573791503906, RMSE: 37.57720184326172\n",
      "batch 815, R-squared: -3.8417860737439558, MAE: 12.381566047668457, RMSE: 13.519031524658203\n"
     ]
    },
    {
     "name": "stderr",
     "output_type": "stream",
     "text": [
      " 56%|████████████████████████████████████████████████████████████████████████▎                                                        | 818/1459 [01:40<01:24,  7.59it/s]"
     ]
    },
    {
     "name": "stdout",
     "output_type": "stream",
     "text": [
      "batch 816, R-squared: -3.585019066981186, MAE: 18.3955135345459, RMSE: 21.058008193969727\n",
      "batch 817, R-squared: -2.84356753641234, MAE: 20.000526428222656, RMSE: 22.832897186279297\n"
     ]
    },
    {
     "name": "stderr",
     "output_type": "stream",
     "text": [
      " 56%|████████████████████████████████████████████████████████████████████████▌                                                        | 820/1459 [01:40<01:19,  8.07it/s]"
     ]
    },
    {
     "name": "stdout",
     "output_type": "stream",
     "text": [
      "batch 818, R-squared: -3.479650484559996, MAE: 21.21900177001953, RMSE: 23.448856353759766\n",
      "batch 819, R-squared: -3.154376941244788, MAE: 15.793174743652344, RMSE: 18.081531524658203\n"
     ]
    },
    {
     "name": "stderr",
     "output_type": "stream",
     "text": [
      " 56%|████████████████████████████████████████████████████████████████████████▋                                                        | 822/1459 [01:40<01:18,  8.08it/s]"
     ]
    },
    {
     "name": "stdout",
     "output_type": "stream",
     "text": [
      "batch 820, R-squared: -2.326287206428101, MAE: 15.239487648010254, RMSE: 19.182065963745117\n",
      "batch 821, R-squared: -2.2277097576842246, MAE: 21.66207504272461, RMSE: 25.90072250366211\n"
     ]
    },
    {
     "name": "stderr",
     "output_type": "stream",
     "text": [
      " 56%|████████████████████████████████████████████████████████████████████████▊                                                        | 824/1459 [01:40<01:21,  7.82it/s]"
     ]
    },
    {
     "name": "stdout",
     "output_type": "stream",
     "text": [
      "batch 822, R-squared: -2.7360603668662318, MAE: 16.59088134765625, RMSE: 18.337783813476562\n",
      "batch 823, R-squared: -2.1632101132596695, MAE: 15.99753189086914, RMSE: 17.977935791015625\n"
     ]
    },
    {
     "name": "stderr",
     "output_type": "stream",
     "text": [
      " 57%|█████████████████████████████████████████████████████████████████████████                                                        | 826/1459 [01:41<01:17,  8.15it/s]"
     ]
    },
    {
     "name": "stdout",
     "output_type": "stream",
     "text": [
      "batch 824, R-squared: -2.954670744540246, MAE: 22.0534610748291, RMSE: 24.54448699951172\n",
      "batch 825, R-squared: -3.1641648248691423, MAE: 17.127330780029297, RMSE: 19.461137771606445\n"
     ]
    },
    {
     "name": "stderr",
     "output_type": "stream",
     "text": [
      " 57%|█████████████████████████████████████████████████████████████████████████▏                                                       | 828/1459 [01:41<01:17,  8.15it/s]"
     ]
    },
    {
     "name": "stdout",
     "output_type": "stream",
     "text": [
      "batch 826, R-squared: -3.0759993375579104, MAE: 17.991413116455078, RMSE: 19.609233856201172\n",
      "batch 827, R-squared: -3.4106856228971894, MAE: 16.03543472290039, RMSE: 17.191028594970703\n"
     ]
    },
    {
     "name": "stderr",
     "output_type": "stream",
     "text": [
      " 57%|█████████████████████████████████████████████████████████████████████████▍                                                       | 830/1459 [01:41<01:20,  7.84it/s]"
     ]
    },
    {
     "name": "stdout",
     "output_type": "stream",
     "text": [
      "batch 828, R-squared: -3.440409079076929, MAE: 14.936983108520508, RMSE: 16.071115493774414\n",
      "batch 829, R-squared: -2.787071447581236, MAE: 31.81656265258789, RMSE: 37.65697479248047\n"
     ]
    },
    {
     "name": "stderr",
     "output_type": "stream",
     "text": [
      "\r",
      " 57%|█████████████████████████████████████████████████████████████████████████▌                                                       | 832/1459 [01:41<01:11,  8.75it/s]"
     ]
    },
    {
     "name": "stdout",
     "output_type": "stream",
     "text": [
      "batch 830, R-squared: -2.9563377853373214, MAE: 28.45162582397461, RMSE: 30.84894561767578\n",
      "batch 831, R-squared: -1.95656168673861, MAE: 15.5213623046875, RMSE: 18.30205535888672\n"
     ]
    },
    {
     "name": "stderr",
     "output_type": "stream",
     "text": [
      " 57%|█████████████████████████████████████████████████████████████████████████▋                                                       | 834/1459 [01:42<01:21,  7.69it/s]"
     ]
    },
    {
     "name": "stdout",
     "output_type": "stream",
     "text": [
      "batch 832, R-squared: -2.0214219488160707, MAE: 33.71274185180664, RMSE: 38.50605010986328\n",
      "batch 833, R-squared: -3.0307772462307905, MAE: 17.491533279418945, RMSE: 19.784088134765625\n"
     ]
    },
    {
     "name": "stderr",
     "output_type": "stream",
     "text": [
      "\r",
      " 57%|█████████████████████████████████████████████████████████████████████████▊                                                       | 835/1459 [01:42<01:30,  6.87it/s]"
     ]
    },
    {
     "name": "stdout",
     "output_type": "stream",
     "text": [
      "batch 834, R-squared: -2.296138768995347, MAE: 21.728137969970703, RMSE: 26.16220474243164\n",
      "batch 835, R-squared: -2.634472568015702, MAE: 26.78217315673828, RMSE: 33.331321716308594\n"
     ]
    },
    {
     "name": "stderr",
     "output_type": "stream",
     "text": [
      " 57%|██████████████████████████████████████████████████████████████████████████                                                       | 838/1459 [01:42<01:22,  7.56it/s]"
     ]
    },
    {
     "name": "stdout",
     "output_type": "stream",
     "text": [
      "batch 836, R-squared: -1.771041027269154, MAE: 16.577096939086914, RMSE: 20.92721939086914\n",
      "batch 837, R-squared: -2.8882095895543065, MAE: 14.135955810546875, RMSE: 16.207019805908203\n",
      "batch 838, R-squared: -4.776166823318517, MAE: 27.189517974853516, RMSE: 28.935863494873047\n"
     ]
    },
    {
     "name": "stderr",
     "output_type": "stream",
     "text": [
      " 58%|██████████████████████████████████████████████████████████████████████████▎                                                      | 841/1459 [01:42<01:10,  8.78it/s]"
     ]
    },
    {
     "name": "stdout",
     "output_type": "stream",
     "text": [
      "batch 839, R-squared: -3.75263337614418, MAE: 27.151653289794922, RMSE: 28.701358795166016\n",
      "batch 840, R-squared: -2.169457392310145, MAE: 29.72641944885254, RMSE: 34.682640075683594\n"
     ]
    },
    {
     "name": "stderr",
     "output_type": "stream",
     "text": [
      " 58%|██████████████████████████████████████████████████████████████████████████▌                                                      | 843/1459 [01:43<01:13,  8.37it/s]"
     ]
    },
    {
     "name": "stdout",
     "output_type": "stream",
     "text": [
      "batch 841, R-squared: -3.0807815349766807, MAE: 26.07611083984375, RMSE: 29.36526870727539\n",
      "batch 842, R-squared: -3.5724998922215487, MAE: 20.469268798828125, RMSE: 22.948795318603516\n"
     ]
    },
    {
     "name": "stderr",
     "output_type": "stream",
     "text": [
      " 58%|██████████████████████████████████████████████████████████████████████████▊                                                      | 846/1459 [01:43<01:07,  9.12it/s]"
     ]
    },
    {
     "name": "stdout",
     "output_type": "stream",
     "text": [
      "batch 843, R-squared: -1.8713409807011654, MAE: 27.12096405029297, RMSE: 34.07896423339844\n",
      "batch 844, R-squared: -3.055815382045234, MAE: 30.135305404663086, RMSE: 33.64019012451172\n",
      "batch 845, R-squared: -2.4131518304283617, MAE: 21.736467361450195, RMSE: 24.982074737548828\n"
     ]
    },
    {
     "name": "stderr",
     "output_type": "stream",
     "text": [
      " 58%|██████████████████████████████████████████████████████████████████████████▉                                                      | 848/1459 [01:43<01:13,  8.36it/s]"
     ]
    },
    {
     "name": "stdout",
     "output_type": "stream",
     "text": [
      "batch 846, R-squared: -2.0609674126673005, MAE: 13.808349609375, RMSE: 16.66614532470703\n",
      "batch 847, R-squared: -3.0117287415675054, MAE: 17.992441177368164, RMSE: 19.754974365234375\n"
     ]
    },
    {
     "name": "stderr",
     "output_type": "stream",
     "text": [
      " 58%|███████████████████████████████████████████████████████████████████████████▏                                                     | 850/1459 [01:43<01:12,  8.45it/s]"
     ]
    },
    {
     "name": "stdout",
     "output_type": "stream",
     "text": [
      "batch 848, R-squared: -1.8472730786906797, MAE: 14.637046813964844, RMSE: 17.927921295166016\n",
      "batch 849, R-squared: -5.093114023723141, MAE: 21.30007553100586, RMSE: 22.7885799407959\n"
     ]
    },
    {
     "name": "stderr",
     "output_type": "stream",
     "text": [
      "\r",
      " 58%|███████████████████████████████████████████████████████████████████████████▏                                                     | 851/1459 [01:44<01:14,  8.15it/s]"
     ]
    },
    {
     "name": "stdout",
     "output_type": "stream",
     "text": [
      "batch 850, R-squared: -3.5455295410194405, MAE: 17.738834381103516, RMSE: 19.435596466064453\n",
      "batch 851, R-squared: -2.665414483035152, MAE: 22.099069595336914, RMSE: 24.079683303833008\n"
     ]
    },
    {
     "name": "stderr",
     "output_type": "stream",
     "text": [
      " 59%|███████████████████████████████████████████████████████████████████████████▌                                                     | 854/1459 [01:44<01:21,  7.47it/s]"
     ]
    },
    {
     "name": "stdout",
     "output_type": "stream",
     "text": [
      "batch 852, R-squared: -3.5873461660489268, MAE: 29.173307418823242, RMSE: 32.49730682373047\n",
      "batch 853, R-squared: -3.231184755557539, MAE: 13.486732482910156, RMSE: 15.152210235595703\n"
     ]
    },
    {
     "name": "stderr",
     "output_type": "stream",
     "text": [
      " 59%|███████████████████████████████████████████████████████████████████████████▋                                                     | 856/1459 [01:44<01:22,  7.35it/s]"
     ]
    },
    {
     "name": "stdout",
     "output_type": "stream",
     "text": [
      "batch 854, R-squared: -3.356454008124672, MAE: 20.320175170898438, RMSE: 21.70137596130371\n",
      "batch 855, R-squared: -2.2223901626160094, MAE: 25.040714263916016, RMSE: 28.763731002807617\n"
     ]
    },
    {
     "name": "stderr",
     "output_type": "stream",
     "text": [
      " 59%|███████████████████████████████████████████████████████████████████████████▊                                                     | 858/1459 [01:45<01:14,  8.06it/s]"
     ]
    },
    {
     "name": "stdout",
     "output_type": "stream",
     "text": [
      "batch 856, R-squared: -2.8733028770859814, MAE: 21.001445770263672, RMSE: 23.50606918334961\n",
      "batch 857, R-squared: -1.4574007624900087, MAE: 19.63845443725586, RMSE: 26.894207000732422\n"
     ]
    },
    {
     "name": "stderr",
     "output_type": "stream",
     "text": [
      " 59%|████████████████████████████████████████████████████████████████████████████                                                     | 860/1459 [01:45<01:10,  8.48it/s]"
     ]
    },
    {
     "name": "stdout",
     "output_type": "stream",
     "text": [
      "batch 858, R-squared: -1.8596143272903436, MAE: 16.620887756347656, RMSE: 19.939285278320312\n",
      "batch 859, R-squared: -3.040635013690669, MAE: 18.907527923583984, RMSE: 21.293071746826172\n"
     ]
    },
    {
     "name": "stderr",
     "output_type": "stream",
     "text": [
      " 59%|████████████████████████████████████████████████████████████████████████████▏                                                    | 862/1459 [01:45<01:20,  7.45it/s]"
     ]
    },
    {
     "name": "stdout",
     "output_type": "stream",
     "text": [
      "batch 860, R-squared: -3.0206452763027336, MAE: 25.492834091186523, RMSE: 28.67995834350586\n",
      "batch 861, R-squared: -2.4463934347281953, MAE: 22.183019638061523, RMSE: 24.645408630371094\n"
     ]
    },
    {
     "name": "stderr",
     "output_type": "stream",
     "text": [
      " 59%|████████████████████████████████████████████████████████████████████████████▍                                                    | 864/1459 [01:45<01:18,  7.61it/s]"
     ]
    },
    {
     "name": "stdout",
     "output_type": "stream",
     "text": [
      "batch 862, R-squared: -2.0338079000335205, MAE: 20.212711334228516, RMSE: 23.083030700683594\n",
      "batch 863, R-squared: -3.4824619983693057, MAE: 16.680278778076172, RMSE: 18.461986541748047\n"
     ]
    },
    {
     "name": "stderr",
     "output_type": "stream",
     "text": [
      " 59%|████████████████████████████████████████████████████████████████████████████▌                                                    | 866/1459 [01:46<01:13,  8.04it/s]"
     ]
    },
    {
     "name": "stdout",
     "output_type": "stream",
     "text": [
      "batch 864, R-squared: -2.47057427710419, MAE: 28.213638305664062, RMSE: 35.388511657714844\n",
      "batch 865, R-squared: -2.8611260109300947, MAE: 18.913171768188477, RMSE: 20.0802001953125\n"
     ]
    },
    {
     "name": "stderr",
     "output_type": "stream",
     "text": [
      " 59%|████████████████████████████████████████████████████████████████████████████▋                                                    | 868/1459 [01:46<01:14,  7.93it/s]"
     ]
    },
    {
     "name": "stdout",
     "output_type": "stream",
     "text": [
      "batch 866, R-squared: -3.210421395523127, MAE: 22.268224716186523, RMSE: 25.135656356811523\n",
      "batch 867, R-squared: -3.059061891789999, MAE: 13.767908096313477, RMSE: 15.067926406860352\n"
     ]
    },
    {
     "name": "stderr",
     "output_type": "stream",
     "text": [
      " 60%|████████████████████████████████████████████████████████████████████████████▉                                                    | 870/1459 [01:46<01:21,  7.23it/s]"
     ]
    },
    {
     "name": "stdout",
     "output_type": "stream",
     "text": [
      "batch 868, R-squared: -2.7135197780310554, MAE: 20.832679748535156, RMSE: 23.3260555267334\n",
      "batch 869, R-squared: -2.4125283208888377, MAE: 20.332456588745117, RMSE: 23.271757125854492\n"
     ]
    },
    {
     "name": "stderr",
     "output_type": "stream",
     "text": [
      " 60%|█████████████████████████████████████████████████████████████████████████████                                                    | 872/1459 [01:46<01:30,  6.50it/s]"
     ]
    },
    {
     "name": "stdout",
     "output_type": "stream",
     "text": [
      "batch 870, R-squared: -2.9181393578974912, MAE: 29.093231201171875, RMSE: 31.311689376831055\n",
      "batch 871, R-squared: -3.273214584486587, MAE: 17.45635414123535, RMSE: 18.700284957885742\n"
     ]
    },
    {
     "name": "stderr",
     "output_type": "stream",
     "text": [
      " 60%|█████████████████████████████████████████████████████████████████████████████▎                                                   | 874/1459 [01:47<01:21,  7.16it/s]"
     ]
    },
    {
     "name": "stdout",
     "output_type": "stream",
     "text": [
      "batch 872, R-squared: -3.674716417604172, MAE: 34.881988525390625, RMSE: 38.32627487182617\n",
      "batch 873, R-squared: -2.503728180301371, MAE: 20.717052459716797, RMSE: 24.110403060913086\n"
     ]
    },
    {
     "name": "stderr",
     "output_type": "stream",
     "text": [
      " 60%|█████████████████████████████████████████████████████████████████████████████▍                                                   | 876/1459 [01:47<01:14,  7.80it/s]"
     ]
    },
    {
     "name": "stdout",
     "output_type": "stream",
     "text": [
      "batch 874, R-squared: -3.807885407935724, MAE: 18.179210662841797, RMSE: 19.795196533203125\n",
      "batch 875, R-squared: -3.696847483749644, MAE: 25.954437255859375, RMSE: 28.30173110961914\n"
     ]
    },
    {
     "name": "stderr",
     "output_type": "stream",
     "text": [
      "\r",
      " 60%|█████████████████████████████████████████████████████████████████████████████▋                                                   | 878/1459 [01:47<01:08,  8.43it/s]"
     ]
    },
    {
     "name": "stdout",
     "output_type": "stream",
     "text": [
      "batch 876, R-squared: -2.309815110824177, MAE: 24.130245208740234, RMSE: 28.04833221435547\n",
      "batch 877, R-squared: -2.5422055347873194, MAE: 31.323509216308594, RMSE: 36.70359802246094\n"
     ]
    },
    {
     "name": "stderr",
     "output_type": "stream",
     "text": [
      " 60%|█████████████████████████████████████████████████████████████████████████████▊                                                   | 880/1459 [01:47<01:08,  8.47it/s]"
     ]
    },
    {
     "name": "stdout",
     "output_type": "stream",
     "text": [
      "batch 878, R-squared: -3.253938202831264, MAE: 21.246912002563477, RMSE: 23.56814956665039\n",
      "batch 879, R-squared: -2.781996320077978, MAE: 21.871719360351562, RMSE: 25.035991668701172\n"
     ]
    },
    {
     "name": "stderr",
     "output_type": "stream",
     "text": [
      " 60%|█████████████████████████████████████████████████████████████████████████████▉                                                   | 882/1459 [01:48<01:05,  8.79it/s]"
     ]
    },
    {
     "name": "stdout",
     "output_type": "stream",
     "text": [
      "batch 880, R-squared: -2.53212637698876, MAE: 17.875139236450195, RMSE: 19.94932746887207\n",
      "batch 881, R-squared: -2.036999953693508, MAE: 13.955543518066406, RMSE: 16.66132354736328\n"
     ]
    },
    {
     "name": "stderr",
     "output_type": "stream",
     "text": [
      " 61%|██████████████████████████████████████████████████████████████████████████████▏                                                  | 884/1459 [01:48<01:05,  8.80it/s]"
     ]
    },
    {
     "name": "stdout",
     "output_type": "stream",
     "text": [
      "batch 882, R-squared: -4.045567420090204, MAE: 26.017120361328125, RMSE: 28.830036163330078\n",
      "batch 883, R-squared: -3.487403446700388, MAE: 33.841861724853516, RMSE: 37.347103118896484\n"
     ]
    },
    {
     "name": "stderr",
     "output_type": "stream",
     "text": [
      "\r",
      " 61%|██████████████████████████████████████████████████████████████████████████████▎                                                  | 886/1459 [01:48<01:01,  9.27it/s]"
     ]
    },
    {
     "name": "stdout",
     "output_type": "stream",
     "text": [
      "batch 884, R-squared: -2.7899529011726685, MAE: 21.67270278930664, RMSE: 25.637683868408203\n",
      "batch 885, R-squared: -2.996989535447904, MAE: 15.761441230773926, RMSE: 17.173828125\n"
     ]
    },
    {
     "name": "stderr",
     "output_type": "stream",
     "text": [
      " 61%|██████████████████████████████████████████████████████████████████████████████▌                                                  | 888/1459 [01:48<01:03,  8.97it/s]"
     ]
    },
    {
     "name": "stdout",
     "output_type": "stream",
     "text": [
      "batch 886, R-squared: -2.8070126774678203, MAE: 30.016525268554688, RMSE: 31.455501556396484\n",
      "batch 887, R-squared: -2.7947675925740287, MAE: 15.08928394317627, RMSE: 18.197044372558594\n"
     ]
    },
    {
     "name": "stderr",
     "output_type": "stream",
     "text": [
      " 61%|██████████████████████████████████████████████████████████████████████████████▋                                                  | 890/1459 [01:49<01:05,  8.75it/s]"
     ]
    },
    {
     "name": "stdout",
     "output_type": "stream",
     "text": [
      "batch 888, R-squared: -1.9791848206798894, MAE: 22.281177520751953, RMSE: 25.103893280029297\n",
      "batch 889, R-squared: -4.3348539931186885, MAE: 23.90345001220703, RMSE: 25.50579833984375\n"
     ]
    },
    {
     "name": "stderr",
     "output_type": "stream",
     "text": [
      " 61%|██████████████████████████████████████████████████████████████████████████████▊                                                  | 892/1459 [01:49<01:07,  8.38it/s]"
     ]
    },
    {
     "name": "stdout",
     "output_type": "stream",
     "text": [
      "batch 890, R-squared: -3.3424385106286456, MAE: 32.16107177734375, RMSE: 34.4760856628418\n",
      "batch 891, R-squared: -3.1077115365332317, MAE: 25.848854064941406, RMSE: 29.85175323486328\n"
     ]
    },
    {
     "name": "stderr",
     "output_type": "stream",
     "text": [
      " 61%|███████████████████████████████████████████████████████████████████████████████                                                  | 894/1459 [01:49<01:13,  7.65it/s]"
     ]
    },
    {
     "name": "stdout",
     "output_type": "stream",
     "text": [
      "batch 892, R-squared: -2.7599700580023874, MAE: 29.137649536132812, RMSE: 32.893516540527344\n",
      "batch 893, R-squared: -1.5855440377817245, MAE: 15.469194412231445, RMSE: 20.02478790283203\n"
     ]
    },
    {
     "name": "stderr",
     "output_type": "stream",
     "text": [
      " 61%|███████████████████████████████████████████████████████████████████████████████▏                                                 | 896/1459 [01:49<01:15,  7.46it/s]"
     ]
    },
    {
     "name": "stdout",
     "output_type": "stream",
     "text": [
      "batch 894, R-squared: -3.5034155874199673, MAE: 21.853361129760742, RMSE: 24.709182739257812\n",
      "batch 895, R-squared: -2.0912685096534234, MAE: 16.856430053710938, RMSE: 19.933353424072266\n"
     ]
    },
    {
     "name": "stderr",
     "output_type": "stream",
     "text": [
      "\r",
      " 61%|███████████████████████████████████████████████████████████████████████████████▎                                                 | 897/1459 [01:49<01:11,  7.88it/s]"
     ]
    },
    {
     "name": "stdout",
     "output_type": "stream",
     "text": [
      "batch 896, R-squared: -3.705672682162061, MAE: 27.03437614440918, RMSE: 30.40673828125\n"
     ]
    },
    {
     "name": "stderr",
     "output_type": "stream",
     "text": [
      " 62%|███████████████████████████████████████████████████████████████████████████████▍                                                 | 899/1459 [01:50<01:24,  6.66it/s]"
     ]
    },
    {
     "name": "stdout",
     "output_type": "stream",
     "text": [
      "batch 897, R-squared: -2.2237637432031288, MAE: 21.83144760131836, RMSE: 25.732084274291992\n",
      "batch 898, R-squared: -2.725916744707217, MAE: 27.865354537963867, RMSE: 30.94500732421875\n"
     ]
    },
    {
     "name": "stderr",
     "output_type": "stream",
     "text": [
      " 62%|███████████████████████████████████████████████████████████████████████████████▋                                                 | 901/1459 [01:50<01:29,  6.24it/s]"
     ]
    },
    {
     "name": "stdout",
     "output_type": "stream",
     "text": [
      "batch 899, R-squared: -3.54846216141613, MAE: 31.081356048583984, RMSE: 35.17335510253906\n",
      "batch 900, R-squared: -2.358371576767648, MAE: 15.285426139831543, RMSE: 17.212203979492188\n"
     ]
    },
    {
     "name": "stderr",
     "output_type": "stream",
     "text": [
      " 62%|███████████████████████████████████████████████████████████████████████████████▉                                                 | 904/1459 [01:51<01:12,  7.71it/s]"
     ]
    },
    {
     "name": "stdout",
     "output_type": "stream",
     "text": [
      "batch 901, R-squared: -1.9271218963221908, MAE: 16.769533157348633, RMSE: 18.94241714477539\n",
      "batch 902, R-squared: -2.193861624552781, MAE: 15.551560401916504, RMSE: 17.607879638671875\n",
      "batch 903, R-squared: -2.815883589271012, MAE: 17.62308120727539, RMSE: 19.72995376586914\n"
     ]
    },
    {
     "name": "stderr",
     "output_type": "stream",
     "text": [
      " 62%|████████████████████████████████████████████████████████████████████████████████                                                 | 906/1459 [01:51<01:10,  7.89it/s]"
     ]
    },
    {
     "name": "stdout",
     "output_type": "stream",
     "text": [
      "batch 904, R-squared: -1.4645501524588327, MAE: 24.36064910888672, RMSE: 31.768863677978516\n",
      "batch 905, R-squared: -2.019887866632054, MAE: 10.704911231994629, RMSE: 12.396859169006348\n"
     ]
    },
    {
     "name": "stderr",
     "output_type": "stream",
     "text": [
      " 62%|████████████████████████████████████████████████████████████████████████████████▎                                                | 908/1459 [01:51<01:12,  7.62it/s]"
     ]
    },
    {
     "name": "stdout",
     "output_type": "stream",
     "text": [
      "batch 906, R-squared: -3.2397679491229807, MAE: 22.369020462036133, RMSE: 25.15152931213379\n",
      "batch 907, R-squared: -1.8280742700613524, MAE: 25.440746307373047, RMSE: 31.493270874023438\n"
     ]
    },
    {
     "name": "stderr",
     "output_type": "stream",
     "text": [
      " 62%|████████████████████████████████████████████████████████████████████████████████▍                                                | 910/1459 [01:51<01:09,  7.92it/s]"
     ]
    },
    {
     "name": "stdout",
     "output_type": "stream",
     "text": [
      "batch 908, R-squared: -3.306652787945082, MAE: 16.034507751464844, RMSE: 17.062667846679688\n",
      "batch 909, R-squared: -1.6556891261543574, MAE: 20.756589889526367, RMSE: 24.358264923095703\n"
     ]
    },
    {
     "name": "stderr",
     "output_type": "stream",
     "text": [
      " 63%|████████████████████████████████████████████████████████████████████████████████▋                                                | 912/1459 [01:52<01:09,  7.84it/s]"
     ]
    },
    {
     "name": "stdout",
     "output_type": "stream",
     "text": [
      "batch 910, R-squared: -3.141101832295841, MAE: 18.158864974975586, RMSE: 20.377891540527344\n",
      "batch 911, R-squared: -2.317543522126455, MAE: 19.327342987060547, RMSE: 22.956298828125\n"
     ]
    },
    {
     "name": "stderr",
     "output_type": "stream",
     "text": [
      " 63%|████████████████████████████████████████████████████████████████████████████████▊                                                | 914/1459 [01:52<01:08,  8.00it/s]"
     ]
    },
    {
     "name": "stdout",
     "output_type": "stream",
     "text": [
      "batch 912, R-squared: -2.13817833988861, MAE: 17.257553100585938, RMSE: 21.11648178100586\n",
      "batch 913, R-squared: -2.8323013198426112, MAE: 24.105993270874023, RMSE: 26.040699005126953\n"
     ]
    },
    {
     "name": "stderr",
     "output_type": "stream",
     "text": [
      "\r",
      " 63%|████████████████████████████████████████████████████████████████████████████████▉                                                | 916/1459 [01:52<01:01,  8.83it/s]"
     ]
    },
    {
     "name": "stdout",
     "output_type": "stream",
     "text": [
      "batch 914, R-squared: -3.4516683700614568, MAE: 18.394412994384766, RMSE: 20.315982818603516\n",
      "batch 915, R-squared: -4.11591093380529, MAE: 25.99887466430664, RMSE: 28.6975040435791\n"
     ]
    },
    {
     "name": "stderr",
     "output_type": "stream",
     "text": [
      " 63%|█████████████████████████████████████████████████████████████████████████████████▏                                               | 918/1459 [01:52<01:09,  7.81it/s]"
     ]
    },
    {
     "name": "stdout",
     "output_type": "stream",
     "text": [
      "batch 916, R-squared: -2.6122191501288503, MAE: 50.96815490722656, RMSE: 54.057098388671875\n",
      "batch 917, R-squared: -2.8046662679931753, MAE: 28.58346939086914, RMSE: 31.06846046447754\n"
     ]
    },
    {
     "name": "stderr",
     "output_type": "stream",
     "text": [
      " 63%|█████████████████████████████████████████████████████████████████████████████████▎                                               | 920/1459 [01:53<01:12,  7.41it/s]"
     ]
    },
    {
     "name": "stdout",
     "output_type": "stream",
     "text": [
      "batch 918, R-squared: -2.5608857638032574, MAE: 20.187744140625, RMSE: 22.940555572509766\n",
      "batch 919, R-squared: -4.0700123816942435, MAE: 28.943401336669922, RMSE: 31.863554000854492\n"
     ]
    },
    {
     "name": "stderr",
     "output_type": "stream",
     "text": [
      " 63%|█████████████████████████████████████████████████████████████████████████████████▌                                               | 922/1459 [01:53<01:13,  7.30it/s]"
     ]
    },
    {
     "name": "stdout",
     "output_type": "stream",
     "text": [
      "batch 920, R-squared: -2.5148133125135574, MAE: 23.68431282043457, RMSE: 25.870769500732422\n",
      "batch 921, R-squared: -2.4802004235969624, MAE: 41.67369842529297, RMSE: 50.60907745361328\n"
     ]
    },
    {
     "name": "stderr",
     "output_type": "stream",
     "text": [
      " 63%|█████████████████████████████████████████████████████████████████████████████████▋                                               | 924/1459 [01:53<01:14,  7.17it/s]"
     ]
    },
    {
     "name": "stdout",
     "output_type": "stream",
     "text": [
      "batch 922, R-squared: -2.8216836513110355, MAE: 22.329744338989258, RMSE: 25.885622024536133\n",
      "batch 923, R-squared: -2.1681185063890145, MAE: 15.985331535339355, RMSE: 18.558006286621094\n"
     ]
    },
    {
     "name": "stderr",
     "output_type": "stream",
     "text": [
      " 63%|█████████████████████████████████████████████████████████████████████████████████▊                                               | 926/1459 [01:53<01:12,  7.36it/s]"
     ]
    },
    {
     "name": "stdout",
     "output_type": "stream",
     "text": [
      "batch 924, R-squared: -2.3259408637890733, MAE: 22.473482131958008, RMSE: 24.971328735351562\n",
      "batch 925, R-squared: -3.048392162566884, MAE: 31.62320327758789, RMSE: 34.04119873046875\n"
     ]
    },
    {
     "name": "stderr",
     "output_type": "stream",
     "text": [
      " 64%|██████████████████████████████████████████████████████████████████████████████████                                               | 928/1459 [01:54<01:08,  7.77it/s]"
     ]
    },
    {
     "name": "stdout",
     "output_type": "stream",
     "text": [
      "batch 926, R-squared: -2.116599232742745, MAE: 21.44860076904297, RMSE: 25.513879776000977\n",
      "batch 927, R-squared: -1.7620959827547908, MAE: 13.38058090209961, RMSE: 16.81464385986328\n"
     ]
    },
    {
     "name": "stderr",
     "output_type": "stream",
     "text": [
      "\r",
      " 64%|██████████████████████████████████████████████████████████████████████████████████▏                                              | 930/1459 [01:54<01:01,  8.67it/s]"
     ]
    },
    {
     "name": "stdout",
     "output_type": "stream",
     "text": [
      "batch 928, R-squared: -2.445794937610985, MAE: 15.357285499572754, RMSE: 18.327816009521484\n",
      "batch 929, R-squared: -4.7630597007190305, MAE: 34.630714416503906, RMSE: 38.05912780761719\n"
     ]
    },
    {
     "name": "stderr",
     "output_type": "stream",
     "text": [
      "\r",
      " 64%|██████████████████████████████████████████████████████████████████████████████████▍                                              | 932/1459 [01:54<00:57,  9.20it/s]"
     ]
    },
    {
     "name": "stdout",
     "output_type": "stream",
     "text": [
      "batch 930, R-squared: -2.951214159835206, MAE: 15.910721778869629, RMSE: 17.530004501342773\n",
      "batch 931, R-squared: -2.634341803236498, MAE: 18.137331008911133, RMSE: 20.588701248168945\n",
      "batch 932, R-squared: -2.9617802568796057, MAE: 20.871112823486328, RMSE: 23.60245132446289\n"
     ]
    },
    {
     "name": "stderr",
     "output_type": "stream",
     "text": [
      " 64%|██████████████████████████████████████████████████████████████████████████████████▋                                              | 935/1459 [01:54<01:02,  8.44it/s]"
     ]
    },
    {
     "name": "stdout",
     "output_type": "stream",
     "text": [
      "batch 933, R-squared: -2.3840060586468432, MAE: 18.493022918701172, RMSE: 20.830066680908203\n",
      "batch 934, R-squared: -1.7186295311194444, MAE: 21.11263656616211, RMSE: 25.107784271240234\n"
     ]
    },
    {
     "name": "stderr",
     "output_type": "stream",
     "text": [
      " 64%|██████████████████████████████████████████████████████████████████████████████████▊                                              | 937/1459 [01:55<01:01,  8.46it/s]"
     ]
    },
    {
     "name": "stdout",
     "output_type": "stream",
     "text": [
      "batch 935, R-squared: -2.9006382884849193, MAE: 13.64850902557373, RMSE: 14.879836082458496\n",
      "batch 936, R-squared: -1.7188651014631486, MAE: 21.592147827148438, RMSE: 25.633962631225586\n"
     ]
    },
    {
     "name": "stderr",
     "output_type": "stream",
     "text": [
      " 64%|███████████████████████████████████████████████████████████████████████████████████                                              | 939/1459 [01:55<01:00,  8.61it/s]"
     ]
    },
    {
     "name": "stdout",
     "output_type": "stream",
     "text": [
      "batch 937, R-squared: -3.093172905109718, MAE: 30.912973403930664, RMSE: 36.2860221862793\n",
      "batch 938, R-squared: -2.8406856244091268, MAE: 28.40201187133789, RMSE: 32.60515594482422\n"
     ]
    },
    {
     "name": "stderr",
     "output_type": "stream",
     "text": [
      " 64%|███████████████████████████████████████████████████████████████████████████████████▏                                             | 941/1459 [01:55<01:04,  8.01it/s]"
     ]
    },
    {
     "name": "stdout",
     "output_type": "stream",
     "text": [
      "batch 939, R-squared: -2.6469097577032454, MAE: 21.616294860839844, RMSE: 24.258962631225586\n",
      "batch 940, R-squared: -3.0522303941174065, MAE: 23.45027732849121, RMSE: 26.0831356048584\n"
     ]
    },
    {
     "name": "stderr",
     "output_type": "stream",
     "text": [
      " 65%|███████████████████████████████████████████████████████████████████████████████████▍                                             | 943/1459 [01:55<01:06,  7.75it/s]"
     ]
    },
    {
     "name": "stdout",
     "output_type": "stream",
     "text": [
      "batch 941, R-squared: -2.048832774800339, MAE: 29.022735595703125, RMSE: 34.042049407958984\n",
      "batch 942, R-squared: -2.4828044615483225, MAE: 23.939945220947266, RMSE: 27.394500732421875\n"
     ]
    },
    {
     "name": "stderr",
     "output_type": "stream",
     "text": [
      " 65%|███████████████████████████████████████████████████████████████████████████████████▌                                             | 945/1459 [01:56<01:05,  7.88it/s]"
     ]
    },
    {
     "name": "stdout",
     "output_type": "stream",
     "text": [
      "batch 943, R-squared: -2.4489533941029378, MAE: 23.274005889892578, RMSE: 26.29475212097168\n",
      "batch 944, R-squared: -4.105008005845129, MAE: 24.725177764892578, RMSE: 26.292091369628906\n"
     ]
    },
    {
     "name": "stderr",
     "output_type": "stream",
     "text": [
      " 65%|███████████████████████████████████████████████████████████████████████████████████▋                                             | 947/1459 [01:56<01:05,  7.84it/s]"
     ]
    },
    {
     "name": "stdout",
     "output_type": "stream",
     "text": [
      "batch 945, R-squared: -2.8075684970936634, MAE: 24.786727905273438, RMSE: 28.050966262817383\n",
      "batch 946, R-squared: -2.5662079401087645, MAE: 12.49394702911377, RMSE: 13.946949005126953\n"
     ]
    },
    {
     "name": "stderr",
     "output_type": "stream",
     "text": [
      " 65%|███████████████████████████████████████████████████████████████████████████████████▉                                             | 949/1459 [01:56<01:02,  8.20it/s]"
     ]
    },
    {
     "name": "stdout",
     "output_type": "stream",
     "text": [
      "batch 947, R-squared: -2.3970142761977686, MAE: 33.671241760253906, RMSE: 39.952964782714844\n",
      "batch 948, R-squared: -3.871483734913517, MAE: 26.828716278076172, RMSE: 28.523286819458008\n"
     ]
    },
    {
     "name": "stderr",
     "output_type": "stream",
     "text": [
      " 65%|████████████████████████████████████████████████████████████████████████████████████                                             | 951/1459 [01:56<00:59,  8.54it/s]"
     ]
    },
    {
     "name": "stdout",
     "output_type": "stream",
     "text": [
      "batch 949, R-squared: -3.7115445131258933, MAE: 20.124361038208008, RMSE: 22.76507568359375\n",
      "batch 950, R-squared: -3.0946671099505147, MAE: 18.689285278320312, RMSE: 21.014936447143555\n"
     ]
    },
    {
     "name": "stderr",
     "output_type": "stream",
     "text": [
      " 65%|████████████████████████████████████████████████████████████████████████████████████▎                                            | 953/1459 [01:57<01:06,  7.56it/s]"
     ]
    },
    {
     "name": "stdout",
     "output_type": "stream",
     "text": [
      "batch 951, R-squared: -2.260459213750941, MAE: 19.640586853027344, RMSE: 23.92047119140625\n",
      "batch 952, R-squared: -3.053487702666944, MAE: 18.504844665527344, RMSE: 21.142494201660156\n"
     ]
    },
    {
     "name": "stderr",
     "output_type": "stream",
     "text": [
      " 65%|████████████████████████████████████████████████████████████████████████████████████▍                                            | 955/1459 [01:57<01:10,  7.13it/s]"
     ]
    },
    {
     "name": "stdout",
     "output_type": "stream",
     "text": [
      "batch 953, R-squared: -2.823998779952819, MAE: 23.606958389282227, RMSE: 26.590002059936523\n",
      "batch 954, R-squared: -1.9973653432915026, MAE: 24.345855712890625, RMSE: 27.14080810546875\n"
     ]
    },
    {
     "name": "stderr",
     "output_type": "stream",
     "text": [
      " 66%|████████████████████████████████████████████████████████████████████████████████████▌                                            | 957/1459 [01:57<01:08,  7.33it/s]"
     ]
    },
    {
     "name": "stdout",
     "output_type": "stream",
     "text": [
      "batch 955, R-squared: -3.206724599179206, MAE: 26.47283935546875, RMSE: 29.980533599853516\n",
      "batch 956, R-squared: -2.7045635305444513, MAE: 10.835071563720703, RMSE: 12.146831512451172\n"
     ]
    },
    {
     "name": "stderr",
     "output_type": "stream",
     "text": [
      " 66%|████████████████████████████████████████████████████████████████████████████████████▊                                            | 959/1459 [01:57<01:01,  8.15it/s]"
     ]
    },
    {
     "name": "stdout",
     "output_type": "stream",
     "text": [
      "batch 957, R-squared: -2.0165943259286316, MAE: 25.983535766601562, RMSE: 31.880125045776367\n",
      "batch 958, R-squared: -1.9809306688698243, MAE: 23.248981475830078, RMSE: 27.1273136138916\n"
     ]
    },
    {
     "name": "stderr",
     "output_type": "stream",
     "text": [
      " 66%|████████████████████████████████████████████████████████████████████████████████████▉                                            | 961/1459 [01:58<01:02,  7.91it/s]"
     ]
    },
    {
     "name": "stdout",
     "output_type": "stream",
     "text": [
      "batch 959, R-squared: -2.2857671303052363, MAE: 14.446882247924805, RMSE: 16.58866310119629\n",
      "batch 960, R-squared: -2.8522330845072568, MAE: 26.354116439819336, RMSE: 28.631977081298828\n",
      "batch 961, R-squared: -2.8696831845656705, MAE: 17.45648765563965, RMSE: 19.394546508789062\n"
     ]
    },
    {
     "name": "stderr",
     "output_type": "stream",
     "text": [
      "\r",
      " 66%|█████████████████████████████████████████████████████████████████████████████████████▏                                           | 963/1459 [01:58<00:54,  9.13it/s]"
     ]
    },
    {
     "name": "stdout",
     "output_type": "stream",
     "text": [
      "batch 962, R-squared: -2.7314716900298244, MAE: 26.49249267578125, RMSE: 28.419971466064453\n",
      "batch 963, R-squared: -2.451517905468675, MAE: 23.404821395874023, RMSE: 25.726871490478516\n"
     ]
    },
    {
     "name": "stderr",
     "output_type": "stream",
     "text": [
      " 66%|█████████████████████████████████████████████████████████████████████████████████████▍                                           | 966/1459 [01:58<00:55,  8.81it/s]"
     ]
    },
    {
     "name": "stdout",
     "output_type": "stream",
     "text": [
      "batch 964, R-squared: -2.6061994699397926, MAE: 23.771068572998047, RMSE: 25.855451583862305\n",
      "batch 965, R-squared: -3.1474593693894066, MAE: 25.216259002685547, RMSE: 27.181320190429688\n"
     ]
    },
    {
     "name": "stderr",
     "output_type": "stream",
     "text": [
      " 66%|█████████████████████████████████████████████████████████████████████████████████████▋                                           | 969/1459 [01:59<00:52,  9.30it/s]"
     ]
    },
    {
     "name": "stdout",
     "output_type": "stream",
     "text": [
      "batch 966, R-squared: -4.1148929116538016, MAE: 19.238666534423828, RMSE: 20.815521240234375\n",
      "batch 967, R-squared: -3.3681538189084748, MAE: 22.73714828491211, RMSE: 23.72069549560547\n",
      "batch 968, R-squared: -2.3380538355892013, MAE: 21.663127899169922, RMSE: 25.2449951171875\n"
     ]
    },
    {
     "name": "stderr",
     "output_type": "stream",
     "text": [
      " 67%|█████████████████████████████████████████████████████████████████████████████████████▊                                           | 971/1459 [01:59<00:55,  8.83it/s]"
     ]
    },
    {
     "name": "stdout",
     "output_type": "stream",
     "text": [
      "batch 969, R-squared: -4.15707326798227, MAE: 25.146642684936523, RMSE: 27.76572036743164\n",
      "batch 970, R-squared: -2.019785980595871, MAE: 14.446422576904297, RMSE: 16.70052719116211\n"
     ]
    },
    {
     "name": "stderr",
     "output_type": "stream",
     "text": [
      " 67%|██████████████████████████████████████████████████████████████████████████████████████                                           | 973/1459 [01:59<00:55,  8.82it/s]"
     ]
    },
    {
     "name": "stdout",
     "output_type": "stream",
     "text": [
      "batch 971, R-squared: -2.3245988671064817, MAE: 18.2226619720459, RMSE: 21.433244705200195\n",
      "batch 972, R-squared: -1.6831765478704999, MAE: 14.520929336547852, RMSE: 18.71809959411621\n"
     ]
    },
    {
     "name": "stderr",
     "output_type": "stream",
     "text": [
      " 67%|██████████████████████████████████████████████████████████████████████████████████████▏                                          | 975/1459 [01:59<00:55,  8.75it/s]"
     ]
    },
    {
     "name": "stdout",
     "output_type": "stream",
     "text": [
      "batch 973, R-squared: -2.187700109508303, MAE: 20.64695930480957, RMSE: 24.41577911376953\n",
      "batch 974, R-squared: -2.6047530849589884, MAE: 20.5823917388916, RMSE: 23.812231063842773\n"
     ]
    },
    {
     "name": "stderr",
     "output_type": "stream",
     "text": [
      " 67%|██████████████████████████████████████████████████████████████████████████████████████▍                                          | 978/1459 [02:00<00:53,  9.04it/s]"
     ]
    },
    {
     "name": "stdout",
     "output_type": "stream",
     "text": [
      "batch 975, R-squared: -2.960233207461255, MAE: 27.81420135498047, RMSE: 31.337623596191406\n",
      "batch 976, R-squared: -3.5726952875950926, MAE: 23.526399612426758, RMSE: 24.983903884887695\n",
      "batch 977, R-squared: -2.0399600402472884, MAE: 37.015445709228516, RMSE: 44.931617736816406\n"
     ]
    },
    {
     "name": "stderr",
     "output_type": "stream",
     "text": [
      " 67%|██████████████████████████████████████████████████████████████████████████████████████▋                                          | 980/1459 [02:00<00:54,  8.87it/s]"
     ]
    },
    {
     "name": "stdout",
     "output_type": "stream",
     "text": [
      "batch 978, R-squared: -2.594381264069267, MAE: 27.648717880249023, RMSE: 32.0211296081543\n",
      "batch 979, R-squared: -2.872371902780921, MAE: 16.63898277282715, RMSE: 18.228137969970703\n"
     ]
    },
    {
     "name": "stderr",
     "output_type": "stream",
     "text": [
      " 67%|██████████████████████████████████████████████████████████████████████████████████████▊                                          | 982/1459 [02:00<00:57,  8.25it/s]"
     ]
    },
    {
     "name": "stdout",
     "output_type": "stream",
     "text": [
      "batch 980, R-squared: -2.5657758260628185, MAE: 20.276376724243164, RMSE: 23.050186157226562\n",
      "batch 981, R-squared: -3.667429352978106, MAE: 21.05089569091797, RMSE: 22.54190444946289\n"
     ]
    },
    {
     "name": "stderr",
     "output_type": "stream",
     "text": [
      " 67%|███████████████████████████████████████████████████████████████████████████████████████                                          | 984/1459 [02:00<00:59,  8.04it/s]"
     ]
    },
    {
     "name": "stdout",
     "output_type": "stream",
     "text": [
      "batch 982, R-squared: -3.155735973836663, MAE: 23.50221824645996, RMSE: 26.783451080322266\n",
      "batch 983, R-squared: -3.7002376192340654, MAE: 19.49448585510254, RMSE: 20.32781982421875\n"
     ]
    },
    {
     "name": "stderr",
     "output_type": "stream",
     "text": [
      " 68%|███████████████████████████████████████████████████████████████████████████████████████▏                                         | 986/1459 [02:01<00:59,  7.95it/s]"
     ]
    },
    {
     "name": "stdout",
     "output_type": "stream",
     "text": [
      "batch 984, R-squared: -1.9789728434153613, MAE: 21.021934509277344, RMSE: 24.456682205200195\n",
      "batch 985, R-squared: -2.0711436393628664, MAE: 21.653188705444336, RMSE: 25.979167938232422\n"
     ]
    },
    {
     "name": "stderr",
     "output_type": "stream",
     "text": [
      " 68%|███████████████████████████████████████████████████████████████████████████████████████▎                                         | 988/1459 [02:01<00:58,  7.99it/s]"
     ]
    },
    {
     "name": "stdout",
     "output_type": "stream",
     "text": [
      "batch 986, R-squared: -1.4703474262227891, MAE: 17.964805603027344, RMSE: 23.26738929748535\n",
      "batch 987, R-squared: -2.7877057221938624, MAE: 27.121593475341797, RMSE: 29.6827392578125\n"
     ]
    },
    {
     "name": "stderr",
     "output_type": "stream",
     "text": [
      " 68%|███████████████████████████████████████████████████████████████████████████████████████▌                                         | 990/1459 [02:01<00:57,  8.11it/s]"
     ]
    },
    {
     "name": "stdout",
     "output_type": "stream",
     "text": [
      "batch 988, R-squared: -2.6178941837122416, MAE: 24.065813064575195, RMSE: 28.02444839477539\n",
      "batch 989, R-squared: -2.7767825062339098, MAE: 28.391700744628906, RMSE: 31.953628540039062\n"
     ]
    },
    {
     "name": "stderr",
     "output_type": "stream",
     "text": [
      " 68%|███████████████████████████████████████████████████████████████████████████████████████▋                                         | 992/1459 [02:01<00:53,  8.71it/s]"
     ]
    },
    {
     "name": "stdout",
     "output_type": "stream",
     "text": [
      "batch 990, R-squared: -2.7516103942898016, MAE: 18.627321243286133, RMSE: 22.031352996826172\n",
      "batch 991, R-squared: -3.672687298217744, MAE: 19.091907501220703, RMSE: 20.399049758911133\n"
     ]
    },
    {
     "name": "stderr",
     "output_type": "stream",
     "text": [
      " 68%|███████████████████████████████████████████████████████████████████████████████████████▉                                         | 994/1459 [02:02<01:02,  7.49it/s]"
     ]
    },
    {
     "name": "stdout",
     "output_type": "stream",
     "text": [
      "batch 992, R-squared: -3.3649557156711762, MAE: 27.799278259277344, RMSE: 32.04025650024414\n",
      "batch 993, R-squared: -2.7034520888614297, MAE: 23.479103088378906, RMSE: 24.57794189453125\n"
     ]
    },
    {
     "name": "stderr",
     "output_type": "stream",
     "text": [
      " 68%|████████████████████████████████████████████████████████████████████████████████████████                                         | 996/1459 [02:02<00:58,  7.98it/s]"
     ]
    },
    {
     "name": "stdout",
     "output_type": "stream",
     "text": [
      "batch 994, R-squared: -2.5413692698888495, MAE: 20.973560333251953, RMSE: 23.31507110595703\n",
      "batch 995, R-squared: -2.0071019345910313, MAE: 27.832828521728516, RMSE: 34.68334197998047\n"
     ]
    },
    {
     "name": "stderr",
     "output_type": "stream",
     "text": [
      "\r",
      " 68%|████████████████████████████████████████████████████████████████████████████████████████▏                                        | 998/1459 [02:02<00:54,  8.49it/s]"
     ]
    },
    {
     "name": "stdout",
     "output_type": "stream",
     "text": [
      "batch 996, R-squared: -2.9952485870451637, MAE: 20.294424057006836, RMSE: 22.11160659790039\n",
      "batch 997, R-squared: -1.8536337958148246, MAE: 18.714998245239258, RMSE: 22.325439453125\n"
     ]
    },
    {
     "name": "stderr",
     "output_type": "stream",
     "text": [
      " 69%|███████████████████████████████████████████████████████████████████████████████████████▋                                        | 1000/1459 [02:02<00:54,  8.38it/s]"
     ]
    },
    {
     "name": "stdout",
     "output_type": "stream",
     "text": [
      "batch 998, R-squared: -3.012147809605728, MAE: 30.321102142333984, RMSE: 32.804805755615234\n",
      "batch 999, R-squared: -2.8708928746586455, MAE: 19.40454864501953, RMSE: 20.782995223999023\n",
      "batch 1000, R-squared: -3.1565049743821945, MAE: 23.344669342041016, RMSE: 26.76340675354004\n"
     ]
    },
    {
     "name": "stderr",
     "output_type": "stream",
     "text": [
      " 69%|███████████████████████████████████████████████████████████████████████████████████████▉                                        | 1003/1459 [02:03<00:48,  9.47it/s]"
     ]
    },
    {
     "name": "stdout",
     "output_type": "stream",
     "text": [
      "batch 1001, R-squared: -3.670910311342441, MAE: 28.003307342529297, RMSE: 30.13076400756836\n",
      "batch 1002, R-squared: -1.662900394755696, MAE: 14.809690475463867, RMSE: 17.642166137695312\n"
     ]
    },
    {
     "name": "stderr",
     "output_type": "stream",
     "text": [
      " 69%|████████████████████████████████████████████████████████████████████████████████████████▏                                       | 1005/1459 [02:03<00:52,  8.71it/s]"
     ]
    },
    {
     "name": "stdout",
     "output_type": "stream",
     "text": [
      "batch 1003, R-squared: -2.638014231964205, MAE: 25.443824768066406, RMSE: 30.16435432434082\n",
      "batch 1004, R-squared: -3.439309323687199, MAE: 22.973840713500977, RMSE: 25.103609085083008\n"
     ]
    },
    {
     "name": "stderr",
     "output_type": "stream",
     "text": [
      " 69%|████████████████████████████████████████████████████████████████████████████████████████▍                                       | 1008/1459 [02:03<00:47,  9.53it/s]"
     ]
    },
    {
     "name": "stdout",
     "output_type": "stream",
     "text": [
      "batch 1005, R-squared: -2.249844543608221, MAE: 21.277481079101562, RMSE: 24.76325798034668\n",
      "batch 1006, R-squared: -2.627855450338991, MAE: 23.4289493560791, RMSE: 26.839675903320312\n",
      "batch 1007, R-squared: -4.100504227324701, MAE: 29.48488998413086, RMSE: 31.50225067138672\n"
     ]
    },
    {
     "name": "stderr",
     "output_type": "stream",
     "text": [
      " 69%|████████████████████████████████████████████████████████████████████████████████████████▌                                       | 1010/1459 [02:03<00:52,  8.48it/s]"
     ]
    },
    {
     "name": "stdout",
     "output_type": "stream",
     "text": [
      "batch 1008, R-squared: -2.612210710848965, MAE: 17.708873748779297, RMSE: 21.558446884155273\n",
      "batch 1009, R-squared: -3.0010449206780336, MAE: 20.931198120117188, RMSE: 23.141822814941406\n"
     ]
    },
    {
     "name": "stderr",
     "output_type": "stream",
     "text": [
      " 69%|████████████████████████████████████████████████████████████████████████████████████████▊                                       | 1012/1459 [02:04<00:52,  8.53it/s]"
     ]
    },
    {
     "name": "stdout",
     "output_type": "stream",
     "text": [
      "batch 1010, R-squared: -1.9140628178104302, MAE: 25.587512969970703, RMSE: 31.27562713623047\n",
      "batch 1011, R-squared: -4.025557437720413, MAE: 26.817302703857422, RMSE: 28.97066307067871\n"
     ]
    },
    {
     "name": "stderr",
     "output_type": "stream",
     "text": [
      " 70%|█████████████████████████████████████████████████████████████████████████████████████████                                       | 1015/1459 [02:04<00:49,  9.02it/s]"
     ]
    },
    {
     "name": "stdout",
     "output_type": "stream",
     "text": [
      "batch 1012, R-squared: -2.0674944197633414, MAE: 19.6463623046875, RMSE: 23.145307540893555\n",
      "batch 1013, R-squared: -2.011656175538355, MAE: 14.027036666870117, RMSE: 16.475034713745117\n",
      "batch 1014, R-squared: -1.8641210102688273, MAE: 15.953749656677246, RMSE: 19.916234970092773\n"
     ]
    },
    {
     "name": "stderr",
     "output_type": "stream",
     "text": [
      " 70%|█████████████████████████████████████████████████████████████████████████████████████████▏                                      | 1017/1459 [02:04<00:50,  8.70it/s]"
     ]
    },
    {
     "name": "stdout",
     "output_type": "stream",
     "text": [
      "batch 1015, R-squared: -1.861943769684769, MAE: 26.01853370666504, RMSE: 31.766468048095703\n",
      "batch 1016, R-squared: -3.0003522763958648, MAE: 17.232336044311523, RMSE: 19.374343872070312\n"
     ]
    },
    {
     "name": "stderr",
     "output_type": "stream",
     "text": [
      " 70%|█████████████████████████████████████████████████████████████████████████████████████████▍                                      | 1019/1459 [02:04<00:51,  8.56it/s]"
     ]
    },
    {
     "name": "stdout",
     "output_type": "stream",
     "text": [
      "batch 1017, R-squared: -2.4190575482102403, MAE: 16.958133697509766, RMSE: 19.112207412719727\n",
      "batch 1018, R-squared: -2.970531415267237, MAE: 19.971555709838867, RMSE: 21.33005714416504\n"
     ]
    },
    {
     "name": "stderr",
     "output_type": "stream",
     "text": [
      " 70%|█████████████████████████████████████████████████████████████████████████████████████████▌                                      | 1021/1459 [02:05<00:51,  8.51it/s]"
     ]
    },
    {
     "name": "stdout",
     "output_type": "stream",
     "text": [
      "batch 1019, R-squared: -1.822782592689334, MAE: 22.45195960998535, RMSE: 27.1739501953125\n",
      "batch 1020, R-squared: -2.1826177224667727, MAE: 16.0646915435791, RMSE: 18.128856658935547\n"
     ]
    },
    {
     "name": "stderr",
     "output_type": "stream",
     "text": [
      " 70%|█████████████████████████████████████████████████████████████████████████████████████████▋                                      | 1023/1459 [02:05<00:51,  8.40it/s]"
     ]
    },
    {
     "name": "stdout",
     "output_type": "stream",
     "text": [
      "batch 1021, R-squared: -2.275505471778539, MAE: 22.362083435058594, RMSE: 26.47635269165039\n",
      "batch 1022, R-squared: -2.5262329981368516, MAE: 18.62078094482422, RMSE: 19.592256546020508\n"
     ]
    },
    {
     "name": "stderr",
     "output_type": "stream",
     "text": [
      " 70%|█████████████████████████████████████████████████████████████████████████████████████████▉                                      | 1025/1459 [02:05<00:52,  8.26it/s]"
     ]
    },
    {
     "name": "stdout",
     "output_type": "stream",
     "text": [
      "batch 1023, R-squared: -3.2572498246752257, MAE: 26.609146118164062, RMSE: 29.047733306884766\n",
      "batch 1024, R-squared: -2.434647056642728, MAE: 13.133180618286133, RMSE: 15.081586837768555\n"
     ]
    },
    {
     "name": "stderr",
     "output_type": "stream",
     "text": [
      " 70%|██████████████████████████████████████████████████████████████████████████████████████████                                      | 1027/1459 [02:05<00:52,  8.29it/s]"
     ]
    },
    {
     "name": "stdout",
     "output_type": "stream",
     "text": [
      "batch 1025, R-squared: -2.651392907426637, MAE: 28.847515106201172, RMSE: 32.189544677734375\n",
      "batch 1026, R-squared: -2.0367173358440978, MAE: 30.608200073242188, RMSE: 38.541194915771484\n"
     ]
    },
    {
     "name": "stderr",
     "output_type": "stream",
     "text": [
      "\r",
      " 70%|██████████████████████████████████████████████████████████████████████████████████████████▏                                     | 1028/1459 [02:06<00:53,  8.10it/s]"
     ]
    },
    {
     "name": "stdout",
     "output_type": "stream",
     "text": [
      "batch 1027, R-squared: -2.9393403691269535, MAE: 23.51068687438965, RMSE: 25.74991798400879\n",
      "batch 1028, R-squared: -3.6342181395439113, MAE: 23.005393981933594, RMSE: 24.289974212646484\n"
     ]
    },
    {
     "name": "stderr",
     "output_type": "stream",
     "text": [
      " 71%|██████████████████████████████████████████████████████████████████████████████████████████▍                                     | 1031/1459 [02:06<00:51,  8.23it/s]"
     ]
    },
    {
     "name": "stdout",
     "output_type": "stream",
     "text": [
      "batch 1029, R-squared: -3.534231706652546, MAE: 21.094696044921875, RMSE: 22.986568450927734\n",
      "batch 1030, R-squared: -2.6738775867330338, MAE: 22.08749771118164, RMSE: 24.858186721801758\n"
     ]
    },
    {
     "name": "stderr",
     "output_type": "stream",
     "text": [
      " 71%|██████████████████████████████████████████████████████████████████████████████████████████▋                                     | 1033/1459 [02:06<00:52,  8.06it/s]"
     ]
    },
    {
     "name": "stdout",
     "output_type": "stream",
     "text": [
      "batch 1031, R-squared: -4.137924774639438, MAE: 29.860382080078125, RMSE: 33.10019302368164\n",
      "batch 1032, R-squared: -2.683568673637272, MAE: 21.38864517211914, RMSE: 23.890947341918945\n"
     ]
    },
    {
     "name": "stderr",
     "output_type": "stream",
     "text": [
      "\r",
      " 71%|██████████████████████████████████████████████████████████████████████████████████████████▋                                     | 1034/1459 [02:06<00:52,  8.03it/s]"
     ]
    },
    {
     "name": "stdout",
     "output_type": "stream",
     "text": [
      "batch 1033, R-squared: -2.8379643848992964, MAE: 29.451873779296875, RMSE: 31.918392181396484\n",
      "batch 1034, R-squared: -3.236471644532846, MAE: 22.52835464477539, RMSE: 24.86907386779785\n"
     ]
    },
    {
     "name": "stderr",
     "output_type": "stream",
     "text": [
      " 71%|██████████████████████████████████████████████████████████████████████████████████████████▉                                     | 1037/1459 [02:07<00:49,  8.49it/s]"
     ]
    },
    {
     "name": "stdout",
     "output_type": "stream",
     "text": [
      "batch 1035, R-squared: -3.3641798559449487, MAE: 18.6761417388916, RMSE: 20.979717254638672\n",
      "batch 1036, R-squared: -1.6128766280161768, MAE: 11.844474792480469, RMSE: 13.446895599365234\n"
     ]
    },
    {
     "name": "stderr",
     "output_type": "stream",
     "text": [
      "\r",
      " 71%|███████████████████████████████████████████████████████████████████████████████████████████                                     | 1038/1459 [02:07<00:53,  7.87it/s]"
     ]
    },
    {
     "name": "stdout",
     "output_type": "stream",
     "text": [
      "batch 1037, R-squared: -2.6844692945567425, MAE: 15.630976676940918, RMSE: 18.44832992553711\n",
      "batch 1038, R-squared: -2.765964901825711, MAE: 19.368436813354492, RMSE: 21.984619140625\n"
     ]
    },
    {
     "name": "stderr",
     "output_type": "stream",
     "text": [
      " 71%|███████████████████████████████████████████████████████████████████████████████████████████▎                                    | 1041/1459 [02:07<00:51,  8.08it/s]"
     ]
    },
    {
     "name": "stdout",
     "output_type": "stream",
     "text": [
      "batch 1039, R-squared: -3.2490561124496784, MAE: 28.61827278137207, RMSE: 31.189489364624023\n",
      "batch 1040, R-squared: -3.7633402727506766, MAE: 35.79420852661133, RMSE: 39.89152526855469\n",
      "batch 1041, R-squared: -3.506451263405499, MAE: 22.305160522460938, RMSE: 24.481704711914062\n"
     ]
    },
    {
     "name": "stderr",
     "output_type": "stream",
     "text": [
      " 72%|███████████████████████████████████████████████████████████████████████████████████████████▌                                    | 1044/1459 [02:07<00:45,  9.13it/s]"
     ]
    },
    {
     "name": "stdout",
     "output_type": "stream",
     "text": [
      "batch 1042, R-squared: -2.6512961408316733, MAE: 23.954553604125977, RMSE: 25.812599182128906\n",
      "batch 1043, R-squared: -4.905983984258726, MAE: 14.380097389221191, RMSE: 15.752321243286133\n"
     ]
    },
    {
     "name": "stderr",
     "output_type": "stream",
     "text": [
      " 72%|███████████████████████████████████████████████████████████████████████████████████████████▊                                    | 1046/1459 [02:08<00:46,  8.94it/s]"
     ]
    },
    {
     "name": "stdout",
     "output_type": "stream",
     "text": [
      "batch 1044, R-squared: -2.7905750272606156, MAE: 28.767831802368164, RMSE: 33.64754104614258\n",
      "batch 1045, R-squared: -2.289722184977439, MAE: 32.42760467529297, RMSE: 38.20026397705078\n"
     ]
    },
    {
     "name": "stderr",
     "output_type": "stream",
     "text": [
      " 72%|███████████████████████████████████████████████████████████████████████████████████████████▉                                    | 1048/1459 [02:08<00:48,  8.46it/s]"
     ]
    },
    {
     "name": "stdout",
     "output_type": "stream",
     "text": [
      "batch 1046, R-squared: -2.3171997259371917, MAE: 22.810901641845703, RMSE: 24.908557891845703\n",
      "batch 1047, R-squared: -2.2423033405027804, MAE: 27.118749618530273, RMSE: 33.30622863769531\n"
     ]
    },
    {
     "name": "stderr",
     "output_type": "stream",
     "text": [
      " 72%|████████████████████████████████████████████████████████████████████████████████████████████                                    | 1050/1459 [02:08<00:52,  7.78it/s]"
     ]
    },
    {
     "name": "stdout",
     "output_type": "stream",
     "text": [
      "batch 1048, R-squared: -3.4107928440583475, MAE: 22.26316261291504, RMSE: 24.994998931884766\n",
      "batch 1049, R-squared: -2.903425504856793, MAE: 21.861331939697266, RMSE: 26.7396183013916\n"
     ]
    },
    {
     "name": "stderr",
     "output_type": "stream",
     "text": [
      " 72%|████████████████████████████████████████████████████████████████████████████████████████████▎                                   | 1052/1459 [02:08<00:52,  7.77it/s]"
     ]
    },
    {
     "name": "stdout",
     "output_type": "stream",
     "text": [
      "batch 1050, R-squared: -3.179966063097249, MAE: 27.291366577148438, RMSE: 29.394855499267578\n",
      "batch 1051, R-squared: -3.130070647659437, MAE: 13.935341835021973, RMSE: 14.91794204711914\n"
     ]
    },
    {
     "name": "stderr",
     "output_type": "stream",
     "text": [
      " 72%|████████████████████████████████████████████████████████████████████████████████████████████▍                                   | 1054/1459 [02:09<00:53,  7.52it/s]"
     ]
    },
    {
     "name": "stdout",
     "output_type": "stream",
     "text": [
      "batch 1052, R-squared: -2.2426469566130116, MAE: 23.332698822021484, RMSE: 28.017473220825195\n",
      "batch 1053, R-squared: -2.08984989331146, MAE: 21.005950927734375, RMSE: 25.76787567138672\n"
     ]
    },
    {
     "name": "stderr",
     "output_type": "stream",
     "text": [
      " 72%|████████████████████████████████████████████████████████████████████████████████████████████▋                                   | 1056/1459 [02:09<00:54,  7.41it/s]"
     ]
    },
    {
     "name": "stdout",
     "output_type": "stream",
     "text": [
      "batch 1054, R-squared: -1.7582936693493287, MAE: 20.656253814697266, RMSE: 24.754215240478516\n",
      "batch 1055, R-squared: -2.513287488468485, MAE: 23.567096710205078, RMSE: 26.18709945678711\n"
     ]
    },
    {
     "name": "stderr",
     "output_type": "stream",
     "text": [
      " 73%|████████████████████████████████████████████████████████████████████████████████████████████▊                                   | 1058/1459 [02:09<00:55,  7.22it/s]"
     ]
    },
    {
     "name": "stdout",
     "output_type": "stream",
     "text": [
      "batch 1056, R-squared: -3.3471402244007216, MAE: 34.61870193481445, RMSE: 37.729976654052734\n",
      "batch 1057, R-squared: -3.6595441639557063, MAE: 19.70992660522461, RMSE: 23.702171325683594\n"
     ]
    },
    {
     "name": "stderr",
     "output_type": "stream",
     "text": [
      "\r",
      " 73%|████████████████████████████████████████████████████████████████████████████████████████████▉                                   | 1060/1459 [02:09<00:47,  8.42it/s]"
     ]
    },
    {
     "name": "stdout",
     "output_type": "stream",
     "text": [
      "batch 1058, R-squared: -2.525976904974552, MAE: 15.29576301574707, RMSE: 18.007781982421875\n",
      "batch 1059, R-squared: -3.785071371838468, MAE: 14.662493705749512, RMSE: 16.10291862487793\n"
     ]
    },
    {
     "name": "stderr",
     "output_type": "stream",
     "text": [
      "\r",
      " 73%|█████████████████████████████████████████████████████████████████████████████████████████████                                   | 1061/1459 [02:10<00:50,  7.83it/s]"
     ]
    },
    {
     "name": "stdout",
     "output_type": "stream",
     "text": [
      "batch 1060, R-squared: -1.8083616468339057, MAE: 10.352635383605957, RMSE: 12.886435508728027\n",
      "batch 1061, R-squared: -2.976828134857057, MAE: 26.26126480102539, RMSE: 29.989551544189453\n"
     ]
    },
    {
     "name": "stderr",
     "output_type": "stream",
     "text": [
      " 73%|█████████████████████████████████████████████████████████████████████████████████████████████▍                                  | 1065/1459 [02:10<00:45,  8.64it/s]"
     ]
    },
    {
     "name": "stdout",
     "output_type": "stream",
     "text": [
      "batch 1062, R-squared: -2.5758691534811224, MAE: 15.796247482299805, RMSE: 18.78883171081543\n",
      "batch 1063, R-squared: -2.9322629086299266, MAE: 38.216068267822266, RMSE: 45.28525161743164\n",
      "batch 1064, R-squared: -2.044889214998714, MAE: 29.139360427856445, RMSE: 33.455162048339844\n"
     ]
    },
    {
     "name": "stderr",
     "output_type": "stream",
     "text": [
      " 73%|█████████████████████████████████████████████████████████████████████████████████████████████▌                                  | 1067/1459 [02:10<00:47,  8.20it/s]"
     ]
    },
    {
     "name": "stdout",
     "output_type": "stream",
     "text": [
      "batch 1065, R-squared: -2.1397538547084083, MAE: 15.601320266723633, RMSE: 18.316429138183594\n",
      "batch 1066, R-squared: -2.9968280987163185, MAE: 29.291988372802734, RMSE: 31.9302978515625\n"
     ]
    },
    {
     "name": "stderr",
     "output_type": "stream",
     "text": [
      "\r",
      " 73%|█████████████████████████████████████████████████████████████████████████████████████████████▋                                  | 1068/1459 [02:10<00:52,  7.42it/s]"
     ]
    },
    {
     "name": "stdout",
     "output_type": "stream",
     "text": [
      "batch 1067, R-squared: -3.1579024562951155, MAE: 35.36820602416992, RMSE: 40.381072998046875\n",
      "batch 1068, R-squared: -2.384148882547213, MAE: 19.683347702026367, RMSE: 22.81785774230957\n"
     ]
    },
    {
     "name": "stderr",
     "output_type": "stream",
     "text": [
      " 73%|█████████████████████████████████████████████████████████████████████████████████████████████▉                                  | 1071/1459 [02:11<00:48,  7.97it/s]"
     ]
    },
    {
     "name": "stdout",
     "output_type": "stream",
     "text": [
      "batch 1069, R-squared: -2.4309072030256447, MAE: 34.49076461791992, RMSE: 39.83311080932617\n",
      "batch 1070, R-squared: -3.201697839954632, MAE: 16.98973846435547, RMSE: 18.45865249633789\n"
     ]
    },
    {
     "name": "stderr",
     "output_type": "stream",
     "text": [
      " 74%|██████████████████████████████████████████████████████████████████████████████████████████████▏                                 | 1073/1459 [02:11<00:49,  7.87it/s]"
     ]
    },
    {
     "name": "stdout",
     "output_type": "stream",
     "text": [
      "batch 1071, R-squared: -2.7043869916137835, MAE: 31.92219352722168, RMSE: 38.232322692871094\n",
      "batch 1072, R-squared: -2.884348401751077, MAE: 20.83330726623535, RMSE: 24.00372314453125\n"
     ]
    },
    {
     "name": "stderr",
     "output_type": "stream",
     "text": [
      "\r",
      " 74%|██████████████████████████████████████████████████████████████████████████████████████████████▏                                 | 1074/1459 [02:11<00:47,  8.12it/s]"
     ]
    },
    {
     "name": "stdout",
     "output_type": "stream",
     "text": [
      "batch 1073, R-squared: -3.5760687817119043, MAE: 14.564114570617676, RMSE: 16.464982986450195\n",
      "batch 1074, R-squared: -3.3298155742466613, MAE: 16.26201057434082, RMSE: 18.58318328857422\n"
     ]
    },
    {
     "name": "stderr",
     "output_type": "stream",
     "text": [
      " 74%|██████████████████████████████████████████████████████████████████████████████████████████████▍                                 | 1077/1459 [02:12<00:49,  7.65it/s]"
     ]
    },
    {
     "name": "stdout",
     "output_type": "stream",
     "text": [
      "batch 1075, R-squared: -3.1733284860094177, MAE: 21.25577163696289, RMSE: 23.00289535522461\n",
      "batch 1076, R-squared: -2.244363990444609, MAE: 30.428241729736328, RMSE: 37.40745162963867\n"
     ]
    },
    {
     "name": "stderr",
     "output_type": "stream",
     "text": [
      "\r",
      " 74%|██████████████████████████████████████████████████████████████████████████████████████████████▌                                 | 1078/1459 [02:12<00:49,  7.66it/s]"
     ]
    },
    {
     "name": "stdout",
     "output_type": "stream",
     "text": [
      "batch 1077, R-squared: -1.5878707434618793, MAE: 24.742488861083984, RMSE: 31.973880767822266\n",
      "batch 1078, R-squared: -3.0889017502796565, MAE: 25.266765594482422, RMSE: 27.122276306152344\n"
     ]
    },
    {
     "name": "stderr",
     "output_type": "stream",
     "text": [
      " 74%|██████████████████████████████████████████████████████████████████████████████████████████████▊                                 | 1081/1459 [02:12<00:47,  7.97it/s]"
     ]
    },
    {
     "name": "stdout",
     "output_type": "stream",
     "text": [
      "batch 1079, R-squared: -1.5565459021518464, MAE: 18.076976776123047, RMSE: 23.8690185546875\n",
      "batch 1080, R-squared: -4.807414268373526, MAE: 27.443435668945312, RMSE: 29.175487518310547\n"
     ]
    },
    {
     "name": "stderr",
     "output_type": "stream",
     "text": [
      " 74%|███████████████████████████████████████████████████████████████████████████████████████████████                                 | 1084/1459 [02:12<00:42,  8.72it/s]"
     ]
    },
    {
     "name": "stdout",
     "output_type": "stream",
     "text": [
      "batch 1081, R-squared: -3.6494440622522646, MAE: 20.924348831176758, RMSE: 21.991474151611328\n",
      "batch 1082, R-squared: -3.00904696511126, MAE: 21.69579315185547, RMSE: 22.55914306640625\n",
      "batch 1083, R-squared: -2.814190698270392, MAE: 17.648998260498047, RMSE: 20.93360137939453\n"
     ]
    },
    {
     "name": "stderr",
     "output_type": "stream",
     "text": [
      " 74%|███████████████████████████████████████████████████████████████████████████████████████████████▎                                | 1086/1459 [02:13<00:47,  7.86it/s]"
     ]
    },
    {
     "name": "stdout",
     "output_type": "stream",
     "text": [
      "batch 1084, R-squared: -3.714025544936667, MAE: 18.969524383544922, RMSE: 20.506080627441406\n",
      "batch 1085, R-squared: -2.5357109946319163, MAE: 15.193038940429688, RMSE: 17.335193634033203\n"
     ]
    },
    {
     "name": "stderr",
     "output_type": "stream",
     "text": [
      " 75%|███████████████████████████████████████████████████████████████████████████████████████████████▍                                | 1088/1459 [02:13<00:47,  7.89it/s]"
     ]
    },
    {
     "name": "stdout",
     "output_type": "stream",
     "text": [
      "batch 1086, R-squared: -2.774675315611045, MAE: 30.839900970458984, RMSE: 33.57807159423828\n",
      "batch 1087, R-squared: -2.663765652314863, MAE: 18.826574325561523, RMSE: 21.184663772583008\n",
      "batch 1088, R-squared: -3.410102520257521, MAE: 18.274599075317383, RMSE: 19.921146392822266\n"
     ]
    },
    {
     "name": "stderr",
     "output_type": "stream",
     "text": [
      " 75%|███████████████████████████████████████████████████████████████████████████████████████████████▊                                | 1092/1459 [02:13<00:36, 10.19it/s]"
     ]
    },
    {
     "name": "stdout",
     "output_type": "stream",
     "text": [
      "batch 1089, R-squared: -1.7725130725345064, MAE: 13.331449508666992, RMSE: 16.22673797607422\n",
      "batch 1090, R-squared: -2.38479119173217, MAE: 13.351175308227539, RMSE: 15.921130180358887\n",
      "batch 1091, R-squared: -3.0916765696508475, MAE: 25.178892135620117, RMSE: 27.171545028686523\n"
     ]
    },
    {
     "name": "stderr",
     "output_type": "stream",
     "text": [
      "\r",
      " 75%|███████████████████████████████████████████████████████████████████████████████████████████████▉                                | 1094/1459 [02:13<00:37,  9.62it/s]"
     ]
    },
    {
     "name": "stdout",
     "output_type": "stream",
     "text": [
      "batch 1092, R-squared: -2.5939516421477005, MAE: 24.839868545532227, RMSE: 28.738351821899414\n",
      "batch 1093, R-squared: -4.32880384027332, MAE: 23.9312686920166, RMSE: 25.84552764892578\n"
     ]
    },
    {
     "name": "stderr",
     "output_type": "stream",
     "text": [
      " 75%|████████████████████████████████████████████████████████████████████████████████████████████████▏                               | 1096/1459 [02:14<00:39,  9.17it/s]"
     ]
    },
    {
     "name": "stdout",
     "output_type": "stream",
     "text": [
      "batch 1094, R-squared: -2.9674923877880666, MAE: 23.126911163330078, RMSE: 24.64576530456543\n",
      "batch 1095, R-squared: -3.4461669269965967, MAE: 25.770462036132812, RMSE: 27.85858917236328\n"
     ]
    },
    {
     "name": "stderr",
     "output_type": "stream",
     "text": [
      " 75%|████████████████████████████████████████████████████████████████████████████████████████████████▎                               | 1098/1459 [02:14<00:44,  8.15it/s]"
     ]
    },
    {
     "name": "stdout",
     "output_type": "stream",
     "text": [
      "batch 1096, R-squared: -3.0803528092152037, MAE: 24.253053665161133, RMSE: 27.00901985168457\n",
      "batch 1097, R-squared: -3.118932154572469, MAE: 29.092098236083984, RMSE: 31.95767593383789\n"
     ]
    },
    {
     "name": "stderr",
     "output_type": "stream",
     "text": [
      " 75%|████████████████████████████████████████████████████████████████████████████████████████████████▌                               | 1100/1459 [02:14<00:41,  8.57it/s]"
     ]
    },
    {
     "name": "stdout",
     "output_type": "stream",
     "text": [
      "batch 1098, R-squared: -2.5924841594791683, MAE: 20.3898983001709, RMSE: 24.03760528564453\n",
      "batch 1099, R-squared: -3.084919640508008, MAE: 21.993289947509766, RMSE: 23.571502685546875\n"
     ]
    },
    {
     "name": "stderr",
     "output_type": "stream",
     "text": [
      " 76%|████████████████████████████████████████████████████████████████████████████████████████████████▋                               | 1102/1459 [02:15<00:46,  7.69it/s]"
     ]
    },
    {
     "name": "stdout",
     "output_type": "stream",
     "text": [
      "batch 1100, R-squared: -4.04251424469118, MAE: 26.007339477539062, RMSE: 28.581090927124023\n",
      "batch 1101, R-squared: -2.7629809639054037, MAE: 31.57895851135254, RMSE: 35.37278747558594\n"
     ]
    },
    {
     "name": "stderr",
     "output_type": "stream",
     "text": [
      "\r",
      " 76%|████████████████████████████████████████████████████████████████████████████████████████████████▊                               | 1104/1459 [02:15<00:42,  8.41it/s]"
     ]
    },
    {
     "name": "stdout",
     "output_type": "stream",
     "text": [
      "batch 1102, R-squared: -1.6843930187342844, MAE: 20.286819458007812, RMSE: 23.561237335205078\n",
      "batch 1103, R-squared: -1.9729202665533516, MAE: 32.312686920166016, RMSE: 40.30305862426758\n"
     ]
    },
    {
     "name": "stderr",
     "output_type": "stream",
     "text": [
      " 76%|█████████████████████████████████████████████████████████████████████████████████████████████████                               | 1106/1459 [02:15<00:41,  8.45it/s]"
     ]
    },
    {
     "name": "stdout",
     "output_type": "stream",
     "text": [
      "batch 1104, R-squared: -3.2011208170454886, MAE: 21.24173355102539, RMSE: 24.068130493164062\n",
      "batch 1105, R-squared: -3.3606825587572073, MAE: 25.379547119140625, RMSE: 27.181982040405273\n"
     ]
    },
    {
     "name": "stderr",
     "output_type": "stream",
     "text": [
      " 76%|█████████████████████████████████████████████████████████████████████████████████████████████████▏                              | 1108/1459 [02:15<00:43,  8.16it/s]"
     ]
    },
    {
     "name": "stdout",
     "output_type": "stream",
     "text": [
      "batch 1106, R-squared: -2.5368068990481643, MAE: 20.150487899780273, RMSE: 22.77786636352539\n",
      "batch 1107, R-squared: -2.743781312215216, MAE: 20.602800369262695, RMSE: 23.02513313293457\n"
     ]
    },
    {
     "name": "stderr",
     "output_type": "stream",
     "text": [
      " 76%|█████████████████████████████████████████████████████████████████████████████████████████████████▍                              | 1110/1459 [02:16<00:49,  7.10it/s]"
     ]
    },
    {
     "name": "stdout",
     "output_type": "stream",
     "text": [
      "batch 1108, R-squared: -2.218824039477716, MAE: 19.187166213989258, RMSE: 24.133155822753906\n",
      "batch 1109, R-squared: -3.2301678156888456, MAE: 25.99936294555664, RMSE: 28.851526260375977\n"
     ]
    },
    {
     "name": "stderr",
     "output_type": "stream",
     "text": [
      " 76%|█████████████████████████████████████████████████████████████████████████████████████████████████▌                              | 1112/1459 [02:16<00:45,  7.66it/s]"
     ]
    },
    {
     "name": "stdout",
     "output_type": "stream",
     "text": [
      "batch 1110, R-squared: -3.4689345885858027, MAE: 21.111114501953125, RMSE: 23.230405807495117\n",
      "batch 1111, R-squared: -2.2276598758458643, MAE: 25.838077545166016, RMSE: 31.852275848388672\n"
     ]
    },
    {
     "name": "stderr",
     "output_type": "stream",
     "text": [
      " 76%|█████████████████████████████████████████████████████████████████████████████████████████████████▋                              | 1114/1459 [02:16<00:44,  7.76it/s]"
     ]
    },
    {
     "name": "stdout",
     "output_type": "stream",
     "text": [
      "batch 1112, R-squared: -2.289269805698335, MAE: 29.272323608398438, RMSE: 31.474098205566406\n",
      "batch 1113, R-squared: -2.0192807903520102, MAE: 13.103866577148438, RMSE: 15.548299789428711\n"
     ]
    },
    {
     "name": "stderr",
     "output_type": "stream",
     "text": [
      " 77%|█████████████████████████████████████████████████████████████████████████████████████████████████▉                              | 1117/1459 [02:16<00:40,  8.40it/s]"
     ]
    },
    {
     "name": "stdout",
     "output_type": "stream",
     "text": [
      "batch 1114, R-squared: -2.157283733460088, MAE: 14.804193496704102, RMSE: 18.352069854736328\n",
      "batch 1115, R-squared: -2.2268028242523257, MAE: 26.743135452270508, RMSE: 31.212980270385742\n",
      "batch 1116, R-squared: -2.525269613811117, MAE: 16.8599796295166, RMSE: 18.970523834228516\n"
     ]
    },
    {
     "name": "stderr",
     "output_type": "stream",
     "text": [
      " 77%|██████████████████████████████████████████████████████████████████████████████████████████████████▏                             | 1119/1459 [02:17<00:42,  8.08it/s]"
     ]
    },
    {
     "name": "stdout",
     "output_type": "stream",
     "text": [
      "batch 1117, R-squared: -2.530418989000231, MAE: 18.454265594482422, RMSE: 20.05837059020996\n",
      "batch 1118, R-squared: -2.19761764408121, MAE: 30.269466400146484, RMSE: 33.72068786621094\n"
     ]
    },
    {
     "name": "stderr",
     "output_type": "stream",
     "text": [
      " 77%|██████████████████████████████████████████████████████████████████████████████████████████████████▎                             | 1121/1459 [02:17<00:39,  8.62it/s]"
     ]
    },
    {
     "name": "stdout",
     "output_type": "stream",
     "text": [
      "batch 1119, R-squared: -2.380840726215303, MAE: 10.336282730102539, RMSE: 12.315706253051758\n",
      "batch 1120, R-squared: -2.510401734389906, MAE: 16.71833610534668, RMSE: 19.22115135192871\n",
      "batch 1121, R-squared: -3.1672660386776195, MAE: 18.64345932006836, RMSE: 22.022905349731445\n"
     ]
    },
    {
     "name": "stderr",
     "output_type": "stream",
     "text": [
      " 77%|██████████████████████████████████████████████████████████████████████████████████████████████████▌                             | 1124/1459 [02:17<00:38,  8.70it/s]"
     ]
    },
    {
     "name": "stdout",
     "output_type": "stream",
     "text": [
      "batch 1122, R-squared: -3.4538494771465276, MAE: 26.39042091369629, RMSE: 29.185501098632812\n",
      "batch 1123, R-squared: -2.192166936738152, MAE: 19.50464630126953, RMSE: 23.698162078857422\n"
     ]
    },
    {
     "name": "stderr",
     "output_type": "stream",
     "text": [
      " 77%|██████████████████████████████████████████████████████████████████████████████████████████████████▊                             | 1127/1459 [02:17<00:34,  9.60it/s]"
     ]
    },
    {
     "name": "stdout",
     "output_type": "stream",
     "text": [
      "batch 1124, R-squared: -3.0418921410972004, MAE: 24.8623046875, RMSE: 28.30590057373047\n",
      "batch 1125, R-squared: -1.1509827007746862, MAE: 9.441032409667969, RMSE: 11.230213165283203\n",
      "batch 1126, R-squared: -3.6245228056927914, MAE: 26.7185001373291, RMSE: 29.128868103027344\n"
     ]
    },
    {
     "name": "stderr",
     "output_type": "stream",
     "text": [
      "\r",
      " 77%|███████████████████████████████████████████████████████████████████████████████████████████████████                             | 1129/1459 [02:18<00:33,  9.72it/s]"
     ]
    },
    {
     "name": "stdout",
     "output_type": "stream",
     "text": [
      "batch 1127, R-squared: -2.5236505147254054, MAE: 20.89610481262207, RMSE: 23.921825408935547\n",
      "batch 1128, R-squared: -3.007424200873785, MAE: 35.65515899658203, RMSE: 40.0726203918457\n"
     ]
    },
    {
     "name": "stderr",
     "output_type": "stream",
     "text": [
      " 78%|███████████████████████████████████████████████████████████████████████████████████████████████████▏                            | 1131/1459 [02:18<00:35,  9.13it/s]"
     ]
    },
    {
     "name": "stdout",
     "output_type": "stream",
     "text": [
      "batch 1129, R-squared: -1.6995655774710148, MAE: 14.717134475708008, RMSE: 18.697546005249023\n",
      "batch 1130, R-squared: -2.5103187334343477, MAE: 28.20922088623047, RMSE: 31.123146057128906\n"
     ]
    },
    {
     "name": "stderr",
     "output_type": "stream",
     "text": [
      " 78%|███████████████████████████████████████████████████████████████████████████████████████████████████▍                            | 1133/1459 [02:18<00:35,  9.07it/s]"
     ]
    },
    {
     "name": "stdout",
     "output_type": "stream",
     "text": [
      "batch 1131, R-squared: -3.322831305942604, MAE: 25.168346405029297, RMSE: 28.364473342895508\n",
      "batch 1132, R-squared: -3.0243919352196915, MAE: 34.77672576904297, RMSE: 39.834747314453125\n"
     ]
    },
    {
     "name": "stderr",
     "output_type": "stream",
     "text": [
      " 78%|███████████████████████████████████████████████████████████████████████████████████████████████████▌                            | 1135/1459 [02:18<00:41,  7.79it/s]"
     ]
    },
    {
     "name": "stdout",
     "output_type": "stream",
     "text": [
      "batch 1133, R-squared: -1.7095764633045365, MAE: 18.676881790161133, RMSE: 24.216022491455078\n",
      "batch 1134, R-squared: -2.321745575996031, MAE: 25.232473373413086, RMSE: 29.351940155029297\n"
     ]
    },
    {
     "name": "stderr",
     "output_type": "stream",
     "text": [
      " 78%|███████████████████████████████████████████████████████████████████████████████████████████████████▊                            | 1137/1459 [02:19<00:40,  7.91it/s]"
     ]
    },
    {
     "name": "stdout",
     "output_type": "stream",
     "text": [
      "batch 1135, R-squared: -1.9294014010178735, MAE: 11.40210247039795, RMSE: 13.959657669067383\n",
      "batch 1136, R-squared: -1.924438183439925, MAE: 18.56966209411621, RMSE: 22.363243103027344\n"
     ]
    },
    {
     "name": "stderr",
     "output_type": "stream",
     "text": [
      " 78%|███████████████████████████████████████████████████████████████████████████████████████████████████▉                            | 1139/1459 [02:19<00:38,  8.26it/s]"
     ]
    },
    {
     "name": "stdout",
     "output_type": "stream",
     "text": [
      "batch 1137, R-squared: -1.7037988017387855, MAE: 25.41211700439453, RMSE: 32.83055114746094\n",
      "batch 1138, R-squared: -3.320606658891246, MAE: 27.496124267578125, RMSE: 31.50186538696289\n"
     ]
    },
    {
     "name": "stderr",
     "output_type": "stream",
     "text": [
      " 78%|████████████████████████████████████████████████████████████████████████████████████████████████████                            | 1141/1459 [02:19<00:42,  7.54it/s]"
     ]
    },
    {
     "name": "stdout",
     "output_type": "stream",
     "text": [
      "batch 1139, R-squared: -2.3952213020440656, MAE: 40.36896896362305, RMSE: 47.89991760253906\n",
      "batch 1140, R-squared: -3.3502310192572167, MAE: 28.772884368896484, RMSE: 31.184812545776367\n"
     ]
    },
    {
     "name": "stderr",
     "output_type": "stream",
     "text": [
      " 78%|████████████████████████████████████████████████████████████████████████████████████████████████████▎                           | 1143/1459 [02:19<00:41,  7.66it/s]"
     ]
    },
    {
     "name": "stdout",
     "output_type": "stream",
     "text": [
      "batch 1141, R-squared: -3.3226839840028006, MAE: 23.965974807739258, RMSE: 27.07632827758789\n",
      "batch 1142, R-squared: -1.7089882974998323, MAE: 24.889890670776367, RMSE: 31.832504272460938\n"
     ]
    },
    {
     "name": "stderr",
     "output_type": "stream",
     "text": [
      " 78%|████████████████████████████████████████████████████████████████████████████████████████████████████▍                           | 1145/1459 [02:20<00:43,  7.20it/s]"
     ]
    },
    {
     "name": "stdout",
     "output_type": "stream",
     "text": [
      "batch 1143, R-squared: -1.9392384198662518, MAE: 23.475547790527344, RMSE: 27.973539352416992\n",
      "batch 1144, R-squared: -3.036934124981164, MAE: 16.204391479492188, RMSE: 18.303466796875\n"
     ]
    },
    {
     "name": "stderr",
     "output_type": "stream",
     "text": [
      " 79%|████████████████████████████████████████████████████████████████████████████████████████████████████▋                           | 1147/1459 [02:20<00:41,  7.57it/s]"
     ]
    },
    {
     "name": "stdout",
     "output_type": "stream",
     "text": [
      "batch 1145, R-squared: -2.757045447076442, MAE: 18.819869995117188, RMSE: 21.82268524169922\n",
      "batch 1146, R-squared: -2.4743548410888536, MAE: 17.44618797302246, RMSE: 20.83922576904297\n"
     ]
    },
    {
     "name": "stderr",
     "output_type": "stream",
     "text": [
      " 79%|████████████████████████████████████████████████████████████████████████████████████████████████████▊                           | 1149/1459 [02:20<00:41,  7.40it/s]"
     ]
    },
    {
     "name": "stdout",
     "output_type": "stream",
     "text": [
      "batch 1147, R-squared: -2.751913354897771, MAE: 17.229738235473633, RMSE: 19.75110626220703\n",
      "batch 1148, R-squared: -2.477968251522003, MAE: 14.286425590515137, RMSE: 16.8868350982666\n"
     ]
    },
    {
     "name": "stderr",
     "output_type": "stream",
     "text": [
      " 79%|█████████████████████████████████████████████████████████████████████████████████████████████████████                           | 1152/1459 [02:21<00:36,  8.34it/s]"
     ]
    },
    {
     "name": "stdout",
     "output_type": "stream",
     "text": [
      "batch 1149, R-squared: -1.983372650853016, MAE: 17.596933364868164, RMSE: 20.24634552001953\n",
      "batch 1150, R-squared: -3.288052753538869, MAE: 26.165462493896484, RMSE: 28.252355575561523\n",
      "batch 1151, R-squared: -2.8013282505533654, MAE: 36.92593765258789, RMSE: 42.388423919677734\n"
     ]
    },
    {
     "name": "stderr",
     "output_type": "stream",
     "text": [
      " 79%|█████████████████████████████████████████████████████████████████████████████████████████████████████▏                          | 1154/1459 [02:21<00:35,  8.48it/s]"
     ]
    },
    {
     "name": "stdout",
     "output_type": "stream",
     "text": [
      "batch 1152, R-squared: -2.778267443977216, MAE: 25.269418716430664, RMSE: 28.456275939941406\n",
      "batch 1153, R-squared: -2.1781435107670473, MAE: 13.753220558166504, RMSE: 15.888582229614258\n"
     ]
    },
    {
     "name": "stderr",
     "output_type": "stream",
     "text": [
      " 79%|█████████████████████████████████████████████████████████████████████████████████████████████████████▍                          | 1156/1459 [02:21<00:40,  7.44it/s]"
     ]
    },
    {
     "name": "stdout",
     "output_type": "stream",
     "text": [
      "batch 1154, R-squared: -4.7180344567469135, MAE: 21.21406364440918, RMSE: 22.537715911865234\n",
      "batch 1155, R-squared: -2.902425896374307, MAE: 13.357852935791016, RMSE: 14.006063461303711\n"
     ]
    },
    {
     "name": "stderr",
     "output_type": "stream",
     "text": [
      " 79%|█████████████████████████████████████████████████████████████████████████████████████████████████████▌                          | 1158/1459 [02:21<00:38,  7.75it/s]"
     ]
    },
    {
     "name": "stdout",
     "output_type": "stream",
     "text": [
      "batch 1156, R-squared: -2.6748602777092105, MAE: 19.18199920654297, RMSE: 20.839136123657227\n",
      "batch 1157, R-squared: -3.693921991032367, MAE: 28.440753936767578, RMSE: 30.526020050048828\n"
     ]
    },
    {
     "name": "stderr",
     "output_type": "stream",
     "text": [
      " 80%|█████████████████████████████████████████████████████████████████████████████████████████████████████▊                          | 1160/1459 [02:22<00:42,  6.99it/s]"
     ]
    },
    {
     "name": "stdout",
     "output_type": "stream",
     "text": [
      "batch 1158, R-squared: -2.8051530199417, MAE: 22.833332061767578, RMSE: 27.310504913330078\n",
      "batch 1159, R-squared: -1.920100908830837, MAE: 19.20014190673828, RMSE: 21.897294998168945\n"
     ]
    },
    {
     "name": "stderr",
     "output_type": "stream",
     "text": [
      " 80%|█████████████████████████████████████████████████████████████████████████████████████████████████████▉                          | 1162/1459 [02:22<00:38,  7.79it/s]"
     ]
    },
    {
     "name": "stdout",
     "output_type": "stream",
     "text": [
      "batch 1160, R-squared: -3.473750138719937, MAE: 21.569746017456055, RMSE: 23.10201644897461\n",
      "batch 1161, R-squared: -3.2260666820385935, MAE: 18.47854232788086, RMSE: 21.82333755493164\n"
     ]
    },
    {
     "name": "stderr",
     "output_type": "stream",
     "text": [
      " 80%|██████████████████████████████████████████████████████████████████████████████████████████████████████                          | 1164/1459 [02:22<00:39,  7.52it/s]"
     ]
    },
    {
     "name": "stdout",
     "output_type": "stream",
     "text": [
      "batch 1162, R-squared: -3.5074661013607105, MAE: 17.93653106689453, RMSE: 19.86362075805664\n",
      "batch 1163, R-squared: -2.85170636228119, MAE: 21.197723388671875, RMSE: 23.631492614746094\n"
     ]
    },
    {
     "name": "stderr",
     "output_type": "stream",
     "text": [
      "\r",
      " 80%|██████████████████████████████████████████████████████████████████████████████████████████████████████▏                         | 1165/1459 [02:22<00:36,  8.12it/s]"
     ]
    },
    {
     "name": "stdout",
     "output_type": "stream",
     "text": [
      "batch 1164, R-squared: -2.546237081071683, MAE: 14.97684097290039, RMSE: 16.361854553222656\n",
      "batch 1165, R-squared: -3.2327574387521922, MAE: 30.47804069519043, RMSE: 36.76546096801758\n"
     ]
    },
    {
     "name": "stderr",
     "output_type": "stream",
     "text": [
      " 80%|██████████████████████████████████████████████████████████████████████████████████████████████████████▍                         | 1168/1459 [02:23<00:34,  8.40it/s]"
     ]
    },
    {
     "name": "stdout",
     "output_type": "stream",
     "text": [
      "batch 1166, R-squared: -1.762842831660946, MAE: 23.722949981689453, RMSE: 30.783950805664062\n",
      "batch 1167, R-squared: -3.9777145646095686, MAE: 25.48858642578125, RMSE: 27.551799774169922\n"
     ]
    },
    {
     "name": "stderr",
     "output_type": "stream",
     "text": [
      " 80%|██████████████████████████████████████████████████████████████████████████████████████████████████████▋                         | 1170/1459 [02:23<00:37,  7.62it/s]"
     ]
    },
    {
     "name": "stdout",
     "output_type": "stream",
     "text": [
      "batch 1168, R-squared: -2.0449982488957263, MAE: 14.90561580657959, RMSE: 17.401243209838867\n",
      "batch 1169, R-squared: -2.4246534446731496, MAE: 27.293838500976562, RMSE: 32.977203369140625\n"
     ]
    },
    {
     "name": "stderr",
     "output_type": "stream",
     "text": [
      " 80%|██████████████████████████████████████████████████████████████████████████████████████████████████████▊                         | 1172/1459 [02:23<00:37,  7.71it/s]"
     ]
    },
    {
     "name": "stdout",
     "output_type": "stream",
     "text": [
      "batch 1170, R-squared: -2.570401530185591, MAE: 32.34281921386719, RMSE: 38.60282897949219\n",
      "batch 1171, R-squared: -3.223152793874952, MAE: 21.89568519592285, RMSE: 24.072975158691406\n"
     ]
    },
    {
     "name": "stderr",
     "output_type": "stream",
     "text": [
      "\r",
      " 80%|██████████████████████████████████████████████████████████████████████████████████████████████████████▉                         | 1174/1459 [02:23<00:34,  8.27it/s]"
     ]
    },
    {
     "name": "stdout",
     "output_type": "stream",
     "text": [
      "batch 1172, R-squared: -3.3645759148335164, MAE: 27.66400909423828, RMSE: 30.70040512084961\n",
      "batch 1173, R-squared: -1.0726562036549434, MAE: 16.219074249267578, RMSE: 20.328678131103516\n"
     ]
    },
    {
     "name": "stderr",
     "output_type": "stream",
     "text": [
      " 81%|███████████████████████████████████████████████████████████████████████████████████████████████████████▏                        | 1176/1459 [02:24<00:35,  7.91it/s]"
     ]
    },
    {
     "name": "stdout",
     "output_type": "stream",
     "text": [
      "batch 1174, R-squared: -2.401650913709893, MAE: 31.134300231933594, RMSE: 35.01970291137695\n",
      "batch 1175, R-squared: -2.2195757578539688, MAE: 21.039064407348633, RMSE: 24.776792526245117\n"
     ]
    },
    {
     "name": "stderr",
     "output_type": "stream",
     "text": [
      " 81%|███████████████████████████████████████████████████████████████████████████████████████████████████████▎                        | 1178/1459 [02:24<00:37,  7.58it/s]"
     ]
    },
    {
     "name": "stdout",
     "output_type": "stream",
     "text": [
      "batch 1176, R-squared: -4.096605552356706, MAE: 18.525630950927734, RMSE: 20.062063217163086\n",
      "batch 1177, R-squared: -3.842887458673654, MAE: 26.107582092285156, RMSE: 28.5638370513916\n"
     ]
    },
    {
     "name": "stderr",
     "output_type": "stream",
     "text": [
      "\r",
      " 81%|███████████████████████████████████████████████████████████████████████████████████████████████████████▌                        | 1180/1459 [02:24<00:33,  8.24it/s]"
     ]
    },
    {
     "name": "stdout",
     "output_type": "stream",
     "text": [
      "batch 1178, R-squared: -3.114569833661441, MAE: 18.927715301513672, RMSE: 22.018497467041016\n",
      "batch 1179, R-squared: -2.6330977581252695, MAE: 9.727258682250977, RMSE: 11.453046798706055\n"
     ]
    },
    {
     "name": "stderr",
     "output_type": "stream",
     "text": [
      " 81%|███████████████████████████████████████████████████████████████████████████████████████████████████████▋                        | 1182/1459 [02:24<00:34,  8.09it/s]"
     ]
    },
    {
     "name": "stdout",
     "output_type": "stream",
     "text": [
      "batch 1180, R-squared: -3.8833807941404155, MAE: 20.271135330200195, RMSE: 22.632823944091797\n",
      "batch 1181, R-squared: -2.1549805028177307, MAE: 17.630420684814453, RMSE: 20.405563354492188\n"
     ]
    },
    {
     "name": "stderr",
     "output_type": "stream",
     "text": [
      " 81%|███████████████████████████████████████████████████████████████████████████████████████████████████████▉                        | 1185/1459 [02:25<00:30,  8.92it/s]"
     ]
    },
    {
     "name": "stdout",
     "output_type": "stream",
     "text": [
      "batch 1182, R-squared: -2.3739542312239497, MAE: 20.08535385131836, RMSE: 22.45722770690918\n",
      "batch 1183, R-squared: -4.231799182952333, MAE: 25.261810302734375, RMSE: 28.096139907836914\n",
      "batch 1184, R-squared: -1.6388899298370545, MAE: 16.12373924255371, RMSE: 20.98819351196289\n"
     ]
    },
    {
     "name": "stderr",
     "output_type": "stream",
     "text": [
      " 81%|████████████████████████████████████████████████████████████████████████████████████████████████████████▏                       | 1187/1459 [02:25<00:30,  8.78it/s]"
     ]
    },
    {
     "name": "stdout",
     "output_type": "stream",
     "text": [
      "batch 1185, R-squared: -1.694886786456082, MAE: 28.554340362548828, RMSE: 36.75013732910156\n",
      "batch 1186, R-squared: -2.03427537678147, MAE: 15.811020851135254, RMSE: 19.07696533203125\n"
     ]
    },
    {
     "name": "stderr",
     "output_type": "stream",
     "text": [
      " 81%|████████████████████████████████████████████████████████████████████████████████████████████████████████▎                       | 1189/1459 [02:25<00:30,  8.73it/s]"
     ]
    },
    {
     "name": "stdout",
     "output_type": "stream",
     "text": [
      "batch 1187, R-squared: -2.390132978064968, MAE: 31.354385375976562, RMSE: 36.728675842285156\n",
      "batch 1188, R-squared: -3.2646891293906166, MAE: 31.273921966552734, RMSE: 33.22452926635742\n"
     ]
    },
    {
     "name": "stderr",
     "output_type": "stream",
     "text": [
      " 82%|████████████████████████████████████████████████████████████████████████████████████████████████████████▍                       | 1191/1459 [02:25<00:29,  8.99it/s]"
     ]
    },
    {
     "name": "stdout",
     "output_type": "stream",
     "text": [
      "batch 1189, R-squared: -2.703261447232367, MAE: 20.732746124267578, RMSE: 23.784282684326172\n",
      "batch 1190, R-squared: -2.04048231538646, MAE: 18.38789176940918, RMSE: 21.723426818847656\n"
     ]
    },
    {
     "name": "stderr",
     "output_type": "stream",
     "text": [
      " 82%|████████████████████████████████████████████████████████████████████████████████████████████████████████▋                       | 1193/1459 [02:26<00:28,  9.20it/s]"
     ]
    },
    {
     "name": "stdout",
     "output_type": "stream",
     "text": [
      "batch 1191, R-squared: -3.503182405605534, MAE: 31.12490463256836, RMSE: 34.924102783203125\n",
      "batch 1192, R-squared: -3.7897973845325055, MAE: 23.703540802001953, RMSE: 25.786155700683594\n"
     ]
    },
    {
     "name": "stderr",
     "output_type": "stream",
     "text": [
      " 82%|████████████████████████████████████████████████████████████████████████████████████████████████████████▊                       | 1195/1459 [02:26<00:30,  8.56it/s]"
     ]
    },
    {
     "name": "stdout",
     "output_type": "stream",
     "text": [
      "batch 1193, R-squared: -3.247706585923857, MAE: 27.668228149414062, RMSE: 29.640045166015625\n",
      "batch 1194, R-squared: -2.578077782595312, MAE: 12.687175750732422, RMSE: 14.122941017150879\n"
     ]
    },
    {
     "name": "stderr",
     "output_type": "stream",
     "text": [
      " 82%|█████████████████████████████████████████████████████████████████████████████████████████████████████████                       | 1197/1459 [02:26<00:29,  8.75it/s]"
     ]
    },
    {
     "name": "stdout",
     "output_type": "stream",
     "text": [
      "batch 1195, R-squared: -3.0349124658505318, MAE: 26.906219482421875, RMSE: 28.970075607299805\n",
      "batch 1196, R-squared: -3.0754022209448872, MAE: 27.659740447998047, RMSE: 29.93458366394043\n"
     ]
    },
    {
     "name": "stderr",
     "output_type": "stream",
     "text": [
      " 82%|█████████████████████████████████████████████████████████████████████████████████████████████████████████▏                      | 1199/1459 [02:26<00:30,  8.41it/s]"
     ]
    },
    {
     "name": "stdout",
     "output_type": "stream",
     "text": [
      "batch 1197, R-squared: -3.3093147187302874, MAE: 27.673940658569336, RMSE: 30.551647186279297\n",
      "batch 1198, R-squared: -3.4074286081491687, MAE: 16.762832641601562, RMSE: 18.097972869873047\n"
     ]
    },
    {
     "name": "stderr",
     "output_type": "stream",
     "text": [
      " 82%|█████████████████████████████████████████████████████████████████████████████████████████████████████████▎                      | 1201/1459 [02:27<00:30,  8.37it/s]"
     ]
    },
    {
     "name": "stdout",
     "output_type": "stream",
     "text": [
      "batch 1199, R-squared: -2.7243487474099375, MAE: 16.256500244140625, RMSE: 19.141286849975586\n",
      "batch 1200, R-squared: -3.8750744835831235, MAE: 20.185087203979492, RMSE: 22.46635627746582\n"
     ]
    },
    {
     "name": "stderr",
     "output_type": "stream",
     "text": [
      " 82%|█████████████████████████████████████████████████████████████████████████████████████████████████████████▌                      | 1203/1459 [02:27<00:33,  7.76it/s]"
     ]
    },
    {
     "name": "stdout",
     "output_type": "stream",
     "text": [
      "batch 1201, R-squared: -2.556090468993222, MAE: 22.703880310058594, RMSE: 26.36760711669922\n",
      "batch 1202, R-squared: -2.8322003964859253, MAE: 14.966835975646973, RMSE: 16.23009490966797\n"
     ]
    },
    {
     "name": "stderr",
     "output_type": "stream",
     "text": [
      " 83%|█████████████████████████████████████████████████████████████████████████████████████████████████████████▋                      | 1205/1459 [02:27<00:30,  8.27it/s]"
     ]
    },
    {
     "name": "stdout",
     "output_type": "stream",
     "text": [
      "batch 1203, R-squared: -1.4466895674330411, MAE: 23.148319244384766, RMSE: 30.95883560180664\n",
      "batch 1204, R-squared: -4.226387768621955, MAE: 25.901840209960938, RMSE: 28.558929443359375\n"
     ]
    },
    {
     "name": "stderr",
     "output_type": "stream",
     "text": [
      " 83%|█████████████████████████████████████████████████████████████████████████████████████████████████████████▉                      | 1207/1459 [02:27<00:30,  8.28it/s]"
     ]
    },
    {
     "name": "stdout",
     "output_type": "stream",
     "text": [
      "batch 1205, R-squared: -2.6057772594643356, MAE: 18.427013397216797, RMSE: 20.576786041259766\n",
      "batch 1206, R-squared: -2.571099568291225, MAE: 23.610797882080078, RMSE: 26.116168975830078\n"
     ]
    },
    {
     "name": "stderr",
     "output_type": "stream",
     "text": [
      " 83%|██████████████████████████████████████████████████████████████████████████████████████████████████████████                      | 1209/1459 [02:28<00:30,  8.19it/s]"
     ]
    },
    {
     "name": "stdout",
     "output_type": "stream",
     "text": [
      "batch 1207, R-squared: -2.4903462691601432, MAE: 21.079387664794922, RMSE: 23.961551666259766\n",
      "batch 1208, R-squared: -2.425775792546359, MAE: 12.09716510772705, RMSE: 14.317219734191895\n"
     ]
    },
    {
     "name": "stderr",
     "output_type": "stream",
     "text": [
      " 83%|██████████████████████████████████████████████████████████████████████████████████████████████████████████▏                     | 1211/1459 [02:28<00:30,  8.22it/s]"
     ]
    },
    {
     "name": "stdout",
     "output_type": "stream",
     "text": [
      "batch 1209, R-squared: -2.899360587198957, MAE: 33.430599212646484, RMSE: 35.51829528808594\n",
      "batch 1210, R-squared: -3.034101572795991, MAE: 22.324893951416016, RMSE: 23.979719161987305\n"
     ]
    },
    {
     "name": "stderr",
     "output_type": "stream",
     "text": [
      " 83%|██████████████████████████████████████████████████████████████████████████████████████████████████████████▍                     | 1213/1459 [02:28<00:29,  8.39it/s]"
     ]
    },
    {
     "name": "stdout",
     "output_type": "stream",
     "text": [
      "batch 1211, R-squared: -2.944273253525116, MAE: 33.209049224853516, RMSE: 35.64851760864258\n",
      "batch 1212, R-squared: -2.9254525890656637, MAE: 21.2530574798584, RMSE: 23.380422592163086\n"
     ]
    },
    {
     "name": "stderr",
     "output_type": "stream",
     "text": [
      " 83%|██████████████████████████████████████████████████████████████████████████████████████████████████████████▌                     | 1215/1459 [02:28<00:29,  8.22it/s]"
     ]
    },
    {
     "name": "stdout",
     "output_type": "stream",
     "text": [
      "batch 1213, R-squared: -2.7561030589479434, MAE: 12.563612937927246, RMSE: 13.818103790283203\n",
      "batch 1214, R-squared: -2.602338864815598, MAE: 19.65310287475586, RMSE: 23.494792938232422\n"
     ]
    },
    {
     "name": "stderr",
     "output_type": "stream",
     "text": [
      "\r",
      " 83%|██████████████████████████████████████████████████████████████████████████████████████████████████████████▊                     | 1217/1459 [02:29<00:28,  8.46it/s]"
     ]
    },
    {
     "name": "stdout",
     "output_type": "stream",
     "text": [
      "batch 1215, R-squared: -3.4070695302256024, MAE: 19.730958938598633, RMSE: 20.845218658447266\n",
      "batch 1216, R-squared: -1.9620336019416444, MAE: 24.117006301879883, RMSE: 28.019994735717773\n"
     ]
    },
    {
     "name": "stderr",
     "output_type": "stream",
     "text": [
      " 84%|██████████████████████████████████████████████████████████████████████████████████████████████████████████▉                     | 1219/1459 [02:29<00:30,  7.79it/s]"
     ]
    },
    {
     "name": "stdout",
     "output_type": "stream",
     "text": [
      "batch 1217, R-squared: -2.935871313372488, MAE: 22.77805519104004, RMSE: 26.37009048461914\n",
      "batch 1218, R-squared: -2.220802699203926, MAE: 28.706771850585938, RMSE: 33.838829040527344\n"
     ]
    },
    {
     "name": "stderr",
     "output_type": "stream",
     "text": [
      " 84%|███████████████████████████████████████████████████████████████████████████████████████████████████████████                     | 1221/1459 [02:29<00:28,  8.32it/s]"
     ]
    },
    {
     "name": "stdout",
     "output_type": "stream",
     "text": [
      "batch 1219, R-squared: -4.02025944926547, MAE: 23.607219696044922, RMSE: 25.581321716308594\n",
      "batch 1220, R-squared: -2.399134896888218, MAE: 17.843473434448242, RMSE: 20.748043060302734\n"
     ]
    },
    {
     "name": "stderr",
     "output_type": "stream",
     "text": [
      " 84%|███████████████████████████████████████████████████████████████████████████████████████████████████████████▎                    | 1223/1459 [02:29<00:29,  8.05it/s]"
     ]
    },
    {
     "name": "stdout",
     "output_type": "stream",
     "text": [
      "batch 1221, R-squared: -1.9782436547859035, MAE: 22.759244918823242, RMSE: 28.502450942993164\n",
      "batch 1222, R-squared: -3.6617893624648854, MAE: 24.417755126953125, RMSE: 26.342239379882812\n"
     ]
    },
    {
     "name": "stderr",
     "output_type": "stream",
     "text": [
      " 84%|███████████████████████████████████████████████████████████████████████████████████████████████████████████▍                    | 1225/1459 [02:30<00:29,  7.93it/s]"
     ]
    },
    {
     "name": "stdout",
     "output_type": "stream",
     "text": [
      "batch 1223, R-squared: -3.307258810546163, MAE: 13.821237564086914, RMSE: 15.519928932189941\n",
      "batch 1224, R-squared: -3.786629494429497, MAE: 19.880634307861328, RMSE: 21.9781551361084\n"
     ]
    },
    {
     "name": "stderr",
     "output_type": "stream",
     "text": [
      " 84%|███████████████████████████████████████████████████████████████████████████████████████████████████████████▋                    | 1227/1459 [02:30<00:26,  8.62it/s]"
     ]
    },
    {
     "name": "stdout",
     "output_type": "stream",
     "text": [
      "batch 1225, R-squared: -3.2179325326287778, MAE: 25.38317108154297, RMSE: 28.0242862701416\n",
      "batch 1226, R-squared: -1.4208943815452113, MAE: 15.697460174560547, RMSE: 20.02797508239746\n"
     ]
    },
    {
     "name": "stderr",
     "output_type": "stream",
     "text": [
      " 84%|███████████████████████████████████████████████████████████████████████████████████████████████████████████▊                    | 1229/1459 [02:30<00:27,  8.47it/s]"
     ]
    },
    {
     "name": "stdout",
     "output_type": "stream",
     "text": [
      "batch 1227, R-squared: -2.8919507036062053, MAE: 20.16844940185547, RMSE: 22.00063705444336\n",
      "batch 1228, R-squared: -3.3515038077159125, MAE: 21.336231231689453, RMSE: 23.66484832763672\n"
     ]
    },
    {
     "name": "stderr",
     "output_type": "stream",
     "text": [
      " 84%|████████████████████████████████████████████████████████████████████████████████████████████████████████████                    | 1232/1459 [02:30<00:24,  9.19it/s]"
     ]
    },
    {
     "name": "stdout",
     "output_type": "stream",
     "text": [
      "batch 1229, R-squared: -2.024057787953572, MAE: 17.115455627441406, RMSE: 19.658742904663086\n",
      "batch 1230, R-squared: -3.2346786302054285, MAE: 25.864707946777344, RMSE: 29.00908660888672\n",
      "batch 1231, R-squared: -4.635312251360159, MAE: 17.40890884399414, RMSE: 18.909379959106445\n"
     ]
    },
    {
     "name": "stderr",
     "output_type": "stream",
     "text": [
      " 85%|████████████████████████████████████████████████████████████████████████████████████████████████████████████▎                   | 1234/1459 [02:31<00:25,  8.85it/s]"
     ]
    },
    {
     "name": "stdout",
     "output_type": "stream",
     "text": [
      "batch 1232, R-squared: -2.670177396746194, MAE: 20.799896240234375, RMSE: 23.595212936401367\n",
      "batch 1233, R-squared: -2.021293669573099, MAE: 16.7475528717041, RMSE: 21.542884826660156\n"
     ]
    },
    {
     "name": "stderr",
     "output_type": "stream",
     "text": [
      "\r",
      " 85%|████████████████████████████████████████████████████████████████████████████████████████████████████████████▍                   | 1236/1459 [02:31<00:25,  8.62it/s]"
     ]
    },
    {
     "name": "stdout",
     "output_type": "stream",
     "text": [
      "batch 1234, R-squared: -2.8886477589277146, MAE: 29.54287338256836, RMSE: 32.92961883544922\n",
      "batch 1235, R-squared: -1.9283774622143257, MAE: 33.903446197509766, RMSE: 38.743499755859375\n"
     ]
    },
    {
     "name": "stderr",
     "output_type": "stream",
     "text": [
      "\r",
      " 85%|████████████████████████████████████████████████████████████████████████████████████████████████████████████▌                   | 1238/1459 [02:31<00:26,  8.30it/s]"
     ]
    },
    {
     "name": "stdout",
     "output_type": "stream",
     "text": [
      "batch 1236, R-squared: -2.893000495347256, MAE: 19.737628936767578, RMSE: 21.880382537841797\n",
      "batch 1237, R-squared: -2.7652176759721256, MAE: 22.13278579711914, RMSE: 25.702999114990234\n"
     ]
    },
    {
     "name": "stderr",
     "output_type": "stream",
     "text": [
      " 85%|████████████████████████████████████████████████████████████████████████████████████████████████████████████▊                   | 1240/1459 [02:31<00:27,  8.06it/s]"
     ]
    },
    {
     "name": "stdout",
     "output_type": "stream",
     "text": [
      "batch 1238, R-squared: -2.7913979477210162, MAE: 36.59381866455078, RMSE: 40.877960205078125\n",
      "batch 1239, R-squared: -2.0185322486677184, MAE: 26.1602725982666, RMSE: 32.180416107177734\n"
     ]
    },
    {
     "name": "stderr",
     "output_type": "stream",
     "text": [
      " 85%|█████████████████████████████████████████████████████████████████████████████████████████████████████████████                   | 1243/1459 [02:32<00:24,  8.97it/s]"
     ]
    },
    {
     "name": "stdout",
     "output_type": "stream",
     "text": [
      "batch 1240, R-squared: -3.5876025161386087, MAE: 26.328079223632812, RMSE: 28.556785583496094\n",
      "batch 1241, R-squared: -2.020618835060693, MAE: 16.603418350219727, RMSE: 20.37030029296875\n",
      "batch 1242, R-squared: -1.5562495152013864, MAE: 20.18284034729004, RMSE: 26.022449493408203\n"
     ]
    },
    {
     "name": "stderr",
     "output_type": "stream",
     "text": [
      " 85%|█████████████████████████████████████████████████████████████████████████████████████████████████████████████▏                  | 1245/1459 [02:32<00:24,  8.90it/s]"
     ]
    },
    {
     "name": "stdout",
     "output_type": "stream",
     "text": [
      "batch 1243, R-squared: -2.2694677137598873, MAE: 21.894014358520508, RMSE: 26.59319305419922\n",
      "batch 1244, R-squared: -2.78986676486427, MAE: 18.757047653198242, RMSE: 20.6009578704834\n"
     ]
    },
    {
     "name": "stderr",
     "output_type": "stream",
     "text": [
      " 85%|█████████████████████████████████████████████████████████████████████████████████████████████████████████████▍                  | 1247/1459 [02:32<00:27,  7.83it/s]"
     ]
    },
    {
     "name": "stdout",
     "output_type": "stream",
     "text": [
      "batch 1245, R-squared: -1.7177799715191215, MAE: 25.71832275390625, RMSE: 30.655742645263672\n",
      "batch 1246, R-squared: -2.072899510911014, MAE: 15.402345657348633, RMSE: 17.706680297851562\n"
     ]
    },
    {
     "name": "stderr",
     "output_type": "stream",
     "text": [
      " 86%|█████████████████████████████████████████████████████████████████████████████████████████████████████████████▌                  | 1249/1459 [02:32<00:24,  8.52it/s]"
     ]
    },
    {
     "name": "stdout",
     "output_type": "stream",
     "text": [
      "batch 1247, R-squared: -3.5440293312967945, MAE: 21.37218475341797, RMSE: 23.206146240234375\n",
      "batch 1248, R-squared: -2.137918888126065, MAE: 23.690776824951172, RMSE: 29.157062530517578\n"
     ]
    },
    {
     "name": "stderr",
     "output_type": "stream",
     "text": [
      " 86%|█████████████████████████████████████████████████████████████████████████████████████████████████████████████▊                  | 1251/1459 [02:33<00:25,  8.30it/s]"
     ]
    },
    {
     "name": "stdout",
     "output_type": "stream",
     "text": [
      "batch 1249, R-squared: -2.365973418123769, MAE: 22.214818954467773, RMSE: 26.956626892089844\n",
      "batch 1250, R-squared: -2.9226849304642846, MAE: 19.672637939453125, RMSE: 22.154926300048828\n"
     ]
    },
    {
     "name": "stderr",
     "output_type": "stream",
     "text": [
      "\r",
      " 86%|█████████████████████████████████████████████████████████████████████████████████████████████████████████████▊                  | 1252/1459 [02:33<00:26,  7.86it/s]"
     ]
    },
    {
     "name": "stdout",
     "output_type": "stream",
     "text": [
      "batch 1251, R-squared: -2.36441261165908, MAE: 32.72576904296875, RMSE: 38.73027038574219\n",
      "batch 1252, R-squared: -3.585055822211871, MAE: 13.524527549743652, RMSE: 14.281672477722168\n"
     ]
    },
    {
     "name": "stderr",
     "output_type": "stream",
     "text": [
      " 86%|██████████████████████████████████████████████████████████████████████████████████████████████████████████████                  | 1255/1459 [02:33<00:25,  8.10it/s]"
     ]
    },
    {
     "name": "stdout",
     "output_type": "stream",
     "text": [
      "batch 1253, R-squared: -2.386157767889972, MAE: 20.31722640991211, RMSE: 23.53720474243164\n",
      "batch 1254, R-squared: -2.761828542886177, MAE: 28.250652313232422, RMSE: 31.65522575378418\n"
     ]
    },
    {
     "name": "stderr",
     "output_type": "stream",
     "text": [
      " 86%|██████████████████████████████████████████████████████████████████████████████████████████████████████████████▎                 | 1257/1459 [02:33<00:23,  8.75it/s]"
     ]
    },
    {
     "name": "stdout",
     "output_type": "stream",
     "text": [
      "batch 1255, R-squared: -2.693913411465146, MAE: 29.337617874145508, RMSE: 34.29133605957031\n",
      "batch 1256, R-squared: -2.012619627740391, MAE: 20.389301300048828, RMSE: 22.736574172973633\n"
     ]
    },
    {
     "name": "stderr",
     "output_type": "stream",
     "text": [
      " 86%|██████████████████████████████████████████████████████████████████████████████████████████████████████████████▍                 | 1259/1459 [02:34<00:23,  8.61it/s]"
     ]
    },
    {
     "name": "stdout",
     "output_type": "stream",
     "text": [
      "batch 1257, R-squared: -3.002759472243262, MAE: 18.665590286254883, RMSE: 20.768491744995117\n",
      "batch 1258, R-squared: -4.00001439850845, MAE: 26.663009643554688, RMSE: 29.241018295288086\n"
     ]
    },
    {
     "name": "stderr",
     "output_type": "stream",
     "text": [
      " 86%|██████████████████████████████████████████████████████████████████████████████████████████████████████████████▋                 | 1261/1459 [02:34<00:27,  7.32it/s]"
     ]
    },
    {
     "name": "stdout",
     "output_type": "stream",
     "text": [
      "batch 1259, R-squared: -2.8202892376391953, MAE: 16.51103401184082, RMSE: 18.71458625793457\n",
      "batch 1260, R-squared: -2.6516064276668105, MAE: 31.528911590576172, RMSE: 36.476112365722656\n"
     ]
    },
    {
     "name": "stderr",
     "output_type": "stream",
     "text": [
      " 87%|██████████████████████████████████████████████████████████████████████████████████████████████████████████████▊                 | 1263/1459 [02:34<00:24,  7.91it/s]"
     ]
    },
    {
     "name": "stdout",
     "output_type": "stream",
     "text": [
      "batch 1261, R-squared: -1.7179650714032373, MAE: 15.452468872070312, RMSE: 19.023723602294922\n",
      "batch 1262, R-squared: -1.824344774404366, MAE: 16.32692527770996, RMSE: 21.6509952545166\n"
     ]
    },
    {
     "name": "stderr",
     "output_type": "stream",
     "text": [
      " 87%|██████████████████████████████████████████████████████████████████████████████████████████████████████████████▉                 | 1265/1459 [02:34<00:24,  8.05it/s]"
     ]
    },
    {
     "name": "stdout",
     "output_type": "stream",
     "text": [
      "batch 1263, R-squared: -2.728971059595992, MAE: 13.12520980834961, RMSE: 15.13293170928955\n",
      "batch 1264, R-squared: -1.979886671163951, MAE: 12.786497116088867, RMSE: 15.708274841308594\n"
     ]
    },
    {
     "name": "stderr",
     "output_type": "stream",
     "text": [
      " 87%|███████████████████████████████████████████████████████████████████████████████████████████████████████████████▏                | 1267/1459 [02:35<00:25,  7.47it/s]"
     ]
    },
    {
     "name": "stdout",
     "output_type": "stream",
     "text": [
      "batch 1265, R-squared: -3.6184088582161884, MAE: 30.1668758392334, RMSE: 34.5639533996582\n",
      "batch 1266, R-squared: -2.6264752021598814, MAE: 23.43962287902832, RMSE: 29.690185546875\n"
     ]
    },
    {
     "name": "stderr",
     "output_type": "stream",
     "text": [
      " 87%|███████████████████████████████████████████████████████████████████████████████████████████████████████████████▎                | 1269/1459 [02:35<00:26,  7.10it/s]"
     ]
    },
    {
     "name": "stdout",
     "output_type": "stream",
     "text": [
      "batch 1267, R-squared: -4.074642414183149, MAE: 16.366546630859375, RMSE: 17.89938735961914\n",
      "batch 1268, R-squared: -4.591510719613055, MAE: 27.802677154541016, RMSE: 29.41046905517578\n"
     ]
    },
    {
     "name": "stderr",
     "output_type": "stream",
     "text": [
      " 87%|███████████████████████████████████████████████████████████████████████████████████████████████████████████████▌                | 1271/1459 [02:35<00:24,  7.53it/s]"
     ]
    },
    {
     "name": "stdout",
     "output_type": "stream",
     "text": [
      "batch 1269, R-squared: -1.8829371822014944, MAE: 16.331342697143555, RMSE: 20.502140045166016\n",
      "batch 1270, R-squared: -3.498481776153122, MAE: 18.021474838256836, RMSE: 19.148971557617188\n"
     ]
    },
    {
     "name": "stderr",
     "output_type": "stream",
     "text": [
      " 87%|███████████████████████████████████████████████████████████████████████████████████████████████████████████████▋                | 1273/1459 [02:35<00:23,  7.87it/s]"
     ]
    },
    {
     "name": "stdout",
     "output_type": "stream",
     "text": [
      "batch 1271, R-squared: -3.696703533657271, MAE: 19.559614181518555, RMSE: 21.2357177734375\n",
      "batch 1272, R-squared: -3.2896910038112743, MAE: 20.314834594726562, RMSE: 21.74882698059082\n"
     ]
    },
    {
     "name": "stderr",
     "output_type": "stream",
     "text": [
      " 87%|███████████████████████████████████████████████████████████████████████████████████████████████████████████████▊                | 1275/1459 [02:36<00:22,  8.14it/s]"
     ]
    },
    {
     "name": "stdout",
     "output_type": "stream",
     "text": [
      "batch 1273, R-squared: -2.5651404487584073, MAE: 27.120380401611328, RMSE: 28.77735710144043\n",
      "batch 1274, R-squared: -3.376862979856045, MAE: 20.887039184570312, RMSE: 23.161380767822266\n"
     ]
    },
    {
     "name": "stderr",
     "output_type": "stream",
     "text": [
      " 88%|████████████████████████████████████████████████████████████████████████████████████████████████████████████████                | 1277/1459 [02:36<00:23,  7.86it/s]"
     ]
    },
    {
     "name": "stdout",
     "output_type": "stream",
     "text": [
      "batch 1275, R-squared: -2.373490178138185, MAE: 32.2547607421875, RMSE: 39.59293746948242\n",
      "batch 1276, R-squared: -2.6131664938605828, MAE: 23.206953048706055, RMSE: 27.054264068603516\n"
     ]
    },
    {
     "name": "stderr",
     "output_type": "stream",
     "text": [
      " 88%|████████████████████████████████████████████████████████████████████████████████████████████████████████████████▏               | 1279/1459 [02:36<00:21,  8.29it/s]"
     ]
    },
    {
     "name": "stdout",
     "output_type": "stream",
     "text": [
      "batch 1277, R-squared: -2.4521071400779495, MAE: 12.675530433654785, RMSE: 14.771306991577148\n",
      "batch 1278, R-squared: -2.1352206734633925, MAE: 17.891101837158203, RMSE: 20.863872528076172\n"
     ]
    },
    {
     "name": "stderr",
     "output_type": "stream",
     "text": [
      " 88%|████████████████████████████████████████████████████████████████████████████████████████████████████████████████▍               | 1281/1459 [02:36<00:23,  7.61it/s]"
     ]
    },
    {
     "name": "stdout",
     "output_type": "stream",
     "text": [
      "batch 1279, R-squared: -3.091933235858753, MAE: 23.490440368652344, RMSE: 24.878389358520508\n",
      "batch 1280, R-squared: -2.8873990520165362, MAE: 17.191606521606445, RMSE: 19.437419891357422\n"
     ]
    },
    {
     "name": "stderr",
     "output_type": "stream",
     "text": [
      " 88%|████████████████████████████████████████████████████████████████████████████████████████████████████████████████▋               | 1284/1459 [02:37<00:20,  8.52it/s]"
     ]
    },
    {
     "name": "stdout",
     "output_type": "stream",
     "text": [
      "batch 1281, R-squared: -2.003052180847673, MAE: 22.71399688720703, RMSE: 27.80343246459961\n",
      "batch 1282, R-squared: -2.7126393993070277, MAE: 21.683242797851562, RMSE: 25.377735137939453\n",
      "batch 1283, R-squared: -2.78635271543858, MAE: 18.372102737426758, RMSE: 19.908309936523438\n"
     ]
    },
    {
     "name": "stderr",
     "output_type": "stream",
     "text": [
      " 88%|████████████████████████████████████████████████████████████████████████████████████████████████████████████████▊               | 1286/1459 [02:37<00:21,  7.94it/s]"
     ]
    },
    {
     "name": "stdout",
     "output_type": "stream",
     "text": [
      "batch 1284, R-squared: -2.288187765995241, MAE: 19.879587173461914, RMSE: 21.842391967773438\n",
      "batch 1285, R-squared: -1.9843931292893249, MAE: 18.78156280517578, RMSE: 23.403141021728516\n"
     ]
    },
    {
     "name": "stderr",
     "output_type": "stream",
     "text": [
      " 88%|████████████████████████████████████████████████████████████████████████████████████████████████████████████████▉               | 1288/1459 [02:37<00:23,  7.27it/s]"
     ]
    },
    {
     "name": "stdout",
     "output_type": "stream",
     "text": [
      "batch 1286, R-squared: -2.4539141642264566, MAE: 27.042842864990234, RMSE: 30.33075714111328\n",
      "batch 1287, R-squared: -3.6030005464691865, MAE: 15.9169282913208, RMSE: 16.7103328704834\n"
     ]
    },
    {
     "name": "stderr",
     "output_type": "stream",
     "text": [
      " 88%|█████████████████████████████████████████████████████████████████████████████████████████████████████████████████▏              | 1290/1459 [02:38<00:21,  7.75it/s]"
     ]
    },
    {
     "name": "stdout",
     "output_type": "stream",
     "text": [
      "batch 1288, R-squared: -2.188377954672889, MAE: 30.779722213745117, RMSE: 36.70875549316406\n",
      "batch 1289, R-squared: -3.4108844755199073, MAE: 23.675670623779297, RMSE: 26.00990867614746\n"
     ]
    },
    {
     "name": "stderr",
     "output_type": "stream",
     "text": [
      " 89%|█████████████████████████████████████████████████████████████████████████████████████████████████████████████████▎              | 1292/1459 [02:38<00:23,  7.05it/s]"
     ]
    },
    {
     "name": "stdout",
     "output_type": "stream",
     "text": [
      "batch 1290, R-squared: -2.276254143148261, MAE: 17.94098663330078, RMSE: 20.487682342529297\n",
      "batch 1291, R-squared: -1.8526015011173391, MAE: 16.371505737304688, RMSE: 19.969961166381836\n"
     ]
    },
    {
     "name": "stderr",
     "output_type": "stream",
     "text": [
      " 89%|█████████████████████████████████████████████████████████████████████████████████████████████████████████████████▌              | 1294/1459 [02:38<00:26,  6.32it/s]"
     ]
    },
    {
     "name": "stdout",
     "output_type": "stream",
     "text": [
      "batch 1292, R-squared: -2.2661023680858197, MAE: 12.495944023132324, RMSE: 14.224095344543457\n",
      "batch 1293, R-squared: -2.74935165910339, MAE: 24.45279884338379, RMSE: 28.34223747253418\n"
     ]
    },
    {
     "name": "stderr",
     "output_type": "stream",
     "text": [
      " 89%|█████████████████████████████████████████████████████████████████████████████████████████████████████████████████▋              | 1296/1459 [02:39<00:23,  6.82it/s]"
     ]
    },
    {
     "name": "stdout",
     "output_type": "stream",
     "text": [
      "batch 1294, R-squared: -1.7171298577183443, MAE: 15.579097747802734, RMSE: 20.10803985595703\n",
      "batch 1295, R-squared: -2.2814573447607303, MAE: 31.28582763671875, RMSE: 37.06575012207031\n"
     ]
    },
    {
     "name": "stderr",
     "output_type": "stream",
     "text": [
      " 89%|█████████████████████████████████████████████████████████████████████████████████████████████████████████████████▉              | 1298/1459 [02:39<00:22,  7.21it/s]"
     ]
    },
    {
     "name": "stdout",
     "output_type": "stream",
     "text": [
      "batch 1296, R-squared: -2.530431200633619, MAE: 21.438810348510742, RMSE: 24.24889373779297\n",
      "batch 1297, R-squared: -2.1173437951946807, MAE: 27.287933349609375, RMSE: 34.348873138427734\n"
     ]
    },
    {
     "name": "stderr",
     "output_type": "stream",
     "text": [
      " 89%|██████████████████████████████████████████████████████████████████████████████████████████████████████████████████              | 1300/1459 [02:39<00:21,  7.54it/s]"
     ]
    },
    {
     "name": "stdout",
     "output_type": "stream",
     "text": [
      "batch 1298, R-squared: -2.55406482582599, MAE: 41.35101318359375, RMSE: 48.728248596191406\n",
      "batch 1299, R-squared: -3.668162257797148, MAE: 24.0629825592041, RMSE: 26.010059356689453\n"
     ]
    },
    {
     "name": "stderr",
     "output_type": "stream",
     "text": [
      " 89%|██████████████████████████████████████████████████████████████████████████████████████████████████████████████████▏             | 1302/1459 [02:39<00:21,  7.42it/s]"
     ]
    },
    {
     "name": "stdout",
     "output_type": "stream",
     "text": [
      "batch 1300, R-squared: -1.9953997644322676, MAE: 21.327733993530273, RMSE: 25.311119079589844\n",
      "batch 1301, R-squared: -2.295261275288992, MAE: 27.708717346191406, RMSE: 29.929073333740234\n"
     ]
    },
    {
     "name": "stderr",
     "output_type": "stream",
     "text": [
      " 89%|██████████████████████████████████████████████████████████████████████████████████████████████████████████████████▍             | 1304/1459 [02:40<00:19,  8.03it/s]"
     ]
    },
    {
     "name": "stdout",
     "output_type": "stream",
     "text": [
      "batch 1302, R-squared: -2.6225944132658725, MAE: 33.18281555175781, RMSE: 37.693603515625\n",
      "batch 1303, R-squared: -2.9162642773835414, MAE: 13.944271087646484, RMSE: 15.433145523071289\n"
     ]
    },
    {
     "name": "stderr",
     "output_type": "stream",
     "text": [
      " 90%|██████████████████████████████████████████████████████████████████████████████████████████████████████████████████▌             | 1306/1459 [02:40<00:21,  7.13it/s]"
     ]
    },
    {
     "name": "stdout",
     "output_type": "stream",
     "text": [
      "batch 1304, R-squared: -1.0987500300041708, MAE: 17.01279067993164, RMSE: 21.269617080688477\n",
      "batch 1305, R-squared: -2.4067331783830834, MAE: 24.783952713012695, RMSE: 27.624008178710938\n"
     ]
    },
    {
     "name": "stderr",
     "output_type": "stream",
     "text": [
      " 90%|██████████████████████████████████████████████████████████████████████████████████████████████████████████████████▊             | 1308/1459 [02:40<00:19,  7.67it/s]"
     ]
    },
    {
     "name": "stdout",
     "output_type": "stream",
     "text": [
      "batch 1306, R-squared: -3.8800801953266872, MAE: 27.68375015258789, RMSE: 29.028602600097656\n",
      "batch 1307, R-squared: -2.1420611264384277, MAE: 21.862834930419922, RMSE: 27.591920852661133\n"
     ]
    },
    {
     "name": "stderr",
     "output_type": "stream",
     "text": [
      " 90%|██████████████████████████████████████████████████████████████████████████████████████████████████████████████████▉             | 1310/1459 [02:40<00:19,  7.70it/s]"
     ]
    },
    {
     "name": "stdout",
     "output_type": "stream",
     "text": [
      "batch 1308, R-squared: -4.000906673989731, MAE: 18.350770950317383, RMSE: 19.613378524780273\n",
      "batch 1309, R-squared: -2.8114837873310714, MAE: 21.055299758911133, RMSE: 22.655704498291016\n"
     ]
    },
    {
     "name": "stderr",
     "output_type": "stream",
     "text": [
      " 90%|███████████████████████████████████████████████████████████████████████████████████████████████████████████████████             | 1312/1459 [02:41<00:18,  7.86it/s]"
     ]
    },
    {
     "name": "stdout",
     "output_type": "stream",
     "text": [
      "batch 1310, R-squared: -2.2872834888326583, MAE: 26.841930389404297, RMSE: 34.894737243652344\n",
      "batch 1311, R-squared: -2.5618333225377574, MAE: 20.2145938873291, RMSE: 22.322437286376953\n",
      "batch 1312, R-squared: -3.6127103865834784, MAE: 17.544235229492188, RMSE: 19.294607162475586\n"
     ]
    },
    {
     "name": "stderr",
     "output_type": "stream",
     "text": [
      "\r",
      " 90%|███████████████████████████████████████████████████████████████████████████████████████████████████████████████████▎            | 1314/1459 [02:41<00:19,  7.48it/s]"
     ]
    },
    {
     "name": "stdout",
     "output_type": "stream",
     "text": [
      "batch 1313, R-squared: -2.8160185067404866, MAE: 33.03112030029297, RMSE: 36.289329528808594\n",
      "batch 1314, R-squared: -1.9795307141714686, MAE: 16.95395278930664, RMSE: 21.3741455078125\n"
     ]
    },
    {
     "name": "stderr",
     "output_type": "stream",
     "text": [
      " 90%|███████████████████████████████████████████████████████████████████████████████████████████████████████████████████▌            | 1317/1459 [02:41<00:17,  8.05it/s]"
     ]
    },
    {
     "name": "stdout",
     "output_type": "stream",
     "text": [
      "batch 1315, R-squared: -2.620685679607074, MAE: 18.08681869506836, RMSE: 20.06938362121582\n",
      "batch 1316, R-squared: -2.4601585755580215, MAE: 22.228628158569336, RMSE: 25.641639709472656\n"
     ]
    },
    {
     "name": "stderr",
     "output_type": "stream",
     "text": [
      " 90%|███████████████████████████████████████████████████████████████████████████████████████████████████████████████████▋            | 1319/1459 [02:42<00:18,  7.77it/s]"
     ]
    },
    {
     "name": "stdout",
     "output_type": "stream",
     "text": [
      "batch 1317, R-squared: -3.2008282287345087, MAE: 29.11439323425293, RMSE: 32.61005401611328\n",
      "batch 1318, R-squared: -2.400640958777854, MAE: 19.38971519470215, RMSE: 20.773324966430664\n"
     ]
    },
    {
     "name": "stderr",
     "output_type": "stream",
     "text": [
      " 91%|███████████████████████████████████████████████████████████████████████████████████████████████████████████████████▉            | 1321/1459 [02:42<00:16,  8.12it/s]"
     ]
    },
    {
     "name": "stdout",
     "output_type": "stream",
     "text": [
      "batch 1319, R-squared: -2.776312078820848, MAE: 18.41351318359375, RMSE: 21.74631690979004\n",
      "batch 1320, R-squared: -2.0666029423196197, MAE: 20.517425537109375, RMSE: 23.352602005004883\n",
      "batch 1321, R-squared: -3.041810136633754, MAE: 14.003707885742188, RMSE: 15.29465389251709\n"
     ]
    },
    {
     "name": "stderr",
     "output_type": "stream",
     "text": [
      " 91%|████████████████████████████████████████████████████████████████████████████████████████████████████████████████████▏           | 1324/1459 [02:42<00:15,  8.75it/s]"
     ]
    },
    {
     "name": "stdout",
     "output_type": "stream",
     "text": [
      "batch 1322, R-squared: -3.2420586261980997, MAE: 18.84836769104004, RMSE: 20.948383331298828\n",
      "batch 1323, R-squared: -3.1789898818916122, MAE: 25.6071834564209, RMSE: 28.20576286315918\n"
     ]
    },
    {
     "name": "stderr",
     "output_type": "stream",
     "text": [
      " 91%|████████████████████████████████████████████████████████████████████████████████████████████████████████████████████▎           | 1326/1459 [02:42<00:15,  8.50it/s]"
     ]
    },
    {
     "name": "stdout",
     "output_type": "stream",
     "text": [
      "batch 1324, R-squared: -4.428185316051587, MAE: 27.090797424316406, RMSE: 29.02965545654297\n",
      "batch 1325, R-squared: -2.817909166618584, MAE: 19.75360870361328, RMSE: 23.157169342041016\n"
     ]
    },
    {
     "name": "stderr",
     "output_type": "stream",
     "text": [
      " 91%|████████████████████████████████████████████████████████████████████████████████████████████████████████████████████▌           | 1328/1459 [02:43<00:15,  8.71it/s]"
     ]
    },
    {
     "name": "stdout",
     "output_type": "stream",
     "text": [
      "batch 1326, R-squared: -1.864895380286737, MAE: 21.05415916442871, RMSE: 23.640155792236328\n",
      "batch 1327, R-squared: -2.8054567875425698, MAE: 22.223064422607422, RMSE: 26.031126022338867\n",
      "batch 1328, R-squared: -2.374190206829463, MAE: 23.174877166748047, RMSE: 24.48522186279297\n"
     ]
    },
    {
     "name": "stderr",
     "output_type": "stream",
     "text": [
      " 91%|████████████████████████████████████████████████████████████████████████████████████████████████████████████████████▊           | 1331/1459 [02:43<00:13,  9.29it/s]"
     ]
    },
    {
     "name": "stdout",
     "output_type": "stream",
     "text": [
      "batch 1329, R-squared: -3.5193798526415376, MAE: 23.688262939453125, RMSE: 26.015832901000977\n",
      "batch 1330, R-squared: -1.8679181127971978, MAE: 28.727725982666016, RMSE: 35.8170166015625\n"
     ]
    },
    {
     "name": "stderr",
     "output_type": "stream",
     "text": [
      " 91%|████████████████████████████████████████████████████████████████████████████████████████████████████████████████████▉           | 1333/1459 [02:43<00:13,  9.02it/s]"
     ]
    },
    {
     "name": "stdout",
     "output_type": "stream",
     "text": [
      "batch 1331, R-squared: -3.0870168846059975, MAE: 20.21255874633789, RMSE: 23.457706451416016\n",
      "batch 1332, R-squared: -2.496898544096884, MAE: 34.397151947021484, RMSE: 41.95319366455078\n"
     ]
    },
    {
     "name": "stderr",
     "output_type": "stream",
     "text": [
      "\r",
      " 92%|█████████████████████████████████████████████████████████████████████████████████████████████████████████████████████           | 1335/1459 [02:43<00:14,  8.77it/s]"
     ]
    },
    {
     "name": "stdout",
     "output_type": "stream",
     "text": [
      "batch 1333, R-squared: -2.5037800365169374, MAE: 24.970853805541992, RMSE: 27.505674362182617\n",
      "batch 1334, R-squared: -2.101135310803068, MAE: 22.329191207885742, RMSE: 25.809764862060547\n"
     ]
    },
    {
     "name": "stderr",
     "output_type": "stream",
     "text": [
      " 92%|█████████████████████████████████████████████████████████████████████████████████████████████████████████████████████▎          | 1337/1459 [02:44<00:13,  8.72it/s]"
     ]
    },
    {
     "name": "stdout",
     "output_type": "stream",
     "text": [
      "batch 1335, R-squared: -3.4471993183689946, MAE: 17.92599868774414, RMSE: 19.816497802734375\n",
      "batch 1336, R-squared: -3.029122299989782, MAE: 27.91524887084961, RMSE: 30.623348236083984\n",
      "batch 1337, R-squared: -2.119463663646486, MAE: 26.056774139404297, RMSE: 31.28270721435547\n"
     ]
    },
    {
     "name": "stderr",
     "output_type": "stream",
     "text": [
      "\r",
      " 92%|█████████████████████████████████████████████████████████████████████████████████████████████████████████████████████▍          | 1339/1459 [02:44<00:13,  9.14it/s]"
     ]
    },
    {
     "name": "stdout",
     "output_type": "stream",
     "text": [
      "batch 1338, R-squared: -1.7453809276450611, MAE: 25.011459350585938, RMSE: 28.69203758239746\n",
      "batch 1339, R-squared: -2.4242093594814387, MAE: 30.15769386291504, RMSE: 32.952030181884766\n"
     ]
    },
    {
     "name": "stderr",
     "output_type": "stream",
     "text": [
      " 92%|█████████████████████████████████████████████████████████████████████████████████████████████████████████████████████▋          | 1342/1459 [02:44<00:13,  8.78it/s]"
     ]
    },
    {
     "name": "stdout",
     "output_type": "stream",
     "text": [
      "batch 1340, R-squared: -1.9696058291190477, MAE: 18.750446319580078, RMSE: 23.67599868774414\n",
      "batch 1341, R-squared: -2.8518106295540644, MAE: 28.41008949279785, RMSE: 30.998085021972656\n"
     ]
    },
    {
     "name": "stderr",
     "output_type": "stream",
     "text": [
      " 92%|█████████████████████████████████████████████████████████████████████████████████████████████████████████████████████▉          | 1344/1459 [02:44<00:13,  8.38it/s]"
     ]
    },
    {
     "name": "stdout",
     "output_type": "stream",
     "text": [
      "batch 1342, R-squared: -3.050758361576204, MAE: 20.616512298583984, RMSE: 22.790475845336914\n",
      "batch 1343, R-squared: -1.9994144756974412, MAE: 21.967058181762695, RMSE: 25.785812377929688\n"
     ]
    },
    {
     "name": "stderr",
     "output_type": "stream",
     "text": [
      " 92%|██████████████████████████████████████████████████████████████████████████████████████████████████████████████████████          | 1346/1459 [02:45<00:14,  7.89it/s]"
     ]
    },
    {
     "name": "stdout",
     "output_type": "stream",
     "text": [
      "batch 1344, R-squared: -4.666188079093345, MAE: 19.316804885864258, RMSE: 21.03451919555664\n",
      "batch 1345, R-squared: -2.759479877923307, MAE: 17.089603424072266, RMSE: 18.654640197753906\n"
     ]
    },
    {
     "name": "stderr",
     "output_type": "stream",
     "text": [
      " 92%|██████████████████████████████████████████████████████████████████████████████████████████████████████████████████████▎         | 1348/1459 [02:45<00:15,  7.00it/s]"
     ]
    },
    {
     "name": "stdout",
     "output_type": "stream",
     "text": [
      "batch 1346, R-squared: -3.189890401188572, MAE: 17.512470245361328, RMSE: 19.497539520263672\n",
      "batch 1347, R-squared: -3.1642392912040447, MAE: 27.969364166259766, RMSE: 30.527313232421875\n"
     ]
    },
    {
     "name": "stderr",
     "output_type": "stream",
     "text": [
      " 93%|██████████████████████████████████████████████████████████████████████████████████████████████████████████████████████▍         | 1350/1459 [02:45<00:15,  7.14it/s]"
     ]
    },
    {
     "name": "stdout",
     "output_type": "stream",
     "text": [
      "batch 1348, R-squared: -3.9404844483763126, MAE: 28.09967803955078, RMSE: 29.545366287231445\n",
      "batch 1349, R-squared: -2.4653923230231882, MAE: 26.651016235351562, RMSE: 31.332427978515625\n"
     ]
    },
    {
     "name": "stderr",
     "output_type": "stream",
     "text": [
      " 93%|██████████████████████████████████████████████████████████████████████████████████████████████████████████████████████▌         | 1352/1459 [02:46<00:14,  7.44it/s]"
     ]
    },
    {
     "name": "stdout",
     "output_type": "stream",
     "text": [
      "batch 1350, R-squared: -2.2254814345509994, MAE: 19.826644897460938, RMSE: 23.15084457397461\n",
      "batch 1351, R-squared: -3.30486881748965, MAE: 20.506315231323242, RMSE: 21.435871124267578\n"
     ]
    },
    {
     "name": "stderr",
     "output_type": "stream",
     "text": [
      " 93%|██████████████████████████████████████████████████████████████████████████████████████████████████████████████████████▊         | 1354/1459 [02:46<00:15,  6.87it/s]"
     ]
    },
    {
     "name": "stdout",
     "output_type": "stream",
     "text": [
      "batch 1352, R-squared: -3.753836198812163, MAE: 17.53031349182129, RMSE: 19.049057006835938\n",
      "batch 1353, R-squared: -2.645963333164619, MAE: 21.066484451293945, RMSE: 22.858047485351562\n"
     ]
    },
    {
     "name": "stderr",
     "output_type": "stream",
     "text": [
      " 93%|███████████████████████████████████████████████████████████████████████████████████████████████████████████████████████         | 1357/1459 [02:46<00:13,  7.71it/s]"
     ]
    },
    {
     "name": "stdout",
     "output_type": "stream",
     "text": [
      "batch 1354, R-squared: -3.092264088161868, MAE: 20.35633087158203, RMSE: 22.29137420654297\n",
      "batch 1355, R-squared: -1.807378915655134, MAE: 24.028297424316406, RMSE: 30.56771469116211\n",
      "batch 1356, R-squared: -2.2287365316085843, MAE: 17.128376007080078, RMSE: 19.441823959350586\n"
     ]
    },
    {
     "name": "stderr",
     "output_type": "stream",
     "text": [
      " 93%|███████████████████████████████████████████████████████████████████████████████████████████████████████████████████████▏        | 1359/1459 [02:46<00:13,  7.43it/s]"
     ]
    },
    {
     "name": "stdout",
     "output_type": "stream",
     "text": [
      "batch 1357, R-squared: -2.545923259505084, MAE: 16.084056854248047, RMSE: 18.07086753845215\n",
      "batch 1358, R-squared: -1.7759914944615685, MAE: 23.331409454345703, RMSE: 28.825912475585938\n"
     ]
    },
    {
     "name": "stderr",
     "output_type": "stream",
     "text": [
      " 93%|███████████████████████████████████████████████████████████████████████████████████████████████████████████████████████▍        | 1361/1459 [02:47<00:12,  7.75it/s]"
     ]
    },
    {
     "name": "stdout",
     "output_type": "stream",
     "text": [
      "batch 1359, R-squared: -3.6401555744006666, MAE: 22.984174728393555, RMSE: 25.27019500732422\n",
      "batch 1360, R-squared: -2.033621315178439, MAE: 24.394596099853516, RMSE: 28.456769943237305\n"
     ]
    },
    {
     "name": "stderr",
     "output_type": "stream",
     "text": [
      " 93%|███████████████████████████████████████████████████████████████████████████████████████████████████████████████████████▌        | 1363/1459 [02:47<00:12,  7.53it/s]"
     ]
    },
    {
     "name": "stdout",
     "output_type": "stream",
     "text": [
      "batch 1361, R-squared: -2.1813453008953796, MAE: 21.797626495361328, RMSE: 26.439334869384766\n",
      "batch 1362, R-squared: -1.974566731618724, MAE: 19.24545669555664, RMSE: 20.982009887695312\n"
     ]
    },
    {
     "name": "stderr",
     "output_type": "stream",
     "text": [
      " 94%|███████████████████████████████████████████████████████████████████████████████████████████████████████████████████████▊        | 1365/1459 [02:47<00:12,  7.26it/s]"
     ]
    },
    {
     "name": "stdout",
     "output_type": "stream",
     "text": [
      "batch 1363, R-squared: -3.955301446829567, MAE: 28.328584671020508, RMSE: 30.67327880859375\n",
      "batch 1364, R-squared: -2.364714008557796, MAE: 18.24546241760254, RMSE: 20.80702018737793\n"
     ]
    },
    {
     "name": "stderr",
     "output_type": "stream",
     "text": [
      " 94%|███████████████████████████████████████████████████████████████████████████████████████████████████████████████████████▉        | 1367/1459 [02:48<00:11,  7.74it/s]"
     ]
    },
    {
     "name": "stdout",
     "output_type": "stream",
     "text": [
      "batch 1365, R-squared: -2.1220939995488983, MAE: 23.49734878540039, RMSE: 27.46949005126953\n",
      "batch 1366, R-squared: -2.937345522891909, MAE: 18.219526290893555, RMSE: 20.235595703125\n"
     ]
    },
    {
     "name": "stderr",
     "output_type": "stream",
     "text": [
      " 94%|████████████████████████████████████████████████████████████████████████████████████████████████████████████████████████        | 1369/1459 [02:48<00:11,  8.08it/s]"
     ]
    },
    {
     "name": "stdout",
     "output_type": "stream",
     "text": [
      "batch 1367, R-squared: -2.6136726851536753, MAE: 37.11967468261719, RMSE: 39.76621627807617\n",
      "batch 1368, R-squared: -1.9867129833491535, MAE: 26.14451026916504, RMSE: 30.74449920654297\n"
     ]
    },
    {
     "name": "stderr",
     "output_type": "stream",
     "text": [
      " 94%|████████████████████████████████████████████████████████████████████████████████████████████████████████████████████████▎       | 1371/1459 [02:48<00:10,  8.56it/s]"
     ]
    },
    {
     "name": "stdout",
     "output_type": "stream",
     "text": [
      "batch 1369, R-squared: -2.746835738711742, MAE: 27.263593673706055, RMSE: 29.368087768554688\n",
      "batch 1370, R-squared: -3.145125004086324, MAE: 28.73187828063965, RMSE: 31.73522186279297\n"
     ]
    },
    {
     "name": "stderr",
     "output_type": "stream",
     "text": [
      " 94%|████████████████████████████████████████████████████████████████████████████████████████████████████████████████████████▍       | 1373/1459 [02:48<00:10,  7.96it/s]"
     ]
    },
    {
     "name": "stdout",
     "output_type": "stream",
     "text": [
      "batch 1371, R-squared: -3.8503174152608963, MAE: 29.767284393310547, RMSE: 31.96517562866211\n",
      "batch 1372, R-squared: -3.0653063752831433, MAE: 16.635982513427734, RMSE: 17.94158363342285\n"
     ]
    },
    {
     "name": "stderr",
     "output_type": "stream",
     "text": [
      " 94%|████████████████████████████████████████████████████████████████████████████████████████████████████████████████████████▋       | 1375/1459 [02:49<00:10,  7.74it/s]"
     ]
    },
    {
     "name": "stdout",
     "output_type": "stream",
     "text": [
      "batch 1373, R-squared: -2.0611950115882154, MAE: 24.382835388183594, RMSE: 28.924903869628906\n",
      "batch 1374, R-squared: -1.6133761176822288, MAE: 15.83219051361084, RMSE: 20.35332489013672\n"
     ]
    },
    {
     "name": "stderr",
     "output_type": "stream",
     "text": [
      " 94%|████████████████████████████████████████████████████████████████████████████████████████████████████████████████████████▊       | 1377/1459 [02:49<00:11,  7.43it/s]"
     ]
    },
    {
     "name": "stdout",
     "output_type": "stream",
     "text": [
      "batch 1375, R-squared: -3.3772066875941738, MAE: 28.566810607910156, RMSE: 31.298446655273438\n",
      "batch 1376, R-squared: -2.1795675766806117, MAE: 23.32205581665039, RMSE: 28.331798553466797\n"
     ]
    },
    {
     "name": "stderr",
     "output_type": "stream",
     "text": [
      " 95%|████████████████████████████████████████████████████████████████████████████████████████████████████████████████████████▉       | 1379/1459 [02:49<00:10,  7.89it/s]"
     ]
    },
    {
     "name": "stdout",
     "output_type": "stream",
     "text": [
      "batch 1377, R-squared: -2.0885128029275535, MAE: 17.9189395904541, RMSE: 20.428218841552734\n",
      "batch 1378, R-squared: -2.3345294289839793, MAE: 29.905818939208984, RMSE: 35.702117919921875\n"
     ]
    },
    {
     "name": "stderr",
     "output_type": "stream",
     "text": [
      " 95%|█████████████████████████████████████████████████████████████████████████████████████████████████████████████████████████▏      | 1381/1459 [02:49<00:09,  8.49it/s]"
     ]
    },
    {
     "name": "stdout",
     "output_type": "stream",
     "text": [
      "batch 1379, R-squared: -2.699464255942184, MAE: 24.647323608398438, RMSE: 29.313495635986328\n",
      "batch 1380, R-squared: -2.280780974554909, MAE: 16.214584350585938, RMSE: 18.970806121826172\n"
     ]
    },
    {
     "name": "stderr",
     "output_type": "stream",
     "text": [
      " 95%|█████████████████████████████████████████████████████████████████████████████████████████████████████████████████████████▎      | 1383/1459 [02:50<00:09,  8.29it/s]"
     ]
    },
    {
     "name": "stdout",
     "output_type": "stream",
     "text": [
      "batch 1381, R-squared: -1.8341367567164626, MAE: 33.97404479980469, RMSE: 42.577781677246094\n",
      "batch 1382, R-squared: -3.005541625242576, MAE: 18.853412628173828, RMSE: 21.130840301513672\n"
     ]
    },
    {
     "name": "stderr",
     "output_type": "stream",
     "text": [
      " 95%|█████████████████████████████████████████████████████████████████████████████████████████████████████████████████████████▌      | 1385/1459 [02:50<00:08,  8.31it/s]"
     ]
    },
    {
     "name": "stdout",
     "output_type": "stream",
     "text": [
      "batch 1383, R-squared: -3.1546231569167955, MAE: 25.474159240722656, RMSE: 27.111377716064453\n",
      "batch 1384, R-squared: -1.4852195737763365, MAE: 28.477230072021484, RMSE: 35.617034912109375\n"
     ]
    },
    {
     "name": "stderr",
     "output_type": "stream",
     "text": [
      " 95%|█████████████████████████████████████████████████████████████████████████████████████████████████████████████████████████▋      | 1387/1459 [02:50<00:08,  8.47it/s]"
     ]
    },
    {
     "name": "stdout",
     "output_type": "stream",
     "text": [
      "batch 1385, R-squared: -1.9127624823514624, MAE: 16.203899383544922, RMSE: 20.594623565673828\n",
      "batch 1386, R-squared: -2.0785985728250576, MAE: 34.03082275390625, RMSE: 40.326934814453125\n"
     ]
    },
    {
     "name": "stderr",
     "output_type": "stream",
     "text": [
      " 95%|█████████████████████████████████████████████████████████████████████████████████████████████████████████████████████████▊      | 1389/1459 [02:50<00:09,  7.52it/s]"
     ]
    },
    {
     "name": "stdout",
     "output_type": "stream",
     "text": [
      "batch 1387, R-squared: -2.369921207251416, MAE: 23.197725296020508, RMSE: 27.412250518798828\n",
      "batch 1388, R-squared: -2.6496213323634703, MAE: 21.845836639404297, RMSE: 26.115201950073242\n"
     ]
    },
    {
     "name": "stderr",
     "output_type": "stream",
     "text": [
      " 95%|██████████████████████████████████████████████████████████████████████████████████████████████████████████████████████████      | 1391/1459 [02:51<00:09,  7.50it/s]"
     ]
    },
    {
     "name": "stdout",
     "output_type": "stream",
     "text": [
      "batch 1389, R-squared: -2.4735902887798287, MAE: 18.730464935302734, RMSE: 22.44753646850586\n",
      "batch 1390, R-squared: -2.660871230740804, MAE: 18.14892578125, RMSE: 20.64027214050293\n"
     ]
    },
    {
     "name": "stderr",
     "output_type": "stream",
     "text": [
      " 96%|██████████████████████████████████████████████████████████████████████████████████████████████████████████████████████████▎     | 1394/1459 [02:51<00:07,  8.81it/s]"
     ]
    },
    {
     "name": "stdout",
     "output_type": "stream",
     "text": [
      "batch 1391, R-squared: -1.973929515152968, MAE: 23.76346206665039, RMSE: 30.401836395263672\n",
      "batch 1392, R-squared: -2.5000350509918676, MAE: 25.54432487487793, RMSE: 29.43570327758789\n",
      "batch 1393, R-squared: -2.118609503667993, MAE: 37.04423522949219, RMSE: 39.45082092285156\n"
     ]
    },
    {
     "name": "stderr",
     "output_type": "stream",
     "text": [
      "\r",
      " 96%|██████████████████████████████████████████████████████████████████████████████████████████████████████████████████████████▍     | 1395/1459 [02:51<00:07,  8.92it/s]"
     ]
    },
    {
     "name": "stdout",
     "output_type": "stream",
     "text": [
      "batch 1394, R-squared: -3.1933000783390164, MAE: 18.40101432800293, RMSE: 20.39436912536621\n",
      "batch 1395, R-squared: -2.7453751815839214, MAE: 12.942216873168945, RMSE: 14.949047088623047\n"
     ]
    },
    {
     "name": "stderr",
     "output_type": "stream",
     "text": [
      " 96%|██████████████████████████████████████████████████████████████████████████████████████████████████████████████████████████▋     | 1398/1459 [02:51<00:06,  8.76it/s]"
     ]
    },
    {
     "name": "stdout",
     "output_type": "stream",
     "text": [
      "batch 1396, R-squared: -4.111545791778028, MAE: 23.782264709472656, RMSE: 25.77225112915039\n",
      "batch 1397, R-squared: -2.629989987017916, MAE: 21.482810974121094, RMSE: 22.943462371826172\n"
     ]
    },
    {
     "name": "stderr",
     "output_type": "stream",
     "text": [
      " 96%|██████████████████████████████████████████████████████████████████████████████████████████████████████████████████████████▊     | 1400/1459 [02:52<00:07,  7.99it/s]"
     ]
    },
    {
     "name": "stdout",
     "output_type": "stream",
     "text": [
      "batch 1398, R-squared: -3.3589830885672525, MAE: 31.641151428222656, RMSE: 34.250267028808594\n",
      "batch 1399, R-squared: -2.863210446347235, MAE: 24.90955352783203, RMSE: 28.308847427368164\n"
     ]
    },
    {
     "name": "stderr",
     "output_type": "stream",
     "text": [
      " 96%|██████████████████████████████████████████████████████████████████████████████████████████████████████████████████████████▉     | 1402/1459 [02:52<00:07,  8.04it/s]"
     ]
    },
    {
     "name": "stdout",
     "output_type": "stream",
     "text": [
      "batch 1400, R-squared: -2.640188542300437, MAE: 24.010276794433594, RMSE: 28.15190887451172\n",
      "batch 1401, R-squared: -2.790369934078713, MAE: 30.86234474182129, RMSE: 36.90440368652344\n"
     ]
    },
    {
     "name": "stderr",
     "output_type": "stream",
     "text": [
      " 96%|███████████████████████████████████████████████████████████████████████████████████████████████████████████████████████████▏    | 1404/1459 [02:52<00:07,  7.50it/s]"
     ]
    },
    {
     "name": "stdout",
     "output_type": "stream",
     "text": [
      "batch 1402, R-squared: -2.5684060283564185, MAE: 12.012672424316406, RMSE: 14.784527778625488\n",
      "batch 1403, R-squared: -3.0769890437841294, MAE: 29.42430877685547, RMSE: 33.18949508666992\n"
     ]
    },
    {
     "name": "stderr",
     "output_type": "stream",
     "text": [
      " 96%|███████████████████████████████████████████████████████████████████████████████████████████████████████████████████████████▎    | 1406/1459 [02:52<00:07,  7.56it/s]"
     ]
    },
    {
     "name": "stdout",
     "output_type": "stream",
     "text": [
      "batch 1404, R-squared: -2.4448259927520484, MAE: 20.822202682495117, RMSE: 23.864192962646484\n",
      "batch 1405, R-squared: -1.7632946503542093, MAE: 16.787944793701172, RMSE: 20.03205108642578\n"
     ]
    },
    {
     "name": "stderr",
     "output_type": "stream",
     "text": [
      "\r",
      " 96%|███████████████████████████████████████████████████████████████████████████████████████████████████████████████████████████▍    | 1407/1459 [02:53<00:07,  6.60it/s]"
     ]
    },
    {
     "name": "stdout",
     "output_type": "stream",
     "text": [
      "batch 1406, R-squared: -2.023050821837608, MAE: 26.41131591796875, RMSE: 30.944957733154297\n",
      "batch 1407, R-squared: -2.939593898714538, MAE: 19.935373306274414, RMSE: 21.983083724975586\n"
     ]
    },
    {
     "name": "stderr",
     "output_type": "stream",
     "text": [
      " 97%|███████████████████████████████████████████████████████████████████████████████████████████████████████████████████████████▋    | 1410/1459 [02:53<00:06,  7.17it/s]"
     ]
    },
    {
     "name": "stdout",
     "output_type": "stream",
     "text": [
      "batch 1408, R-squared: -2.184761569448548, MAE: 19.700929641723633, RMSE: 22.614885330200195\n",
      "batch 1409, R-squared: -2.2151618982566537, MAE: 21.483476638793945, RMSE: 24.87818717956543\n"
     ]
    },
    {
     "name": "stderr",
     "output_type": "stream",
     "text": [
      " 97%|███████████████████████████████████████████████████████████████████████████████████████████████████████████████████████████▉    | 1412/1459 [02:53<00:06,  7.07it/s]"
     ]
    },
    {
     "name": "stdout",
     "output_type": "stream",
     "text": [
      "batch 1410, R-squared: -3.1430178682234335, MAE: 25.287662506103516, RMSE: 28.93511199951172\n",
      "batch 1411, R-squared: -2.7540649129129737, MAE: 17.32730484008789, RMSE: 19.794694900512695\n"
     ]
    },
    {
     "name": "stderr",
     "output_type": "stream",
     "text": [
      " 97%|████████████████████████████████████████████████████████████████████████████████████████████████████████████████████████████    | 1414/1459 [02:53<00:05,  7.95it/s]"
     ]
    },
    {
     "name": "stdout",
     "output_type": "stream",
     "text": [
      "batch 1412, R-squared: -2.5167467168716606, MAE: 13.160720825195312, RMSE: 15.609498977661133\n",
      "batch 1413, R-squared: -2.0723813843869627, MAE: 22.829967498779297, RMSE: 26.21190643310547\n"
     ]
    },
    {
     "name": "stderr",
     "output_type": "stream",
     "text": [
      " 97%|████████████████████████████████████████████████████████████████████████████████████████████████████████████████████████████▏   | 1416/1459 [02:54<00:05,  7.57it/s]"
     ]
    },
    {
     "name": "stdout",
     "output_type": "stream",
     "text": [
      "batch 1414, R-squared: -3.2716928387601794, MAE: 25.203176498413086, RMSE: 27.79637908935547\n",
      "batch 1415, R-squared: -3.0085570692853643, MAE: 18.515827178955078, RMSE: 20.062135696411133\n"
     ]
    },
    {
     "name": "stderr",
     "output_type": "stream",
     "text": [
      " 97%|████████████████████████████████████████████████████████████████████████████████████████████████████████████████████████████▍   | 1418/1459 [02:54<00:05,  7.76it/s]"
     ]
    },
    {
     "name": "stdout",
     "output_type": "stream",
     "text": [
      "batch 1416, R-squared: -3.066605592949388, MAE: 16.408100128173828, RMSE: 18.198848724365234\n",
      "batch 1417, R-squared: -3.4993069826724135, MAE: 22.691892623901367, RMSE: 25.061986923217773\n"
     ]
    },
    {
     "name": "stderr",
     "output_type": "stream",
     "text": [
      " 97%|████████████████████████████████████████████████████████████████████████████████████████████████████████████████████████████▌   | 1420/1459 [02:54<00:05,  7.51it/s]"
     ]
    },
    {
     "name": "stdout",
     "output_type": "stream",
     "text": [
      "batch 1418, R-squared: -3.6101798643413505, MAE: 15.748851776123047, RMSE: 17.24724006652832\n",
      "batch 1419, R-squared: -3.05701812857214, MAE: 19.224506378173828, RMSE: 21.681997299194336\n"
     ]
    },
    {
     "name": "stderr",
     "output_type": "stream",
     "text": [
      " 97%|████████████████████████████████████████████████████████████████████████████████████████████████████████████████████████████▊   | 1422/1459 [02:55<00:04,  8.25it/s]"
     ]
    },
    {
     "name": "stdout",
     "output_type": "stream",
     "text": [
      "batch 1420, R-squared: -3.5532547059320496, MAE: 28.362205505371094, RMSE: 31.235198974609375\n",
      "batch 1421, R-squared: -2.653229381962717, MAE: 22.396793365478516, RMSE: 26.296480178833008\n",
      "batch 1422, R-squared: -2.4516242658985075, MAE: 34.37210464477539, RMSE: 41.36835479736328\n"
     ]
    },
    {
     "name": "stderr",
     "output_type": "stream",
     "text": [
      " 98%|█████████████████████████████████████████████████████████████████████████████████████████████████████████████████████████████   | 1425/1459 [02:55<00:03,  9.18it/s]"
     ]
    },
    {
     "name": "stdout",
     "output_type": "stream",
     "text": [
      "batch 1423, R-squared: -1.7906316745346154, MAE: 14.490316390991211, RMSE: 17.6617374420166\n",
      "batch 1424, R-squared: -1.7203576479253369, MAE: 15.821273803710938, RMSE: 19.581058502197266\n"
     ]
    },
    {
     "name": "stderr",
     "output_type": "stream",
     "text": [
      " 98%|█████████████████████████████████████████████████████████████████████████████████████████████████████████████████████████████▏  | 1427/1459 [02:55<00:03,  8.83it/s]"
     ]
    },
    {
     "name": "stdout",
     "output_type": "stream",
     "text": [
      "batch 1425, R-squared: -1.8489957239503503, MAE: 15.062895774841309, RMSE: 17.750736236572266\n",
      "batch 1426, R-squared: -1.2123687205967548, MAE: 17.68046760559082, RMSE: 23.187429428100586\n"
     ]
    },
    {
     "name": "stderr",
     "output_type": "stream",
     "text": [
      " 98%|█████████████████████████████████████████████████████████████████████████████████████████████████████████████████████████████▎  | 1429/1459 [02:55<00:03,  8.89it/s]"
     ]
    },
    {
     "name": "stdout",
     "output_type": "stream",
     "text": [
      "batch 1427, R-squared: -3.914140480063087, MAE: 16.000747680664062, RMSE: 17.82915687561035\n",
      "batch 1428, R-squared: -2.649084212891587, MAE: 24.462881088256836, RMSE: 27.350101470947266\n"
     ]
    },
    {
     "name": "stderr",
     "output_type": "stream",
     "text": [
      " 98%|█████████████████████████████████████████████████████████████████████████████████████████████████████████████████████████████▌  | 1431/1459 [02:56<00:03,  8.43it/s]"
     ]
    },
    {
     "name": "stdout",
     "output_type": "stream",
     "text": [
      "batch 1429, R-squared: -3.393277424526527, MAE: 24.9537353515625, RMSE: 27.3051815032959\n",
      "batch 1430, R-squared: -2.912046413554379, MAE: 27.23292350769043, RMSE: 29.701526641845703\n"
     ]
    },
    {
     "name": "stderr",
     "output_type": "stream",
     "text": [
      " 98%|█████████████████████████████████████████████████████████████████████████████████████████████████████████████████████████████▋  | 1433/1459 [02:56<00:03,  8.48it/s]"
     ]
    },
    {
     "name": "stdout",
     "output_type": "stream",
     "text": [
      "batch 1431, R-squared: -3.3525787734669206, MAE: 22.693195343017578, RMSE: 25.21988296508789\n",
      "batch 1432, R-squared: -2.64513978204107, MAE: 12.98338794708252, RMSE: 15.03653621673584\n"
     ]
    },
    {
     "name": "stderr",
     "output_type": "stream",
     "text": [
      " 98%|█████████████████████████████████████████████████████████████████████████████████████████████████████████████████████████████▉  | 1435/1459 [02:56<00:02,  8.40it/s]"
     ]
    },
    {
     "name": "stdout",
     "output_type": "stream",
     "text": [
      "batch 1433, R-squared: -2.5843842027546833, MAE: 24.812671661376953, RMSE: 30.046401977539062\n",
      "batch 1434, R-squared: -2.4181117483312367, MAE: 9.681029319763184, RMSE: 11.304101943969727\n"
     ]
    },
    {
     "name": "stderr",
     "output_type": "stream",
     "text": [
      " 98%|██████████████████████████████████████████████████████████████████████████████████████████████████████████████████████████████  | 1437/1459 [02:56<00:02,  8.71it/s]"
     ]
    },
    {
     "name": "stdout",
     "output_type": "stream",
     "text": [
      "batch 1435, R-squared: -2.9435332245576085, MAE: 22.300113677978516, RMSE: 24.81031036376953\n",
      "batch 1436, R-squared: -2.8530409928694893, MAE: 24.839113235473633, RMSE: 27.23959732055664\n"
     ]
    },
    {
     "name": "stderr",
     "output_type": "stream",
     "text": [
      " 99%|██████████████████████████████████████████████████████████████████████████████████████████████████████████████████████████████▏ | 1439/1459 [02:56<00:02,  7.85it/s]"
     ]
    },
    {
     "name": "stdout",
     "output_type": "stream",
     "text": [
      "batch 1437, R-squared: -2.223368321215429, MAE: 21.107975006103516, RMSE: 22.392757415771484\n",
      "batch 1438, R-squared: -2.4338929858981864, MAE: 22.60818862915039, RMSE: 25.567529678344727\n"
     ]
    },
    {
     "name": "stderr",
     "output_type": "stream",
     "text": [
      " 99%|██████████████████████████████████████████████████████████████████████████████████████████████████████████████████████████████▍ | 1441/1459 [02:57<00:02,  8.34it/s]"
     ]
    },
    {
     "name": "stdout",
     "output_type": "stream",
     "text": [
      "batch 1439, R-squared: -1.8213369597822266, MAE: 25.94516944885254, RMSE: 30.517684936523438\n",
      "batch 1440, R-squared: -2.304895479517244, MAE: 13.645356178283691, RMSE: 16.810710906982422\n"
     ]
    },
    {
     "name": "stderr",
     "output_type": "stream",
     "text": [
      " 99%|██████████████████████████████████████████████████████████████████████████████████████████████████████████████████████████████▌ | 1443/1459 [02:57<00:01,  8.09it/s]"
     ]
    },
    {
     "name": "stdout",
     "output_type": "stream",
     "text": [
      "batch 1441, R-squared: -3.049416374218174, MAE: 23.05010223388672, RMSE: 25.21660041809082\n",
      "batch 1442, R-squared: -2.1726543662939686, MAE: 27.756603240966797, RMSE: 33.72633361816406\n"
     ]
    },
    {
     "name": "stderr",
     "output_type": "stream",
     "text": [
      "\r",
      " 99%|██████████████████████████████████████████████████████████████████████████████████████████████████████████████████████████████▊ | 1445/1459 [02:57<00:01,  8.10it/s]"
     ]
    },
    {
     "name": "stdout",
     "output_type": "stream",
     "text": [
      "batch 1443, R-squared: -2.2053329899844374, MAE: 18.341325759887695, RMSE: 22.305818557739258\n",
      "batch 1444, R-squared: -2.1124413260193107, MAE: 18.6420841217041, RMSE: 22.034744262695312\n"
     ]
    },
    {
     "name": "stderr",
     "output_type": "stream",
     "text": [
      " 99%|██████████████████████████████████████████████████████████████████████████████████████████████████████████████████████████████▉ | 1447/1459 [02:57<00:01,  7.92it/s]"
     ]
    },
    {
     "name": "stdout",
     "output_type": "stream",
     "text": [
      "batch 1445, R-squared: -1.3295401677662757, MAE: 26.265308380126953, RMSE: 33.46889877319336\n",
      "batch 1446, R-squared: -1.8519107916361666, MAE: 15.736003875732422, RMSE: 19.72588539123535\n"
     ]
    },
    {
     "name": "stderr",
     "output_type": "stream",
     "text": [
      " 99%|███████████████████████████████████████████████████████████████████████████████████████████████████████████████████████████████ | 1449/1459 [02:58<00:01,  7.68it/s]"
     ]
    },
    {
     "name": "stdout",
     "output_type": "stream",
     "text": [
      "batch 1447, R-squared: -2.9595970579469064, MAE: 12.696783065795898, RMSE: 14.144011497497559\n",
      "batch 1448, R-squared: -4.039960239290426, MAE: 21.88609504699707, RMSE: 23.19005584716797\n"
     ]
    },
    {
     "name": "stderr",
     "output_type": "stream",
     "text": [
      "\r",
      " 99%|███████████████████████████████████████████████████████████████████████████████████████████████████████████████████████████████▏| 1450/1459 [02:58<00:01,  7.46it/s]"
     ]
    },
    {
     "name": "stdout",
     "output_type": "stream",
     "text": [
      "batch 1449, R-squared: -2.2923442896570827, MAE: 20.158151626586914, RMSE: 23.93874740600586\n",
      "batch 1450, R-squared: -2.6760480845743024, MAE: 35.58293151855469, RMSE: 39.488548278808594\n"
     ]
    },
    {
     "name": "stderr",
     "output_type": "stream",
     "text": [
      "100%|███████████████████████████████████████████████████████████████████████████████████████████████████████████████████████████████▍| 1453/1459 [02:58<00:00,  8.12it/s]"
     ]
    },
    {
     "name": "stdout",
     "output_type": "stream",
     "text": [
      "batch 1451, R-squared: -3.284198063943207, MAE: 19.63158416748047, RMSE: 21.937644958496094\n",
      "batch 1452, R-squared: -2.323920832140135, MAE: 19.452640533447266, RMSE: 23.12071990966797\n"
     ]
    },
    {
     "name": "stderr",
     "output_type": "stream",
     "text": [
      "100%|███████████████████████████████████████████████████████████████████████████████████████████████████████████████████████████████▋| 1455/1459 [02:59<00:00,  7.46it/s]"
     ]
    },
    {
     "name": "stdout",
     "output_type": "stream",
     "text": [
      "batch 1453, R-squared: -2.600927274490672, MAE: 26.25065803527832, RMSE: 28.427967071533203\n",
      "batch 1454, R-squared: -2.6992284263341877, MAE: 18.904329299926758, RMSE: 21.58231544494629\n"
     ]
    },
    {
     "name": "stderr",
     "output_type": "stream",
     "text": [
      "\r",
      "100%|███████████████████████████████████████████████████████████████████████████████████████████████████████████████████████████████▊| 1457/1459 [02:59<00:00,  8.09it/s]"
     ]
    },
    {
     "name": "stdout",
     "output_type": "stream",
     "text": [
      "batch 1455, R-squared: -3.0438800518015845, MAE: 24.654865264892578, RMSE: 27.100933074951172\n",
      "batch 1456, R-squared: -3.044474390304086, MAE: 26.75145721435547, RMSE: 29.516895294189453\n"
     ]
    },
    {
     "name": "stderr",
     "output_type": "stream",
     "text": [
      "100%|████████████████████████████████████████████████████████████████████████████████████████████████████████████████████████████████| 1459/1459 [02:59<00:00,  8.13it/s]\n"
     ]
    },
    {
     "name": "stdout",
     "output_type": "stream",
     "text": [
      "batch 1457, R-squared: -2.7744323535431743, MAE: 23.839500427246094, RMSE: 27.467998504638672\n",
      "batch 1458, R-squared: -3.8511723946466256, MAE: 25.858417510986328, RMSE: 28.7801456451416\n",
      "validation loss: 2.882406635591639, R-squared: -2.747897024181441, MAE: 22.214298248291016, RMSE: 25.326269149780273\n",
      "=====Epoch 2\n",
      "Training...\n"
     ]
    },
    {
     "name": "stderr",
     "output_type": "stream",
     "text": [
      " 13%|████████████████▎                                                                                                              | 1680/13125 [05:16<31:38,  6.03it/s]"
     ]
    }
   ],
   "source": [
    "from sklearn.metrics import r2_score, mean_absolute_error, mean_squared_error\n",
    "\n",
    "expression_model = DeepSynergy(D_in=700,\n",
    "                                   H1=500, H2=400,D_out = 4, drop=0.4).to(device=device)\n",
    "criterion = nn.MSELoss()\n",
    "optimizer = torch.optim.SGD(expression_model.parameters(), lr=0.00001)#old lr = 0.03\n",
    "\n",
    "train_losses, val_losses = [], []\n",
    "\n",
    "for epoch in range(tp[\"num_epochs\"]):\n",
    "    print(\"=====Epoch {}\".format(epoch))\n",
    "    print('Training...')\n",
    "    \n",
    "    \n",
    "    for m, m_name in models:\n",
    "        m.train()\n",
    "\n",
    "    for i_batch, batch in enumerate(tqdm(train_loader)):\n",
    "        #batch = batch.to(device_gpu)\n",
    "        \n",
    "        optimizer.zero_grad()\n",
    "        \n",
    "        h_a = gnn_model(batch.x_a, batch.edge_index_a, batch.edge_attr_a, batch.x_a_batch)\n",
    "        h_b = gnn_model(batch.x_b, batch.edge_index_b, batch.edge_attr_b, batch.x_b_batch)\n",
    "\n",
    "        h_e = expression_scaler.transform_ondevice(batch.expression, device=device) \n",
    "        \n",
    "        #concatenate Za (drug a), Zb (drug b) and the expression vector scaled\n",
    "        triplet = torch.cat([h_a, h_b, h_e], axis=-1)\n",
    "\n",
    "        output = expression_model(triplet)\n",
    "        #print(output)\n",
    "        #print(batch.y.type(torch.float))\n",
    "        \n",
    "        mean = torch.mean(batch.y, dim=0)\n",
    "        std = torch.std(batch.y, dim=0)\n",
    "        normalized_y = (batch.y - mean) / std\n",
    "        #print(normalized_y)\n",
    "        \n",
    "        loss = criterion(output, normalized_y.type(torch.float))\n",
    "        #print(loss)\n",
    "        loss.backward() #Derives gradients\n",
    "        optimizer.step() #Update parameters based on gradients \n",
    "        optimizer.zero_grad()  # Clear gradients.\n",
    "        \n",
    "        \n",
    "        train_losses.append(loss.item())\n",
    "        \n",
    "    \n",
    "    \n",
    "    print(f'epoch {epoch + 1}, loss {loss}')\n",
    "    \n",
    "    \n",
    "    with torch.no_grad():\n",
    "        expression_model.eval()\n",
    "        val_losses = []\n",
    "        r2_scores = []\n",
    "        mae_scores = []\n",
    "        rmse_scores = []\n",
    "\n",
    "        for i_batch, batch in enumerate(tqdm(valid_loader)):\n",
    "            h_a = gnn_model(batch.x_a, batch.edge_index_a, batch.edge_attr_a, batch.x_a_batch)\n",
    "            h_b = gnn_model(batch.x_b, batch.edge_index_b, batch.edge_attr_b, batch.x_b_batch)\n",
    "            h_e = expression_scaler.transform_ondevice(batch.expression, device=device)\n",
    "            triplet = torch.cat([h_a, h_b, h_e], axis=-1)\n",
    "            output = expression_model(triplet)\n",
    "\n",
    "            mean = torch.mean(batch.y, dim=0)\n",
    "            std = torch.std(batch.y, dim=0)\n",
    "            normalized_y = (batch.y - mean) / std\n",
    "            \n",
    "            loss = criterion(output, normalized_y.type(torch.float))\n",
    "            val_losses.append(loss.item())\n",
    "\n",
    "            normalized_y_pred = output.detach().cpu().numpy() * std.numpy() + mean.numpy()\n",
    "            normalized_y_true = normalized_y.cpu().numpy() * std.numpy()\n",
    "\n",
    "            r2 = r2_score(normalized_y_true, normalized_y_pred)\n",
    "            mae = mean_absolute_error(normalized_y_true, normalized_y_pred)\n",
    "            rmse = mean_squared_error(normalized_y_true, normalized_y_pred, squared=False)\n",
    "\n",
    "            r2_scores.append(r2)\n",
    "            mae_scores.append(mae)\n",
    "            rmse_scores.append(rmse)\n",
    "\n",
    "            print(f'batch {i_batch}, R-squared: {r2}, MAE: {mae}, RMSE: {rmse}')\n",
    "            \n",
    "        avg_val_loss = np.mean(val_losses)\n",
    "        avg_r2 = np.mean(r2_scores)\n",
    "        avg_mae = np.mean(mae_scores)\n",
    "        avg_rmse = np.mean(rmse_scores)\n",
    "        print(f'validation loss: {avg_val_loss}, R-squared: {avg_r2}, MAE: {avg_mae}, RMSE: {avg_rmse}')\n",
    "\n"
   ]
  },
  {
   "cell_type": "code",
   "execution_count": null,
   "id": "d57c3238",
   "metadata": {},
   "outputs": [],
   "source": []
  },
  {
   "cell_type": "code",
   "execution_count": null,
   "id": "fe5d5a57",
   "metadata": {},
   "outputs": [],
   "source": []
  },
  {
   "cell_type": "code",
   "execution_count": null,
   "id": "8d320633",
   "metadata": {},
   "outputs": [],
   "source": []
  },
  {
   "cell_type": "code",
   "execution_count": null,
   "id": "44b70191",
   "metadata": {},
   "outputs": [],
   "source": []
  }
 ],
 "metadata": {
  "kernelspec": {
   "display_name": "Python 3 (ipykernel)",
   "language": "python",
   "name": "python3"
  },
  "language_info": {
   "codemirror_mode": {
    "name": "ipython",
    "version": 3
   },
   "file_extension": ".py",
   "mimetype": "text/x-python",
   "name": "python",
   "nbconvert_exporter": "python",
   "pygments_lexer": "ipython3",
   "version": "3.9.13"
  }
 },
 "nbformat": 4,
 "nbformat_minor": 5
}
